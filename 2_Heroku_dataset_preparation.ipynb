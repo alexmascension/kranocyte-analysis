{
 "cells": [
  {
   "cell_type": "code",
   "execution_count": null,
   "id": "2e9c3ca0-219e-47cf-bad3-920610fcf774",
   "metadata": {},
   "outputs": [],
   "source": [
    "import scanpy as sc\n",
    "import scanpy.external as sce\n",
    "import pandas as pd\n",
    "import numpy as np\n",
    "import os\n",
    "import triku as tk\n",
    "import matplotlib.pyplot as plt\n",
    "import matplotlib as mpl\n",
    "from tqdm.notebook import tqdm\n",
    "import ray\n",
    "import subprocess\n",
    "from scipy.sparse import csr_matrix\n",
    "from IPython.display import display, HTML\n",
    "\n",
    "from tqdm.notebook import tqdm\n",
    "\n",
    "from bokeh.io import show, output_notebook, reset_output\n",
    "\n",
    "reset_output()\n",
    "output_notebook()"
   ]
  },
  {
   "cell_type": "markdown",
   "id": "35009def-9078-476c-9b7e-82872756051f",
   "metadata": {},
   "source": [
    "# Loading full datasets"
   ]
  },
  {
   "cell_type": "code",
   "execution_count": null,
   "id": "20996e4a-a59f-498a-aeac-34cbb5924995",
   "metadata": {},
   "outputs": [],
   "source": [
    "adata_oprescu_d0 = sc.read('data/processed/oprescu_d0.h5')"
   ]
  },
  {
   "cell_type": "code",
   "execution_count": null,
   "id": "bb87a604-f4ab-4b7d-82f0-ed2e88258b6c",
   "metadata": {},
   "outputs": [],
   "source": [
    "adata_scott_d0 = sc.read('data/processed/scott_d0.h5')"
   ]
  },
  {
   "cell_type": "code",
   "execution_count": null,
   "id": "7e4739cc-ff47-4c53-8b58-b35191e50899",
   "metadata": {},
   "outputs": [],
   "source": [
    "adata_de_micheli_mouse_d0 = sc.read('data/processed/de_micheli_mouse_d0.h5')"
   ]
  },
  {
   "cell_type": "code",
   "execution_count": null,
   "id": "eb771777-f6d5-4c17-8483-287a12f8fd96",
   "metadata": {},
   "outputs": [],
   "source": [
    "adata_giordani = sc.read('data/processed/giordani.h5')"
   ]
  },
  {
   "cell_type": "code",
   "execution_count": null,
   "id": "e51be589-d5fe-4af4-aefb-b2a6aef77469",
   "metadata": {},
   "outputs": [],
   "source": [
    "adata_proietti = sc.read('data/processed/proietti.h5')"
   ]
  },
  {
   "cell_type": "code",
   "execution_count": null,
   "id": "73e5dea4-e2a3-4006-a7b6-3cabd17482f3",
   "metadata": {},
   "outputs": [],
   "source": [
    "adata_ronzoni = sc.read('data/processed/ronzoni.h5')"
   ]
  },
  {
   "cell_type": "code",
   "execution_count": null,
   "id": "7de03860-d0a5-49a4-aae6-95f0c6e12c6d",
   "metadata": {},
   "outputs": [],
   "source": [
    "adata_dellorso = sc.read('data/processed/dellorso.h5')"
   ]
  },
  {
   "cell_type": "code",
   "execution_count": null,
   "id": "91457eef-03b9-4393-ae96-1f1389e4de2d",
   "metadata": {},
   "outputs": [],
   "source": [
    "# Move the UMAPs\n",
    "w = -1.4\n",
    "\n",
    "list_new_coords = []\n",
    "for adata in [adata_oprescu_d0, adata_scott_d0, adata_de_micheli_mouse_d0,\n",
    "              adata_giordani, adata_proietti, adata_ronzoni, adata_dellorso]:\n",
    "    X_coords = (adata.obsm['X_umap'][:, 0] - adata.obsm['X_umap'][:, 0].min()) / (adata.obsm['X_umap'][:, 0].max() - adata.obsm['X_umap'][:, 0].min())\n",
    "    Y_coords = (adata.obsm['X_umap'][:, 1] - adata.obsm['X_umap'][:, 1].min()) / (adata.obsm['X_umap'][:, 1].max() - adata.obsm['X_umap'][:, 1].min())\n",
    "    list_new_coords.append(np.array([X_coords, Y_coords]).transpose())\n",
    "    \n",
    "adata_oprescu_d0.obsm['X_umap'] = (list_new_coords[0] + np.array([[0, 0]])).astype(np.float32)\n",
    "adata_scott_d0.obsm['X_umap'] = (list_new_coords[1] + np.array([[0, w]])).astype(np.float32)\n",
    "adata_de_micheli_mouse_d0.obsm['X_umap'] = (list_new_coords[2] + np.array([[0, 2*w]])).astype(np.float32)\n",
    "adata_giordani.obsm['X_umap'] = (list_new_coords[3] + np.array([[-w, 0]])).astype(np.float32)\n",
    "adata_proietti.obsm['X_umap'] = (list_new_coords[4] + np.array([[-w, w]])).astype(np.float32)\n",
    "adata_ronzoni.obsm['X_umap'] = (list_new_coords[5] + np.array([[-w, 2 * w]])).astype(np.float32)\n",
    "adata_dellorso.obsm['X_umap'] = (list_new_coords[6] + np.array([[-2*w, 0]])).astype(np.float32)\n"
   ]
  },
  {
   "cell_type": "code",
   "execution_count": null,
   "id": "e374e9f6-96a4-4e75-90d3-9a8704764fbd",
   "metadata": {},
   "outputs": [],
   "source": [
    "adata_joined = sc.AnnData.concatenate(adata_oprescu_d0, adata_scott_d0, adata_de_micheli_mouse_d0,\n",
    "              adata_giordani, adata_proietti, adata_ronzoni, adata_dellorso)"
   ]
  },
  {
   "cell_type": "code",
   "execution_count": null,
   "id": "f491e06e-2ef1-47cd-b3e7-e77148d71771",
   "metadata": {},
   "outputs": [],
   "source": [
    "adata_joined.obs = adata_joined.obs[['cell_type', 'dataset', 'krano_type', 'condition']]\n",
    "del adata_joined.var\n",
    "adata_joined.uns['krano_type_colors'] = ['#bcbcbc', '#900C3F', '#286e87']\n",
    "adata_joined.uns['condition_colors'] = ['#900C3F', '#286e87', '#bcbcbc', ]"
   ]
  },
  {
   "cell_type": "code",
   "execution_count": null,
   "id": "731ca582-16a8-42d1-9ba0-85e68b547493",
   "metadata": {},
   "outputs": [],
   "source": [
    "sc.pl.umap(adata_joined, color=['krano_type', 'condition', 'dataset',])"
   ]
  },
  {
   "cell_type": "code",
   "execution_count": null,
   "id": "67ddee2b-608b-49b0-ad79-39c308e28a12",
   "metadata": {},
   "outputs": [],
   "source": [
    "adata_joined"
   ]
  },
  {
   "cell_type": "code",
   "execution_count": null,
   "id": "fa3fdfe5-170a-4dbf-aefe-a435273e2248",
   "metadata": {},
   "outputs": [],
   "source": [
    "adata_joined.write_h5ad('data/processed/joined.h5')"
   ]
  },
  {
   "cell_type": "markdown",
   "id": "1de0373f-2d7a-47ea-82a7-76c7b8decd7a",
   "metadata": {},
   "source": [
    "# Loading sub datasets"
   ]
  },
  {
   "cell_type": "code",
   "execution_count": null,
   "id": "14d368a2-dd6f-426a-9ee2-8f102afafa3d",
   "metadata": {},
   "outputs": [],
   "source": [
    "adata_oprescu_d0_sub = sc.read('data/processed/oprescu_d0_sub.h5')"
   ]
  },
  {
   "cell_type": "code",
   "execution_count": null,
   "id": "e20c5faa-590c-4022-828e-5c14b8b22c9a",
   "metadata": {},
   "outputs": [],
   "source": [
    "adata_scott_d0_sub = sc.read('data/processed/scott_d0_sub.h5')"
   ]
  },
  {
   "cell_type": "code",
   "execution_count": null,
   "id": "cc825342-ba7c-407b-a678-c2594b9a56f2",
   "metadata": {},
   "outputs": [],
   "source": [
    "adata_de_micheli_mouse_d0_sub = sc.read('data/processed/de_micheli_mouse_d0_sub.h5')"
   ]
  },
  {
   "cell_type": "code",
   "execution_count": null,
   "id": "64f2b614-6c20-4c12-b5bd-e1aa4b7ed993",
   "metadata": {},
   "outputs": [],
   "source": [
    "adata_giordani_sub = sc.read('data/processed/giordani_sub.h5')"
   ]
  },
  {
   "cell_type": "code",
   "execution_count": null,
   "id": "8d5ec4bd-ed00-4fd5-a3d0-c8964e3df088",
   "metadata": {},
   "outputs": [],
   "source": [
    "adata_proietti_sub = sc.read('data/processed/proietti_sub.h5')"
   ]
  },
  {
   "cell_type": "code",
   "execution_count": null,
   "id": "3a34021c-a53a-4402-be64-ab11d592b833",
   "metadata": {},
   "outputs": [],
   "source": [
    "adata_ronzoni_sub = sc.read('data/processed/ronzoni_sub.h5')"
   ]
  },
  {
   "cell_type": "code",
   "execution_count": null,
   "id": "502e291f-1700-42e7-9157-9fc266e73315",
   "metadata": {},
   "outputs": [],
   "source": [
    "adata_dellorso_sub = sc.read('data/processed/dellorso_sub.h5')"
   ]
  },
  {
   "cell_type": "code",
   "execution_count": null,
   "id": "609e7c6e-d835-4b01-884d-653872b01e73",
   "metadata": {},
   "outputs": [],
   "source": [
    "# Move the UMAPs\n",
    "w = -1.4\n",
    "\n",
    "list_new_coords = []\n",
    "for adata in [adata_oprescu_d0_sub, adata_scott_d0_sub, adata_de_micheli_mouse_d0_sub,\n",
    "              adata_giordani_sub, adata_proietti_sub, adata_ronzoni_sub, adata_dellorso_sub]:\n",
    "    X_coords = (adata.obsm['X_umap'][:, 0] - adata.obsm['X_umap'][:, 0].min()) / (adata.obsm['X_umap'][:, 0].max() - adata.obsm['X_umap'][:, 0].min())\n",
    "    Y_coords = (adata.obsm['X_umap'][:, 1] - adata.obsm['X_umap'][:, 1].min()) / (adata.obsm['X_umap'][:, 1].max() - adata.obsm['X_umap'][:, 1].min())\n",
    "    list_new_coords.append(np.array([X_coords, Y_coords]).transpose())\n",
    "    \n",
    "adata_oprescu_d0_sub.obsm['X_umap'] = (list_new_coords[0] + np.array([[0, 0]])).astype(np.float32)\n",
    "adata_scott_d0_sub.obsm['X_umap'] = (list_new_coords[1] + np.array([[0, w]])).astype(np.float32)\n",
    "adata_de_micheli_mouse_d0_sub.obsm['X_umap'] = (list_new_coords[2] + np.array([[0, 2*w]])).astype(np.float32)\n",
    "adata_giordani_sub.obsm['X_umap'] = (list_new_coords[3] + np.array([[-w, 0]])).astype(np.float32)\n",
    "adata_proietti_sub.obsm['X_umap'] = (list_new_coords[4] + np.array([[-w, w]])).astype(np.float32)\n",
    "adata_ronzoni_sub.obsm['X_umap'] = (list_new_coords[5] + np.array([[-w, 2 * w]])).astype(np.float32)\n",
    "adata_dellorso_sub.obsm['X_umap'] = (list_new_coords[6] + np.array([[-2*w, 0]])).astype(np.float32)\n"
   ]
  },
  {
   "cell_type": "code",
   "execution_count": null,
   "id": "6097ec98-755f-403b-9f82-c2a929bcf336",
   "metadata": {},
   "outputs": [],
   "source": [
    "adata_joined_sub = sc.AnnData.concatenate(adata_oprescu_d0_sub, adata_scott_d0_sub, adata_de_micheli_mouse_d0_sub,\n",
    "              adata_giordani_sub, adata_proietti_sub, adata_ronzoni, adata_dellorso_sub)"
   ]
  },
  {
   "cell_type": "code",
   "execution_count": null,
   "id": "da4004cd-de96-497e-8a66-280007631b1f",
   "metadata": {},
   "outputs": [],
   "source": [
    "adata_joined_sub.obs = adata_joined_sub.obs[['cell_type', 'dataset', 'krano_type', 'condition']]\n",
    "del adata_joined_sub.var\n",
    "adata_joined_sub.uns['krano_type_colors'] = ['#bcbcbc', '#900C3F', '#286e87']\n",
    "adata_joined_sub.uns['condition_colors'] = ['#900C3F', '#286e87', '#bcbcbc', ]"
   ]
  },
  {
   "cell_type": "code",
   "execution_count": null,
   "id": "ebe63285-2ed3-4fe5-9649-458607acd1c2",
   "metadata": {},
   "outputs": [],
   "source": [
    "sc.pl.umap(adata_joined_sub, color=['krano_type', 'condition', 'dataset',])"
   ]
  },
  {
   "cell_type": "code",
   "execution_count": null,
   "id": "ecc544a3-3a91-4478-b09f-6d3298edc5e3",
   "metadata": {},
   "outputs": [],
   "source": [
    "adata_joined_sub"
   ]
  },
  {
   "cell_type": "code",
   "execution_count": null,
   "id": "09ea6cd9-f06a-4468-818f-72c7f8f4c8ea",
   "metadata": {},
   "outputs": [],
   "source": [
    "adata_joined_sub.write_h5ad('data/processed/joined_sub.h5')"
   ]
  }
 ],
 "metadata": {
  "kernelspec": {
   "display_name": "Python [conda env:alex-base] *",
   "language": "python",
   "name": "conda-env-alex-base-py"
  },
  "language_info": {
   "codemirror_mode": {
    "name": "ipython",
    "version": 3
   },
   "file_extension": ".py",
   "mimetype": "text/x-python",
   "name": "python",
   "nbconvert_exporter": "python",
   "pygments_lexer": "ipython3",
   "version": "3.8.0"
  }
 },
 "nbformat": 4,
 "nbformat_minor": 5
}
