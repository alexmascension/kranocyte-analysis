{
 "cells": [
  {
   "cell_type": "code",
   "execution_count": null,
   "metadata": {},
   "outputs": [],
   "source": [
    "%load_ext autoreload\n",
    "%autoreload 2"
   ]
  },
  {
   "cell_type": "code",
   "execution_count": null,
   "metadata": {},
   "outputs": [],
   "source": [
    "import anndata as ad\n",
    "from adjustText import adjust_text\n",
    "\n",
    "from cellassign import assign_cats\n",
    "from cellbender.remove_background.downstream import load_anndata_from_input_and_output as load_anndata_cellbender\n",
    "\n",
    "import gc\n",
    "\n",
    "import matplotlib as mpl\n",
    "import matplotlib.pyplot as plt\n",
    "from matplotlib import font_manager, rcParams\n",
    "\n",
    "import numpy as np\n",
    "\n",
    "import pandas as pd\n",
    "\n",
    "import scanpy as sc\n",
    "import scanpy.external as sce\n",
    "\n",
    "import scipy.sparse as sparse\n",
    "from scipy.sparse import csr_matrix\n",
    "\n",
    "import seaborn as sns\n",
    "\n",
    "import triku as tk"
   ]
  },
  {
   "cell_type": "code",
   "execution_count": null,
   "metadata": {},
   "outputs": [],
   "source": [
    "# Palettes for UMAP gene expression\n",
    "\n",
    "magma = [plt.get_cmap('magma')(i) for i in np.linspace(0,1, 80)]\n",
    "magma[0] = (0.88, 0.88, 0.88, 1)\n",
    "magma = mpl.colors.LinearSegmentedColormap.from_list(\"\", magma[:65])"
   ]
  },
  {
   "cell_type": "code",
   "execution_count": null,
   "metadata": {},
   "outputs": [],
   "source": [
    "sc.settings.set_figure_params(dpi=100) \n",
    "seed = 0"
   ]
  },
  {
   "cell_type": "code",
   "execution_count": null,
   "metadata": {},
   "outputs": [],
   "source": [
    "# Alevin outputs Ensembl IDs, and we will transform those to Gene symbols\n",
    "\n",
    "from pybiomart import Server\n",
    "\n",
    "server = Server(host='http://www.ensembl.org')\n",
    "\n",
    "df = server.marts['ENSEMBL_MART_ENSEMBL'].datasets['mmusculus_gene_ensembl'].query(attributes=['ensembl_gene_id', 'external_gene_name'])\n",
    "dict_ensemble_gene = dict(zip(df['Gene stable ID'], df['Gene name']))"
   ]
  },
  {
   "cell_type": "code",
   "execution_count": null,
   "metadata": {},
   "outputs": [],
   "source": [
    "def set_plotting_style():\n",
    "    # Set font and plot properties\n",
    "    sns.set_style(\"white\")\n",
    "\n",
    "    font_path = \"src/fonts/texgyreheros-regular.otf\" # Alternative\n",
    "    font_path = \"/usr/share/texmf/fonts/opentype/public/tex-gyre/texgyreheros-regular.otf\"\n",
    "\n",
    "    mpl.rcParams.update({'font.size': 22})\n",
    "\n",
    "\n",
    "    # Path to the Helvetica font file\n",
    "    custom_font = font_manager.FontProperties(fname=font_path)\n",
    "\n",
    "    # Add the font to Matplotlib's font manager\n",
    "    font_manager.fontManager.addfont(font_path)\n",
    "\n",
    "    # Set the font globally\n",
    "    rcParams['font.family'] = custom_font.get_name()\n",
    "    rcParams['font.size'] = 16\n",
    "    rcParams['figure.dpi'] = 200\n",
    "\n",
    "set_plotting_style()"
   ]
  },
  {
   "cell_type": "code",
   "execution_count": null,
   "metadata": {},
   "outputs": [],
   "source": [
    "def plot_volcano(adata, cluster, pval_threshold=0.0001, lfc_threshold=2, topn=10, bottomn=8, zero_pval='auto', return_df=False, plot_positive_only=True):\n",
    "    df_pvals = pd.DataFrame({'gene': adata.uns['rank_genes_groups']['names'][cluster], \n",
    "                         'adj_pval': adata.uns['rank_genes_groups']['pvals_adj'][cluster], \n",
    "                         'logfoldchanges': adata.uns['rank_genes_groups']['logfoldchanges'][cluster],})\n",
    "\n",
    "    # adjust p values that are zero to a small number\n",
    "    if zero_pval == 'auto':\n",
    "        min_nonzero = df_pvals.loc[df_pvals['adj_pval'] > 0, 'adj_pval'].min()\n",
    "        zero_pval = min_nonzero * 0.1\n",
    "\n",
    "    df_pvals.loc[df_pvals['adj_pval'] == 0, 'adj_pval'] = zero_pval\n",
    "\n",
    "    df_pvals['neg_log_pval'] = -np.log10(df_pvals['adj_pval'])\n",
    "\n",
    "    if plot_positive_only:\n",
    "        df_pvals = df_pvals[df_pvals['logfoldchanges'] > 0]\n",
    "\n",
    "    plt.figure(figsize=(5, 4))\n",
    "    plt.scatter(df_pvals['logfoldchanges'], df_pvals['neg_log_pval'], color='gray', alpha=0.5, s=3)\n",
    "\n",
    "\n",
    "    significant = (df_pvals['adj_pval'] < pval_threshold) & (abs(df_pvals['logfoldchanges']) > lfc_threshold)\n",
    "    plt.scatter(df_pvals['logfoldchanges'][significant], df_pvals['neg_log_pval'][significant], color='red', alpha=0.7, s=3)\n",
    "\n",
    "\n",
    "    df_pvals['pvalxlfc'] = df_pvals['neg_log_pval'] * df_pvals['logfoldchanges']\n",
    "    top_genes = df_pvals.nlargest(topn, 'pvalxlfc')\n",
    "    bottom_genes = df_pvals.nsmallest(bottomn, 'pvalxlfc')\n",
    "\n",
    "    texts = []\n",
    "    for _, row in pd.concat([top_genes, bottom_genes]).iterrows():\n",
    "        texts.append(plt.text(row['logfoldchanges'], row['neg_log_pval'], row['gene'], \n",
    "                            fontsize=7, ha='center', color='black', \n",
    "                            )) \n",
    "\n",
    "\n",
    "    adjust_text(texts, \n",
    "                arrowprops=dict(arrowstyle='-', color='gray', lw=0.8)) \n",
    "\n",
    "    plt.axhline(y=-np.log10(pval_threshold), color='#232323', linestyle='--', linewidth=0.8)\n",
    "    plt.axvline(x=lfc_threshold, color='#232323', linestyle='--', linewidth=0.8)\n",
    "\n",
    "    if not plot_positive_only:\n",
    "        plt.axvline(x=-lfc_threshold, color='#232323', linestyle='--', linewidth=0.8)\n",
    "\n",
    "    plt.xlabel('LFC')\n",
    "    plt.ylabel('-log$_{10}$(Adjusted p-value)')\n",
    "    plt.title('')\n",
    "\n",
    "    plt.gca().spines['top'].set_visible(False)\n",
    "    plt.gca().spines['right'].set_visible(False)\n",
    "\n",
    "\n",
    "    # plt.savefig('../../../figures/4E_volcano_glia.png', dpi=300, bbox_inches='tight')\n",
    "\n",
    "    plt.show()\n",
    "\n",
    "    if return_df:\n",
    "        return df_pvals"
   ]
  },
  {
   "cell_type": "code",
   "execution_count": null,
   "metadata": {},
   "outputs": [],
   "source": [
    "def preprocessing_adata_sub(adata_sub, integrate = True, k=None):\n",
    "    if k is None:\n",
    "        k = int(0.5 * len(adata_sub) ** 0.5)\n",
    "\n",
    "    if integrate:\n",
    "        use_rep = 'X_harmony'\n",
    "    else:\n",
    "        use_rep = 'X_pca'\n",
    "\n",
    "    sc.pp.filter_cells(adata_sub, min_counts=10)\n",
    "    sc.pp.filter_genes(adata_sub, min_counts=20)\n",
    "    sc.pp.pca(adata_sub, n_comps=15, random_state=seed, use_highly_variable=False)\n",
    "    if integrate:\n",
    "        sce.pp.harmony_integrate(adata_sub, 'batch', random_state=seed,\n",
    "                                    basis='X_pca', adjusted_basis='X_harmony', max_iter_harmony=30, verbose=False)\n",
    "        \n",
    "    sc.pp.neighbors(adata_sub, n_neighbors=k, random_state=seed, metric='correlation', \n",
    "                    use_rep=use_rep)\n",
    "    tk.tl.triku(adata_sub, use_raw=False)\n",
    "\n",
    "    sc.pp.pca(adata_sub, n_comps=15, random_state=seed, use_highly_variable=True)\n",
    "    if integrate:\n",
    "        sce.pp.harmony_integrate(adata_sub, 'batch', random_state=seed,\n",
    "                                basis='X_pca', adjusted_basis='X_harmony', max_iter_harmony=30, verbose=False)\n",
    "    sc.pp.neighbors(adata_sub, n_neighbors=k, random_state=seed, metric='correlation', \n",
    "                    use_rep=use_rep)\n"
   ]
  },
  {
   "cell_type": "markdown",
   "metadata": {},
   "source": [
    "# Data loading and QC"
   ]
  },
  {
   "cell_type": "code",
   "execution_count": null,
   "metadata": {},
   "outputs": [],
   "source": [
    "def load_mtx(mtx_path, barcodes_path, varnames_path):\n",
    "    \"\"\"\n",
    "    Load a matrix from a .mtx file and its associated barcodes and variable names.\n",
    "    \"\"\"\n",
    "    adata = sc.read_mtx(mtx_path).T\n",
    "    adata_barcodes = pd.read_csv(barcodes_path, header=None, sep='\\t')\n",
    "    adata_varnames = pd.read_csv(varnames_path, header=None, sep='\\t')\n",
    "    \n",
    "    adata.var_names = adata_varnames[0].values\n",
    "    adata.obs_names = adata_barcodes[0].values\n",
    "    \n",
    "    return adata"
   ]
  },
  {
   "cell_type": "code",
   "execution_count": null,
   "metadata": {},
   "outputs": [],
   "source": [
    "def load_full_adata(STARsolo_path, raw_counts=True, include_cellbender=True, load_velocyto=True):\n",
    "\n",
    "    if raw_counts:\n",
    "        dirsub = 'raw'\n",
    "    else:\n",
    "        dirsub = 'filtered'\n",
    "\n",
    "    if include_cellbender: # This should be run on a second pass, the first pass should be false\n",
    "        adata = load_anndata_cellbender(\n",
    "                    input_file=f'{STARsolo_path}/adata_raw.h5ad',\n",
    "                    output_file=f'{STARsolo_path}/CellBender/adata_raw_cellbender.h5',\n",
    "                    input_layer_key='raw_counts',  # this will be the raw data layer\n",
    "                )\n",
    "        \n",
    "        adata.raw = adata\n",
    "    else:\n",
    "        adata = load_mtx(f'{STARsolo_path}/GeneFull/{dirsub}/UniqueAndMult-EM.mtx', f'{STARsolo_path}/GeneFull/{dirsub}/barcodes.tsv', f'{STARsolo_path}/GeneFull/{dirsub}/features.tsv')\n",
    "        adata.layers['raw_counts'] = adata.X.copy()\n",
    "\n",
    "    if load_velocyto:\n",
    "        adata_velocyto_spliced = load_mtx(f'{STARsolo_path}/Velocyto/{dirsub}/spliced.mtx', f'{STARsolo_path}/Velocyto/{dirsub}/barcodes.tsv', f'{STARsolo_path}/Velocyto/{dirsub}/features.tsv')\n",
    "        adata_velocyto_unspliced = load_mtx(f'{STARsolo_path}/Velocyto/{dirsub}/unspliced.mtx', f'{STARsolo_path}/Velocyto/{dirsub}/barcodes.tsv', f'{STARsolo_path}/Velocyto/{dirsub}/features.tsv')\n",
    "        adata_velocyto_ambiguous = load_mtx(f'{STARsolo_path}/Velocyto/{dirsub}/ambiguous.mtx', f'{STARsolo_path}/Velocyto/{dirsub}/barcodes.tsv', f'{STARsolo_path}/Velocyto/{dirsub}/features.tsv')\n",
    "\n",
    "        adata.layers['spliced'] = adata_velocyto_spliced[adata.obs_names, adata.var_names].X.copy()\n",
    "        adata.layers['unspliced'] = adata_velocyto_unspliced[adata.obs_names, adata.var_names].X.copy()\n",
    "        adata.layers['ambiguous'] = adata_velocyto_ambiguous[adata.obs_names, adata.var_names].X.copy()\n",
    "\n",
    "        del adata_velocyto_spliced, adata_velocyto_unspliced, adata_velocyto_ambiguous\n",
    "    \n",
    "    adata.var_names_make_unique()\n",
    "\n",
    "    return adata"
   ]
  },
  {
   "cell_type": "code",
   "execution_count": null,
   "metadata": {},
   "outputs": [],
   "source": [
    "adata_AZ7845 = load_full_adata('data/ARAUZO_03/results_STAR/AZ7845/Solo.out', include_cellbender=False, load_velocyto=False)"
   ]
  },
  {
   "cell_type": "code",
   "execution_count": null,
   "metadata": {},
   "outputs": [],
   "source": [
    "adata_AZ7846 = load_full_adata('data/ARAUZO_03/results_STAR/AZ7846/Solo.out', include_cellbender=False, load_velocyto=False)"
   ]
  },
  {
   "cell_type": "markdown",
   "metadata": {},
   "source": [
    "## CellBender (remove ambient RNA)"
   ]
  },
  {
   "cell_type": "code",
   "execution_count": null,
   "metadata": {},
   "outputs": [],
   "source": [
    "adata_AZ7845.write_h5ad('data/ARAUZO_03/results_STAR/AZ7845/Solo.out/adata_raw.h5ad')"
   ]
  },
  {
   "cell_type": "code",
   "execution_count": null,
   "metadata": {},
   "outputs": [],
   "source": [
    "!docker run --gpus all --rm -v /mnt/data:/mnt/data \\\n",
    "  us.gcr.io/broad-dsde-methods/cellbender:0.3.2 \\\n",
    "  cellbender remove-background \\\n",
    "    --input /mnt/data/Proyectos/kranocito/data/ARAUZO_03/results_STAR/AZ7845/Solo.out/adata_raw.h5ad \\\n",
    "    --output /mnt/data/Proyectos/kranocito/data/ARAUZO_03/results_STAR/AZ7845/Solo.out/CellBender/adata_raw_cellbender.h5 \\\n",
    "    --cuda"
   ]
  },
  {
   "cell_type": "code",
   "execution_count": null,
   "metadata": {},
   "outputs": [],
   "source": [
    "adata_AZ7846.write_h5ad('data/ARAUZO_03/results_STAR/AZ7846/Solo.out/adata_raw.h5ad')"
   ]
  },
  {
   "cell_type": "code",
   "execution_count": null,
   "metadata": {},
   "outputs": [],
   "source": [
    "!docker run --gpus all --rm -v /mnt/data:/mnt/data \\\n",
    "  us.gcr.io/broad-dsde-methods/cellbender:0.3.2 \\\n",
    "  cellbender remove-background \\\n",
    "    --input /mnt/data/Proyectos/kranocito/data/ARAUZO_03/results_STAR/AZ7846/Solo.out/adata_raw.h5ad \\\n",
    "    --output /mnt/data/Proyectos/kranocito/data/ARAUZO_03/results_STAR/AZ7846/Solo.out/CellBender/adata_raw_cellbender.h5 \\\n",
    "    --cuda"
   ]
  },
  {
   "cell_type": "code",
   "execution_count": null,
   "metadata": {},
   "outputs": [],
   "source": [
    "adata_AZ7845 = load_full_adata('data/ARAUZO_03/results_STAR/AZ7845/Solo.out', include_cellbender=True)"
   ]
  },
  {
   "cell_type": "code",
   "execution_count": null,
   "metadata": {},
   "outputs": [],
   "source": [
    "adata_AZ7845"
   ]
  },
  {
   "cell_type": "code",
   "execution_count": null,
   "metadata": {},
   "outputs": [],
   "source": [
    "adata_AZ7846 = load_full_adata('data/ARAUZO_03/results_STAR/AZ7846/Solo.out', include_cellbender=True)"
   ]
  },
  {
   "cell_type": "code",
   "execution_count": null,
   "metadata": {},
   "outputs": [],
   "source": [
    "adata_AZ7846"
   ]
  },
  {
   "cell_type": "code",
   "execution_count": null,
   "metadata": {},
   "outputs": [],
   "source": [
    "adata_AZ7845.obs"
   ]
  },
  {
   "cell_type": "code",
   "execution_count": null,
   "metadata": {},
   "outputs": [],
   "source": [
    "def plot_cell_stats(adata):\n",
    "    # Show cell 10X plot (it'll be truncated, but its good enough) and relationship between this and cell probabilities\n",
    "    fig, axs = plt.subplots(1, 3, figsize=(15,5))\n",
    "\n",
    "    gene_counts = np.sort(adata.obs['n_cellbender'])[::-1]\n",
    "    axs[0].plot(np.log10(np.arange(adata.shape[0]) + 1), np.log10(gene_counts + 1))\n",
    "\n",
    "    gene_counts_filter = gene_counts[gene_counts > 200]\n",
    "    axs[0].plot(np.log10(np.arange(len(gene_counts_filter)) + 1), np.log10(gene_counts_filter + 1))\n",
    "    axs[0].set_xlabel('Cell rank')\n",
    "    axs[0].set_ylabel('CellBender counts (log1p)')\n",
    "\n",
    "    axs[1].scatter(adata.obs['cell_probability'], np.log10(adata.obs['n_cellbender'] + 1), s=2)\n",
    "    axs[1].set_xlabel('Cell probability')\n",
    "    axs[1].set_ylabel('CellBender counts (log1p)')\n",
    "\n",
    "    axs[2].scatter(np.log10(adata.obs['n_cellbender'] + 1), np.log10(adata.obs['n_raw_counts'] + 1), s=2)\n",
    "    axs[2].plot([0, 5], [0, 5], c='#bc0000')\n",
    "    axs[2].set_xlabel('CellBender counts (cells)')\n",
    "    axs[2].set_ylabel('Raw counts (cells)')\n",
    "\n",
    "\n",
    "    plt.tight_layout()\n",
    "\n",
    "def plot_gene_stats(adata):\n",
    "    # Show ambient gene expression\n",
    "    display(adata.var.sort_values(by='ambient_expression', ascending=False).head(15))\n",
    "\n",
    "    fig, axs = plt.subplots(1, 3, figsize=(15,5))\n",
    "\n",
    "\n",
    "    axs[0].scatter(np.log10(adata.var['n_cellbender'] + 1), adata.var['ambient_expression'], s=2)\n",
    "    axs[0].set_xlabel('CellBender counts (genes)')\n",
    "    axs[0].set_ylabel('Raw counts (log1p)')\n",
    "\n",
    "    axs[1].scatter(np.log10(adata.var['n_cellbender'] + 1), (adata.var['n_cellbender'] + 1) / (adata.var['n_raw_counts'] + 1),  s=2)\n",
    "    axs[1].set_xlabel('CellBender counts (genes)')\n",
    "    axs[1].set_ylabel('$\\\\frac{\\\\text{CellBender counts  + 1}}{\\\\text{Raw counts + 1}}$ (genes)')\n",
    "\n",
    "    axs[2].scatter(np.log10(adata.var['n_cellbender'] + 1), np.log10(adata.var['n_raw_counts'] + 1), s=2)\n",
    "    axs[2].plot([0, 6], [0, 6], c='#bc0000')\n",
    "    axs[2].set_xlabel('CellBender counts (genes)')\n",
    "    axs[2].set_ylabel('Raw counts (genes)')\n",
    "    plt.tight_layout()\n"
   ]
  },
  {
   "cell_type": "code",
   "execution_count": null,
   "metadata": {},
   "outputs": [],
   "source": [
    "plot_cell_stats(adata_AZ7845)\n",
    "plot_gene_stats(adata_AZ7845)\n"
   ]
  },
  {
   "cell_type": "code",
   "execution_count": null,
   "metadata": {},
   "outputs": [],
   "source": [
    "plot_cell_stats(adata_AZ7846)\n",
    "plot_gene_stats(adata_AZ7846)"
   ]
  },
  {
   "cell_type": "code",
   "execution_count": null,
   "metadata": {},
   "outputs": [],
   "source": [
    "sc.pp.filter_cells(adata_AZ7845, min_counts=200)\n",
    "sc.pp.filter_cells(adata_AZ7846, min_counts=200)"
   ]
  },
  {
   "cell_type": "code",
   "execution_count": null,
   "metadata": {},
   "outputs": [],
   "source": [
    "adata = sc.AnnData.concatenate(adata_AZ7845, adata_AZ7846, batch_key='batch', batch_categories=['AZ7845', 'AZ7846'])"
   ]
  },
  {
   "cell_type": "code",
   "execution_count": null,
   "metadata": {},
   "outputs": [],
   "source": [
    "(adata.layers['unspliced'].sum() + adata.layers['spliced'].sum() + adata.layers['ambiguous'].sum()) / (adata.layers['raw_counts'].sum())"
   ]
  },
  {
   "cell_type": "code",
   "execution_count": null,
   "metadata": {},
   "outputs": [],
   "source": [
    "sc.pl.highest_expr_genes(adata, n_top=20, )"
   ]
  },
  {
   "cell_type": "markdown",
   "metadata": {},
   "source": [
    "## QC - mt and raw reads"
   ]
  },
  {
   "cell_type": "code",
   "execution_count": null,
   "metadata": {},
   "outputs": [],
   "source": [
    "adata.var['mt'] = adata.var_names.str.startswith('mt-')  # annotate the group of mitochondrial genes as 'mt'\n",
    "sc.pp.calculate_qc_metrics(adata, qc_vars=['mt'], percent_top=None, log1p=True, inplace=True)"
   ]
  },
  {
   "cell_type": "code",
   "execution_count": null,
   "metadata": {},
   "outputs": [],
   "source": [
    "sc.pl.violin(adata, ['log1p_n_genes_by_counts', 'log1p_total_counts', 'pct_counts_mt'], jitter=0.4, multi_panel=True)\n",
    "sc.pl.scatter(adata, x='log1p_total_counts', y='pct_counts_mt')\n",
    "sc.pl.scatter(adata, x='log1p_total_counts', y='log1p_n_genes_by_counts')\n",
    "sc.pl.scatter(adata, x='log1p_total_counts', y='cell_probability')"
   ]
  },
  {
   "cell_type": "code",
   "execution_count": null,
   "metadata": {},
   "outputs": [],
   "source": [
    "fig, axs = plt.subplots(2, 1, figsize=(10, 8))\n",
    "df = pd.DataFrame({'x': adata.obs['batch'], 'y': adata.obs['log1p_n_genes_by_counts'], 'y2': adata.obs['pct_counts_mt']})\n",
    "sns.violinplot(x='x', y='y', data=df, ax=axs[0])\n",
    "sns.violinplot(x='x', y='y2', data=df, ax=axs[1])"
   ]
  },
  {
   "cell_type": "code",
   "execution_count": null,
   "metadata": {},
   "outputs": [],
   "source": [
    "adata.obs['lowQC_gene_counts'] = 0\n",
    "adata.obs['lowQC_mt_pct'] = 0\n",
    "\n",
    "adata.obs.loc[adata.obs['log1p_n_genes_by_counts'] < 6, 'lowQC_gene_counts'] = 1\n",
    "adata.obs.loc[adata.obs['pct_counts_mt'] > 10, 'lowQC_mt_pct'] = 1\n",
    "\n",
    "adata.obs['lowQC_gene_mt'] = adata.obs['lowQC_gene_counts'] * adata.obs['lowQC_mt_pct']"
   ]
  },
  {
   "cell_type": "code",
   "execution_count": null,
   "metadata": {},
   "outputs": [],
   "source": [
    "adata.obs[['lowQC_gene_counts', 'lowQC_mt_pct', 'lowQC_mt_pct']].sum()"
   ]
  },
  {
   "cell_type": "markdown",
   "metadata": {},
   "source": [
    "## QC - DropletQC [original workflow]"
   ]
  },
  {
   "cell_type": "code",
   "execution_count": null,
   "metadata": {},
   "outputs": [],
   "source": [
    "%load_ext rpy2.ipython"
   ]
  },
  {
   "cell_type": "code",
   "execution_count": null,
   "metadata": {},
   "outputs": [],
   "source": [
    "from rpy2.robjects import globalenv\n",
    "# Convertimos a pandas automáticamente\n",
    "from rpy2.robjects import pandas2ri"
   ]
  },
  {
   "cell_type": "code",
   "execution_count": null,
   "metadata": {},
   "outputs": [],
   "source": [
    "adata.obs['n_spliced'] = adata.layers['spliced'].sum(axis=1).A1\n",
    "adata.obs['n_unspliced'] = adata.layers['unspliced'].sum(axis=1).A1\n",
    "adata.obs['n_ambiguous'] = adata.layers['ambiguous'].sum(axis=1).A1\n",
    "\n",
    "adata.obs['nuclear_RNA_frac'] = adata.obs['n_unspliced'] / (adata.obs['n_spliced'] + adata.obs['n_unspliced'])"
   ]
  },
  {
   "cell_type": "code",
   "execution_count": null,
   "metadata": {},
   "outputs": [],
   "source": [
    "adata.obs['n_spliced_log1p'] = np.log1p(adata.obs['n_spliced'])\n",
    "adata.obs['n_unspliced_log1p'] = np.log1p(adata.obs['n_unspliced'])\n",
    "adata.obs['n_ambiguous_log1p'] = np.log1p(adata.obs['n_ambiguous'])\n",
    "adata.obs['n_cellbender_log1p'] = np.log1p(adata.obs['n_cellbender'])"
   ]
  },
  {
   "cell_type": "code",
   "execution_count": null,
   "metadata": {},
   "outputs": [],
   "source": [
    "nf_df = pd.DataFrame(adata.obs['nuclear_RNA_frac'])\n",
    "nf = nf_df['nuclear_RNA_frac'].values\n",
    "umi = np.asarray(adata.X.sum(axis=1)).ravel()"
   ]
  },
  {
   "cell_type": "code",
   "execution_count": null,
   "metadata": {},
   "outputs": [],
   "source": [
    "%%R -i umi -i nf_df -o ed -o dc -o plots\n",
    "\n",
    "library(DropletQC)\n",
    "\n",
    "nf_umi <- data.frame(\n",
    "  nf = nf_df$nuclear_RNA_frac,\n",
    "  umi = umi\n",
    ")\n",
    "# 1) Etiquetas de empty droplets\n",
    "ed <- identify_empty_drops(\n",
    "  nf_umi = nf_umi,\n",
    "  nf_rescue = 0.02,\n",
    "  umi_rescue = 3000,\n",
    "  include_plot = TRUE\n",
    ")\n",
    "\n",
    "if (!\"cell_type\" %in% colnames(ed)) ed$cell_type <- \"all\"\n",
    "\n",
    "dc <- identify_damaged_cells(\n",
    "  ed,\n",
    "  verbose = FALSE,\n",
    "  output_plots = TRUE\n",
    ")\n",
    "\n",
    "plots <- dc[[2]]  # NULL si output_plots=FALSE\n",
    "# El dataframe final con 'cell_status' actualizado está en:\n",
    "dc <- dc[[1]]"
   ]
  },
  {
   "cell_type": "markdown",
   "metadata": {},
   "source": [
    "## QC - DropletQC [*improved* workflow]\n",
    "The workflow from DropletQC failed in two parts:\n",
    "- This clusters from empty droplets in not well partitioned -> we apply a KMeans clustering between the main cell cluster and a secondary cluster with low nuclear fraction\n",
    "- It does not identify a damaged cell cluster, when its likely that one exists. To solve that I run a second clustering with either a GMM or a K-Means and ensure that the damaged cell cluster has at least > 0.4 of nuclear fraction compared to the main cluster. In that way I retrieve a better clustering solution."
   ]
  },
  {
   "cell_type": "code",
   "execution_count": null,
   "metadata": {},
   "outputs": [],
   "source": [
    "from pyfuncs.dropletQC import classify_empty_and_damaged"
   ]
  },
  {
   "cell_type": "code",
   "execution_count": null,
   "metadata": {},
   "outputs": [],
   "source": [
    "nf_df['umi'] = umi\n",
    "nf_df['logumi'] = np.log10(umi + 1.0)\n",
    "\n",
    "display(nf_df)\n",
    "\n",
    "info = classify_empty_and_damaged(\n",
    "    nf_df,\n",
    "    method_cells=\"kmeans\",          # o \"gmm\"\n",
    "    nf_rescue=0.02, umi_rescue=3000,\n",
    "    nf_damaged_threshold=0.0,\n",
    "    random_state=0\n",
    ")\n",
    "\n",
    "info = classify_empty_and_damaged(\n",
    "    nf_df,\n",
    "    method_cells=\"gmm\",          # o \"gmm\"\n",
    "    nf_rescue=0.02, umi_rescue=3000,\n",
    "    nf_damaged_threshold=0.0,\n",
    "    random_state=0\n",
    ")"
   ]
  },
  {
   "cell_type": "code",
   "execution_count": null,
   "metadata": {},
   "outputs": [],
   "source": [
    "fig, axs = plt.subplots(1, 2, figsize=(10, 5))\n",
    "sns.scatterplot(x='logumi', y='nuclear_RNA_frac', hue='classification_kmeans', data=nf_df, s=2, alpha=0.5, legend=None, ax=axs[0])\n",
    "sns.scatterplot(x='logumi', y='nuclear_RNA_frac', hue='classification_gmm', data=nf_df, s=2, alpha=0.5, legend=None, ax=axs[1])"
   ]
  },
  {
   "cell_type": "code",
   "execution_count": null,
   "metadata": {},
   "outputs": [],
   "source": [
    "adata.obs['QC_droplet'] = nf_df['classification_gmm']"
   ]
  },
  {
   "cell_type": "markdown",
   "metadata": {},
   "source": [
    "## QC - MALAT1 levels"
   ]
  },
  {
   "cell_type": "code",
   "execution_count": null,
   "metadata": {},
   "outputs": [],
   "source": [
    "adata.obs['MALAT1'] = np.log1p(adata[:, 'Malat1'].X.todense().A1)"
   ]
  },
  {
   "cell_type": "code",
   "execution_count": null,
   "metadata": {},
   "outputs": [],
   "source": [
    "sns.scatterplot(x='nuclear_RNA_frac', y='MALAT1', hue='QC_droplet', data=adata.obs, s=2, alpha=0.5)"
   ]
  },
  {
   "cell_type": "code",
   "execution_count": null,
   "metadata": {},
   "outputs": [],
   "source": [
    "adata.obs['QC_low_MALAT1'] = 0\n",
    "adata.obs.loc[(adata.obs['MALAT1'] < 2), 'QC_low_MALAT1'] = 1"
   ]
  },
  {
   "cell_type": "code",
   "execution_count": null,
   "metadata": {},
   "outputs": [],
   "source": [
    "# Jaccard index for empty droplets and low MALAT1 levels\n",
    "np.sum((adata.obs['QC_low_MALAT1'] == 1) * (adata.obs['QC_droplet'] == 'empty_droplet'))   / np.sum((adata.obs['QC_low_MALAT1'] == 1) + (adata.obs['QC_droplet'] == 'empty_droplet')) "
   ]
  },
  {
   "cell_type": "markdown",
   "metadata": {},
   "source": [
    "We see that all empty droplets have a low *Malat1* level, whereas cells with increased levels or normal levels are already detected as cell or damaged cell."
   ]
  },
  {
   "cell_type": "markdown",
   "metadata": {},
   "source": [
    "## Checking location of low QC cells\n",
    "\n",
    "We are going to see where the marked flags are located. Supposedly, lowQC cells should create new cell types with with background gene expression. In that case, we are going to remove them to improve capability of doublet detection."
   ]
  },
  {
   "cell_type": "code",
   "execution_count": null,
   "metadata": {},
   "outputs": [],
   "source": [
    "adata_all_cells = adata.copy()"
   ]
  },
  {
   "cell_type": "code",
   "execution_count": null,
   "metadata": {},
   "outputs": [],
   "source": [
    "adata_pp = adata.copy()\n",
    "sc.pp.normalize_total(adata_pp)\n",
    "sc.pp.log1p(adata_pp)\n",
    "sc.pp.pca(adata_pp, n_comps=15, )\n",
    "sce.pp.harmony_integrate(adata_pp, 'batch', max_iter_harmony=20, random_state=seed)\n",
    "sc.pp.neighbors(adata_pp, n_neighbors=15, use_rep='X_pca_harmony')\n",
    "sc.tl.leiden(adata_pp, resolution=0.2, key_added=\"groups\")\n",
    "sc.tl.umap(adata_pp, min_dist=0.1, random_state=seed)"
   ]
  },
  {
   "cell_type": "code",
   "execution_count": null,
   "metadata": {},
   "outputs": [],
   "source": [
    "sc.pl.umap(adata_pp, color=['batch', 'groups'])"
   ]
  },
  {
   "cell_type": "code",
   "execution_count": null,
   "metadata": {},
   "outputs": [],
   "source": [
    "sc.pl.umap(adata_pp, color=['batch', 'groups', \n",
    "                            'log1p_n_genes_by_counts', 'pct_counts_mt', \n",
    "                            'lowQC_gene_counts', 'lowQC_mt_pct', 'lowQC_gene_mt',\n",
    "                           'QC_low_MALAT1', 'nuclear_RNA_frac', 'QC_droplet', ])"
   ]
  },
  {
   "cell_type": "code",
   "execution_count": null,
   "metadata": {},
   "outputs": [],
   "source": [
    "sc.tl.rank_genes_groups(adata_pp, 'groups', method='wilcoxon', key_added='rank_genes_groups_wilcoxon', \n",
    "                        use_raw=False)\n",
    "sc.pl.rank_genes_groups_tracksplot(adata_pp, key='rank_genes_groups_wilcoxon', \n",
    "                                   n_genes=20, sharey=False, fontsize=12, dendrogram=False, \n",
    "                                   use_raw=False,)"
   ]
  },
  {
   "cell_type": "markdown",
   "metadata": {},
   "source": [
    "We see that empry droplets, which correlate with low MALAT1, low count and high mitochondrial content cells, are gathered in a separate cell type with high expression of constitutive markers show in the figure of high expressed genes. This is expected: the genes that are going to be liberated to the empty droplet will more likely be the genes with higher expression. \n",
    "\n",
    "There is a second set of clusters with high nuclear fraction, labeleld as damaged cells. We are not going to remove these cells so far for two reasons: their DEGs are in line with DEGs expressed by other cells passing QC; and considering that this is a single-nuclei preparation, we do expect a higher set of cells with intronic content. We may remove these cell types afterwards if we see that they don't provide any useful information."
   ]
  },
  {
   "cell_type": "code",
   "execution_count": null,
   "metadata": {},
   "outputs": [],
   "source": [
    "adata = adata[(adata.obs['QC_droplet'] != 'empty_droplet') &  \n",
    "              (adata.obs['lowQC_gene_counts'] == 0) & \n",
    "              (adata.obs['lowQC_mt_pct'] == 0), :].copy()"
   ]
  },
  {
   "cell_type": "code",
   "execution_count": null,
   "metadata": {},
   "outputs": [],
   "source": [
    "adata_pp = adata.copy()\n",
    "sc.pp.normalize_total(adata_pp)\n",
    "sc.pp.log1p(adata_pp)\n",
    "sc.pp.pca(adata_pp, n_comps=15, )\n",
    "sce.pp.harmony_integrate(adata_pp, 'batch', max_iter_harmony=20, random_state=seed)\n",
    "sc.pp.neighbors(adata_pp, n_neighbors=15, use_rep='X_pca_harmony')\n",
    "sc.tl.leiden(adata_pp, resolution=0.5, key_added=\"groups\")\n",
    "sc.tl.umap(adata_pp, min_dist=0.2, random_state=seed)"
   ]
  },
  {
   "cell_type": "code",
   "execution_count": null,
   "metadata": {},
   "outputs": [],
   "source": [
    "sc.pl.umap(adata_pp, color=['batch', 'groups', \n",
    "                            'log1p_n_genes_by_counts', 'pct_counts_mt', \n",
    "                            'lowQC_gene_counts', 'lowQC_mt_pct', 'lowQC_gene_mt',\n",
    "                           'QC_low_MALAT1', 'nuclear_RNA_frac', 'QC_droplet', ])"
   ]
  },
  {
   "cell_type": "code",
   "execution_count": null,
   "metadata": {},
   "outputs": [],
   "source": [
    "sc.pl.umap(adata_pp, color=['batch', 'groups'])"
   ]
  },
  {
   "cell_type": "code",
   "execution_count": null,
   "metadata": {},
   "outputs": [],
   "source": [
    "# We are going to pass this initial clustering solution to the adata, for clustering purposes\n",
    "adata.obs['groups'] = adata_pp.obs['groups'].copy()\n",
    "adata.obsm['X_umap'] = adata_pp.obsm['X_umap'].copy()"
   ]
  },
  {
   "cell_type": "code",
   "execution_count": null,
   "metadata": {},
   "outputs": [],
   "source": [
    "del adata_pp\n",
    "gc.collect()"
   ]
  },
  {
   "cell_type": "markdown",
   "metadata": {},
   "source": [
    "## Doublet flagging\n",
    "\n",
    "To do this step we need some clusters. To do that we are going to run a basic clustering using harmony and then use the detected cell types as input of clusters"
   ]
  },
  {
   "cell_type": "markdown",
   "metadata": {},
   "source": [
    "### DoubletDetection"
   ]
  },
  {
   "cell_type": "code",
   "execution_count": null,
   "metadata": {},
   "outputs": [],
   "source": [
    "%%script False\n",
    "!pip install doubletdetection==4.3\n",
    "!pip install louvain"
   ]
  },
  {
   "cell_type": "code",
   "execution_count": null,
   "metadata": {},
   "outputs": [],
   "source": [
    "import doubletdetection"
   ]
  },
  {
   "cell_type": "code",
   "execution_count": null,
   "metadata": {},
   "outputs": [],
   "source": [
    "clf = doubletdetection.BoostClassifier(\n",
    "    n_iters=10, \n",
    "    clustering_algorithm=\"louvain\", \n",
    "    standard_scaling=True,\n",
    "    pseudocount=0.1,\n",
    "    n_jobs=-1,\n",
    ")\n",
    "doublets = clf.fit(adata.X).predict(p_thresh=1e-16, voter_thresh=0.5)\n",
    "doublet_score = clf.doublet_score()\n"
   ]
  },
  {
   "cell_type": "code",
   "execution_count": null,
   "metadata": {},
   "outputs": [],
   "source": [
    "clf.doublet_score().data"
   ]
  },
  {
   "cell_type": "code",
   "execution_count": null,
   "metadata": {},
   "outputs": [],
   "source": [
    "adata.obs['DoubletDetection_score'] = doublet_score.data\n",
    "adata.obs['DoubletDetection_mask'] = doublet_score.mask"
   ]
  },
  {
   "cell_type": "code",
   "execution_count": null,
   "metadata": {},
   "outputs": [],
   "source": [
    "f = doubletdetection.plot.convergence(clf, show=True, p_thresh=1e-16, voter_thresh=0.5)"
   ]
  },
  {
   "cell_type": "code",
   "execution_count": null,
   "metadata": {},
   "outputs": [],
   "source": [
    "fig, axs = plt.subplots(1, 2, figsize=(10, 5))\n",
    "sns.scatterplot(x='log1p_n_genes_by_counts', y='nuclear_RNA_frac', hue='DoubletDetection_mask', data=adata.obs, s=2, alpha=0.5, ax=axs[0])\n",
    "sns.scatterplot(x='log1p_n_genes_by_counts', y='nuclear_RNA_frac', hue='DoubletDetection_score', data=adata.obs, s=2, alpha=0.5, ax=axs[1])"
   ]
  },
  {
   "cell_type": "code",
   "execution_count": null,
   "metadata": {},
   "outputs": [],
   "source": [
    "sc.pl.umap(adata, color=['DoubletDetection_mask', 'DoubletDetection_score',], cmap=magma)"
   ]
  },
  {
   "cell_type": "markdown",
   "metadata": {},
   "source": [
    "### Scrublet"
   ]
  },
  {
   "cell_type": "code",
   "execution_count": null,
   "metadata": {},
   "outputs": [],
   "source": [
    "results = sce.pp.scrublet(adata.copy(), batch_key='groups', expected_doublet_rate=0.05, random_state=seed, knn_dist_metric='cosine', log_transform=True, copy=True)\n",
    "adata.uns['scrublet'] = results.uns['scrublet']\n",
    "adata.obs['scrublet_score'] = results.obs['doublet_score']\n",
    "adata.obs['scrublet_mask'] = results.obs['predicted_doublet']"
   ]
  },
  {
   "cell_type": "code",
   "execution_count": null,
   "metadata": {},
   "outputs": [],
   "source": [
    "fig, axs = plt.subplots(1, 2, figsize=(10, 5))\n",
    "sns.scatterplot(x='log1p_n_genes_by_counts', y='nuclear_RNA_frac', hue='scrublet_mask', data=adata.obs, s=2, alpha=0.5, ax=axs[0])\n",
    "sns.scatterplot(x='log1p_n_genes_by_counts', y='nuclear_RNA_frac', hue='scrublet_score', data=adata.obs, s=2, alpha=0.5, ax=axs[1])"
   ]
  },
  {
   "cell_type": "code",
   "execution_count": null,
   "metadata": {},
   "outputs": [],
   "source": [
    "sc.pl.umap(adata, color=['scrublet_mask', 'scrublet_score',], cmap=magma)"
   ]
  },
  {
   "cell_type": "markdown",
   "metadata": {},
   "source": [
    "We don't see a clear Doublet pattern from both detection algorithms. DoubletDetection is more sensitive based on benchmarks, but the program does not classify any doublet; and the areas with highest scores are scattered through the FAPs, so it's likely that there are no doublets."
   ]
  },
  {
   "cell_type": "markdown",
   "metadata": {},
   "source": [
    "## Normalization"
   ]
  },
  {
   "cell_type": "markdown",
   "metadata": {},
   "source": [
    "We are going to use scran, but the R version, because the py version was breaking with dependencies and seemed unreliable."
   ]
  },
  {
   "cell_type": "code",
   "execution_count": null,
   "metadata": {},
   "outputs": [],
   "source": [
    "%%R\n",
    "library(scran)\n",
    "library(BiocParallel)"
   ]
  },
  {
   "cell_type": "code",
   "execution_count": null,
   "metadata": {},
   "outputs": [],
   "source": [
    "data_mat = adata.X.T.todense()\n",
    "input_groups = adata.obs[\"groups\"]"
   ]
  },
  {
   "cell_type": "code",
   "execution_count": null,
   "metadata": {},
   "outputs": [],
   "source": [
    "%%R -i data_mat -i input_groups -o size_factors\n",
    "\n",
    "size_factors = sizeFactors(\n",
    "    computeSumFactors(\n",
    "        SingleCellExperiment(\n",
    "            list(counts=data_mat)), \n",
    "            clusters = input_groups,\n",
    "            min.mean = 0.1,\n",
    "            BPPARAM = MulticoreParam()\n",
    "    )\n",
    ")"
   ]
  },
  {
   "cell_type": "code",
   "execution_count": null,
   "metadata": {},
   "outputs": [],
   "source": [
    "del data_mat\n",
    "gc.collect()"
   ]
  },
  {
   "cell_type": "code",
   "execution_count": null,
   "metadata": {},
   "outputs": [],
   "source": [
    "sns.displot(size_factors)\n",
    "plt.axvline(1, c='red')"
   ]
  },
  {
   "cell_type": "code",
   "execution_count": null,
   "metadata": {},
   "outputs": [],
   "source": [
    "# Save unnormalized log1p counts\n",
    "adata.layers[\"normalization_log1p\"] = sc.pp.log1p(adata.X, copy=True)"
   ]
  },
  {
   "cell_type": "code",
   "execution_count": null,
   "metadata": {},
   "outputs": [],
   "source": [
    "# Perform the scran normalization as y = log(1 + x / size_factor)\n",
    "adata.obs[\"size_factors\"] = size_factors\n",
    "scran = adata.X / adata.obs[\"size_factors\"].values[:, None]\n",
    "adata.layers[\"normalization_scran_log1p\"] = np.log1p(scran)\n",
    "adata.layers[\"normalization_scran_log1p\"] = csr_matrix(adata.layers[\"normalization_scran_log1p\"])"
   ]
  },
  {
   "cell_type": "code",
   "execution_count": null,
   "metadata": {},
   "outputs": [],
   "source": [
    "scales_counts = sc.pp.normalize_total(adata, target_sum=1e6, inplace=False)\n",
    "# log1p transform\n",
    "adata.layers[\"normalization_CPM_1e6_log1p\"] = sc.pp.log1p(scales_counts[\"X\"], copy=True)"
   ]
  },
  {
   "cell_type": "code",
   "execution_count": null,
   "metadata": {},
   "outputs": [],
   "source": [
    "fig, axes = plt.subplots(1, 3, figsize=(15, 5), constrained_layout=True)\n",
    "\n",
    "a1 = adata.layers[\"normalization_log1p\"].sum(axis=1).A1\n",
    "a2 = adata.layers[\"normalization_scran_log1p\"].sum(axis=1).A1\n",
    "a3 = adata.layers[\"normalization_CPM_1e6_log1p\"].sum(axis=1).A1\n",
    "\n",
    "sns.histplot(a1, ax=axes[0], bins=60, kde=True)\n",
    "axes[0].set_title(\"log1p\")\n",
    "\n",
    "sns.histplot(a2, ax=axes[1], bins=60, kde=True)\n",
    "axes[1].set_title(\"scran log1p\")\n",
    "\n",
    "sns.histplot(a3, ax=axes[2], bins=60, kde=True)\n",
    "axes[2].set_title(\"CPM 1e6 log1p\")"
   ]
  },
  {
   "cell_type": "code",
   "execution_count": null,
   "metadata": {},
   "outputs": [],
   "source": [
    "adata.layers[\"normalization_CPM_1e6_log1p\"]"
   ]
  },
  {
   "cell_type": "markdown",
   "metadata": {},
   "source": [
    "# Data processing"
   ]
  },
  {
   "cell_type": "code",
   "execution_count": null,
   "metadata": {},
   "outputs": [],
   "source": [
    "adata.X = adata.layers[\"normalization_scran_log1p\"].copy()"
   ]
  },
  {
   "cell_type": "code",
   "execution_count": null,
   "metadata": {},
   "outputs": [],
   "source": [
    "sc.pp.filter_genes(adata, min_counts=1)"
   ]
  },
  {
   "cell_type": "markdown",
   "metadata": {},
   "source": [
    "### Checking batch effect correction (scanorama vs harmony)"
   ]
  },
  {
   "cell_type": "code",
   "execution_count": null,
   "metadata": {},
   "outputs": [],
   "source": [
    "from scib_metrics.benchmark import Benchmarker, BioConservation, BatchCorrection"
   ]
  },
  {
   "cell_type": "code",
   "execution_count": null,
   "metadata": {},
   "outputs": [],
   "source": [
    "sc.pp.pca(adata, random_state=seed, use_highly_variable=False, )"
   ]
  },
  {
   "cell_type": "code",
   "execution_count": null,
   "metadata": {},
   "outputs": [],
   "source": [
    "sce.pp.harmony_integrate(adata, 'batch', random_state=seed, \n",
    "                           basis='X_pca', adjusted_basis='X_harmony')\n",
    "sce.pp.scanorama_integrate(adata, 'batch', knn=int(0.5 * len(adata) ** 0.5), \n",
    "                         basis='X_pca', adjusted_basis='X_scanorama')\n"
   ]
  },
  {
   "cell_type": "code",
   "execution_count": null,
   "metadata": {},
   "outputs": [],
   "source": [
    "bm = Benchmarker(\n",
    "    adata,\n",
    "    batch_key=\"batch\",\n",
    "    label_key=\"groups\",\n",
    "    bio_conservation_metrics=BioConservation(),\n",
    "    batch_correction_metrics=BatchCorrection(bras=False, ilisi_knn=False, kbet_per_label=True, graph_connectivity=True, pcr_comparison=False),\n",
    "    embedding_obsm_keys=[\"X_pca\", \"X_scanorama\", \"X_harmony\"],\n",
    "    n_jobs=6,\n",
    ")\n",
    "bm.benchmark()\n"
   ]
  },
  {
   "cell_type": "code",
   "execution_count": null,
   "metadata": {},
   "outputs": [],
   "source": [
    "bm.plot_results_table()\n",
    "\n",
    "df = bm.get_results(min_max_scale=False)\n",
    "df"
   ]
  },
  {
   "cell_type": "markdown",
   "metadata": {},
   "source": [
    "Based on these results we are going to use harmony, although both methods seem to work fine."
   ]
  },
  {
   "cell_type": "code",
   "execution_count": null,
   "metadata": {},
   "outputs": [],
   "source": [
    "# Feature selection\n",
    "sc.pp.neighbors(adata, n_neighbors=int(0.5 * len(adata) ** 0.5), use_rep='X_harmony',\n",
    "                random_state=seed, metric='correlation')\n",
    "tk.tl.triku(adata, use_raw=False)"
   ]
  },
  {
   "cell_type": "code",
   "execution_count": null,
   "metadata": {},
   "outputs": [],
   "source": [
    "sc.pp.pca(adata, random_state=seed, use_highly_variable=True)\n",
    "sce.pp.harmony_integrate(adata, 'batch', random_state=seed, \n",
    "                           basis='X_pca', adjusted_basis='X_harmony', max_iter_harmony=30)\n",
    "sc.pp.neighbors(adata, n_neighbors=int(0.5 * len(adata) ** 0.5), random_state=seed, metric='correlation', use_rep='X_harmony')"
   ]
  },
  {
   "cell_type": "code",
   "execution_count": null,
   "metadata": {},
   "outputs": [],
   "source": [
    "sc.tl.umap(adata, min_dist=0.5)"
   ]
  },
  {
   "cell_type": "code",
   "execution_count": null,
   "metadata": {},
   "outputs": [],
   "source": [
    "sc.tl.leiden(adata, resolution=0.1, key_added='leiden')\n",
    "sc.tl.leiden(adata, resolution=1.5, key_added='leiden_sub')"
   ]
  },
  {
   "cell_type": "code",
   "execution_count": null,
   "metadata": {},
   "outputs": [],
   "source": [
    "sc.pl.umap(adata, color=['leiden', 'leiden_sub', 'batch'], ncols=3, alpha=0.4, legend_loc='on data')\n",
    "sc.pl.umap(adata, color=['log1p_n_genes_by_counts', 'pct_counts_mt', 'size_factors', 'QC_droplet'], cmap=magma)"
   ]
  },
  {
   "cell_type": "code",
   "execution_count": null,
   "metadata": {},
   "outputs": [],
   "source": [
    "sc.pl.umap(adata, color=['size_factors'], cmap=magma, vmin=0.5, vmax=2.5)"
   ]
  },
  {
   "cell_type": "markdown",
   "metadata": {},
   "source": [
    "So we see that after correcting for cell size (where \"damaged cell\" had lowest size factors), these \"damaged cells\" from FAPs become more \"disperse\" and some of them are integrated within the main cluster. "
   ]
  },
  {
   "cell_type": "markdown",
   "metadata": {},
   "source": [
    "# Kranocyte characterisation"
   ]
  },
  {
   "cell_type": "code",
   "execution_count": null,
   "metadata": {},
   "outputs": [],
   "source": [
    "A_markers = ['Smim41', 'Col9a2', 'Dlk1', 'Shisa3',  'Saa1',  'Nipal1']\n",
    "B_markers = ['Lypd2', 'Wnt6', 'Cldn1', 'Moxd1', 'Mansc4', 'Dleu7', 'Efnb3', 'Stra6', 'Sbspon',\n",
    "              'Hcn4', 'Cldn22']  \n"
   ]
  },
  {
   "cell_type": "code",
   "execution_count": null,
   "metadata": {},
   "outputs": [],
   "source": [
    "sc.pl.umap(adata, color=A_markers, cmap=magma, use_raw=False)"
   ]
  },
  {
   "cell_type": "code",
   "execution_count": null,
   "metadata": {},
   "outputs": [],
   "source": [
    "sc.pl.umap(adata, color=B_markers, cmap=magma, use_raw=False)"
   ]
  },
  {
   "cell_type": "code",
   "execution_count": null,
   "metadata": {},
   "outputs": [],
   "source": [
    "# The FACs was done as PDPN(+) CD31/Pecam1(-)\n",
    "\n",
    "sc.pl.umap(adata, color=['Pdpn', 'Pecam1', 'Pdgfra', 'Tnmd', 'Lum', 'Prg4'], cmap=magma, use_raw=False)"
   ]
  },
  {
   "cell_type": "markdown",
   "metadata": {},
   "source": [
    "## Analysis of major populations"
   ]
  },
  {
   "cell_type": "code",
   "execution_count": null,
   "metadata": {},
   "outputs": [],
   "source": [
    "dict_markers_major_populations = {\n",
    "    'Kranocyte': ['Rasgrp2', 'Tenm2', 'Inpp4b', 'Foxd2os', 'Malt1', 'Gfra2', 'Shisa3', 'Malt1', 'Thrsp', 'Gpld1', 'Smim41', 'Plxdc1', \n",
    "                  'Dlk1', 'Fetub', 'Saa1', 'Gria1', 'Greb1', 'Col9a2', 'Gli1', 'Cst6'], \n",
    "    'FAP': ['Ly6a', 'Nova1', 'Fstl1', 'Ifi205', 'Slfn5', 'Fbln2', 'Dpep1', 'Fn1', 'Pdgfra', 'Lbp', 'Ifi204'],\n",
    "    'TNMD': ['Cilp2', 'Chad', 'Scx', 'Mkx', 'Rflnb', 'Ptx4', 'Gas2', 'Kctd1', 'Edil3', 'Col11a2', 'Sox6', 'Scube2', 'Cdh2', 'Matn4'],\n",
    "    'Satellite': ['Dmd', 'Pax7', 'Chodl', 'Fgfr4', 'Notch3', 'Tenm4', 'Peg3', 'Fry'], \n",
    "    'Endothelial': ['Egfl7', 'Ptprb', 'Cdh5', 'Vwf', 'Esam', 'Cd36', 'Flt1', 'Tspan13', 'Emcn'],\n",
    "}"
   ]
  },
  {
   "cell_type": "code",
   "execution_count": null,
   "metadata": {},
   "outputs": [],
   "source": [
    "assign_cats(\n",
    "    adata,\n",
    "    dict_markers_major_populations,\n",
    "    column_groupby='leiden_sub', \n",
    "    key_added='major_population',\n",
    "    quantile_gene_sel=0.999,\n",
    "    min_score=0.3, \n",
    ")"
   ]
  },
  {
   "cell_type": "code",
   "execution_count": null,
   "metadata": {},
   "outputs": [],
   "source": [
    "sc.pl.umap(adata, color=['major_population'], cmap=magma, use_raw=False)"
   ]
  },
  {
   "cell_type": "markdown",
   "metadata": {},
   "source": [
    "## Analysing Tnmd+ populations"
   ]
  },
  {
   "cell_type": "code",
   "execution_count": null,
   "metadata": {},
   "outputs": [],
   "source": [
    "dict_markers_tnmd = {\n",
    "    'TNMD_A': ['Sparcl1', 'F2r', 'Col4a2', 'Ptpre', 'Col22a1', 'Fbn2', 'Col18a1', 'Rapgef4', 'Lrrn2', 'Reln', 'Adam23',],\n",
    "    'TNMD_B': ['Ccdc3', 'Bmpr1b', 'Cav1', 'Wif1', 'Kera', 'C3', 'Sema3b', 'Sema3c', 'Chrdl1', 'Grem2', 'Itga2', 'Hpgd', 'Bmp3', 'Clu'],\n",
    "    'TNMD_C': ['Gpx3', 'Col8a1', 'Bicc1', 'Runx2', 'Smoc2', 'Camk4', 'Spon1', 'Wnt16', 'Slit2', 'Ostn', 'H19', 'Igf2'],\n",
    "    'TNMD_D': ['Abca8a', 'Celf2', 'Mfap5', 'Col14a1', 'Dpt', 'Abca8b', 'Lum', 'Cd34']\n",
    "}"
   ]
  },
  {
   "cell_type": "code",
   "execution_count": null,
   "metadata": {},
   "outputs": [],
   "source": [
    "adata_tnmd = adata[adata.obs['major_population'] == 'TNMD'].copy()\n",
    "\n",
    "preprocessing_adata_sub(adata_tnmd)\n",
    "sc.tl.leiden(adata_tnmd, resolution=0.2, key_added='leiden_sub')\n",
    "sc.tl.leiden(adata_tnmd, resolution=1.2, key_added='leiden_cellassign')\n",
    "sc.tl.umap(adata_tnmd, min_dist=0.1, random_state=seed)"
   ]
  },
  {
   "cell_type": "code",
   "execution_count": null,
   "metadata": {},
   "outputs": [],
   "source": []
  },
  {
   "cell_type": "code",
   "execution_count": null,
   "metadata": {},
   "outputs": [],
   "source": [
    "sc.pl.umap(adata_tnmd, color=dict_markers_tnmd['TNMD_C'], cmap=magma, use_raw=False)"
   ]
  },
  {
   "cell_type": "code",
   "execution_count": null,
   "metadata": {},
   "outputs": [],
   "source": [
    "sc.pl.umap(adata_tnmd, color=['batch', 'leiden_sub', 'leiden_cellassign'])"
   ]
  },
  {
   "cell_type": "code",
   "execution_count": null,
   "metadata": {},
   "outputs": [],
   "source": [
    "sc.tl.rank_genes_groups(adata_tnmd, groupby='leiden_sub', use_raw=False)\n",
    "# sc.pl.umap(adata_tnmd, color=adata_tnmd.uns['rank_genes_groups']['names']['2'][0:150], cmap=magma, use_raw=False, ncols=5)"
   ]
  },
  {
   "cell_type": "code",
   "execution_count": null,
   "metadata": {},
   "outputs": [],
   "source": [
    "sc.pl.umap(adata_tnmd, color=['batch', 'leiden_sub', 'QC_droplet', \n",
    "                                   'n_spliced_log1p', 'n_unspliced_log1p', 'n_ambiguous_log1p', \n",
    "                                   'nuclear_RNA_frac', 'MALAT1', 'n_cellbender_log1p'], ncols=3, \n",
    "                                   alpha=0.9, legend_loc='on data')"
   ]
  },
  {
   "cell_type": "code",
   "execution_count": null,
   "metadata": {},
   "outputs": [],
   "source": [
    "df_pvals = plot_volcano(adata_tnmd, '0', pval_threshold=1e-3, lfc_threshold=2, topn=10, bottomn=0, return_df=True)\n",
    "sc.pl.umap(adata_tnmd, color=df_pvals.sort_values(by='pvalxlfc', ascending=False)['gene'].values[:10], cmap=magma, use_raw=False, ncols=5)"
   ]
  },
  {
   "cell_type": "code",
   "execution_count": null,
   "metadata": {},
   "outputs": [],
   "source": [
    "df_pvals = plot_volcano(adata_tnmd, '1', pval_threshold=1e-3, lfc_threshold=1, topn=10, bottomn=0, return_df=True)\n",
    "sc.pl.umap(adata_tnmd, color=df_pvals.sort_values(by='pvalxlfc', ascending=False)['gene'].values[:10], cmap=magma, use_raw=False, ncols=5)"
   ]
  },
  {
   "cell_type": "code",
   "execution_count": null,
   "metadata": {},
   "outputs": [],
   "source": [
    "df_pvals = plot_volcano(adata_tnmd, '2', pval_threshold=1e-3, lfc_threshold=2, topn=10, bottomn=0, return_df=True)\n",
    "sc.pl.umap(adata_tnmd, color=df_pvals.sort_values(by='pvalxlfc', ascending=False)['gene'].values[:10], cmap=magma, use_raw=False, ncols=5)"
   ]
  },
  {
   "cell_type": "code",
   "execution_count": null,
   "metadata": {},
   "outputs": [],
   "source": [
    "df_pvals = plot_volcano(adata_tnmd, '3', pval_threshold=1e-3, lfc_threshold=2, topn=10, bottomn=0, return_df=True)\n",
    "sc.pl.umap(adata_tnmd, color=df_pvals.sort_values(by='pvalxlfc', ascending=False)['gene'].values[:10], cmap=magma, use_raw=False, ncols=5)"
   ]
  },
  {
   "cell_type": "code",
   "execution_count": null,
   "metadata": {},
   "outputs": [],
   "source": [
    "assign_cats(\n",
    "    adata_tnmd,\n",
    "    dict_markers_tnmd,\n",
    "    column_groupby='leiden_cellassign', \n",
    "    key_added='minor_population',\n",
    "    quantile_gene_sel=0.99,\n",
    "    min_score=0.3, \n",
    ")\n",
    "\n",
    "sc.pl.umap(adata_tnmd, color=['minor_population'], cmap=magma, use_raw=False)"
   ]
  },
  {
   "cell_type": "markdown",
   "metadata": {},
   "source": [
    "## Analysing Satellite populations"
   ]
  },
  {
   "cell_type": "code",
   "execution_count": null,
   "metadata": {},
   "outputs": [],
   "source": [
    "dict_markers_satellite = {\n",
    "    'SAT_A': ['Cox4i1', 'Hint1', 'Itm2a', 'Cox7a2l', 'Apoe', 'Eif3f', 'Selenof', 'Nme2', 'Ppib', 'Gapdh', \n",
    "              'Serf2', 'Myl6', 'Ost4', 'Itm2b', 'Actb', 'Tubb2b', 'Selenok', 'Use1', 'Elob', 'Ctsl', 'Drap1'],   # No clear markers\n",
    "    'SAT_B': ['Dmd', 'Rora', 'Ror1', 'Esr1', 'Ext1', 'Taco1', 'Nf1', 'Ncoa2', 'Pias1', 'Nbea', 'Frem1', 'Bcl2', 'Faf1', 'Slc9a9'],\n",
    "    'SAT_C': ['Bgn', 'Dcn', 'Col1a2', 'Col1a1', 'Dlc1', 'Pcolce', 'Nid1', 'Rnase4', 'Spry2', 'Serpinf1', 'Clec3b', 'Col6a3', 'Mfap5', 'Lum', 'C1s1', 'Ly6a', 'Pdgfra', \n",
    "              'Phldb1', 'Ly6c1', 'Loxl1', 'Meox2', 'Vcan', 'B4galt1', 'Svil', 'Gpc3', 'Tns1', 'Dpysl3', \n",
    "              ]\n",
    "}"
   ]
  },
  {
   "cell_type": "code",
   "execution_count": null,
   "metadata": {},
   "outputs": [],
   "source": [
    "adata_satellite = adata[adata.obs['major_population'] == 'Satellite'].copy()\n",
    "\n",
    "preprocessing_adata_sub(adata_satellite)\n",
    "sc.tl.leiden(adata_satellite, resolution=0.3, key_added='leiden_sub')\n",
    "sc.tl.leiden(adata_satellite, resolution=1.2, key_added='leiden_cellassign')\n",
    "sc.tl.umap(adata_satellite, min_dist=1, random_state=seed)"
   ]
  },
  {
   "cell_type": "code",
   "execution_count": null,
   "metadata": {},
   "outputs": [],
   "source": [
    "sc.pl.umap(adata_satellite, color=['batch', 'leiden_sub', 'leiden_cellassign'])"
   ]
  },
  {
   "cell_type": "code",
   "execution_count": null,
   "metadata": {},
   "outputs": [],
   "source": [
    "# %%script True\n",
    "\n",
    "sc.tl.rank_genes_groups(adata_satellite, groupby='leiden_sub', use_raw=False)\n",
    "# sc.pl.umap(adata_satellite, color=adata_satellite.uns['rank_genes_groups']['names']['3'][:100], cmap=magma, use_raw=False, ncols=5)"
   ]
  },
  {
   "cell_type": "code",
   "execution_count": null,
   "metadata": {},
   "outputs": [],
   "source": [
    "sc.pl.umap(adata_satellite, color=['batch', 'leiden_sub', 'QC_droplet', \n",
    "                                   'n_spliced_log1p', 'n_unspliced_log1p', 'n_ambiguous_log1p', \n",
    "                                   'nuclear_RNA_frac', 'MALAT1', 'n_cellbender_log1p'], ncols=3, \n",
    "                                   alpha=0.9, legend_loc='on data')"
   ]
  },
  {
   "cell_type": "code",
   "execution_count": null,
   "metadata": {},
   "outputs": [],
   "source": [
    "df_pvals = plot_volcano(adata_satellite, '0', pval_threshold=1e-20, lfc_threshold=2, topn=10, bottomn=0, return_df=True, plot_positive_only=True)\n",
    "sc.pl.umap(adata_satellite, color=df_pvals.sort_values(by='pvalxlfc', ascending=False)['gene'].values[:10], cmap=magma, use_raw=False, ncols=5)"
   ]
  },
  {
   "cell_type": "code",
   "execution_count": null,
   "metadata": {},
   "outputs": [],
   "source": [
    "df_pvals = plot_volcano(adata_satellite, '1', pval_threshold=1e-10, lfc_threshold=1, topn=10, bottomn=0, return_df=True, plot_positive_only=True)\n",
    "sc.pl.umap(adata_satellite, color=df_pvals.sort_values(by='pvalxlfc', ascending=False)['gene'].values[:10], cmap=magma, use_raw=False, ncols=5)"
   ]
  },
  {
   "cell_type": "code",
   "execution_count": null,
   "metadata": {},
   "outputs": [],
   "source": [
    "df_pvals = plot_volcano(adata_satellite, '2', pval_threshold=1e-2, lfc_threshold=1, topn=10, bottomn=0, return_df=True, plot_positive_only=True)\n",
    "sc.pl.umap(adata_satellite, color=df_pvals.sort_values(by='pvalxlfc', ascending=False)['gene'].values[:10], cmap=magma, use_raw=False, ncols=5)"
   ]
  },
  {
   "cell_type": "code",
   "execution_count": null,
   "metadata": {},
   "outputs": [],
   "source": [
    "assign_cats(\n",
    "    adata_satellite,\n",
    "    dict_markers_satellite,\n",
    "    column_groupby='leiden_cellassign', \n",
    "    key_added='minor_population',\n",
    "    quantile_gene_sel=0.99,\n",
    "    min_score=0.3, \n",
    ")\n",
    "\n",
    "sc.pl.umap(adata_satellite, color=['minor_population'], cmap=magma, use_raw=False)"
   ]
  },
  {
   "cell_type": "markdown",
   "metadata": {},
   "source": [
    "## Analysing Kranocyte populations"
   ]
  },
  {
   "cell_type": "code",
   "execution_count": null,
   "metadata": {},
   "outputs": [],
   "source": [
    "dict_markers_kranocyte = {\n",
    "    'Krano_A1': ['Dpt', 'S100a10', 'Ly6a', 'Cxcl14', 'Gpx3', 'Cd302', 'Cst3', 'Rbp4'],\n",
    "    'Krano_A2': ['Meg3', 'Arhgap24', 'Adatms12', 'Grm8', 'Pardb3', 'Rian', 'Nav3', 'Trps1', 'Gria1', 'Grk5', 'Taco1', 'Tspan11'],\n",
    "    'Krano_B1': ['Cpe', 'Cox6c', 'Angptl7', 'Foxd1', 'Thbs4', 'Tenm2', 'Gjb5', 'Ifitm1', 'Prxl2a'],\n",
    "    'Krano_B2': ['Tenm2', 'Dlc1', 'Piezo2', 'Sorsc3', 'Cnksr2', 'Phactr3', 'Col26a1', 'Tsc1', 'Lrfn2', 'Thsd4'],\n",
    "    }"
   ]
  },
  {
   "cell_type": "code",
   "execution_count": null,
   "metadata": {},
   "outputs": [],
   "source": [
    "B_markers = ['Cpe', 'Slc1a3', 'Tec', 'Tenm2', 'Piezo2', 'Kif21a', 'Foxd1', 'Mamdc2', \n",
    "                                       'Foxd2os', 'Unc13c', 'Cldn1', \n",
    "                                      'Col28a1']\n",
    "A_markers = ['Sorl1', 'Spon1', 'Alpl', 'Gpld1', 'Rgs17', 'Psat1', 'Trpm6', 'Nkd1', 'Sphkap', \n",
    "                                       'Dlk1', 'Thrsp',]\n"
   ]
  },
  {
   "cell_type": "code",
   "execution_count": null,
   "metadata": {},
   "outputs": [],
   "source": [
    "adata_kranocyte = adata[adata.obs['major_population'] == 'Kranocyte'].copy()\n",
    "\n",
    "preprocessing_adata_sub(adata_kranocyte)\n",
    "sc.tl.leiden(adata_kranocyte, resolution=0.15, key_added='leiden_sub')\n",
    "sc.tl.leiden(adata_kranocyte, resolution=1.2, key_added='leiden_cellassign')\n",
    "sc.tl.umap(adata_kranocyte, min_dist=0.1, random_state=seed)"
   ]
  },
  {
   "cell_type": "code",
   "execution_count": null,
   "metadata": {},
   "outputs": [],
   "source": [
    "sc.tl.leiden(adata_kranocyte, resolution=0.2, key_added='leiden_sub')\n",
    "sc.tl.leiden(adata_kranocyte, resolution=1.2, key_added='leiden_cellassign')\n",
    "sc.tl.umap(adata_kranocyte, min_dist=0.1, random_state=seed)"
   ]
  },
  {
   "cell_type": "code",
   "execution_count": null,
   "metadata": {},
   "outputs": [],
   "source": [
    "sc.pl.umap(adata_kranocyte, color=['batch', 'leiden_sub', 'leiden_cellassign'])"
   ]
  },
  {
   "cell_type": "code",
   "execution_count": null,
   "metadata": {},
   "outputs": [],
   "source": [
    "sc.tl.rank_genes_groups(adata_kranocyte, groupby='leiden_sub', use_raw=False)\n",
    "# sc.pl.umap(adata_kranocyte, color=adata_kranocyte.uns['rank_genes_groups']['names']['1'][:100], cmap=magma, use_raw=False, ncols=5)"
   ]
  },
  {
   "cell_type": "code",
   "execution_count": null,
   "metadata": {},
   "outputs": [],
   "source": [
    "sc.pl.umap(adata_kranocyte, color=['batch', 'leiden_sub', 'QC_droplet', \n",
    "                                   'n_spliced_log1p', 'n_unspliced_log1p', 'n_ambiguous_log1p', \n",
    "                                   'nuclear_RNA_frac', 'MALAT1', 'n_cellbender_log1p'], ncols=3, \n",
    "                                   alpha=0.9, legend_loc='on data')"
   ]
  },
  {
   "cell_type": "code",
   "execution_count": null,
   "metadata": {},
   "outputs": [],
   "source": [
    "df_pvals = plot_volcano(adata_kranocyte, '0', pval_threshold=1e-10, lfc_threshold=2, topn=10, bottomn=0, return_df=True, plot_positive_only=True)\n",
    "sc.pl.umap(adata_kranocyte, color=df_pvals.sort_values(by='pvalxlfc', ascending=False)['gene'].values[:20], cmap=magma, use_raw=False, ncols=5)"
   ]
  },
  {
   "cell_type": "code",
   "execution_count": null,
   "metadata": {},
   "outputs": [],
   "source": [
    "df_pvals = plot_volcano(adata_kranocyte, '1', pval_threshold=1e-3, lfc_threshold=1, topn=20, bottomn=0, return_df=True, plot_positive_only=True)\n",
    "sc.pl.umap(adata_kranocyte, color=df_pvals.sort_values(by='pvalxlfc', ascending=False)['gene'].values[:10], cmap=magma, use_raw=False, ncols=5)"
   ]
  },
  {
   "cell_type": "code",
   "execution_count": null,
   "metadata": {},
   "outputs": [],
   "source": [
    "df_pvals = plot_volcano(adata_kranocyte, '2', pval_threshold=1e-5, lfc_threshold=1, topn=10, bottomn=0, return_df=True, plot_positive_only=True)\n",
    "sc.pl.umap(adata_kranocyte, color=df_pvals.sort_values(by='pvalxlfc', ascending=False)['gene'].values[:10], cmap=magma, use_raw=False, ncols=5)"
   ]
  },
  {
   "cell_type": "code",
   "execution_count": null,
   "metadata": {},
   "outputs": [],
   "source": [
    "df_pvals = plot_volcano(adata_kranocyte, '3', pval_threshold=0.05, lfc_threshold=1, topn=20, bottomn=0, return_df=True, plot_positive_only=True)\n",
    "sc.pl.umap(adata_kranocyte, color=df_pvals.sort_values(by='pvalxlfc', ascending=False)['gene'].values[:10], cmap=magma, use_raw=False, ncols=5)"
   ]
  },
  {
   "cell_type": "code",
   "execution_count": null,
   "metadata": {},
   "outputs": [],
   "source": [
    "assign_cats(\n",
    "    adata_kranocyte,\n",
    "    dict_markers_kranocyte,\n",
    "    column_groupby='leiden_cellassign', \n",
    "    key_added='minor_population',\n",
    "    quantile_gene_sel=0.99,\n",
    "    min_score=0.3, \n",
    ")\n",
    "\n",
    "sc.pl.umap(adata_kranocyte, color=['minor_population'], cmap=magma, use_raw=False)"
   ]
  },
  {
   "cell_type": "markdown",
   "metadata": {},
   "source": [
    "## Analysing FAP populations"
   ]
  },
  {
   "cell_type": "code",
   "execution_count": null,
   "metadata": {},
   "outputs": [],
   "source": [
    "dict_markers_FAP = {\n",
    "    'FAP_A1': ['Pi16', 'Dact2', 'Uchl1', 'Efemp1', 'Car8', 'Cmah', 'Il18', 'Stmn4', 'Efhd1', 'Sbsn', ],\n",
    "    'FAP_A2': ['Sdk1', 'Opcml', 'Ppp2r2b', 'Slc4a4', 'Efna5', 'Ang', 'Adamts16', 'Taco1', 'Pdgfd', 'Rorb'], # Not good quality\n",
    "    'FAP_B1': ['Cxcl14', 'Hsd11b1', 'Smoc2', 'Col15a1', 'Mme', 'G0s2', 'Col4a1', 'Lamb1', 'Col4a2', \n",
    "               'Cldn15', 'Clec14a', 'Nmb', 'Vwa1', 'Crlf1',],\n",
    "    'FAP_B2': ['Grm8', 'Rora', 'Plxdc2', 'Ank2', 'Pcdh7', 'Eda', 'Tnik', 'Adgrl3', 'Elmo1'],\n",
    "    'FAP_C': ['Gdf10', 'C2', 'Cygb', 'Fmo2', 'Nr2f2', 'Csmd1', 'Prdm6', 'Abcc9', 'Gria4', 'Clec11a', 'Ism1', \n",
    "               'Gata6', 'Pltp', 'Hhip', 'Tspan11', 'Tent5c'],\n",
    "    'FAP_D': ['Steap4', 'Apoe', 'Cyp1b1', 'Aoc3', 'Ccl19-ps4', 'Sfrp1', 'Adam12', 'Emb', \n",
    "               'Agt', 'Pparg',  ],\n",
    "    'FAP_E': ['Mgp', 'Hmcn1', 'Meox1', 'Meox2', 'Clu', 'Etl4', 'Kctd12', 'Boc', 'Daam2', 'Matn2', \n",
    "              'Robo2', 'Clec1a', 'Myo10', 'Sgip1', 'Myo1b', 'Ptn', 'Mettl24', 'Rgs7bp'],\n",
    "    'FAP_F': ['Thbs2', 'Gpx3', 'Cilp', 'Fgl2', 'Lox', 'Aspn', 'Ccdc80', 'Igfbp3', 'Dkk2', 'Ecrg4', 'Tnmd', \n",
    "              'Col12a1', 'Pappa2', 'Egfl6', 'Fibin', 'Ccn5', 'Sfrp4', 'Fxyd6', ],\n",
    "    }"
   ]
  },
  {
   "cell_type": "code",
   "execution_count": null,
   "metadata": {},
   "outputs": [],
   "source": [
    "adata_FAP = adata[adata.obs['major_population'] == 'FAP'].copy()\n",
    "\n",
    "preprocessing_adata_sub(adata_FAP)\n",
    "sc.tl.leiden(adata_FAP, resolution=0.15, key_added='leiden_sub')\n",
    "sc.tl.leiden(adata_FAP, resolution=1.2, key_added='leiden_cellassign')\n",
    "sc.tl.umap(adata_FAP, min_dist=0.1, random_state=seed)"
   ]
  },
  {
   "cell_type": "code",
   "execution_count": null,
   "metadata": {},
   "outputs": [],
   "source": [
    "sc.tl.leiden(adata_FAP, resolution=0.6, key_added='leiden_sub')\n",
    "sc.tl.leiden(adata_FAP, resolution=1.2, key_added='leiden_cellassign')\n",
    "sc.tl.umap(adata_FAP, min_dist=0.1, random_state=seed)"
   ]
  },
  {
   "cell_type": "code",
   "execution_count": null,
   "metadata": {},
   "outputs": [],
   "source": [
    "sc.pl.umap(adata_FAP, color=['batch', 'leiden_sub', 'leiden_cellassign'])"
   ]
  },
  {
   "cell_type": "code",
   "execution_count": null,
   "metadata": {},
   "outputs": [],
   "source": [
    "# %%script True\n",
    "\n",
    "sc.tl.rank_genes_groups(adata_FAP, groupby='leiden_sub', use_raw=False)\n",
    "# sc.pl.umap(adata_FAP, color=adata_FAP.uns['rank_genes_groups']['names']['1'][:100], cmap=magma, use_raw=False, ncols=5)"
   ]
  },
  {
   "cell_type": "code",
   "execution_count": null,
   "metadata": {},
   "outputs": [],
   "source": [
    "sc.pl.umap(adata_FAP, color=['batch', 'leiden_sub', 'QC_droplet', \n",
    "                                   'n_spliced_log1p', 'n_unspliced_log1p', 'n_ambiguous_log1p', \n",
    "                                   'nuclear_RNA_frac', 'MALAT1', 'n_cellbender_log1p'], ncols=3, \n",
    "                                   alpha=0.9, legend_loc='on data')"
   ]
  },
  {
   "cell_type": "code",
   "execution_count": null,
   "metadata": {},
   "outputs": [],
   "source": [
    "df_pvals = plot_volcano(adata_FAP, '0', pval_threshold=1e-50, lfc_threshold=1, topn=30, bottomn=0, return_df=True, plot_positive_only=True)\n",
    "sc.pl.umap(adata_FAP, color=['leiden_sub'] + df_pvals.sort_values(by='pvalxlfc', ascending=False)['gene'].values[:14].tolist(), cmap=magma, use_raw=False, ncols=5)"
   ]
  },
  {
   "cell_type": "code",
   "execution_count": null,
   "metadata": {},
   "outputs": [],
   "source": [
    "df_pvals = plot_volcano(adata_FAP, '3', pval_threshold=1e-50, lfc_threshold=1, topn=30, bottomn=0, return_df=True, plot_positive_only=True)\n",
    "sc.pl.umap(adata_FAP, color=['leiden_sub'] + df_pvals.sort_values(by='pvalxlfc', ascending=False)['gene'].values[:14].tolist(), cmap=magma, use_raw=False, ncols=5)"
   ]
  },
  {
   "cell_type": "code",
   "execution_count": null,
   "metadata": {},
   "outputs": [],
   "source": [
    "df_pvals = plot_volcano(adata_FAP, '9', pval_threshold=1e-40, lfc_threshold=1, topn=20, bottomn=0, return_df=True, plot_positive_only=True)\n",
    "sc.pl.umap(adata_FAP, color=['leiden_sub'] + df_pvals.sort_values(by='pvalxlfc', ascending=False)['gene'].values[:14].tolist(), cmap=magma, use_raw=False, ncols=5)"
   ]
  },
  {
   "cell_type": "code",
   "execution_count": null,
   "metadata": {},
   "outputs": [],
   "source": [
    "df_pvals = plot_volcano(adata_FAP, '1', pval_threshold=1e-50, lfc_threshold=1, topn=50, bottomn=0, return_df=True, plot_positive_only=True)\n",
    "sc.pl.umap(adata_FAP, color=['leiden_sub'] + df_pvals.sort_values(by='pvalxlfc', ascending=False)['gene'].values[:14].tolist(), cmap=magma, use_raw=False, ncols=5)"
   ]
  },
  {
   "cell_type": "code",
   "execution_count": null,
   "metadata": {},
   "outputs": [],
   "source": [
    "df_pvals = plot_volcano(adata_FAP, '4', pval_threshold=1e-50, lfc_threshold=1, topn=50, bottomn=0, return_df=True, plot_positive_only=True)\n",
    "sc.pl.umap(adata_FAP, color=['leiden_sub'] + df_pvals.sort_values(by='pvalxlfc', ascending=False)['gene'].values[:14].tolist(), cmap=magma, use_raw=False, ncols=5)"
   ]
  },
  {
   "cell_type": "code",
   "execution_count": null,
   "metadata": {},
   "outputs": [],
   "source": [
    "df_pvals = plot_volcano(adata_FAP, '7', pval_threshold=1e-50, lfc_threshold=1, topn=50, bottomn=0, return_df=True, plot_positive_only=True)\n",
    "sc.pl.umap(adata_FAP, color=['leiden_sub'] + df_pvals.sort_values(by='pvalxlfc', ascending=False)['gene'].values[:14].tolist(), cmap=magma, use_raw=False, ncols=5)"
   ]
  },
  {
   "cell_type": "code",
   "execution_count": null,
   "metadata": {},
   "outputs": [],
   "source": [
    "df_pvals = plot_volcano(adata_FAP, '6', pval_threshold=1e-30, lfc_threshold=1, topn=20, bottomn=0, return_df=True, plot_positive_only=True)\n",
    "sc.pl.umap(adata_FAP, color=['leiden_sub'] + df_pvals.sort_values(by='pvalxlfc', ascending=False)['gene'].values[:14].tolist()\n",
    ", cmap=magma, use_raw=False, ncols=5)"
   ]
  },
  {
   "cell_type": "code",
   "execution_count": null,
   "metadata": {},
   "outputs": [],
   "source": [
    "df_pvals = plot_volcano(adata_FAP, '5', pval_threshold=1e-50, lfc_threshold=1, topn=10, bottomn=0, return_df=True, plot_positive_only=True)\n",
    "sc.pl.umap(adata_FAP, color=['leiden_sub'] + df_pvals.sort_values(by='pvalxlfc', ascending=False)['gene'].values[:14].tolist(), cmap=magma, use_raw=False, ncols=5)"
   ]
  },
  {
   "cell_type": "code",
   "execution_count": null,
   "metadata": {},
   "outputs": [],
   "source": [
    "df_pvals = plot_volcano(adata_FAP, '2', pval_threshold=1e-50, lfc_threshold=1, topn=20, bottomn=0, return_df=True, plot_positive_only=True)\n",
    "sc.pl.umap(adata_FAP, color=['leiden_sub'] + df_pvals.sort_values(by='pvalxlfc', ascending=False)['gene'].values[:14].tolist(), cmap=magma, use_raw=False, ncols=5)"
   ]
  },
  {
   "cell_type": "code",
   "execution_count": null,
   "metadata": {},
   "outputs": [],
   "source": [
    "df_pvals = plot_volcano(adata_FAP, '8', pval_threshold=1e-50, lfc_threshold=1, topn=10, bottomn=0, return_df=True, plot_positive_only=True)\n",
    "sc.pl.umap(adata_FAP, color=['leiden_sub'] + df_pvals.sort_values(by='pvalxlfc', ascending=False)['gene'].values[:14].tolist(), cmap=magma, use_raw=False, ncols=5)"
   ]
  },
  {
   "cell_type": "code",
   "execution_count": null,
   "metadata": {},
   "outputs": [],
   "source": [
    "assign_cats(\n",
    "    adata_FAP,\n",
    "    dict_markers_FAP,\n",
    "    column_groupby='leiden_cellassign', \n",
    "    key_added='minor_population',\n",
    "    quantile_gene_sel=0.7,\n",
    "    min_score=0.3, \n",
    ")\n",
    "\n",
    "sc.pl.umap(adata_FAP, color=['minor_population'], cmap=magma, use_raw=False)"
   ]
  },
  {
   "cell_type": "markdown",
   "metadata": {},
   "source": [
    "## Analysis of endothelial subpopulations (Not applied because of too few cells)"
   ]
  },
  {
   "cell_type": "code",
   "execution_count": null,
   "metadata": {},
   "outputs": [],
   "source": [
    "adata_endo = adata[adata.obs['major_population'] == 'Endothelial'].copy()\n",
    "\n",
    "preprocessing_adata_sub(adata_endo, integrate=False, k=5)\n",
    "sc.tl.leiden(adata_endo, resolution=0.15, key_added='leiden_sub')\n",
    "sc.tl.leiden(adata_endo, resolution=1.2, key_added='leiden_cellassign')\n",
    "sc.tl.umap(adata_endo, min_dist=0.1, random_state=seed)"
   ]
  },
  {
   "cell_type": "code",
   "execution_count": null,
   "metadata": {},
   "outputs": [],
   "source": [
    "sc.tl.leiden(adata_endo, resolution=0.4, key_added='leiden_sub')\n",
    "sc.tl.leiden(adata_endo, resolution=1.2, key_added='leiden_cellassign')\n",
    "sc.tl.umap(adata_endo, min_dist=0.1, random_state=seed)"
   ]
  },
  {
   "cell_type": "code",
   "execution_count": null,
   "metadata": {},
   "outputs": [],
   "source": [
    "sc.pl.umap(adata_endo, color=['batch', 'leiden_sub', 'leiden_cellassign'], s=200)"
   ]
  },
  {
   "cell_type": "code",
   "execution_count": null,
   "metadata": {},
   "outputs": [],
   "source": [
    "adata_endo.obs['minor_population'] = 'Endothelial'"
   ]
  },
  {
   "cell_type": "markdown",
   "metadata": {},
   "source": [
    "## Applying minor cell types in general adata"
   ]
  },
  {
   "cell_type": "code",
   "execution_count": null,
   "metadata": {},
   "outputs": [],
   "source": [
    "adata.obs['minor_population'] = ''\n",
    "\n",
    "for adata_sub in [adata_FAP, adata_kranocyte, adata_satellite, adata_tnmd, adata_endo]:\n",
    "    adata.obs.loc[adata_sub.obs_names, 'minor_population'] = adata_sub.obs['minor_population'].values"
   ]
  },
  {
   "cell_type": "code",
   "execution_count": null,
   "metadata": {},
   "outputs": [],
   "source": [
    "sc.pl.umap(adata, color=['major_population', 'minor_population'])"
   ]
  },
  {
   "cell_type": "markdown",
   "metadata": {},
   "source": [
    "# TODO: PSUEDOTEMPORAL\n",
    "## PHATE + PAGA\n",
    "## PHATE + VELOCYTO\n",
    "## PHATE + MONOCLE"
   ]
  },
  {
   "cell_type": "code",
   "execution_count": null,
   "metadata": {},
   "outputs": [],
   "source": []
  },
  {
   "cell_type": "code",
   "execution_count": null,
   "metadata": {},
   "outputs": [],
   "source": []
  },
  {
   "cell_type": "code",
   "execution_count": null,
   "metadata": {},
   "outputs": [],
   "source": []
  },
  {
   "cell_type": "code",
   "execution_count": null,
   "metadata": {},
   "outputs": [],
   "source": []
  },
  {
   "cell_type": "code",
   "execution_count": null,
   "metadata": {},
   "outputs": [],
   "source": []
  },
  {
   "cell_type": "code",
   "execution_count": null,
   "metadata": {},
   "outputs": [],
   "source": []
  },
  {
   "cell_type": "code",
   "execution_count": null,
   "metadata": {},
   "outputs": [],
   "source": []
  },
  {
   "cell_type": "code",
   "execution_count": null,
   "metadata": {},
   "outputs": [],
   "source": []
  },
  {
   "cell_type": "code",
   "execution_count": null,
   "metadata": {},
   "outputs": [],
   "source": []
  },
  {
   "cell_type": "markdown",
   "metadata": {},
   "source": [
    "# Preparing adata for cellxgene"
   ]
  },
  {
   "cell_type": "code",
   "execution_count": null,
   "metadata": {},
   "outputs": [],
   "source": [
    "adata_cellxgene = adata.copy()"
   ]
  },
  {
   "cell_type": "code",
   "execution_count": null,
   "metadata": {},
   "outputs": [],
   "source": [
    "adata_cellxgene.uns['schema_version'] = '3.0.0'\n",
    "adata_cellxgene.uns['title'] = 'Analysis of muscle fibroblast heterogeneity'\n",
    "adata_cellxgene.uns['batch_condition'] = ['sample']\n",
    "adata_cellxgene.uns['default_embedding'] = 'X_umap'"
   ]
  },
  {
   "cell_type": "code",
   "execution_count": null,
   "metadata": {},
   "outputs": [],
   "source": [
    "columns_in = ['scrublet', 'log1p', 'pca', 'neighbors', 'triku_params', 'umap', 'cell_assign', 'schema_version', \n",
    "'title', 'batch_condition', 'default_embedding']\n",
    "columns_out = [i for i in adata_cellxgene.uns.keys() if i not in columns_in ]\n",
    "\n",
    "print('Columns out: ', columns_out)\n",
    "\n",
    "for i in columns_out:\n",
    "    del adata_cellxgene.uns[i]"
   ]
  },
  {
   "cell_type": "code",
   "execution_count": null,
   "metadata": {},
   "outputs": [],
   "source": [
    "adata_cellxgene.obs['organism_ontology_term_id'] = 'NCBITaxon:10090'\n",
    "adata_cellxgene.obs['tissue_ontology_term_id'] = 'UBERON:0001134'\n",
    "adata_cellxgene.obs['assay_ontology_term_id'] = 'EFO:0009922' # 10x 3' v3\n",
    "adata_cellxgene.obs['disease_ontology_term_id'] = 'PATO:0000461'\n",
    "adata_cellxgene.obs['cell_type_ontology_term_id'] = 'CL:1001609'\n",
    "adata_cellxgene.obs['self_reported_ethnicity_ontology_term_id'] = 'na'\n",
    "adata_cellxgene.obs['development_stage_ontology_term_id'] = 'MmusDv:0000063'\n",
    "adata_cellxgene.obs['sex_ontology_term_id'] = 'PATO:0000384'\n",
    "adata_cellxgene.obs['donor_id'] = adata_cellxgene.obs['sample']\n",
    "adata_cellxgene.obs['suspension_type'] = 'cell'\n"
   ]
  },
  {
   "cell_type": "code",
   "execution_count": null,
   "metadata": {},
   "outputs": [],
   "source": [
    "adata_cellxgene.obs = adata_cellxgene.obs.rename(columns={'assigned_cats': 'author_cell_type', 'leiden_assignedcats': 'leiden'})\n",
    "\n",
    "accepted_cats = ['sample', 'log1p_n_genes_by_counts', 'log1p_total_counts', 'pct_counts_mt',\n",
    "                'author_cell_type', 'organism_ontology_term_id', \n",
    "                'tissue_ontology_term_id', 'assay_ontology_term_id', 'disease_ontology_term_id', 'cell_type_ontology_term_id', \n",
    "                'self_reported_ethnicity_ontology_term_id', 'development_stage_ontology_term_id', 'sex_ontology_term_id', 'donor_id', \n",
    "                'suspension_type']\n",
    "  \n",
    "adata_cellxgene.obs = adata_cellxgene.obs[accepted_cats]\n",
    "\n",
    "for cat in accepted_cats:\n",
    "    if cat not in ['log1p_n_genes_by_counts', 'log1p_total_counts', 'pct_counts_mt']:\n",
    "        adata_cellxgene.obs[cat] = adata_cellxgene.obs[cat].astype('category')\n"
   ]
  },
  {
   "cell_type": "code",
   "execution_count": null,
   "metadata": {},
   "outputs": [],
   "source": [
    "for var in [\"highly_variable\", \"triku_highly_variable\", \"mt\"]:\n",
    "    del adata_cellxgene.var[var]"
   ]
  },
  {
   "cell_type": "code",
   "execution_count": null,
   "metadata": {},
   "outputs": [],
   "source": [
    "del adata_cellxgene.obsm['X_triku']\n",
    "del adata_cellxgene.varm\n",
    "del adata_cellxgene.obsp"
   ]
  },
  {
   "cell_type": "code",
   "execution_count": null,
   "metadata": {},
   "outputs": [],
   "source": [
    "adata_cellxgene.var_names = adata.var['ensemble_ID']"
   ]
  },
  {
   "cell_type": "code",
   "execution_count": null,
   "metadata": {},
   "outputs": [],
   "source": [
    "adata_cellxgene.X = adata_cellxgene.X.astype(np.float32)"
   ]
  },
  {
   "cell_type": "code",
   "execution_count": null,
   "metadata": {},
   "outputs": [],
   "source": [
    "adata_cellxgene.raw.var.set_index('ensemble_ID', inplace=True)\n",
    "adata_cellxgene.raw.var.drop(columns=['gene_symbol'], inplace=True)"
   ]
  },
  {
   "cell_type": "code",
   "execution_count": null,
   "metadata": {},
   "outputs": [],
   "source": [
    "genes_add = [e for e in adata_cellxgene.raw.var.index if e not in adata_cellxgene.var.index]\n",
    "\n",
    "new_matrix = sparse.csr_matrix((adata_cellxgene.X.data, adata_cellxgene.X.indices, adata_cellxgene.X.indptr), shape = adata_cellxgene.raw.shape)\n",
    "\n",
    "all_genes = adata_cellxgene.var.index.to_list()\n",
    "all_genes.extend(genes_add)\n",
    "\n",
    "new_var = pd.DataFrame(index=all_genes)\n",
    "new_var = pd.merge(new_var, adata_cellxgene.var, left_index=True, right_index=True, how='left')\n",
    "new_var.loc[genes_add, 'feature_is_filtered'] = True\n",
    "\n",
    "new_adata = ad.AnnData(X=new_matrix, dtype=new_matrix.dtype, \n",
    "                        obs=adata_cellxgene.obs, var=new_var, uns=adata_cellxgene.uns, obsm=adata_cellxgene.obsm, raw = adata_cellxgene.raw)\n",
    "new_adata = new_adata[:,adata_cellxgene.raw.var.index.to_list()]\n",
    "new_adata.var.loc[adata_cellxgene.var.index, 'feature_is_filtered'] = False\n",
    "new_adata.var['feature_is_filtered'] = new_adata.var['feature_is_filtered'].astype(bool)\n",
    "\n"
   ]
  },
  {
   "cell_type": "code",
   "execution_count": null,
   "metadata": {},
   "outputs": [],
   "source": [
    "adata_cellxgene = new_adata"
   ]
  },
  {
   "cell_type": "code",
   "execution_count": null,
   "metadata": {},
   "outputs": [],
   "source": [
    "adata_cellxgene.write_h5ad('data/ARAUZO_03/20230623/output_nfcore/alevin/mtx_conversions/combined_matrix_cellxgene.h5ad', \n",
    "                 compression='gzip')"
   ]
  },
  {
   "cell_type": "markdown",
   "metadata": {},
   "source": [
    "# Exporting HTML"
   ]
  },
  {
   "cell_type": "code",
   "execution_count": null,
   "metadata": {},
   "outputs": [],
   "source": [
    "!jupyter nbconvert --to html /data/Proyectos/kranocito/4_Analysis_of_krano_dataset.ipynb"
   ]
  },
  {
   "cell_type": "code",
   "execution_count": null,
   "metadata": {},
   "outputs": [],
   "source": []
  },
  {
   "cell_type": "code",
   "execution_count": null,
   "metadata": {},
   "outputs": [],
   "source": []
  },
  {
   "cell_type": "code",
   "execution_count": null,
   "metadata": {},
   "outputs": [],
   "source": []
  },
  {
   "cell_type": "code",
   "execution_count": null,
   "metadata": {},
   "outputs": [],
   "source": [
    "    Preprocessing (this should be done with each sample individually): \n",
    "\n",
    "    Normalization: compute s-factors using scran and divide counts >> .obs[s_factor],  .layers[s_counts] \n",
    "\n",
    "    Calculate normalized metrics \n",
    "\n",
    "    Apply log1p transform (log y/s + 1) >> .layer[log_counts] (the default one) \n",
    "\n",
    "    RPM based on y/s >> .layer[RPM] \n",
    "\n",
    "    Pearson residuals. >> .layer[pearson_residuals] \n",
    "\n",
    "    Sample integration (harmony or scanorama) \n",
    "\n",
    "    Feature selection using Triku \n",
    "\n",
    "    PCA \n",
    "\n",
    "    kNN with cosine  \n",
    "\n",
    "    UMAP >> Remove low QC cells and exclude clusters driven by technical artefacts \n",
    "\n",
    "    Rerun PCA -> UMAP to ensure that removal of lowQC clusters did not affect overall dataset structure. \n",
    "\n",
    "    Dataset QC metrics captured (metrics per dataset): \n",
    "\n",
    "    STAR alignment metrics (% mapped) \n",
    "\n",
    "    10X QC metrics  \n",
    "\n",
    "    Percent of low QC cells (%ambient_rna, low MALAT, DropletQC, doublet, etc.) "
   ]
  }
 ],
 "metadata": {
  "kernelspec": {
   "display_name": "single-cell",
   "language": "python",
   "name": "python3"
  },
  "language_info": {
   "codemirror_mode": {
    "name": "ipython",
    "version": 3
   },
   "file_extension": ".py",
   "mimetype": "text/x-python",
   "name": "python",
   "nbconvert_exporter": "python",
   "pygments_lexer": "ipython3",
   "version": "3.10.0"
  },
  "orig_nbformat": 4
 },
 "nbformat": 4,
 "nbformat_minor": 2
}
