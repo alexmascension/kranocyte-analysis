{
 "cells": [
  {
   "cell_type": "markdown",
   "id": "married-courtesy",
   "metadata": {},
   "source": [
    "# Determining CD34 / Sox10 / S100 / Col9a2 / Shisa3 populations, and their transmembrane markers\n",
    "\n",
    "When analysing populations we have observed two/three different patterns of cells based on these 5 markers:\n",
    "* (A) CD34$^+$/S100$^+$/**Sox10**$^-$/Shisa3$^+$/**Col9a2**$^+$ populations. ***These populations are FAP-like cells.***\n",
    "* (B) CD34$^+$/S100$^+$/**Sox10**$^+$/Shisa3$^+$?/**Col9a2**$^-$ populations. ***These are Schwann-like cells.***\n",
    "* (C) CD34$^+$/**S100**$^-$/**Sox10**$^-$/Shisa3$^+$/**Col9a2**$^+$ populations. We will ignore these cells so far.\n",
    "\n",
    "In this section we are going to isolate these populations and characterize them. In Scott et al. only the Sox10$^-$ / Col9a2$^+$ is available.\n",
    "\n",
    "**How will we work in this section?**\n",
    "We are going to run DEGs on each of the possible populations (A, B, C) and get the first 700 DEGs from the \n",
    "analysis, for each group. DEGs will be manually filtered on a first screening from the tracksplot. \n",
    "After that, we will filter out some of these genes based on the UMAPs: if a gene is too widely expressed or is not really specific for the cluster of interest (it can be for more than 1 cluster from A, B, or C), it *must* be excluded. From there, we will create a more refined version of the list of markers.\n",
    "\n",
    "Then, we will run each marker list against the rest of datasets, in case some gene has gone unnoticed and is coexpressed in other datasets. Marker lists will be updated accordingly. For example, if marker X was not detected (or was skipped) for De Micheli dataset but it was detected in Oprescu, and it is expressed in both according to the criteria, marker X will be added to a general marker list. With this method we will get a list of markers for each cluster in each dataset."
   ]
  },
  {
   "cell_type": "markdown",
   "id": "municipal-relevance",
   "metadata": {},
   "source": [
    "## Oprescu\n",
    "\n",
    "In this UMAP we would be interested in clusters 23 and 29, which have Col9a2 and Shisa3 expression. From cluster 29, only a few cells are interesting, and we will keep them."
   ]
  },
  {
   "cell_type": "code",
   "execution_count": null,
   "id": "civilian-token",
   "metadata": {},
   "outputs": [],
   "source": [
    "sc.pl.umap(adata_oprescu_d0, color=['leiden', 'Cd34', 'Sox10', 'S100b', 'Col9a2', 'Shisa3', 'Mpz', 'Ptn'], \n",
    "           cmap=magma, ncols=2, legend_loc='on data')"
   ]
  },
  {
   "cell_type": "code",
   "execution_count": null,
   "id": "loving-evolution",
   "metadata": {},
   "outputs": [],
   "source": [
    "adata_oprescu_d0_sub = adata_oprescu_d0[adata_oprescu_d0.obs['leiden'].isin(['23', '29'])].copy()"
   ]
  },
  {
   "cell_type": "code",
   "execution_count": null,
   "id": "exceptional-seventh",
   "metadata": {},
   "outputs": [],
   "source": [
    "sc.pp.filter_genes(adata_oprescu_d0_sub, min_cells=1)\n",
    "tk.tl.triku(adata_oprescu_d0_sub, n_procs=1, random_state=seed)\n",
    "sc.pp.pca(adata_oprescu_d0_sub, random_state=seed, n_comps=30)\n",
    "sc.pp.neighbors(adata_oprescu_d0_sub, random_state=seed, knn=len(adata_oprescu_d0_sub) ** 0.5 // 2, metric='cosine')"
   ]
  },
  {
   "cell_type": "markdown",
   "id": "fallen-vegetarian",
   "metadata": {},
   "source": [
    "After cluster isolation, we reject cluster 2 because it is negative for Col9a2, Shisa3, Sox10 and S100b. From that set, we will discern the clusters 0+1 as the type A kranocytes (Sox10$^-$/Col9a2$^+$/S100$^+$), cluster 3 (partially) (Sox10$^+$/Col9a2$^-$/S100$^+$) as the type B kranocytes and cluster 4 (Sox10$^-$/Col9a2$^+$/S100$^-$) as the type C."
   ]
  },
  {
   "cell_type": "code",
   "execution_count": null,
   "id": "adequate-wrestling",
   "metadata": {},
   "outputs": [],
   "source": [
    "sc.tl.umap(adata_oprescu_d0_sub, min_dist=0.2, random_state=seed)\n",
    "sc.tl.leiden(adata_oprescu_d0_sub, resolution=1, random_state=seed, key_added='leiden_sub')\n",
    "sc.pl.umap(adata_oprescu_d0_sub, color=['leiden', 'leiden_sub', 'Cd34', 'Sox10', 'S100b', \n",
    "                                        'Col9a2', 'Shisa3', 'Mpz'], cmap=magma, legend_loc='on data', ncols=3)"
   ]
  },
  {
   "cell_type": "code",
   "execution_count": null,
   "id": "binary-toyota",
   "metadata": {},
   "outputs": [],
   "source": [
    "adata_oprescu_d0.obs['Krano_type'] = 'Other'\n",
    "adata_oprescu_d0.obs['Krano_type'].loc[adata_oprescu_d0_sub[adata_oprescu_d0_sub.obs['leiden_sub'].isin(['0', '1'])].obs_names.values] = 'A'\n",
    "adata_oprescu_d0.obs['Krano_type'].loc[adata_oprescu_d0_sub[adata_oprescu_d0_sub.obs['leiden_sub'].isin(['3'])].obs_names.values] = 'B'\n",
    "adata_oprescu_d0.obs['Krano_type'].loc[adata_oprescu_d0_sub[adata_oprescu_d0_sub.obs['leiden_sub'].isin(['4'])].obs_names.values] = 'C'\n",
    "adata_oprescu_d0.uns['Krano_type_colors'] = [\"#007ab7\", \"#b7007a\", \"#e3b10f\", \"#bcbcbc\",]"
   ]
  },
  {
   "cell_type": "code",
   "execution_count": null,
   "id": "imperial-girlfriend",
   "metadata": {},
   "outputs": [],
   "source": [
    "sc.pl.umap(adata_oprescu_d0, color=['Krano_type'], cmap=magma, ncols=2)"
   ]
  },
  {
   "cell_type": "code",
   "execution_count": null,
   "id": "prompt-scottish",
   "metadata": {},
   "outputs": [],
   "source": [
    "sc.tl.rank_genes_groups(adata_oprescu_d0, groupby='Krano_type',groups=['A', 'B', 'C'], reference='rest')\n",
    "sc.pl.rank_genes_groups_tracksplot(adata_oprescu_d0, dendrogram=False, n_genes=700, )"
   ]
  },
  {
   "cell_type": "code",
   "execution_count": null,
   "id": "adjacent-indianapolis",
   "metadata": {},
   "outputs": [],
   "source": [
    "markers_A_oprescu = ['6030408B16Rik', 'Agt', 'Arhgdig', \n",
    "                     'Cd300lg', 'Cd38', 'Cdh19', 'Cdkn2b', 'Ch25h', 'Col26a1', 'Col9a2', \n",
    "                     'Dlk1', 'Fetub', 'Gfra2', 'Gli1',  'Gm11681', 'Greb1', 'Gria1', 'Grin2b', \n",
    "                     'Kank4', 'Kcnb2', 'Mpzl2', 'Ngfr', 'Nipal1', 'Plxdc1', 'Rasgrp2', 'Reln', \n",
    "                     'Saa1', 'Sdc3', 'Shisa3', 'Sipa1l1', 'Sox9', 'Tenm2', 'Trpm6', ]\n",
    "\n",
    "markers_B_oprescu = ['9530059O14Rik', 'Aatk', 'Cldn19', 'Cmtm5', 'Ddn', 'Dusp15', 'Elovl7', \n",
    "                     'Ephb6', 'Fa2h', 'Fxyd3', 'Gjb1', 'Gjc3', 'Gpr37l1', 'Hepacam', \n",
    "                     'Kcna1', 'Kcnk1', 'Kif1a', 'Mag', 'Mal', 'Mansc4', 'Moxd1', 'Mpz', 'Mt3', 'Nes', \n",
    "                     'Pllp', 'Plp1', 'Pou3f1', 'Prx', 'Rimklb', 'S100b', 'Sbspon', \n",
    "                     'Sfrp5', 'Slc36a2', 'Slco4a1', 'Smco3', 'Snca', 'Sox10',  \n",
    "                     'Tenm2', 'Tspan15', 'Ugt8a', 'Vat1l', 'Wnt10a', 'Wnt6', ]\n",
    "\n",
    "markers_C_oprescu = ['Ano1', 'Cdkn2a', 'Cdkn2b', 'Clic6', 'Col9a2', 'Gjb5', 'Nipal1', \n",
    "                     'Rasgrf2', 'Shisa3', 'Spata18', 'Tenm2', ]"
   ]
  },
  {
   "cell_type": "code",
   "execution_count": null,
   "id": "unique-definition",
   "metadata": {
    "scrolled": true
   },
   "outputs": [],
   "source": [
    "sc.pl.umap(adata_oprescu_d0, color=['Krano_type'] + markers_B_oprescu, \n",
    "           cmap=magma, ncols=3, legend_loc='on data')"
   ]
  },
  {
   "cell_type": "markdown",
   "id": "moved-twins",
   "metadata": {},
   "source": [
    "## Scott"
   ]
  },
  {
   "cell_type": "markdown",
   "id": "addressed-december",
   "metadata": {},
   "source": [
    "In this dataset type A kranos appear (Sox10$^+$/Col9a2$^-$/S100$^+$) merged at the bottom of cluster 6, and top of 13. We will simply isolate them. Also, type B kranos appear at the bottom of the cluster 17."
   ]
  },
  {
   "cell_type": "code",
   "execution_count": null,
   "id": "federal-laundry",
   "metadata": {},
   "outputs": [],
   "source": [
    "sc.pl.umap(adata_scott_d0, color=['leiden', 'Cd34', 'Sox10', 'S100b', 'Col9a2', 'Shisa3', 'Ptn'], \n",
    "           cmap=magma, ncols=2, legend_loc='on data')"
   ]
  },
  {
   "cell_type": "code",
   "execution_count": null,
   "id": "female-egypt",
   "metadata": {},
   "outputs": [],
   "source": [
    "adata_scott_d0_sub = adata_scott_d0[adata_scott_d0.obs['leiden'].isin(['6', '17'])].copy()"
   ]
  },
  {
   "cell_type": "code",
   "execution_count": null,
   "id": "decreased-electricity",
   "metadata": {},
   "outputs": [],
   "source": [
    "sc.pp.filter_genes(adata_scott_d0_sub, min_cells=1)\n",
    "tk.tl.triku(adata_scott_d0_sub, n_procs=1, random_state=seed)\n",
    "sc.pp.pca(adata_scott_d0_sub, random_state=seed, n_comps=30)\n",
    "sc.pp.neighbors(adata_scott_d0_sub, random_state=seed, knn=len(adata_scott_d0_sub) ** 0.5 // 2, metric='cosine')"
   ]
  },
  {
   "cell_type": "markdown",
   "id": "blocked-authentication",
   "metadata": {},
   "source": [
    "When selectiong clusters 6 and 17 from the dataset, the new clustering shows that most of the cells of interest are located in cluster 6 (B) and clusters 5 and 7 (A). It is true that it is not exactly like that (part of cluster 6 should belong to A) but I cannot further subdivided some clusters."
   ]
  },
  {
   "cell_type": "code",
   "execution_count": null,
   "id": "juvenile-liechtenstein",
   "metadata": {},
   "outputs": [],
   "source": [
    "sc.tl.umap(adata_scott_d0_sub, min_dist=0.05, random_state=seed)\n",
    "sc.tl.leiden(adata_scott_d0_sub, resolution=1.5, random_state=seed, key_added='leiden_sub')\n",
    "sc.pl.umap(adata_scott_d0_sub, color=['leiden', 'leiden_sub', 'Cd34', 'S100b', \n",
    "                                        'Col9a2', 'Shisa3', 'Lypd2', 'Itgb4'], cmap=magma, legend_loc='on data', ncols=3)"
   ]
  },
  {
   "cell_type": "code",
   "execution_count": null,
   "id": "immune-death",
   "metadata": {},
   "outputs": [],
   "source": [
    "adata_scott_d0.obs['Krano_type'] = 'Other'\n",
    "adata_scott_d0.obs['Krano_type'].loc[adata_scott_d0_sub[adata_scott_d0_sub.obs['leiden_sub'].isin(['5', '7'])].obs_names.values] = 'A'\n",
    "adata_scott_d0.obs['Krano_type'].loc[adata_scott_d0_sub[adata_scott_d0_sub.obs['leiden_sub'].isin(['6'])].obs_names.values] = 'B'\n",
    "adata_scott_d0.uns['Krano_type_colors'] = [\"#007ab7\", \"#b7007a\", \"#bcbcbc\"]"
   ]
  },
  {
   "cell_type": "code",
   "execution_count": null,
   "id": "changing-bangkok",
   "metadata": {},
   "outputs": [],
   "source": [
    "sc.pl.umap(adata_scott_d0, color=['Krano_type'], cmap=magma, ncols=2)"
   ]
  },
  {
   "cell_type": "code",
   "execution_count": null,
   "id": "noble-choir",
   "metadata": {},
   "outputs": [],
   "source": [
    "sc.tl.rank_genes_groups(adata_scott_d0, groupby='Krano_type',groups=['A', 'B'], reference='rest')\n",
    "sc.pl.rank_genes_groups_tracksplot(adata_scott_d0, dendrogram=False, n_genes=700, )"
   ]
  },
  {
   "cell_type": "code",
   "execution_count": null,
   "id": "colonial-preference",
   "metadata": {},
   "outputs": [],
   "source": [
    "markers_A_scott = ['6030408B16Rik', 'Adamtsl2', 'Aspa', 'Col9a2',  'Dlk1', 'Fam213a', \n",
    "                   'Gm3336', 'Gprasp2', 'Grin2b', 'Hmgcs2', 'Kcnk2', 'Pla2g7', 'Plxnc1', \n",
    "                   'Rgs17', 'Saa1', 'Sbspon', 'Shisa3', 'Sipa1l1', 'Slc27a1', 'Stra6', \n",
    "                   'Thrsp', 'Trpm6',  ]\n",
    "\n",
    "markers_B_scott = ['Col23a1', 'Itga6', 'Itgb4', 'Lypd2', 'Moxd1', 'Mpzl2', 'Perp', 'Prodh', \n",
    "                   'Ptch1', 'Slc2a1', 'Sostdc1', 'Tenm2',]"
   ]
  },
  {
   "cell_type": "code",
   "execution_count": null,
   "id": "experimental-compression",
   "metadata": {
    "scrolled": true
   },
   "outputs": [],
   "source": [
    "sc.pl.umap(adata_scott_d0, color=['Krano_type'] + markers_A_scott, \n",
    "           cmap=magma, ncols=3, legend_loc='on data')"
   ]
  },
  {
   "cell_type": "markdown",
   "id": "tropical-celebrity",
   "metadata": {},
   "source": [
    "## De Micheli"
   ]
  },
  {
   "cell_type": "markdown",
   "id": "particular-thailand",
   "metadata": {},
   "source": [
    "In this dataset we seem to find the type A (Sox10$^-$/Col9a2$^+$/S100$^+$) within clusters 2 and 6 (we assume they are S100$^+$ because there is a general low expression within the clusters), and a set of cells near cluster 15 (Sox10$^+$/Col9a2$^-$/S100$^+$) as the type B kranocytes. Clusters 15 and 17 are, respectively, Schwann and Neural/Glial cells. However, the cells near the Schwann cluster are Cd34$^+$, Shisa3$^+$ and have a smaller expression of Sox10 and Mpz, which might be indicative of another type of cell type, related to a Schwann cell. These findings are more or less consistent with the B type from Oprescu and Scott."
   ]
  },
  {
   "cell_type": "code",
   "execution_count": null,
   "id": "directed-hawaii",
   "metadata": {},
   "outputs": [],
   "source": [
    "sc.pl.umap(adata_de_micheli_mouse_d0, color=['leiden', 'Cd34', 'Sox10', 'S100b', 'Col9a2', 'Shisa3', \n",
    "                                             'Mpz', 'Ptn'], \n",
    "           cmap=magma, ncols=2, legend_loc='on data')"
   ]
  },
  {
   "cell_type": "code",
   "execution_count": null,
   "id": "advised-wyoming",
   "metadata": {},
   "outputs": [],
   "source": [
    "adata_de_micheli_mouse_d0_sub = adata_de_micheli_mouse_d0[adata_de_micheli_mouse_d0.obs['leiden'].isin(['2', '6', '15', '17'])].copy()"
   ]
  },
  {
   "cell_type": "code",
   "execution_count": null,
   "id": "exempt-producer",
   "metadata": {},
   "outputs": [],
   "source": [
    "sc.pp.filter_genes(adata_de_micheli_mouse_d0_sub, min_cells=1)\n",
    "tk.tl.triku(adata_de_micheli_mouse_d0_sub, n_procs=1, random_state=seed)\n",
    "sc.pp.pca(adata_de_micheli_mouse_d0_sub, random_state=seed, n_comps=30)\n",
    "sc.pp.neighbors(adata_de_micheli_mouse_d0_sub, random_state=seed, knn=len(adata_de_micheli_mouse_d0_sub) ** 0.5 // 2, metric='cosine')"
   ]
  },
  {
   "cell_type": "markdown",
   "id": "insured-edition",
   "metadata": {},
   "source": [
    "After reclustering, we see that subcluster 5 are the type A kranocytes, while subcluster 8 are the type B kranocytes."
   ]
  },
  {
   "cell_type": "code",
   "execution_count": null,
   "id": "reserved-content",
   "metadata": {},
   "outputs": [],
   "source": [
    "sc.tl.umap(adata_de_micheli_mouse_d0_sub, min_dist=0.2, random_state=seed)\n",
    "sc.tl.leiden(adata_de_micheli_mouse_d0_sub, resolution=1.3, random_state=seed, key_added='leiden_sub')\n",
    "sc.pl.umap(adata_de_micheli_mouse_d0_sub, color=['leiden', 'leiden_sub', 'Cd34', 'Sox10', 'S100b', \n",
    "                                        'Col9a2', 'Shisa3'], cmap=magma, legend_loc='on data', ncols=3)"
   ]
  },
  {
   "cell_type": "code",
   "execution_count": null,
   "id": "federal-teach",
   "metadata": {},
   "outputs": [],
   "source": [
    "adata_de_micheli_mouse_d0.obs['Krano_type'] = 'Other'\n",
    "adata_de_micheli_mouse_d0.obs['Krano_type'].loc[adata_de_micheli_mouse_d0_sub[adata_de_micheli_mouse_d0_sub.obs['leiden_sub'].isin(['5'])].obs_names.values] = 'A'\n",
    "adata_de_micheli_mouse_d0.obs['Krano_type'].loc[adata_de_micheli_mouse_d0_sub[adata_de_micheli_mouse_d0_sub.obs['leiden_sub'].isin(['8'])].obs_names.values] = 'B'\n",
    "adata_de_micheli_mouse_d0.uns['Krano_type_colors'] = [\"#007ab7\", \"#b7007a\", \"#bcbcbc\"]"
   ]
  },
  {
   "cell_type": "code",
   "execution_count": null,
   "id": "union-antique",
   "metadata": {},
   "outputs": [],
   "source": [
    "sc.pl.umap(adata_de_micheli_mouse_d0, color=['Krano_type'], cmap=magma, ncols=2)"
   ]
  },
  {
   "cell_type": "code",
   "execution_count": null,
   "id": "immediate-while",
   "metadata": {},
   "outputs": [],
   "source": [
    "sc.tl.rank_genes_groups(adata_de_micheli_mouse_d0, groupby='Krano_type',groups=['A', 'B'], reference='rest')\n",
    "sc.pl.rank_genes_groups_tracksplot(adata_de_micheli_mouse_d0, dendrogram=False, n_genes=700, )"
   ]
  },
  {
   "cell_type": "code",
   "execution_count": null,
   "id": "extensive-nightlife",
   "metadata": {},
   "outputs": [],
   "source": [
    "markers_A_de_micheli = ['6030408B16Rik', 'Adamtsl2', 'Bmp7', 'Capn6', \n",
    "                        'Col18a1', 'Col9a2', 'Dlk1', 'Fetub', 'Gfra2', 'Gli1', 'Gm11681', \n",
    "                        'Gpld1', 'Inhba', 'Mdfi', 'Mest', 'Morc4', 'Nipal1', 'Plppr4', \n",
    "                        'Rgs17', 'Saa1', 'Saa2', 'Shisa3', 'Sorcs2', 'Sox9', 'Sphkap', \n",
    "                        'Syndig1', 'Trpm6']\n",
    "\n",
    "markers_B_de_micheli = ['Cldn1', 'Crabp2', 'Dleu7', 'Efnb3', 'Gfra3', 'Gjb5', 'Grin2b', \n",
    "                        'Kcnj13', 'Kcnj2', 'Lgals7', 'Lypd2', 'Mansc4', 'Moxd1', \n",
    "                        'Perp', 'RP23-291B1.2', 'Shisa3', 'Slc6a13', 'Spink1', 'Srcin1', 'Tec', 'Tenm2', \n",
    "                        'Trim46', 'Wnt10a', 'Wnt6']"
   ]
  },
  {
   "cell_type": "code",
   "execution_count": null,
   "id": "young-insulation",
   "metadata": {
    "scrolled": true
   },
   "outputs": [],
   "source": [
    "sc.pl.umap(adata_de_micheli_mouse_d0, color=['Krano_type'] + markers_B_de_micheli, \n",
    "           cmap=magma, ncols=3, legend_loc='on data')"
   ]
  },
  {
   "cell_type": "markdown",
   "id": "higher-brisbane",
   "metadata": {},
   "source": [
    "## Giordani"
   ]
  },
  {
   "cell_type": "code",
   "execution_count": null,
   "id": "official-westminster",
   "metadata": {},
   "outputs": [],
   "source": [
    "adata_giordani_FAPs = adata_giordani[adata_giordani.obs['cell_type'].isin(['FAPs', 'Glial cells'])]"
   ]
  },
  {
   "cell_type": "code",
   "execution_count": null,
   "id": "bronze-heading",
   "metadata": {},
   "outputs": [],
   "source": [
    "sc.pp.filter_genes(adata_giordani_FAPs, min_cells=1)"
   ]
  },
  {
   "cell_type": "code",
   "execution_count": null,
   "id": "headed-coordinator",
   "metadata": {},
   "outputs": [],
   "source": [
    "tk.tl.triku(adata_giordani_FAPs, n_procs=1, random_state=seed)\n",
    "sc.pp.pca(adata_giordani_FAPs, random_state=seed, n_comps=30)\n",
    "sc.pp.neighbors(adata_giordani_FAPs, random_state=seed, knn=len(adata_giordani_FAPs) ** 0.5 // 2, metric='cosine')"
   ]
  },
  {
   "cell_type": "code",
   "execution_count": null,
   "id": "demographic-israeli",
   "metadata": {},
   "outputs": [],
   "source": [
    "sc.tl.umap(adata_giordani_FAPs, min_dist=0.5, random_state=seed)\n",
    "sc.tl.leiden(adata_giordani_FAPs, resolution=1, random_state=seed)\n",
    "sc.pl.umap(adata_giordani_FAPs, color=['leiden', 'cell_type', 'batch', 'n_genes_by_counts'], legend_loc='on data')"
   ]
  },
  {
   "cell_type": "code",
   "execution_count": null,
   "id": "collective-metropolitan",
   "metadata": {
    "scrolled": true
   },
   "outputs": [],
   "source": [
    "sc.tl.rank_genes_groups(adata_giordani_FAPs, groupby='leiden', groups=['7', '9', '10', '11', '14'], reference='rest')\n",
    "sc.pl.rank_genes_groups_tracksplot(adata_giordani_FAPs, dendrogram=False, n_genes=100)"
   ]
  },
  {
   "cell_type": "code",
   "execution_count": null,
   "id": "smooth-framework",
   "metadata": {},
   "outputs": [],
   "source": [
    "sc.pl.umap(adata_giordani_FAPs, color=['leiden', 'cell_type', 'S100b', 'Sox10', 'Mpz', 'Klk8'], legend_loc='on data', cmap=magma)"
   ]
  },
  {
   "cell_type": "code",
   "execution_count": null,
   "id": "manual-infrared",
   "metadata": {},
   "outputs": [],
   "source": [
    "adata_giordani.obs['Krano_type'] = 'Other'\n",
    "adata_giordani.obs['Krano_type'].loc[adata_giordani_FAPs[adata_giordani_FAPs.obs['leiden'].isin(['7', '9', '11', '14'])].obs_names.values] = 'A'\n",
    "adata_giordani.obs['Krano_type'].loc[adata_giordani_FAPs[adata_giordani_FAPs.obs['leiden'].isin(['10'])].obs_names.values] = 'B'\n",
    "adata_giordani.uns['Krano_type_colors'] = [\"#007ab7\", \"#b7007a\", \"#bcbcbc\"]"
   ]
  },
  {
   "cell_type": "markdown",
   "id": "approved-yukon",
   "metadata": {},
   "source": [
    "## Filtering common markers\n",
    "\n",
    "Now that all markers are filtered, we are going to plot all A/B markers in all datasets. If we see that the pattern is correct in 2-3 datasets, then we add it to the list. \n",
    "\n",
    "We will try to create a conservative list, that is, a list where markers are as specific to the designed regions as possible. This does not mean that a marker expressed in other cell types is not valid, but we will probably exclude it from this list, so as to have specific markers of these putative cell types, and not others."
   ]
  },
  {
   "cell_type": "code",
   "execution_count": null,
   "id": "handmade-enemy",
   "metadata": {},
   "outputs": [],
   "source": [
    "# All A markers combined. Some of these genes will be excluded because they are only expressed in one dataset,\n",
    "# or are not as specific as they should.\n",
    "\n",
    "for i in sorted(set(markers_A_de_micheli + markers_A_oprescu + markers_A_scott)):\n",
    "    print(i)\n",
    "    fig, axs = plt.subplots(1, 3, figsize=(18, 4))\n",
    "    sc.pl.umap(adata_de_micheli_mouse_d0, color=i, cmap=magma, ax=axs[0], show=False)\n",
    "    sc.pl.umap(adata_oprescu_d0, color=i, cmap=magma, ax=axs[1], show=False)\n",
    "    sc.pl.umap(adata_scott_d0, color=i, cmap=magma, ax=axs[2])"
   ]
  },
  {
   "cell_type": "code",
   "execution_count": null,
   "id": "amber-glossary",
   "metadata": {
    "scrolled": true
   },
   "outputs": [],
   "source": [
    "# All B markers combined. Some of these genes will be excluded because they are only expressed in one dataset,\n",
    "# or are not as specific as they should.\n",
    "\n",
    "for i in sorted(set(markers_B_de_micheli + markers_B_oprescu + markers_B_scott)):\n",
    "    print(i)\n",
    "    fig, axs = plt.subplots(1, 3, figsize=(18, 4))\n",
    "    try:\n",
    "        sc.pl.umap(adata_de_micheli_mouse_d0, color=i, cmap=magma, ax=axs[0], show=False)\n",
    "        sc.pl.umap(adata_oprescu_d0, color=i, cmap=magma, ax=axs[1], show=False)\n",
    "        sc.pl.umap(adata_scott_d0, color=i, cmap=magma, ax=axs[2])\n",
    "    except:\n",
    "        pass"
   ]
  },
  {
   "cell_type": "markdown",
   "id": "generic-enhancement",
   "metadata": {},
   "source": [
    "## Plotting A and B filtered markers\n",
    "\n",
    "These marker should be either specific of the cluster of interest, or should be highly expressed in the cluster."
   ]
  },
  {
   "cell_type": "code",
   "execution_count": null,
   "id": "fatal-reduction",
   "metadata": {},
   "outputs": [],
   "source": [
    "A_markers = ['6030408B16Rik', 'Adamtsl2', 'Cdh19', 'Cdkn2b', 'Col18a1', 'Col26a1', \n",
    "             'Col9a2', 'Dlk1', 'Fetub', 'Gfra2', 'Gm11681', 'Gpld1', 'Greb1', 'Gria1', \n",
    "             'Kcnb2', 'Kcnk2', 'Mpzl2', 'Ngfr', 'Plppr4', \n",
    "             'Ptgfr', 'Rgs17', 'Saa1', 'Saa2', 'Shisa3', 'Sipa1l1', 'Sorcs2', 'Sox9', \n",
    "             'Sphkap', 'Syndig1', 'Trpm6']\n",
    "B_markers = ['Cldn1', 'Crabp2', 'Dleu7', 'Efnb3', 'Gjb5', 'Grin2b', 'Itgb4', 'Kcnj13', \n",
    "             'Kcnj2', 'Lgals7', 'Lypd2', 'Mansc4', 'Moxd1', 'Mpzl2', 'Perp', 'Prodh', 'Ptch1', \n",
    "             'Slc6a13', 'Stra6', 'Tec', 'Tenm2', 'Wnt10a', 'Wnt6']"
   ]
  },
  {
   "cell_type": "code",
   "execution_count": null,
   "id": "logical-picking",
   "metadata": {},
   "outputs": [],
   "source": [
    "for i in ['Krano_type'] + A_markers:\n",
    "    print(i)\n",
    "    fig, axs = plt.subplots(2, 2, figsize=(12, 8))\n",
    "    try:\n",
    "        sc.pl.umap(adata_de_micheli_mouse_d0, color=i, cmap=magma, ax=axs[0][0], show=False, legend_loc='on data')\n",
    "        sc.pl.umap(adata_oprescu_d0, color=i, cmap=magma, ax=axs[0][1], show=False, legend_loc='on data')\n",
    "        sc.pl.umap(adata_scott_d0, color=i, cmap=magma, ax=axs[1][0], show=False, legend_loc='on data')\n",
    "        sc.pl.umap(adata_giordani, color=i, cmap=magma, ax=axs[1][1], legend_loc='on data')\n",
    "    except:\n",
    "        pass"
   ]
  },
  {
   "cell_type": "code",
   "execution_count": null,
   "id": "married-binding",
   "metadata": {},
   "outputs": [],
   "source": [
    "for i in ['Krano_type'] + B_markers:\n",
    "    print(i)\n",
    "    fig, axs = plt.subplots(2, 2, figsize=(12, 8))\n",
    "    try:\n",
    "        sc.pl.umap(adata_de_micheli_mouse_d0, color=i, cmap=magma, ax=axs[0][0], show=False, legend_loc='on data')\n",
    "        sc.pl.umap(adata_oprescu_d0, color=i, cmap=magma, ax=axs[0][1], show=False, legend_loc='on data')\n",
    "        sc.pl.umap(adata_scott_d0, color=i, cmap=magma, ax=axs[1][0], show=False, legend_loc='on data')\n",
    "        sc.pl.umap(adata_giordani, color=i, cmap=magma, ax=axs[1][1], legend_loc='on data')\n",
    "    except:\n",
    "        pass"
   ]
  },
  {
   "cell_type": "markdown",
   "id": "wound-avenue",
   "metadata": {},
   "source": [
    "## Detecting membrane markers\n",
    "\n",
    "The next step is to mark which genes are expressed in the membrane, so that they can be selected via FACS (or whatever extra analysis that could be done). \n",
    "To do that, we will download the Swiss-Prot proteome table, where the celullar location of the protein is included. \n",
    "\n",
    "The table can be downloaded from here:\n",
    "https://www.uniprot.org/uniprot/?query=*&fil=organism%3A%22Mus+musculus+%28Mouse%29+%5B10090%5D%22+AND+reviewed%3Ayes\n",
    "\n",
    "The columns to be selected are \"Gene names\" and \"Subcellular location\"."
   ]
  },
  {
   "cell_type": "code",
   "execution_count": null,
   "id": "subsequent-carolina",
   "metadata": {},
   "outputs": [],
   "source": [
    "# Load the table\n",
    "uniprot_df = pd.read_csv(data_dir+'/Uniprot_table.tab', sep='\\t')\n",
    "\n",
    "# Process table to have a gene per row:\n",
    "list_genes = []\n",
    "list_locs = []\n",
    "\n",
    "for i in range(len(uniprot_df)):\n",
    "    gene_str = uniprot_df['Gene names'].iloc[i]\n",
    "    loc_str = uniprot_df['Subcellular location [CC]'].iloc[i]\n",
    "    if type(loc_str) == str:\n",
    "        loc_str = loc_str.replace('SUBCELLULAR LOCATION:', '')\n",
    "    else:\n",
    "        loc_str = ''\n",
    "\n",
    "    try:\n",
    "        list_genes_i = gene_str.split(' ')    \n",
    "        for gene in list_genes_i:\n",
    "            list_genes.append(gene)\n",
    "            list_locs.append(loc_str)\n",
    "    except:\n",
    "        pass\n",
    "\n",
    "uniprot_df = pd.DataFrame({'Gene': list_genes, 'Location': list_locs}).set_index('Gene', drop=True)\n",
    "uniprot_df = uniprot_df.groupby(level=0).transform('sum').drop_duplicates()"
   ]
  },
  {
   "cell_type": "code",
   "execution_count": null,
   "id": "republican-baltimore",
   "metadata": {},
   "outputs": [],
   "source": [
    "df_A_markers = pd.DataFrame({'Gene': A_markers, 'Location': [''] * len(A_markers)})\n",
    "\n",
    "for A_idx, A in enumerate(A_markers):\n",
    "    if A in uniprot_df.index.values:\n",
    "        df_A_markers['Location'].iloc[A_idx] = uniprot_df.loc[A, 'Location']\n",
    "        \n",
    "        \n",
    "df_B_markers = pd.DataFrame({'Gene': B_markers, 'Location': [''] * len(B_markers)})\n",
    "\n",
    "for B_idx, B in enumerate(B_markers):\n",
    "    if B in uniprot_df.index.values:\n",
    "        df_B_markers['Location'].iloc[B_idx] = uniprot_df.loc[B, 'Location']"
   ]
  },
  {
   "cell_type": "code",
   "execution_count": null,
   "id": "adjacent-atlantic",
   "metadata": {},
   "outputs": [],
   "source": [
    "pd.set_option('display.max_colwidth', -1)"
   ]
  },
  {
   "cell_type": "code",
   "execution_count": null,
   "id": "educational-nigeria",
   "metadata": {},
   "outputs": [],
   "source": [
    "df_A_markers "
   ]
  },
  {
   "cell_type": "code",
   "execution_count": null,
   "id": "affiliated-gathering",
   "metadata": {},
   "outputs": [],
   "source": [
    "df_B_markers"
   ]
  },
  {
   "cell_type": "code",
   "execution_count": null,
   "id": "impressive-prototype",
   "metadata": {
    "scrolled": true
   },
   "outputs": [],
   "source": [
    "# Marcadores gliales que cambian\n",
    "for i in ['Krano_type'] + ['Ngfr', 'Gpc1', 'Tubb2b', 'Tubb5', 'Cryab', 'Tuba1a', 'Tnc', 'Plk2', \n",
    "                          'Tgfbi', 'Lgals1', 'Lgals3', 'Syt4', 'Ucn2', 'Gas1', 'Mmp19', 'Vim', 'Arbp1', \n",
    "                          'Col18a1', 'Cpe', 'Uchl1', 'Gadd45a', 'Igfbp5', 'Atf3', 'Tmem158', \n",
    "                          'Apod', 'Psap', 'Stmn1', 'Epha5', 'Entpd2', 'Nav2', 'Oaf', 'Fgf5']:\n",
    "    print(i)\n",
    "    fig, axs = plt.subplots(1, 3, figsize=(18, 4))\n",
    "    try:\n",
    "        sc.pl.umap(adata_de_micheli_mouse_d0, color=i, cmap=magma, ax=axs[0], show=False, legend_loc='on data')\n",
    "        sc.pl.umap(adata_oprescu_d0, color=i, cmap=magma, ax=axs[1], show=False, legend_loc='on data')\n",
    "        sc.pl.umap(adata_scott_d0, color=i, cmap=magma, ax=axs[2], legend_loc='on data')\n",
    "    except:\n",
    "        pass"
   ]
  },
  {
   "cell_type": "code",
   "execution_count": null,
   "id": "labeled-dublin",
   "metadata": {},
   "outputs": [],
   "source": [
    "# Marcadores FAPs que cambian\n",
    "for i in ['Krano_type'] + ['Timp1', 'Sh3bgrl3', 'Lgals1', 'Spp1', 'Inhba', 'Ctgrc1', 'Ccl9', 'Ank', 'Tgfbi', \n",
    "                           'Fn1', 'Tnc', 'Ier3', 'Il11', 'Trf', 'Aldh1a3', 'Bgn', 'Mgp', 'Igfbp4', \n",
    "                           'Lgals3', 'Crif1', 'Serpine2', 'Scd1', 'Igfbp7', 'Thy1', 'Pdgfa', 'Postn', \n",
    "                           'Ptgs2', '1810011O10Rik', 'Rdh10', 'Neat1', 'Igf1', 'Sdc1', 'Cxcl14', 'Cxcl5']:\n",
    "    print(i)\n",
    "    fig, axs = plt.subplots(1, 3, figsize=(18, 4))\n",
    "    try:\n",
    "        sc.pl.umap(adata_de_micheli_mouse_d0, color=i, cmap=magma, ax=axs[0], show=False, legend_loc='on data')\n",
    "        sc.pl.umap(adata_oprescu_d0, color=i, cmap=magma, ax=axs[1], show=False, legend_loc='on data')\n",
    "        sc.pl.umap(adata_scott_d0, color=i, cmap=magma, ax=axs[2], legend_loc='on data')\n",
    "    except:\n",
    "        pass"
   ]
  },
  {
   "cell_type": "markdown",
   "id": "buried-opposition",
   "metadata": {},
   "source": [
    "# Running datasets against markers"
   ]
  },
  {
   "cell_type": "markdown",
   "id": "minus-jersey",
   "metadata": {},
   "source": [
    "## Kumar et al 2017 PC1 and PC2"
   ]
  },
  {
   "cell_type": "code",
   "execution_count": null,
   "id": "floral-understanding",
   "metadata": {},
   "outputs": [],
   "source": [
    "list_genes = ['Krano_type'] + ['Rgs5', 'Acta2', 'Cxcl1', 'Cxcl2', 'Cxcl5', 'Il6', 'Il1b']\n",
    "\n",
    "fig, axs = plt.subplots(len(list_genes), 3, figsize=(18, 4 * len(list_genes)))\n",
    "\n",
    "for idx, gene in enumerate(list_genes):\n",
    "    try:\n",
    "        sc.pl.umap(adata_de_micheli_mouse_d0, color=gene, cmap=magma, ax=axs[idx][0], show=False, legend_loc='on data')\n",
    "        sc.pl.umap(adata_oprescu_d0, color=gene, cmap=magma, ax=axs[idx][1], show=False, legend_loc='on data')\n",
    "        sc.pl.umap(adata_scott_d0, color=gene, cmap=magma, ax=axs[idx][2], show=False, legend_loc='on data')\n",
    "    except:\n",
    "        pass"
   ]
  },
  {
   "cell_type": "markdown",
   "id": "alone-blend",
   "metadata": {},
   "source": [
    "## Kumar et al 2017 Capillary proinflammatory/capillary and contractile/arteriolar PCs"
   ]
  },
  {
   "cell_type": "code",
   "execution_count": null,
   "id": "headed-month",
   "metadata": {},
   "outputs": [],
   "source": [
    "list_genes = ['Krano_type'] + ['Cd274', 'Dlk1', 'Nt5e'] # Cd73 = Nt5e\n",
    "\n",
    "fig, axs = plt.subplots(len(list_genes), 3, figsize=(18, 4 * len(list_genes)))\n",
    "\n",
    "for idx, gene in enumerate(list_genes):\n",
    "    try:\n",
    "        sc.pl.umap(adata_de_micheli_mouse_d0, color=gene, cmap=magma, ax=axs[idx][0], show=False, legend_loc='on data')\n",
    "        sc.pl.umap(adata_oprescu_d0, color=gene, cmap=magma, ax=axs[idx][1], show=False, legend_loc='on data')\n",
    "        sc.pl.umap(adata_scott_d0, color=gene, cmap=magma, ax=axs[idx][2], show=False, legend_loc='on data')\n",
    "    except:\n",
    "        pass"
   ]
  },
  {
   "cell_type": "markdown",
   "id": "million-luxury",
   "metadata": {},
   "source": [
    "## Birbrair PCs"
   ]
  },
  {
   "cell_type": "code",
   "execution_count": null,
   "id": "visible-separate",
   "metadata": {},
   "outputs": [],
   "source": [
    "list_genes = ['Krano_type'] + ['Pdgfrb', 'Mcam', 'Cspg4', 'Nes'] # Cd146 = Mcam, Ng2 = Cspg4\n",
    "\n",
    "fig, axs = plt.subplots(len(list_genes), 3, figsize=(18, 4 * len(list_genes)))\n",
    "\n",
    "for idx, gene in enumerate(list_genes):\n",
    "    try:\n",
    "        sc.pl.umap(adata_de_micheli_mouse_d0, color=gene, cmap=magma, ax=axs[idx][0], show=False, legend_loc='on data')\n",
    "        sc.pl.umap(adata_oprescu_d0, color=gene, cmap=magma, ax=axs[idx][1], show=False, legend_loc='on data')\n",
    "        sc.pl.umap(adata_scott_d0, color=gene, cmap=magma, ax=axs[idx][2], show=False, legend_loc='on data')\n",
    "    except:\n",
    "        pass"
   ]
  },
  {
   "cell_type": "markdown",
   "id": "filled-doctrine",
   "metadata": {},
   "source": [
    "## Camps ISC\n",
    "\n",
    "* ISC1: Ly6c1, Cd55\n",
    "* ISC2: Gdf10, Meox2, F3/Cd142\n",
    "* ISC3: Thbs4, Fbln7, Sdc1"
   ]
  },
  {
   "cell_type": "code",
   "execution_count": null,
   "id": "noticed-scientist",
   "metadata": {},
   "outputs": [],
   "source": [
    "list_genes = ['Krano_type'] + ['Cd55', 'F3', 'Sdc1']\n",
    "\n",
    "fig, axs = plt.subplots(len(list_genes), 3, figsize=(18, 4 * len(list_genes)))\n",
    "\n",
    "for idx, gene in enumerate(list_genes):\n",
    "    try:\n",
    "        sc.pl.umap(adata_de_micheli_mouse_d0, color=gene, cmap=magma, ax=axs[idx][0], show=False, legend_loc='on data')\n",
    "        sc.pl.umap(adata_oprescu_d0, color=gene, cmap=magma, ax=axs[idx][1], show=False, legend_loc='on data')\n",
    "        sc.pl.umap(adata_scott_d0, color=gene, cmap=magma, ax=axs[idx][2], show=False, legend_loc='on data')\n",
    "    except:\n",
    "        pass"
   ]
  },
  {
   "cell_type": "markdown",
   "id": "brutal-stranger",
   "metadata": {},
   "source": [
    "# Export adatas"
   ]
  },
  {
   "cell_type": "code",
   "execution_count": null,
   "id": "systematic-retreat",
   "metadata": {},
   "outputs": [],
   "source": [
    "os.makedirs(data_dir + '/processed', exist_ok=True)"
   ]
  },
  {
   "cell_type": "code",
   "execution_count": null,
   "id": "greenhouse-scotland",
   "metadata": {},
   "outputs": [],
   "source": [
    "adata_de_micheli_mouse_d0.write_h5ad(data_dir + '/processed/de_micheli_mouse_D0.h5ad')"
   ]
  },
  {
   "cell_type": "code",
   "execution_count": null,
   "id": "invisible-tuner",
   "metadata": {},
   "outputs": [],
   "source": [
    "adata_oprescu_d0.write_h5ad(data_dir + '/processed/oprescu_D0.h5ad')"
   ]
  },
  {
   "cell_type": "code",
   "execution_count": null,
   "id": "qualified-satellite",
   "metadata": {},
   "outputs": [],
   "source": [
    "adata_giordani.write_h5ad(data_dir + '/processed/giordani_D0.h5ad')"
   ]
  },
  {
   "cell_type": "code",
   "execution_count": null,
   "id": "dramatic-scoop",
   "metadata": {},
   "outputs": [],
   "source": [
    "adata_scott_d0.write_h5ad(data_dir + '/processed/scott_D0.h5ad')"
   ]
  },
  {
   "cell_type": "markdown",
   "id": "acting-transcription",
   "metadata": {},
   "source": [
    "# Beautiful figs"
   ]
  },
  {
   "cell_type": "code",
   "execution_count": null,
   "id": "derived-turkey",
   "metadata": {},
   "outputs": [],
   "source": [
    "if not os.path.exists(fig_dir + 'clusters/'): os.makedirs(fig_dir + 'clusters/')"
   ]
  },
  {
   "cell_type": "code",
   "execution_count": null,
   "id": "searching-thanksgiving",
   "metadata": {},
   "outputs": [],
   "source": [
    "# MPL config\n",
    "font = {'family' : 'normal',\n",
    "        'weight' : 'light',\n",
    "        'size'   : 15}\n",
    "\n",
    "mpl.rc('font', **font)"
   ]
  },
  {
   "cell_type": "code",
   "execution_count": null,
   "id": "listed-antigua",
   "metadata": {},
   "outputs": [],
   "source": [
    "def makefig(list_genes, name_order=None, adata_list=[adata_oprescu_d0, adata_scott_d0, adata_de_micheli_mouse_d0, adata_giordani], \n",
    "           list_datasets = ['Oprescu', 'Scott', 'De Micheli', 'Giordani']):\n",
    "    n_cols = len(adata_list)\n",
    "    fig, axs = plt.subplots(len(list_genes), n_cols, figsize=(6 * n_cols, 4 * len(list_genes)))\n",
    "    \n",
    "        \n",
    "    for idx, gene in enumerate(list_genes):\n",
    "        try:\n",
    "            for adata_idx, adata in enumerate(adata_list):\n",
    "                sc.pl.umap(adata, color=gene, cmap=magma, ax=axs[idx][adata_idx], show=False, legend_fontsize=11)\n",
    "        except:\n",
    "            raise\n",
    "               \n",
    "    for ax_idx, ax in enumerate(axs.ravel()):\n",
    "        ax.spines['top'].set_visible(False)\n",
    "        ax.spines['right'].set_visible(False)\n",
    "        ax.spines['bottom'].set_visible(False)\n",
    "        if ax_idx % n_cols == 0:\n",
    "            ax.spines['left'].set_visible(False)\n",
    "            \n",
    "        ax.set_xlabel('')\n",
    "        \n",
    "        if ax_idx % n_cols == 0:\n",
    "            ax.set_ylabel(list_genes[ax_idx // n_cols])\n",
    "        else:\n",
    "            ax.set_ylabel('')\n",
    "            \n",
    "        if ax_idx in range(len(list_datasets)):\n",
    "            ax.set_title(list_datasets[ax_idx])\n",
    "        else:\n",
    "            ax.set_title('')\n",
    "            \n",
    "        # legend unification \n",
    "        if ax_idx % n_cols == 0:\n",
    "            dict_legends = {}\n",
    "        \n",
    "        try:\n",
    "            legend = ax.get_legend()\n",
    "            names, handles = [str(x._text) for x in legend.texts], legend.legendHandles  \n",
    "            for i in range(len(names)):\n",
    "                dict_legends[names[i]] = handles[i]\n",
    "            if ax_idx % n_cols != n_cols - 1:\n",
    "                ax.get_legend().remove()\n",
    "            else:\n",
    "                if name_order is None:\n",
    "                    ax.legend(dict_legends.values(), dict_legends.keys(), bbox_to_anchor=(1.05, 1), frameon=False, prop={'size': 11})\n",
    "                else:\n",
    "                    ax.legend([dict_legends[i] for i in name_order if i in dict_legends.keys()], \n",
    "                              [i for i in name_order if i in dict_legends.keys()], bbox_to_anchor=(1.05, 1), frameon=False, prop={'size': 11})\n",
    "        except:\n",
    "            pass \n",
    "        \n",
    "    \n",
    "    plt.tight_layout()\n",
    "    plt.savefig(fig_dir + 'clusters/' + '-'.join(list_genes) + '.png', dpi=500)\n",
    "    plt.savefig(fig_dir + 'clusters/' + '-'.join(list_genes) + '.pdf')\n",
    "    \n"
   ]
  },
  {
   "cell_type": "code",
   "execution_count": null,
   "id": "unavailable-dating",
   "metadata": {},
   "outputs": [],
   "source": [
    "name_order = ['Endothelial', 'Pericyte', 'Fibroblast', 'FAP', 'Tenocyte', 'Neural cell',\n",
    "                                                          'Myonuclei', 'MuSC', 'Immune', 'APC / Proliferative ICs', \n",
    "                                                          'Monocyte', 'Neutrophil', 'Myeloid', 'B cell', 'T cell', 'A', 'B', 'C', 'Other']"
   ]
  },
  {
   "cell_type": "code",
   "execution_count": null,
   "id": "confident-evolution",
   "metadata": {},
   "outputs": [],
   "source": [
    "makefig(['cell_type', 'Krano_type'], name_order=name_order)"
   ]
  },
  {
   "cell_type": "code",
   "execution_count": null,
   "id": "requested-motorcycle",
   "metadata": {},
   "outputs": [],
   "source": [
    "# Cluster 7\n",
    "makefig(['cell_type', 'Krano_type', 'Cxcl14', 'G0s2', 'Adamtsl2', 'Saa1', 'Thrsp'], name_order=name_order)"
   ]
  },
  {
   "cell_type": "code",
   "execution_count": null,
   "id": "reverse-bowling",
   "metadata": {},
   "outputs": [],
   "source": [
    "makefig(['Krano_type', 'Cd34', 'S100b'], name_order=name_order)\n",
    "makefig(['Krano_type', 'Pdgfrb', 'Sox10'], name_order=name_order)\n",
    "makefig(['Krano_type', 'Ngfr', 'Cspg4'], name_order=name_order)\n",
    "makefig(['Krano_type', 'Col9a2', 'Shisa3'], name_order=name_order)"
   ]
  },
  {
   "cell_type": "code",
   "execution_count": null,
   "id": "level-medicare",
   "metadata": {},
   "outputs": [],
   "source": [
    "makefig(['Krano_type', '6030408B16Rik', 'Col18a1'], name_order=name_order)\n",
    "makefig(['Krano_type', 'Col9a2', 'Cldn1'], name_order=name_order)\n",
    "makefig(['Krano_type', 'Dlk1', 'Fetub'], name_order=name_order)\n",
    "makefig(['Krano_type', 'Gpld1', 'Grin2b'], name_order=name_order)\n",
    "makefig(['Krano_type', 'Kcnb2', 'Lypd2'], name_order=name_order)\n",
    "makefig(['Krano_type', 'Mansc4', 'Nipal1'], name_order=name_order)\n",
    "makefig(['Krano_type', 'Saa1', 'Shisa3'], name_order=name_order)\n",
    "makefig(['Krano_type', 'Tenm2', 'Trpm6'], name_order=name_order)"
   ]
  },
  {
   "cell_type": "code",
   "execution_count": null,
   "id": "preceding-moscow",
   "metadata": {},
   "outputs": [],
   "source": [
    "makefig(['Tnc', 'Tnmd', 'Nipal1', 'Dlk1'], name_order=name_order, \n",
    "        adata_list=[adata_oprescu_d0, adata_oprescu_d2, adata_oprescu_d35, adata_oprescu_d5, adata_oprescu_d10, adata_oprescu_d21], \n",
    "        list_datasets=['D0', 'D2', 'D3.5', 'D5', 'D10', 'D21'])"
   ]
  }
 ],
 "metadata": {
  "kernelspec": {
   "display_name": "Python [conda env:alex-base] *",
   "language": "python",
   "name": "conda-env-alex-base-py"
  },
  "language_info": {
   "codemirror_mode": {
    "name": "ipython",
    "version": 3
   },
   "file_extension": ".py",
   "mimetype": "text/x-python",
   "name": "python",
   "nbconvert_exporter": "python",
   "pygments_lexer": "ipython3",
   "version": "3.8.0"
  }
 },
 "nbformat": 4,
 "nbformat_minor": 5
}
