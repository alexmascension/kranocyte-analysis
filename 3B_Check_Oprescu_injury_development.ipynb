{
 "cells": [
  {
   "cell_type": "code",
   "execution_count": null,
   "id": "d3f36890-a19a-4b6b-961c-ff9f3491e84a",
   "metadata": {
    "execution": {
     "iopub.execute_input": "2023-04-14T13:13:55.406666Z",
     "iopub.status.busy": "2023-04-14T13:13:55.406311Z",
     "iopub.status.idle": "2023-04-14T13:13:58.142385Z",
     "shell.execute_reply": "2023-04-14T13:13:58.141416Z",
     "shell.execute_reply.started": "2023-04-14T13:13:55.406574Z"
    }
   },
   "outputs": [],
   "source": [
    "import scanpy as sc\n",
    "import scanpy.external as sce\n",
    "import pandas as pd\n",
    "import numpy as np\n",
    "import os\n",
    "import shutil\n",
    "import triku as tk\n",
    "import matplotlib.pyplot as plt\n",
    "import matplotlib as mpl\n",
    "import subprocess\n",
    "from scipy.sparse import csr_matrix\n",
    "from IPython.display import display, HTML\n",
    "import mygene as mg\n",
    "\n",
    "from tqdm import tqdm\n",
    "# from tqdm.notebook import tqdm\n",
    "\n",
    "from bokeh.io import show, output_notebook, reset_output\n",
    "\n",
    "from scipy.sparse import csr_matrix, csc_matrix\n",
    "\n",
    "reset_output()\n",
    "output_notebook()"
   ]
  },
  {
   "cell_type": "code",
   "execution_count": null,
   "id": "43745fa6-4c62-430a-b4cc-3446dfc9df4b",
   "metadata": {
    "execution": {
     "iopub.execute_input": "2023-04-14T13:13:58.143915Z",
     "iopub.status.busy": "2023-04-14T13:13:58.143667Z",
     "iopub.status.idle": "2023-04-14T13:13:58.148052Z",
     "shell.execute_reply": "2023-04-14T13:13:58.147303Z",
     "shell.execute_reply.started": "2023-04-14T13:13:58.143889Z"
    },
    "tags": []
   },
   "outputs": [],
   "source": [
    "from cellassign import assign_cats"
   ]
  },
  {
   "cell_type": "code",
   "execution_count": null,
   "id": "da8b84a6-ab53-4d06-99f2-2fc61771ff26",
   "metadata": {
    "execution": {
     "iopub.execute_input": "2023-04-14T13:13:58.149238Z",
     "iopub.status.busy": "2023-04-14T13:13:58.148967Z",
     "iopub.status.idle": "2023-04-14T13:13:58.189881Z",
     "shell.execute_reply": "2023-04-14T13:13:58.189070Z",
     "shell.execute_reply.started": "2023-04-14T13:13:58.149210Z"
    }
   },
   "outputs": [],
   "source": [
    "magma = [plt.get_cmap('magma')(i) for i in np.linspace(0,1, 80)]\n",
    "magma[0] = (0.88, 0.88, 0.88, 1)\n",
    "magma = mpl.colors.LinearSegmentedColormap.from_list(\"\", magma[:65])\n",
    "\n",
    "seed = 0"
   ]
  },
  {
   "cell_type": "code",
   "execution_count": null,
   "id": "122a9f14-88bd-4e76-bfc0-0407742bc53e",
   "metadata": {
    "execution": {
     "iopub.execute_input": "2023-04-14T13:13:58.190965Z",
     "iopub.status.busy": "2023-04-14T13:13:58.190719Z",
     "iopub.status.idle": "2023-04-14T13:13:58.193963Z",
     "shell.execute_reply": "2023-04-14T13:13:58.193214Z",
     "shell.execute_reply.started": "2023-04-14T13:13:58.190941Z"
    }
   },
   "outputs": [],
   "source": [
    "mpl.rcParams['figure.dpi'] = 100"
   ]
  },
  {
   "cell_type": "markdown",
   "id": "7876e3f6-cef2-491f-91ab-4a943fc2ba9f",
   "metadata": {},
   "source": [
    "## Oprescu adata load"
   ]
  },
  {
   "cell_type": "code",
   "execution_count": null,
   "id": "d3df55bc-1e70-4a5c-aca1-05f46b7ba959",
   "metadata": {
    "execution": {
     "iopub.execute_input": "2023-04-14T13:13:58.195159Z",
     "iopub.status.busy": "2023-04-14T13:13:58.194895Z",
     "iopub.status.idle": "2023-04-14T13:13:58.201910Z",
     "shell.execute_reply": "2023-04-14T13:13:58.201078Z",
     "shell.execute_reply.started": "2023-04-14T13:13:58.195132Z"
    },
    "tags": []
   },
   "outputs": [],
   "source": [
    "data_dir = 'data/'\n",
    "oprescu_dir = data_dir + '/oprescu'"
   ]
  },
  {
   "cell_type": "code",
   "execution_count": null,
   "id": "0bdd8f8c-633e-4008-b196-a7627c6ff39b",
   "metadata": {
    "execution": {
     "iopub.execute_input": "2023-04-14T13:13:58.203225Z",
     "iopub.status.busy": "2023-04-14T13:13:58.202791Z",
     "iopub.status.idle": "2023-04-14T13:14:31.304006Z",
     "shell.execute_reply": "2023-04-14T13:14:31.302692Z",
     "shell.execute_reply.started": "2023-04-14T13:13:58.203185Z"
    },
    "tags": []
   },
   "outputs": [],
   "source": [
    "adata_oprescu = sc.read_loom(oprescu_dir + '/adata_oprescu.loom')"
   ]
  },
  {
   "cell_type": "code",
   "execution_count": null,
   "id": "20ac5661-1046-4d39-8f92-ebc571be1b38",
   "metadata": {
    "execution": {
     "iopub.execute_input": "2023-04-14T13:14:31.306951Z",
     "iopub.status.busy": "2023-04-14T13:14:31.306674Z",
     "iopub.status.idle": "2023-04-14T13:14:31.328849Z",
     "shell.execute_reply": "2023-04-14T13:14:31.328030Z",
     "shell.execute_reply.started": "2023-04-14T13:14:31.306911Z"
    }
   },
   "outputs": [],
   "source": [
    "adata_oprescu.obs['batch'] = [i.split('_')[0] for i in adata_oprescu.obs_names]"
   ]
  },
  {
   "cell_type": "code",
   "execution_count": null,
   "id": "809b9bee-998c-4d58-b89e-f0b9a7a99478",
   "metadata": {
    "execution": {
     "iopub.execute_input": "2023-04-14T13:14:31.330441Z",
     "iopub.status.busy": "2023-04-14T13:14:31.330192Z",
     "iopub.status.idle": "2023-04-14T13:14:33.576126Z",
     "shell.execute_reply": "2023-04-14T13:14:33.575153Z",
     "shell.execute_reply.started": "2023-04-14T13:14:31.330413Z"
    }
   },
   "outputs": [],
   "source": [
    "# Basic QC filtering\n",
    "adata_oprescu.var['mt'] = adata_oprescu.var_names.str.startswith('mt-')  # annotate the group of mitochondrial genes as 'mt'\n",
    "sc.pp.calculate_qc_metrics(adata_oprescu, qc_vars=['mt'], percent_top=None, inplace=True)"
   ]
  },
  {
   "cell_type": "code",
   "execution_count": null,
   "id": "10f10ddb-16ca-43d8-84cb-11896b170f44",
   "metadata": {
    "execution": {
     "iopub.execute_input": "2023-04-14T13:14:33.577344Z",
     "iopub.status.busy": "2023-04-14T13:14:33.577095Z",
     "iopub.status.idle": "2023-04-14T13:14:36.935977Z",
     "shell.execute_reply": "2023-04-14T13:14:36.934062Z",
     "shell.execute_reply.started": "2023-04-14T13:14:33.577318Z"
    }
   },
   "outputs": [],
   "source": [
    "sc.pl.violin(adata_oprescu, ['n_genes_by_counts', 'total_counts', 'pct_counts_mt'],\n",
    "             jitter=0.4, multi_panel=True)\n",
    "\n",
    "sc.pl.scatter(adata_oprescu, x='total_counts', y='pct_counts_mt')\n",
    "sc.pl.scatter(adata_oprescu, x='total_counts', y='n_genes_by_counts', color='batch')"
   ]
  },
  {
   "cell_type": "code",
   "execution_count": null,
   "id": "4d8f6f21-f832-4027-9e7b-7489815a4503",
   "metadata": {
    "execution": {
     "iopub.status.busy": "2023-04-14T13:14:36.936691Z",
     "iopub.status.idle": "2023-04-14T13:14:36.937078Z",
     "shell.execute_reply": "2023-04-14T13:14:36.936886Z"
    }
   },
   "outputs": [],
   "source": [
    "sc.pp.filter_cells(adata_oprescu, min_genes=150)"
   ]
  },
  {
   "cell_type": "code",
   "execution_count": null,
   "id": "c38836b5-ed4d-4d9f-a870-d65b76b4507c",
   "metadata": {
    "execution": {
     "iopub.status.busy": "2023-04-14T13:14:36.937882Z",
     "iopub.status.idle": "2023-04-14T13:14:36.938272Z",
     "shell.execute_reply": "2023-04-14T13:14:36.938072Z"
    },
    "tags": []
   },
   "outputs": [],
   "source": [
    "adata_oprescu_d0 = adata_oprescu[adata_oprescu.obs['batch'] == 'Noninjured'].copy()\n",
    "adata_oprescu_d05 = adata_oprescu[adata_oprescu.obs['batch'] == 'X0.5.DPI'].copy()\n",
    "adata_oprescu_d2 = adata_oprescu[adata_oprescu.obs['batch'] == 'X2.DPI'].copy()\n",
    "adata_oprescu_d35 = adata_oprescu[adata_oprescu.obs['batch'] == 'X3.5.DPI'].copy()\n",
    "adata_oprescu_d5 = adata_oprescu[adata_oprescu.obs['batch'] == 'X5.DPI'].copy()\n",
    "adata_oprescu_d10 = adata_oprescu[adata_oprescu.obs['batch'] == 'X10.DPI'].copy()\n",
    "adata_oprescu_d21 = adata_oprescu[adata_oprescu.obs['batch'] == 'X21.DPI'].copy()"
   ]
  },
  {
   "cell_type": "code",
   "execution_count": null,
   "id": "f0a37068-cdda-45d1-91bd-fdcb20583f10",
   "metadata": {
    "execution": {
     "iopub.status.busy": "2023-04-14T13:14:36.939053Z",
     "iopub.status.idle": "2023-04-14T13:14:36.939432Z",
     "shell.execute_reply": "2023-04-14T13:14:36.939243Z"
    },
    "tags": []
   },
   "outputs": [],
   "source": [
    "for adata_oprescu in [adata_oprescu_d0, adata_oprescu_d05, adata_oprescu_d2, adata_oprescu_d35, adata_oprescu_d5, adata_oprescu_d10, adata_oprescu_d21]:\n",
    "    print(adata_oprescu_d0)\n",
    "    sc.pp.filter_genes(adata_oprescu, min_counts=1)\n",
    "    sc.pp.normalize_per_cell(adata_oprescu)\n",
    "    sc.pp.log1p(adata_oprescu)\n",
    "    \n",
    "    sc.pp.pca(adata_oprescu, random_state=seed, n_comps=30)\n",
    "    sc.pp.neighbors(adata_oprescu, random_state=seed, n_neighbors=int(len(adata_oprescu) ** 0.5 // 2), metric='cosine')\n",
    "    tk.tl.triku(adata_oprescu)\n",
    "    \n",
    "    sc.tl.umap(adata_oprescu, min_dist=0.1, random_state=seed)\n",
    "    sc.tl.leiden(adata_oprescu, resolution=1, random_state=seed)\n",
    "    sc.pl.umap(adata_oprescu, color=['leiden', 'batch', 'n_counts'], legend_loc='on data')"
   ]
  },
  {
   "cell_type": "code",
   "execution_count": null,
   "id": "0a3cf3a6-a6d3-438b-8568-8a64f675d121",
   "metadata": {
    "execution": {
     "iopub.status.busy": "2023-04-14T13:14:36.940177Z",
     "iopub.status.idle": "2023-04-14T13:14:36.940559Z",
     "shell.execute_reply": "2023-04-14T13:14:36.940370Z"
    },
    "tags": []
   },
   "outputs": [],
   "source": [
    "dict_cats_general = {'Lum+ FAP': ['Apod', 'Lum', 'Ly6a', 'Pdgfra', 'Mfap5', 'Dcn'], \n",
    "                     'Prg4+ FAP': ['Prg4', 'Fbn1', 'Ly6a', 'Pdgfra', 'Mfap5', 'Dcn'], \n",
    "                     'Endothelial': ['Pecam1', 'Kdr', 'Fabp4', 'Cav1', 'Cdh5', 'Tek'], \n",
    "                     'Pericyte': ['Rgs5', 'Notch3', 'Myl9', 'Ndufa4l2', 'Itga7', 'Myh11', 'Pln', 'Abcc9'], \n",
    "                     'Satellite cell': ['Pax7', 'Myod1', 'Chodl', 'Vcam1', 'Sdc4', 'Myf5',], \n",
    "                     'Myonuclei': ['Tnnc2', 'Myh4', 'Acta1', 'Ckm', 'Tpm2', 'Eno3', 'Slc25a4'], \n",
    "                     'Tenocyte': ['Scx', 'Tnmd', 'Mkx', 'Col12a1', 'Col1a1', 'Tnc', 'Fmod', 'Comp'], \n",
    "                     'Neural cell': ['Mpz', 'Ptn', 'S100b'], \n",
    "                     'Glial cell': ['Plp1', 'Kcna1', 'S100b', 'Mbp', 'Mpz',],\n",
    "                     'Guide cell': ['Ncam2'],\n",
    "                     'Immune': ['H2-Aa', 'Cd74'], \n",
    "                     'APC': ['H2-Eb1', 'H2-Ab1'],\n",
    "                     'APC / Proliferative ICs': ['Mki67', 'Top2a'], \n",
    "                     'B cell': ['Cd19', 'Cd22', 'Ms4a1', 'Ptprc'], \n",
    "                     'T cell': ['Cd3d', 'Cd3e', 'Cd3g', 'Cd8a', 'Cd4', 'Ptprc', 'Cd28'], \n",
    "                     'Monocyte': ['Csf1r', 'Adgre1'], \n",
    "                     'Macrophage': ['Itgam', 'Csf1r', 'Adgre1', 'Itgb1', 'Cd68'],\n",
    "                     'Myeloid': ['Clec12a', 'Acp5'], \n",
    "                     'Neutrophil': ['S100a8', 'S100a9', 'Itgam', 'Cd14', ], \n",
    "                     'Epcam+': ['Epcam']}"
   ]
  },
  {
   "cell_type": "code",
   "execution_count": null,
   "id": "f9a4f8a5-e779-4c0e-84f9-30e8b1476697",
   "metadata": {
    "execution": {
     "iopub.status.busy": "2023-04-14T13:14:36.941308Z",
     "iopub.status.idle": "2023-04-14T13:14:36.941686Z",
     "shell.execute_reply": "2023-04-14T13:14:36.941498Z"
    },
    "tags": []
   },
   "outputs": [],
   "source": [
    "A_markers = ['6030408B16Rik', 'Col9a2', 'Dlk1', 'Shisa3',  'Saa1',  'Nipal1']\n",
    "A_markers_extra = ['Kcnk2',  # Not specific enough\n",
    "                   'Adamtsl2',  # Not specific enough\n",
    "                   'Cst6',  # Teno marker\n",
    "                   'Sorcs2',  # Not specific enough\n",
    "                   'Susd5',  # Not specific enough\n",
    "                   'Rgs17',  # Not specific enough\n",
    "                   'Gfra2']  # Marks immune population\n",
    "B_markers = ['Lypd2', 'Wnt6', 'Cldn1', 'Moxd1', 'Mansc4', 'Dleu7', 'Efnb3', 'Stra6', 'Sbspon', 'Ace2', 'Hcn4', 'Cldn22', 'Wnt10a', 'Ocln']  "
   ]
  },
  {
   "cell_type": "markdown",
   "id": "7ca62153-6f1e-41b4-b232-4c1278572959",
   "metadata": {},
   "source": [
    "### A_markers"
   ]
  },
  {
   "cell_type": "code",
   "execution_count": null,
   "id": "fb8fddb4-6bf4-4c4c-8634-fe3a26849468",
   "metadata": {
    "execution": {
     "iopub.status.busy": "2023-04-14T13:14:36.942550Z",
     "iopub.status.idle": "2023-04-14T13:14:36.942932Z",
     "shell.execute_reply": "2023-04-14T13:14:36.942743Z"
    }
   },
   "outputs": [],
   "source": [
    "fig, axs = plt.subplots(4, 1, figsize=(1, 4))\n"
   ]
  },
  {
   "cell_type": "code",
   "execution_count": null,
   "id": "aba2e18e-0a81-47f9-b52d-06680c61bc69",
   "metadata": {
    "execution": {
     "iopub.status.busy": "2023-04-14T13:14:36.943761Z",
     "iopub.status.idle": "2023-04-14T13:14:36.944159Z",
     "shell.execute_reply": "2023-04-14T13:14:36.943968Z"
    },
    "tags": []
   },
   "outputs": [],
   "source": [
    "sc.pl.umap(adata_oprescu_d0, color=['leiden', 'Tnc', 'Tnmd', 'Pdgfra', 'Lum', 'Prg4', 'Pdpn'] + [i for i in A_markers if i in adata_oprescu_d0.var_names], legend_loc='on data', ncols=3, cmap=magma)"
   ]
  },
  {
   "cell_type": "code",
   "execution_count": null,
   "id": "3803ede5-285e-45a5-8bc3-b0cfef41bf9f",
   "metadata": {
    "execution": {
     "iopub.status.busy": "2023-04-14T13:14:36.944874Z",
     "iopub.status.idle": "2023-04-14T13:14:36.945254Z",
     "shell.execute_reply": "2023-04-14T13:14:36.945065Z"
    },
    "tags": []
   },
   "outputs": [],
   "source": [
    "sc.pl.umap(adata_oprescu_d05, color=['leiden', 'Tnc', 'Tnmd', 'Pdgfra', 'Lum', 'Prg4', 'Pdpn'] + [i for i in A_markers if i in adata_oprescu_d05.var_names], legend_loc='on data', ncols=3, cmap=magma)"
   ]
  },
  {
   "cell_type": "code",
   "execution_count": null,
   "id": "6c6ebd32-2c66-4513-bbe3-a26bbe8c41a0",
   "metadata": {
    "execution": {
     "iopub.status.busy": "2023-04-14T13:14:36.945934Z",
     "iopub.status.idle": "2023-04-14T13:14:36.946323Z",
     "shell.execute_reply": "2023-04-14T13:14:36.946133Z"
    },
    "tags": []
   },
   "outputs": [],
   "source": [
    "sc.pl.umap(adata_oprescu_d2, color=['leiden', 'Tnc', 'Tnmd', 'Pdgfra', 'Lum', 'Prg4', 'Pdpn'] + [i for i in A_markers if i in adata_oprescu_d2.var_names], legend_loc='on data', ncols=3, cmap=magma)"
   ]
  },
  {
   "cell_type": "code",
   "execution_count": null,
   "id": "4e7ac763-664b-4836-b25d-01875de886b3",
   "metadata": {
    "execution": {
     "iopub.status.busy": "2023-04-14T13:14:36.947090Z",
     "iopub.status.idle": "2023-04-14T13:14:36.947492Z",
     "shell.execute_reply": "2023-04-14T13:14:36.947302Z"
    },
    "tags": []
   },
   "outputs": [],
   "source": [
    "sc.pl.umap(adata_oprescu_d35, color=['leiden', 'Tnc', 'Tnmd', 'Pdgfra', 'Lum', 'Prg4', 'Pdpn'] + [i for i in A_markers if i in adata_oprescu_d35.var_names], legend_loc='on data', ncols=3, cmap=magma)"
   ]
  },
  {
   "cell_type": "code",
   "execution_count": null,
   "id": "26bc0b5d-d664-457b-9915-6ac1f009d445",
   "metadata": {
    "execution": {
     "iopub.status.busy": "2023-04-14T13:14:36.948168Z",
     "iopub.status.idle": "2023-04-14T13:14:36.948543Z",
     "shell.execute_reply": "2023-04-14T13:14:36.948356Z"
    },
    "tags": []
   },
   "outputs": [],
   "source": [
    "sc.pl.umap(adata_oprescu_d5, color=['leiden', 'Tnc', 'Tnmd', 'Pdgfra', 'Lum', 'Prg4', 'Pdpn'] + [i for i in A_markers if i in adata_oprescu_d5.var_names], legend_loc='on data', ncols=3, cmap=magma)"
   ]
  },
  {
   "cell_type": "code",
   "execution_count": null,
   "id": "5a6e5fdc-3728-48b5-b3dd-1caef0767660",
   "metadata": {
    "execution": {
     "iopub.status.busy": "2023-04-14T13:14:36.949201Z",
     "iopub.status.idle": "2023-04-14T13:14:36.949575Z",
     "shell.execute_reply": "2023-04-14T13:14:36.949388Z"
    },
    "tags": []
   },
   "outputs": [],
   "source": [
    "sc.pl.umap(adata_oprescu_d10, color=['leiden', 'Tnc', 'Tnmd', 'Pdgfra', 'Lum', 'Prg4', 'Pdpn'] + [i for i in A_markers if i in adata_oprescu_d10.var_names], legend_loc='on data', ncols=3, cmap=magma)"
   ]
  },
  {
   "cell_type": "code",
   "execution_count": null,
   "id": "a6fb6ca8-cce6-4f26-8734-fe9407d57c03",
   "metadata": {
    "execution": {
     "iopub.status.busy": "2023-04-14T13:14:36.950408Z",
     "iopub.status.idle": "2023-04-14T13:14:36.950795Z",
     "shell.execute_reply": "2023-04-14T13:14:36.950597Z"
    },
    "tags": []
   },
   "outputs": [],
   "source": [
    "sc.pl.umap(adata_oprescu_d21, color=['leiden', 'Tnc', 'Tnmd', 'Pdgfra', 'Lum', 'Prg4', 'Pdpn'] + [i for i in A_markers if i in adata_oprescu_d21.var_names], legend_loc='on data', ncols=3, cmap=magma)"
   ]
  }
 ],
 "metadata": {
  "kernelspec": {
   "display_name": "Python [conda env:alex-base] *",
   "language": "python",
   "name": "conda-env-alex-base-py"
  },
  "language_info": {
   "codemirror_mode": {
    "name": "ipython",
    "version": 3
   },
   "file_extension": ".py",
   "mimetype": "text/x-python",
   "name": "python",
   "nbconvert_exporter": "python",
   "pygments_lexer": "ipython3",
   "version": "3.8.0"
  }
 },
 "nbformat": 4,
 "nbformat_minor": 5
}
