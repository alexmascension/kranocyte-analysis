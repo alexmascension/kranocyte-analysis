{
 "cells": [
  {
   "cell_type": "markdown",
   "metadata": {},
   "source": [
    "## Download the fasta reference"
   ]
  },
  {
   "cell_type": "code",
   "execution_count": null,
   "metadata": {},
   "outputs": [],
   "source": [
    "import os\n",
    "from tqdm.notebook import tqdm"
   ]
  },
  {
   "cell_type": "code",
   "execution_count": null,
   "metadata": {},
   "outputs": [],
   "source": [
    "fasta_ref_dir = os.getcwd() +  '/data/mouse_ref'\n",
    "magicblast_dir = os.getcwd() + '/data/magic_blast'\n",
    "\n",
    "os.makedirs(fasta_ref_dir, exist_ok=True)\n",
    "os.makedirs(magicblast_dir, exist_ok=True)"
   ]
  },
  {
   "cell_type": "code",
   "execution_count": null,
   "metadata": {},
   "outputs": [],
   "source": [
    "!cd {fasta_ref_dir} && wget http://ftp.ebi.ac.uk/pub/databases/gencode/Gencode_mouse/release_M27/gencode.vM27.transcripts.fa.gz"
   ]
  },
  {
   "cell_type": "code",
   "execution_count": null,
   "metadata": {},
   "outputs": [],
   "source": [
    "!cd {fasta_ref_dir} && gunzip gencode.vM27.transcripts.fa.gz"
   ]
  },
  {
   "cell_type": "markdown",
   "metadata": {},
   "source": [
    "Linearize the fasta"
   ]
  },
  {
   "cell_type": "code",
   "execution_count": null,
   "metadata": {},
   "outputs": [],
   "source": [
    "%%bash -s {fasta_ref_dir}\n",
    "\n",
    "cd $1 && awk '/^>/ {printf(\"%s%s\\t\",(N>0?\"\\n\":\"\"),$0);N++;next;} {printf(\"%s\",$0);} END {printf(\"\\n\");}' < gencode.vM27.transcripts.fa > gencode.vM27.transcripts.linear.fa"
   ]
  },
  {
   "cell_type": "markdown",
   "metadata": {},
   "source": [
    "Select the genes"
   ]
  },
  {
   "cell_type": "code",
   "execution_count": null,
   "metadata": {},
   "outputs": [],
   "source": [
    "!cd {fasta_ref_dir} && grep -E 'Col9a2|Smim41' gencode.vM27.transcripts.linear.fa > gencode.vM27.transcripts.selected.linear.fa"
   ]
  },
  {
   "cell_type": "markdown",
   "metadata": {},
   "source": [
    "Revert to non-linearized"
   ]
  },
  {
   "cell_type": "code",
   "execution_count": null,
   "metadata": {},
   "outputs": [],
   "source": [
    "!cd {fasta_ref_dir} && tr \"\\t\" \"\\n\" < gencode.vM27.transcripts.selected.linear.fa | fold -w 130 > gencode.vM27.transcripts.selected.fa"
   ]
  },
  {
   "cell_type": "code",
   "execution_count": null,
   "metadata": {},
   "outputs": [],
   "source": [
    "# Cut the header to show only the gene isoform\n",
    "fin, fout = f'{fasta_ref_dir}/gencode.vM27.transcripts.selected.fa', f'{fasta_ref_dir}/gencode.vM27.genes.selected.fa'\n",
    "\n",
    "file_object_in, file_object_out = open(fin, 'r'), open(fout, 'w')\n",
    "\n",
    "for line in tqdm(file_object_in):\n",
    "    if line[0] == '>':\n",
    "        contents = line.split('|')\n",
    "        file_object_out.write('|'.join([contents[0], contents[4]])+'\\n')\n",
    "    else:\n",
    "        file_object_out.write(line)\n",
    "\n",
    "file_object_in.close()\n",
    "file_object_out.close()"
   ]
  },
  {
   "cell_type": "markdown",
   "metadata": {},
   "source": [
    "## Magicblast"
   ]
  },
  {
   "cell_type": "code",
   "execution_count": null,
   "metadata": {},
   "outputs": [],
   "source": [
    "!mamba install -c bioconda magicblast"
   ]
  },
  {
   "cell_type": "markdown",
   "metadata": {},
   "source": [
    "### Create the reference"
   ]
  },
  {
   "cell_type": "code",
   "execution_count": null,
   "metadata": {},
   "outputs": [],
   "source": [
    "!makeblastdb -in {fasta_ref_dir}/gencode.vM27.genes.selected.fa -out {fasta_ref_dir}/mouse_ref_gencode_magicblast -parse_seqids -dbtype nucl"
   ]
  },
  {
   "cell_type": "markdown",
   "metadata": {},
   "source": [
    "# Downloading FASTQ files"
   ]
  },
  {
   "cell_type": "code",
   "execution_count": null,
   "metadata": {},
   "outputs": [],
   "source": [
    "n_procs = 16"
   ]
  },
  {
   "cell_type": "markdown",
   "metadata": {},
   "source": [
    "## Oprescu"
   ]
  },
  {
   "cell_type": "code",
   "execution_count": null,
   "metadata": {},
   "outputs": [],
   "source": [
    "!cd data/oprescu && parallel-fastq-dump -s SRR10275413 -t {n_procs} --split-files --gzip"
   ]
  },
  {
   "cell_type": "markdown",
   "metadata": {},
   "source": [
    "## De Micheli"
   ]
  },
  {
   "cell_type": "code",
   "execution_count": null,
   "metadata": {},
   "outputs": [],
   "source": [
    "!cd data/demicheli_mouse && parallel-fastq-dump -s SRR10870296 -t {n_procs} --split-files --gzip"
   ]
  },
  {
   "cell_type": "code",
   "execution_count": null,
   "metadata": {},
   "outputs": [],
   "source": [
    "!cd data/demicheli_mouse && parallel-fastq-dump -s SRR10870297 -t {n_procs} --split-files --gzip"
   ]
  },
  {
   "cell_type": "markdown",
   "metadata": {},
   "source": [
    "## Giordani"
   ]
  },
  {
   "cell_type": "code",
   "execution_count": null,
   "metadata": {},
   "outputs": [],
   "source": [
    "!cd data/giordani && aria2c -x 16 https://sra-pub-src-1.s3.amazonaws.com/SRR8352706/20180917_uninjured_wt_possorted_genome_bam.bam.1"
   ]
  },
  {
   "cell_type": "code",
   "execution_count": null,
   "metadata": {},
   "outputs": [],
   "source": [
    "!cd data/giordani && aria2c -x 16 https://sra-pub-src-1.s3.amazonaws.com/SRR8352705/20171018_uninjured_wt_possorted_genome_bam.bam.1"
   ]
  },
  {
   "cell_type": "code",
   "execution_count": null,
   "metadata": {},
   "outputs": [],
   "source": [
    "program_dir = '/media/seth/SETH_DATA/SETH_Alex/Programs/'"
   ]
  },
  {
   "cell_type": "code",
   "execution_count": null,
   "metadata": {},
   "outputs": [],
   "source": [
    "!cd {program_dir} && bamtofastq-1.3.2 {os.getcwd()}/data/giordani/20171018_uninjured_wt_possorted_genome_bam.bam.1 {os.getcwd()}/data/giordani"
   ]
  },
  {
   "cell_type": "code",
   "execution_count": null,
   "metadata": {},
   "outputs": [],
   "source": [
    "!cd {program_dir} && bamtofastq-1.3.2 {os.getcwd()}/data/giordani/20180917_uninjured_wt_possorted_genome_bam.bam.1 {os.getcwd()}/data/giordani"
   ]
  },
  {
   "cell_type": "code",
   "execution_count": null,
   "metadata": {},
   "outputs": [],
   "source": [
    "!cat data/giordani/bam_20171018/count_MissingLibrary_1_HNMVKBGX2/*_R2_*.fastq.gz > data/giordani/SRR8352705.fastq.gz"
   ]
  },
  {
   "cell_type": "code",
   "execution_count": null,
   "metadata": {},
   "outputs": [],
   "source": [
    "!cat data/giordani/bam_20180917/count_MissingLibrary_1_H7HGTBGX9/*_R2_*.fastq.gz > data/giordani/SRR8352706.fastq.gz"
   ]
  },
  {
   "cell_type": "markdown",
   "metadata": {},
   "source": [
    "## Dell'Orso"
   ]
  },
  {
   "cell_type": "code",
   "execution_count": null,
   "metadata": {},
   "outputs": [],
   "source": [
    "!cd data/dellorso && parallel-fastq-dump -s SRR8602275 -t {n_procs} --split-files --gzip"
   ]
  },
  {
   "cell_type": "code",
   "execution_count": null,
   "metadata": {},
   "outputs": [],
   "source": [
    "!cd data/dellorso && parallel-fastq-dump -s SRR8602276 -t {n_procs} --split-files --gzip"
   ]
  },
  {
   "cell_type": "markdown",
   "metadata": {},
   "source": [
    "# Using magicblast"
   ]
  },
  {
   "cell_type": "markdown",
   "metadata": {},
   "source": [
    "## Oprescu"
   ]
  },
  {
   "cell_type": "code",
   "execution_count": null,
   "metadata": {},
   "outputs": [],
   "source": [
    "!cd data/oprescu && magicblast -query SRR10275413_1.fastq.gz -query_mate SRR10275413_2.fastq.gz -db {fasta_ref_dir}/mouse_ref_gencode_magicblast -infmt fastq -num_threads {n_procs} -no_unaligned > {magicblast_dir}/oprescu.sam"
   ]
  },
  {
   "cell_type": "code",
   "execution_count": null,
   "metadata": {},
   "outputs": [],
   "source": [
    "!samtools view -b -o {magicblast_dir}/oprescu.bam {magicblast_dir}/oprescu.sam\n",
    "!samtools sort {magicblast_dir}/oprescu.bam > {magicblast_dir}/oprescu.sorted.bam\n",
    "!samtools index {magicblast_dir}/oprescu.sorted.bam"
   ]
  },
  {
   "cell_type": "markdown",
   "metadata": {},
   "source": [
    "## De Micheli"
   ]
  },
  {
   "cell_type": "code",
   "execution_count": null,
   "metadata": {},
   "outputs": [],
   "source": [
    "!cd data/demicheli_mouse && magicblast -query SRR10870296_3.fastq.gz -db {fasta_ref_dir}/mouse_ref_gencode_magicblast -infmt fastq -num_threads {n_procs} -no_unaligned > {magicblast_dir}/demicheli_1.sam"
   ]
  },
  {
   "cell_type": "code",
   "execution_count": null,
   "metadata": {},
   "outputs": [],
   "source": [
    "!cd data/demicheli_mouse && magicblast -query SRR10870297_3.fastq.gz -db {fasta_ref_dir}/mouse_ref_gencode_magicblast -infmt fastq -num_threads {n_procs} -no_unaligned > {magicblast_dir}/demicheli_2.sam"
   ]
  },
  {
   "cell_type": "code",
   "execution_count": null,
   "metadata": {},
   "outputs": [],
   "source": [
    "!samtools view -b -o {magicblast_dir}/demicheli_1.bam {magicblast_dir}/demicheli_1.sam\n",
    "!samtools view -b -o {magicblast_dir}/demicheli_2.bam {magicblast_dir}/demicheli_2.sam\n",
    "!samtools merge -o {magicblast_dir}/demicheli.bam {magicblast_dir}/demicheli_1.bam {magicblast_dir}/demicheli_2.bam\n",
    "!samtools sort {magicblast_dir}/demicheli.bam > {magicblast_dir}/demicheli.sorted.bam\n",
    "!samtools index {magicblast_dir}/demicheli.sorted.bam"
   ]
  },
  {
   "cell_type": "markdown",
   "metadata": {},
   "source": [
    "## Giordani"
   ]
  },
  {
   "cell_type": "code",
   "execution_count": null,
   "metadata": {},
   "outputs": [],
   "source": [
    "!cd data/giordani && magicblast -query SRR8352705.fastq.gz -db {fasta_ref_dir}/mouse_ref_gencode_magicblast -infmt fastq -num_threads {n_procs} -no_unaligned > {magicblast_dir}/giordani_1.sam"
   ]
  },
  {
   "cell_type": "code",
   "execution_count": null,
   "metadata": {},
   "outputs": [],
   "source": [
    "!cd data/giordani && magicblast -query SRR8352706.fastq.gz -db {fasta_ref_dir}/mouse_ref_gencode_magicblast -infmt fastq -num_threads {n_procs} -no_unaligned  > {magicblast_dir}/giordani_2.sam"
   ]
  },
  {
   "cell_type": "code",
   "execution_count": null,
   "metadata": {},
   "outputs": [],
   "source": [
    "!samtools view -b -o {magicblast_dir}/giordani_1.bam {magicblast_dir}/giordani_1.sam\n",
    "!samtools view -b -o {magicblast_dir}/giordani_2.bam {magicblast_dir}/giordani_2.sam\n",
    "!samtools merge -o {magicblast_dir}/giordani.bam {magicblast_dir}/giordani_1.bam {magicblast_dir}/giordani_2.bam\n",
    "!samtools sort {magicblast_dir}/giordani.bam > {magicblast_dir}/demicheli.sorted.bam\n",
    "!samtools index {magicblast_dir}/giordani.sorted.bam"
   ]
  },
  {
   "cell_type": "markdown",
   "metadata": {},
   "source": [
    "## Dell'Orso"
   ]
  },
  {
   "cell_type": "code",
   "execution_count": null,
   "metadata": {},
   "outputs": [],
   "source": [
    "!cd data/dellorso && magicblast -query SRR8602275_3.fastq.gz -db {fasta_ref_dir}/mouse_ref_gencode_magicblast -infmt fastq -num_threads {n_procs} -no_unaligned > {magicblast_dir}/dellorso_1.sam"
   ]
  },
  {
   "cell_type": "code",
   "execution_count": null,
   "metadata": {},
   "outputs": [],
   "source": [
    "!cd data/dellorso && magicblast -query SRR8602276_3.fastq.gz -db {fasta_ref_dir}/mouse_ref_gencode_magicblast -infmt fastq -num_threads {n_procs} -no_unaligned > {magicblast_dir}/dellorso_2.sam"
   ]
  },
  {
   "cell_type": "code",
   "execution_count": null,
   "metadata": {},
   "outputs": [],
   "source": [
    "!samtools view -b -o {magicblast_dir}/dellorso_1.bam {magicblast_dir}/dellorso_1.sam\n",
    "!samtools view -b -o {magicblast_dir}/dellorso_2.bam {magicblast_dir}/dellorso_2.sam\n",
    "!samtools merge -o {magicblast_dir}/dellorso.bam {magicblast_dir}/dellorso_1.bam {magicblast_dir}/dellorso_2.bam\n",
    "!samtools sort {magicblast_dir}/dellorso.bam > {magicblast_dir}/dellorso.sorted.bam\n",
    "!samtools index {magicblast_dir}/dellorso.sorted.bam"
   ]
  },
  {
   "cell_type": "markdown",
   "metadata": {},
   "source": [
    "# Filtering reads from files"
   ]
  },
  {
   "cell_type": "code",
   "execution_count": null,
   "metadata": {},
   "outputs": [],
   "source": [
    "genes = \"'Col9a2|Smim41'\""
   ]
  },
  {
   "cell_type": "code",
   "execution_count": null,
   "metadata": {},
   "outputs": [],
   "source": [
    "!cd {magicblast_dir} && zcat oprescu.txt.gz | grep -E {genes} > oprescu_filtered.txt"
   ]
  },
  {
   "cell_type": "code",
   "execution_count": null,
   "metadata": {},
   "outputs": [],
   "source": [
    "print(f'zcat dellorso_1.txt.gz dellorso_2.txt.gz | grep {genes} > dellorso_filtered.txt')"
   ]
  },
  {
   "cell_type": "code",
   "execution_count": null,
   "metadata": {},
   "outputs": [],
   "source": [
    "!cd {magicblast_dir} && zcat demicheli_1.txt.gz demicheli_2.txt.gz | grep -E {genes} > demicheli_filtered.txt"
   ]
  },
  {
   "cell_type": "code",
   "execution_count": null,
   "metadata": {},
   "outputs": [],
   "source": [
    "!cd {magicblast_dir} && zcat giordani_1.txt.gz giordani_2.txt.gz | grep -E {genes} > giordani_filtered.txt"
   ]
  },
  {
   "cell_type": "code",
   "execution_count": null,
   "metadata": {},
   "outputs": [],
   "source": [
    "!cd {magicblast_dir} && zcat dellorso_1.txt.gz dellorso_2.txt.gz | grep -E {genes} > dellorso_filtered.txt"
   ]
  },
  {
   "cell_type": "code",
   "execution_count": null,
   "metadata": {},
   "outputs": [],
   "source": []
  }
 ],
 "metadata": {
  "kernelspec": {
   "display_name": "Python [conda env:alex-base] *",
   "language": "python",
   "name": "conda-env-alex-base-py"
  },
  "language_info": {
   "codemirror_mode": {
    "name": "ipython",
    "version": 3
   },
   "file_extension": ".py",
   "mimetype": "text/x-python",
   "name": "python",
   "nbconvert_exporter": "python",
   "pygments_lexer": "ipython3",
   "version": "3.8.0"
  },
  "toc": {
   "base_numbering": 1,
   "nav_menu": {},
   "number_sections": true,
   "sideBar": true,
   "skip_h1_title": false,
   "title_cell": "Table of Contents",
   "title_sidebar": "Contents",
   "toc_cell": false,
   "toc_position": {},
   "toc_section_display": true,
   "toc_window_display": false
  },
  "varInspector": {
   "cols": {
    "lenName": 16,
    "lenType": 16,
    "lenVar": 40
   },
   "kernels_config": {
    "python": {
     "delete_cmd_postfix": "",
     "delete_cmd_prefix": "del ",
     "library": "var_list.py",
     "varRefreshCmd": "print(var_dic_list())"
    },
    "r": {
     "delete_cmd_postfix": ") ",
     "delete_cmd_prefix": "rm(",
     "library": "var_list.r",
     "varRefreshCmd": "cat(var_dic_list()) "
    }
   },
   "types_to_exclude": [
    "module",
    "function",
    "builtin_function_or_method",
    "instance",
    "_Feature"
   ],
   "window_display": false
  }
 },
 "nbformat": 4,
 "nbformat_minor": 4
}
