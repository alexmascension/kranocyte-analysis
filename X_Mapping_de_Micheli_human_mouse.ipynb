{
 "cells": [
  {
   "cell_type": "code",
   "execution_count": null,
   "id": "frank-venezuela",
   "metadata": {},
   "outputs": [],
   "source": [
    "import scanpy as sc\n",
    "import scanpy.external as sce\n",
    "import pandas as pd\n",
    "import numpy as np\n",
    "import os\n",
    "import triku as tk\n",
    "import matplotlib.pyplot as plt\n",
    "import matplotlib as mpl\n",
    "from tqdm.notebook import tqdm\n",
    "import ray\n",
    "import subprocess\n",
    "\n",
    "from IPython.display import display, HTML\n",
    "\n",
    "from tqdm.notebook import tqdm\n",
    "\n",
    "from bokeh.io import show, output_notebook, reset_output\n",
    "\n",
    "reset_output()\n",
    "output_notebook()"
   ]
  },
  {
   "cell_type": "code",
   "execution_count": null,
   "id": "residential-mercury",
   "metadata": {},
   "outputs": [],
   "source": [
    "seed = 10"
   ]
  },
  {
   "cell_type": "code",
   "execution_count": null,
   "id": "coated-amazon",
   "metadata": {},
   "outputs": [],
   "source": [
    "data_dir = 'data/'\n",
    "fig_dir = 'figures/'"
   ]
  },
  {
   "cell_type": "code",
   "execution_count": null,
   "id": "sonic-august",
   "metadata": {},
   "outputs": [],
   "source": [
    "# Palettes for UMAP gene expression\n",
    "\n",
    "magma = [plt.get_cmap('magma')(i) for i in np.linspace(0,1, 80)]\n",
    "magma[0] = (0.88, 0.88, 0.88, 1)\n",
    "magma = mpl.colors.LinearSegmentedColormap.from_list(\"\", magma[:65])"
   ]
  },
  {
   "cell_type": "code",
   "execution_count": null,
   "id": "talented-duration",
   "metadata": {},
   "outputs": [],
   "source": [
    "def assign_cats(adata, dict_cats, column_groupby='leiden', quantile_gene_sel=0.7, do_return=False, intermediate_states=False, diff=0.05, \n",
    "                key_added='assigned_cats', min_score=0.6, others_name='unassigned'):\n",
    "    \"\"\"\n",
    "    This functions uses a set of genes assigned to different categories so that leiden clusters can be assigned to one of these categories.\n",
    "    For example, to categorize fibroblasts from pericytes, endothelial cells, or cells with high mitochondrial content.\n",
    "    It could be done with each cell individually, but it is better to use clusters to discern the different categories because\n",
    "    the method, although efficient, can sometimes be noisy due to the noisiness of the sc datasets.\n",
    "    \"\"\"\n",
    "    \n",
    "    for cat in list(dict_cats.keys()):\n",
    "        mat_cat = np.zeros((len(adata), len(dict_cats[cat])), dtype=float)\n",
    "        \n",
    "        for gene_idx, gene in enumerate(dict_cats[cat]):\n",
    "            try:\n",
    "                mat_cat[:, gene_idx] = np.asarray(np.dot(adata.obsp['connectivities'], adata[:, gene].X).todense()).ravel() / adata.uns['neighbors']['params']['n_neighbors']\n",
    "                mat_cat[mat_cat[:, gene_idx] > 0, gene_idx] = np.argsort(np.argsort(mat_cat[mat_cat[:, gene_idx] > 0, gene_idx]))\n",
    "                mat_cat[:, gene_idx] /= np.max(mat_cat[:, gene_idx])\n",
    "            except:\n",
    "                print(f'Gene {gene} is not on the list')    \n",
    "            \n",
    "        sum_mat_cat = np.asarray(mat_cat.mean(1)).ravel()       \n",
    "        adata.obs[cat] = sum_mat_cat\n",
    "    \n",
    "    score_per_cluster = adata.obs[[column_groupby] + list(dict_cats.keys())].groupby(column_groupby).quantile(quantile_gene_sel)\n",
    "    max_cat_dict_std = dict(zip(score_per_cluster.std(1).index, score_per_cluster.std(1).values))\n",
    "    adata.obs[f'{key_added}_std'] = [max_cat_dict_std[i] for i in adata.obs[column_groupby]]\n",
    "    max_cat_dict_mean = dict(zip(score_per_cluster.mean(1).index, score_per_cluster.mean(1).values))\n",
    "    adata.obs[f'{key_added}_mean'] = [max_cat_dict_mean[i] for i in adata.obs[column_groupby]]\n",
    "    max_cat_dict_max = dict(zip(score_per_cluster.max(1).index, score_per_cluster.max(1).values))\n",
    "    adata.obs[f'{key_added}_max'] = [max_cat_dict_max[i] for i in adata.obs[column_groupby]]\n",
    "    adata.obs[f'{key_added}_CV'] = adata.obs[f'{key_added}_mean'] / adata.obs[f'{key_added}_std']\n",
    "    \n",
    "    for cat in score_per_cluster.columns:\n",
    "        max_cat_dict = dict(zip(score_per_cluster.index, score_per_cluster[cat].values))        \n",
    "        adata.obs[f'{key_added}_{cat}'] = [max_cat_dict[i] for i in adata.obs[column_groupby]]\n",
    "    \n",
    "    if intermediate_states: # For each cluster we will identify which categories are close to the highest one, and merge their names.\n",
    "        list_names_cats_per_cluster = []\n",
    "        for cluster in score_per_cluster.index:\n",
    "            scores_cluster = score_per_cluster.loc[cluster]\n",
    "            scores_cluster = scores_cluster[scores_cluster > scores_cluster.max() - diff]\n",
    "            list_names_cats_per_cluster.append('/'.join(scores_cluster.index))\n",
    "        \n",
    "        final_cat_dict = dict(zip(score_per_cluster.idxmax(axis=1).index, list_names_cats_per_cluster))\n",
    "    else:        \n",
    "        final_cat_dict = dict(zip(score_per_cluster.idxmax(axis=1).index, score_per_cluster.idxmax(axis=1).values))\n",
    "    \n",
    "    adata.obs[f'{key_added}'] = [str(final_cat_dict[i]) for i in adata.obs[column_groupby]]\n",
    "    \n",
    "    adata.obs[f'{key_added}'][adata.obs[f'{key_added}_max'] < min_score] = others_name\n",
    "    \n",
    "    if do_return:\n",
    "        return score_per_cluster"
   ]
  },
  {
   "cell_type": "code",
   "execution_count": null,
   "id": "4477af93-d46e-4791-b608-5e201b745f76",
   "metadata": {},
   "outputs": [],
   "source": [
    "de_micheli_mouse = sc.read('data/processed/de_micheli_mouse_d0.h5')\n",
    "de_micheli_human = sc.read('data/processed/de_micheli_human.h5')\n",
    "\n",
    "de_micheli_mouse.var_names = [i.upper() for i in de_micheli_mouse.var_names]\n",
    "\n",
    "de_micheli_mouse.var_names_make_unique()\n",
    "de_micheli_human.var_names_make_unique()"
   ]
  },
  {
   "cell_type": "code",
   "execution_count": null,
   "id": "1f1c3930-1138-4751-8893-957394c19cf3",
   "metadata": {},
   "outputs": [],
   "source": [
    "de_micheli = sc.AnnData.concatenate(de_micheli_mouse, de_micheli_human, batch_key='organism', \n",
    "                                    batch_categories=['mouse', 'human'], join='outer')"
   ]
  },
  {
   "cell_type": "code",
   "execution_count": null,
   "id": "2c3f24a9-292e-4854-84f6-6ed7509d5ec6",
   "metadata": {},
   "outputs": [],
   "source": [
    "sc.pp.pca(de_micheli, random_state=seed, n_comps=30)\n",
    "sce.pp.bbknn(de_micheli, neighbors_within_batch=2, batch_key='batch', approx=False, set_op_mix_ratio=0.2)\n",
    "tk.tl.triku(de_micheli, n_procs=1, random_state=seed, use_adata_knn=True)"
   ]
  },
  {
   "cell_type": "code",
   "execution_count": null,
   "id": "5ed3ff70-282a-40c1-8270-8f35cdc967c5",
   "metadata": {},
   "outputs": [],
   "source": [
    "sc.tl.umap(de_micheli, min_dist=0.3, random_state=seed)\n",
    "sc.tl.leiden(de_micheli, resolution=2, random_state=seed)\n",
    "sc.pl.umap(de_micheli, color=['leiden', 'batch', 'organism', 'total_counts'], legend_loc='on data', ncols=1)"
   ]
  },
  {
   "cell_type": "code",
   "execution_count": null,
   "id": "9763051c-859a-4254-a897-4362c744b200",
   "metadata": {},
   "outputs": [],
   "source": [
    "A_markers = ['6030408B16Rik', 'Adamtsl2', 'Cdh19', 'Cdkn2b', 'Col18a1', 'Col26a1', \n",
    "             'Col9a2', 'Dlk1', 'Fetub', 'Gfra2', 'Gm11681', 'Gpld1', 'Greb1', 'Gria1', \n",
    "             'Kcnb2', 'Kcnk2', 'Mpzl2', 'Ngfr', 'Plppr4', \n",
    "             'Ptgfr', 'Rgs17', 'Saa1', 'Saa2', 'Shisa3', 'Sipa1l1', 'Sorcs2', 'Sox9', \n",
    "             'Sphkap', 'Syndig1', 'Trpm6']\n",
    "B_markers = ['Cldn1', 'Crabp2', 'Dleu7', 'Efnb3', 'Gjb5', 'Grin2b', 'Itgb4', 'Kcnj13', \n",
    "             'Kcnj2', 'Lgals7', 'Lypd2', 'Mansc4', 'Moxd1', 'Mpzl2', 'Perp', 'Prodh', 'Ptch1', \n",
    "             'Slc6a13', 'Stra6', 'Tec', 'Tenm2', 'Wnt10a', 'Wnt6']"
   ]
  },
  {
   "cell_type": "code",
   "execution_count": null,
   "id": "604f2c43-712f-4b7b-9d3b-f342571dc919",
   "metadata": {},
   "outputs": [],
   "source": [
    "sc.pl.umap(de_micheli, color=['leiden', 'organism'], ncols=1, cmap=magma)"
   ]
  },
  {
   "cell_type": "code",
   "execution_count": null,
   "id": "a13c595d-84ac-46e9-99c7-6f0f3793dfc0",
   "metadata": {},
   "outputs": [],
   "source": [
    "sc.pl.umap(de_micheli, color=[i.upper() for i in A_markers if i.upper() in de_micheli.var_names], ncols=3, cmap=magma)"
   ]
  },
  {
   "cell_type": "code",
   "execution_count": null,
   "id": "cdea45fb-57fc-497d-8fe8-8794d7543111",
   "metadata": {},
   "outputs": [],
   "source": [
    "sc.pl.umap(de_micheli, color=[i.upper() for i in B_markers if i.upper() in de_micheli.var_names], ncols=3, cmap=magma)"
   ]
  },
  {
   "cell_type": "markdown",
   "id": "92d8ab0f-c248-4a7e-ae56-596caa715c7d",
   "metadata": {},
   "source": [
    "**No mapping is available and the markers in human do not correlate to mouse**"
   ]
  }
 ],
 "metadata": {
  "kernelspec": {
   "display_name": "Python [conda env:alex-base] *",
   "language": "python",
   "name": "conda-env-alex-base-py"
  },
  "language_info": {
   "codemirror_mode": {
    "name": "ipython",
    "version": 3
   },
   "file_extension": ".py",
   "mimetype": "text/x-python",
   "name": "python",
   "nbconvert_exporter": "python",
   "pygments_lexer": "ipython3",
   "version": "3.8.0"
  }
 },
 "nbformat": 4,
 "nbformat_minor": 5
}
