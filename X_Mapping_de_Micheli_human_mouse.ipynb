{
 "cells": [
  {
   "cell_type": "code",
   "execution_count": null,
   "id": "frank-venezuela",
   "metadata": {},
   "outputs": [],
   "source": [
    "import scanpy as sc\n",
    "import scanpy.external as sce\n",
    "import pandas as pd\n",
    "import numpy as np\n",
    "import os\n",
    "import triku as tk\n",
    "import matplotlib.pyplot as plt\n",
    "import matplotlib as mpl\n",
    "from tqdm.notebook import tqdm\n",
    "import ray\n",
    "import subprocess\n",
    "\n",
    "from IPython.display import display, HTML\n",
    "\n",
    "from tqdm.notebook import tqdm\n",
    "\n",
    "from bokeh.io import show, output_notebook, reset_output\n",
    "\n",
    "reset_output()\n",
    "output_notebook()"
   ]
  },
  {
   "cell_type": "code",
   "execution_count": null,
   "id": "residential-mercury",
   "metadata": {},
   "outputs": [],
   "source": [
    "seed = 10"
   ]
  },
  {
   "cell_type": "code",
   "execution_count": null,
   "id": "coated-amazon",
   "metadata": {},
   "outputs": [],
   "source": [
    "data_dir = 'data/'\n",
    "fig_dir = 'figures/'"
   ]
  },
  {
   "cell_type": "code",
   "execution_count": null,
   "id": "sonic-august",
   "metadata": {},
   "outputs": [],
   "source": [
    "# Palettes for UMAP gene expression\n",
    "\n",
    "magma = [plt.get_cmap('magma')(i) for i in np.linspace(0,1, 80)]\n",
    "magma[0] = (0.88, 0.88, 0.88, 1)\n",
    "magma = mpl.colors.LinearSegmentedColormap.from_list(\"\", magma[:65])"
   ]
  },
  {
   "cell_type": "code",
   "execution_count": null,
   "id": "a64fcc0b-93a1-4494-8efc-f42c7c1fbeb8",
   "metadata": {},
   "outputs": [],
   "source": [
    "from cellassign import assign_cats"
   ]
  },
  {
   "cell_type": "code",
   "execution_count": null,
   "id": "4477af93-d46e-4791-b608-5e201b745f76",
   "metadata": {},
   "outputs": [],
   "source": [
    "de_micheli_mouse = sc.read('data/processed/de_micheli_mouse_d0.h5')\n",
    "de_micheli_human = sc.read('data/processed/de_micheli_human.h5')"
   ]
  },
  {
   "cell_type": "code",
   "execution_count": null,
   "id": "68b1bb2e-c1ff-440d-a1e1-25c74e301fc2",
   "metadata": {},
   "outputs": [],
   "source": [
    "df_mouse2human = pd.read_csv('data/mouse_2_human.txt', sep=',')\n",
    "df_mouse2human = df_mouse2human.dropna(how='any')\n",
    "df_mouse2human = df_mouse2human[df_mouse2human['Gene name'].isin(de_micheli_mouse.var_names) & \n",
    "                                df_mouse2human['Human gene name'].isin(de_micheli_human.var_names)]"
   ]
  },
  {
   "cell_type": "code",
   "execution_count": null,
   "id": "d2d50c41-ae51-44cc-8a8a-fef9a54bcec0",
   "metadata": {},
   "outputs": [],
   "source": [
    "de_micheli_mouse = de_micheli_mouse[:, df_mouse2human['Gene name'].values]\n",
    "de_micheli_human = de_micheli_human[:, df_mouse2human['Human gene name'].values]"
   ]
  },
  {
   "cell_type": "code",
   "execution_count": null,
   "id": "c2d72fb0-03d9-4227-9af9-380966691557",
   "metadata": {},
   "outputs": [],
   "source": [
    "de_micheli_human.var_names = de_micheli_mouse.var_names"
   ]
  },
  {
   "cell_type": "code",
   "execution_count": null,
   "id": "09179abd-c5b1-409b-911e-35b775ecf7ae",
   "metadata": {},
   "outputs": [],
   "source": [
    "de_micheli_mouse.var_names_make_unique()\n",
    "de_micheli_human.var_names_make_unique()"
   ]
  },
  {
   "cell_type": "code",
   "execution_count": null,
   "id": "1f1c3930-1138-4751-8893-957394c19cf3",
   "metadata": {},
   "outputs": [],
   "source": [
    "de_micheli = sc.AnnData.concatenate(de_micheli_mouse, de_micheli_human, batch_key='organism', \n",
    "                                    batch_categories=['mouse', 'human'], join='outer')"
   ]
  },
  {
   "cell_type": "code",
   "execution_count": null,
   "id": "2c3f24a9-292e-4854-84f6-6ed7509d5ec6",
   "metadata": {},
   "outputs": [],
   "source": [
    "sc.pp.pca(de_micheli, random_state=seed, n_comps=30)\n",
    "sce.pp.bbknn(de_micheli, batch_key='organism',)\n",
    "tk.tl.triku(de_micheli, n_procs=1, random_state=seed, use_adata_knn=True)"
   ]
  },
  {
   "cell_type": "code",
   "execution_count": null,
   "id": "5ed3ff70-282a-40c1-8270-8f35cdc967c5",
   "metadata": {},
   "outputs": [],
   "source": [
    "sc.tl.umap(de_micheli, min_dist=0.3, random_state=seed)\n",
    "sc.tl.leiden(de_micheli, resolution=2, random_state=seed)\n",
    "sc.pl.umap(de_micheli, color=['leiden', 'batch', 'organism', 'total_counts'], ncols=2)"
   ]
  },
  {
   "cell_type": "code",
   "execution_count": null,
   "id": "9763051c-859a-4254-a897-4362c744b200",
   "metadata": {},
   "outputs": [],
   "source": [
    "A_markers = ['6030408B16Rik', 'Adamtsl2', 'Cdh19', 'Cdkn2b', 'Col18a1', 'Col26a1', \n",
    "             'Col9a2', 'Dlk1', 'Fetub', 'Gfra2', 'Gm11681', 'Gpld1', 'Greb1', 'Gria1', \n",
    "             'Kcnb2', 'Kcnk2', 'Mpzl2', 'Ngfr', 'Plppr4', \n",
    "             'Ptgfr', 'Rgs17', 'Saa1', 'Saa2', 'Shisa3', 'Sipa1l1', 'Sorcs2', 'Sox9', \n",
    "             'Sphkap', 'Syndig1', 'Trpm6']\n",
    "B_markers = ['Cldn1', 'Crabp2', 'Dleu7', 'Efnb3', 'Gjb5', 'Grin2b', 'Itgb4', 'Kcnj13', \n",
    "             'Kcnj2', 'Lgals7', 'Lypd2', 'Mansc4', 'Moxd1', 'Mpzl2', 'Perp', 'Prodh', 'Ptch1', \n",
    "             'Slc6a13', 'Stra6', 'Tec', 'Tenm2', 'Wnt10a', 'Wnt6']"
   ]
  },
  {
   "cell_type": "code",
   "execution_count": null,
   "id": "32d8a76a-b8f0-499d-8a1f-1cff3629073c",
   "metadata": {},
   "outputs": [],
   "source": [
    "de_micheli.var_names"
   ]
  },
  {
   "cell_type": "code",
   "execution_count": null,
   "id": "604f2c43-712f-4b7b-9d3b-f342571dc919",
   "metadata": {},
   "outputs": [],
   "source": [
    "sc.pl.umap(de_micheli, color=['leiden', 'organism'], ncols=1, cmap=magma)"
   ]
  },
  {
   "cell_type": "code",
   "execution_count": null,
   "id": "a13c595d-84ac-46e9-99c7-6f0f3793dfc0",
   "metadata": {},
   "outputs": [],
   "source": [
    "sc.pl.umap(de_micheli, color=[i for i in A_markers if i in de_micheli.var_names], ncols=3, cmap=magma)"
   ]
  },
  {
   "cell_type": "code",
   "execution_count": null,
   "id": "cdea45fb-57fc-497d-8fe8-8794d7543111",
   "metadata": {},
   "outputs": [],
   "source": [
    "sc.pl.umap(de_micheli, color=[i for i in B_markers if i in de_micheli.var_names], ncols=3, cmap=magma)"
   ]
  },
  {
   "cell_type": "markdown",
   "id": "92d8ab0f-c248-4a7e-ae56-596caa715c7d",
   "metadata": {},
   "source": [
    "**No mapping is available and the markers in human do not correlate to mouse**"
   ]
  }
 ],
 "metadata": {
  "kernelspec": {
   "display_name": "Python [conda env:alex-base] *",
   "language": "python",
   "name": "conda-env-alex-base-py"
  },
  "language_info": {
   "codemirror_mode": {
    "name": "ipython",
    "version": 3
   },
   "file_extension": ".py",
   "mimetype": "text/x-python",
   "name": "python",
   "nbconvert_exporter": "python",
   "pygments_lexer": "ipython3",
   "version": "3.8.0"
  }
 },
 "nbformat": 4,
 "nbformat_minor": 5
}
