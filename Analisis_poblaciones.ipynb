{
 "cells": [
  {
   "cell_type": "code",
   "execution_count": null,
   "metadata": {},
   "outputs": [],
   "source": [
    "import scanpy as sc\n",
    "import scanpy.external as sce\n",
    "import pandas as pd\n",
    "import numpy as np\n",
    "import os\n",
    "import triku as tk\n",
    "import matplotlib.pyplot as plt\n",
    "import matplotlib as mpl\n",
    "from tqdm.notebook import tqdm\n",
    "import ray\n",
    "import subprocess"
   ]
  },
  {
   "cell_type": "code",
   "execution_count": null,
   "metadata": {},
   "outputs": [],
   "source": [
    "seed = 10"
   ]
  },
  {
   "cell_type": "code",
   "execution_count": null,
   "metadata": {},
   "outputs": [],
   "source": [
    "data_dir = 'data/'\n",
    "fig_dir = 'figures/'"
   ]
  },
  {
   "cell_type": "code",
   "execution_count": null,
   "metadata": {},
   "outputs": [],
   "source": [
    "# Palettes for UMAP gene expression\n",
    "\n",
    "magma = [plt.get_cmap('magma')(i) for i in np.linspace(0,1, 80)]\n",
    "magma[0] = (0.88, 0.88, 0.88, 1)\n",
    "magma = mpl.colors.LinearSegmentedColormap.from_list(\"\", magma[:65])"
   ]
  },
  {
   "cell_type": "markdown",
   "metadata": {},
   "source": [
    "# Oprescu 2020"
   ]
  },
  {
   "cell_type": "code",
   "execution_count": null,
   "metadata": {},
   "outputs": [],
   "source": [
    "link = 'https://ftp.ncbi.nlm.nih.gov/geo/series/GSE138nnn/GSE138826/suppl/GSE138826%5Fexpression%5Fmatrix%2Etxt%2Egz'"
   ]
  },
  {
   "cell_type": "code",
   "execution_count": null,
   "metadata": {},
   "outputs": [],
   "source": [
    "!wget {link} -P {data_dir}/oprescu"
   ]
  },
  {
   "cell_type": "code",
   "execution_count": null,
   "metadata": {},
   "outputs": [],
   "source": [
    "adata_oprescu = sc.read_text(data_dir+'/oprescu/GSE138826_expression_matrix.txt.gz').transpose()"
   ]
  },
  {
   "cell_type": "code",
   "execution_count": null,
   "metadata": {},
   "outputs": [],
   "source": [
    "adata_oprescu.write_loom(data_dir+'/oprescu/adata_oprescu.loom')"
   ]
  },
  {
   "cell_type": "code",
   "execution_count": null,
   "metadata": {},
   "outputs": [],
   "source": [
    "adata_oprescu = sc.read_loom(data_dir+'/oprescu/adata_oprescu.loom')"
   ]
  },
  {
   "cell_type": "code",
   "execution_count": null,
   "metadata": {},
   "outputs": [],
   "source": [
    "adata_oprescu.obs['batch'] = [i.split('_')[0] for i in adata_oprescu.obs_names]"
   ]
  },
  {
   "cell_type": "code",
   "execution_count": null,
   "metadata": {},
   "outputs": [],
   "source": [
    "# Basic QC filtering\n",
    "adata_oprescu.var['mt'] = adata_oprescu.var_names.str.startswith('mt-')  # annotate the group of mitochondrial genes as 'mt'\n",
    "sc.pp.calculate_qc_metrics(adata_oprescu, qc_vars=['mt'], percent_top=None, inplace=True)"
   ]
  },
  {
   "cell_type": "code",
   "execution_count": null,
   "metadata": {},
   "outputs": [],
   "source": [
    "sc.pl.violin(adata_oprescu, ['n_genes_by_counts', 'total_counts', 'pct_counts_mt'],\n",
    "             jitter=0.4, multi_panel=True)\n",
    "\n",
    "sc.pl.scatter(adata_oprescu, x='total_counts', y='pct_counts_mt')\n",
    "sc.pl.scatter(adata_oprescu, x='total_counts', y='n_genes_by_counts', color='batch')"
   ]
  },
  {
   "cell_type": "code",
   "execution_count": null,
   "metadata": {},
   "outputs": [],
   "source": [
    "sc.pp.filter_cells(adata_oprescu, min_genes=250)\n",
    "sc.pp.filter_genes(adata_oprescu, min_cells=1)"
   ]
  },
  {
   "cell_type": "code",
   "execution_count": null,
   "metadata": {},
   "outputs": [],
   "source": [
    "adata_oprescu.X = np.asarray(adata_oprescu.X.todense())"
   ]
  },
  {
   "cell_type": "code",
   "execution_count": null,
   "metadata": {},
   "outputs": [],
   "source": [
    "adata_oprescu_d0 = adata_oprescu[adata_oprescu.obs['batch'] == 'Noninjured'].copy()\n",
    "adata_oprescu_d05 = adata_oprescu[adata_oprescu.obs['batch'] == 'X0.5.DPI'].copy()\n",
    "adata_oprescu_d2 = adata_oprescu[adata_oprescu.obs['batch'] == 'X2.DPI'].copy()\n",
    "adata_oprescu_d35 = adata_oprescu[adata_oprescu.obs['batch'] == 'X3.5.DPI'].copy()\n",
    "adata_oprescu_d5 = adata_oprescu[adata_oprescu.obs['batch'] == 'X5.DPI'].copy()\n",
    "adata_oprescu_d10 = adata_oprescu[adata_oprescu.obs['batch'] == 'X10.DPI'].copy()\n",
    "adata_oprescu_d21 = adata_oprescu[adata_oprescu.obs['batch'] == 'X21.DPI'].copy()"
   ]
  },
  {
   "cell_type": "code",
   "execution_count": null,
   "metadata": {},
   "outputs": [],
   "source": [
    "adata_oprescu_d0.X = np.array(adata_oprescu_d0.X).copy()\n",
    "adata_oprescu_d05.X = np.array(adata_oprescu_d05.X).copy()\n",
    "adata_oprescu_d2.X = np.array(adata_oprescu_d2.X).copy()\n",
    "adata_oprescu_d35.X = np.array(adata_oprescu_d35.X).copy()\n",
    "adata_oprescu_d5.X = np.array(adata_oprescu_d5.X).copy()\n",
    "adata_oprescu_d10.X = np.array(adata_oprescu_d10.X).copy()\n",
    "adata_oprescu_d21.X = np.array(adata_oprescu_d21.X).copy()"
   ]
  },
  {
   "cell_type": "code",
   "execution_count": null,
   "metadata": {},
   "outputs": [],
   "source": [
    "set(adata_oprescu.obs['batch'].values)"
   ]
  },
  {
   "cell_type": "code",
   "execution_count": null,
   "metadata": {},
   "outputs": [],
   "source": [
    "sc.pp.filter_genes(adata_oprescu, min_counts=1)\n",
    "sc.pp.log1p(adata_oprescu)\n",
    "sc.pp.normalize_per_cell(adata_oprescu)"
   ]
  },
  {
   "cell_type": "code",
   "execution_count": null,
   "metadata": {},
   "outputs": [],
   "source": [
    "tk.tl.triku(adata_oprescu, n_procs=1, random_state=seed)\n",
    "sc.pp.pca(adata_oprescu, random_state=seed, n_comps=30)\n",
    "sc.pp.neighbors(adata_oprescu, random_state=seed, knn=len(adata_oprescu) ** 0.5 // 2, metric='cosine')"
   ]
  },
  {
   "cell_type": "code",
   "execution_count": null,
   "metadata": {},
   "outputs": [],
   "source": [
    "sc.tl.umap(adata_oprescu, min_dist=0.1, random_state=seed)\n",
    "sc.tl.leiden(adata_oprescu, resolution=1, random_state=seed)\n",
    "sc.pl.umap(adata_oprescu, color=['leiden', 'batch', 'n_counts'], legend_loc='on data')"
   ]
  },
  {
   "cell_type": "markdown",
   "metadata": {},
   "source": [
    "## Oprescu Day 0"
   ]
  },
  {
   "cell_type": "code",
   "execution_count": null,
   "metadata": {},
   "outputs": [],
   "source": [
    "sc.pp.filter_cells(adata_oprescu_d0, min_genes=200)"
   ]
  },
  {
   "cell_type": "code",
   "execution_count": null,
   "metadata": {},
   "outputs": [],
   "source": [
    "sc.pp.filter_genes(adata_oprescu_d0, min_counts=1)\n",
    "sc.pp.log1p(adata_oprescu_d0)\n",
    "sc.pp.normalize_per_cell(adata_oprescu_d0)"
   ]
  },
  {
   "cell_type": "code",
   "execution_count": null,
   "metadata": {},
   "outputs": [],
   "source": [
    "tk.tl.triku(adata_oprescu_d0, n_procs=1, random_state=seed)\n",
    "sc.pp.pca(adata_oprescu_d0, random_state=seed, n_comps=30)\n",
    "sc.pp.neighbors(adata_oprescu_d0, random_state=seed, knn=len(adata_oprescu_d0) ** 0.5 // 2, metric='cosine')"
   ]
  },
  {
   "cell_type": "code",
   "execution_count": null,
   "metadata": {},
   "outputs": [],
   "source": [
    "sc.tl.umap(adata_oprescu_d0, min_dist=0.1, random_state=seed)\n",
    "sc.tl.leiden(adata_oprescu_d0, resolution=1.8, random_state=seed)\n",
    "sc.pl.umap(adata_oprescu_d0, color=['leiden', 'n_counts'], legend_loc='on data')"
   ]
  },
  {
   "cell_type": "code",
   "execution_count": null,
   "metadata": {},
   "outputs": [],
   "source": [
    "adata_oprescu_d0"
   ]
  },
  {
   "cell_type": "code",
   "execution_count": null,
   "metadata": {},
   "outputs": [],
   "source": [
    "sc.tl.rank_genes_groups(adata_oprescu_d0, groupby='leiden', groups=['24'], reference='rest')\n",
    "sc.pl.rank_genes_groups_tracksplot(adata_oprescu_d0, dendrogram=False, n_genes=100)"
   ]
  },
  {
   "cell_type": "markdown",
   "metadata": {},
   "source": [
    "### Subpopulation characterization (based on paper markers)\n",
    "\n",
    "In the paper they describe the following set of cells:\n",
    "* APCs: H2-Eb1, H2-Ab1\n",
    "* M1 MACs: Fabp5, Pf4\n",
    "* M2 MACs: Cxcl3, Ccl6 (lower in neutrophils and M1)\n",
    "* EC: Pecam1, Kdr\n",
    "* FAPs: Ly6a, Pdgfra\n",
    "* Fibroblasts: Col3a1, Col6a1\n",
    "* Monocytes: Csf1r, Adgre1 (similar to myeloid)\n",
    "* MuSC: Pax7, Myod1\n",
    "* Myeloid: Clec12a, Acp5 (Mixture of APC, M1, M2, Monocytes and ICs)\n",
    "* Neutrophils: S100a8, S100a9 \n",
    "* Pericytes: Rgs5, Notch3\n",
    "* Proliferative ICs: Mik67, Top2a\n",
    "* Myonuclei: Tnnc2, Myh4\n",
    "* T-cells: Ccr7\n",
    "* Tenocytes: Scx, Tnmd\n",
    "\n",
    "We are going to use these markers to characterize the populations as they do, and then we will \"redo\" the analysis."
   ]
  },
  {
   "cell_type": "code",
   "execution_count": null,
   "metadata": {},
   "outputs": [],
   "source": [
    "adata_oprescu_d0.obs['cell_type'] = 'Other'"
   ]
  },
  {
   "cell_type": "code",
   "execution_count": null,
   "metadata": {},
   "outputs": [],
   "source": [
    "df = adata_oprescu_d0.obs['cell_type'].copy()"
   ]
  },
  {
   "cell_type": "code",
   "execution_count": null,
   "metadata": {},
   "outputs": [],
   "source": [
    "# APCS\n",
    "sc.pl.umap(adata_oprescu_d0, color=['leiden', 'H2-Eb1', 'H2-Ab1'], legend_loc='on data', ncols=3, cmap=magma)\n",
    "df[adata_oprescu_d0.obs['leiden'].isin(['26'])] = 'APC'"
   ]
  },
  {
   "cell_type": "code",
   "execution_count": null,
   "metadata": {},
   "outputs": [],
   "source": [
    "# M1\n",
    "sc.pl.umap(adata_oprescu_d0, color=['leiden', 'Fabp5', 'Pf4'], legend_loc='on data', ncols=3, cmap=magma)"
   ]
  },
  {
   "cell_type": "code",
   "execution_count": null,
   "metadata": {},
   "outputs": [],
   "source": [
    "# M2\n",
    "sc.pl.umap(adata_oprescu_d0, color=['leiden', 'Cxcl3', 'Ccl6'], legend_loc='on data', ncols=3, cmap=magma)"
   ]
  },
  {
   "cell_type": "code",
   "execution_count": null,
   "metadata": {},
   "outputs": [],
   "source": [
    "# EC\n",
    "sc.pl.umap(adata_oprescu_d0, color=['leiden', 'Pecam1', 'Kdr'], legend_loc='on data', ncols=3, cmap=magma)\n",
    "df[adata_oprescu_d0.obs['leiden'].isin(['19'])] = 'Endothelial'"
   ]
  },
  {
   "cell_type": "code",
   "execution_count": null,
   "metadata": {},
   "outputs": [],
   "source": [
    "# FAPs\n",
    "sc.pl.umap(adata_oprescu_d0, color=['leiden', 'Ly6a', 'Pdgfra', 'Lum'], legend_loc='on data', ncols=3, cmap=magma)\n",
    "df[adata_oprescu_d0.obs['leiden'].isin(['23', '0', '5', '3', '15', '4', '7', '9', '14', '8', '10', '11', '12', '30', '27'])] = 'FAP'"
   ]
  },
  {
   "cell_type": "code",
   "execution_count": null,
   "metadata": {},
   "outputs": [],
   "source": [
    "# Fibros\n",
    "sc.pl.umap(adata_oprescu_d0, color=['leiden', 'Col3a1', 'Col6a1'], legend_loc='on data', ncols=3, cmap=magma)\n",
    "df[adata_oprescu_d0.obs['leiden'].isin(['24'])] = 'Fibroblast'"
   ]
  },
  {
   "cell_type": "code",
   "execution_count": null,
   "metadata": {},
   "outputs": [],
   "source": [
    "# Monocytes\n",
    "sc.pl.umap(adata_oprescu_d0, color=['leiden', 'Csf1r', 'Adgre1'], legend_loc='on data', ncols=3, cmap=magma)\n",
    "df[adata_oprescu_d0.obs['leiden'].isin(['25'])] = 'Monocyte'"
   ]
  },
  {
   "cell_type": "code",
   "execution_count": null,
   "metadata": {},
   "outputs": [],
   "source": [
    "# MuSC\n",
    "sc.pl.umap(adata_oprescu_d0, color=['leiden', 'Pax7', 'Myod1'], legend_loc='on data', ncols=3, cmap=magma)\n",
    "df[adata_oprescu_d0.obs['leiden'].isin(['32', '16'])] = 'MuSC'"
   ]
  },
  {
   "cell_type": "code",
   "execution_count": null,
   "metadata": {},
   "outputs": [],
   "source": [
    "# Myeloid\n",
    "sc.pl.umap(adata_oprescu_d0, color=['leiden', 'Clec12a', 'Acp5'], legend_loc='on data', ncols=3, cmap=magma)\n",
    "df[adata_oprescu_d0.obs['leiden'].isin(['21'])] = 'Myeloid'"
   ]
  },
  {
   "cell_type": "code",
   "execution_count": null,
   "metadata": {},
   "outputs": [],
   "source": [
    "# Neutrophils\n",
    "sc.pl.umap(adata_oprescu_d0, color=['leiden', 'S100a8', 'S100a9'], legend_loc='on data', ncols=3, cmap=magma)\n",
    "df[adata_oprescu_d0.obs['leiden'].isin(['20', '31'])] = 'Neutrophil'"
   ]
  },
  {
   "cell_type": "code",
   "execution_count": null,
   "metadata": {},
   "outputs": [],
   "source": [
    "# Pericytes\n",
    "sc.pl.umap(adata_oprescu_d0, color=['leiden', 'Rgs5', 'Notch3', 'Myl9'], legend_loc='on data', ncols=3, cmap=magma)\n",
    "df[adata_oprescu_d0.obs['leiden'].isin(['29'])] = 'Pericyte'"
   ]
  },
  {
   "cell_type": "code",
   "execution_count": null,
   "metadata": {},
   "outputs": [],
   "source": [
    "# Proliferative ICs\n",
    "sc.pl.umap(adata_oprescu_d0, color=['leiden', 'Mki67', 'Top2a'], legend_loc='on data', ncols=3, cmap=magma)\n",
    "df[adata_oprescu_d0.obs['leiden'].isin(['22', '26'])] = 'APC / Proliferative ICs'"
   ]
  },
  {
   "cell_type": "code",
   "execution_count": null,
   "metadata": {},
   "outputs": [],
   "source": [
    "# Myonuclei\n",
    "sc.pl.umap(adata_oprescu_d0, color=['leiden', 'Tnnc2', 'Myh4'], legend_loc='on data', ncols=3, cmap=magma)\n",
    "df[adata_oprescu_d0.obs['leiden'].isin(['1', '2', '6', '13', '17', '28'])] = 'Myonuclei'"
   ]
  },
  {
   "cell_type": "code",
   "execution_count": null,
   "metadata": {},
   "outputs": [],
   "source": [
    "# T-cells\n",
    "sc.pl.umap(adata_oprescu_d0, color=['leiden', 'Ccr7'], legend_loc='on data', ncols=3, cmap=magma)"
   ]
  },
  {
   "cell_type": "code",
   "execution_count": null,
   "metadata": {},
   "outputs": [],
   "source": [
    "# Tenocytes\n",
    "sc.pl.umap(adata_oprescu_d0, color=['leiden', 'Scx', 'Tnmd', 'Mkx', 'Col12a1'], legend_loc='on data', ncols=3, cmap=magma)\n",
    "df[adata_oprescu_d0.obs['leiden'].isin(['18'])] = 'Tenocyte'"
   ]
  },
  {
   "cell_type": "code",
   "execution_count": null,
   "metadata": {},
   "outputs": [],
   "source": [
    "adata_oprescu_d0.obs['cell_type'] = df"
   ]
  },
  {
   "cell_type": "code",
   "execution_count": null,
   "metadata": {},
   "outputs": [],
   "source": [
    "adata_oprescu_d0.uns['cell_type_colors'] = ['#87ceeb', '#c70039', '#8b008b', '#663399', '#1e90ff', '#006400', '#4169e1', '#2e8b57', \n",
    "                                            '#6495ed', '#8B0000', '#ff7f50']"
   ]
  },
  {
   "cell_type": "markdown",
   "metadata": {},
   "source": [
    "The analysis of populations is quite poor. Populations 22 26 25 31 20 21 are not entirely wel characterized. FAP/Fibro and Myonuclei populations have to be further characterized. We will get DEGs of some of the populations to see if we can further narrow down each of the populations. We will also apply, for the fibroblasts, the Axis/Cluster genes previously obtained to map them to previous populations."
   ]
  },
  {
   "cell_type": "code",
   "execution_count": null,
   "metadata": {},
   "outputs": [],
   "source": [
    "sc.pl.umap(adata_oprescu_d0, color=['leiden', 'Dpp4', 'Sfrp2', 'Pi16', 'Wisp2', 'Slpi', 'Col18a1', 'Apcdd1', 'Comp'], \n",
    "           legend_loc='on data', ncols=3, cmap=magma)"
   ]
  },
  {
   "cell_type": "code",
   "execution_count": null,
   "metadata": {},
   "outputs": [],
   "source": [
    "sc.pl.umap(adata_oprescu_d0, color=['Apoe', 'Ccl2', 'Itm2a', 'Myc', 'Gpc3', 'Sod2', 'Igfbp3'], \n",
    "           legend_loc='on data', ncols=3, cmap=magma)"
   ]
  },
  {
   "cell_type": "code",
   "execution_count": null,
   "metadata": {},
   "outputs": [],
   "source": [
    "sc.pl.umap(adata_oprescu_d0, color=['Col11a1', 'Postn', 'Crabp1', 'Coch', 'Apod', 'Sfrp4'], \n",
    "           legend_loc='on data', ncols=3, cmap=magma)"
   ]
  },
  {
   "cell_type": "code",
   "execution_count": null,
   "metadata": {},
   "outputs": [],
   "source": [
    "# Schwann + Endo + Peri Markers\n",
    "sc.pl.umap(adata_oprescu_d0, color=['leiden', 'Sox10', 'S100b', 'Mpz', 'Ptn', 'Scx', 'Rgs5', 'Myl9', 'Vwf', 'Pecam1'], \n",
    "           legend_loc='on data', ncols=3, cmap=magma)"
   ]
  },
  {
   "cell_type": "code",
   "execution_count": null,
   "metadata": {},
   "outputs": [],
   "source": [
    "sc.tl.rank_genes_groups(adata_oprescu_d0, groupby='leiden', groups=['19'], reference='rest', method='wilcoxon')\n",
    "sc.pl.rank_genes_groups_tracksplot(adata_oprescu_d0, dendrogram=False, n_genes=100)"
   ]
  },
  {
   "cell_type": "code",
   "execution_count": null,
   "metadata": {},
   "outputs": [],
   "source": [
    "sc.pl.umap(adata_oprescu_d0, color=['leiden'\n",
    "                                   ], \n",
    "           legend_loc='on data', ncols=3, cmap=magma)"
   ]
  },
  {
   "cell_type": "code",
   "execution_count": null,
   "metadata": {},
   "outputs": [],
   "source": [
    "sc.pl.umap(adata_oprescu_d0, color=['leiden', 'Cd34', 'Pdgfrb', 'Ngfr', 'Sox10', 'S100b', 'Mcam', 'Mpz', 'Mbp'\n",
    "                                   , 'Egr2', 'Pdgfra', 'Rgs5', 'Glb1'], \n",
    "           legend_loc='on data', ncols=3, cmap=magma)"
   ]
  },
  {
   "cell_type": "code",
   "execution_count": null,
   "metadata": {},
   "outputs": [],
   "source": [
    "sc.pl.umap(adata_oprescu_d0, color=, \n",
    "           legend_loc='on data', ncols=3, cmap=magma)"
   ]
  },
  {
   "cell_type": "code",
   "execution_count": null,
   "metadata": {},
   "outputs": [],
   "source": [
    "sc.tl.rank_genes_groups(adata_oprescu_d0, groupby='leiden', groups=['29'], reference='rest')\n",
    "sc.pl.rank_genes_groups(adata_oprescu_d0)"
   ]
  },
  {
   "cell_type": "markdown",
   "metadata": {},
   "source": [
    "### Analysis of FAPs"
   ]
  },
  {
   "cell_type": "code",
   "execution_count": null,
   "metadata": {},
   "outputs": [],
   "source": [
    "# We will include populations 23,  27 and 30, although they might not be FAPs in reality.  Population 29 will be kept out because it\n",
    "# explodes de UMAP\n",
    "\n",
    "adata_oprescu_d0_FAPs = adata_oprescu_d0[adata_oprescu_d0.obs['cell_type'].isin(['FAP'])]"
   ]
  },
  {
   "cell_type": "code",
   "execution_count": null,
   "metadata": {},
   "outputs": [],
   "source": [
    "sc.pp.filter_genes(adata_oprescu_d0_FAPs, min_cells=1)\n",
    "tk.tl.triku(adata_oprescu_d0_FAPs, n_procs=1, random_state=seed)\n",
    "sc.pp.pca(adata_oprescu_d0_FAPs, random_state=seed, n_comps=30)\n",
    "sc.pp.neighbors(adata_oprescu_d0_FAPs, random_state=seed, knn=len(adata_oprescu_d0) ** 0.5 // 2, metric='cosine')"
   ]
  },
  {
   "cell_type": "code",
   "execution_count": null,
   "metadata": {},
   "outputs": [],
   "source": [
    "# del adata_oprescu_d0_FAPs.uns['leiden_colors']\n",
    "sc.tl.umap(adata_oprescu_d0_FAPs, min_dist=0.05, random_state=seed)\n",
    "sc.tl.leiden(adata_oprescu_d0_FAPs, resolution=0.4, random_state=seed)\n",
    "sc.pl.umap(adata_oprescu_d0_FAPs, color=['leiden', 'n_counts'], legend_loc='on data')"
   ]
  },
  {
   "cell_type": "code",
   "execution_count": null,
   "metadata": {},
   "outputs": [],
   "source": [
    "adata_oprescu_d0.obs['leiden_FAP'] = '-'\n",
    "adata_oprescu_d0.obs['leiden_FAP'] = adata_oprescu_d0_FAPs.obs['leiden']\n",
    "adata_oprescu_d0.obs['leiden_FAP'] = adata_oprescu_d0.obs['leiden_FAP'].astype(str)\n",
    "\n",
    "sc.pl.umap(adata_oprescu_d0, color=['leiden', 'leiden_FAP'], legend_loc='on data', ncols=3, cmap=magma)"
   ]
  },
  {
   "cell_type": "code",
   "execution_count": null,
   "metadata": {},
   "outputs": [],
   "source": [
    "sc.tl.rank_genes_groups(adata_oprescu_d0_FAPs, groupby='leiden', method='wilcoxon', n_genes=150)\n",
    "sc.pl.rank_genes_groups_tracksplot(adata_oprescu_d0_FAPs, n_genes=150, dendrogram=False)"
   ]
  },
  {
   "cell_type": "code",
   "execution_count": null,
   "metadata": {},
   "outputs": [],
   "source": [
    "# 0\n",
    "genes_0 = ['Mme', 'Fbln7', 'Crlf1', 'Nmb', 'Gfra1', 'Col6a6', 'Sept4', 'P2ry1', \n",
    "           'Fscn1', 'Rgs10', 'Tspan9', 'Hlf', 'Cldn15', 'Spry4']\n",
    "\n",
    "sc.pl.umap(adata_oprescu_d0, color=['leiden'] + genes_0, legend_loc='on data', ncols=3, cmap=magma)"
   ]
  },
  {
   "cell_type": "code",
   "execution_count": null,
   "metadata": {},
   "outputs": [],
   "source": [
    "# 1\n",
    "genes_1 = ['Fn1', 'Anxa3', 'Dpp4', 'Sema3c', 'Efhd1', 'Stmn4', 'Procr', 'Limch1', 'Has1', \n",
    "           'Cmah', 'Il18', 'Nhsl1', 'Car8', 'Fez1', 'Mgll', 'Lurap1l', 'Aif1l', 'Sytl2', 'Rorb', \n",
    "           'Uchl1', 'Fam167a', 'Wnt2']\n",
    "\n",
    "sc.pl.umap(adata_oprescu_d0, color=['leiden'] + genes_1, legend_loc='on data', ncols=3, cmap=magma)"
   ]
  },
  {
   "cell_type": "code",
   "execution_count": null,
   "metadata": {},
   "outputs": [],
   "source": [
    "# 2\n",
    "genes_2 = ['Cfh', 'Prg4', 'Gdf10', 'Fmo2', 'Fbln1', 'Cilp', 'Tmem176b', 'Icam1', 'Clu', \n",
    "           'Fxyd6', 'Hmcn1', 'Cdh11', 'C2', 'Tmem176a', 'Arhgdib', 'Klf5']\n",
    "\n",
    "sc.pl.umap(adata_oprescu_d0, color=['leiden'] + genes_2, legend_loc='on data', ncols=3, cmap=magma)"
   ]
  },
  {
   "cell_type": "code",
   "execution_count": null,
   "metadata": {},
   "outputs": [],
   "source": [
    "# 3\n",
    "genes_3 = ['Sox9', 'Col9a2', 'Shisa3', 'Gfra2', 'Mpzl1', 'Dlk1', 'Sipa1l1', 'Trpm6', \n",
    "           'Rgs17', 'Cdh19', 'Nkd1', 'Plxdc1', 'Saa1', 'Cd300lg', 'Gpld1', 'Sphkap', \n",
    "           'Ngfr', 'S100b', 'Nipal1']\n",
    "\n",
    "sc.pl.umap(adata_oprescu_d0, color=['leiden'] + genes_3, legend_loc='on data', ncols=3, cmap=magma)"
   ]
  },
  {
   "cell_type": "code",
   "execution_count": null,
   "metadata": {},
   "outputs": [],
   "source": [
    "# 4\n",
    "genes_4 = ['Ckm', 'Pgam2', 'Eno3', 'Tcap', 'Atp2a1', 'Pvalb', 'Cox6a2', 'Myoz1', 'Car3', 'Actn3', \n",
    "           'Neb', 'Ankrd23', 'Myh4', 'Mybpc2', 'Ldb3', 'Tmod4', 'Ttn', 'Ak1', 'Cox7a1', 'Sh3bgr', \n",
    "           'Myot', 'Adssl1', 'Mylk4', 'Eef1a2', 'Apobec2', 'Txlnb', 'Nrap', 'Jsrp1', \n",
    "           'Trim54', 'Trdn', 'Fabp3', 'Ckmt2', 'Mlf1', 'Asb2', 'Atcayos', 'Casq1', 'Pdlim3', \n",
    "           'Jph1', 'Fitm1', 'Mylk2', 'Mettl21c']\n",
    "\n",
    "sc.pl.umap(adata_oprescu_d0, color=['leiden'] + genes_4, legend_loc='on data', ncols=3, cmap=magma)"
   ]
  },
  {
   "cell_type": "markdown",
   "metadata": {},
   "source": [
    "### Analysis of Myonuclei"
   ]
  },
  {
   "cell_type": "code",
   "execution_count": null,
   "metadata": {},
   "outputs": [],
   "source": [
    "adata_oprescu_d0_Myonuclei = adata_oprescu_d0[adata_oprescu_d0.obs['cell_type'].isin(['Myonuclei'])]"
   ]
  },
  {
   "cell_type": "code",
   "execution_count": null,
   "metadata": {},
   "outputs": [],
   "source": [
    "sc.pp.filter_genes(adata_oprescu_d0_Myonuclei, min_cells=1)\n",
    "tk.tl.triku(adata_oprescu_d0_Myonuclei, n_procs=1, random_state=seed)\n",
    "sc.pp.pca(adata_oprescu_d0_Myonuclei, random_state=seed, n_comps=30)\n",
    "sc.pp.neighbors(adata_oprescu_d0_Myonuclei, random_state=seed, knn=len(adata_oprescu_d0) ** 0.5 // 2, metric='cosine')"
   ]
  },
  {
   "cell_type": "code",
   "execution_count": null,
   "metadata": {},
   "outputs": [],
   "source": [
    "sc.tl.umap(adata_oprescu_d0_Myonuclei, min_dist=0.1, random_state=seed)\n",
    "sc.tl.leiden(adata_oprescu_d0_Myonuclei, resolution=0.2, random_state=seed)\n",
    "sc.pl.umap(adata_oprescu_d0_Myonuclei, color=['leiden', 'n_counts'], legend_loc='on data')"
   ]
  },
  {
   "cell_type": "code",
   "execution_count": null,
   "metadata": {},
   "outputs": [],
   "source": [
    "adata_oprescu_d0.obs['leiden_Myonuclei'] = '-'\n",
    "adata_oprescu_d0.obs['leiden_Myonuclei'] = adata_oprescu_d0_Myonuclei.obs['leiden']\n",
    "adata_oprescu_d0.obs['leiden_Myonuclei'] = adata_oprescu_d0.obs['leiden_Myonuclei'].astype(str)\n",
    "\n",
    "sc.pl.umap(adata_oprescu_d0, color=['leiden', 'leiden_Myonuclei'], legend_loc='on data', ncols=3, cmap=magma)"
   ]
  },
  {
   "cell_type": "code",
   "execution_count": null,
   "metadata": {},
   "outputs": [],
   "source": [
    "sc.tl.rank_genes_groups(adata_oprescu_d0_Myonuclei, groupby='leiden', method='wilcoxon')\n",
    "sc.pl.rank_genes_groups_tracksplot(adata_oprescu_d0_Myonuclei, n_genes=100, dendrogram=False)"
   ]
  },
  {
   "cell_type": "code",
   "execution_count": null,
   "metadata": {},
   "outputs": [],
   "source": [
    "# 0 + 1\n",
    "genes_0_1 = ['Ankrd2', 'Lmod2', 'Pdk4', 'Perm1', 'Ptpn3', 'Csrp3', 'Smtnl1', \n",
    "           'Mtfp1', 'Gm15543',]\n",
    "\n",
    "sc.pl.umap(adata_oprescu_d0, color=['leiden_Myonuclei'] + genes_0_1, legend_loc='on data', ncols=3, cmap=magma)"
   ]
  },
  {
   "cell_type": "code",
   "execution_count": null,
   "metadata": {},
   "outputs": [],
   "source": [
    "# 2 \n",
    "genes_2 = ['Mpeg1', 'Lcp1', 'Plek', 'H2-Eb1', 'Ucp2', 'Bst2', 'Il1b', 'Cotl1', 'C1qc', 'Cd68', \n",
    "           'Ms4a7', 'Wfdc17']\n",
    "\n",
    "sc.pl.umap(adata_oprescu_d0, color=['leiden_Myonuclei'] + genes_2, legend_loc='on data', ncols=3, cmap=magma)"
   ]
  },
  {
   "cell_type": "code",
   "execution_count": null,
   "metadata": {},
   "outputs": [],
   "source": [
    "# 2 + 3 + 4\n",
    "genes_2_3_4 = ['Fcer1g', 'Ctss', 'Tyrobp', 'Lgals3', 'Arpc1b', 'Btg1', 'Cyba', 'H2-K1', 'Nfkbia', ]\n",
    "\n",
    "sc.pl.umap(adata_oprescu_d0, color=['leiden_Myonuclei'] + genes_2_3_4, legend_loc='on data', ncols=3, cmap=magma)"
   ]
  },
  {
   "cell_type": "code",
   "execution_count": null,
   "metadata": {},
   "outputs": [],
   "source": [
    "# 2 + 4\n",
    "genes_2_4 = ['Slfn2', 'C1qa', 'Msn', 'Spp1', 'S100a4', 'Laptm5', 'Tagln2', 'Tgfbi', 'Basp1',\n",
    "             'Tmbim6']\n",
    "\n",
    "sc.pl.umap(adata_oprescu_d0, color=['leiden_Myonuclei'] + genes_2_4, legend_loc='on data', ncols=3, cmap=magma)"
   ]
  },
  {
   "cell_type": "code",
   "execution_count": null,
   "metadata": {},
   "outputs": [],
   "source": [
    "# 5\n",
    "genes_5 = ['Serping1', 'Col4a1', 'Col6a2', 'Mmp2', 'Pcolce', 'Tnxb', 'Plxdc2', 'Fbln2', 'Col4a2', 'Rhoj', \n",
    "           'Clec3b', 'Sptbn1', 'Lhfp', 'Ltbp4', 'Ebf1', 'Rarres2', 'Itih5', 'Lamc1', 'Plpp3', 'Tuba1a', \n",
    "           'Col5a3', 'Selm', 'Pmp22', 'Nid1', 'Ccl11', 'Col6a3', 'Cd34', 'Cald1', 'Igfbp6', 'Camk2n1', \n",
    "           'Cd302', 'Adamts5', 'Abca8a', 'Col15a1', 'Dpt', 'Cpq', 'Entpd2', 'Smoc2', 'Htra3', 'Cygb']\n",
    "\n",
    "sc.pl.umap(adata_oprescu_d0, color=['leiden_Myonuclei'] + genes_5, legend_loc='on data', ncols=3, cmap=magma)"
   ]
  },
  {
   "cell_type": "code",
   "execution_count": null,
   "metadata": {},
   "outputs": [],
   "source": [
    "sc.pl.umap(adata_oprescu_d0, color=['leiden'], legend_loc='on data', ncols=3, cmap=magma)"
   ]
  },
  {
   "cell_type": "code",
   "execution_count": null,
   "metadata": {},
   "outputs": [],
   "source": [
    "# I had doubts about the cluster 28, because iot expressed FAP markers. But if we extract the DEGs directly from the cluster 28 they appear as similar\n",
    "\n",
    "sc.tl.rank_genes_groups(adata_oprescu_d0, groupby='leiden', method='wilcoxon', n_genes=200, groups=['28'], \n",
    "                        reference='rest')\n",
    "\n",
    "sc.pl.rank_genes_groups(adata_oprescu_d0)\n",
    "\n",
    "sc.pl.umap(adata_oprescu_d0, color=['leiden_Myonuclei'] + ['Cxcl14', 'Col15a1', 'F3', 'Myh4', 'Eno3'], legend_loc='on data', ncols=3, cmap=magma)"
   ]
  },
  {
   "cell_type": "markdown",
   "metadata": {},
   "source": [
    "### Analysis of dispersed clusters"
   ]
  },
  {
   "cell_type": "code",
   "execution_count": null,
   "metadata": {},
   "outputs": [],
   "source": [
    "sc.pl.umap(adata_oprescu_d0, color=['leiden'], legend_loc='on data')"
   ]
  },
  {
   "cell_type": "code",
   "execution_count": null,
   "metadata": {},
   "outputs": [],
   "source": [
    "adata_oprescu_d0_dispersed = adata_oprescu_d0[adata_oprescu_d0.obs['leiden'].isin(\n",
    "    ['19', '22', '26', '25', '31', '20', '21', '32', '16'])]"
   ]
  },
  {
   "cell_type": "code",
   "execution_count": null,
   "metadata": {},
   "outputs": [],
   "source": [
    "sc.pp.filter_genes(adata_oprescu_d0_dispersed, min_cells=1)\n",
    "tk.tl.triku(adata_oprescu_d0_dispersed, n_procs=1, random_state=seed)\n",
    "sc.pp.pca(adata_oprescu_d0_dispersed, random_state=seed, n_comps=30)\n",
    "sc.pp.neighbors(adata_oprescu_d0_dispersed, random_state=seed, knn=len(adata_oprescu_d0) ** 0.5 // 2, metric='cosine')"
   ]
  },
  {
   "cell_type": "code",
   "execution_count": null,
   "metadata": {},
   "outputs": [],
   "source": [
    "del adata_oprescu_d0_dispersed.uns['leiden_colors']\n",
    "sc.tl.umap(adata_oprescu_d0_dispersed, min_dist=0.1, random_state=seed)\n",
    "sc.tl.leiden(adata_oprescu_d0_dispersed, resolution=0.2, random_state=seed)\n",
    "sc.pl.umap(adata_oprescu_d0_dispersed, color=['leiden', 'n_counts'], legend_loc='on data')"
   ]
  },
  {
   "cell_type": "code",
   "execution_count": null,
   "metadata": {},
   "outputs": [],
   "source": [
    "adata_oprescu_d0.obs['leiden_dispersed'] = '-'\n",
    "adata_oprescu_d0.obs['leiden_dispersed'] = adata_oprescu_d0_dispersed.obs['leiden']\n",
    "adata_oprescu_d0.obs['leiden_dispersed'] = adata_oprescu_d0.obs['leiden_dispersed'].astype(str)\n",
    "\n",
    "sc.pl.umap(adata_oprescu_d0, color=['leiden', 'leiden_dispersed'], legend_loc='on data', ncols=3, cmap=magma)"
   ]
  },
  {
   "cell_type": "code",
   "execution_count": null,
   "metadata": {},
   "outputs": [],
   "source": [
    "sc.tl.rank_genes_groups(adata_oprescu_d0_dispersed, groupby='leiden', method='wilcoxon')\n",
    "sc.pl.rank_genes_groups_tracksplot(adata_oprescu_d0_dispersed, n_genes=100, dendrogram=False)"
   ]
  },
  {
   "cell_type": "code",
   "execution_count": null,
   "metadata": {},
   "outputs": [],
   "source": [
    "# 0  \n",
    "genes_0 = ['Col1a2', 'Col1a1', 'Dcn', 'Ebf1', 'Nid1', 'Igfbp6', 'Smoc2', 'Rnase4', 'Clec3b', 'Serpinf1', \n",
    "           'Pcolce', 'Col6a3', 'Col6a2', 'Lum', 'Fbn1', 'Mfap5', 'Plpp3', 'Mgp', 'Col5a3', 'Timp3', 'Apod',\n",
    "           'Aspn', 'Ccl11', 'Cxcl14', 'Adamts5', 'C1s1', 'Vcan', 'Dpep1', 'Ly6c1', 'Prss23', 'Abi3bp', 'Fndc1']\n",
    "\n",
    "sc.pl.umap(adata_oprescu_d0, color=['leiden_dispersed'] + genes_0, legend_loc='on data', ncols=3, cmap=magma)"
   ]
  },
  {
   "cell_type": "code",
   "execution_count": null,
   "metadata": {},
   "outputs": [],
   "source": [
    "# 1  Satellitle / MuscSC\n",
    "genes_1 = ['Chodl', 'Pdlim4', 'Peg3', 'Pax7', 'Crlf1', 'Gpx3', 'Dag1', 'Cnn3', 'Des', 'Fxyd6', 'Sdpr', \n",
    "           'Fgfr4', 'Tln2', 'Map1b', 'Clmn', 'Vcam1', 'Cdh15', 'Edn3', 'Nppc', 'Myf5', 'Ncam1', 'Maff', \n",
    "           'Sema6a', 'Rapsn', 'Pde10a', 'Sytl2', 'Jsrp1', 'Asb5', 'Dmd', 'Pxdc1', 'Heyl', 'Cfl2', 'Prox1', \n",
    "           'Ank1', 'Myod1', 'Flnc', 'Gxylt2', 'Ank3', 'Bmp4', 'Tnik', 'Chrdl2', 'Slc10a6', 'Palmd', 'Ptprz1']\n",
    "\n",
    "sc.pl.umap(adata_oprescu_d0, color=['leiden_dispersed'] + genes_1, legend_loc='on data', ncols=3, cmap=magma)"
   ]
  },
  {
   "cell_type": "code",
   "execution_count": null,
   "metadata": {},
   "outputs": [],
   "source": [
    "# 2 Monocyte?\n",
    "genes_2 = ['Cd14', 'Cd74', 'H2-Eb1', 'H2-Aa', 'H2-Ab1', 'H2-DMa', 'H2-DMb1', 'Naaa', 'Plekho1', 'Clec4b1', \n",
    "           'Eps8', 'Mgl2', 'Shtn1', 'Tep1', 'Fgd2', 'Pepd', 'Mrc1', 'Slamf9', 'Fcrls', 'March1', 'Batf3', \n",
    "           'Slamf7', 'Tnip3', 'Cbfa2t3', 'Clec10a', 'Tbxas1', 'Sdc3', 'Retnla', 'P2ry6']\n",
    "\n",
    "sc.pl.umap(adata_oprescu_d0, color=['leiden_dispersed'] + genes_2, legend_loc='on data', ncols=3, cmap=magma)"
   ]
  },
  {
   "cell_type": "code",
   "execution_count": null,
   "metadata": {},
   "outputs": [],
   "source": [
    "# 3 Neutrophil\n",
    "genes_3 = ['S100a9', 'Msrb1', 'S100a8', 'Csf3r', 'Il1b', 'Clec4d', 'Lst1', 'Slpi', 'Cd9', 'Litaf', 'Ccl6', \n",
    "           'Gmfg', 'Il1r2', 'Slc16a3', 'Ccr1', 'Clec4e', 'Spi1', 'Pglyrp1', 'Sorl1', 'Hp', 'Mxd1', 'Grina', \n",
    "           'Gsr', 'Trem1', 'C5ar1', 'Ncf2', 'Slc7a11', 'Retnlg', 'Mmp9', 'Entpd1', 'Cxcr4', 'Lmnb1', 'Cxcr2']\n",
    "\n",
    "sc.pl.umap(adata_oprescu_d0, color=['leiden_dispersed'] + genes_3, legend_loc='on data', ncols=3, cmap=magma)"
   ]
  },
  {
   "cell_type": "code",
   "execution_count": null,
   "metadata": {},
   "outputs": [],
   "source": [
    "# 4  T-cells\n",
    "genes_4 = ['Il7r', 'Ets1', 'H2-Q7', 'Itk', 'Ctla2a', 'Skap1', 'Ptprcap', 'Saraf', 'Cd69', 'Gata3', 'Cd3g', \n",
    "           'Fkbp3', 'Arg1', 'Sept1', 'Tnfrsf18', 'Rora', 'Uhrf2', 'Tmem64', 'Inpp4b', 'Bcl11b']\n",
    "\n",
    "sc.pl.umap(adata_oprescu_d0, color=['leiden_dispersed'] + genes_4, legend_loc='on data', ncols=3, cmap=magma)"
   ]
  },
  {
   "cell_type": "code",
   "execution_count": null,
   "metadata": {},
   "outputs": [],
   "source": [
    "# 5 Immune\n",
    "genes_5 = ['Plac8', 'Pou2f2', 'Gngt2', 'Napsa', 'Ifitm6', 'Clec4a3', 'Clec4a1', 'Klra2', 'Ms4a4c', 'Ceacam1']\n",
    "\n",
    "sc.pl.umap(adata_oprescu_d0, color=['leiden_dispersed'] + genes_5, legend_loc='on data', ncols=3, cmap=magma)"
   ]
  },
  {
   "cell_type": "code",
   "execution_count": null,
   "metadata": {},
   "outputs": [],
   "source": [
    "# 6  Mast cell-related\n",
    "genes_6 = ['Cpa3', 'Serpinb1a', 'Mcpt4', 'Cma1', 'Cyp11a1', 'Ccl2', 'Ccl7', 'Gata2', 'Kit', 'Lat2',\n",
    "           'Mrgprb1']\n",
    "\n",
    "sc.pl.umap(adata_oprescu_d0, color=['leiden_dispersed'] + genes_6, legend_loc='on data', ncols=3, cmap=magma)"
   ]
  },
  {
   "cell_type": "code",
   "execution_count": null,
   "metadata": {
    "scrolled": true
   },
   "outputs": [],
   "source": [
    "# 7  NK cells \n",
    "genes_7 = ['Nkg7', 'Ccl5', 'Klrk1', 'Txk', 'Ms4a4b', 'Klre1', 'Klrc2', 'Ctsw', 'Klrd1', 'Gzma', 'Il2rb', \n",
    "           'Klrb1c', 'Ncr1', 'Fasl', 'Serpinb6b', 'Gimap5', 'Gimap9', 'Xcl1', 'Ctla2b', 'Gimap7', 'Gzmb', \n",
    "           'Serpinb9', 'Eomes', 'Prf1', 'Ifng', 'Cst7', 'Arap2', 'Klra7', 'Klra1', 'Car2']\n",
    "\n",
    "sc.pl.umap(adata_oprescu_d0, color=['leiden_dispersed'] + genes_7, legend_loc='on data', ncols=3, cmap=magma)"
   ]
  },
  {
   "cell_type": "markdown",
   "metadata": {},
   "source": [
    "### Focusing on the possible kranocyte clusters"
   ]
  },
  {
   "cell_type": "code",
   "execution_count": null,
   "metadata": {},
   "outputs": [],
   "source": [
    "adata_oprescu_d0_putative = adata_oprescu_d0[adata_oprescu_d0.obs['leiden'].isin(['23', '24', '29', '19'])]"
   ]
  },
  {
   "cell_type": "code",
   "execution_count": null,
   "metadata": {},
   "outputs": [],
   "source": [
    "sc.pp.filter_genes(adata_oprescu_d0_putative, min_cells=1)\n",
    "tk.tl.triku(adata_oprescu_d0_putative, n_procs=1, random_state=seed)\n",
    "sc.pp.pca(adata_oprescu_d0_putative, random_state=seed, n_comps=30)\n",
    "sc.pp.neighbors(adata_oprescu_d0_putative, random_state=seed, knn=len(adata_oprescu_d0) ** 0.5 // 2, metric='cosine')"
   ]
  },
  {
   "cell_type": "code",
   "execution_count": null,
   "metadata": {},
   "outputs": [],
   "source": [
    "sc.tl.umap(adata_oprescu_d0_putative, min_dist=0.2, random_state=seed)\n",
    "sc.tl.leiden(adata_oprescu_d0_putative, resolution=1, random_state=seed)\n",
    "sc.pl.umap(adata_oprescu_d0_putative, color=['leiden', 'n_counts'], legend_loc='on data')"
   ]
  },
  {
   "cell_type": "code",
   "execution_count": null,
   "metadata": {},
   "outputs": [],
   "source": [
    "sc.pl.umap(adata_oprescu_d0_putative, color=['leiden', 'Cd34', 'S100b', 'Sox10'], \n",
    "           legend_loc='on data', cmap=magma, ncols=2)"
   ]
  },
  {
   "cell_type": "code",
   "execution_count": null,
   "metadata": {},
   "outputs": [],
   "source": [
    "sc.pl.umap(adata_oprescu_d0_putative, color=['leiden', 'S100b', 'Mpz', 'Mbp', \n",
    "                                             'Sox10', 'Ngfr', 'Egr2', 'Cd34', 'Pdgfrb', 'Mcam', 'Pdgfra', \n",
    "                                             'Glb1', 'Rgs5', 'Nipal1', 'Trpm6'], \n",
    "           legend_loc='on data', cmap=magma)"
   ]
  },
  {
   "cell_type": "code",
   "execution_count": null,
   "metadata": {},
   "outputs": [],
   "source": [
    "adata_oprescu_d0.obs['leiden_putative'].values[0]"
   ]
  },
  {
   "cell_type": "code",
   "execution_count": null,
   "metadata": {},
   "outputs": [],
   "source": [
    "adata_oprescu_d0.obs['leiden_putative']"
   ]
  },
  {
   "cell_type": "code",
   "execution_count": null,
   "metadata": {},
   "outputs": [],
   "source": [
    "adata_oprescu_d0.obs['leiden_putative'] = '-'\n",
    "adata_oprescu_d0.obs['leiden_putative'] = adata_oprescu_d0_putative.obs['leiden']\n",
    "adata_oprescu_d0.obs['leiden_putative'] = adata_oprescu_d0.obs['leiden_putative'].astype(str)\n",
    "adata_oprescu_d0.obs['leiden_putative'] = ['-1' if i == 'nan' else i for i in adata_oprescu_d0.obs['leiden_putative']]\n",
    "\n",
    "sc.pl.umap(adata_oprescu_d0, color=['leiden', 'leiden_putative'],  ncols=2, cmap=magma, legend_loc='on data')\n",
    "sc.pl.umap(adata_oprescu_d0_putative, color=['leiden'], legend_loc='on data', cmap=magma)"
   ]
  },
  {
   "cell_type": "code",
   "execution_count": null,
   "metadata": {},
   "outputs": [],
   "source": [
    "sc.tl.rank_genes_groups(adata_oprescu_d0, n_genes=150, groupby='leiden_putative')\n",
    "sc.pl.rank_genes_groups_tracksplot(adata_oprescu_d0, n_genes=50, dendrogram=False)"
   ]
  },
  {
   "cell_type": "code",
   "execution_count": null,
   "metadata": {},
   "outputs": [],
   "source": [
    "# 0 + 3 (+1)\n",
    "genes = ['Adamts5','Angptl1','Bmp4','Cmklr1','Col6a6','Cygb','Dpt','Fbln7','Gpm6b','Gstm1','Hmcn2',\n",
    "'Hmcn2','Htra3','Lbp','Loxl2','Mme','Nid2','Nmb','Nrep','Pdgfrl','Plau','Prss23','Tnxb',]\n",
    "\n",
    "sc.pl.umap(adata_oprescu_d0, color=['leiden_putative'] + genes, cmap=magma, \n",
    "           save='0+3+_1_all.png', show=False)\n",
    "sc.pl.umap(adata_oprescu_d0_putative, color=['leiden'] + genes, legend_loc='on data', cmap=magma, \n",
    "           save='0+3+_1_zoom.png', show=False)\n",
    "\n",
    "sc.pl.umap(adata_oprescu_d0, color=['leiden_putative'] + genes, cmap=magma)\n",
    "sc.pl.umap(adata_oprescu_d0_putative, color=['leiden'] + genes, legend_loc='on data', cmap=magma)"
   ]
  },
  {
   "cell_type": "code",
   "execution_count": null,
   "metadata": {},
   "outputs": [],
   "source": [
    "Untitled 2.pdf# 0 (+3) + 1\n",
    "genes = ['Aldh1a1','Ank2','Ccl11','Cdk8','Col15a1','Col1a1','Col6a3','Col8a1','Crispld2',\n",
    "'Cxcl14','Dpep1','Dpysl3','Fkbp10','Hspg2','Itih5','Lamc1','Lhfp','Medag',\n",
    "'Ndn','Pcdh7','Pdgfra','Pdlim4','Podn','Smoc2','Spon1','Tmed1','Tmem45a',]\n",
    "\n",
    "sc.pl.umap(adata_oprescu_d0, color=['leiden_putative'] + genes, cmap=magma, \n",
    "           save='0+_3+1_all.png', show=False)\n",
    "sc.pl.umap(adata_oprescu_d0_putative, color=['leiden'] + genes, legend_loc='on data', cmap=magma, \n",
    "           save='0+_3+1_zoom.png', show=False)\n",
    "\n",
    "sc.pl.umap(adata_oprescu_d0, color=['leiden_putative'] + genes, cmap=magma)\n",
    "sc.pl.umap(adata_oprescu_d0_putative, color=['leiden'] + genes, legend_loc='on data', cmap=magma)"
   ]
  },
  {
   "cell_type": "code",
   "execution_count": null,
   "metadata": {},
   "outputs": [],
   "source": [
    "# 1\n",
    "genes = [\n",
    "'6030408B16Rik','Adamtsl2','Bmp7','Capn1','Capn6','Cd300lg','Col18a1','Col9a2','Cpxm2',\n",
    "'Crispld1','Cst6','Dlk1','Fgfrl1','Gfra2','Gpld1','Inhba','Matn2','Mdk',\n",
    "'Nipal1','Nkd1','Rasgrp2','Rgs17','Saa1','Scml4','Sfrp1','Shisa3',\n",
    "'Sipa1l1','Sorcs2','Sorl1','Sox9','Sphkap','Srpx','Thrsp','Trf',]\n",
    "\n",
    "sc.pl.umap(adata_oprescu_d0, color=['leiden_putative'] + genes, cmap=magma, \n",
    "           save='1_all.png', show=False)\n",
    "sc.pl.umap(adata_oprescu_d0_putative, color=['leiden'] + genes, legend_loc='on data', cmap=magma, \n",
    "           save='1_zoom.png', show=False)\n",
    "\n",
    "sc.pl.umap(adata_oprescu_d0, color=['leiden_putative'] + genes, cmap=magma)\n",
    "sc.pl.umap(adata_oprescu_d0_putative, color=['leiden'] + genes, legend_loc='on data', cmap=magma)"
   ]
  },
  {
   "cell_type": "code",
   "execution_count": null,
   "metadata": {},
   "outputs": [],
   "source": [
    "# 2+4\n",
    "genes = ['Adgre1', 'Aif1', 'Aprt', 'Arl4c', 'Bach1', 'Btg1', 'C1qb', 'Ccl3', 'Ccl4', 'Ccl6', 'Ccl9', \n",
    "'Ccrl2', 'Cd53', 'Cd74', 'Cd83', 'Coro1a', 'Ctsc', 'Ctss', 'Fabp5', 'Fcer1g', 'H2-Aa', 'H2-Ab1', \n",
    "'Id2', 'Lgals3', 'Ly86', 'Lyz2', 'Postn', 'Ptgs2', 'Rel', 'Rhog', 'Rplp1', 'Rps11', 'Rps14', 'Rps24', \n",
    "'Sirpa', 'Srgn', 'Tgfb1', 'Tyrobp', 'Ucp2', ]\n",
    "\n",
    "sc.pl.umap(adata_oprescu_d0, color=['leiden_putative'] + genes, cmap=magma, \n",
    "           save='2+4_all.png', show=False)\n",
    "sc.pl.umap(adata_oprescu_d0_putative, color=['leiden'] + genes, legend_loc='on data', cmap=magma, \n",
    "           save='2+4_zoom.png', show=False)\n",
    "\n",
    "sc.pl.umap(adata_oprescu_d0, color=['leiden_putative'] + genes, cmap=magma)\n",
    "sc.pl.umap(adata_oprescu_d0_putative, color=['leiden'] + genes, legend_loc='on data', cmap=magma)"
   ]
  },
  {
   "cell_type": "code",
   "execution_count": null,
   "metadata": {},
   "outputs": [],
   "source": [
    "# 5\n",
    "genes = ['Adgrf5', 'Bcam', 'Cd200', 'Cd93', 'Cdh5', 'Ceacam1', 'Cldn5', 'Clu', \n",
    "'Cracr2b', 'Cyyr1', 'Ecscr', 'Efna1', 'Egfl7', 'F11r', 'Fabp4', 'Fam101b', 'Flt1', 'Ggta1', \n",
    "'Gper1', 'Icam2', 'Kank3', 'Ldb2', 'Mecom', 'Mmrn2', 'Myct1', 'Pdgfb', 'Pecam1', 'Podxl', \n",
    "'Ptprb', 'Rasip1', 'S1pr1', 'Sema3g', 'She', 'Sox17', 'Sox18', 'Stmn2', 'Tie1', 'Tinagl1', 'Tspan13', 'Tspan7', \n",
    "'Vegfc', ]\n",
    "\n",
    "sc.pl.umap(adata_oprescu_d0, color=['leiden_putative'] + genes, cmap=magma, \n",
    "           save='5_all.png', show=False)\n",
    "sc.pl.umap(adata_oprescu_d0_putative, color=['leiden'] + genes, legend_loc='on data', cmap=magma, \n",
    "           save='5_zoom.png', show=False)\n",
    "\n",
    "sc.pl.umap(adata_oprescu_d0, color=['leiden_putative'] + genes, cmap=magma)\n",
    "sc.pl.umap(adata_oprescu_d0_putative, color=['leiden'] + genes, legend_loc='on data', cmap=magma)"
   ]
  },
  {
   "cell_type": "code",
   "execution_count": null,
   "metadata": {},
   "outputs": [],
   "source": [
    "# 7\n",
    "genes = ['Abcc9', 'Adcy6', 'Casq2', 'Cox4i2', 'Cxcl12','Gucy1a3', 'Hopx', 'Kcnj8', \n",
    "'Myh11', 'Myl9', 'Myo1b', 'Ndufa4l2', 'Notch3', 'Pdgfrb', 'Rasl11a', 'Rgs4', 'Rgs5', 'Tbc1d1', ]\n",
    "\n",
    "sc.pl.umap(adata_oprescu_d0, color=['leiden_putative'] + genes, cmap=magma, \n",
    "           save='7_all.png', show=False)\n",
    "sc.pl.umap(adata_oprescu_d0_putative, color=['leiden'] + genes, legend_loc='on data', cmap=magma, \n",
    "           save='7_zoom.png', show=False)\n",
    "\n",
    "sc.pl.umap(adata_oprescu_d0, color=['leiden_putative'] + genes, cmap=magma)\n",
    "sc.pl.umap(adata_oprescu_d0_putative, color=['leiden'] + genes, legend_loc='on data', cmap=magma)"
   ]
  },
  {
   "cell_type": "code",
   "execution_count": null,
   "metadata": {},
   "outputs": [],
   "source": [
    "# 8\n",
    "genes = ['Aatk','Arhgap19','Bcas1','Cadm4','Cldn19','Cmtm5','Ddn','Drp2','Dusp15','Elovl7',\n",
    "'Ephb6','Fa2h','Fxyd3','Gjc3','Kcna1','Mag','Mal','Mboat1','Mbp','Mpz',\n",
    "'Mt3','Otop1','Pllp','Plp1','Pou3f1','Prx','Ptprf','S100b','Sema3b','Slc36a2','Smco3','Snca',\n",
    "'Sostdc1','Sox10','Stmn1','Tspan15','Ugt8a','Vat1l',]\n",
    "\n",
    "sc.pl.umap(adata_oprescu_d0, color=['leiden_putative'] + genes, cmap=magma, \n",
    "           save='8_all.png', show=False)\n",
    "sc.pl.umap(adata_oprescu_d0_putative, color=['leiden'] + genes, legend_loc='on data', cmap=magma, \n",
    "           save='8_zoom.png', show=False)\n",
    "\n",
    "sc.pl.umap(adata_oprescu_d0, color=['leiden_putative'] + genes, cmap=magma)\n",
    "sc.pl.umap(adata_oprescu_d0_putative, color=['leiden'] + genes, legend_loc='on data', cmap=magma)"
   ]
  },
  {
   "cell_type": "code",
   "execution_count": null,
   "metadata": {},
   "outputs": [],
   "source": [
    "# 9\n",
    "genes = ['Adgrg3', 'Ccl21a', 'Fgd6', 'Flt4', 'Gm21541', 'Il7', 'Klhl4', \n",
    "'Lyve1', 'Mmrn1', 'Mrc1', 'Pard6g', 'Slc45a3', 'Tspan18']\n",
    "\n",
    "sc.pl.umap(adata_oprescu_d0, color=['leiden_putative'] + genes, cmap=magma, \n",
    "           save='9_all.png', show=False)\n",
    "sc.pl.umap(adata_oprescu_d0_putative, color=['leiden'] + genes, legend_loc='on data', cmap=magma, \n",
    "           save='9_zoom.png', show=False)\n",
    "\n",
    "sc.pl.umap(adata_oprescu_d0, color=['leiden_putative'] + genes, cmap=magma)\n",
    "sc.pl.umap(adata_oprescu_d0_putative, color=['leiden'] + genes, legend_loc='on data', cmap=magma)"
   ]
  },
  {
   "cell_type": "code",
   "execution_count": null,
   "metadata": {},
   "outputs": [],
   "source": [
    "# Pôssible lymph node (cluster 9)\n",
    "genes = ['Cldn5', 'Vwf', 'Lyve1']\n",
    "\n",
    "sc.pl.umap(adata_oprescu_d0, color=['leiden_putative'] + genes, cmap=magma)\n",
    "sc.pl.umap(adata_oprescu_d0_putative, color=['leiden'] + genes, legend_loc='on data', cmap=magma)"
   ]
  },
  {
   "cell_type": "markdown",
   "metadata": {},
   "source": [
    "### Filtering kranocyte genes"
   ]
  },
  {
   "cell_type": "code",
   "execution_count": null,
   "metadata": {},
   "outputs": [],
   "source": [
    "sc.tl.rank_genes_groups(adata_oprescu_d0, groupby='leiden', n_genes=1500)"
   ]
  },
  {
   "cell_type": "markdown",
   "metadata": {},
   "source": [
    "We are interested in finding genes specific of cluster 23. To do that we are going to filter out genes with expression in the rest of clusters similar to it (0, 3, 5, 15, 4, 24)."
   ]
  },
  {
   "cell_type": "code",
   "execution_count": null,
   "metadata": {},
   "outputs": [],
   "source": [
    "genes_pos, ratio = [], []\n",
    "for gene in tqdm(adata_oprescu_d0.uns['rank_genes_groups']['names']['23']):\n",
    "    list_means = []\n",
    "    for group in ['0', '3', '4', '5', '15', '24']:\n",
    "        list_means.append(np.mean(adata_oprescu_d0.X[adata_oprescu_d0.obs['leiden'].isin(\n",
    "        [group]), adata_oprescu_d0.var_names == gene].ravel()))\n",
    "    \n",
    "    r = np.mean(adata_oprescu_d0.X[adata_oprescu_d0.obs['leiden'].isin(['23']), \n",
    "                   adata_oprescu_d0.var_names == gene].ravel()) / max(list_means)\n",
    "    \n",
    "    ratio.append(r)\n",
    "    genes_pos.append(gene)"
   ]
  },
  {
   "cell_type": "code",
   "execution_count": null,
   "metadata": {},
   "outputs": [],
   "source": [
    "selected = np.array(ratio) > 10**0.6"
   ]
  },
  {
   "cell_type": "code",
   "execution_count": null,
   "metadata": {},
   "outputs": [],
   "source": [
    "plt.scatter(np.random.random(len(ratio)), np.log10(ratio), color=['#007ab7' if i else '#ababab' for i in selected])"
   ]
  },
  {
   "cell_type": "code",
   "execution_count": null,
   "metadata": {},
   "outputs": [],
   "source": [
    "selected_genes_krano_oprescu = np.array(genes_pos)[np.array(selected).astype(bool)]\n",
    "np.array(sorted(selected_genes_krano_oprescu))"
   ]
  },
  {
   "cell_type": "code",
   "execution_count": null,
   "metadata": {},
   "outputs": [],
   "source": [
    "sc.pl.umap(adata_oprescu_d0, color=selected_genes_krano_oprescu, legend_loc='on data', cmap=magma, ncols=2)"
   ]
  },
  {
   "cell_type": "markdown",
   "metadata": {},
   "source": [
    "### Selecting putative clusters at injury states"
   ]
  },
  {
   "cell_type": "code",
   "execution_count": null,
   "metadata": {},
   "outputs": [],
   "source": [
    "for adata in [adata_oprescu_d05, adata_oprescu_d2, adata_oprescu_d35, adata_oprescu_d5, adata_oprescu_d10,\n",
    "              adata_oprescu_d21]:\n",
    "    sc.pp.filter_cells(adata, min_genes=200)"
   ]
  },
  {
   "cell_type": "code",
   "execution_count": null,
   "metadata": {},
   "outputs": [],
   "source": [
    "for adata in [adata_oprescu_d05, adata_oprescu_d2, adata_oprescu_d35, adata_oprescu_d5, adata_oprescu_d10,\n",
    "              adata_oprescu_d21]:\n",
    "    sc.pp.filter_genes(adata, min_counts=1)\n",
    "    sc.pp.log1p(adata)\n",
    "    sc.pp.normalize_per_cell(adata)"
   ]
  },
  {
   "cell_type": "code",
   "execution_count": null,
   "metadata": {},
   "outputs": [],
   "source": [
    "for adata in [adata_oprescu_d05, adata_oprescu_d2, adata_oprescu_d35, adata_oprescu_d5, adata_oprescu_d10,\n",
    "              adata_oprescu_d21]:\n",
    "    tk.tl.triku(adata, n_procs=1, random_state=seed)\n",
    "    sc.pp.pca(adata, random_state=seed, n_comps=30)\n",
    "    sc.pp.neighbors(adata, random_state=seed, knn=len(adata) ** 0.5 // 2, metric='cosine')"
   ]
  },
  {
   "cell_type": "code",
   "execution_count": null,
   "metadata": {},
   "outputs": [],
   "source": [
    "sc.tl.umap(adata_oprescu_d05, min_dist=0.1, random_state=seed)\n",
    "sc.tl.leiden(adata_oprescu_d05, resolution=1.8, random_state=seed)\n",
    "sc.pl.umap(adata_oprescu_d05, color=['leiden', 'n_counts'], legend_loc='on data')"
   ]
  },
  {
   "cell_type": "code",
   "execution_count": null,
   "metadata": {},
   "outputs": [],
   "source": [
    "sc.tl.umap(adata_oprescu_d2, min_dist=0.1, random_state=seed)\n",
    "sc.tl.leiden(adata_oprescu_d2, resolution=1.8, random_state=seed)\n",
    "sc.pl.umap(adata_oprescu_d2, color=['leiden', 'n_counts'], legend_loc='on data')"
   ]
  },
  {
   "cell_type": "code",
   "execution_count": null,
   "metadata": {},
   "outputs": [],
   "source": [
    "sc.tl.umap(adata_oprescu_d35, min_dist=0.1, random_state=seed)\n",
    "sc.tl.leiden(adata_oprescu_d35, resolution=1.8, random_state=seed)\n",
    "sc.pl.umap(adata_oprescu_d35, color=['leiden', 'n_counts'], legend_loc='on data')"
   ]
  },
  {
   "cell_type": "code",
   "execution_count": null,
   "metadata": {},
   "outputs": [],
   "source": [
    "sc.tl.umap(adata_oprescu_d5, min_dist=0.1, random_state=seed)\n",
    "sc.tl.leiden(adata_oprescu_d5, resolution=1.8, random_state=seed)\n",
    "sc.pl.umap(adata_oprescu_d5, color=['leiden', 'n_counts'], legend_loc='on data')"
   ]
  },
  {
   "cell_type": "code",
   "execution_count": null,
   "metadata": {},
   "outputs": [],
   "source": [
    "sc.tl.umap(adata_oprescu_d10, min_dist=0.1, random_state=seed)\n",
    "sc.tl.leiden(adata_oprescu_d10, resolution=1.8, random_state=seed)\n",
    "sc.pl.umap(adata_oprescu_d10, color=['leiden', 'n_counts'], legend_loc='on data')"
   ]
  },
  {
   "cell_type": "code",
   "execution_count": null,
   "metadata": {},
   "outputs": [],
   "source": [
    "sc.tl.umap(adata_oprescu_d21, min_dist=0.1, random_state=seed)\n",
    "sc.tl.leiden(adata_oprescu_d21, resolution=1.8, random_state=seed)\n",
    "sc.pl.umap(adata_oprescu_d21, color=['leiden', 'n_counts'], legend_loc='on data')"
   ]
  },
  {
   "cell_type": "markdown",
   "metadata": {},
   "source": [
    "#### Determining the dynamics of kranocytes / tenocytes during healing\n",
    "\n",
    "From literature it is known that kranocytes express Tnc during 0.5 and 2 DPI. At day 0, Tnc is a marker of tenocytes. Therefore, we are going to map Tnc+ clusters alongside putative kranocyte clusters to see the evolution of the cluster expression."
   ]
  },
  {
   "cell_type": "code",
   "execution_count": null,
   "metadata": {},
   "outputs": [],
   "source": [
    "teno_markers = ['Tnc', 'Tnmd', 'Scx', 'Mkx', 'Col12a1', 'Fmod', 'Comp']\n",
    "krano_markers_d0 = ['Shisa3', 'Saa1', '6030408B16Rik', 'Sox9', 'Gpld1', 'Dlk1', 'Nipal1']"
   ]
  },
  {
   "cell_type": "code",
   "execution_count": null,
   "metadata": {},
   "outputs": [],
   "source": [
    "sc.pl.umap(adata_oprescu_d0, color=['leiden'] + teno_markers, legend_loc='on data', cmap=magma, ncols=3)\n",
    "sc.pl.umap(adata_oprescu_d0, color=['leiden'] + krano_markers_d0, legend_loc='on data', cmap=magma, ncols=3)"
   ]
  },
  {
   "cell_type": "code",
   "execution_count": null,
   "metadata": {},
   "outputs": [],
   "source": [
    "sc.pl.umap(adata_oprescu_d05, color=['leiden'] + teno_markers, legend_loc='on data', cmap=magma, ncols=3)\n",
    "sc.pl.umap(adata_oprescu_d05, color=['leiden'] + krano_markers_d0, legend_loc='on data', cmap=magma, ncols=3)"
   ]
  },
  {
   "cell_type": "code",
   "execution_count": null,
   "metadata": {},
   "outputs": [],
   "source": [
    "sc.pl.umap(adata_oprescu_d2, color=['leiden'] + teno_markers, legend_loc='on data', cmap=magma, ncols=3)\n",
    "sc.pl.umap(adata_oprescu_d2, color=['leiden'] + krano_markers_d0, legend_loc='on data', cmap=magma, ncols=3)"
   ]
  },
  {
   "cell_type": "code",
   "execution_count": null,
   "metadata": {},
   "outputs": [],
   "source": [
    "sc.pl.umap(adata_oprescu_d35, color=['leiden'] + teno_markers, legend_loc='on data', cmap=magma, ncols=3)\n",
    "sc.pl.umap(adata_oprescu_d35, color=['leiden'] + krano_markers_d0, legend_loc='on data', cmap=magma, ncols=3)"
   ]
  },
  {
   "cell_type": "code",
   "execution_count": null,
   "metadata": {},
   "outputs": [],
   "source": [
    "sc.pl.umap(adata_oprescu_d5, color=['leiden'] + teno_markers, legend_loc='on data', cmap=magma, ncols=3)\n",
    "sc.pl.umap(adata_oprescu_d5, color=['leiden'] + krano_markers_d0, legend_loc='on data', cmap=magma, ncols=3)"
   ]
  },
  {
   "cell_type": "code",
   "execution_count": null,
   "metadata": {},
   "outputs": [],
   "source": [
    "sc.pl.umap(adata_oprescu_d10, color=['leiden'] + teno_markers, legend_loc='on data', cmap=magma, ncols=3)\n",
    "sc.pl.umap(adata_oprescu_d10, color=['leiden'] + krano_markers_d0, legend_loc='on data', cmap=magma, ncols=3)"
   ]
  },
  {
   "cell_type": "code",
   "execution_count": null,
   "metadata": {},
   "outputs": [],
   "source": [
    "sc.pl.umap(adata_oprescu_d21, color=['leiden'] + teno_markers, legend_loc='on data', cmap=magma, ncols=3)\n",
    "sc.pl.umap(adata_oprescu_d21, color=['leiden'] + krano_markers_d0, legend_loc='on data', cmap=magma, ncols=3)"
   ]
  },
  {
   "cell_type": "markdown",
   "metadata": {},
   "source": [
    "# Scott 2019"
   ]
  },
  {
   "cell_type": "code",
   "execution_count": null,
   "metadata": {},
   "outputs": [],
   "source": [
    "!wget https://ftp.ncbi.nlm.nih.gov/geo/samples/GSM2976nnn/GSM2976778/suppl/GSM2976778%5Fqsnt%5Fbarcodes%2Etsv%2Egz -P {data_dir}/scott\n",
    "!wget https://ftp.ncbi.nlm.nih.gov/geo/samples/GSM2976nnn/GSM2976778/suppl/GSM2976778%5Fqsnt%5Fgenes%2Etsv%2Egz -P {data_dir}/scott\n",
    "!wget https://ftp.ncbi.nlm.nih.gov/geo/samples/GSM2976nnn/GSM2976778/suppl/GSM2976778%5Fqsnt%5Fmatrix%2Emtx%2Egz -P {data_dir}/scott"
   ]
  },
  {
   "cell_type": "code",
   "execution_count": null,
   "metadata": {},
   "outputs": [],
   "source": [
    "adata_scott_d0 = sc.read_mtx(data_dir+'scott/GSM2976778_qsnt_matrix.mtx.gz').transpose()\n",
    "barcodes = pd.read_csv(data_dir+'scott/GSM2976778_qsnt_barcodes.tsv.gz', sep='\\t', header=None)[0].values\n",
    "features = pd.read_csv(data_dir+'scott/GSM2976778_qsnt_genes.tsv.gz', sep='\\t', header=None)[1].values\n",
    "\n",
    "adata_scott_d0.var_names = features\n",
    "adata_scott_d0.obs_names = barcodes"
   ]
  },
  {
   "cell_type": "code",
   "execution_count": null,
   "metadata": {},
   "outputs": [],
   "source": [
    "adata_scott_d0.var_names_make_unique()"
   ]
  },
  {
   "cell_type": "code",
   "execution_count": null,
   "metadata": {
    "scrolled": true
   },
   "outputs": [],
   "source": [
    "!wget https://ftp.ncbi.nlm.nih.gov/geo/samples/GSM2976nnn/GSM2976779/suppl/GSM2976779%5Fd1%5Fbarcodes%2Etsv%2Egz -P {data_dir}/scott\n",
    "!wget https://ftp.ncbi.nlm.nih.gov/geo/samples/GSM2976nnn/GSM2976779/suppl/GSM2976779%5Fd1%5Fgenes%2Etsv%2Egz -P {data_dir}/scott\n",
    "!wget https://ftp.ncbi.nlm.nih.gov/geo/samples/GSM2976nnn/GSM2976779/suppl/GSM2976779%5Fd1%5Fmatrix%2Emtx%2Egz -P {data_dir}/scott"
   ]
  },
  {
   "cell_type": "code",
   "execution_count": null,
   "metadata": {},
   "outputs": [],
   "source": [
    "adata_scott_d1 = sc.read_mtx(data_dir+'scott/GSM2976779_d1_matrix.mtx.gz').transpose()\n",
    "barcodes = pd.read_csv(data_dir+'scott/GSM2976779_d1_barcodes.tsv.gz', sep='\\t', header=None)[0].values\n",
    "features = pd.read_csv(data_dir+'scott/GSM2976779_d1_genes.tsv.gz', sep='\\t', header=None)[1].values\n",
    "\n",
    "adata_scott_d1.var_names = features\n",
    "adata_scott_d1.obs_names = barcodes"
   ]
  },
  {
   "cell_type": "code",
   "execution_count": null,
   "metadata": {
    "scrolled": true
   },
   "outputs": [],
   "source": [
    "!wget https://ftp.ncbi.nlm.nih.gov/geo/samples/GSM2976nnn/GSM2976780/suppl/GSM2976780%5Fd2%5Fbarcodes%2Etsv%2Egz -P {data_dir}/scott\n",
    "!wget https://ftp.ncbi.nlm.nih.gov/geo/samples/GSM2976nnn/GSM2976780/suppl/GSM2976780%5Fd2%5Fgenes%2Etsv%2Egz -P {data_dir}/scott\n",
    "!wget https://ftp.ncbi.nlm.nih.gov/geo/samples/GSM2976nnn/GSM2976780/suppl/GSM2976780%5Fd2%5Fmatrix%2Emtx%2Egz -P {data_dir}/scott"
   ]
  },
  {
   "cell_type": "code",
   "execution_count": null,
   "metadata": {},
   "outputs": [],
   "source": [
    "adata_scott_d2 = sc.read_mtx(data_dir+'scott/GSM2976780_d2_matrix.mtx.gz').transpose()\n",
    "barcodes = pd.read_csv(data_dir+'scott/GSM2976780_d2_barcodes.tsv.gz', sep='\\t', header=None)[0].values\n",
    "features = pd.read_csv(data_dir+'scott/GSM2976780_d2_genes.tsv.gz', sep='\\t', header=None)[1].values\n",
    "\n",
    "adata_scott_d2.var_names = features\n",
    "adata_scott_d2.obs_names = barcodes"
   ]
  },
  {
   "cell_type": "code",
   "execution_count": null,
   "metadata": {
    "scrolled": true
   },
   "outputs": [],
   "source": [
    "!wget https://ftp.ncbi.nlm.nih.gov/geo/samples/GSM2976nnn/GSM2976781/suppl/GSM2976781%5Fd4%5Fbarcodes%2Etsv%2Egz -P {data_dir}/scott\n",
    "!wget https://ftp.ncbi.nlm.nih.gov/geo/samples/GSM2976nnn/GSM2976781/suppl/GSM2976781%5Fd4%5Fgenes%2Etsv%2Egz -P {data_dir}/scott\n",
    "!wget https://ftp.ncbi.nlm.nih.gov/geo/samples/GSM2976nnn/GSM2976781/suppl/GSM2976781%5Fd4%5Fmatrix%2Emtx%2Egz -P {data_dir}/scott"
   ]
  },
  {
   "cell_type": "code",
   "execution_count": null,
   "metadata": {},
   "outputs": [],
   "source": [
    "adata_scott_d4 = sc.read_mtx(data_dir+'scott/GSM2976781_d4_matrix.mtx.gz').transpose()\n",
    "barcodes = pd.read_csv(data_dir+'scott/GSM2976781_d4_barcodes.tsv.gz', sep='\\t', header=None)[0].values\n",
    "features = pd.read_csv(data_dir+'scott/GSM2976781_d4_genes.tsv.gz', sep='\\t', header=None)[1].values\n",
    "\n",
    "adata_scott_d4.var_names = features\n",
    "adata_scott_d4.obs_names = barcodes"
   ]
  },
  {
   "cell_type": "code",
   "execution_count": null,
   "metadata": {
    "scrolled": true
   },
   "outputs": [],
   "source": [
    "!wget https://ftp.ncbi.nlm.nih.gov/geo/samples/GSM2976nnn/GSM2976782/suppl/GSM2976782%5Fd14%5Fbarcodes%2Etsv%2Egz -P {data_dir}/scott\n",
    "!wget https://ftp.ncbi.nlm.nih.gov/geo/samples/GSM2976nnn/GSM2976782/suppl/GSM2976782%5Fd14%5Fgenes%2Etsv%2Egz -P {data_dir}/scott\n",
    "!wget https://ftp.ncbi.nlm.nih.gov/geo/samples/GSM2976nnn/GSM2976782/suppl/GSM2976782%5Fd14%5Fmatrix%2Emtx%2Egz -P {data_dir}/scott"
   ]
  },
  {
   "cell_type": "code",
   "execution_count": null,
   "metadata": {},
   "outputs": [],
   "source": [
    "adata_scott_d14 = sc.read_mtx(data_dir+'scott/GSM2976782_d14_matrix.mtx.gz').transpose()\n",
    "barcodes = pd.read_csv(data_dir+'scott/GSM2976782_d14_barcodes.tsv.gz', sep='\\t', header=None)[0].values\n",
    "features = pd.read_csv(data_dir+'scott/GSM2976782_d14_genes.tsv.gz', sep='\\t', header=None)[1].values\n",
    "\n",
    "adata_scott_d14.var_names = features\n",
    "adata_scott_d14.obs_names = barcodes"
   ]
  },
  {
   "cell_type": "markdown",
   "metadata": {},
   "source": [
    "## Adata Scott D0"
   ]
  },
  {
   "cell_type": "code",
   "execution_count": null,
   "metadata": {},
   "outputs": [],
   "source": [
    "adata_scott_d0.X = np.asarray(adata_scott_d0.X.todense())"
   ]
  },
  {
   "cell_type": "code",
   "execution_count": null,
   "metadata": {},
   "outputs": [],
   "source": [
    "# Basic QC filtering\n",
    "adata_scott_d0.var['mt'] = adata_scott_d0.var_names.str.startswith('MT-')  # annotate the group of mitochondrial genes as 'mt'\n",
    "sc.pp.calculate_qc_metrics(adata_scott_d0, qc_vars=['mt'], percent_top=None, inplace=True)"
   ]
  },
  {
   "cell_type": "code",
   "execution_count": null,
   "metadata": {},
   "outputs": [],
   "source": [
    "sc.pl.violin(adata_scott_d0, ['n_genes_by_counts', 'total_counts', 'pct_counts_mt'],\n",
    "             jitter=0.4, multi_panel=True)\n",
    "\n",
    "sc.pl.scatter(adata_scott_d0, x='total_counts', y='pct_counts_mt')\n"
   ]
  },
  {
   "cell_type": "code",
   "execution_count": null,
   "metadata": {},
   "outputs": [],
   "source": [
    "# adata_oprescu = adata_oprescu[adata_oprescu.obs.n_genes_by_counts < 5000, :]\n",
    "# adata_oprescu = adata_oprescu[adata_oprescu.obs.pct_counts_mt < 30, :]"
   ]
  },
  {
   "cell_type": "code",
   "execution_count": null,
   "metadata": {},
   "outputs": [],
   "source": [
    "sc.pp.filter_cells(adata_scott_d0, min_genes=250)"
   ]
  },
  {
   "cell_type": "code",
   "execution_count": null,
   "metadata": {},
   "outputs": [],
   "source": [
    "sc.pp.filter_genes(adata_scott_d0, min_counts=1)\n",
    "sc.pp.log1p(adata_scott_d0)\n",
    "sc.pp.normalize_per_cell(adata_scott_d0)"
   ]
  },
  {
   "cell_type": "code",
   "execution_count": null,
   "metadata": {},
   "outputs": [],
   "source": [
    "tk.tl.triku(adata_scott_d0, n_procs=1, random_state=seed)\n",
    "sc.pp.pca(adata_scott_d0, random_state=seed, n_comps=30)\n",
    "sc.pp.neighbors(adata_scott_d0, random_state=seed, knn=len(adata_scott_d0) ** 0.5 // 2, metric='cosine')"
   ]
  },
  {
   "cell_type": "code",
   "execution_count": null,
   "metadata": {},
   "outputs": [],
   "source": [
    "sc.tl.umap(adata_scott_d0, min_dist=0.1, random_state=seed)\n",
    "sc.tl.leiden(adata_scott_d0, resolution=2, random_state=seed)\n",
    "sc.pl.umap(adata_scott_d0, color=['leiden', 'n_counts'], legend_loc='on data')"
   ]
  },
  {
   "cell_type": "markdown",
   "metadata": {},
   "source": [
    "### Subpopulation characterization"
   ]
  },
  {
   "cell_type": "code",
   "execution_count": null,
   "metadata": {},
   "outputs": [],
   "source": [
    "adata_scott_d0.obs['cell_type'] = 'Other'"
   ]
  },
  {
   "cell_type": "code",
   "execution_count": null,
   "metadata": {},
   "outputs": [],
   "source": [
    "df = adata_scott_d0.obs['cell_type'].copy()"
   ]
  },
  {
   "cell_type": "code",
   "execution_count": null,
   "metadata": {},
   "outputs": [],
   "source": [
    "# Endothelial\n",
    "sc.pl.umap(adata_scott_d0, color=['leiden', 'Fabp4', 'Vwf'], legend_loc='on data', ncols=3, cmap=magma)\n",
    "df[adata_scott_d0.obs['leiden'].isin(['16'])] = 'Endothelial'"
   ]
  },
  {
   "cell_type": "code",
   "execution_count": null,
   "metadata": {},
   "outputs": [],
   "source": [
    "# LUM+ FAP\n",
    "sc.pl.umap(adata_scott_d0, color=['leiden', 'Apod', 'Lum'], legend_loc='on data', ncols=3, cmap=magma)\n",
    "\n",
    "# PRG4+ FAP\n",
    "sc.pl.umap(adata_scott_d0, color=['leiden', 'Prg4', 'Fbn1'], legend_loc='on data', ncols=3, cmap=magma)\n",
    "\n",
    "df[adata_scott_d0.obs['leiden'].isin(['17', '6', '3', '4', '13', '8', '0', '7', '11', '15', '1', '9', '2', '5'])] = 'FAP'"
   ]
  },
  {
   "cell_type": "code",
   "execution_count": null,
   "metadata": {},
   "outputs": [],
   "source": [
    "# Pericyte\n",
    "sc.pl.umap(adata_scott_d0, color=['leiden', 'Rgs5', 'Ndufa4l2'], legend_loc='on data', ncols=3, cmap=magma)\n",
    "df[adata_scott_d0.obs['leiden'].isin(['10'])] = 'Pericyte'"
   ]
  },
  {
   "cell_type": "code",
   "execution_count": null,
   "metadata": {},
   "outputs": [],
   "source": [
    "# Tenocyte\n",
    "sc.pl.umap(adata_scott_d0, color=['leiden', 'Tnc', 'Tnmd'], legend_loc='on data', ncols=3, cmap=magma)\n",
    "df[adata_scott_d0.obs['leiden'].isin(['12', '14'])] = 'Tenocyte'"
   ]
  },
  {
   "cell_type": "code",
   "execution_count": null,
   "metadata": {},
   "outputs": [],
   "source": [
    "sc.tl.rank_genes_groups(adata_scott_d0, groupby='leiden', method='wilcoxon')\n",
    "sc.pl.rank_genes_groups_tracksplot(adata_scott_d0, dendrogram=False, n_genes=50)"
   ]
  },
  {
   "cell_type": "code",
   "execution_count": null,
   "metadata": {},
   "outputs": [],
   "source": [
    "adata_scott_d0.obs['cell_type'] = df"
   ]
  },
  {
   "cell_type": "code",
   "execution_count": null,
   "metadata": {},
   "outputs": [],
   "source": [
    "adata_scott_d0.uns['cell_type_colors'] = ['#c70039', '#8b008b', '#8B0000', '#ff7f50']"
   ]
  },
  {
   "cell_type": "code",
   "execution_count": null,
   "metadata": {},
   "outputs": [],
   "source": [
    "sc.pl.umap(adata_scott_d0, color=['leiden', 'cell_type'], legend_loc='on data', ncols=3, cmap=magma)"
   ]
  },
  {
   "cell_type": "code",
   "execution_count": null,
   "metadata": {},
   "outputs": [],
   "source": [
    "sc.pl.umap(adata_scott_d0, color=['leiden', 'Pdgfra', 'Lum', 'Dcn', 'Vim', 'Dpp4', 'Sfrp2', 'Apoe', 'Ccl19', \n",
    "                                    'Wisp2', 'Wif1', 'Col18a1', 'Postn', 'Col11a1', 'Crabp1', 'Coch'], legend_loc='on data', ncols=2, cmap=magma)"
   ]
  },
  {
   "cell_type": "code",
   "execution_count": null,
   "metadata": {},
   "outputs": [],
   "source": [
    "sc.tl.rank_genes_groups(adata_scott_d0, groupby='leiden', method='wilcoxon', groups=['6', '17'], reference='rest', n_genes=2000)\n",
    "sc.pl.rank_genes_groups_tracksplot(adata_scott_d0, dendrogram=False, n_genes=100)"
   ]
  },
  {
   "cell_type": "code",
   "execution_count": null,
   "metadata": {},
   "outputs": [],
   "source": [
    "genes_pos, ratio = [], []\n",
    "for gene in tqdm(set(list(adata_scott_d0.uns['rank_genes_groups']['names']['5']) + \n",
    "                 list(adata_scott_d0.uns['rank_genes_groups']['names']['13']))):\n",
    "    list_means = []\n",
    "    for group in ['6', '8', '2', '10', '11', '7', '9', '1', '12', '3', '4']:\n",
    "        list_means.append(np.mean(adata_scott_d0.X[adata_scott_d0.obs['leiden'].isin(\n",
    "        [group]), adata_scott_d0.var_names == gene].ravel()))\n",
    "    \n",
    "    r = np.mean(adata_scott_d0.X[adata_scott_d0.obs['leiden'].isin(['5', '13']), \n",
    "                   adata_scott_d0.var_names == gene].ravel()) / max(list_means)\n",
    "    \n",
    "    ratio.append(r)\n",
    "    genes_pos.append(gene)"
   ]
  },
  {
   "cell_type": "code",
   "execution_count": null,
   "metadata": {},
   "outputs": [],
   "source": [
    "selected = np.array(ratio) > 10**0.25"
   ]
  },
  {
   "cell_type": "code",
   "execution_count": null,
   "metadata": {},
   "outputs": [],
   "source": [
    "plt.scatter(np.random.random(len(ratio)), np.log10(ratio), color=['#007ab7' if i else '#ababab' for i in selected])"
   ]
  },
  {
   "cell_type": "code",
   "execution_count": null,
   "metadata": {},
   "outputs": [],
   "source": [
    "selected_genes_9_scott = np.array(genes_pos)[np.array(selected).astype(bool)]\n",
    "np.array(sorted(selected_genes_9_scott))"
   ]
  },
  {
   "cell_type": "code",
   "execution_count": null,
   "metadata": {},
   "outputs": [],
   "source": [
    "selected_genes = np.intersect1d(selected_genes_9_scott, selected_genes_18_oprescu)"
   ]
  },
  {
   "cell_type": "code",
   "execution_count": null,
   "metadata": {},
   "outputs": [],
   "source": [
    "selected_genes"
   ]
  },
  {
   "cell_type": "code",
   "execution_count": null,
   "metadata": {},
   "outputs": [],
   "source": [
    "sc.pl.umap(adata_scott_d0, color=selected_genes, legend_loc='on data', cmap=magma, ncols=3)"
   ]
  },
  {
   "cell_type": "code",
   "execution_count": null,
   "metadata": {},
   "outputs": [],
   "source": [
    "sc.pl.umap(adata_oprescu_d0, color=selected_genes, legend_loc='on data', cmap=magma, ncols=3)"
   ]
  },
  {
   "cell_type": "code",
   "execution_count": null,
   "metadata": {},
   "outputs": [],
   "source": [
    "# Genes that are exclusive of cluster 18 in Oprescu\n",
    "filtered_genes = ['Bricd5', 'Col9a2', 'Dlk1', 'Grin2b', 'Mpzl2', 'Saa1', 'Shisa3', 'Tenm2']\n",
    "\n",
    "\n",
    "sc.pl.umap(adata_oprescu_d0, color=['leiden'] + filtered_genes, legend_loc='on data', cmap=magma, ncols=3)\n",
    "sc.pl.umap(adata_scott_d0, color=['leiden'] + filtered_genes, legend_loc='on data', cmap=magma, ncols=3)"
   ]
  },
  {
   "cell_type": "code",
   "execution_count": null,
   "metadata": {},
   "outputs": [],
   "source": [
    "sc.pl.umap(adata_oprescu_d0, color=['Nipal1', 'Trpm6', 'S100b', 'Gpld1', 'Plxdc1', 'Gfra2',\n",
    "                                  'Cd38', 'Cd300lg'], legend_loc='on data', cmap=magma, ncols=3)"
   ]
  },
  {
   "cell_type": "markdown",
   "metadata": {},
   "source": [
    "# De Micheli et al 2020 (mouse)"
   ]
  },
  {
   "cell_type": "markdown",
   "metadata": {},
   "source": [
    "## Adata download and preprocessing"
   ]
  },
  {
   "cell_type": "code",
   "execution_count": null,
   "metadata": {},
   "outputs": [],
   "source": [
    "!wget https://ftp.ncbi.nlm.nih.gov/geo/series/GSE143nnn/GSE143437/suppl/GSE143437%5FDeMicheli%5FMuSCatlas%5Frawdata%2Etxt%2Egz -P {data_dir}/demicheli_mouse\n",
    "!wget https://ftp.ncbi.nlm.nih.gov/geo/series/GSE143nnn/GSE143437/suppl/GSE143437%5FDeMicheli%5FMuSCatlas%5Fmetadata%2Etxt%2Egz -P {data_dir}/demicheli_mouse"
   ]
  },
  {
   "cell_type": "code",
   "execution_count": null,
   "metadata": {},
   "outputs": [],
   "source": [
    "adata_de_micheli_mouse = sc.read_text(data_dir+'demicheli_mouse/GSE143437_DeMicheli_MuSCatlas_rawdata.txt.gz').transpose()\n",
    "adata_de_micheli_mouse.obs['batch'] = ['_'.join(i.split('_')[:2]) for i in adata_de_micheli_mouse.obs_names]\n",
    "adata_de_micheli_mouse.obs_names = [i.split('_')[-1] for i in adata_de_micheli_mouse.obs_names]\n",
    "adata_de_micheli_mouse.obs_names_make_unique()"
   ]
  },
  {
   "cell_type": "code",
   "execution_count": null,
   "metadata": {},
   "outputs": [],
   "source": [
    "adata_de_micheli_mouse.write_loom(data_dir+'demicheli_mouse/adata_demicheli_mouse.loom')"
   ]
  },
  {
   "cell_type": "code",
   "execution_count": null,
   "metadata": {},
   "outputs": [],
   "source": [
    "adata_de_micheli_mouse = sc.read_loom(data_dir+'demicheli_mouse/adata_demicheli_mouse.loom')"
   ]
  },
  {
   "cell_type": "code",
   "execution_count": null,
   "metadata": {},
   "outputs": [],
   "source": [
    "# We'll remove some RPSs and RPLs\n",
    "not_RPS = [i for i in adata_de_micheli_mouse.var_names if not (('Rps' in i) | ('Rpl' in i))]"
   ]
  },
  {
   "cell_type": "code",
   "execution_count": null,
   "metadata": {},
   "outputs": [],
   "source": [
    "adata_de_micheli_mouse = adata_de_micheli_mouse[:, not_RPS]"
   ]
  },
  {
   "cell_type": "code",
   "execution_count": null,
   "metadata": {},
   "outputs": [],
   "source": [
    "# Basic QC filtering\n",
    "adata_de_micheli_mouse.var['mt'] = adata_de_micheli_mouse.var_names.str.startswith('mt-')  # annotate the group of mitochondrial genes as 'mt'\n",
    "sc.pp.calculate_qc_metrics(adata_de_micheli_mouse, qc_vars=['mt'], percent_top=None, inplace=True)"
   ]
  },
  {
   "cell_type": "code",
   "execution_count": null,
   "metadata": {},
   "outputs": [],
   "source": [
    "sc.pl.violin(adata_de_micheli_mouse, ['n_genes_by_counts', 'total_counts', 'pct_counts_mt'],\n",
    "             jitter=0.4, multi_panel=True)\n",
    "\n",
    "sc.pl.scatter(adata_de_micheli_mouse, x='n_genes_by_counts', y='pct_counts_mt')\n",
    "sc.pl.scatter(adata_de_micheli_mouse, x='total_counts', y='n_genes_by_counts')"
   ]
  },
  {
   "cell_type": "code",
   "execution_count": null,
   "metadata": {},
   "outputs": [],
   "source": [
    "adata_de_micheli_mouse = adata_de_micheli_mouse[adata_de_micheli_mouse.obs.n_genes_by_counts < 6000, :]\n",
    "adata_de_micheli_mouse = adata_de_micheli_mouse[adata_de_micheli_mouse.obs.total_counts < 30000, :]\n",
    "adata_de_micheli_mouse = adata_de_micheli_mouse[adata_de_micheli_mouse.obs.pct_counts_mt < 10, :]"
   ]
  },
  {
   "cell_type": "code",
   "execution_count": null,
   "metadata": {},
   "outputs": [],
   "source": [
    "sc.pl.violin(adata_de_micheli_mouse, ['n_genes_by_counts', 'total_counts', 'pct_counts_mt'],\n",
    "             jitter=0.4, multi_panel=True)\n",
    "\n",
    "sc.pl.scatter(adata_de_micheli_mouse, x='n_genes_by_counts', y='pct_counts_mt')\n",
    "sc.pl.scatter(adata_de_micheli_mouse, x='total_counts', y='n_genes_by_counts')"
   ]
  },
  {
   "cell_type": "code",
   "execution_count": null,
   "metadata": {},
   "outputs": [],
   "source": [
    "sc.pp.filter_genes(adata_de_micheli_mouse, min_counts=1)"
   ]
  },
  {
   "cell_type": "code",
   "execution_count": null,
   "metadata": {},
   "outputs": [],
   "source": [
    "adata_de_micheli_mouse.X = np.array(adata_de_micheli_mouse.X.todense())"
   ]
  },
  {
   "cell_type": "code",
   "execution_count": null,
   "metadata": {},
   "outputs": [],
   "source": [
    "set(adata_de_micheli_mouse.obs.batch)"
   ]
  },
  {
   "cell_type": "code",
   "execution_count": null,
   "metadata": {},
   "outputs": [],
   "source": [
    "adata_de_micheli_mouse_d0 = adata_de_micheli_mouse[adata_de_micheli_mouse.obs['batch'].isin(['D0_A', 'D0_B', 'D0_Cv3'])].copy()\n",
    "adata_de_micheli_mouse_d2 = adata_de_micheli_mouse[adata_de_micheli_mouse.obs['batch'].isin(['D2_C', 'D2_D'])].copy()\n",
    "adata_de_micheli_mouse_d5 = adata_de_micheli_mouse[adata_de_micheli_mouse.obs['batch'].isin(['D5_A', 'D5_B', 'D5_C'])].copy()\n",
    "adata_de_micheli_mouse_d7 = adata_de_micheli_mouse[adata_de_micheli_mouse.obs['batch'].isin(['D7_C', 'D7_D'])].copy()"
   ]
  },
  {
   "cell_type": "code",
   "execution_count": null,
   "metadata": {},
   "outputs": [],
   "source": [
    "for adata in [adata_de_micheli_mouse_d0, adata_de_micheli_mouse_d2, \n",
    "              adata_de_micheli_mouse_d5, adata_de_micheli_mouse_d7]:\n",
    "\n",
    "    sc.pp.filter_genes(adata, min_counts=1)\n",
    "    sc.pp.log1p(adata)\n",
    "    sc.pp.normalize_total(adata)"
   ]
  },
  {
   "cell_type": "code",
   "execution_count": null,
   "metadata": {},
   "outputs": [],
   "source": [
    "for adata in [adata_de_micheli_mouse_d0, adata_de_micheli_mouse_d2, \n",
    "              adata_de_micheli_mouse_d5, adata_de_micheli_mouse_d7]:\n",
    "    \n",
    "    sc.pp.pca(adata, random_state=seed, n_comps=30)\n",
    "    sce.pp.bbknn(adata, metric='angular')\n",
    "    tk.tl.triku(adata, n_procs=1, random_state=seed)"
   ]
  },
  {
   "cell_type": "code",
   "execution_count": null,
   "metadata": {},
   "outputs": [],
   "source": [
    "for adata in [adata_de_micheli_mouse_d0, adata_de_micheli_mouse_d2, \n",
    "              adata_de_micheli_mouse_d5, adata_de_micheli_mouse_d7]:\n",
    "\n",
    "    sc.tl.umap(adata, min_dist=0.2, random_state=seed)\n",
    "    sc.tl.leiden(adata, resolution=1, random_state=seed)\n",
    "    sc.pl.umap(adata, color=['leiden', 'batch', 'total_counts'], legend_loc='on data', ncols=2)"
   ]
  },
  {
   "cell_type": "code",
   "execution_count": null,
   "metadata": {},
   "outputs": [],
   "source": [
    "sc.pl.umap(adata_de_micheli_mouse_d0, color=['leiden'] + teno_markers, legend_loc='on data', cmap=magma, ncols=3)\n",
    "sc.pl.umap(adata_de_micheli_mouse_d0, color=['leiden'] + krano_markers_d0, legend_loc='on data', cmap=magma, ncols=3)"
   ]
  },
  {
   "cell_type": "code",
   "execution_count": null,
   "metadata": {},
   "outputs": [],
   "source": [
    "sc.pl.umap(adata_de_micheli_mouse_d2, color=['leiden'] + teno_markers, legend_loc='on data', cmap=magma, ncols=3)\n",
    "sc.pl.umap(adata_de_micheli_mouse_d2, color=['leiden'] + krano_markers_d0, legend_loc='on data', cmap=magma, ncols=3)"
   ]
  },
  {
   "cell_type": "code",
   "execution_count": null,
   "metadata": {},
   "outputs": [],
   "source": [
    "sc.pl.umap(adata_de_micheli_mouse_d5, color=['leiden'] + teno_markers, legend_loc='on data', cmap=magma, ncols=3)\n",
    "sc.pl.umap(adata_de_micheli_mouse_d5, color=['leiden'] + krano_markers_d0, legend_loc='on data', cmap=magma, ncols=3)"
   ]
  },
  {
   "cell_type": "code",
   "execution_count": null,
   "metadata": {},
   "outputs": [],
   "source": [
    "sc.pl.umap(adata_de_micheli_mouse_d7, color=['leiden'] + teno_markers, legend_loc='on data', cmap=magma, ncols=3)\n",
    "sc.pl.umap(adata_de_micheli_mouse_d7, color=['leiden'] + krano_markers_d0, legend_loc='on data', cmap=magma, ncols=3)"
   ]
  },
  {
   "cell_type": "markdown",
   "metadata": {},
   "source": [
    "## Population characterization"
   ]
  },
  {
   "cell_type": "code",
   "execution_count": null,
   "metadata": {},
   "outputs": [],
   "source": [
    "sc.tl.rank_genes_groups(adata_de_micheli_mouse_d0, groupby='leiden', method='wilcoxon')"
   ]
  },
  {
   "cell_type": "code",
   "execution_count": null,
   "metadata": {},
   "outputs": [],
   "source": [
    "sc.pl.rank_genes_groups_tracksplot(adata_de_micheli_mouse_d0, dendrogram=False, n_genes=30)"
   ]
  },
  {
   "cell_type": "code",
   "execution_count": null,
   "metadata": {},
   "outputs": [],
   "source": [
    "sc.tl.rank_genes_groups(adata_de_micheli_mouse_d0, groupby='leiden', method='wilcoxon', groups=['8'], reference='rest')\n",
    "sc.pl.rank_genes_groups_tracksplot(adata_de_micheli_mouse_d0, dendrogram=False, n_genes=100)"
   ]
  },
  {
   "cell_type": "code",
   "execution_count": null,
   "metadata": {},
   "outputs": [],
   "source": [
    "adata_de_micheli_mouse_d0.obs['cell_type'] = 'Other'"
   ]
  },
  {
   "cell_type": "code",
   "execution_count": null,
   "metadata": {},
   "outputs": [],
   "source": [
    "df = adata_de_micheli_mouse_d0.obs['cell_type'].copy()"
   ]
  },
  {
   "cell_type": "code",
   "execution_count": null,
   "metadata": {},
   "outputs": [],
   "source": [
    "# 0 FAPs\n",
    "genes = ['Pdgfra', 'Col1a2', 'Mfap5']\n",
    "\n",
    "sc.pl.umap(adata_de_micheli_mouse_d0, color=['leiden'] + genes, legend_loc='on data', cmap=magma, ncols=2)\n",
    "df[adata_de_micheli_mouse_d0.obs['leiden'].isin(['2', '6', '3', '7', '11'])] = 'FAP'"
   ]
  },
  {
   "cell_type": "code",
   "execution_count": null,
   "metadata": {},
   "outputs": [],
   "source": [
    "# 6 Tenocytes\n",
    "genes = ['Tnmd', 'Fmod', 'Comp']\n",
    "\n",
    "sc.pl.umap(adata_de_micheli_mouse_d0, color=['leiden'] + genes, legend_loc='on data', cmap=magma, ncols=2)\n",
    "df[adata_de_micheli_mouse_d0.obs['leiden'].isin(['13'])] = 'Tenocyte'"
   ]
  },
  {
   "cell_type": "code",
   "execution_count": null,
   "metadata": {},
   "outputs": [],
   "source": [
    "# 1, 2 EC\n",
    "genes = ['Cav1', 'Pecam1']\n",
    "\n",
    "sc.pl.umap(adata_de_micheli_mouse_d0, color=['leiden'] + genes, legend_loc='on data', cmap=magma, ncols=3)\n",
    "df[adata_de_micheli_mouse_d0.obs['leiden'].isin(['0', '1', '5', '8', '9', '14', '19'])] = 'Endothelial'"
   ]
  },
  {
   "cell_type": "code",
   "execution_count": null,
   "metadata": {},
   "outputs": [],
   "source": [
    "# 2 Pericytes\n",
    "genes = ['Rgs5', 'Myl9']\n",
    "\n",
    "sc.pl.umap(adata_de_micheli_mouse_d0, color=['leiden'] + genes, legend_loc='on data', cmap=magma, ncols=3)\n",
    "df[adata_de_micheli_mouse_d0.obs['leiden'].isin(['16'])] = 'Pericyte'"
   ]
  },
  {
   "cell_type": "code",
   "execution_count": null,
   "metadata": {},
   "outputs": [],
   "source": [
    "# 4 Skeletal Muscle\n",
    "genes = ['Acta1', 'Ckm']\n",
    "\n",
    "sc.pl.umap(adata_de_micheli_mouse_d0, color=['leiden'] + genes, legend_loc='on data', cmap=magma, ncols=3)\n",
    "df[adata_de_micheli_mouse_d0.obs['leiden'].isin(['4', '10'])] = 'Myonuclei'"
   ]
  },
  {
   "cell_type": "code",
   "execution_count": null,
   "metadata": {},
   "outputs": [],
   "source": [
    "# 7, 9 Neural cells\n",
    "genes = ['Mpz', 'Ptn']\n",
    "\n",
    "sc.pl.umap(adata_de_micheli_mouse_d0, color=['leiden'] + genes, legend_loc='on data', cmap=magma, ncols=3)\n",
    "df[adata_de_micheli_mouse_d0.obs['leiden'].isin(['15', '17'])] = 'Neural cell'"
   ]
  },
  {
   "cell_type": "code",
   "execution_count": null,
   "metadata": {},
   "outputs": [],
   "source": [
    "# 5 Immune\n",
    "genes = ['H2-Aa', 'Cd74']\n",
    "\n",
    "sc.pl.umap(adata_de_micheli_mouse_d0, color=['leiden'] + genes, legend_loc='on data', cmap=magma, ncols=3)\n",
    "df[adata_de_micheli_mouse_d0.obs['leiden'].isin(['12'])] = 'Immune'"
   ]
  },
  {
   "cell_type": "code",
   "execution_count": null,
   "metadata": {},
   "outputs": [],
   "source": [
    "# 8 Satellite cells\n",
    "genes = ['Chodl', 'Pax7']\n",
    "\n",
    "sc.pl.umap(adata_de_micheli_mouse_d0, color=['leiden'] + genes, legend_loc='on data', cmap=magma, ncols=3)\n",
    "df[adata_de_micheli_mouse_d0.obs['leiden'].isin(['18'])] = 'MuSC'"
   ]
  },
  {
   "cell_type": "code",
   "execution_count": null,
   "metadata": {},
   "outputs": [],
   "source": [
    "adata_de_micheli_mouse_d0.obs['cell_type'] = df"
   ]
  },
  {
   "cell_type": "code",
   "execution_count": null,
   "metadata": {},
   "outputs": [],
   "source": [
    "adata_de_micheli_mouse_d0.uns['cell_type_colors'] = ['#c70039', '#8b008b', '#4682b4', '#006400', '#2e8b57', '#ffd700', '#8B0000', '#ff7f50']"
   ]
  },
  {
   "cell_type": "code",
   "execution_count": null,
   "metadata": {},
   "outputs": [],
   "source": [
    "sc.pl.umap(adata_de_micheli_mouse_d0, color=[ 'cell_type'])"
   ]
  },
  {
   "cell_type": "code",
   "execution_count": null,
   "metadata": {},
   "outputs": [],
   "source": [
    "sc.pl.umap(adata_de_micheli_mouse_d0, color=['leiden', 'cell_type'], legend_loc='on data', ncols=3, cmap=magma)"
   ]
  },
  {
   "cell_type": "code",
   "execution_count": null,
   "metadata": {},
   "outputs": [],
   "source": [
    "sc.pl.umap(adata_de_micheli_mouse_d0, color=['leiden'] + ['Col9a2', 'Shisa3', 'Plxdc1', 'Nipal1', '6030408B16Rik'], legend_loc='on data', cmap=magma, ncols=3)"
   ]
  },
  {
   "cell_type": "markdown",
   "metadata": {},
   "source": [
    "### Characterization of FAPs in D0"
   ]
  },
  {
   "cell_type": "code",
   "execution_count": null,
   "metadata": {},
   "outputs": [],
   "source": [
    "adata_de_micheli_mouse_d0_FAPs = adata_de_micheli_mouse_d0[adata_de_micheli_mouse_d0.obs['leiden'].isin(['0'])]"
   ]
  },
  {
   "cell_type": "code",
   "execution_count": null,
   "metadata": {},
   "outputs": [],
   "source": [
    "sc.pp.filter_genes(adata_de_micheli_mouse_d0_FAPs, min_cells=1)\n",
    "tk.tl.triku(adata_de_micheli_mouse_d0_FAPs, n_procs=1, random_state=seed)\n",
    "sc.pp.pca(adata_de_micheli_mouse_d0_FAPs, random_state=seed, n_comps=30)\n",
    "sce.pp.bbknn(adata_de_micheli_mouse_d0_FAPs, metric='angular')"
   ]
  },
  {
   "cell_type": "code",
   "execution_count": null,
   "metadata": {},
   "outputs": [],
   "source": [
    "# del adata_oprescu_d0_FAPs.uns['leiden_colors']\n",
    "sc.tl.umap(adata_de_micheli_mouse_d0_FAPs, min_dist=0.05, random_state=seed)\n",
    "sc.tl.leiden(adata_de_micheli_mouse_d0_FAPs, resolution=1, random_state=seed)\n",
    "sc.pl.umap(adata_de_micheli_mouse_d0_FAPs, color=['leiden', 'batch'], legend_loc='on data')"
   ]
  },
  {
   "cell_type": "code",
   "execution_count": null,
   "metadata": {},
   "outputs": [],
   "source": [
    "sc.pl.umap(adata_de_micheli_mouse_d0_FAPs, color=['leiden', 'Col9a2', 'Shisa3', \n",
    "                                                         'Plxdc1', 'Nipal1', '6030408B16Rik'], cmap=magma, legend_loc='on data')"
   ]
  },
  {
   "cell_type": "code",
   "execution_count": null,
   "metadata": {},
   "outputs": [],
   "source": [
    "adata_de_micheli_mouse_d0.uns['leiden_FAP_colors'] = adata_de_micheli_mouse_d0_FAPs.uns['leiden_colors']\n"
   ]
  },
  {
   "cell_type": "code",
   "execution_count": null,
   "metadata": {},
   "outputs": [],
   "source": [
    "adata_de_micheli_mouse_d0.obs['leiden_FAP'] = '-'\n",
    "adata_de_micheli_mouse_d0.obs['leiden_FAP'] = adata_de_micheli_mouse_d0_FAPs.obs['leiden']\n",
    "adata_de_micheli_mouse_d0.obs['leiden_FAP'] = adata_de_micheli_mouse_d0.obs['leiden_FAP'].astype(str)\n",
    "\n",
    "sc.pl.umap(adata_de_micheli_mouse_d0, color=['leiden', 'leiden_FAP'], legend_loc='on data', ncols=3, cmap=magma)\n",
    "sc.pl.umap(adata_de_micheli_mouse_d0[adata_de_micheli_mouse_d0.obs.leiden == '0'], color=['leiden_FAP'], legend_loc='on data', ncols=3, cmap=magma)"
   ]
  },
  {
   "cell_type": "code",
   "execution_count": null,
   "metadata": {},
   "outputs": [],
   "source": [
    "sc.tl.rank_genes_groups(adata_de_micheli_mouse_d0_FAPs, groupby='leiden', method='wilcoxon', n_genes=150)\n",
    "sc.pl.rank_genes_groups_tracksplot(adata_de_micheli_mouse_d0_FAPs, n_genes=150, dendrogram=False)"
   ]
  },
  {
   "cell_type": "markdown",
   "metadata": {},
   "source": [
    "# De Micheli et al 2020 (human)\n",
    "\n",
    "This is a human dataset, consisting of 10 patients. To remove batch effects, we will directly run kallisto in all samples at once, and then run the analysis on them."
   ]
  },
  {
   "cell_type": "code",
   "execution_count": null,
   "metadata": {},
   "outputs": [],
   "source": [
    "de_micheli_dir = os.getcwd() + '/data/demicheli'\n",
    "os.makedirs(de_micheli_dir, exist_ok=True)"
   ]
  },
  {
   "cell_type": "code",
   "execution_count": null,
   "metadata": {},
   "outputs": [],
   "source": [
    "SRA_list = \"\"\"\n",
    "SRR10897760\n",
    "SRR10897761\n",
    "SRR10897762\n",
    "SRR10897763\n",
    "SRR10897764\n",
    "SRR10897765\n",
    "SRR10897766\n",
    "SRR10897767\n",
    "SRR10897768\n",
    "SRR10897769\n",
    "\"\"\"\n",
    "\n",
    "with open(de_micheli_dir + '/accession.txt', 'w') as f:\n",
    "    f.write(SRA_list)\n",
    "    \n",
    "df = pd.DataFrame({'name': ['de_micheli'], 'technology': ['10xv3'], 'targetnumcells': [5000]})\n",
    "\n",
    "df.to_csv(de_micheli_dir + '/metadata.tab', sep='\\t', index=None)"
   ]
  },
  {
   "cell_type": "code",
   "execution_count": null,
   "metadata": {},
   "outputs": [],
   "source": [
    "!fastq-dump SRR10897768 --split-files --gzip  # This is just one. Run from 60 to 69"
   ]
  },
  {
   "cell_type": "code",
   "execution_count": null,
   "metadata": {},
   "outputs": [],
   "source": [
    "from time import sleep"
   ]
  },
  {
   "cell_type": "code",
   "execution_count": null,
   "metadata": {},
   "outputs": [],
   "source": [
    "sleep(3600 * 4)\n",
    "for SRA_idx, SRA in enumerate(SRA_list.split('\\n')[1:-1]):\n",
    "    os.rename(de_micheli_dir + f'/{SRA}_2.fastq.gz', \n",
    "              de_micheli_dir + f'/de_micheli_L00{SRA_idx+1}_R1_001.fastq.gz')\n",
    "    os.rename(de_micheli_dir + f'/{SRA}_3.fastq.gz', \n",
    "              de_micheli_dir + f'/de_micheli_L00{SRA_idx+1}_R2_001.fastq.gz')"
   ]
  },
  {
   "cell_type": "code",
   "execution_count": null,
   "metadata": {},
   "outputs": [],
   "source": [
    "!loompy fromfq {de_micheli_dir}/de_micheli.loom de_micheli /media/seth/SETH_DATA/SETH_Alex/Programs/human_GRCh38_gencode.v31.600 {de_micheli_dir}/metadata.tab \\\n",
    "{de_micheli_dir}/de_micheli_L001_R1_001.fastq.gz {de_micheli_dir}/de_micheli_L001_R2_001.fastq.gz \\\n",
    "{de_micheli_dir}/de_micheli_L002_R1_001.fastq.gz {de_micheli_dir}/de_micheli_L002_R2_001.fastq.gz \\\n",
    "{de_micheli_dir}/de_micheli_L003_R1_001.fastq.gz {de_micheli_dir}/de_micheli_L003_R2_001.fastq.gz \\\n",
    "{de_micheli_dir}/de_micheli_L004_R1_001.fastq.gz {de_micheli_dir}/de_micheli_L004_R2_001.fastq.gz \\\n",
    "{de_micheli_dir}/de_micheli_L005_R1_001.fastq.gz {de_micheli_dir}/de_micheli_L005_R2_001.fastq.gz \\\n",
    "{de_micheli_dir}/de_micheli_L006_R1_001.fastq.gz {de_micheli_dir}/de_micheli_L006_R2_001.fastq.gz \\\n",
    "{de_micheli_dir}/de_micheli_L007_R1_001.fastq.gz {de_micheli_dir}/de_micheli_L007_R2_001.fastq.gz \\\n",
    "{de_micheli_dir}/de_micheli_L008_R1_001.fastq.gz {de_micheli_dir}/de_micheli_L008_R2_001.fastq.gz \\\n",
    "{de_micheli_dir}/de_micheli_L009_R1_001.fastq.gz {de_micheli_dir}/de_micheli_L009_R2_001.fastq.gz \\\n",
    "{de_micheli_dir}/de_micheli_L0010_R1_001.fastq.gz {de_micheli_dir}/de_micheli_L0010_R2_001.fastq.gz "
   ]
  },
  {
   "cell_type": "markdown",
   "metadata": {},
   "source": [
    "We will also load the matrix file because it contains the batches, and it will be useful for us to \n",
    "label some of the batches and map them later on. This will help us remove possible small spurious clusters."
   ]
  },
  {
   "cell_type": "code",
   "execution_count": null,
   "metadata": {},
   "outputs": [],
   "source": [
    "link = 'https://ftp.ncbi.nlm.nih.gov/geo/series/GSE143nnn/GSE143704/suppl/GSE143704%5FDeMicheli%5FHumanMuscleAtlas%5Frawdata%2Etxt%2Egz'"
   ]
  },
  {
   "cell_type": "code",
   "execution_count": null,
   "metadata": {},
   "outputs": [],
   "source": [
    "!wget {link} -P {data_dir}/demicheli"
   ]
  },
  {
   "cell_type": "markdown",
   "metadata": {},
   "source": [
    "## Adata load and preprocessing"
   ]
  },
  {
   "cell_type": "code",
   "execution_count": null,
   "metadata": {},
   "outputs": [],
   "source": [
    "adata_de_micheli_batch = sc.read_text(data_dir+'/demicheli/GSE143704_DeMicheli_HumanMuscleAtlas_rawdata.txt.gz').transpose()"
   ]
  },
  {
   "cell_type": "code",
   "execution_count": null,
   "metadata": {},
   "outputs": [],
   "source": [
    "adata_de_micheli_batch.obs['batch'] = [i.split('_')[1] for i in adata_de_micheli_batch.obs_names]"
   ]
  },
  {
   "cell_type": "code",
   "execution_count": null,
   "metadata": {},
   "outputs": [],
   "source": [
    "adata_de_micheli = sc.read_loom(de_micheli_dir + '/de_micheli.loom')\n",
    "adata_de_micheli.var_names_make_unique()"
   ]
  },
  {
   "cell_type": "code",
   "execution_count": null,
   "metadata": {},
   "outputs": [],
   "source": [
    "# Basic QC filtering\n",
    "adata_de_micheli.var['mt'] = adata_de_micheli.var_names.str.startswith('MT-')  # annotate the group of mitochondrial genes as 'mt'\n",
    "sc.pp.calculate_qc_metrics(adata_de_micheli, qc_vars=['mt'], percent_top=None, inplace=True)"
   ]
  },
  {
   "cell_type": "code",
   "execution_count": null,
   "metadata": {},
   "outputs": [],
   "source": [
    "sc.pl.violin(adata_de_micheli, ['n_genes_by_counts', 'total_counts', 'pct_counts_mt'],\n",
    "             jitter=0.4, multi_panel=True)\n",
    "\n",
    "sc.pl.scatter(adata_de_micheli, x='n_genes_by_counts', y='pct_counts_mt')\n",
    "sc.pl.scatter(adata_de_micheli, x='total_counts', y='n_genes_by_counts')"
   ]
  },
  {
   "cell_type": "code",
   "execution_count": null,
   "metadata": {},
   "outputs": [],
   "source": [
    "adata_de_micheli = adata_de_micheli[adata_de_micheli.obs.n_genes_by_counts < 3500, :]\n",
    "adata_de_micheli = adata_de_micheli[adata_de_micheli.obs.total_counts < 15000, :]\n",
    "adata_de_micheli = adata_de_micheli[adata_de_micheli.obs.pct_counts_mt < 80, :]\n",
    "adata_de_micheli = adata_de_micheli[~ ((adata_de_micheli.obs.pct_counts_mt < 10) & \n",
    "                                       (adata_de_micheli.obs.pct_counts_mt < 400)), :]"
   ]
  },
  {
   "cell_type": "code",
   "execution_count": null,
   "metadata": {},
   "outputs": [],
   "source": [
    "sc.pl.violin(adata_de_micheli, ['n_genes_by_counts', 'total_counts', 'pct_counts_mt'],\n",
    "             jitter=0.4, multi_panel=True)\n",
    "\n",
    "sc.pl.scatter(adata_de_micheli, x='n_genes_by_counts', y='pct_counts_mt')\n",
    "sc.pl.scatter(adata_de_micheli, x='total_counts', y='n_genes_by_counts')"
   ]
  },
  {
   "cell_type": "code",
   "execution_count": null,
   "metadata": {},
   "outputs": [],
   "source": [
    "sc.pp.filter_genes(adata_de_micheli, min_counts=1)\n",
    "sc.pp.log1p(adata_de_micheli)\n",
    "sc.pp.normalize_total(adata_de_micheli)"
   ]
  },
  {
   "cell_type": "code",
   "execution_count": null,
   "metadata": {},
   "outputs": [],
   "source": [
    "tk.tl.triku(adata_de_micheli, n_procs=1, random_state=seed)\n",
    "sc.pp.pca(adata_de_micheli, random_state=seed, n_comps=30)\n",
    "sc.pp.neighbors(adata_de_micheli, random_state=seed, knn=len(adata_de_micheli) ** 0.5 // 2, metric='cosine')"
   ]
  },
  {
   "cell_type": "code",
   "execution_count": null,
   "metadata": {},
   "outputs": [],
   "source": [
    "sc.tl.umap(adata_de_micheli, min_dist=0.1, random_state=seed)\n",
    "sc.tl.leiden(adata_de_micheli, resolution=1, random_state=seed)\n",
    "sc.pl.umap(adata_de_micheli, color=['leiden', 'total_counts'], legend_loc='on data', ncols=1)"
   ]
  },
  {
   "cell_type": "code",
   "execution_count": null,
   "metadata": {},
   "outputs": [],
   "source": [
    "sc.pl.umap(adata_de_micheli, color=['SHISA3', 'NIPAL1', 'SAA1', 'COL9A2', 'S100B', 'GFRA2', 'CD300LG'], \n",
    "           legend_loc='on data', ncols=2, cmap=magma)"
   ]
  },
  {
   "cell_type": "code",
   "execution_count": null,
   "metadata": {},
   "outputs": [],
   "source": [
    "adata_de_micheli.obs_names = [i.split('_')[-1] for i in adata_de_micheli.obs_names]\n",
    "adata_de_micheli_batch.obs_names = [i.split('_')[-1] for i in adata_de_micheli_batch.obs_names]\n",
    "micheli_both = list(set(adata_de_micheli.obs_names) & set(adata_de_micheli_batch.obs_names))"
   ]
  },
  {
   "cell_type": "code",
   "execution_count": null,
   "metadata": {},
   "outputs": [],
   "source": [
    "len(adata_de_micheli), len(adata_de_micheli_batch), len(micheli_both)"
   ]
  },
  {
   "cell_type": "code",
   "execution_count": null,
   "metadata": {},
   "outputs": [],
   "source": [
    "adata_de_micheli_batch"
   ]
  },
  {
   "cell_type": "code",
   "execution_count": null,
   "metadata": {},
   "outputs": [],
   "source": [
    "adata_de_micheli.obs['batch'] = ['nan'] * len(adata_de_micheli)\n",
    "df_batches = adata_de_micheli_batch.obs['batch'].loc[micheli_both] \n",
    "adata_de_micheli.obs['batch'].loc[micheli_both] = df_batches[~df_batches.index.duplicated(keep='first')].astype(str)"
   ]
  },
  {
   "cell_type": "code",
   "execution_count": null,
   "metadata": {},
   "outputs": [],
   "source": [
    "sc.pl.umap(adata_de_micheli, color=['leiden', 'batch'], ncols=1)"
   ]
  },
  {
   "cell_type": "code",
   "execution_count": null,
   "metadata": {},
   "outputs": [],
   "source": [
    "sc.pl.umap(adata_de_micheli, color=['SHISA3', 'NIPAL1', 'SAA1', 'COL9A2', 'S100B', 'GFRA2', 'CD300LG'], \n",
    "           legend_loc='on data', ncols=2, cmap=magma)"
   ]
  },
  {
   "cell_type": "code",
   "execution_count": null,
   "metadata": {},
   "outputs": [],
   "source": [
    "sc.pp.pca(adata_de_micheli, random_state=seed, n_comps=30)\n",
    "sce.pp.bbknn(adata_de_micheli, metric='angular')\n",
    "tk.tl.triku(adata_de_micheli, n_procs=1, random_state=seed)"
   ]
  },
  {
   "cell_type": "code",
   "execution_count": null,
   "metadata": {},
   "outputs": [],
   "source": [
    "sc.tl.umap(adata_de_micheli, min_dist=0.1, random_state=seed)"
   ]
  },
  {
   "cell_type": "code",
   "execution_count": null,
   "metadata": {},
   "outputs": [],
   "source": [
    "sc.pl.umap(adata_de_micheli, color=['leiden', 'batch'], ncols=1, legend_loc='on data')"
   ]
  },
  {
   "cell_type": "code",
   "execution_count": null,
   "metadata": {},
   "outputs": [],
   "source": [
    "sc.tl.leiden(adata_de_micheli, resolution=2, random_state=seed)\n",
    "sc.pl.umap(adata_de_micheli, color=['leiden', 'batch', 'total_counts'], ncols=1)"
   ]
  },
  {
   "cell_type": "code",
   "execution_count": null,
   "metadata": {},
   "outputs": [],
   "source": [
    "sc.pl.umap(adata_de_micheli, color=['CSPG4', 'CD34', 'PDGFRA', 'PDGFRB', 'HLA-B', 'RGS5', 'MYL9', 'NDUFA4L2', \n",
    "                                    'PAX7', 'ACTA1', 'AIF1'], \n",
    "           legend_loc='on data', ncols=1, cmap=magma)"
   ]
  },
  {
   "cell_type": "markdown",
   "metadata": {},
   "source": [
    "# Giordani 2020"
   ]
  },
  {
   "cell_type": "code",
   "execution_count": null,
   "metadata": {},
   "outputs": [],
   "source": [
    "giordani_dir = os.getcwd() + '/data/giordani'\n",
    "os.makedirs(giordani_dir, exist_ok=True)"
   ]
  },
  {
   "cell_type": "code",
   "execution_count": null,
   "metadata": {},
   "outputs": [],
   "source": [
    "SRA_list = \"\"\"\n",
    "SRR8352705\n",
    "SRR8352706\n",
    "\"\"\"\n",
    "\n",
    "with open(giordani_dir + '/accession.txt', 'w') as f:\n",
    "    f.write(SRA_list)\n",
    "\n",
    "df = pd.DataFrame({'name': ['bamtofastq'], 'technology': ['10xv2'], 'targetnumcells': [5000]})\n",
    "\n",
    "df.to_csv(giordani_dir + '/metadata.tab', sep='\\t', index=None)"
   ]
  },
  {
   "cell_type": "code",
   "execution_count": null,
   "metadata": {},
   "outputs": [],
   "source": [
    "import time"
   ]
  },
  {
   "cell_type": "code",
   "execution_count": null,
   "metadata": {},
   "outputs": [],
   "source": [
    "time.sleep(7200)"
   ]
  },
  {
   "cell_type": "code",
   "execution_count": null,
   "metadata": {},
   "outputs": [],
   "source": [
    "!cd {giordani_dir} && aria2c -x 16 https://sra-pub-src-1.s3.amazonaws.com/SRR8352706/20180917_uninjured_wt_possorted_genome_bam.bam.1"
   ]
  },
  {
   "cell_type": "code",
   "execution_count": null,
   "metadata": {},
   "outputs": [],
   "source": [
    "!cd {giordani_dir} && aria2c -x 16 https://sra-pub-src-1.s3.amazonaws.com/SRR8352705/20171018_uninjured_wt_possorted_genome_bam.bam.1"
   ]
  },
  {
   "cell_type": "code",
   "execution_count": null,
   "metadata": {},
   "outputs": [],
   "source": [
    "program_dir = '/media/seth/SETH_DATA/SETH_Alex/Programs/'"
   ]
  },
  {
   "cell_type": "code",
   "execution_count": null,
   "metadata": {},
   "outputs": [],
   "source": [
    "!cd {program_dir} && bamtofastq-1.3.2 {giordani_dir}/20171018_uninjured_wt_possorted_genome_bam.bam.1 {giordani_dir}"
   ]
  },
  {
   "cell_type": "code",
   "execution_count": null,
   "metadata": {},
   "outputs": [],
   "source": [
    "!cd {program_dir} && bamtofastq-1.3.2 {giordani_dir}/20180917_uninjured_wt_possorted_genome_bam.bam.1.1 {giordani_dir}"
   ]
  },
  {
   "cell_type": "code",
   "execution_count": null,
   "metadata": {},
   "outputs": [],
   "source": [
    "bamdata_str_20171018 = ''\n",
    "for ROOT, DIR, FILES in os.walk(giordani_dir + f'/bam_20171018'):\n",
    "    for R1_file in FILES:\n",
    "        if \"_R1_\" in R1_file:\n",
    "            R2_file = R1_file.replace('_R1_', '_R2_')\n",
    "            bamdata_str_20171018 += f\"{ROOT}/{R1_file} {ROOT}/{R2_file} \"\n",
    "\n",
    "bamdata_str_20180917 = ''\n",
    "for ROOT, DIR, FILES in os.walk(giordani_dir + f'/bam_20180917'):\n",
    "    for R1_file in FILES:\n",
    "        if \"_R1_\" in R1_file:\n",
    "            R2_file = R1_file.replace('_R1_', '_R2_')\n",
    "            bamdata_str_20180917 += f\"{ROOT}/{R1_file} {ROOT}/{R2_file} \"\n"
   ]
  },
  {
   "cell_type": "code",
   "execution_count": null,
   "metadata": {},
   "outputs": [],
   "source": [
    "!loompy fromfq {giordani_dir}/giordani_20171018.loom bamtofastq /media/seth/SETH_DATA/SETH_Alex/Programs/mouse_GRCm38_gencode.v31 {giordani_dir}/metadata.tab {bamdata_str_20171018}"
   ]
  },
  {
   "cell_type": "code",
   "execution_count": null,
   "metadata": {},
   "outputs": [],
   "source": [
    "!loompy fromfq {giordani_dir}/giordani_20180917.loom bamtofastq /media/seth/SETH_DATA/SETH_Alex/Programs/mouse_GRCm38_gencode.v31 {giordani_dir}/metadata.tab {bamdata_str_20180917}"
   ]
  },
  {
   "cell_type": "code",
   "execution_count": null,
   "metadata": {},
   "outputs": [],
   "source": [
    "adata_giordani_20180917 = sc.read_loom(data_dir+'/giordani/giordani_20180917.loom')\n",
    "adata_giordani_20180917.var_names_make_unique()\n",
    "adata_giordani_20171018 = sc.read_loom(data_dir+'/giordani/giordani_20171018.loom')\n",
    "adata_giordani_20171018.var_names_make_unique()"
   ]
  },
  {
   "cell_type": "code",
   "execution_count": null,
   "metadata": {},
   "outputs": [],
   "source": [
    "adata_giordani = sc.AnnData.concatenate(adata_giordani_20180917, adata_giordani_20171018)"
   ]
  },
  {
   "cell_type": "code",
   "execution_count": null,
   "metadata": {},
   "outputs": [],
   "source": [
    "# Basic QC filtering\n",
    "adata_giordani.var['mt'] = adata_giordani.var_names.str.startswith('mt-')  # annotate the group of mitochondrial genes as 'mt'\n",
    "sc.pp.calculate_qc_metrics(adata_giordani, qc_vars=['mt'], percent_top=None, inplace=True)"
   ]
  },
  {
   "cell_type": "code",
   "execution_count": null,
   "metadata": {},
   "outputs": [],
   "source": [
    "len(np.sum(adata_giordani.X.todense(), 1).ravel().tolist()[0])"
   ]
  },
  {
   "cell_type": "code",
   "execution_count": null,
   "metadata": {},
   "outputs": [],
   "source": [
    "h = plt.hist(np.sum(adata_giordani.X.todense(), 1).ravel().tolist()[0], bins=100)"
   ]
  },
  {
   "cell_type": "code",
   "execution_count": null,
   "metadata": {},
   "outputs": [],
   "source": [
    "h = plt.hist(np.sum(adata_giordani.X.todense(), 0).ravel().tolist()[0], bins=10)"
   ]
  },
  {
   "cell_type": "code",
   "execution_count": null,
   "metadata": {},
   "outputs": [],
   "source": [
    "sc.pl.violin(adata_giordani, ['n_genes_by_counts', 'total_counts', 'pct_counts_mt'],\n",
    "             jitter=0.4, multi_panel=True)\n",
    "\n",
    "sc.pl.scatter(adata_giordani, x='total_counts', y='pct_counts_mt')\n",
    "sc.pl.scatter(adata_giordani, x='total_counts', y='n_genes_by_counts', color='batch')"
   ]
  },
  {
   "cell_type": "code",
   "execution_count": null,
   "metadata": {},
   "outputs": [],
   "source": [
    "sc.pp.filter_cells(adata_giordani, min_genes=450)\n",
    "sc.pp.filter_genes(adata_giordani, min_cells=1)\n",
    "adata_giordani = adata_giordani[adata_giordani.obs['pct_counts_mt'] < 15]"
   ]
  },
  {
   "cell_type": "code",
   "execution_count": null,
   "metadata": {},
   "outputs": [],
   "source": [
    "sc.pp.filter_genes(adata_giordani, min_cells=1)\n",
    "sc.pp.log1p(adata_giordani)\n",
    "sc.pp.normalize_per_cell(adata_giordani)"
   ]
  },
  {
   "cell_type": "code",
   "execution_count": null,
   "metadata": {},
   "outputs": [],
   "source": [
    "tk.tl.triku(adata_giordani, n_procs=1, random_state=seed)\n",
    "sc.pp.pca(adata_giordani, random_state=seed, n_comps=30)\n",
    "sc.pp.neighbors(adata_giordani, random_state=seed, knn=len(adata_giordani) ** 0.5 // 2, metric='cosine')"
   ]
  },
  {
   "cell_type": "code",
   "execution_count": null,
   "metadata": {},
   "outputs": [],
   "source": [
    "sc.tl.umap(adata_giordani, min_dist=0.3, random_state=seed)\n",
    "sc.tl.leiden(adata_giordani, resolution=1.3, random_state=seed)\n",
    "sc.pl.umap(adata_giordani, color=['leiden', 'batch', 'n_genes_by_counts'], legend_loc='on data')"
   ]
  },
  {
   "cell_type": "code",
   "execution_count": null,
   "metadata": {},
   "outputs": [],
   "source": [
    "sc.pl.umap(adata_giordani, color=['leiden', 'Col9a2', 'Shisa3', 'Smim41', 'S100b', 'Sox10'], legend_loc='on data', cmap=magma)"
   ]
  },
  {
   "cell_type": "code",
   "execution_count": null,
   "metadata": {},
   "outputs": [],
   "source": [
    "B_markers = ['Crabp2', 'Dleu7', 'Efnb3', 'Gjb5', 'Grin2b', 'Itgb4', 'Kcnj13', \n",
    "             'Kcnj2', 'Lgals7', 'Lypd2', 'Mansc4', 'Moxd1', 'Mpzl2', 'Perp', 'Prodh', 'Ptch1', \n",
    "             'Slc6a13', 'Stra6', 'Tec', 'Tenm2', 'Wnt10a', 'Wnt6', 'Mpz']\n",
    "\n",
    "sc.pl.umap(adata_giordani, color=[i for i in B_markers if i in adata_giordani.var_names], legend_loc='on data', cmap=magma)"
   ]
  },
  {
   "cell_type": "markdown",
   "metadata": {},
   "source": [
    "# Determining CD34 / Sox10 / S100 / Col9a2 / Shisa3 populations, and their transmembrane markers\n",
    "\n",
    "When analysing populations we have observed two/three different patterns of cells based on these 5 markers:\n",
    "* (A) CD34$^+$/S100$^+$/**Sox10**$^-$/Shisa3$^+$/**Col9a2**$^+$ populations. ***These populations are FAP-like cells.***\n",
    "* (B) CD34$^+$/S100$^+$/**Sox10**$^+$/Shisa3$^+$?/**Col9a2**$^-$ populations. ***These are Schwann-like cells.***\n",
    "* (C) CD34$^+$/**S100**$^-$/**Sox10**$^-$/Shisa3$^+$/**Col9a2**$^+$ populations. We will ignore these cells so far.\n",
    "\n",
    "In this section we are going to isolate these populations and characterize them. In Scott et al. only the Sox10$^-$ / Col9a2$^+$ is available.\n",
    "\n",
    "**How will we work in this section?**\n",
    "We are going to run DEGs on each of the possible populations (A, B, C) and get the first 700 DEGs from the \n",
    "analysis, for each group. DEGs will be manually filtered on a first screening from the tracksplot. \n",
    "After that, we will filter out some of these genes based on the UMAPs: if a gene is too widely expressed or is not really specific for the cluster of interest (it can be for more than 1 cluster from A, B, or C), it *must* be excluded. From there, we will create a more refined version of the list of markers.\n",
    "\n",
    "Then, we will run each marker list against the rest of datasets, in case some gene has gone unnoticed and is coexpressed in other datasets. Marker lists will be updated accordingly. For example, if marker X was not detected (or was skipped) for De Micheli dataset but it was detected in Oprescu, and it is expressed in both according to the criteria, marker X will be added to a general marker list. With this method we will get a list of markers for each cluster in each dataset."
   ]
  },
  {
   "cell_type": "markdown",
   "metadata": {},
   "source": [
    "## Oprescu\n",
    "\n",
    "In this UMAP we would be interested in clusters 23 and 29, which have Col9a2 and Shisa3 expression. From cluster 29, only a few cells are interesting, and we will keep them."
   ]
  },
  {
   "cell_type": "code",
   "execution_count": null,
   "metadata": {},
   "outputs": [],
   "source": [
    "sc.pl.umap(adata_oprescu_d0, color=['leiden', 'Cd34', 'Sox10', 'S100b', 'Col9a2', 'Shisa3', 'Mpz', 'Ptn'], \n",
    "           cmap=magma, ncols=2, legend_loc='on data')"
   ]
  },
  {
   "cell_type": "code",
   "execution_count": null,
   "metadata": {},
   "outputs": [],
   "source": [
    "adata_oprescu_d0_sub = adata_oprescu_d0[adata_oprescu_d0.obs['leiden'].isin(['23', '29'])].copy()"
   ]
  },
  {
   "cell_type": "code",
   "execution_count": null,
   "metadata": {},
   "outputs": [],
   "source": [
    "sc.pp.filter_genes(adata_oprescu_d0_sub, min_cells=1)\n",
    "tk.tl.triku(adata_oprescu_d0_sub, n_procs=1, random_state=seed)\n",
    "sc.pp.pca(adata_oprescu_d0_sub, random_state=seed, n_comps=30)\n",
    "sc.pp.neighbors(adata_oprescu_d0_sub, random_state=seed, knn=len(adata_oprescu_d0_sub) ** 0.5 // 2, metric='cosine')"
   ]
  },
  {
   "cell_type": "markdown",
   "metadata": {},
   "source": [
    "After cluster isolation, we reject cluster 2 because it is negative for Col9a2, Shisa3, Sox10 and S100b. From that set, we will discern the clusters 0+1 as the type A kranocytes (Sox10$^-$/Col9a2$^+$/S100$^+$), cluster 3 (partially) (Sox10$^+$/Col9a2$^-$/S100$^+$) as the type B kranocytes and cluster 4 (Sox10$^-$/Col9a2$^+$/S100$^-$) as the type C."
   ]
  },
  {
   "cell_type": "code",
   "execution_count": null,
   "metadata": {},
   "outputs": [],
   "source": [
    "sc.tl.umap(adata_oprescu_d0_sub, min_dist=0.2, random_state=seed)\n",
    "sc.tl.leiden(adata_oprescu_d0_sub, resolution=1, random_state=seed, key_added='leiden_sub')\n",
    "sc.pl.umap(adata_oprescu_d0_sub, color=['leiden', 'leiden_sub', 'Cd34', 'Sox10', 'S100b', \n",
    "                                        'Col9a2', 'Shisa3', 'Mpz'], cmap=magma, legend_loc='on data', ncols=3)"
   ]
  },
  {
   "cell_type": "code",
   "execution_count": null,
   "metadata": {},
   "outputs": [],
   "source": [
    "adata_oprescu_d0.obs['Krano_type'] = 'Other'\n",
    "adata_oprescu_d0.obs['Krano_type'].loc[adata_oprescu_d0_sub[adata_oprescu_d0_sub.obs['leiden_sub'].isin(['0', '1'])].obs_names.values] = 'A'\n",
    "adata_oprescu_d0.obs['Krano_type'].loc[adata_oprescu_d0_sub[adata_oprescu_d0_sub.obs['leiden_sub'].isin(['3'])].obs_names.values] = 'B'\n",
    "adata_oprescu_d0.obs['Krano_type'].loc[adata_oprescu_d0_sub[adata_oprescu_d0_sub.obs['leiden_sub'].isin(['4'])].obs_names.values] = 'C'\n",
    "adata_oprescu_d0.uns['Krano_type_colors'] = [\"#007ab7\", \"#b7007a\", \"#e3b10f\", \"#bcbcbc\",]"
   ]
  },
  {
   "cell_type": "code",
   "execution_count": null,
   "metadata": {},
   "outputs": [],
   "source": [
    "sc.pl.umap(adata_oprescu_d0, color=['Krano_type'], cmap=magma, ncols=2)"
   ]
  },
  {
   "cell_type": "code",
   "execution_count": null,
   "metadata": {},
   "outputs": [],
   "source": [
    "sc.tl.rank_genes_groups(adata_oprescu_d0, groupby='Krano_type',groups=['A', 'B', 'C'], reference='rest')\n",
    "sc.pl.rank_genes_groups_tracksplot(adata_oprescu_d0, dendrogram=False, n_genes=700, )"
   ]
  },
  {
   "cell_type": "code",
   "execution_count": null,
   "metadata": {},
   "outputs": [],
   "source": [
    "markers_A_oprescu = ['6030408B16Rik', 'Agt', 'Arhgdig', \n",
    "                     'Cd300lg', 'Cd38', 'Cdh19', 'Cdkn2b', 'Ch25h', 'Col26a1', 'Col9a2', \n",
    "                     'Dlk1', 'Fetub', 'Gfra2', 'Gli1',  'Gm11681', 'Greb1', 'Gria1', 'Grin2b', \n",
    "                     'Kank4', 'Kcnb2', 'Mpzl2', 'Ngfr', 'Nipal1', 'Plxdc1', 'Rasgrp2', 'Reln', \n",
    "                     'Saa1', 'Sdc3', 'Shisa3', 'Sipa1l1', 'Sox9', 'Tenm2', 'Trpm6', ]\n",
    "\n",
    "markers_B_oprescu = ['9530059O14Rik', 'Aatk', 'Cldn19', 'Cmtm5', 'Ddn', 'Dusp15', 'Elovl7', \n",
    "                     'Ephb6', 'Fa2h', 'Fxyd3', 'Gjb1', 'Gjc3', 'Gpr37l1', 'Hepacam', \n",
    "                     'Kcna1', 'Kcnk1', 'Kif1a', 'Mag', 'Mal', 'Mansc4', 'Moxd1', 'Mpz', 'Mt3', 'Nes', \n",
    "                     'Pllp', 'Plp1', 'Pou3f1', 'Prx', 'Rimklb', 'S100b', 'Sbspon', \n",
    "                     'Sfrp5', 'Slc36a2', 'Slco4a1', 'Smco3', 'Snca', 'Sox10',  \n",
    "                     'Tenm2', 'Tspan15', 'Ugt8a', 'Vat1l', 'Wnt10a', 'Wnt6', ]\n",
    "\n",
    "markers_C_oprescu = ['Ano1', 'Cdkn2a', 'Cdkn2b', 'Clic6', 'Col9a2', 'Gjb5', 'Nipal1', \n",
    "                     'Rasgrf2', 'Shisa3', 'Spata18', 'Tenm2', ]"
   ]
  },
  {
   "cell_type": "code",
   "execution_count": null,
   "metadata": {
    "scrolled": true
   },
   "outputs": [],
   "source": [
    "sc.pl.umap(adata_oprescu_d0, color=['Krano_type'] + markers_B_oprescu, \n",
    "           cmap=magma, ncols=3, legend_loc='on data')"
   ]
  },
  {
   "cell_type": "markdown",
   "metadata": {},
   "source": [
    "## Scott"
   ]
  },
  {
   "cell_type": "markdown",
   "metadata": {},
   "source": [
    "In this dataset type A kranos appear (Sox10$^+$/Col9a2$^-$/S100$^+$) merged at the bottom of cluster 6, and top of 13. We will simply isolate them. Also, type B kranos appear at the bottom of the cluster 17."
   ]
  },
  {
   "cell_type": "code",
   "execution_count": null,
   "metadata": {},
   "outputs": [],
   "source": [
    "sc.pl.umap(adata_scott_d0, color=['leiden', 'Cd34', 'Sox10', 'S100b', 'Col9a2', 'Shisa3', 'Ptn'], \n",
    "           cmap=magma, ncols=2, legend_loc='on data')"
   ]
  },
  {
   "cell_type": "code",
   "execution_count": null,
   "metadata": {},
   "outputs": [],
   "source": [
    "adata_scott_d0_sub = adata_scott_d0[adata_scott_d0.obs['leiden'].isin(['6', '17'])].copy()"
   ]
  },
  {
   "cell_type": "code",
   "execution_count": null,
   "metadata": {},
   "outputs": [],
   "source": [
    "sc.pp.filter_genes(adata_scott_d0_sub, min_cells=1)\n",
    "tk.tl.triku(adata_scott_d0_sub, n_procs=1, random_state=seed)\n",
    "sc.pp.pca(adata_scott_d0_sub, random_state=seed, n_comps=30)\n",
    "sc.pp.neighbors(adata_scott_d0_sub, random_state=seed, knn=len(adata_scott_d0_sub) ** 0.5 // 2, metric='cosine')"
   ]
  },
  {
   "cell_type": "markdown",
   "metadata": {},
   "source": [
    "When selectiong clusters 6 and 17 from the dataset, the new clustering shows that most of the cells of interest are located in cluster 6 (B) and clusters 5 and 7 (A). It is true that it is not exactly like that (part of cluster 6 should belong to A) but I cannot further subdivided some clusters."
   ]
  },
  {
   "cell_type": "code",
   "execution_count": null,
   "metadata": {},
   "outputs": [],
   "source": [
    "sc.tl.umap(adata_scott_d0_sub, min_dist=0.05, random_state=seed)\n",
    "sc.tl.leiden(adata_scott_d0_sub, resolution=1.5, random_state=seed, key_added='leiden_sub')\n",
    "sc.pl.umap(adata_scott_d0_sub, color=['leiden', 'leiden_sub', 'Cd34', 'S100b', \n",
    "                                        'Col9a2', 'Shisa3', 'Lypd2', 'Itgb4'], cmap=magma, legend_loc='on data', ncols=3)"
   ]
  },
  {
   "cell_type": "code",
   "execution_count": null,
   "metadata": {},
   "outputs": [],
   "source": [
    "adata_scott_d0.obs['Krano_type'] = 'Other'\n",
    "adata_scott_d0.obs['Krano_type'].loc[adata_scott_d0_sub[adata_scott_d0_sub.obs['leiden_sub'].isin(['5', '7'])].obs_names.values] = 'A'\n",
    "adata_scott_d0.obs['Krano_type'].loc[adata_scott_d0_sub[adata_scott_d0_sub.obs['leiden_sub'].isin(['6'])].obs_names.values] = 'B'\n",
    "adata_scott_d0.uns['Krano_type_colors'] = [\"#007ab7\", \"#b7007a\", \"#bcbcbc\"]"
   ]
  },
  {
   "cell_type": "code",
   "execution_count": null,
   "metadata": {},
   "outputs": [],
   "source": [
    "sc.pl.umap(adata_scott_d0, color=['Krano_type'], cmap=magma, ncols=2)"
   ]
  },
  {
   "cell_type": "code",
   "execution_count": null,
   "metadata": {},
   "outputs": [],
   "source": [
    "sc.tl.rank_genes_groups(adata_scott_d0, groupby='Krano_type',groups=['A', 'B'], reference='rest')\n",
    "sc.pl.rank_genes_groups_tracksplot(adata_scott_d0, dendrogram=False, n_genes=700, )"
   ]
  },
  {
   "cell_type": "code",
   "execution_count": null,
   "metadata": {},
   "outputs": [],
   "source": [
    "markers_A_scott = ['6030408B16Rik', 'Adamtsl2', 'Aspa', 'Col9a2',  'Dlk1', 'Fam213a', \n",
    "                   'Gm3336', 'Gprasp2', 'Grin2b', 'Hmgcs2', 'Kcnk2', 'Pla2g7', 'Plxnc1', \n",
    "                   'Rgs17', 'Saa1', 'Sbspon', 'Shisa3', 'Sipa1l1', 'Slc27a1', 'Stra6', \n",
    "                   'Thrsp', 'Trpm6',  ]\n",
    "\n",
    "markers_B_scott = ['Col23a1', 'Itga6', 'Itgb4', 'Lypd2', 'Moxd1', 'Mpzl2', 'Perp', 'Prodh', \n",
    "                   'Ptch1', 'Slc2a1', 'Sostdc1', 'Tenm2',]"
   ]
  },
  {
   "cell_type": "code",
   "execution_count": null,
   "metadata": {
    "scrolled": true
   },
   "outputs": [],
   "source": [
    "sc.pl.umap(adata_scott_d0, color=['Krano_type'] + markers_A_scott, \n",
    "           cmap=magma, ncols=3, legend_loc='on data')"
   ]
  },
  {
   "cell_type": "markdown",
   "metadata": {},
   "source": [
    "## De Micheli"
   ]
  },
  {
   "cell_type": "markdown",
   "metadata": {},
   "source": [
    "In this dataset we seem to find the type A (Sox10$^-$/Col9a2$^+$/S100$^+$) within clusters 2 and 6 (we assume they are S100$^+$ because there is a general low expression within the clusters), and a set of cells near cluster 15 (Sox10$^+$/Col9a2$^-$/S100$^+$) as the type B kranocytes. Clusters 15 and 17 are, respectively, Schwann and Neural/Glial cells. However, the cells near the Schwann cluster are Cd34$^+$, Shisa3$^+$ and have a smaller expression of Sox10 and Mpz, which might be indicative of another type of cell type, related to a Schwann cell. These findings are more or less consistent with the B type from Oprescu and Scott."
   ]
  },
  {
   "cell_type": "code",
   "execution_count": null,
   "metadata": {},
   "outputs": [],
   "source": [
    "sc.pl.umap(adata_de_micheli_mouse_d0, color=['leiden', 'Cd34', 'Sox10', 'S100b', 'Col9a2', 'Shisa3', \n",
    "                                             'Mpz', 'Ptn'], \n",
    "           cmap=magma, ncols=2, legend_loc='on data')"
   ]
  },
  {
   "cell_type": "code",
   "execution_count": null,
   "metadata": {},
   "outputs": [],
   "source": [
    "adata_de_micheli_mouse_d0_sub = adata_de_micheli_mouse_d0[adata_de_micheli_mouse_d0.obs['leiden'].isin(['2', '6', '15', '17'])].copy()"
   ]
  },
  {
   "cell_type": "code",
   "execution_count": null,
   "metadata": {},
   "outputs": [],
   "source": [
    "sc.pp.filter_genes(adata_de_micheli_mouse_d0_sub, min_cells=1)\n",
    "tk.tl.triku(adata_de_micheli_mouse_d0_sub, n_procs=1, random_state=seed)\n",
    "sc.pp.pca(adata_de_micheli_mouse_d0_sub, random_state=seed, n_comps=30)\n",
    "sc.pp.neighbors(adata_de_micheli_mouse_d0_sub, random_state=seed, knn=len(adata_de_micheli_mouse_d0_sub) ** 0.5 // 2, metric='cosine')"
   ]
  },
  {
   "cell_type": "markdown",
   "metadata": {},
   "source": [
    "After reclustering, we see that subcluster 5 are the type A kranocytes, while subcluster 8 are the type B kranocytes."
   ]
  },
  {
   "cell_type": "code",
   "execution_count": null,
   "metadata": {},
   "outputs": [],
   "source": [
    "sc.tl.umap(adata_de_micheli_mouse_d0_sub, min_dist=0.2, random_state=seed)\n",
    "sc.tl.leiden(adata_de_micheli_mouse_d0_sub, resolution=1.3, random_state=seed, key_added='leiden_sub')\n",
    "sc.pl.umap(adata_de_micheli_mouse_d0_sub, color=['leiden', 'leiden_sub', 'Cd34', 'Sox10', 'S100b', \n",
    "                                        'Col9a2', 'Shisa3'], cmap=magma, legend_loc='on data', ncols=3)"
   ]
  },
  {
   "cell_type": "code",
   "execution_count": null,
   "metadata": {},
   "outputs": [],
   "source": [
    "adata_de_micheli_mouse_d0.obs['Krano_type'] = 'Other'\n",
    "adata_de_micheli_mouse_d0.obs['Krano_type'].loc[adata_de_micheli_mouse_d0_sub[adata_de_micheli_mouse_d0_sub.obs['leiden_sub'].isin(['5'])].obs_names.values] = 'A'\n",
    "adata_de_micheli_mouse_d0.obs['Krano_type'].loc[adata_de_micheli_mouse_d0_sub[adata_de_micheli_mouse_d0_sub.obs['leiden_sub'].isin(['8'])].obs_names.values] = 'B'\n",
    "adata_de_micheli_mouse_d0.uns['Krano_type_colors'] = [\"#007ab7\", \"#b7007a\", \"#bcbcbc\"]"
   ]
  },
  {
   "cell_type": "code",
   "execution_count": null,
   "metadata": {},
   "outputs": [],
   "source": [
    "sc.pl.umap(adata_de_micheli_mouse_d0, color=['Krano_type'], cmap=magma, ncols=2)"
   ]
  },
  {
   "cell_type": "code",
   "execution_count": null,
   "metadata": {},
   "outputs": [],
   "source": [
    "sc.tl.rank_genes_groups(adata_de_micheli_mouse_d0, groupby='Krano_type',groups=['A', 'B'], reference='rest')\n",
    "sc.pl.rank_genes_groups_tracksplot(adata_de_micheli_mouse_d0, dendrogram=False, n_genes=700, )"
   ]
  },
  {
   "cell_type": "code",
   "execution_count": null,
   "metadata": {},
   "outputs": [],
   "source": [
    "markers_A_de_micheli = ['6030408B16Rik', 'Adamtsl2', 'Bmp7', 'Capn6', \n",
    "                        'Col18a1', 'Col9a2', 'Dlk1', 'Fetub', 'Gfra2', 'Gli1', 'Gm11681', \n",
    "                        'Gpld1', 'Inhba', 'Mdfi', 'Mest', 'Morc4', 'Nipal1', 'Plppr4', \n",
    "                        'Rgs17', 'Saa1', 'Saa2', 'Shisa3', 'Sorcs2', 'Sox9', 'Sphkap', \n",
    "                        'Syndig1', 'Trpm6']\n",
    "\n",
    "markers_B_de_micheli = ['Cldn1', 'Crabp2', 'Dleu7', 'Efnb3', 'Gfra3', 'Gjb5', 'Grin2b', \n",
    "                        'Kcnj13', 'Kcnj2', 'Lgals7', 'Lypd2', 'Mansc4', 'Moxd1', \n",
    "                        'Perp', 'RP23-291B1.2', 'Shisa3', 'Slc6a13', 'Spink1', 'Srcin1', 'Tec', 'Tenm2', \n",
    "                        'Trim46', 'Wnt10a', 'Wnt6']"
   ]
  },
  {
   "cell_type": "code",
   "execution_count": null,
   "metadata": {
    "scrolled": true
   },
   "outputs": [],
   "source": [
    "sc.pl.umap(adata_de_micheli_mouse_d0, color=['Krano_type'] + markers_B_de_micheli, \n",
    "           cmap=magma, ncols=3, legend_loc='on data')"
   ]
  },
  {
   "cell_type": "markdown",
   "metadata": {},
   "source": [
    "## Filtering common markers\n",
    "\n",
    "Now that all markers are filtered, we are going to plot all A/B markers in all datasets. If we see that the pattern is correct in 2-3 datasets, then we add it to the list. \n",
    "\n",
    "We will try to create a conservative list, that is, a list where markers are as specific to the designed regions as possible. This does not mean that a marker expressed in other cell types is not valid, but we will probably exclude it from this list, so as to have specific markers of these putative cell types, and not others."
   ]
  },
  {
   "cell_type": "code",
   "execution_count": null,
   "metadata": {},
   "outputs": [],
   "source": [
    "# All A markers combined. Some of these genes will be excluded because they are only expressed in one dataset,\n",
    "# or are not as specific as they should.\n",
    "\n",
    "for i in sorted(set(markers_A_de_micheli + markers_A_oprescu + markers_A_scott)):\n",
    "    print(i)\n",
    "    fig, axs = plt.subplots(1, 3, figsize=(18, 4))\n",
    "    sc.pl.umap(adata_de_micheli_mouse_d0, color=i, cmap=magma, ax=axs[0], show=False)\n",
    "    sc.pl.umap(adata_oprescu_d0, color=i, cmap=magma, ax=axs[1], show=False)\n",
    "    sc.pl.umap(adata_scott_d0, color=i, cmap=magma, ax=axs[2])"
   ]
  },
  {
   "cell_type": "code",
   "execution_count": null,
   "metadata": {
    "scrolled": true
   },
   "outputs": [],
   "source": [
    "# All B markers combined. Some of these genes will be excluded because they are only expressed in one dataset,\n",
    "# or are not as specific as they should.\n",
    "\n",
    "for i in sorted(set(markers_B_de_micheli + markers_B_oprescu + markers_B_scott)):\n",
    "    print(i)\n",
    "    fig, axs = plt.subplots(1, 3, figsize=(18, 4))\n",
    "    try:\n",
    "        sc.pl.umap(adata_de_micheli_mouse_d0, color=i, cmap=magma, ax=axs[0], show=False)\n",
    "        sc.pl.umap(adata_oprescu_d0, color=i, cmap=magma, ax=axs[1], show=False)\n",
    "        sc.pl.umap(adata_scott_d0, color=i, cmap=magma, ax=axs[2])\n",
    "    except:\n",
    "        pass"
   ]
  },
  {
   "cell_type": "markdown",
   "metadata": {},
   "source": [
    "## Plotting A and B filtered markers\n",
    "\n",
    "These marker should be either specific of the cluster of interest, or should be highly expressed in the cluster."
   ]
  },
  {
   "cell_type": "code",
   "execution_count": null,
   "metadata": {},
   "outputs": [],
   "source": [
    "A_markers = ['6030408B16Rik', 'Adamtsl2', 'Cdh19', 'Cdkn2b', 'Col18a1', 'Col26a1', \n",
    "             'Col9a2', 'Dlk1', 'Fetub', 'Gfra2', 'Gm11681', 'Gpld1', 'Greb1', 'Gria1', \n",
    "             'Kcnb2', 'Kcnk2', 'Mpzl2', 'Ngfr', 'Plppr4', \n",
    "             'Ptgfr', 'Rgs17', 'Saa1', 'Saa2', 'Shisa3', 'Sipa1l1', 'Sorcs2', 'Sox9', \n",
    "             'Sphkap', 'Syndig1', 'Trpm6']\n",
    "B_markers = ['Cldn1', 'Crabp2', 'Dleu7', 'Efnb3', 'Gjb5', 'Grin2b', 'Itgb4', 'Kcnj13', \n",
    "             'Kcnj2', 'Lgals7', 'Lypd2', 'Mansc4', 'Moxd1', 'Mpzl2', 'Perp', 'Prodh', 'Ptch1', \n",
    "             'Slc6a13', 'Stra6', 'Tec', 'Tenm2', 'Wnt10a', 'Wnt6']"
   ]
  },
  {
   "cell_type": "code",
   "execution_count": null,
   "metadata": {},
   "outputs": [],
   "source": [
    "for i in ['Krano_type'] + A_markers:\n",
    "    print(i)\n",
    "    fig, axs = plt.subplots(1, 3, figsize=(18, 4))\n",
    "    try:\n",
    "        sc.pl.umap(adata_de_micheli_mouse_d0, color=i, cmap=magma, ax=axs[0], show=False, legend_loc='on data')\n",
    "        sc.pl.umap(adata_oprescu_d0, color=i, cmap=magma, ax=axs[1], show=False, legend_loc='on data')\n",
    "        sc.pl.umap(adata_scott_d0, color=i, cmap=magma, ax=axs[2], legend_loc='on data')\n",
    "    except:\n",
    "        pass"
   ]
  },
  {
   "cell_type": "code",
   "execution_count": null,
   "metadata": {},
   "outputs": [],
   "source": [
    "for i in ['Krano_type'] + B_markers:\n",
    "    print(i)\n",
    "    fig, axs = plt.subplots(1, 3, figsize=(18, 4))\n",
    "    try:\n",
    "        sc.pl.umap(adata_de_micheli_mouse_d0, color=i, cmap=magma, ax=axs[0], show=False)\n",
    "        sc.pl.umap(adata_oprescu_d0, color=i, cmap=magma, ax=axs[1], show=False)\n",
    "        sc.pl.umap(adata_scott_d0, color=i, cmap=magma, ax=axs[2])\n",
    "    except:\n",
    "        pass"
   ]
  },
  {
   "cell_type": "markdown",
   "metadata": {},
   "source": [
    "## Detecting membrane markers\n",
    "\n",
    "The next step is to mark which genes are expressed in the membrane, so that they can be selected via FACS (or whatever extra analysis that could be done). \n",
    "To do that, we will download the Swiss-Prot proteome table, where the celullar location of the protein is included. \n",
    "\n",
    "The table can be downloaded from here:\n",
    "https://www.uniprot.org/uniprot/?query=*&fil=organism%3A%22Mus+musculus+%28Mouse%29+%5B10090%5D%22+AND+reviewed%3Ayes\n",
    "\n",
    "The columns to be selected are \"Gene names\" and \"Subcellular location\"."
   ]
  },
  {
   "cell_type": "code",
   "execution_count": null,
   "metadata": {},
   "outputs": [],
   "source": [
    "# Load the table\n",
    "uniprot_df = pd.read_csv(data_dir+'/Uniprot_table.tab', sep='\\t')\n",
    "\n",
    "# Process table to have a gene per row:\n",
    "list_genes = []\n",
    "list_locs = []\n",
    "\n",
    "for i in range(len(uniprot_df)):\n",
    "    gene_str = uniprot_df['Gene names'].iloc[i]\n",
    "    loc_str = uniprot_df['Subcellular location [CC]'].iloc[i]\n",
    "    if type(loc_str) == str:\n",
    "        loc_str = loc_str.replace('SUBCELLULAR LOCATION:', '')\n",
    "    else:\n",
    "        loc_str = ''\n",
    "\n",
    "    try:\n",
    "        list_genes_i = gene_str.split(' ')    \n",
    "        for gene in list_genes_i:\n",
    "            list_genes.append(gene)\n",
    "            list_locs.append(loc_str)\n",
    "    except:\n",
    "        pass\n",
    "\n",
    "uniprot_df = pd.DataFrame({'Gene': list_genes, 'Location': list_locs}).set_index('Gene', drop=True)\n",
    "uniprot_df = uniprot_df.groupby(level=0).transform('sum').drop_duplicates()"
   ]
  },
  {
   "cell_type": "code",
   "execution_count": null,
   "metadata": {},
   "outputs": [],
   "source": [
    "df_A_markers = pd.DataFrame({'Gene': A_markers, 'Location': [''] * len(A_markers)})\n",
    "\n",
    "for A_idx, A in enumerate(A_markers):\n",
    "    if A in uniprot_df.index.values:\n",
    "        df_A_markers['Location'].iloc[A_idx] = uniprot_df.loc[A, 'Location']\n",
    "        \n",
    "        \n",
    "df_B_markers = pd.DataFrame({'Gene': B_markers, 'Location': [''] * len(B_markers)})\n",
    "\n",
    "for B_idx, B in enumerate(B_markers):\n",
    "    if B in uniprot_df.index.values:\n",
    "        df_B_markers['Location'].iloc[B_idx] = uniprot_df.loc[B, 'Location']"
   ]
  },
  {
   "cell_type": "code",
   "execution_count": null,
   "metadata": {},
   "outputs": [],
   "source": [
    "pd.set_option('display.max_colwidth', -1)"
   ]
  },
  {
   "cell_type": "code",
   "execution_count": null,
   "metadata": {},
   "outputs": [],
   "source": [
    "df_A_markers "
   ]
  },
  {
   "cell_type": "code",
   "execution_count": null,
   "metadata": {},
   "outputs": [],
   "source": [
    "df_B_markers"
   ]
  },
  {
   "cell_type": "code",
   "execution_count": null,
   "metadata": {
    "scrolled": true
   },
   "outputs": [],
   "source": [
    "# Marcadores gliales que cambian\n",
    "for i in ['Krano_type'] + ['Ngfr', 'Gpc1', 'Tubb2b', 'Tubb5', 'Cryab', 'Tuba1a', 'Tnc', 'Plk2', \n",
    "                          'Tgfbi', 'Lgals1', 'Lgals3', 'Syt4', 'Ucn2', 'Gas1', 'Mmp19', 'Vim', 'Arbp1', \n",
    "                          'Col18a1', 'Cpe', 'Uchl1', 'Gadd45a', 'Igfbp5', 'Atf3', 'Tmem158', \n",
    "                          'Apod', 'Psap', 'Stmn1', 'Epha5', 'Entpd2', 'Nav2', 'Oaf', 'Fgf5']:\n",
    "    print(i)\n",
    "    fig, axs = plt.subplots(1, 3, figsize=(18, 4))\n",
    "    try:\n",
    "        sc.pl.umap(adata_de_micheli_mouse_d0, color=i, cmap=magma, ax=axs[0], show=False, legend_loc='on data')\n",
    "        sc.pl.umap(adata_oprescu_d0, color=i, cmap=magma, ax=axs[1], show=False, legend_loc='on data')\n",
    "        sc.pl.umap(adata_scott_d0, color=i, cmap=magma, ax=axs[2], legend_loc='on data')\n",
    "    except:\n",
    "        pass"
   ]
  },
  {
   "cell_type": "code",
   "execution_count": null,
   "metadata": {},
   "outputs": [],
   "source": [
    "# Marcadores FAPs que cambian\n",
    "for i in ['Krano_type'] + ['Timp1', 'Sh3bgrl3', 'Lgals1', 'Spp1', 'Inhba', 'Ctgrc1', 'Ccl9', 'Ank', 'Tgfbi', \n",
    "                           'Fn1', 'Tnc', 'Ier3', 'Il11', 'Trf', 'Aldh1a3', 'Bgn', 'Mgp', 'Igfbp4', \n",
    "                           'Lgals3', 'Crif1', 'Serpine2', 'Scd1', 'Igfbp7', 'Thy1', 'Pdgfa', 'Postn', \n",
    "                           'Ptgs2', '1810011O10Rik', 'Rdh10', 'Neat1', 'Igf1', 'Sdc1', 'Cxcl14', 'Cxcl5']:\n",
    "    print(i)\n",
    "    fig, axs = plt.subplots(1, 3, figsize=(18, 4))\n",
    "    try:\n",
    "        sc.pl.umap(adata_de_micheli_mouse_d0, color=i, cmap=magma, ax=axs[0], show=False, legend_loc='on data')\n",
    "        sc.pl.umap(adata_oprescu_d0, color=i, cmap=magma, ax=axs[1], show=False, legend_loc='on data')\n",
    "        sc.pl.umap(adata_scott_d0, color=i, cmap=magma, ax=axs[2], legend_loc='on data')\n",
    "    except:\n",
    "        pass"
   ]
  },
  {
   "cell_type": "markdown",
   "metadata": {},
   "source": [
    "# Running datasets against markers"
   ]
  },
  {
   "cell_type": "markdown",
   "metadata": {},
   "source": [
    "## Kumar et al 2017 PC1 and PC2"
   ]
  },
  {
   "cell_type": "code",
   "execution_count": null,
   "metadata": {},
   "outputs": [],
   "source": [
    "list_genes = ['Krano_type'] + ['Rgs5', 'Acta2', 'Cxcl1', 'Cxcl2', 'Cxcl5', 'Il6', 'Il1b']\n",
    "\n",
    "fig, axs = plt.subplots(len(list_genes), 3, figsize=(18, 4 * len(list_genes)))\n",
    "\n",
    "for idx, gene in enumerate(list_genes):\n",
    "    try:\n",
    "        sc.pl.umap(adata_de_micheli_mouse_d0, color=gene, cmap=magma, ax=axs[idx][0], show=False, legend_loc='on data')\n",
    "        sc.pl.umap(adata_oprescu_d0, color=gene, cmap=magma, ax=axs[idx][1], show=False, legend_loc='on data')\n",
    "        sc.pl.umap(adata_scott_d0, color=gene, cmap=magma, ax=axs[idx][2], show=False, legend_loc='on data')\n",
    "    except:\n",
    "        pass"
   ]
  },
  {
   "cell_type": "markdown",
   "metadata": {},
   "source": [
    "## Kumar et al 2017 Capillary proinflammatory/capillary and contractile/arteriolar PCs"
   ]
  },
  {
   "cell_type": "code",
   "execution_count": null,
   "metadata": {},
   "outputs": [],
   "source": [
    "list_genes = ['Krano_type'] + ['Cd274', 'Dlk1', 'Nt5e'] # Cd73 = Nt5e\n",
    "\n",
    "fig, axs = plt.subplots(len(list_genes), 3, figsize=(18, 4 * len(list_genes)))\n",
    "\n",
    "for idx, gene in enumerate(list_genes):\n",
    "    try:\n",
    "        sc.pl.umap(adata_de_micheli_mouse_d0, color=gene, cmap=magma, ax=axs[idx][0], show=False, legend_loc='on data')\n",
    "        sc.pl.umap(adata_oprescu_d0, color=gene, cmap=magma, ax=axs[idx][1], show=False, legend_loc='on data')\n",
    "        sc.pl.umap(adata_scott_d0, color=gene, cmap=magma, ax=axs[idx][2], show=False, legend_loc='on data')\n",
    "    except:\n",
    "        pass"
   ]
  },
  {
   "cell_type": "markdown",
   "metadata": {},
   "source": [
    "## Birbrair PCs"
   ]
  },
  {
   "cell_type": "code",
   "execution_count": null,
   "metadata": {},
   "outputs": [],
   "source": [
    "list_genes = ['Krano_type'] + ['Pdgfrb', 'Mcam', 'Cspg4', 'Nes'] # Cd146 = Mcam, Ng2 = Cspg4\n",
    "\n",
    "fig, axs = plt.subplots(len(list_genes), 3, figsize=(18, 4 * len(list_genes)))\n",
    "\n",
    "for idx, gene in enumerate(list_genes):\n",
    "    try:\n",
    "        sc.pl.umap(adata_de_micheli_mouse_d0, color=gene, cmap=magma, ax=axs[idx][0], show=False, legend_loc='on data')\n",
    "        sc.pl.umap(adata_oprescu_d0, color=gene, cmap=magma, ax=axs[idx][1], show=False, legend_loc='on data')\n",
    "        sc.pl.umap(adata_scott_d0, color=gene, cmap=magma, ax=axs[idx][2], show=False, legend_loc='on data')\n",
    "    except:\n",
    "        pass"
   ]
  },
  {
   "cell_type": "markdown",
   "metadata": {},
   "source": [
    "## Camps ISC\n",
    "\n",
    "* ISC1: Ly6c1, Cd55\n",
    "* ISC2: Gdf10, Meox2, F3/Cd142\n",
    "* ISC3: Thbs4, Fbln7, Sdc1"
   ]
  },
  {
   "cell_type": "code",
   "execution_count": null,
   "metadata": {},
   "outputs": [],
   "source": [
    "list_genes = ['Krano_type'] + ['Cd55', 'F3', 'Sdc1']\n",
    "\n",
    "fig, axs = plt.subplots(len(list_genes), 3, figsize=(18, 4 * len(list_genes)))\n",
    "\n",
    "for idx, gene in enumerate(list_genes):\n",
    "    try:\n",
    "        sc.pl.umap(adata_de_micheli_mouse_d0, color=gene, cmap=magma, ax=axs[idx][0], show=False, legend_loc='on data')\n",
    "        sc.pl.umap(adata_oprescu_d0, color=gene, cmap=magma, ax=axs[idx][1], show=False, legend_loc='on data')\n",
    "        sc.pl.umap(adata_scott_d0, color=gene, cmap=magma, ax=axs[idx][2], show=False, legend_loc='on data')\n",
    "    except:\n",
    "        pass"
   ]
  },
  {
   "cell_type": "markdown",
   "metadata": {},
   "source": [
    "# Beautiful figs"
   ]
  },
  {
   "cell_type": "code",
   "execution_count": null,
   "metadata": {},
   "outputs": [],
   "source": [
    "if not os.path.exists(fig_dir + 'clusters/'): os.makedirs(fig_dir + 'clusters/')"
   ]
  },
  {
   "cell_type": "code",
   "execution_count": null,
   "metadata": {},
   "outputs": [],
   "source": [
    "# MPL config\n",
    "font = {'family' : 'normal',\n",
    "        'weight' : 'light',\n",
    "        'size'   : 15}\n",
    "\n",
    "mpl.rc('font', **font)"
   ]
  },
  {
   "cell_type": "code",
   "execution_count": null,
   "metadata": {},
   "outputs": [],
   "source": [
    "def makefig(list_genes, name_order=None, adata_list=[adata_oprescu_d0, adata_scott_d0, adata_de_micheli_mouse_d0], \n",
    "           list_datasets = ['Oprescu', 'Scott', 'De Micheli']):\n",
    "    n_cols = len(adata_list)\n",
    "    fig, axs = plt.subplots(len(list_genes), n_cols, figsize=(6 * n_cols, 4 * len(list_genes)))\n",
    "    \n",
    "        \n",
    "    for idx, gene in enumerate(list_genes):\n",
    "        try:\n",
    "            for adata_idx, adata in enumerate(adata_list):\n",
    "                sc.pl.umap(adata, color=gene, cmap=magma, ax=axs[idx][adata_idx], show=False, legend_fontsize=11)\n",
    "        except:\n",
    "            raise\n",
    "               \n",
    "    for ax_idx, ax in enumerate(axs.ravel()):\n",
    "        ax.spines['top'].set_visible(False)\n",
    "        ax.spines['right'].set_visible(False)\n",
    "        ax.spines['bottom'].set_visible(False)\n",
    "        if ax_idx % n_cols == 0:\n",
    "            ax.spines['left'].set_visible(False)\n",
    "            \n",
    "        ax.set_xlabel('')\n",
    "        \n",
    "        if ax_idx % n_cols == 0:\n",
    "            ax.set_ylabel(list_genes[ax_idx // n_cols])\n",
    "        else:\n",
    "            ax.set_ylabel('')\n",
    "            \n",
    "        if ax_idx in range(len(list_datasets)):\n",
    "            ax.set_title(list_datasets[ax_idx])\n",
    "        else:\n",
    "            ax.set_title('')\n",
    "            \n",
    "        # legend unification \n",
    "        if ax_idx % n_cols == 0:\n",
    "            dict_legends = {}\n",
    "        \n",
    "        try:\n",
    "            legend = ax.get_legend()\n",
    "            names, handles = [str(x._text) for x in legend.texts], legend.legendHandles  \n",
    "            for i in range(len(names)):\n",
    "                dict_legends[names[i]] = handles[i]\n",
    "            if ax_idx % n_cols != n_cols - 1:\n",
    "                ax.get_legend().remove()\n",
    "            else:\n",
    "                if name_order is None:\n",
    "                    ax.legend(dict_legends.values(), dict_legends.keys(), bbox_to_anchor=(1.05, 1), frameon=False, prop={'size': 11})\n",
    "                else:\n",
    "                    ax.legend([dict_legends[i] for i in name_order if i in dict_legends.keys()], \n",
    "                              [i for i in name_order if i in dict_legends.keys()], bbox_to_anchor=(1.05, 1), frameon=False, prop={'size': 11})\n",
    "        except:\n",
    "            pass \n",
    "        \n",
    "    \n",
    "    plt.tight_layout()\n",
    "    plt.savefig(fig_dir + 'clusters/' + '-'.join(list_genes) + '.png', dpi=500)\n",
    "    plt.savefig(fig_dir + 'clusters/' + '-'.join(list_genes) + '.pdf')\n",
    "    \n"
   ]
  },
  {
   "cell_type": "code",
   "execution_count": null,
   "metadata": {},
   "outputs": [],
   "source": [
    "name_order = ['Endothelial', 'Pericyte', 'Fibroblast', 'FAP', 'Tenocyte', 'Neural cell',\n",
    "                                                          'Myonuclei', 'MuSC', 'Immune', 'APC / Proliferative ICs', \n",
    "                                                          'Monocyte', 'Neutrophil', 'Myeloid', 'A', 'B', 'C', 'Other']"
   ]
  },
  {
   "cell_type": "code",
   "execution_count": null,
   "metadata": {},
   "outputs": [],
   "source": [
    "makefig(['cell_type', 'Krano_type'], name_order=name_order)"
   ]
  },
  {
   "cell_type": "code",
   "execution_count": null,
   "metadata": {},
   "outputs": [],
   "source": [
    "makefig(['Krano_type', 'Cd34', 'S100b'], name_order=name_order)\n",
    "makefig(['Krano_type', 'Pdgfrb', 'Sox10'], name_order=name_order)\n",
    "makefig(['Krano_type', 'Ngfr', 'Cspg4'], name_order=name_order)\n",
    "makefig(['Krano_type', 'Col9a2', 'Shisa3'], name_order=name_order)"
   ]
  },
  {
   "cell_type": "code",
   "execution_count": null,
   "metadata": {},
   "outputs": [],
   "source": [
    "makefig(['Krano_type', '6030408B16Rik', 'Col18a1'], name_order=name_order)\n",
    "makefig(['Krano_type', 'Col9a2', 'Cldn1'], name_order=name_order)\n",
    "makefig(['Krano_type', 'Dlk1', 'Fetub'], name_order=name_order)\n",
    "makefig(['Krano_type', 'Gpld1', 'Grin2b'], name_order=name_order)\n",
    "makefig(['Krano_type', 'Kcnb2', 'Lypd2'], name_order=name_order)\n",
    "makefig(['Krano_type', 'Mansc4', 'Nipal1'], name_order=name_order)\n",
    "makefig(['Krano_type', 'Saa1', 'Shisa3'], name_order=name_order)\n",
    "makefig(['Krano_type', 'Tenm2', 'Trpm6'], name_order=name_order)"
   ]
  },
  {
   "cell_type": "code",
   "execution_count": null,
   "metadata": {},
   "outputs": [],
   "source": [
    "makefig(['Tnc', 'Tnmd', 'Nipal1', 'Dlk1'], name_order=name_order, \n",
    "        adata_list=[adata_oprescu_d0, adata_oprescu_d2, adata_oprescu_d35, adata_oprescu_d5, adata_oprescu_d10, adata_oprescu_d21], \n",
    "        list_datasets=['D0', 'D2', 'D3.5', 'D5', 'D10', 'D21'])"
   ]
  },
  {
   "cell_type": "code",
   "execution_count": null,
   "metadata": {},
   "outputs": [],
   "source": []
  }
 ],
 "metadata": {
  "kernelspec": {
   "display_name": "Python [conda env:alex-base] *",
   "language": "python",
   "name": "conda-env-alex-base-py"
  },
  "language_info": {
   "codemirror_mode": {
    "name": "ipython",
    "version": 3
   },
   "file_extension": ".py",
   "mimetype": "text/x-python",
   "name": "python",
   "nbconvert_exporter": "python",
   "pygments_lexer": "ipython3",
   "version": "3.7.6"
  },
  "toc": {
   "base_numbering": 1,
   "nav_menu": {},
   "number_sections": true,
   "sideBar": true,
   "skip_h1_title": false,
   "title_cell": "Table of Contents",
   "title_sidebar": "Contents",
   "toc_cell": false,
   "toc_position": {
    "height": "calc(100% - 180px)",
    "left": "10px",
    "top": "150px",
    "width": "293px"
   },
   "toc_section_display": true,
   "toc_window_display": true
  },
  "varInspector": {
   "cols": {
    "lenName": 16,
    "lenType": 16,
    "lenVar": 40
   },
   "kernels_config": {
    "python": {
     "delete_cmd_postfix": "",
     "delete_cmd_prefix": "del ",
     "library": "var_list.py",
     "varRefreshCmd": "print(var_dic_list())"
    },
    "r": {
     "delete_cmd_postfix": ") ",
     "delete_cmd_prefix": "rm(",
     "library": "var_list.r",
     "varRefreshCmd": "cat(var_dic_list()) "
    }
   },
   "types_to_exclude": [
    "module",
    "function",
    "builtin_function_or_method",
    "instance",
    "_Feature"
   ],
   "window_display": false
  }
 },
 "nbformat": 4,
 "nbformat_minor": 4
}
