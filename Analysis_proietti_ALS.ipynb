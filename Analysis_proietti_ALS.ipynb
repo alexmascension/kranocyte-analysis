{
 "cells": [
  {
   "cell_type": "code",
   "execution_count": null,
   "id": "informational-married",
   "metadata": {},
   "outputs": [],
   "source": [
    "import scanpy as sc\n",
    "import scanpy.external as sce\n",
    "import pandas as pd\n",
    "import numpy as np\n",
    "import os\n",
    "import triku as tk\n",
    "import matplotlib.pyplot as plt\n",
    "import matplotlib as mpl\n",
    "from tqdm.notebook import tqdm\n",
    "import ray\n",
    "import subprocess"
   ]
  },
  {
   "cell_type": "code",
   "execution_count": null,
   "id": "quantitative-spirit",
   "metadata": {},
   "outputs": [],
   "source": [
    "seed = 10"
   ]
  },
  {
   "cell_type": "code",
   "execution_count": null,
   "id": "destroyed-volleyball",
   "metadata": {},
   "outputs": [],
   "source": [
    "data_dir = 'data/proietti_2021/'\n",
    "fig_dir = 'figures/'\n",
    "mouse_gencode_dir = '/media/seth/SETH_DATA/SETH_Alex/Programs/mouse_GRCm38_gencode.v31'\n",
    "        \n",
    "os.makedirs(data_dir, exist_ok=True)\n",
    "os.makedirs(data_dir + '/tmp', exist_ok=True)\n",
    "os.makedirs(fig_dir, exist_ok=True)"
   ]
  },
  {
   "cell_type": "code",
   "execution_count": null,
   "id": "elect-argentina",
   "metadata": {},
   "outputs": [],
   "source": [
    "# Palettes for UMAP gene expression\n",
    "\n",
    "magma = [plt.get_cmap('magma')(i) for i in np.linspace(0,1, 80)]\n",
    "magma[0] = (0.88, 0.88, 0.88, 1)\n",
    "magma = mpl.colors.LinearSegmentedColormap.from_list(\"\", magma[:65])"
   ]
  },
  {
   "cell_type": "code",
   "execution_count": null,
   "id": "stone-demonstration",
   "metadata": {},
   "outputs": [],
   "source": [
    "mpl.rcParams['figure.dpi'] = 150  # Set this to make higher quality pictures"
   ]
  },
  {
   "cell_type": "code",
   "execution_count": null,
   "id": "respected-behavior",
   "metadata": {},
   "outputs": [],
   "source": [
    "def assign_cats(adata, dict_cats, column_groupby='leiden', quantile_gene_sel=0.7, do_return=False, intermediate_states=False, diff=0.05, \n",
    "                key_added='assigned_cats', min_score=0.6, others_name='unassigned'):\n",
    "    \"\"\"\n",
    "    This functions uses a set of genes assigned to different categories so that leiden clusters can be assigned to one of these categories.\n",
    "    For example, to categorize fibroblasts from pericytes, endothelial cells, or cells with high mitochondrial content.\n",
    "    It could be done with each cell individually, but it is better to use clusters to discern the different categories because\n",
    "    the method, although efficient, can sometimes be noisy due to the noisiness of the sc datasets.\n",
    "    \"\"\"\n",
    "    \n",
    "    for cat in list(dict_cats.keys()):\n",
    "        mat_cat = np.zeros((len(adata), len(dict_cats[cat])), dtype=float)\n",
    "        \n",
    "        for gene_idx, gene in enumerate(dict_cats[cat]):\n",
    "            try:\n",
    "                mat_cat[:, gene_idx] = np.asarray(np.dot(adata.obsp['connectivities'], adata[:, gene].X).todense()).ravel() / adata.uns['neighbors']['params']['n_neighbors']\n",
    "                mat_cat[mat_cat[:, gene_idx] > 0, gene_idx] = np.argsort(np.argsort(mat_cat[mat_cat[:, gene_idx] > 0, gene_idx]))\n",
    "                mat_cat[:, gene_idx] /= np.max(mat_cat[:, gene_idx])\n",
    "            except:\n",
    "                print(f'Gene {gene} is not on the list')    \n",
    "            \n",
    "        sum_mat_cat = np.asarray(mat_cat.mean(1)).ravel()       \n",
    "        adata.obs[cat] = sum_mat_cat\n",
    "    \n",
    "    score_per_cluster = adata.obs[[column_groupby] + list(dict_cats.keys())].groupby(column_groupby).quantile(quantile_gene_sel)\n",
    "    max_cat_dict_std = dict(zip(score_per_cluster.std(1).index, score_per_cluster.std(1).values))\n",
    "    adata.obs[f'{key_added}_std'] = [max_cat_dict_std[i] for i in adata.obs[column_groupby]]\n",
    "    max_cat_dict_mean = dict(zip(score_per_cluster.mean(1).index, score_per_cluster.mean(1).values))\n",
    "    adata.obs[f'{key_added}_mean'] = [max_cat_dict_mean[i] for i in adata.obs[column_groupby]]\n",
    "    max_cat_dict_max = dict(zip(score_per_cluster.max(1).index, score_per_cluster.max(1).values))\n",
    "    adata.obs[f'{key_added}_max'] = [max_cat_dict_max[i] for i in adata.obs[column_groupby]]\n",
    "    adata.obs[f'{key_added}_CV'] = adata.obs[f'{key_added}_mean'] / adata.obs[f'{key_added}_std']\n",
    "    \n",
    "    for cat in score_per_cluster.columns:\n",
    "        max_cat_dict = dict(zip(score_per_cluster.index, score_per_cluster[cat].values))        \n",
    "        adata.obs[f'{key_added}_{cat}'] = [max_cat_dict[i] for i in adata.obs[column_groupby]]\n",
    "    \n",
    "    if intermediate_states: # For each cluster we will identify which categories are close to the highest one, and merge their names.\n",
    "        list_names_cats_per_cluster = []\n",
    "        for cluster in score_per_cluster.index:\n",
    "            scores_cluster = score_per_cluster.loc[cluster]\n",
    "            scores_cluster = scores_cluster[scores_cluster > scores_cluster.max() - diff]\n",
    "            list_names_cats_per_cluster.append('/'.join(scores_cluster.index))\n",
    "        \n",
    "        final_cat_dict = dict(zip(score_per_cluster.idxmax(axis=1).index, list_names_cats_per_cluster))\n",
    "    else:        \n",
    "        final_cat_dict = dict(zip(score_per_cluster.idxmax(axis=1).index, score_per_cluster.idxmax(axis=1).values))\n",
    "    \n",
    "    adata.obs[f'{key_added}'] = [str(final_cat_dict[i]) for i in adata.obs[column_groupby]]\n",
    "    \n",
    "    adata.obs[f'{key_added}'][adata.obs[f'{key_added}_max'] < min_score] = others_name\n",
    "    \n",
    "    if do_return:\n",
    "        return score_per_cluster"
   ]
  },
  {
   "cell_type": "markdown",
   "id": "demographic-identifier",
   "metadata": {},
   "source": [
    "# Data download"
   ]
  },
  {
   "cell_type": "code",
   "execution_count": null,
   "id": "seeing-projection",
   "metadata": {},
   "outputs": [],
   "source": [
    "SRA_list_ITGA_muscle_PRJNA626530_DEN = ['SRR11574458', 'SRR11574462', 'SRR11574463', 'SRR11574464']\n",
    "SRA_list_ITGA_muscle_PRJNA626530_CTRL = ['SRR11574459', 'SRR11574460', 'SRR11574461', 'SRR11574465']"
   ]
  },
  {
   "cell_type": "code",
   "execution_count": null,
   "id": "educated-repeat",
   "metadata": {},
   "outputs": [],
   "source": [
    "df = pd.DataFrame({'name': ['PRJNA626530_DEN', 'PRJNA626530_CTRL'], \n",
    "                   'technology': ['10xv3'] * 2, \n",
    "                   'targetnumcells': [6000] * 2})\n",
    "\n",
    "df.to_csv(data_dir + '/metadata.tab', sep='\\t', index=None)"
   ]
  },
  {
   "cell_type": "code",
   "execution_count": null,
   "id": "sexual-newark",
   "metadata": {},
   "outputs": [],
   "source": [
    "for idx, name in enumerate(SRA_list_ITGA_muscle_PRJNA626530_DEN):\n",
    "    os.system(f'cd {data_dir} && parallel-fastq-dump -s {name} -t {16} --split-files -O . --tmpdir tmp --gzip')\n",
    "    os.system(f'cd {data_dir} && mv {name}_1.fastq.gz PRJNA626530_DEN_L00{idx+1}_R1_001.fastq.gz')\n",
    "    os.system(f'cd {data_dir} && mv {name}_2.fastq.gz PRJNA626530_DEN_L00{idx+1}_R2_001.fastq.gz')\n",
    "\n",
    "for idx, name in enumerate(SRA_list_ITGA_muscle_PRJNA626530_CTRL):\n",
    "    os.system(f'cd {data_dir} && parallel-fastq-dump -s {name} -t {16} --split-files -O . --tmpdir tmp --gzip')\n",
    "    os.system(f'cd {data_dir} && mv {name}_1.fastq.gz PRJNA626530_CTRL_L00{idx+1}_R1_001.fastq.gz')\n",
    "    os.system(f'cd {data_dir} && mv {name}_2.fastq.gz PRJNA626530_CTRL_L00{idx+1}_R2_001.fastq.gz')"
   ]
  },
  {
   "cell_type": "code",
   "execution_count": null,
   "id": "female-structure",
   "metadata": {},
   "outputs": [],
   "source": [
    "print(f'''cd {data_dir} && loompy fromfq PRJNA626530_DEN.loom PRJNA626530_DEN {mouse_gencode_dir} metadata.tab \n",
    "      PRJNA626530_DEN_L001_R1_001.fastq.gz PRJNA626530_DEN_L001_R2_001.fastq.gz \n",
    "      PRJNA626530_DEN_L002_R1_001.fastq.gz PRJNA626530_DEN_L002_R2_001.fastq.gz \n",
    "      PRJNA626530_DEN_L003_R1_001.fastq.gz PRJNA626530_DEN_L003_R2_001.fastq.gz \n",
    "      PRJNA626530_DEN_L004_R1_001.fastq.gz PRJNA626530_DEN_L004_R2_001.fastq.gz''')"
   ]
  },
  {
   "cell_type": "code",
   "execution_count": null,
   "id": "random-breathing",
   "metadata": {},
   "outputs": [],
   "source": [
    "os.system(f'''cd {data_dir} && loompy fromfq PRJNA626530_DEN.loom PRJNA626530_DEN {mouse_gencode_dir} metadata.tab \n",
    "      PRJNA626530_DEN_L001_R1_001.fastq.gz PRJNA626530_DEN_L001_R2_001.fastq.gz \n",
    "      PRJNA626530_DEN_L002_R1_001.fastq.gz PRJNA626530_DEN_L002_R2_001.fastq.gz \n",
    "      PRJNA626530_DEN_L003_R1_001.fastq.gz PRJNA626530_DEN_L003_R2_001.fastq.gz \n",
    "      PRJNA626530_DEN_L004_R1_001.fastq.gz PRJNA626530_DEN_L004_R2_001.fastq.gz''')"
   ]
  },
  {
   "cell_type": "code",
   "execution_count": null,
   "id": "assigned-broad",
   "metadata": {},
   "outputs": [],
   "source": [
    "print(f'''cd {data_dir} && loompy fromfq PRJNA626530_CTRL.loom PRJNA626530_CTRL {mouse_gencode_dir} metadata.tab \n",
    "      PRJNA626530_CTRL_L001_R1_001.fastq.gz PRJNA626530_CTRL_L001_R2_001.fastq.gz \n",
    "      PRJNA626530_CTRL_L002_R1_001.fastq.gz PRJNA626530_CTRL_L002_R2_001.fastq.gz \n",
    "      PRJNA626530_CTRL_L003_R1_001.fastq.gz PRJNA626530_CTRL_L003_R2_001.fastq.gz \n",
    "      PRJNA626530_CTRL_L004_R1_001.fastq.gz PRJNA626530_CTRL_L004_R2_001.fastq.gz''')"
   ]
  },
  {
   "cell_type": "code",
   "execution_count": null,
   "id": "straight-explosion",
   "metadata": {},
   "outputs": [],
   "source": [
    "os.system(f'''cd {data_dir} && loompy fromfq PRJNA626530_CTRL.loom PRJNA626530_CTRL {mouse_gencode_dir} metadata.tab \n",
    "      PRJNA626530_CTRL_L001_R1_001.fastq.gz PRJNA626530_CTRL_L001_R2_001.fastq.gz \n",
    "      PRJNA626530_CTRL_L002_R1_001.fastq.gz PRJNA626530_CTRL_L002_R2_001.fastq.gz \n",
    "      PRJNA626530_CTRL_L003_R1_001.fastq.gz PRJNA626530_CTRL_L003_R2_001.fastq.gz \n",
    "      PRJNA626530_CTRL_L004_R1_001.fastq.gz PRJNA626530_CTRL_L004_R2_001.fastq.gz''')"
   ]
  },
  {
   "cell_type": "markdown",
   "id": "african-recall",
   "metadata": {},
   "source": [
    "# Preprocess dataset"
   ]
  },
  {
   "cell_type": "code",
   "execution_count": null,
   "id": "bottom-walnut",
   "metadata": {},
   "outputs": [],
   "source": [
    "adata_proietti = sc.read(data_dir+'/PRJNA626530.loom')\n",
    "adata_proietti.var_names_make_unique()"
   ]
  },
  {
   "cell_type": "code",
   "execution_count": null,
   "id": "compound-newfoundland",
   "metadata": {},
   "outputs": [],
   "source": [
    "# Basic QC filtering\n",
    "adata_proietti.var['mt'] = adata_proietti.var_names.str.startswith('mt-')  # annotate the group of mitochondrial genes as 'mt'\n",
    "sc.pp.calculate_qc_metrics(adata_proietti, qc_vars=['mt'], percent_top=None, inplace=True)"
   ]
  },
  {
   "cell_type": "code",
   "execution_count": null,
   "id": "polar-lesson",
   "metadata": {},
   "outputs": [],
   "source": [
    "sc.pl.violin(adata_proietti, ['n_genes_by_counts', 'total_counts', 'pct_counts_mt'],\n",
    "             jitter=0.4, multi_panel=True)\n",
    "\n",
    "sc.pl.scatter(adata_proietti, x='total_counts', y='pct_counts_mt')"
   ]
  },
  {
   "cell_type": "code",
   "execution_count": null,
   "id": "reflected-antique",
   "metadata": {},
   "outputs": [],
   "source": [
    "sc.pp.filter_cells(adata_proietti, min_genes=250)\n",
    "sc.pp.filter_genes(adata_proietti, min_cells=5)"
   ]
  },
  {
   "cell_type": "code",
   "execution_count": null,
   "id": "anonymous-metabolism",
   "metadata": {},
   "outputs": [],
   "source": [
    "sc.pp.log1p(adata_proietti)\n",
    "sc.pp.normalize_per_cell(adata_proietti)"
   ]
  },
  {
   "cell_type": "code",
   "execution_count": null,
   "id": "linear-approach",
   "metadata": {},
   "outputs": [],
   "source": [
    "tk.tl.triku(adata_proietti, n_procs=1, random_state=seed)\n",
    "sc.pp.pca(adata_proietti, random_state=seed, n_comps=30)\n",
    "sc.pp.neighbors(adata_proietti, random_state=seed, knn=len(adata_proietti) ** 0.5 // 2, metric='cosine')"
   ]
  },
  {
   "cell_type": "code",
   "execution_count": null,
   "id": "norwegian-adrian",
   "metadata": {},
   "outputs": [],
   "source": [
    "sc.tl.umap(adata_proietti, min_dist=0.1, random_state=seed)\n",
    "sc.tl.leiden(adata_proietti, resolution=1.5, random_state=seed)\n",
    "sc.pl.umap(adata_proietti, color=['leiden', 'n_counts', 'pct_counts_mt'], legend_loc='on data')"
   ]
  },
  {
   "cell_type": "code",
   "execution_count": null,
   "id": "excessive-leadership",
   "metadata": {},
   "outputs": [],
   "source": [
    "dict_cats_paper = {'glial cells': ['Plp1', 'Mpz', 'Kcna1', 'S100b'], \n",
    "                   'MuSCs': ['Myh11', 'Rgs5', 'Myl9', 'Pln'], \n",
    "                   'SMMCs': ['Pax7', 'Myf5', 'Vcam1', 'Sdc4'],\n",
    "                   'Residual (FAPs)': ['Mfap5'], \n",
    "                   'Residual (Teno)': ['Scx', 'Tnmd', 'Col1a1'], \n",
    "                   'Residual (Others)': ['Ly6a', 'Pecam1', 'Tek']}\n",
    "assign_cats(adata_proietti, dict_cats=dict_cats_paper, key_added='cats_paper', others_name='Residual cells', min_score=0.4)"
   ]
  },
  {
   "cell_type": "code",
   "execution_count": null,
   "id": "norman-wages",
   "metadata": {},
   "outputs": [],
   "source": [
    "sc.pl.umap(adata_proietti, color=['leiden', 'cats_paper'])"
   ]
  },
  {
   "cell_type": "code",
   "execution_count": null,
   "id": "undefined-donna",
   "metadata": {},
   "outputs": [],
   "source": [
    "sc.pl.umap(adata_proietti, color=  dict_cats_paper['glial cells'] + ['cats_paper'], cmap=magma, ncols=3)"
   ]
  },
  {
   "cell_type": "code",
   "execution_count": null,
   "id": "nonprofit-terror",
   "metadata": {},
   "outputs": [],
   "source": [
    "sc.pl.umap(adata_proietti, color= dict_cats_paper['MuSCs'] + ['cats_paper'], cmap=magma, ncols=3)"
   ]
  },
  {
   "cell_type": "code",
   "execution_count": null,
   "id": "color-scenario",
   "metadata": {},
   "outputs": [],
   "source": [
    "sc.pl.umap(adata_proietti, color= dict_cats_paper['SMMCs'] + ['cats_paper'], cmap=magma, ncols=3)"
   ]
  },
  {
   "cell_type": "code",
   "execution_count": null,
   "id": "manual-hunter",
   "metadata": {},
   "outputs": [],
   "source": [
    "sc.pl.umap(adata_proietti, color= dict_cats_paper['Residual (FAPs)'] + ['cats_paper'], cmap=magma, ncols=3)"
   ]
  },
  {
   "cell_type": "code",
   "execution_count": null,
   "id": "fantastic-enhancement",
   "metadata": {},
   "outputs": [],
   "source": [
    "sc.pl.umap(adata_proietti, color= dict_cats_paper['Residual (Teno)'] + ['cats_paper'], cmap=magma, ncols=3)"
   ]
  },
  {
   "cell_type": "code",
   "execution_count": null,
   "id": "political-cancer",
   "metadata": {},
   "outputs": [],
   "source": [
    "sc.pl.umap(adata_proietti, color= dict_cats_paper['Residual (Others)'] + ['cats_paper'], cmap=magma, ncols=3)"
   ]
  },
  {
   "cell_type": "code",
   "execution_count": null,
   "id": "complex-technology",
   "metadata": {},
   "outputs": [],
   "source": [
    "sc.pl.umap(adata_proietti, color= ['Ngfr'] + ['cats_paper'], cmap=magma, ncols=3)"
   ]
  },
  {
   "cell_type": "markdown",
   "id": "announced-composer",
   "metadata": {},
   "source": [
    "There are some interesting minor populations, so we are going to extract DEGs. There are two minor populations within MuSCs, the Residual (Others)"
   ]
  },
  {
   "cell_type": "code",
   "execution_count": null,
   "id": "compressed-honey",
   "metadata": {},
   "outputs": [],
   "source": [
    "sc.tl.rank_genes_groups(adata_proietti, groupby='leiden')"
   ]
  },
  {
   "cell_type": "code",
   "execution_count": null,
   "id": "knowing-effect",
   "metadata": {},
   "outputs": [],
   "source": [
    "sc.pl.rank_genes_groups_tracksplot(adata_proietti, dendrogram=False)"
   ]
  }
 ],
 "metadata": {
  "kernelspec": {
   "display_name": "Python [conda env:alex-base] *",
   "language": "python",
   "name": "conda-env-alex-base-py"
  },
  "language_info": {
   "codemirror_mode": {
    "name": "ipython",
    "version": 3
   },
   "file_extension": ".py",
   "mimetype": "text/x-python",
   "name": "python",
   "nbconvert_exporter": "python",
   "pygments_lexer": "ipython3",
   "version": "3.8.0"
  }
 },
 "nbformat": 4,
 "nbformat_minor": 5
}
