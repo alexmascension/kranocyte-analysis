{
 "cells": [
  {
   "cell_type": "code",
   "execution_count": null,
   "id": "d3f36890-a19a-4b6b-961c-ff9f3491e84a",
   "metadata": {},
   "outputs": [],
   "source": [
    "import scanpy as sc\n",
    "import scanpy.external as sce\n",
    "import pandas as pd\n",
    "import numpy as np\n",
    "import os\n",
    "import shutil\n",
    "import triku as tk\n",
    "import matplotlib.pyplot as plt\n",
    "import matplotlib as mpl\n",
    "import ray\n",
    "import subprocess\n",
    "from scipy.sparse import csr_matrix\n",
    "from IPython.display import display, HTML\n",
    "import mygene as mg\n",
    "\n",
    "from tqdm import tqdm\n",
    "# from tqdm.notebook import tqdm\n",
    "\n",
    "from bokeh.io import show, output_notebook, reset_output\n",
    "\n",
    "from scipy.sparse import csr_matrix, csc_matrix\n",
    "\n",
    "reset_output()\n",
    "output_notebook()"
   ]
  },
  {
   "cell_type": "code",
   "execution_count": null,
   "id": "da8b84a6-ab53-4d06-99f2-2fc61771ff26",
   "metadata": {},
   "outputs": [],
   "source": [
    "magma = [plt.get_cmap('magma')(i) for i in np.linspace(0,1, 80)]\n",
    "magma[0] = (0.88, 0.88, 0.88, 1)\n",
    "magma = mpl.colors.LinearSegmentedColormap.from_list(\"\", magma[:65])\n",
    "\n",
    "seed = 0"
   ]
  },
  {
   "cell_type": "code",
   "execution_count": null,
   "id": "122a9f14-88bd-4e76-bfc0-0407742bc53e",
   "metadata": {},
   "outputs": [],
   "source": [
    "mpl.rcParams['figure.dpi'] = 100"
   ]
  },
  {
   "cell_type": "markdown",
   "id": "9a33867f-6823-414d-97f3-615f62228164",
   "metadata": {},
   "source": [
    "## Create custom db\n",
    "\n",
    "The database from CellPhone DB is somewhat limited. We are going to extend the database of interactions with external sources. To create the database we are going to create a blank database first, and include the annotations with pandas. Lastly, we are going to regenerate the new file with the "
   ]
  },
  {
   "cell_type": "code",
   "execution_count": null,
   "id": "e0b8e28b-6d5d-40d8-aa73-d8ad03eb41a1",
   "metadata": {},
   "outputs": [],
   "source": [
    "shutil.rmtree('dbsample')"
   ]
  },
  {
   "cell_type": "code",
   "execution_count": null,
   "id": "386d46ec-07c4-4650-9717-bbdec17d1d48",
   "metadata": {
    "scrolled": true,
    "tags": []
   },
   "outputs": [],
   "source": [
    "!cellphonedb database generate  --result-path dbsample"
   ]
  },
  {
   "cell_type": "code",
   "execution_count": null,
   "id": "62aadf99-b410-4681-9ea4-134d1b2e8b14",
   "metadata": {},
   "outputs": [],
   "source": [
    "# Create from biomart a dataset of mouse info with columns \"UniProtKB Gene Name symbol\" and \"UniProtKB Gene Name ID\""
   ]
  },
  {
   "cell_type": "code",
   "execution_count": null,
   "id": "fe50e143-aa88-4758-becd-1aa12562d35d",
   "metadata": {},
   "outputs": [],
   "source": [
    "df_proteins = pd.read_csv('dbsample/protein_generated.csv')\n",
    "df_genes = pd.read_csv('dbsample/gene_generated.csv')\n",
    "df_interactions = pd.read_csv('dbsample/interaction_input.csv')\n",
    "df_biomart = pd.read_csv('data/mart_export.txt', sep='\\t')"
   ]
  },
  {
   "cell_type": "code",
   "execution_count": null,
   "id": "f8e6b9e1-0e00-4a7c-8eb7-693aebaa7c10",
   "metadata": {},
   "outputs": [],
   "source": [
    "# Modify gene_generated to gene_inpuit by adding genes in mouse\n",
    "df_biomart.drop_duplicates(subset='UniProtKB Gene Name symbol', keep='last', ignore_index=True, inplace=True)\n",
    "df_biomart.index += len(df_genes)\n",
    "df_biomart.columns = ['gene_name', 'hgnc_symbol', 'uniprot', 'ensembl']\n",
    "df_genes = df_genes.append(df_biomart)\n",
    "\n",
    "df_genes.to_csv('dbsample/gene_input_custom.csv', index=None)"
   ]
  },
  {
   "cell_type": "markdown",
   "id": "36061f3b-de11-45f0-b1c3-44e263d1bb88",
   "metadata": {},
   "source": [
    "# Modify protein_generated to protein_inpuit by adding proteins in mouse\n",
    "df_biomart.drop_duplicates(subset='uniprot', keep='last', ignore_index=True, inplace=True)\n",
    "df_biomart.index += len(df_proteins)\n",
    "df_biomart = df_biomart[['gene_name', 'uniprot']]\n",
    "df_biomart.columns = ['protein_name', 'uniprot']\n",
    "df_biomart['protein_name'] = [str(i).upper() + '_MOUSE' for i in df_biomart['protein_name']] \n",
    "df_proteins = df_proteins.append(df_biomart)\n",
    "\n",
    "df_proteins.iloc[df_biomart.index, [2, 3 ,4]] = True # set transmembrane, peripheral and secreted to True\n",
    "\n",
    "df_proteins.to_csv('dbsample/protein_input_custom.csv', index=None)"
   ]
  },
  {
   "cell_type": "code",
   "execution_count": null,
   "id": "a843ceae-e2d2-4098-af6b-fe9b1a82c655",
   "metadata": {},
   "outputs": [],
   "source": [
    "# Download mouse and human pairs from http://tcm.zju.edu.cn/celltalkdb/download.php"
   ]
  },
  {
   "cell_type": "code",
   "execution_count": null,
   "id": "51014968-0229-4c50-bc89-a8d444c145ad",
   "metadata": {},
   "outputs": [],
   "source": [
    "dict_proteins_uniprot = dict(zip(df_proteins['protein_name'].values, df_proteins['uniprot'].values))"
   ]
  },
  {
   "cell_type": "code",
   "execution_count": null,
   "id": "6938f27a-c8cb-4c73-8a93-7a28f79ff4a8",
   "metadata": {},
   "outputs": [],
   "source": [
    "human_new_pairs_celltalkdb = pd.read_csv('data/human_lr_pair.txt', sep='\\t')\n",
    "mouse_new_pairs_celltalkdb = pd.read_csv('data/mouse_lr_pair.txt', sep='\\t')"
   ]
  },
  {
   "cell_type": "code",
   "execution_count": null,
   "id": "0a7df04f-062b-424c-9f5a-8a41b3b1bff1",
   "metadata": {},
   "outputs": [],
   "source": [
    "human_new_pairs_celltalkdb = human_new_pairs_celltalkdb[['ligand_gene_symbol', 'receptor_gene_symbol']]\n",
    "human_new_pairs_celltalkdb.columns = ['protein_name_a', 'protein_name_b']\n",
    "human_new_pairs_celltalkdb += '_HUMAN'\n",
    "human_new_pairs_celltalkdb['partner_a'] = [dict_proteins_uniprot[i] if i in dict_proteins_uniprot else np.NaN for i in human_new_pairs_celltalkdb['protein_name_a']]\n",
    "human_new_pairs_celltalkdb['partner_b'] = [dict_proteins_uniprot[i] if i in dict_proteins_uniprot else np.NaN for i in human_new_pairs_celltalkdb['protein_name_b']]\n",
    "human_new_pairs_celltalkdb = human_new_pairs_celltalkdb.dropna().reset_index(drop=True)\n",
    "human_new_pairs_celltalkdb.index += len(df_interactions)\n",
    "df_interactions = df_interactions.append(human_new_pairs_celltalkdb)"
   ]
  },
  {
   "cell_type": "code",
   "execution_count": null,
   "id": "f72d3a88-6898-4970-bbce-f277e7e9a776",
   "metadata": {},
   "outputs": [],
   "source": [
    "mouse_new_pairs_celltalkdb = mouse_new_pairs_celltalkdb[['ligand_gene_symbol', 'receptor_gene_symbol']]\n",
    "mouse_new_pairs_celltalkdb.columns = ['protein_name_a', 'protein_name_b']\n",
    "mouse_new_pairs_celltalkdb = mouse_new_pairs_celltalkdb.apply(lambda x: x.astype(str).str.upper()) + '_MOUSE'\n",
    "mouse_new_pairs_celltalkdb['partner_a'] = [dict_proteins_uniprot[i] if i in dict_proteins_uniprot else np.NaN for i in mouse_new_pairs_celltalkdb['protein_name_a']]\n",
    "mouse_new_pairs_celltalkdb['partner_b'] = [dict_proteins_uniprot[i] if i in dict_proteins_uniprot else np.NaN for i in mouse_new_pairs_celltalkdb['protein_name_b']]\n",
    "mouse_new_pairs_celltalkdb = mouse_new_pairs_celltalkdb.dropna().reset_index(drop=True)\n",
    "mouse_new_pairs_celltalkdb.index += len(df_interactions)\n",
    "df_interactions = df_interactions.append(mouse_new_pairs_celltalkdb)"
   ]
  },
  {
   "cell_type": "code",
   "execution_count": null,
   "id": "f8cf470a-a75c-4b77-b5f0-ec8870beceba",
   "metadata": {},
   "outputs": [],
   "source": [
    "df_interactions['annotation_strategy'] = 'curated'\n",
    "df_interactions.to_csv('dbsample/interaction_input_custom.csv')"
   ]
  },
  {
   "cell_type": "code",
   "execution_count": null,
   "id": "a38746a3-0fa2-47f4-aa0b-5ef022833ad9",
   "metadata": {},
   "outputs": [],
   "source": [
    "!cellphonedb database generate  --result-path dbsample --user-interactions-only --user-gene dbsample/gene_input_custom.csv --user-protein dbsample/protein_input_custom.csv --user-interactions dbsample/interaction_input_custom.csv"
   ]
  },
  {
   "cell_type": "code",
   "execution_count": null,
   "id": "1ea76412-dde4-4f9d-a79a-992194c38697",
   "metadata": {},
   "outputs": [],
   "source": [
    "list_files = [i for i in os.listdir('dbsample') if i[-2:] == 'db' ]\n",
    "os.rename(f'dbsample/{list_files[-1]}', 'dbsample/customdb.db')"
   ]
  },
  {
   "cell_type": "markdown",
   "id": "f577037e-44b7-4bba-a72c-3ad1eccac8a0",
   "metadata": {},
   "source": [
    "# Check VWF and ANGPT pathways on krano and endo\n",
    "\n",
    "We are going to select datasets with decent endothelial and krano representation (Giordani, Dell'Orso, and De Micheli)."
   ]
  },
  {
   "cell_type": "code",
   "execution_count": null,
   "id": "0b299194-9537-4ee2-bccd-a69521bcb652",
   "metadata": {},
   "outputs": [],
   "source": [
    "adata_joined = sc.read('data/processed/joined.h5ad')\n",
    "adata_joined_sub = sc.read('data/processed/joined_sub.h5ad')"
   ]
  },
  {
   "cell_type": "code",
   "execution_count": null,
   "id": "cc9a0f67-0835-472b-a360-76dcbc6858bf",
   "metadata": {},
   "outputs": [],
   "source": [
    "sc.pl.umap(adata_joined, color=['dataset', 'krano_type', 'Cldn5', 'Pecam1', 'Vwf', 'Angpt2'], cmap=magma, ncols=3)"
   ]
  },
  {
   "cell_type": "code",
   "execution_count": null,
   "id": "35cc9c88-7812-45fc-9d09-391136fc8dc7",
   "metadata": {},
   "outputs": [],
   "source": [
    "adata_giordani_sub = sc.read('data/processed/giordani_sub.h5')\n",
    "sc.tl.leiden(adata_giordani_sub, resolution=1.2)"
   ]
  },
  {
   "cell_type": "code",
   "execution_count": null,
   "id": "b6fcfe70-63b9-402b-95f7-cea5c16e438c",
   "metadata": {},
   "outputs": [],
   "source": [
    "adata_dellorso_sub = sc.read('data/processed/dellorso_sub.h5')\n",
    "sc.tl.leiden(adata_dellorso_sub, resolution=1.2)"
   ]
  },
  {
   "cell_type": "markdown",
   "id": "906bb88e-3cb2-4a77-98d9-7bc13725fe82",
   "metadata": {},
   "source": [
    "## DEG analysis on VWF$^+$/SELP$^+$ endothelial cells\n",
    "\n",
    "We are going to focus on WVF$^+$SELP$^+$ endothelial cells. These two are the molecules stores within Weibel-Pañade bodies, and therefore are the ones that might be interacting with the kranocyte. Although De Micheli dataset shows a positive expression of Vwf, it does not express Selp, whereas Giordani and Dell'Orso do it. Just to make sure, we will do the analysis on these two datasets."
   ]
  },
  {
   "cell_type": "markdown",
   "id": "24e81631-fbdb-4a30-97e5-617950894e03",
   "metadata": {},
   "source": [
    "### Giordani"
   ]
  },
  {
   "cell_type": "code",
   "execution_count": null,
   "id": "39bd86ca-421d-4cc2-8981-9718b0d6761d",
   "metadata": {},
   "outputs": [],
   "source": [
    "sc.pl.umap(adata_giordani_sub, color=['cell_type','leiden','krano_type','Vwf', 'Selp',], cmap=magma, ncols=2, legend_loc='on data')"
   ]
  },
  {
   "cell_type": "markdown",
   "id": "0a74049d-f686-4545-b025-d0d6742f8e7c",
   "metadata": {},
   "source": [
    "#### Ligand - receptor pairs "
   ]
  },
  {
   "cell_type": "code",
   "execution_count": null,
   "id": "327a4a56-e8ac-4177-aaa0-41946aad8abb",
   "metadata": {},
   "outputs": [],
   "source": [
    "dict_human_symbol_to_gene = dict(zip(df_genes.iloc[:,2], df_genes.iloc[:,3]))\n",
    "\n",
    "list_genes = []\n",
    "\n",
    "for i in adata_giordani_sub.var_names:\n",
    "    try:\n",
    "        gene = dict_human_symbol_to_gene[i]\n",
    "    except:\n",
    "        gene = f'gene_{i}'\n",
    "    list_genes.append(gene)"
   ]
  },
  {
   "cell_type": "code",
   "execution_count": null,
   "id": "3ec3e0d6-fb67-44cb-a87a-dd4e595ecb20",
   "metadata": {},
   "outputs": [],
   "source": [
    "df_counts = adata_giordani_sub.to_df().transpose()\n",
    "df_counts.index = list_genes\n",
    "df_counts.to_csv('results/cpdb/giordani_counts.txt', sep='\\t')"
   ]
  },
  {
   "cell_type": "code",
   "execution_count": null,
   "id": "789231f1-fde2-48d2-845d-cfab36c2fd62",
   "metadata": {},
   "outputs": [],
   "source": [
    "df_leiden = adata_giordani_sub.obs['leiden'].astype(str).to_frame()\n",
    "df_leiden[~df_leiden.isin(['9', '20', '19', '15', '16'])] = '0'\n",
    "df_leiden.to_csv('results/cpdb/giordani_meta.txt', sep='\\t', header=None)"
   ]
  },
  {
   "cell_type": "code",
   "execution_count": null,
   "id": "bfa3b038-34d2-4d1f-bf37-5f85a55cd7b8",
   "metadata": {},
   "outputs": [],
   "source": [
    "p_threshold = 0.001"
   ]
  },
  {
   "cell_type": "code",
   "execution_count": null,
   "id": "68c93565-4de7-4f4e-805f-619595eda132",
   "metadata": {},
   "outputs": [],
   "source": [
    "!cellphonedb method statistical_analysis results/cpdb/giordani_meta.txt results/cpdb/giordani_counts.txt --pvalue {p_threshold} --threads 32 --iterations 500 --database dbsample/customdb.db --output-path results/cpdb/out_giordani"
   ]
  },
  {
   "cell_type": "code",
   "execution_count": null,
   "id": "daea17b9-c622-4954-96d6-0293814e20c7",
   "metadata": {},
   "outputs": [],
   "source": [
    "df_results = pd.read_csv('results/cpdb/out_giordani/pvalues.txt', sep='\\t')"
   ]
  },
  {
   "cell_type": "code",
   "execution_count": null,
   "id": "7e1d39f3-206c-4215-be1b-586e6037e51b",
   "metadata": {},
   "outputs": [],
   "source": [
    "print(',      '.join(sorted([\"'\" + \"', '\".join(i.split('_')) + \"'\" for i in df_results[(df_results['19|9'] < p_threshold) | (df_results['9|19'] < p_threshold)]['interacting_pair']])))"
   ]
  },
  {
   "cell_type": "code",
   "execution_count": null,
   "id": "34f4d959-fe31-4b55-9b68-79184be88fb4",
   "metadata": {
    "scrolled": true,
    "tags": []
   },
   "outputs": [],
   "source": [
    "# Celltalk DB pairs (9|19) (KRANO A)\n",
    "sc.pl.umap(adata_giordani_sub, color=['cell_type','krano_type',\n",
    "                                      'Vwf', 'Selp',\n",
    "'Ackr1', 'Ccl2',      'Ackr1', 'Cxcl1',      'Ackr1', 'Cxcl2',      'Ackr1', 'Cxcl5',      'Adam10', 'Lrp1',      'Adam10', 'Tspan5',      'Adam9', 'Itga6',      'Adam9', 'Itgav',      'Anxa2', 'Cd44',      'Apoe', 'Sdc4',      'Bsg', 'Sele',      'Cd36', 'Thbs1',      'Cd44', 'Bgn',      'Cd44', 'Bsg',      'Cd44', 'Mif',      'Cd47', 'Thbs1',      'Cd63', 'Timp1',      'Cd81', 'Gpc3',      'Cd9', 'Hbegf',      'Cd93', 'Col1a1',      'Col18a1', 'Gpc4',      'Col1a2', 'Cd44',      'Col1a2', 'Cd93',      'Cxcl10', 'Sdc4',      'Flt1', 'Pgf',      'Flt1', 'Vegfa',      'Fn1', 'Itga5',      'Hbegf', 'Egfr',      'Hras', 'Tlr2',      'Hspg2', 'Itgb1',      'Il6', 'Egfr',      'Il6', 'Il6st',      'Insr', 'Igf1',      'Itga5', 'Cxcl12',      'Itga5', 'Thbs1',      'Itga6', 'Lamb1',      'Itgav', 'Adam10',      'Itgav', 'Adam15',      'Itgav', 'Vwf',      'Itgb1', 'Col1a2',      'Itgb1', 'Cxcl12',      'Itgb1', 'Lamb1',      'Itgb1', 'Mdk',      'Itgb1', 'Mmp2',      'Itgb1', 'Thbs1',      'Lama2', 'Itgb1',      'Lama2', 'Itgb4',      'Ldlr', 'Apoe',      'Lif', 'Il6st',      'Lifr', 'Lif',      'Lrp1', 'Apoe',      'Lrp1', 'Serpine1',      'Lrp1', 'Vwf',      'Mfge8', 'Itgav',      'Mmp14', 'Flt1',      'Ntn1', 'Adora2b',      'Pgf', 'Nrp2',      'Plaur', 'Plau',      'Plaur', 'Serpine1',      'Plaur', 'Srpx2',      'Plaur', 'Vtn',      'Ptprb', 'Vegfa',      'Sema3b', 'Nrp2',      'Serpine2', 'Plaur',      'Spp1', 'Cd44',      'Spp1', 'Itgb1',      'Tgm2', 'Sdc4',      'Thy1', 'Fyn',      'Tnfrsf1a', 'Grn',      'Vcam1', 'Itgb1',      'Vcan', 'Selp',      'Vegfa', 'Npr1',      'Vegfa', 'Nrp2'\n",
    "                                     ], cmap=magma, ncols=4, legend_loc='on data')"
   ]
  },
  {
   "cell_type": "code",
   "execution_count": null,
   "id": "7e12a4cf-0c12-4650-84a0-8f75728bd8c1",
   "metadata": {},
   "outputs": [],
   "source": [
    "print(',      '.join(sorted([\"'\" + \"', '\".join(i.split('_')) + \"'\" for i in df_results[(df_results['16|19'] < p_threshold) | (df_results['19|16'] < p_threshold)]['interacting_pair']])))"
   ]
  },
  {
   "cell_type": "code",
   "execution_count": null,
   "id": "6d1a27b5-3be4-40d8-8cbf-bcaa3b65b326",
   "metadata": {
    "scrolled": true,
    "tags": []
   },
   "outputs": [],
   "source": [
    "# Celltalk DB pairs (16|19) (KRANO A)\n",
    "sc.pl.umap(adata_giordani_sub, color=['cell_type','krano_type',\n",
    "                                      'Vwf', 'Selp',\n",
    "'Adam10', 'Lrp1',      'Adam10', 'Tspan5',      'Adam9', 'Itgav',      'Anxa2', 'Cd44',      'App', 'Lrp1',      'App', 'Lrp4',      'Calr', 'Lrp1',      'Ccrl2', 'Rarres2',      'Cd36', 'Thbs1',      'Cd44', 'Bgn',      'Cd44', 'Bsg',      'Cd44', 'Mif',      'Cd47', 'Thbs1',      'Cd63', 'Timp1',      'Cd81', 'Gpc3',      'Cd9', 'Hbegf',      'Cd93', 'Col1a1',      'Col18a1', 'Gpc4',      'Col1a2', 'Cd93',      'Col4a2', 'Cd93',      'Cx3cl1', 'Itgav',      'Dll1', 'Notch2',      'Egfl7', 'Notch2',      'Egfr', 'Gdf15',      'Flt1', 'Pgf',      'Flt1', 'Vegfa',      'Fn1', 'Cd44',      'Fn1', 'Itga5',      'Hbegf', 'Egfr',      'Hspg2', 'Itgb1',      'Il6', 'Il6st',      'Itga1', 'Thbs1',      'Itga5', 'Cxcl12',      'Itga5', 'Thbs1',      'Itgav', 'Adam10',      'Itgav', 'Adam15',      'Itgav', 'Cxcl12',      'Itgav', 'Egfl7',      'Itgav', 'Igf1',      'Itgav', 'Mmp2',      'Itgav', 'Spp1',      'Itgav', 'Thbs1',      'Itgav', 'Vegfa',      'Itgav', 'Vtn',      'Itgav', 'Vwf',      'Itgb1', 'Col1a2',      'Itgb1', 'Cxcl12',      'Itgb1', 'Lamb1',      'Itgb1', 'Mdk',      'Itgb1', 'Mmp2',      'Itgb1', 'Thbs1',      'Lama2', 'Itgb1',      'Lif', 'Il6st',      'Lifr', 'Lif',      'Lrp1', 'Ctsd',      'Lrp1', 'Plat',      'Lrp1', 'Serpine1',      'Lrp1', 'Vwf',      'Mcam', 'Ntn1',      'Mcfd2', 'Lman1',      'Notch1', 'Dlk1',      'Notch1', 'Mfap2',      'Notch2', 'Dll4',      'Notch2', 'Jag1',      'Nrp2', 'Sema3g',      'Ntn1', 'Adora2b',      'Pdgfra', 'Pdgfa',      'Plaur', 'Plau',      'Plaur', 'Serpine1',      'Plaur', 'Srpx2',      'Plaur', 'Vtn',      'Psen2', 'Notch2',      'Ptprb', 'Vegfa',      'Sdc1', 'Thbs1',      'Sema3f', 'Nrp2',      'Serpine2', 'Plaur',      'Spp1', 'Itgb1',      'Tgfb1', 'Sdc2',      'Tgfbr3', 'Tgfb1',      'Tgm2', 'Sdc4',      'Tnfrsf12a', 'Tnfsf12',      'Tnfrsf1a', 'Grn',      'Vcam1', 'Itgb1',      'Vegfa', 'Sdc2',      'Vim', 'Cd44'\n",
    "                                     ], cmap=magma, ncols=4, legend_loc='on data')"
   ]
  },
  {
   "cell_type": "code",
   "execution_count": null,
   "id": "c820fc98-1964-44f4-be44-82e52bfa7f03",
   "metadata": {},
   "outputs": [],
   "source": [
    "print(',      '.join(sorted([\"'\" + \"', '\".join(i.split('_')) + \"'\" for i in df_results[(df_results['19|20'] < p_threshold) | (df_results['20|19'] < p_threshold)]['interacting_pair']])))"
   ]
  },
  {
   "cell_type": "code",
   "execution_count": null,
   "id": "aeef172e-a235-4b60-993e-4fff6ddffea8",
   "metadata": {
    "scrolled": true,
    "tags": []
   },
   "outputs": [],
   "source": [
    "# CellphoneDB pairs (20|19) (KRANO A)\n",
    "sc.pl.umap(adata_giordani_sub, color=['cell_type','krano_type',\n",
    "'Ackr1', 'Ccl2',      'Ackr1', 'Cxcl1',      'Ackr1', 'Cxcl2',      'Ackr1', 'Cxcl5',      'Adam10', 'Axl',      'Adam10', 'Lrp1',      'Adam10', 'Tspan5',      'Adam9', 'Itga6',      'Anxa2', 'Cd44',      'Apoe', 'Sdc4',      'App', 'Lrp1',      'App', 'Lrp4',      'Cav1', 'Bsg',      'Cav1', 'Igfbp5',      'Cd36', 'Thbs1',      'Cd44', 'Bgn',      'Cd44', 'Bsg',      'Cd44', 'Mif',      'Cd47', 'Thbs1',      'Cd63', 'Timp1',      'Cd81', 'Gpc3',      'Cd93', 'Col1a1',      'Col1a2', 'Cd93',      'Dll1', 'Notch2',      'Egfl7', 'Notch2',      'Ephb4', 'Efnb2',      'F3', 'Tfpi',      'Gas6', 'Axl',      'Hras', 'Cav1',      'Hspg2', 'Col13a1',      'Hspg2', 'Itgb1',      'Il6', 'Il6st',      'Insr', 'Igf1',      'Itga5', 'Ccn2',      'Itga5', 'Cxcl12',      'Itga5', 'Thbs1',      'Itga6', 'Lamb1',      'Itgav', 'Adam10',      'Itgav', 'Adam15',      'Itgav', 'Egfl7',      'Itgav', 'Hmgb1',      'Itgav', 'Vwf',      'Itgb1', 'Col1a2',      'Itgb1', 'Cxcl12',      'Itgb1', 'Mdk',      'Itgb1', 'Mmp2',      'Itgb1', 'Thbs1',      'Lama2', 'Itgb1',      'Lama2', 'Itgb4',      'Ldlr', 'Apoe',      'Lif', 'Il6st',      'Lifr', 'Lif',      'Lrp1', 'Apoe',      'Lrp1', 'Vwf',      'Mcam', 'Ntn1',      'Mfge8', 'Itgav',      'Ntn1', 'Adora2b',      'Ntrk2', 'Ntf3',      'Pgf', 'Nrp2',      'Plau', 'Lrp1',      'Psen2', 'Notch2',      'Ptprb', 'Vegfa',      'Scarb1', 'Apoe',      'Scarb2', 'Thbs1',      'Sdc1', 'Thbs1',      'Sema3b', 'Nrp2',      'Spp1', 'Itgb1',      'Tgm2', 'Sdc4',      'Tnfrsf1a', 'Grn',      'Vcan', 'Selp',      'Vegfa', 'Npr1',      'Vegfa', 'Nrp2',      'Vim', 'Cd44'\n",
    "                                     ], cmap=magma, ncols=4, legend_loc='on data')"
   ]
  },
  {
   "cell_type": "code",
   "execution_count": null,
   "id": "11e25fed-3214-4df9-856f-90fb391117fd",
   "metadata": {},
   "outputs": [],
   "source": [
    "print(',      '.join(sorted([\"'\" + \"', '\".join(i.split('_')) + \"'\" for i in df_results[(df_results['9|15'] < p_threshold) | (df_results['15|9'] < p_threshold)]['interacting_pair']])))"
   ]
  },
  {
   "cell_type": "code",
   "execution_count": null,
   "id": "c3939254-601a-4a93-8ab2-ff8d1f9458b7",
   "metadata": {
    "scrolled": true,
    "tags": []
   },
   "outputs": [],
   "source": [
    "# CellphoneDB pairs (9|15) (KRANO B)\n",
    "sc.pl.umap(adata_giordani_sub, color=['cell_type','krano_type',\n",
    "'Abca1', 'Pltp',      'Ackr1', 'Ccl2',      'Ackr1', 'Cxcl1',      'Ackr1', 'Cxcl2',      'Adam10', 'Axl',      'Adam10', 'Lrp1',      'Adam10', 'Tspan17',      'Adam10', 'Tspan5',      'Adam9', 'Itga6',      'Adam9', 'Itgav',      'Adam9', 'Itgb1',      'Adam9', 'Itgb5',      'Anxa2', 'Cd44',      'Apoe', 'Abca1',      'Apoe', 'Sdc4',      'App', 'Lrp1',      'App', 'Lrp4',      'App', 'Notch2',      'Bcam', 'Lama5',      'Bsg', 'Sele',      'Cav1', 'Bsg',      'Cav1', 'Igfbp5',      'Cd14', 'Cd55',      'Cd36', 'Thbs1',      'Cd44', 'Bgn',      'Cd44', 'Bsg',      'Cd47', 'Thbs1',      'Cd63', 'Timp1',      'Cd74', 'Mif',      'Cd9', 'Hbegf',      'Cd93', 'Col1a1',      'Col1a2', 'Cd93',      'Col3a1', 'Itgb1',      'Cxcl10', 'Sdc4',      'Dll1', 'Notch2',      'Eng', 'Tgfb3',      'Fbln1', 'Itgb1',      'Fn1', 'Itga5',      'Gas6', 'Axl',      'Hbegf', 'Egfr',      'Hmgb1', 'Ly96',      'Hmgb1', 'Thbd',      'Hmgb1', 'Tlr2',      'Hras', 'Tlr2',      'Hsp90b1', 'Tlr2',      'Il6', 'Egfr',      'Il6', 'Il6st',      'Insr', 'Igf1',      'Itga5', 'Ccn2',      'Itga5', 'Cxcl12',      'Itga5', 'Postn',      'Itga5', 'Thbs1',      'Itgav', 'Adam10',      'Itgav', 'Adam15',      'Itgav', 'Vwf',      'Itgb1', 'Adam15',      'Itgb1', 'Cd14',      'Itgb1', 'Col1a1',      'Itgb1', 'Itgb1bp1',      'Itgb1', 'Lgals3bp',      'Itgb1', 'Mdk',      'Itgb1', 'Mmp2',      'Itgb1', 'Postn',      'Itgb1', 'Thbs1',      'Itgb1', 'Timp1',      'Itgb4', 'Lama5',      'Jam2', 'Itgb1',      'Lama2', 'Itgb1',      'Lama2', 'Itgb4',      'Ldlr', 'Apoe',      'Lgals3', 'Itgb1',      'Lgals3', 'Itgb4',      'Lrp1', 'Apoe',      'Lrp1', 'Ctsd',      'Lrp1', 'Hsp90b1',      'Lrp1', 'Plat',      'Lrp1', 'Serpine1',      'Lrp1', 'Thbs1',      'Lrp1', 'Timp1',      'Lrp1', 'Vwf',      'Lrp6', 'Apoe',      'Ly96', 'S100a8',      'Mfge8', 'Itgav',      'Mfge8', 'Pdgfrb',      'Mmp14', 'Flt1',      'Notch2', 'Jag1',      'Pdgfra', 'Pdgfa',      'Pdgfrb', 'Pdgfa',      'Plau', 'Lrp1',      'Plaur', 'Plau',      'Plaur', 'Serpine1',      'Plaur', 'Vtn',      'Prg4', 'Cd44',      'Pros1', 'Axl',      'Psen2', 'Notch2',      'Ptprb', 'Ptn',      'Sema3c', 'Nrp2',      'Sema3c', 'Plxnd1',      'Serpine2', 'Plaur',      'Spp1', 'Itgb1',      'Tek', 'Angptl1',      'Tgfb1', 'Eng',      'Tgfbr3', 'Tgfb3',      'Tgm2', 'Sdc4',      'Thy1', 'Fyn',      'Tlr2', 'Bgn',      'Tnfrsf1a', 'Grn',      'Tnfrsf1b', 'Grn',      'Traf1', 'Tnfsf9',      'Vcam1', 'Itgb1',      'Vcan', 'Selp',      'Vcan', 'Tlr2',      'Vim', 'Cd44'\n",
    "                                     ], cmap=magma, ncols=4, legend_loc='on data')"
   ]
  },
  {
   "cell_type": "code",
   "execution_count": null,
   "id": "a365adf9-5c1a-465b-9985-babc7f6c9150",
   "metadata": {},
   "outputs": [],
   "source": [
    "print(',      '.join(sorted([\"'\" + \"', '\".join(i.split('_')) + \"'\" for i in df_results[(df_results['16|15'] < p_threshold) | (df_results['15|16'] < p_threshold)]['interacting_pair']])))"
   ]
  },
  {
   "cell_type": "code",
   "execution_count": null,
   "id": "11a6e55c-1bde-4a61-84e6-1d669e79b38c",
   "metadata": {
    "scrolled": true,
    "tags": []
   },
   "outputs": [],
   "source": [
    "# CellphoneDB pairs (16|15) (KRANO B)\n",
    "sc.pl.umap(adata_giordani_sub, color=['cell_type','krano_type',\n",
    "'Acvrl1', 'Tgfb1',      'Adam10', 'Axl',      'Adam10', 'Lrp1',      'Adam10', 'Tspan17',      'Adam9', 'Itga6',      'Adam9', 'Itgav',      'Adam9', 'Itgb5',      'Anxa2', 'Cd44',      'App', 'Cd74',      'App', 'Lrp1',      'App', 'Lrp4',      'App', 'Notch2',      'Bcam', 'Lama5',      'Calr', 'Lrp1',      'Cav1', 'Igfbp5',      'Ccrl2', 'Rarres2',      'Cd44', 'Bsg',      'Cd47', 'Thbs1',      'Cd63', 'Timp1',      'Cd81', 'Gpc3',      'Cd9', 'Hbegf',      'Cd93', 'Col1a1',      'Ceacam1', 'Sdc4',      'Col1a2', 'Cd93',      'Col3a1', 'Itgb1',      'Col4a1', 'Cd93',      'Col4a2', 'Cd93',      'Col8a1', 'Itga1',      'Cx3cl1', 'Itgav',      'Cx3cl1', 'Itgb1',      'Dll1', 'Notch2',      'Egfl7', 'Notch2',      'Egfr', 'Gdf15',      'Eng', 'Tgfb3',      'Fbln1', 'Itgb1',      'Fn1', 'Cd44',      'Fn1', 'Flrt2',      'Fn1', 'Itga5',      'Fn1', 'Itgb1',      'Hbegf', 'Egfr',      'Hmgb1', 'Thbd',      'Itga1', 'Thbs1',      'Itga5', 'Postn',      'Itga5', 'Thbs1',      'Itgav', 'Adam10',      'Itgav', 'Adam15',      'Itgav', 'Egfl7',      'Itgav', 'Fbn1',      'Itgav', 'Igf1',      'Itgav', 'Mmp2',      'Itgav', 'Postn',      'Itgav', 'Spp1',      'Itgav', 'Thbs1',      'Itgav', 'Vegfa',      'Itgav', 'Vtn',      'Itgav', 'Vwf',      'Itgb1', 'Adam15',      'Itgb1', 'Col1a2',      'Itgb1', 'Itgb1bp1',      'Itgb1', 'Mdk',      'Itgb1', 'Mmp2',      'Itgb1', 'Postn',      'Itgb1', 'Thbs1',      'Itgb4', 'Lama5',      'Itgb5', 'Col18a1',      'Lama2', 'Itgb1',      'Lin7c', 'Abca1',      'Lrp1', 'Ctsd',      'Lrp1', 'Hsp90b1',      'Lrp1', 'Plat',      'Lrp1', 'Psap',      'Lrp1', 'Serpine1',      'Lrp1', 'Vwf',      'Lrp6', 'App',      'Lrp6', 'Hsp90b1',      'Mcam', 'Ntn1',      'Mcfd2', 'Lman1',      'Mmp14', 'Flt1',      'Notch1', 'Adam10',      'Notch1', 'Ccn3',      'Notch1', 'Jag1',      'Notch1', 'Mfap2',      'Notch1', 'Mfap5',      'Notch2', 'Dll4',      'Notch2', 'Jag1',      'Pdgfra', 'Pdgfa',      'Pdgfrb', 'Pdgfa',      'Plaur', 'Plau',      'Plaur', 'Serpine1',      'Plaur', 'Vtn',      'Pros1', 'Axl',      'Psen2', 'Notch2',      'Ptprb', 'Ptn',      'Sdc1', 'Ptn',      'Sdc1', 'Thbs1',      'Sema3c', 'Plxnd1',      'Sema7a', 'Itgb1',      'Serpine2', 'Plaur',      'Spp1', 'Itgb1',      'Tek', 'Angptl1',      'Tgfb1', 'Sdc2',      'Tgfbr3', 'Tgfb1',      'Tgm2', 'Sdc4',      'Tnfrsf12a', 'Tnfsf12',      'Tnfrsf1a', 'Grn',      'Tnfrsf1b', 'Grn',      'Traf1', 'Tnfsf9',      'Vcam1', 'Itgb1',      'Vegfa', 'Axl',      'Vegfa', 'Sdc2'\n",
    "                                      ], cmap=magma, ncols=4, legend_loc='on data')"
   ]
  },
  {
   "cell_type": "code",
   "execution_count": null,
   "id": "bb6f6764-2f31-4d90-ac04-755e37299b60",
   "metadata": {},
   "outputs": [],
   "source": [
    "print(',      '.join(sorted([\"'\" + \"', '\".join(i.split('_')) + \"'\" for i in df_results[(df_results['20|15'] < p_threshold) | (df_results['15|20'] < p_threshold)]['interacting_pair']])))"
   ]
  },
  {
   "cell_type": "code",
   "execution_count": null,
   "id": "22d7a3c2-def5-45b5-8b55-f0edd30adbfe",
   "metadata": {
    "scrolled": true,
    "tags": []
   },
   "outputs": [],
   "source": [
    "# CellphoneDB pairs (20|15) (KRANO B)\n",
    "sc.pl.umap(adata_giordani_sub, color=['cell_type','krano_type',\n",
    "                                      'Vwf', 'Selp',\n",
    "'Abca1', 'Pltp',      'Ackr1', 'Ccl2',      'Ackr1', 'Cxcl1',      'Ackr1', 'Cxcl2',      'Adam10', 'Axl',      'Adam10', 'Lrp1',      'Adam10', 'Tspan17',      'Adam10', 'Tspan5',      'Adam9', 'Itga6',      'Apoe', 'Abca1',      'Apoe', 'Sdc4',      'App', 'Cd47',      'App', 'Cd74',      'App', 'Lrp1',      'App', 'Lrp4',      'App', 'Notch2',      'Cav1', 'Bsg',      'Cav1', 'Igfbp5',      'Cd14', 'Cd55',      'Cd36', 'Comp',      'Cd36', 'Thbs1',      'Cd44', 'Bgn',      'Cd44', 'Bsg',      'Cd47', 'Thbs1',      'Cd63', 'Timp1',      'Cd81', 'Gpc3',      'Cd9', 'Hbegf',      'Cd93', 'Col1a1',      'Col1a2', 'Cd93',      'Col3a1', 'Itgb1',      'Col4a1', 'Cd93',      'Col4a2', 'Cd93',      'Dll1', 'Notch2',      'Egfl7', 'Notch2',      'Eng', 'Tgfb3',      'F3', 'Tfpi',      'Fbln1', 'Itgb1',      'Gas6', 'Axl',      'Hras', 'Cav1',      'Il6', 'Il6st',      'Insr', 'Igf1',      'Itga6', 'Lamb1',      'Itgav', 'Adam10',      'Itgav', 'Adam15',      'Itgav', 'Egfl7',      'Itgav', 'Hmgb1',      'Itgav', 'Vwf',      'Itgb1', 'Itgb1bp1',      'Itgb1', 'Mdk',      'Itgb1', 'Mmp2',      'Itgb1', 'Postn',      'Itgb1', 'Thbs1',      'Jam2', 'Itgb1',      'Lama2', 'Itgb4',      'Ldlr', 'Apoe',      'Lgals3', 'Itgb1',      'Lgals3', 'Itgb4',      'Lrp1', 'Apoe',      'Lrp1', 'Ccn2',      'Lrp1', 'Ctsd',      'Lrp1', 'Hsp90b1',      'Lrp1', 'Psap',      'Lrp1', 'Timp1',      'Lrp1', 'Vwf',      'Lrp6', 'Apoe',      'Lrp6', 'App',      'Mcam', 'Ntn1',      'Mfge8', 'Itgav',      'Mfge8', 'Itgb1',      'Mfge8', 'Itgb5',      'Mfge8', 'Pdgfrb',      'Mmp14', 'Flt1',      'Notch2', 'Jag1',      'Ntrk2', 'Ntf3',      'Pdgfb', 'Lrp1',      'Pdgfra', 'Pdgfb',      'Plau', 'Lrp1',      'Pros1', 'Axl',      'Psen2', 'Notch2',      'Ptprb', 'Ptn',      'Scarb2', 'Thbs1',      'Sdc1', 'Ptn',      'Sdc1', 'Thbs1',      'Sdc2', 'Ptn',      'Sema3c', 'Nrp2',      'Sema3c', 'Plxnd1',      'Spp1', 'Itgb1',      'Tek', 'Angptl1',      'Tgfb1', 'Eng',      'Tgm2', 'Sdc4',      'Tnfrsf1a', 'Grn',      'Vcam1', 'Itgb1',      'Vcan', 'Selp',      'Vim', 'Cd44'\n",
    "                                      ], cmap=magma, ncols=4, legend_loc='on data')"
   ]
  },
  {
   "cell_type": "markdown",
   "id": "e62a0310-13de-4aaa-b56c-112393b65629",
   "metadata": {},
   "source": [
    "#### VWF+ population differences"
   ]
  },
  {
   "cell_type": "code",
   "execution_count": null,
   "id": "5436c65a-b0f1-403c-926b-4dd3e42dc84d",
   "metadata": {},
   "outputs": [],
   "source": [
    "# DEGs of VWF population\n",
    "sc.tl.rank_genes_groups(adata_giordani_sub, groupby='leiden', groups=['9', '16', '20'])"
   ]
  },
  {
   "cell_type": "code",
   "execution_count": null,
   "id": "cea3f378-11b6-4cea-bfcf-ecbe965d2c38",
   "metadata": {},
   "outputs": [],
   "source": [
    "# Cluster 9 DEGs\n",
    "sc.pl.umap(adata_giordani_sub, color=['cell_type','krano_type', 'leiden'] + list(adata_giordani_sub.uns['rank_genes_groups']['names']['9'][:200])\n",
    "                                      , cmap=magma, ncols=4, legend_loc='on data')"
   ]
  },
  {
   "cell_type": "code",
   "execution_count": null,
   "id": "5de9bf69-0a5b-4a49-a555-c5a2291106fa",
   "metadata": {},
   "outputs": [],
   "source": [
    "# Cluster 16 DEGs\n",
    "sc.pl.umap(adata_giordani_sub, color=['cell_type','krano_type', 'leiden'] + list(adata_giordani_sub.uns['rank_genes_groups']['names']['16'][:200])\n",
    "                                      , cmap=magma, ncols=4, legend_loc='on data')"
   ]
  },
  {
   "cell_type": "code",
   "execution_count": null,
   "id": "593adda0-4800-4820-9fd1-80253bff8479",
   "metadata": {},
   "outputs": [],
   "source": [
    "# Cluster 20 DEGs\n",
    "sc.pl.umap(adata_giordani_sub, color=['cell_type','krano_type'] + list(adata_giordani_sub.uns['rank_genes_groups']['names']['20'][:200])\n",
    "                                      , cmap=magma, ncols=4, legend_loc='on data')"
   ]
  },
  {
   "cell_type": "code",
   "execution_count": null,
   "id": "17c90fd0-0e3c-4a3c-9c62-dde4068fbffe",
   "metadata": {},
   "outputs": [],
   "source": [
    "# DEGs overexpressed in large VWF (9)\n",
    "large_VWF_genes = ['Adamts9', 'Adgrl2', 'Arid5b', 'Bcr', 'Cemip2', 'Ch25h', 'Chd7', 'Cpne8', 'Crim1', 'Csf2rb2', 'Csf3', 'Cxcl10', 'Cxcl16', 'Ehd3', 'Emp1', 'Entpd1', \n",
    "                   'Erg', 'Etv6', 'Flnb', 'Frmd4a', 'Gabpb1', 'Gcnt2', 'Git1', 'Il13ra1', 'Il1rl1', 'Il6', 'Insr', 'Itprid2', 'Jak2', 'Lcn2', 'Man1a', 'Mapkapk2', 'Nav2', \n",
    "                   'Ndst1', 'Nt5e', 'Odc1', 'Olr1', 'Plaur', 'Plscr1', 'Ptpn14', 'Ptpre', 'Rab8b', 'Ralgds', 'Rcan1', 'Rfk', 'Rnf213', 'Sele', 'Selp', 'Sema3f', 'Sema6a', \n",
    "                   'Shb', 'Slco2a1', 'Slfn2', 'St3gal4', 'Stom', 'Tifa', 'Tll1', 'Tm4sf1', 'Tmem51', 'Tnfrsf11a', 'Tnip1', 'Traf1', 'Trim30a', 'Tspan5', 'Upp1', 'Zfp46', \n",
    "                   'Zfp703',] \n",
    "sc.pl.umap(adata_giordani_sub, color=['cell_type','krano_type'] + large_VWF_genes, cmap=magma, ncols=4, legend_loc='on data')"
   ]
  },
  {
   "cell_type": "code",
   "execution_count": null,
   "id": "6db82761-e6af-41c0-901e-d3fbca674880",
   "metadata": {},
   "outputs": [],
   "source": [
    "# DEGs overexpressed in middle VWF (16)\n",
    "middle_VWF_genes = ['Ace', 'Atp2a3', 'Clu', 'Cytl1', 'Emp3', 'Fam107a', 'Fbln5', 'Gja4', 'Gja5', 'Gkn3', 'Gm12840', 'Gprc5a', 'Ifitm10', 'Kcnn4', 'Lsr', \n",
    "                    'Mgp', 'Nebl', 'Nebl', 'Pdgfa', 'Sdcbp2', 'Sema3g', 'Sema4b', 'Sulf1', 'Tnfaip2', 'Tnfaip8', 'Trpv4'] \n",
    "sc.pl.umap(adata_giordani_sub, color=['cell_type','krano_type'] + middle_VWF_genes, cmap=magma, ncols=4, legend_loc='on data')"
   ]
  },
  {
   "cell_type": "code",
   "execution_count": null,
   "id": "03403da2-ccf3-45c7-ad32-2619b37abd09",
   "metadata": {},
   "outputs": [],
   "source": [
    "# DEGs overexpressed in small VWF (20)\n",
    "small_VWF_genes = ['Amigo2', 'Ctnnal1', 'Ctsh', 'Ehd4', 'Eln', 'Lhx6', 'Nuak1', 'Plvap', 'Prpf40b', 'Prss23', 'Rasa4', 'Sorbs2', 'Tmem176b', 'Vamp5', ]\n",
    "sc.pl.umap(adata_giordani_sub, color=['cell_type','krano_type'] + small_VWF_genes, cmap=magma, ncols=4, legend_loc='on data')"
   ]
  },
  {
   "cell_type": "code",
   "execution_count": null,
   "id": "652ab8b6-185c-4709-b7de-f1c43d81d317",
   "metadata": {},
   "outputs": [],
   "source": [
    "# DEGs similar in both VWF populations\n",
    "similar_VWF_genes = ['Acer3', 'Ackr1', 'Clu', 'Cpe', 'Ctnnal1', 'Fam174b', 'Il6st', 'Lifr', 'Lmo2', 'Lrg1', 'Nr2f2', 'Nt5e', 'Pdia5', 'Rbp1', 'Sncg', 'Spint2', 'Tagln', \n",
    "                     'Vcam1', 'Vwf',] \n",
    "sc.pl.umap(adata_giordani_sub, color=['cell_type','krano_type'] + similar_VWF_genes, cmap=magma, ncols=4, legend_loc='on data')"
   ]
  },
  {
   "cell_type": "code",
   "execution_count": null,
   "id": "3e0efc4e-4931-4ae6-88c2-1b314a21bb5a",
   "metadata": {},
   "outputs": [],
   "source": [
    "# Repeat in Dell'Orso dataset"
   ]
  },
  {
   "cell_type": "code",
   "execution_count": null,
   "id": "165f2285-a587-487c-9f34-79a2a1a6e7e3",
   "metadata": {},
   "outputs": [],
   "source": [
    "sc.pl.umap(adata_dellorso_sub, color=['cell_type','krano_type'] + [i for i in large_VWF_genes if i in adata_dellorso_sub.var_names], cmap=magma, ncols=4, legend_loc='on data')"
   ]
  },
  {
   "cell_type": "code",
   "execution_count": null,
   "id": "b39d3881-b545-4102-b5a8-0b865744d038",
   "metadata": {},
   "outputs": [],
   "source": [
    "sc.pl.umap(adata_dellorso_sub, color=['cell_type','krano_type'] + [i for i in middle_VWF_genes if i in adata_dellorso_sub.var_names], cmap=magma, ncols=4, legend_loc='on data')"
   ]
  },
  {
   "cell_type": "code",
   "execution_count": null,
   "id": "b1f55764-939f-401c-8816-632353123f26",
   "metadata": {},
   "outputs": [],
   "source": [
    "sc.pl.umap(adata_dellorso_sub, color=['cell_type','krano_type'] + [i for i in small_VWF_genes if i in adata_dellorso_sub.var_names], cmap=magma, ncols=4, legend_loc='on data')"
   ]
  },
  {
   "cell_type": "code",
   "execution_count": null,
   "id": "a1b843f9-d89b-4a4e-afda-ee9dd9575373",
   "metadata": {},
   "outputs": [],
   "source": [
    "sc.pl.umap(adata_dellorso_sub, color=['cell_type','krano_type'] + [i for i in similar_VWF_genes if i in adata_dellorso_sub.var_names], cmap=magma, ncols=4, legend_loc='on data')"
   ]
  },
  {
   "cell_type": "markdown",
   "id": "6c419f76-896b-41ad-bfc9-33b7382da7d5",
   "metadata": {},
   "source": [
    "#### Check GO terms and markers"
   ]
  },
  {
   "cell_type": "code",
   "execution_count": null,
   "id": "6f0382bf-9627-4ff8-92d8-19a083d0aa7e",
   "metadata": {},
   "outputs": [],
   "source": [
    "# “negative angiogenic regulators” (GO: 0016525) \n",
    "sc.pl.umap(adata_giordani_sub, color=['cell_type','krano_type', \n",
    "                                      'Adamts1', 'Adgrb1', 'Adrb2', 'Ago1', 'Agt', 'Amot', 'Angpt2', 'Angpt4', 'Apoh', 'Atf2', \n",
    "                                      'Atp2b4', 'Ccn6', 'Cd160', 'Cd36', \n",
    "                                      'Cldn5', 'Cnmd', 'Col4a2', 'Col4a3', 'Creb3l1', 'Cx3cr1', 'Cxcl10', 'Cxcr3', 'Dab2ip', \n",
    "                                      'Dcn', 'E2f2', 'Ecscr', 'Efna3', 'Epha2', 'Epn1', 'Epn2', 'Flt1', 'Foxj2', 'Foxo4', \n",
    "                                      'Gpr4', 'Gtf2i', 'Hgs', 'Hoxa5', 'Hrg', 'Il17f', 'Klf2', 'Klf4', 'Krit1', 'Lif', 'Mecp2', \n",
    "                                       'Naxe', 'Nf1', 'Ngfr', 'Optc', 'Pde3b', 'Pgk1', 'Pik3cb',  'Pml', \n",
    "                                      'Pparg', 'Prl7d1', 'Ptn', 'Ptprm', 'Rgcc', 'Rock1', 'Rock2', 'Sars', 'Sema6a', 'Serpine1', \n",
    "                                      'Serpinf1', 'Sh2b3', 'Shc1', 'Sparc', 'Spred1', 'Spry2', 'Stab1', 'Stard13', 'Stat1', 'Sulf1', \n",
    "                                      'Synj2bp', 'Tafa5', 'Tcf4', 'Tek', 'Tgfb2', 'Thbs1', 'Thbs2', 'Tie1', 'Tnf', 'Tnmd', 'Vash1',\n",
    "                                      ] , cmap=magma, ncols=4, legend_loc='on data')"
   ]
  },
  {
   "cell_type": "code",
   "execution_count": null,
   "id": "56679cb1-e3b2-4701-a46f-53174390cacc",
   "metadata": {},
   "outputs": [],
   "source": [
    "# “blood vessel remodeling genes” (GO: 0001974)\n",
    "sc.pl.umap(adata_giordani_sub, color=['cell_type','krano_type', \n",
    "                                      'Adra1b', 'Atg5', 'Atp7a', 'Axl', 'Bak1', 'Bax', 'Cbs', 'Chd7', 'Ednra', 'Eln', 'Epas1', 'Erg', 'Ext1', 'Fgf10', 'Fgf8', \n",
    "                                      'Foxc2', 'Hoxa3', 'Hrg', 'Igf1', 'Il18', 'Itga4', 'Jag1', 'Lif', 'Mdm2', 'Mef2c', 'Nfatc3', 'Nos2', 'Sema3c', 'Tbx1', 'Tgfb2', \n",
    "                                      'Tgfbr3', 'Vegfa', ] , cmap=magma, ncols=4, legend_loc='on data')                                    \n",
    "                                      "
   ]
  },
  {
   "cell_type": "code",
   "execution_count": null,
   "id": "9951e18e-9333-4384-8653-2ca0c2d1b7e6",
   "metadata": {},
   "outputs": [],
   "source": [
    "# Markers that ander said that should turn out negative. \n",
    "sc.pl.umap(adata_giordani_sub, color=['cell_type','krano_type', 'Lif', 'Lifr', 'Vegfa', 'Fgf2', 'Pdgfb', 'Dll4', 'Kdr', 'Angpt2'] \n",
    "                                      , cmap=magma, ncols=4, legend_loc='on data')"
   ]
  },
  {
   "cell_type": "markdown",
   "id": "fa7f2dbe-ee33-4ec0-9eac-80086efe6817",
   "metadata": {},
   "source": [
    "#### Analysis of Cd82+ population (on all datasets)\n",
    "It is expresed on Satellite, T cells, Glial cells and **krano B**"
   ]
  },
  {
   "cell_type": "code",
   "execution_count": null,
   "id": "cf0269d4-a276-45fd-a78c-1411ba30fa74",
   "metadata": {},
   "outputs": [],
   "source": [
    "adata_oprescu = sc.read('data/processed/oprescu_d0.h5')\n",
    "sc.pl.umap(adata_oprescu, color=['cell_type','krano_type', 'Cd82', 'Mpz', 'Plp1', 'Mbp'], cmap=magma, ncols=3, legend_loc='on data')"
   ]
  },
  {
   "cell_type": "code",
   "execution_count": null,
   "id": "a6f90c27-aadd-4a41-8032-aaa349b15dd5",
   "metadata": {},
   "outputs": [],
   "source": [
    "adata_oprescu_sub = sc.read('data/processed/oprescu_d0_sub.h5')\n",
    "sc.pl.umap(adata_oprescu_sub, color=['cell_type','krano_type', 'Cd82', 'Mpz', 'Plp1', 'Mbp'], cmap=magma, ncols=3, legend_loc='on data')"
   ]
  },
  {
   "cell_type": "code",
   "execution_count": null,
   "id": "3352c4b4-bb93-499d-89f3-8af3981c4034",
   "metadata": {},
   "outputs": [],
   "source": [
    "adata_de_micheli = sc.read('data/processed/de_micheli_mouse_d0.h5')\n",
    "sc.pl.umap(adata_de_micheli, color=['cell_type','krano_type', 'Cd82', 'Mpz', 'Plp1', 'Mbp'], cmap=magma, ncols=3, legend_loc='on data')"
   ]
  },
  {
   "cell_type": "code",
   "execution_count": null,
   "id": "5714b0f6-669f-4782-93bb-a9b4ff318d38",
   "metadata": {},
   "outputs": [],
   "source": [
    "adata_de_micheli_sub = sc.read('data/processed/de_micheli_mouse_d0_sub.h5')\n",
    "sc.pl.umap(adata_de_micheli_sub, color=['cell_type','krano_type', 'Cd82', 'Mpz', 'Plp1', 'Mbp'], cmap=magma, ncols=3, legend_loc='on data')"
   ]
  },
  {
   "cell_type": "code",
   "execution_count": null,
   "id": "4fa540ba-30ec-4aa9-873e-4ca7980f6659",
   "metadata": {},
   "outputs": [],
   "source": [
    "adata_dellorso = sc.read('data/processed/dellorso.h5')\n",
    "sc.pl.umap(adata_dellorso, color=['cell_type','krano_type', 'Cd82', 'Mpz', 'Plp1', 'Mbp'], cmap=magma, ncols=3, legend_loc='on data')"
   ]
  },
  {
   "cell_type": "code",
   "execution_count": null,
   "id": "de2245a5-5e2b-4180-8a61-416b41de3e3c",
   "metadata": {},
   "outputs": [],
   "source": [
    "sc.pl.umap(adata_dellorso_sub, color=['cell_type','krano_type', 'Cd82', 'Mpz', 'Plp1', 'Mbp'], cmap=magma, ncols=3, legend_loc='on data')"
   ]
  },
  {
   "cell_type": "code",
   "execution_count": null,
   "id": "ccd5c13d-d904-48b8-ada4-b7c96729078b",
   "metadata": {},
   "outputs": [],
   "source": [
    "adata_giordani = sc.read('data/processed/giordani.h5')\n",
    "sc.pl.umap(adata_giordani, color=['cell_type','krano_type', 'Cd82', \n",
    "                                 'Mpz', 'Plp1', 'Mbp'], cmap=magma, ncols=3, legend_loc='on data')"
   ]
  },
  {
   "cell_type": "code",
   "execution_count": null,
   "id": "a29c5753-3d24-4808-914c-447b8c492070",
   "metadata": {},
   "outputs": [],
   "source": [
    "sc.pl.umap(adata_giordani_sub, color=['cell_type','krano_type', 'Cd82', 'Mpz', 'Plp1', 'Mbp'], cmap=magma, ncols=3, legend_loc='on data')"
   ]
  },
  {
   "cell_type": "markdown",
   "id": "392814ab-db71-42f5-a17f-f66766200128",
   "metadata": {},
   "source": [
    "#### Analysis of Giordani secondary Cd82+ population [they are satellite cells]"
   ]
  },
  {
   "cell_type": "code",
   "execution_count": null,
   "id": "5630d222-eecd-4699-b17d-45016eaa40d1",
   "metadata": {},
   "outputs": [],
   "source": [
    "giordani_CD82_markers = ['Cd82', 'Asb5', 'Arl4d', 'Myod1', 'Slc39a14', 'Clcf1', 'Cdh15']"
   ]
  },
  {
   "cell_type": "code",
   "execution_count": null,
   "id": "2cc4a1af-1754-4833-ac47-9c59b0967af1",
   "metadata": {},
   "outputs": [],
   "source": [
    "sc.pl.umap(adata_giordani, color=['cell_type','krano_type'] + giordani_CD82_markers, cmap=magma, ncols=3, legend_loc='on data')"
   ]
  },
  {
   "cell_type": "code",
   "execution_count": null,
   "id": "53a65eb3-b6b3-476c-b8d4-696e13dc1ce5",
   "metadata": {},
   "outputs": [],
   "source": [
    "sc.pl.umap(adata_giordani_sub, color=['cell_type','krano_type'] + giordani_CD82_markers, cmap=magma, ncols=3, legend_loc='on data')"
   ]
  },
  {
   "cell_type": "markdown",
   "id": "b95468bf-3bb6-4d41-a8d4-db5184c34797",
   "metadata": {},
   "source": [
    "### Common pairs"
   ]
  },
  {
   "cell_type": "code",
   "execution_count": null,
   "id": "7b98a7bb-02b4-4758-9726-59b4864e3a7e",
   "metadata": {},
   "outputs": [],
   "source": [
    "# Marcadores de Starke y Scheppke\n",
    "sc.pl.umap(adata_giordani_sub, color=['cell_type','krano_type',\n",
    "                                      'Vwf', 'Selp',\n",
    "                                      'Itgav', 'Itgb3', 'Jag1', \n",
    "                                      'Flt1', # VEGFR1 \n",
    "                                      'Kdr', # VEGFR2\n",
    "                                      'Angpt2', \n",
    "                                      ], cmap=magma, ncols=4, legend_loc='on data')"
   ]
  },
  {
   "cell_type": "code",
   "execution_count": null,
   "id": "559b8c31-382b-4875-a83c-11d98ce2d0c7",
   "metadata": {},
   "outputs": [],
   "source": [
    "# Degs Vwf\n",
    "sc.pl.umap(adata_giordani_sub, color=['cell_type','krano_type',\n",
    "                                      'Selp', 'Lrg1', 'Csf3', 'Ackr1', 'Upp1', 'Spint2', 'Vcam1', 'Plvap', 'Vwf', 'Hs3st1', \n",
    "                                      'Il1r1', 'Ch25h', 'Stom', 'Sncg', 'Calcrl', 'Slco2a1', 'Sele', 'Csf2rb2', 'Chd7', 'Sema6a', 'Atp8b1', \n",
    "                                      'Olr1', 'Tll1', 'Tnfrsf11a', 'Zfp46', 'Tagln', 'Hif1a', 'Ptpn14', 'Tspan5', 'Adgrl2', 'Ptgs1', 'Traf1', 'Acer3', 'Rfk', \n",
    "                                      'Tmem51', 'Entpd1', 'Ehd3', 'Insr', 'Nt5e', 'Csf2rb', 'Lifr', 'Pdia5', 'Ralgds', 'Ehd3', 'Chp2', 'Pip4k2a', 'Hrh1' \n",
    "                                      ], cmap=magma, ncols=4, legend_loc='on data')"
   ]
  },
  {
   "cell_type": "code",
   "execution_count": null,
   "id": "09706c6e-30b1-4397-b525-eab29e0ae0fb",
   "metadata": {},
   "outputs": [],
   "source": [
    "lista_genes = ['Ngf', 'Ngfr', 'Sox17',\n",
    "                                        'Cpe', 'Bcam', 'Nr2f2', 'Cp', 'Plscr1'\n",
    "                                      ]"
   ]
  },
  {
   "cell_type": "code",
   "execution_count": null,
   "id": "f2bad103-f273-4dfe-97ba-56b04397be74",
   "metadata": {},
   "outputs": [],
   "source": [
    "sc.pl.umap(adata_giordani_sub, color=['cell_type','krano_type', ] + lista_genes\n",
    "           , cmap=magma, ncols=4, legend_loc='on data')"
   ]
  },
  {
   "cell_type": "code",
   "execution_count": null,
   "id": "0c9e404a-b427-4a56-8721-2110d8343c74",
   "metadata": {},
   "outputs": [],
   "source": [
    "# Degs Interesantes\n",
    "sc.pl.umap(adata_dellorso_sub, color=['cell_type','krano_type', ] + lista_genes, cmap=magma, ncols=4, legend_loc='on data')"
   ]
  },
  {
   "cell_type": "markdown",
   "id": "c16fb8ed-02ee-4c6a-9edf-31abe6983a20",
   "metadata": {},
   "source": [
    "# Analysis on S100b / Mcam / Egr2"
   ]
  },
  {
   "cell_type": "markdown",
   "id": "e3840e43-55bb-4426-84f4-e07b5462954b",
   "metadata": {},
   "source": [
    "## De micheli"
   ]
  },
  {
   "cell_type": "code",
   "execution_count": null,
   "id": "7bfc515f-24df-45e3-9eea-53ab3ebe986e",
   "metadata": {},
   "outputs": [],
   "source": [
    "adata_demicheli_sub = sc.read('data/processed/de_micheli_mouse_d0_sub.h5')\n",
    "sc.tl.leiden(adata_demicheli_sub, resolution=1.2)"
   ]
  },
  {
   "cell_type": "code",
   "execution_count": null,
   "id": "0abe9adf-04eb-4c92-8e0b-77ad8cb307db",
   "metadata": {},
   "outputs": [],
   "source": [
    "sc.pl.umap(adata_demicheli_sub, color=['leiden', 'cell_type', 'krano_type', 'S100b', 'Mcam', 'Egr2'], \n",
    "           cmap=magma, ncols=2, legend_loc = 'on data')\n",
    "\n",
    "adata_demicheli_sub_s100b = adata_demicheli_sub[adata_demicheli_sub.obs['leiden'].isin(['14', '15'])]"
   ]
  },
  {
   "cell_type": "code",
   "execution_count": null,
   "id": "48143ade-e980-4a56-a1de-42d5b193699d",
   "metadata": {},
   "outputs": [],
   "source": [
    "sc.pp.filter_genes(adata_demicheli_sub_s100b, min_counts=1)\n",
    "sc.pp.pca(adata_demicheli_sub_s100b, random_state=seed, n_comps=25)\n",
    "sc.pp.neighbors(adata_demicheli_sub_s100b, n_neighbors=int(len(adata_demicheli_sub_s100b) ** 0.5), metric='cosine')\n",
    "tk.tl.triku(adata_demicheli_sub_s100b)\n",
    "\n",
    "sc.tl.umap(adata_demicheli_sub_s100b, min_dist=0.2, random_state=seed)\n",
    "sc.tl.leiden(adata_demicheli_sub_s100b, resolution=0.2, random_state=seed)"
   ]
  },
  {
   "cell_type": "code",
   "execution_count": null,
   "id": "442c6be2-c2cd-40d9-94dd-c95c305dc281",
   "metadata": {},
   "outputs": [],
   "source": [
    "sc.pl.umap(adata_demicheli_sub_s100b, color=['leiden', 'S100b', 'Mcam', 'Egr2'], cmap=magma)"
   ]
  },
  {
   "cell_type": "code",
   "execution_count": null,
   "id": "0807be6b-a1dd-49b3-967a-20f3352e52be",
   "metadata": {},
   "outputs": [],
   "source": [
    "sc.tl.rank_genes_groups(adata_demicheli_sub_s100b, groupby='leiden')\n",
    "sc.pl.rank_genes_groups_tracksplot(adata_demicheli_sub_s100b, dendrogram=False, n_genes=100)"
   ]
  },
  {
   "cell_type": "code",
   "execution_count": null,
   "id": "6f263a0c-07f7-4af5-be45-5f1125305ec9",
   "metadata": {},
   "outputs": [],
   "source": [
    "sc.pl.umap(adata_demicheli_sub, color=['leiden', 'krano_type', 'S100b', 'Mcam', 'Egr2'] + \n",
    "           list(adata_demicheli_sub_s100b.uns['rank_genes_groups']['names']['0'][:100]),\n",
    "           cmap=magma, ncols=3, legend_loc = 'on data')"
   ]
  },
  {
   "cell_type": "code",
   "execution_count": null,
   "id": "224f5aa7-be9b-492d-bb6c-091443c05bba",
   "metadata": {},
   "outputs": [],
   "source": [
    "sc.pl.umap(adata_demicheli_sub, color=['leiden', 'krano_type', 'S100b', 'Mcam', 'Egr2'] + \n",
    "           list(adata_demicheli_sub_s100b.uns['rank_genes_groups']['names']['1'][:100]),\n",
    "           cmap=magma, ncols=3, legend_loc = 'on data')"
   ]
  },
  {
   "cell_type": "markdown",
   "id": "60a6d9c0-79bf-47e2-8a74-629f7f26a053",
   "metadata": {},
   "source": [
    "## Oprescu"
   ]
  },
  {
   "cell_type": "code",
   "execution_count": null,
   "id": "1971175d-43ce-427b-aa8d-ef178e07752f",
   "metadata": {},
   "outputs": [],
   "source": [
    "adata_oprescu_sub = sc.read('data/processed/oprescu_d0_sub.h5')\n",
    "sc.tl.leiden(adata_oprescu_sub, resolution=2)"
   ]
  },
  {
   "cell_type": "code",
   "execution_count": null,
   "id": "79a8fae8-2a11-40f9-a97c-b398a77b7a3d",
   "metadata": {},
   "outputs": [],
   "source": [
    "sc.pl.umap(adata_oprescu_sub, color=['leiden', 'krano_type', 'S100b', 'Mcam', 'Egr2'], \n",
    "           cmap=magma, ncols=2, legend_loc = 'on data')\n",
    "\n",
    "adata_oprescu_sub_s100b = adata_oprescu_sub[adata_oprescu_sub.obs['leiden'].isin(['22', '26'])]"
   ]
  },
  {
   "cell_type": "code",
   "execution_count": null,
   "id": "5eae713a-65e3-410e-a753-2c91f311e984",
   "metadata": {},
   "outputs": [],
   "source": [
    "sc.pp.filter_genes(adata_oprescu_sub_s100b, min_counts=1)\n",
    "sc.pp.pca(adata_oprescu_sub_s100b, random_state=seed, n_comps=25)\n",
    "sc.pp.neighbors(adata_oprescu_sub_s100b, n_neighbors=int(len(adata_oprescu_sub_s100b) ** 0.5), metric='cosine')\n",
    "tk.tl.triku(adata_oprescu_sub_s100b)\n",
    "\n",
    "sc.tl.umap(adata_oprescu_sub_s100b, min_dist=0.2, random_state=seed)\n",
    "sc.tl.leiden(adata_oprescu_sub_s100b, resolution=0.2, random_state=seed)"
   ]
  },
  {
   "cell_type": "code",
   "execution_count": null,
   "id": "fa3e18a2-f91f-482f-8e2b-e8284033984a",
   "metadata": {},
   "outputs": [],
   "source": [
    "sc.pl.umap(adata_oprescu_sub_s100b, color=['S100b', 'Mcam', 'Egr2'], cmap=magma)"
   ]
  },
  {
   "cell_type": "markdown",
   "id": "02df9a7b-b247-4a70-a6dc-d8bf7218683e",
   "metadata": {},
   "source": [
    "## Ronzoni"
   ]
  },
  {
   "cell_type": "code",
   "execution_count": null,
   "id": "ec1baad0-588e-45de-ae3f-1d01e207b22a",
   "metadata": {
    "tags": []
   },
   "outputs": [],
   "source": [
    "adata_ronzoni_sub = sc.read('data/processed/ronzoni_sub.h5')\n",
    "sc.tl.leiden(adata_ronzoni_sub, resolution=0.1)"
   ]
  },
  {
   "cell_type": "code",
   "execution_count": null,
   "id": "c6dd5fa6-4660-4616-9a58-17bf63aa791d",
   "metadata": {
    "tags": []
   },
   "outputs": [],
   "source": [
    "sc.pl.umap(adata_ronzoni_sub, color=['leiden', 'cell_type', 'krano_type', 'S100b', 'Mcam', 'Egr2'], \n",
    "           cmap=magma, ncols=2, legend_loc = 'on data')\n",
    "\n",
    "adata_ronzoni_sub_s100b = adata_ronzoni_sub[adata_ronzoni_sub.obs['leiden'].isin(['1'])]"
   ]
  },
  {
   "cell_type": "code",
   "execution_count": null,
   "id": "de6cc148-e26e-40cd-9d17-7ee734afca6d",
   "metadata": {},
   "outputs": [],
   "source": [
    "sc.pp.filter_genes(adata_ronzoni_sub_s100b, min_counts=1)\n",
    "sc.pp.pca(adata_ronzoni_sub_s100b, random_state=seed, n_comps=25)\n",
    "sc.pp.neighbors(adata_ronzoni_sub_s100b, n_neighbors=int(len(adata_ronzoni_sub_s100b) ** 0.5), metric='cosine')\n",
    "tk.tl.triku(adata_ronzoni_sub_s100b)\n",
    "\n",
    "sc.tl.umap(adata_ronzoni_sub_s100b, min_dist=0.2, random_state=seed)\n",
    "sc.tl.leiden(adata_ronzoni_sub_s100b, resolution=0.2, random_state=seed)"
   ]
  },
  {
   "cell_type": "code",
   "execution_count": null,
   "id": "e8f76aca-941f-4551-bc0e-821d17ac1ab2",
   "metadata": {
    "tags": []
   },
   "outputs": [],
   "source": [
    "sc.pl.umap(adata_ronzoni_sub_s100b, color=['S100b', 'Mcam', 'Egr2'], cmap=magma)"
   ]
  },
  {
   "cell_type": "markdown",
   "id": "bbb4b89e-b1cc-4b41-9f94-9d53333cbf05",
   "metadata": {
    "execution": {
     "iopub.execute_input": "2022-02-08T13:31:45.532686Z",
     "iopub.status.busy": "2022-02-08T13:31:45.532093Z",
     "iopub.status.idle": "2022-02-08T13:31:45.537465Z",
     "shell.execute_reply": "2022-02-08T13:31:45.536283Z",
     "shell.execute_reply.started": "2022-02-08T13:31:45.532633Z"
    },
    "tags": []
   },
   "source": [
    "# Figure 1 + DEGs for krano paper"
   ]
  },
  {
   "cell_type": "code",
   "execution_count": null,
   "id": "a2db3e81-03e6-486c-936a-4fd19887f0c2",
   "metadata": {
    "tags": []
   },
   "outputs": [],
   "source": [
    "sc.tl.leiden(adata_demicheli_sub_s100b, resolution=0.1)\n",
    "sc.pl.umap(adata_demicheli_sub_s100b, color='leiden')\n",
    "\n",
    "adata_demicheli_sub_s100b.obs['cell_idents'] = (\n",
    "    adata_demicheli_sub_s100b.obs[\"leiden\"]\n",
    "    .map(lambda x: {\"0\": \"Myelinating\", '1': 'Terminal'}.get(x, x))\n",
    "    .astype(\"category\")\n",
    ")\n",
    "\n",
    "sc.pl.umap(adata_demicheli_sub_s100b, color='cell_idents')"
   ]
  },
  {
   "cell_type": "code",
   "execution_count": null,
   "id": "16a02b27-05f0-4dcb-8a7d-31bdccad386a",
   "metadata": {
    "tags": []
   },
   "outputs": [],
   "source": [
    "os.getcwd()"
   ]
  },
  {
   "cell_type": "code",
   "execution_count": null,
   "id": "e8cfc6fd-bff5-4ba2-8b93-299e7c52be57",
   "metadata": {
    "tags": []
   },
   "outputs": [],
   "source": [
    "fig, axs = plt.subplots(2, 3, figsize=(9, 5))\n",
    "\n",
    "s=300\n",
    "\n",
    "sc.pl.umap(adata_demicheli_sub_s100b, color='cell_idents', ax=axs[0][0], show=False, s=s, legend_loc='on data', legend_fontoutline=6, legend_fontsize=12, frameon=False, title='')\n",
    "sc.pl.umap(adata_demicheli_sub_s100b, color='S100b', ax=axs[1][0], show=False, cmap=magma, s=s, frameon=False)\n",
    "\n",
    "sc.pl.umap(adata_demicheli_sub_s100b, color='Mcam', ax=axs[0][1], show=False, cmap=magma, s=s, frameon=False)\n",
    "sc.pl.umap(adata_demicheli_sub_s100b, color='Cspg4', ax=axs[1][1], show=False, cmap=magma, s=s, title='Ng2', frameon=False)\n",
    "\n",
    "sc.pl.umap(adata_demicheli_sub_s100b, color='Mpz', ax=axs[0][2], show=False, cmap=magma, s=s, frameon=False)\n",
    "sc.pl.umap(adata_demicheli_sub_s100b, color='Prx', ax=axs[1][2], show=False, cmap=magma, s=s, frameon=False)\n",
    "\n",
    "plt.tight_layout()\n",
    "plt.savefig('results/UMAP_s100b_pops_demicheli.pdf')"
   ]
  },
  {
   "cell_type": "code",
   "execution_count": null,
   "id": "b7a4836e-8bd5-4bb9-a34c-6aa3dfd4ccd1",
   "metadata": {
    "tags": []
   },
   "outputs": [],
   "source": [
    "sc.tl.rank_genes_groups(adata_demicheli_sub_s100b, groupby='leiden')"
   ]
  },
  {
   "cell_type": "code",
   "execution_count": null,
   "id": "cbce0de2-73db-4a17-93b9-ec16e83b57fc",
   "metadata": {
    "tags": []
   },
   "outputs": [],
   "source": [
    "myelinating_DEGS = ['Mpz', 'Gatm', 'Mbp', 'Prx', 'Cldn19', 'Fxyd3', 'Mal', 'Ndrg1', 'Pllp', 'Mt3', 'Bcas1', 'Emid1', 'Sema3b', 'Fam178b', 'Dusp15', 'Mag', 'Egfl8', 'Grp', \n",
    "                    'Ptpre', 'Plekhb1', 'Ncmap', 'Drp2', 'Slc36a2', 'Kcnk1', 'Plekha4', 'Rdh5', 'Rasal2', 'Ugt8a', 'Kif1a', 'Kif19a', 'Phgdh', 'Syngr1', 'Otop1', 'Hmgcs2', \n",
    "                    'Ephb6', 'Fa2h', 'Gjb1', 'Spp1', 'Gldn', 'Smco3', 'Me1', 'Rasgef1a', 'Ttc9', 'Fut8', 'Alad', 'Reln', 'Dfna5', 'Ngf', 'Dhh', 'Rnf149', 'Frzb', 'Mpp6', 'Pdzph1', \n",
    "                    'Tagln', 'Dclk3', 'Ddn', 'Slc12a2', 'Fstl3', 'Hcn1', 'Sept3', 'Arhgap19', 'Clcn2', 'Ccdc13', 'Gpm6a', 'Borcs5']\n",
    "\n",
    "terminal_DEGs = ['Ptn', 'Col20a1', 'Cadm1', 'Lgi4', 'Nrn1', 'Postn', 'Ncam1', 'Matn4', 'Acsbg1', 'Lyz2', 'Gm2115', 'Chl1', 'Cadm4', 'Aspa', 'Bche', 'Cpm', 'Klk8', 'Nrxn1', \n",
    "                 'Ptprz1', 'Adam23', 'Fabp7', 'Cdh19', 'Cryl1', 'Nkain4', 'Inpp5f', 'Mamdc2', 'Cyp2j9', 'Luzp2', 'Bpgm', 'Mcam', 'Csmd1', 'Lbh', 'Slc35f1', 'Col27a1', 'Dhrs2', \n",
    "                 'Depdc7', 'Kank4', 'Unc80', 'Prima1', 'Kcnn4', 'Etv1', 'Rasgef1c', 'Rxrg', 'Camk2b', 'Slitrk3', 'Slitrk1', 'Ntng1', 'Arhgef16', 'Gsap', 'Ajap1', 'Sema3d', 'Erbb3', \n",
    "                 'Cspg4', 'Atp1b2', 'Vstm2a', 'Prex1', 'Gpsm2', 'Vmn1r181', 'Adrbk2', 'Nfatc2', 'C1ql1', 'Adgrg6', 'Gm13861', 'Trpm3', 'Vcl']\n"
   ]
  },
  {
   "cell_type": "code",
   "execution_count": null,
   "id": "0d43e272-b2d7-4887-97f2-190c8ffb0ecd",
   "metadata": {
    "tags": []
   },
   "outputs": [],
   "source": [
    "df_myel = pd.DataFrame({'Myelinating genes': adata_demicheli_sub_s100b.uns['rank_genes_groups']['names']['0'], \n",
    "             'Myelinating pval': adata_demicheli_sub_s100b.uns['rank_genes_groups']['pvals_adj']['0']})\n",
    "df_myel = df_myel[df_myel['Myelinating genes'].isin(myelinating_DEGS)].sort_values(by='Myelinating pval').reset_index(drop=True)\n",
    "\n",
    "df_ter = pd.DataFrame({'Terminal genes': adata_demicheli_sub_s100b.uns['rank_genes_groups']['names']['1'], \n",
    "             'Terminal pval': adata_demicheli_sub_s100b.uns['rank_genes_groups']['pvals_adj']['1']})\n",
    "df_ter = df_ter[df_ter['Terminal genes'].isin(terminal_DEGs)].sort_values(by='Terminal pval').reset_index(drop=True)\n",
    "\n",
    "df = df_myel.join(df_ter)\n",
    "df"
   ]
  },
  {
   "cell_type": "code",
   "execution_count": null,
   "id": "a9ad4fe8-14b4-48f6-bd2d-d85853a1affd",
   "metadata": {
    "tags": []
   },
   "outputs": [],
   "source": [
    "df.to_csv('results/DEGs_s100b_pops_demicheli.txt', sep='\\t', index=None)"
   ]
  }
 ],
 "metadata": {
  "kernelspec": {
   "display_name": "Python [conda env:alex-base] *",
   "language": "python",
   "name": "conda-env-alex-base-py"
  },
  "language_info": {
   "codemirror_mode": {
    "name": "ipython",
    "version": 3
   },
   "file_extension": ".py",
   "mimetype": "text/x-python",
   "name": "python",
   "nbconvert_exporter": "python",
   "pygments_lexer": "ipython3",
   "version": "3.8.0"
  }
 },
 "nbformat": 4,
 "nbformat_minor": 5
}
