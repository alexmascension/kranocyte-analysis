{
 "cells": [
  {
   "cell_type": "code",
   "execution_count": null,
   "id": "d3f36890-a19a-4b6b-961c-ff9f3491e84a",
   "metadata": {},
   "outputs": [],
   "source": [
    "import scanpy as sc\n",
    "import scanpy.external as sce\n",
    "import pandas as pd\n",
    "import numpy as np\n",
    "import os\n",
    "import shutil\n",
    "import triku as tk\n",
    "import matplotlib.pyplot as plt\n",
    "import matplotlib as mpl\n",
    "import ray\n",
    "import subprocess\n",
    "from scipy.sparse import csr_matrix\n",
    "from IPython.display import display, HTML\n",
    "import mygene as mg\n",
    "\n",
    "from tqdm import tqdm\n",
    "# from tqdm.notebook import tqdm\n",
    "\n",
    "from bokeh.io import show, output_notebook, reset_output\n",
    "\n",
    "from scipy.sparse import csr_matrix, csc_matrix\n",
    "\n",
    "reset_output()\n",
    "output_notebook()"
   ]
  },
  {
   "cell_type": "code",
   "execution_count": null,
   "id": "da8b84a6-ab53-4d06-99f2-2fc61771ff26",
   "metadata": {},
   "outputs": [],
   "source": [
    "magma = [plt.get_cmap('magma')(i) for i in np.linspace(0,1, 80)]\n",
    "magma[0] = (0.88, 0.88, 0.88, 1)\n",
    "magma = mpl.colors.LinearSegmentedColormap.from_list(\"\", magma[:65])\n",
    "\n",
    "seed = 0"
   ]
  },
  {
   "cell_type": "code",
   "execution_count": null,
   "id": "122a9f14-88bd-4e76-bfc0-0407742bc53e",
   "metadata": {},
   "outputs": [],
   "source": [
    "mpl.rcParams['figure.dpi'] = 250"
   ]
  },
  {
   "cell_type": "markdown",
   "id": "688238d9-bda8-4b03-bf5b-e99117e2f60b",
   "metadata": {},
   "source": [
    "## Create custom db\n",
    "\n",
    "The database from CellPhone DB is somewhat limited. We are going to extend the database of interactions with external sources. To create the database we are going to create a blank database first, and include the annotations with pandas. Lastly, we are going to regenerate the new file with the "
   ]
  },
  {
   "cell_type": "code",
   "execution_count": null,
   "id": "119dabaf-2318-486d-ac2e-f55589d6108c",
   "metadata": {},
   "outputs": [],
   "source": [
    "shutil.rmtree('dbsample')"
   ]
  },
  {
   "cell_type": "code",
   "execution_count": null,
   "id": "1b457d6d-30ab-4ba3-acf5-93ba008b27c8",
   "metadata": {
    "scrolled": true,
    "tags": []
   },
   "outputs": [],
   "source": [
    "!cellphonedb database generate  --result-path dbsample"
   ]
  },
  {
   "cell_type": "code",
   "execution_count": null,
   "id": "96e7812d-af2f-47dd-a268-e75b980c862c",
   "metadata": {},
   "outputs": [],
   "source": [
    "# Create from biomart a dataset of mouse info with columns \"UniProtKB Gene Name symbol\" and \"UniProtKB Gene Name ID\""
   ]
  },
  {
   "cell_type": "code",
   "execution_count": null,
   "id": "2f0b89fc-2099-44a0-b337-f0982bf0ec42",
   "metadata": {},
   "outputs": [],
   "source": [
    "df_proteins = pd.read_csv('dbsample/protein_generated.csv')\n",
    "df_genes = pd.read_csv('dbsample/gene_generated.csv')\n",
    "df_interactions = pd.read_csv('dbsample/interaction_input.csv')\n",
    "df_biomart = pd.read_csv('data/mart_export.txt', sep='\\t')"
   ]
  },
  {
   "cell_type": "code",
   "execution_count": null,
   "id": "8a79787a-ac3b-4636-b885-775fdc8c6cb4",
   "metadata": {},
   "outputs": [],
   "source": [
    "# Modify gene_generated to gene_inpuit by adding genes in mouse\n",
    "df_biomart.drop_duplicates(subset='UniProtKB Gene Name symbol', keep='last', ignore_index=True, inplace=True)\n",
    "df_biomart.index += len(df_genes)\n",
    "df_biomart.columns = ['gene_name', 'hgnc_symbol', 'uniprot', 'ensembl']\n",
    "df_genes = df_genes.append(df_biomart)\n",
    "\n",
    "df_genes.to_csv('dbsample/gene_input_custom.csv', index=None)"
   ]
  },
  {
   "cell_type": "code",
   "execution_count": null,
   "id": "6e65f534-700d-4814-8d2d-993f42a1a01f",
   "metadata": {},
   "outputs": [],
   "source": [
    "# Modify protein_generated to protein_inpuit by adding proteins in mouse\n",
    "df_biomart.drop_duplicates(subset='uniprot', keep='last', ignore_index=True, inplace=True)\n",
    "df_biomart.index += len(df_proteins)\n",
    "df_biomart = df_biomart[['gene_name', 'uniprot']]\n",
    "df_biomart.columns = ['protein_name', 'uniprot']\n",
    "df_biomart['protein_name'] = [str(i).upper() + '_MOUSE' for i in df_biomart['protein_name']] \n",
    "df_proteins = df_proteins.append(df_biomart)\n",
    "\n",
    "df_proteins.iloc[df_biomart.index, [2, 3 ,4]] = True # set transmembrane, peripheral and secreted to True\n",
    "\n",
    "df_proteins.to_csv('dbsample/protein_input_custom.csv', index=None)"
   ]
  },
  {
   "cell_type": "code",
   "execution_count": null,
   "id": "5ef232f6-e750-40ef-975e-07605e7b8e3e",
   "metadata": {},
   "outputs": [],
   "source": [
    "# Download mouse and human pairs from http://tcm.zju.edu.cn/celltalkdb/download.php"
   ]
  },
  {
   "cell_type": "code",
   "execution_count": null,
   "id": "1a208b1e-4818-4d6d-b0c0-b7cc82829612",
   "metadata": {},
   "outputs": [],
   "source": [
    "dict_proteins_uniprot = dict(zip(df_proteins['protein_name'].values, df_proteins['uniprot'].values))"
   ]
  },
  {
   "cell_type": "code",
   "execution_count": null,
   "id": "3b3627cf-f7b3-45c6-93f8-21fa52815faf",
   "metadata": {},
   "outputs": [],
   "source": [
    "human_new_pairs_celltalkdb = pd.read_csv('data/human_lr_pair.txt', sep='\\t')\n",
    "mouse_new_pairs_celltalkdb = pd.read_csv('data/mouse_lr_pair.txt', sep='\\t')"
   ]
  },
  {
   "cell_type": "code",
   "execution_count": null,
   "id": "6215b4ef-8481-4f23-8498-fea02039d527",
   "metadata": {},
   "outputs": [],
   "source": [
    "human_new_pairs_celltalkdb = human_new_pairs_celltalkdb[['ligand_gene_symbol', 'receptor_gene_symbol']]\n",
    "human_new_pairs_celltalkdb.columns = ['protein_name_a', 'protein_name_b']\n",
    "human_new_pairs_celltalkdb += '_HUMAN'\n",
    "human_new_pairs_celltalkdb['partner_a'] = [dict_proteins_uniprot[i] if i in dict_proteins_uniprot else np.NaN for i in human_new_pairs_celltalkdb['protein_name_a']]\n",
    "human_new_pairs_celltalkdb['partner_b'] = [dict_proteins_uniprot[i] if i in dict_proteins_uniprot else np.NaN for i in human_new_pairs_celltalkdb['protein_name_b']]\n",
    "human_new_pairs_celltalkdb = human_new_pairs_celltalkdb.dropna().reset_index(drop=True)\n",
    "human_new_pairs_celltalkdb.index += len(df_interactions)\n",
    "df_interactions = df_interactions.append(human_new_pairs_celltalkdb)"
   ]
  },
  {
   "cell_type": "code",
   "execution_count": null,
   "id": "6fd01c05-e1c1-4c3e-ab82-75d25dfc9d9a",
   "metadata": {},
   "outputs": [],
   "source": [
    "mouse_new_pairs_celltalkdb = mouse_new_pairs_celltalkdb[['ligand_gene_symbol', 'receptor_gene_symbol']]\n",
    "mouse_new_pairs_celltalkdb.columns = ['protein_name_a', 'protein_name_b']\n",
    "mouse_new_pairs_celltalkdb = mouse_new_pairs_celltalkdb.apply(lambda x: x.astype(str).str.upper()) + '_MOUSE'\n",
    "mouse_new_pairs_celltalkdb['partner_a'] = [dict_proteins_uniprot[i] if i in dict_proteins_uniprot else np.NaN for i in mouse_new_pairs_celltalkdb['protein_name_a']]\n",
    "mouse_new_pairs_celltalkdb['partner_b'] = [dict_proteins_uniprot[i] if i in dict_proteins_uniprot else np.NaN for i in mouse_new_pairs_celltalkdb['protein_name_b']]\n",
    "mouse_new_pairs_celltalkdb = mouse_new_pairs_celltalkdb.dropna().reset_index(drop=True)\n",
    "mouse_new_pairs_celltalkdb.index += len(df_interactions)\n",
    "df_interactions = df_interactions.append(mouse_new_pairs_celltalkdb)"
   ]
  },
  {
   "cell_type": "code",
   "execution_count": null,
   "id": "73cf3408-0106-4fa5-9551-05cb7af6d1c7",
   "metadata": {},
   "outputs": [],
   "source": [
    "df_interactions['annotation_strategy'] = 'curated'\n",
    "df_interactions.to_csv('dbsample/interaction_input_custom.csv')"
   ]
  },
  {
   "cell_type": "code",
   "execution_count": null,
   "id": "7ab38d0e-faef-419f-bc3d-9db041951752",
   "metadata": {},
   "outputs": [],
   "source": [
    "!cellphonedb database generate  --result-path dbsample  --user-gene dbsample/gene_input_custom.csv --user-protein dbsample/protein_input_custom.csv --user-interactions dbsample/interaction_input_custom.csv"
   ]
  },
  {
   "cell_type": "code",
   "execution_count": null,
   "id": "c89381ff-4032-43b5-b901-ec56c2f3ac39",
   "metadata": {},
   "outputs": [],
   "source": [
    "list_files = [i for i in os.listdir('dbsample') if i[-2:] == 'db' ]\n",
    "os.rename(f'dbsample/{list_files[0]}', 'dbsample/customdb.db')"
   ]
  },
  {
   "cell_type": "markdown",
   "id": "59ecd385-91a8-4c75-a649-663ddb09c369",
   "metadata": {},
   "source": [
    "# Check VWF and ANGPT pathways on krano and endo\n",
    "\n",
    "We are going to select datasets with decent endothelial and krano representation (Giordani, Dell'Orso, and De Micheli)."
   ]
  },
  {
   "cell_type": "code",
   "execution_count": null,
   "id": "eca94c4e-9f6c-4ee6-970b-0a60f53fbc4d",
   "metadata": {},
   "outputs": [],
   "source": [
    "adata_joined = sc.read('data/processed/joined.h5ad')\n",
    "adata_joined_sub = sc.read('data/processed/joined_sub.h5ad')"
   ]
  },
  {
   "cell_type": "code",
   "execution_count": null,
   "id": "8f8c7c89-3739-4ce1-a307-73b467aa14d3",
   "metadata": {},
   "outputs": [],
   "source": [
    "sc.pl.umap(adata_joined, color=['dataset', 'krano_type', 'Cldn5', 'Pecam1', 'Vwf', 'Angpt2'], cmap=magma, ncols=3)"
   ]
  },
  {
   "cell_type": "code",
   "execution_count": null,
   "id": "c584fd73-182e-4932-9c84-37858d045802",
   "metadata": {},
   "outputs": [],
   "source": [
    "adata_giordani_sub = sc.read('data/processed/giordani_sub.h5')\n",
    "sc.tl.leiden(adata_giordani_sub, resolution=1.2)"
   ]
  },
  {
   "cell_type": "code",
   "execution_count": null,
   "id": "54136b6b-a8c3-4902-acd8-d7d4bb8d5ea3",
   "metadata": {},
   "outputs": [],
   "source": [
    "adata_dellorso_sub = sc.read('data/processed/dellorso_sub.h5')\n",
    "sc.tl.leiden(adata_dellorso_sub, resolution=1.2)"
   ]
  },
  {
   "cell_type": "markdown",
   "id": "f894dd28-0ede-48d8-987a-caddbac269d8",
   "metadata": {},
   "source": [
    "## DEG analysis on VWF$^+$/SELP$^+$ endothelial cells\n",
    "\n",
    "We are going to focus on WVF$^+$SELP$^+$ endothelial cells. These two are the molecules stores within Weibel-Pañade bodies, and therefore are the ones that might be interacting with the kranocyte. Although De Micheli dataset shows a positive expression of Vwf, it does not express Selp, whereas Giordani and Dell'Orso do it. Just to make sure, we will do the analysis on these two datasets."
   ]
  },
  {
   "cell_type": "markdown",
   "id": "b4ff3af8-b6c3-4d8c-bfa2-5ee8484cb7d0",
   "metadata": {},
   "source": [
    "### Giordani"
   ]
  },
  {
   "cell_type": "code",
   "execution_count": null,
   "id": "d4b58d35-b689-4c54-b422-e849f62c1e2f",
   "metadata": {},
   "outputs": [],
   "source": [
    "sc.pl.umap(adata_giordani_sub, color=['cell_type','leiden','krano_type','Vwf', 'Selp',], cmap=magma, ncols=2, legend_loc='on data')"
   ]
  },
  {
   "cell_type": "markdown",
   "id": "088d03da-cfbb-415a-8f1c-8436098edc60",
   "metadata": {},
   "source": [
    "#### Ligand - receptor pairs "
   ]
  },
  {
   "cell_type": "code",
   "execution_count": null,
   "id": "593e723f-c1ed-4818-8cac-54d3db86c2bf",
   "metadata": {},
   "outputs": [],
   "source": [
    "df = adata_giordani_sub.obs['leiden'].to_frame().astype(str)\n",
    "df[~ df['leiden'].isin(['9', '20', '19', '15'])] = 0"
   ]
  },
  {
   "cell_type": "code",
   "execution_count": null,
   "id": "e1fb1f22-db16-47c0-bfdc-86cd6d85a386",
   "metadata": {},
   "outputs": [],
   "source": [
    "df.to_csv('results/cpdb/giordani_prueba.txt', sep='\\t')"
   ]
  },
  {
   "cell_type": "code",
   "execution_count": null,
   "id": "fb171ac2-5cc3-479a-9a05-9431e6326872",
   "metadata": {},
   "outputs": [],
   "source": [
    "dict_human_symbol_to_gene = dict(zip(df_genes.iloc[:,2], df_genes.iloc[:,3]))\n",
    "\n",
    "list_genes = []\n",
    "\n",
    "for i in adata_giordani_sub.var_names:\n",
    "    try:\n",
    "        gene = dict_human_symbol_to_gene[i]\n",
    "    except:\n",
    "        gene = f'gene_{i}'\n",
    "    list_genes.append(gene)"
   ]
  },
  {
   "cell_type": "code",
   "execution_count": null,
   "id": "74b6d6dc-97bb-49ce-af6f-8ab53148e440",
   "metadata": {},
   "outputs": [],
   "source": [
    "df_counts = adata_giordani_sub.to_df().transpose()\n",
    "df_counts.index = list_genes\n",
    "df_counts.to_csv('results/cpdb/giordani_counts.txt', sep='\\t')"
   ]
  },
  {
   "cell_type": "code",
   "execution_count": null,
   "id": "99c3d4ce-1ad7-4697-b245-8acad776b85c",
   "metadata": {},
   "outputs": [],
   "source": [
    "df_leiden = adata_giordani_sub.obs['leiden'].astype(str).to_frame()\n",
    "df_leiden[~df_leiden.isin(['9', '20', '19', '15'])] = '0'\n",
    "df_leiden.to_csv('results/cpdb/giordani_meta.txt', sep='\\t', header=None)"
   ]
  },
  {
   "cell_type": "code",
   "execution_count": null,
   "id": "43f03795-102d-4271-8cdf-3b574e2b1859",
   "metadata": {},
   "outputs": [],
   "source": [
    "p_threshold = 0.001"
   ]
  },
  {
   "cell_type": "code",
   "execution_count": null,
   "id": "a548360b-bcf2-4f02-a29d-f0c1961a5c49",
   "metadata": {},
   "outputs": [],
   "source": [
    "!cellphonedb method statistical_analysis results/cpdb/giordani_meta.txt results/cpdb/giordani_counts.txt --pvalue {p_threshold} --threads 32 --iterations 500 --database dbsample/customdb.db --output-path results/cpdb/out_giordani"
   ]
  },
  {
   "cell_type": "code",
   "execution_count": null,
   "id": "1734fcfb-09ee-4fdf-a435-ef989be60a8d",
   "metadata": {},
   "outputs": [],
   "source": [
    "df_results = pd.read_csv('results/cpdb/out_giordani/pvalues.txt', sep='\\t')"
   ]
  },
  {
   "cell_type": "code",
   "execution_count": null,
   "id": "be67374f-7f37-45f6-b3a2-194393c3c22a",
   "metadata": {},
   "outputs": [],
   "source": [
    "print(',      '.join(sorted([\"'\" + \"', '\".join(i.split('_')) + \"'\" for i in df_results[(df_results['19|9'] < p_threshold) | (df_results['9|19'] < p_threshold)]['interacting_pair']])))"
   ]
  },
  {
   "cell_type": "code",
   "execution_count": null,
   "id": "5cbb729e-07b0-4f1f-ba1a-b932c7daaacd",
   "metadata": {
    "scrolled": true,
    "tags": []
   },
   "outputs": [],
   "source": [
    "# Celltalk DB pairs (9|19) (KRANO A)\n",
    "sc.pl.umap(adata_giordani_sub, color=['cell_type','krano_type',\n",
    "                                      'Vwf', 'Selp',\n",
    "                                      'Ackr1', 'Ccl2',      'Ackr1', 'Cxcl1',      'Ackr1', 'Cxcl2',      'Ackr1', 'Cxcl5',      \n",
    "                                      'Adam10', 'Axl',      'Adam10', 'Lrp1',      'Adam10', 'Tspan5',      'Adam9', 'Itga6',      \n",
    "                                      'Adam9', 'Itgav',      'Anxa2', 'Cd44',      'Apoe', 'Sdc4',      'Bsg', 'Sele',      \n",
    "                                      'Cd36', 'Thbs1',      'Cd44', 'Bgn',      'Cd44', 'Bsg',      'Cd44', 'Mif',      \n",
    "                                      'Cd47', 'Thbs1',      'Cd63', 'Timp1',      'Cd81', 'Gpc3',      'Cd9', 'Hbegf',      \n",
    "                                      'Cd93', 'Col1a1',      'Col18a1', 'Gpc4',      'Col1a2', 'Cd44',      'Col1a2', 'Cd93',      \n",
    "                                      'Cxcl10', 'Sdc4',      'Flt1', 'Pgf',      'Flt1', 'Vegfa',      'Hbegf', 'Egfr',      \n",
    "                                      'Hspg2', 'Itgb1',      'Il6', 'Egfr',      'Il6', 'Il6st',      'Insr', 'Igf1',      \n",
    "                                      'Itga5', 'Cxcl12',      'Itga5', 'Thbs1',      'Itga6', 'Lamb1',      'Itgav', 'Adam10',      \n",
    "                                      'Itgav', 'Adam15',      'Itgav', 'Vwf',      'Itgb1', 'Col1a1',      'Itgb1', 'Col1a2',      \n",
    "                                      'Itgb1', 'Cxcl12',      'Itgb1', 'Lamb1',      'Itgb1', 'Mdk',      'Itgb1', 'Mmp2',      \n",
    "                                      'Itgb1', 'Thbs1',      'Lama2', 'Itgb1',      'Lama2', 'Itgb4',      'Ldlr', 'Apoe',      \n",
    "                                      'Lif', 'Il6st',      'Lifr', 'Lif',      'Lrp1', 'Apoe',      'Lrp1', 'Serpine1',      \n",
    "                                      'Lrp1', 'Thbs1',      'Lrp1', 'Vwf',      'Mfge8', 'Itgav',      'Mmp14', 'Flt1',      \n",
    "                                      'Ntn1', 'Adora2b',      'Pdgfra', 'Pdgfa',      'Pgf', 'Nrp2',      'Plau', 'Igf2r',      \n",
    "                                      'Plau', 'Lrp1',      'Plaur', 'Plau',      'Plaur', 'Serpine1',      'Plaur', 'Srpx2',      \n",
    "                                      'Plaur', 'Vtn',      'Pros1', 'Axl',      'Ptprb', 'Vegfa',      'Sema3b', 'Nrp2',      \n",
    "                                      'Serpine2', 'Plaur',      'Spp1', 'Cd44',      'Spp1', 'Itgb1',      'Tgm2', 'Sdc4',      \n",
    "                                      'Vcam1', 'Itgb1',      'Vcan', 'Selp',      'Vcan', 'Tlr2',      'Vegfa', 'Npr1',      \n",
    "                                      'Vegfa', 'Nrp2'\n",
    "\n",
    "# Celltalk DB pairs (9|19) (KRANO A)                ], cmap=magma, ncols=4, legend_loc='on data')"
   ]
  },
  {
   "cell_type": "code",
   "execution_count": null,
   "id": "4b90dac6-11f5-4c33-a517-68509460d73d",
   "metadata": {},
   "outputs": [],
   "source": [
    "print(',      '.join(sorted([\"'\" + \"', '\".join(i.split('_')) + \"'\" for i in df_results[(df_results['19|20'] < p_threshold) | (df_results['20|19'] < p_threshold)]['interacting_pair']])))"
   ]
  },
  {
   "cell_type": "code",
   "execution_count": null,
   "id": "ae43bb0b-6d9b-46c9-947c-8afb6bff0c74",
   "metadata": {
    "scrolled": true,
    "tags": []
   },
   "outputs": [],
   "source": [
    "# CellphoneDB pairs (20|19) (KRANO A)\n",
    "sc.pl.umap(adata_giordani_sub, color=['cell_type','krano_type',\n",
    "                                     'Ackr1', 'Ccl2',      'Ackr1', 'Cxcl1',      'Ackr1', 'Cxcl2',      'Ackr1', 'Cxcl5',      'Adam10', 'Axl',      'Adam10', 'Lrp1',      'Adam10', 'Tspan5',      'Anxa2', 'Cd44',      'Apoe', 'Sdc4',      'App', 'Cd47',      'App', 'Cd74',      'App', 'Lrp1',      'App', 'Lrp4',      'App', 'Notch2',      'Cav1', 'Bsg',      'Cav1', 'Igfbp5',      'Cd36', 'Thbs1',      'Cd44', 'Bgn',      'Cd44', 'Bsg',      'Cd44', 'Mif',      'Cd47', 'Thbs1',      'Cd63', 'Timp1',      'Cd81', 'Gpc3',      'Cd93', 'Col1a1',      'Col1a2', 'Cd93',      'Dll1', 'Notch2',      'Egfl7', 'Notch2',      'Ephb4', 'Efnb2',      'F3', 'Tfpi',      'Gas6', 'Axl',      'Hras', 'Cav1',      'Hspg2', 'Col13a1',      'Hspg2', 'Itgb1',      'Il6', 'Il6st',      'Insr', 'Igf1',      'Itga5', 'Ccn2',      'Itga5', 'Cxcl12',      'Itga6', 'Lamb1',      'Itgav', 'Adam10',      'Itgav', 'Adam15',      'Itgav', 'Egfl7',      'Itgav', 'Hmgb1',      'Itgav', 'Vwf',      'Itgb1', 'Col1a2',      'Itgb1', 'Cxcl12',      'Itgb1', 'Mdk',      'Itgb1', 'Mmp2',      'Itgb1', 'Thbs1',      'Lama2', 'Itgb1',      'Lama2', 'Itgb4',      'Ldlr', 'Apoe',      'Lif', 'Il6st',      'Lifr', 'Lif',      'Lrp1', 'Apoe',      'Lrp1', 'Ctsd',      'Lrp1', 'Psap',      'Lrp1', 'Vwf',      'Mcam', 'Ntn1',      'Mfge8', 'Itgav',      'Ntn1', 'Adora2b',      'Ntrk2', 'Ntf3',      'Pdgfb', 'Lrp1',      'Pgf', 'Nrp2',      'Psen2', 'Notch2',      'Ptprb', 'Vegfa',      'Scarb2', 'Thbs1',      'Sdc1', 'Thbs1',      'Sema3b', 'Nrp2',      'Spp1', 'Itgb1',      'Tgm2', 'Sdc4',      'Tnfrsf1a', 'Grn',      'Vcan', 'Selp',      'Vegfa', 'Npr1',      'Vegfa', 'Nrp2',      'Vim', 'Cd44'                                     \n",
    "                                      ], cmap=magma, ncols=4, legend_loc='on data')"
   ]
  },
  {
   "cell_type": "code",
   "execution_count": null,
   "id": "57400a56-bf2f-4199-8023-738dbb1179e6",
   "metadata": {},
   "outputs": [],
   "source": [
    "print(',      '.join(sorted([\"'\" + \"', '\".join(i.split('_')) + \"'\" for i in df_results[(df_results['9|15'] < p_threshold) | (df_results['15|9'] < p_threshold)]['interacting_pair']])))"
   ]
  },
  {
   "cell_type": "code",
   "execution_count": null,
   "id": "cd46e77b-7e01-4d0f-acf2-2f23b128eb80",
   "metadata": {
    "scrolled": true,
    "tags": []
   },
   "outputs": [],
   "source": [
    "# CellphoneDB pairs (9|15) (KRANO B)\n",
    "sc.pl.umap(adata_giordani_sub, color=['cell_type','krano_type',\n",
    "                                      'Abca1', 'Pltp',      'Ackr1', 'Ccl2',      'Ackr1', 'Cxcl1',      'Ackr1', 'Cxcl2',      'Adam10', 'Axl',      'Adam10', 'Lrp1',      'Adam10', 'Tspan17',      'Adam10', 'Tspan5',      'Adam9', 'Itga6',      'Adam9', 'Itgav',      'Adam9', 'Itgb5',      'Anxa2', 'Cd44',      'Apoe', 'Abca1',      'Apoe', 'Sdc4',      'App', 'Lrp1',      'App', 'Lrp4',      'App', 'Notch2',      'Bcam', 'Lama5',      'Bsg', 'Sele',      'Calr', 'Lrp1',      'Cav1', 'Igfbp5',      'Cd14', 'Cd55',      'Cd36', 'Thbs1',      'Cd44', 'Bgn',      'Cd44', 'Bsg',      'Cd47', 'Thbs1',      'Cd63', 'Timp1',      'Cd74', 'Mif',      'Cd9', 'Hbegf',      'Col1a2', 'Cd93',      'Col3a1', 'Itgb1',      'Cxcl10', 'Sdc4',      'Dll1', 'Notch2',      'Eng', 'Tgfb3',      'Fbln1', 'Itgb1',      'Gas6', 'Axl',      'Hbegf', 'Egfr',      'Hmgb1', 'Ly96',      'Hmgb1', 'Thbd',      'Hmgb1', 'Tlr2',      'Hras', 'Tlr2',      'Hsp90b1', 'Tlr2',      'Il6', 'Egfr',      'Il6', 'Il6st',      'Insr', 'Igf1',      'Itga5', 'Cxcl12',      'Itga5', 'Postn',      'Itga5', 'Thbs1',      'Itga6', 'Lamb1',      'Itgav', 'Adam10',      'Itgav', 'Adam15',      'Itgav', 'Vwf',      'Itgb1', 'Col1a2',      'Itgb1', 'Itgb1bp1',      'Itgb1', 'Lama4',      'Itgb1', 'Mdk',      'Itgb1', 'Mmp2',      'Itgb1', 'Postn',      'Itgb1', 'Thbs1',      'Itgb4', 'Lama5',      'Itgb5', 'Col18a1',      'Lama2', 'Itgb1',      'Lama2', 'Itgb4',      'Ldlr', 'Apoe',      'Lgals3', 'Itgb1',      'Lgals3', 'Itgb4',      'Lrp1', 'Apoe',      'Lrp1', 'Ctsd',      'Lrp1', 'Plat',      'Lrp1', 'Serpine1',      'Lrp1', 'Thbs1',      'Lrp1', 'Timp1',      'Lrp1', 'Vwf',      'Lrp6', 'Apoe',      'Lrp6', 'App',      'Ly96', 'S100a8',      'Mfge8', 'Itgav',      'Mmp14', 'Flt1',      'Notch2', 'Jag1',      'Pdgfra', 'Pdgfa',      'Pdgfrb', 'Pdgfa',      'Plau', 'Lrp1',      'Plaur', 'Plau',      'Plaur', 'Serpine1',      'Plaur', 'Vtn',      'Pros1', 'Axl',      'Psen2', 'Notch2',      'Ptprb', 'Ptn',      'Sema3c', 'Nrp2',      'Sema3c', 'Plxnd1',      'Serpine2', 'Plaur',      'Spp1', 'Cd44',      'Spp1', 'Itgb1',      'Tek', 'Angptl1',      'Tgfb1', 'Eng',      'Tgfbr3', 'Tgfb3',      'Tgm2', 'Sdc4',      'Thy1', 'Fyn',      'Tlr2', 'Bgn',      'Tnfrsf1a', 'Grn',      'Tnfrsf1b', 'Grn',      'Traf1', 'Tnfsf9',      'Vcam1', 'Itgb1',      'Vcan', 'Selp',      'Vcan', 'Tlr2',      'Vim', 'Cd44'                                   \n",
    "                                      ], cmap=magma, ncols=4, legend_loc='on data')"
   ]
  },
  {
   "cell_type": "code",
   "execution_count": null,
   "id": "e5ff2779-5f72-4003-aa3e-a19e81dac532",
   "metadata": {},
   "outputs": [],
   "source": [
    "print(',      '.join(sorted([\"'\" + \"', '\".join(i.split('_')) + \"'\" for i in df_results[(df_results['20|15'] < p_threshold) | (df_results['15|20'] < p_threshold)]['interacting_pair']])))"
   ]
  },
  {
   "cell_type": "code",
   "execution_count": null,
   "id": "038bdcd5-1935-4992-b3a7-ef36d3de40f5",
   "metadata": {},
   "outputs": [],
   "source": [
    "df_results[(df_results['15|20'] > 0.3) | (df_results['20|15'] > 0.3)]['interacting_pair']"
   ]
  },
  {
   "cell_type": "code",
   "execution_count": null,
   "id": "64628bea-2f5f-484e-91ab-b6b7a0a2f515",
   "metadata": {
    "scrolled": true,
    "tags": []
   },
   "outputs": [],
   "source": [
    "# CellphoneDB pairs (20|15) (KRANO B)\n",
    "sc.pl.umap(adata_giordani_sub, color=['cell_type','krano_type',\n",
    "                                      'Vwf', 'Selp',\n",
    "                                      'Abca1', 'Pltp',      'Ackr1', 'Ccl2',      'Ackr1', 'Cxcl1',      'Ackr1', 'Cxcl2',      'Adam10', 'Axl',      'Adam10', 'Lrp1',      'Adam10', 'Tspan17',      'Adam10', 'Tspan5',      'Adam9', 'Itga6',      'Apoe', 'Abca1',      'Apoe', 'Sdc4',      'App', 'Cd47',      'App', 'Cd74',      'App', 'Lrp1',      'App', 'Lrp4',      'App', 'Notch2',      'Cav1', 'Bsg',      'Cav1', 'Igfbp5',      'Cd14', 'Cd55',      'Cd36', 'Thbs1',      'Cd44', 'Bgn',      'Cd44', 'Bsg',      'Cd47', 'Thbs1',      'Cd63', 'Timp1',      'Cd81', 'Gpc3',      'Cd9', 'Hbegf',      'Cd93', 'Col1a1',      'Col1a2', 'Cd93',      'Col3a1', 'Itgb1',      'Col4a2', 'Cd93',      'Dll1', 'Notch2',      'Egfl7', 'Notch2',      'Eng', 'Tgfb3',      'F3', 'Tfpi',      'Fbln1', 'Itgb1',      'Gas6', 'Axl',      'Hras', 'Cav1',      'Hspg2', 'Col13a1',      'Il6', 'Il6st',      'Insr', 'Igf1',      'Itga6', 'Lamb1',      'Itgav', 'Adam10',      'Itgav', 'Adam15',      'Itgav', 'Egfl7',      'Itgav', 'Hmgb1',      'Itgav', 'Vwf',      'Itgb1', 'Adam15',      'Itgb1', 'Mdk',      'Itgb1', 'Postn',      'Itgb1', 'Thbs1',      'Jam2', 'Itgb1',      'Lama2', 'Itgb1',      'Lama2', 'Itgb4',      'Ldlr', 'Apoe',      'Lgals3', 'Itgb1',      'Lgals3', 'Itgb4',      'Lrp1', 'Apoe',      'Lrp1', 'Ccn2',      'Lrp1', 'Ctsd',      'Lrp1', 'Hsp90b1',      'Lrp1', 'Psap',      'Lrp1', 'Vwf',      'Lrp6', 'Apoe',      'Lrp6', 'App',      'Mcam', 'Ntn1',      'Mcfd2', 'Lman1',      'Mfge8', 'Itgav',      'Mfge8', 'Itgb1',      'Mfge8', 'Itgb5',      'Mfge8', 'Pdgfrb',      'Mmp14', 'Flt1',      'Notch2', 'Jag1',      'Ntrk2', 'Ntf3',      'Pdgfb', 'Lrp1',      'Pdgfb', 'Pdgfrb',      'Pdgfra', 'Pdgfb',      'Plau', 'Lrp1',      'Psen2', 'Notch2',      'Ptprb', 'Ptn',      'Scarb2', 'Thbs1',      'Sdc1', 'Ptn',      'Sdc1', 'Thbs1',      'Sdc2', 'Ptn',      'Sema3c', 'Nrp2',      'Sema3c', 'Plxnd1',      'Spp1', 'Itgb1',      'Tek', 'Angptl1',      'Tgfb1', 'Eng',      'Tgm2', 'Sdc4',      'Tnfrsf1a', 'Grn',      'Vcam1', 'Itgb1',      'Vcan', 'Selp',      'Vim', 'Cd44'                                    \n",
    "                                      ], cmap=magma, ncols=4, legend_loc='on data')"
   ]
  },
  {
   "cell_type": "code",
   "execution_count": null,
   "id": "34461f07-c0bb-4ade-a84f-f3805d760649",
   "metadata": {},
   "outputs": [],
   "source": [
    "df_results[(df_results['15|19'] > 0.3) | (df_results['19|15'] > 0.3)]['interacting_pair']"
   ]
  },
  {
   "cell_type": "markdown",
   "id": "009a2fb9-0e52-45ed-b126-0e1638d6b6de",
   "metadata": {},
   "source": [
    "#### VWF+ population differences"
   ]
  },
  {
   "cell_type": "code",
   "execution_count": null,
   "id": "d5adb1dd-f2dd-43b5-9641-3e0883e5916b",
   "metadata": {},
   "outputs": [],
   "source": [
    "# DEGs of VWF population\n",
    "sc.tl.rank_genes_groups(adata_giordani_sub, groupby='leiden', groups=['9', '20'])"
   ]
  },
  {
   "cell_type": "code",
   "execution_count": null,
   "id": "68517c4e-7eec-495c-b7a5-af10eb3fc5b1",
   "metadata": {},
   "outputs": [],
   "source": [
    "sc.pl.umap(adata_giordani_sub, color=['cell_type','krano_type'] + list(adata_giordani_sub.uns['rank_genes_groups']['names']['9'][:200])\n",
    "                                      , cmap=magma, ncols=4, legend_loc='on data')"
   ]
  },
  {
   "cell_type": "code",
   "execution_count": null,
   "id": "ab1094e7-714b-4dde-a48b-01ca54ab4bc0",
   "metadata": {},
   "outputs": [],
   "source": [
    "sc.pl.umap(adata_giordani_sub, color=['cell_type','krano_type'] + list(adata_giordani_sub.uns['rank_genes_groups']['names']['20'][:200])\n",
    "                                      , cmap=magma, ncols=4, legend_loc='on data')"
   ]
  },
  {
   "cell_type": "code",
   "execution_count": null,
   "id": "2abebf02-3a98-4009-a6bd-3d0c4d0789fe",
   "metadata": {},
   "outputs": [],
   "source": [
    "# DEGs of VWF population\n",
    "sc.tl.rank_genes_groups(adata_giordani_sub, groupby='leiden', groups=['9', '20'], reference='rest')"
   ]
  },
  {
   "cell_type": "code",
   "execution_count": null,
   "id": "f32f01b9-6792-4d95-929a-93d57a5ab96c",
   "metadata": {},
   "outputs": [],
   "source": [
    "sc.pl.umap(adata_giordani_sub, color=['cell_type','krano_type'] + list(adata_giordani_sub.uns['rank_genes_groups']['names']['9'][200:400])\n",
    "                                      , cmap=magma, ncols=4, legend_loc='on data')"
   ]
  },
  {
   "cell_type": "code",
   "execution_count": null,
   "id": "1a4d9ace-fb29-44f7-bcc0-51569a9f1478",
   "metadata": {},
   "outputs": [],
   "source": [
    "sc.pl.umap(adata_giordani_sub, color=['cell_type','krano_type'] + list(adata_giordani_sub.uns['rank_genes_groups']['names']['20'][200:400])\n",
    "                                      , cmap=magma, ncols=4, legend_loc='on data')"
   ]
  },
  {
   "cell_type": "code",
   "execution_count": null,
   "id": "3153e4a2-8e39-4da0-9329-febf275dd7c2",
   "metadata": {},
   "outputs": [],
   "source": [
    "# DEGs overexpressed in large VWF\n",
    "large_VWF_genes = ['Adamts9', 'Adgrl2', 'Arid5b', 'Bcr', 'Cemip2', 'Ch25h', 'Chd7', 'Cpne8', 'Crim1', 'Csf2rb2', 'Csf3', 'Cxcl10', 'Cxcl16', 'Ehd3', 'Emp1', 'Entpd1', 'Erg', 'Etv6', 'Flnb', 'Frmd4a', 'Gabpb1', 'Gcnt2', 'Git1', 'Il13ra1', 'Il1rl1', 'Il6', 'Insr', 'Itprid2', 'Jak2', 'Lcn2', 'Man1a', 'Mapkapk2', 'Nav2', 'Ndst1', 'Nt5e', 'Odc1', 'Olr1', 'Plaur', 'Plscr1', 'Ptpn14', 'Ptpre', 'Rab8b', 'Ralgds', 'Rcan1', 'Rfk', 'Rnf213', 'Sele', 'Selp', 'Sema3f', 'Sema6a', 'Shb', 'Slco2a1', 'Slfn2', 'St3gal4', 'Stom', 'Tifa', 'Tll1', 'Tm4sf1', 'Tmem51', 'Tnfrsf11a', 'Tnip1', 'Traf1', 'Trim30a', 'Tspan5', 'Upp1', 'Zfp46', 'Zfp703',] \n",
    "sc.pl.umap(adata_giordani_sub, color=['cell_type','krano_type'] + large_VWF_genes, cmap=magma, ncols=4, legend_loc='on data')"
   ]
  },
  {
   "cell_type": "code",
   "execution_count": null,
   "id": "9adda88d-2560-46cc-b25b-133b8783e18a",
   "metadata": {},
   "outputs": [],
   "source": [
    "# DEGs overexpressed in small VWF\n",
    "small_VWF_genes = ['Amigo2', 'Ctnnal1', 'Ctsh', 'Ehd4', 'Eln', 'Lhx6', 'Nuak1', 'Plvap', 'Prpf40b', 'Prss23', 'Rasa4', 'Sorbs2', 'Tmem176b', 'Vamp5', ]\n",
    "sc.pl.umap(adata_giordani_sub, color=['cell_type','krano_type'] + small_VWF_genes, cmap=magma, ncols=4, legend_loc='on data')"
   ]
  },
  {
   "cell_type": "code",
   "execution_count": null,
   "id": "51e3a2f7-130b-410a-ab8d-5dd49ce28651",
   "metadata": {},
   "outputs": [],
   "source": [
    "# DEGs similar in both VWF populations\n",
    "similar_VWF_genes = ['Acer3', 'Ackr1', 'Clu', 'Cpe', 'Ctnnal1', 'Fam174b', 'Il6st', 'Lifr', 'Lmo2', 'Lrg1', 'Nr2f2', 'Nt5e', 'Pdia5', 'Rbp1', 'Sncg', 'Spint2', 'Tagln', 'Vcam1', 'Vwf',] \n",
    "                                      \n",
    "sc.pl.umap(adata_giordani_sub, color=['cell_type','krano_type'] + similar_VWF_genes, cmap=magma, ncols=4, legend_loc='on data')"
   ]
  },
  {
   "cell_type": "code",
   "execution_count": null,
   "id": "8320850f-27a4-4e15-a061-9a8a4a54fb8c",
   "metadata": {},
   "outputs": [],
   "source": []
  },
  {
   "cell_type": "code",
   "execution_count": null,
   "id": "03885496-94f3-4da1-b4a5-6bf0b196e23c",
   "metadata": {},
   "outputs": [],
   "source": [
    "sc.pl.umap(adata_dellorso_sub, color=['cell_type','krano_type'] + [i for i in large_VWF_genes if i in adata_dellorso_sub.var_names], cmap=magma, ncols=4, legend_loc='on data')"
   ]
  },
  {
   "cell_type": "code",
   "execution_count": null,
   "id": "be184d96-0d8f-4588-835b-696af653830c",
   "metadata": {},
   "outputs": [],
   "source": [
    "sc.pl.umap(adata_dellorso_sub, color=['cell_type','krano_type'] + [i for i in small_VWF_genes if i in adata_dellorso_sub.var_names], cmap=magma, ncols=4, legend_loc='on data')"
   ]
  },
  {
   "cell_type": "code",
   "execution_count": null,
   "id": "c163a029-af66-4fe8-baff-71d76cf3d915",
   "metadata": {},
   "outputs": [],
   "source": [
    "sc.pl.umap(adata_dellorso_sub, color=['cell_type','krano_type'] + [i for i in similar_VWF_genes if i in adata_dellorso_sub.var_names], cmap=magma, ncols=4, legend_loc='on data')"
   ]
  },
  {
   "cell_type": "code",
   "execution_count": null,
   "id": "5dd9883d-34df-4620-860d-d32f97af4455",
   "metadata": {},
   "outputs": [],
   "source": []
  },
  {
   "cell_type": "code",
   "execution_count": null,
   "id": "a8b87dec-ce45-4c19-970e-a8f57eae1a78",
   "metadata": {},
   "outputs": [],
   "source": []
  },
  {
   "cell_type": "markdown",
   "id": "cb2272aa-4191-44df-af32-daaabcf8dfb9",
   "metadata": {},
   "source": [
    "#### Check GO terms and markers"
   ]
  },
  {
   "cell_type": "code",
   "execution_count": null,
   "id": "9d6dc860-e683-494e-bf54-fe20df6d40ef",
   "metadata": {},
   "outputs": [],
   "source": [
    "# “negative angiogenic regulators” (GO: 0016525) \n",
    "sc.pl.umap(adata_giordani_sub, color=['cell_type','krano_type', \n",
    "                                      'Adamts1', 'Adgrb1', 'Adrb2', 'Ago1', 'Agt', 'Amot', 'Angpt2', 'Angpt4', 'Apoh', 'Atf2', \n",
    "                                      'Atp2b4', 'Ccn6', 'Cd160', 'Cd36', \n",
    "                                      'Cldn5', 'Cnmd', 'Col4a2', 'Col4a3', 'Creb3l1', 'Cx3cr1', 'Cxcl10', 'Cxcr3', 'Dab2ip', \n",
    "                                      'Dcn', 'E2f2', 'Ecscr', 'Efna3', 'Epha2', 'Epn1', 'Epn2', 'Flt1', 'Foxj2', 'Foxo4', \n",
    "                                      'Gpr4', 'Gtf2i', 'Hgs', 'Hoxa5', 'Hrg', 'Il17f', 'Klf2', 'Klf4', 'Krit1', 'Lif', 'Mecp2', \n",
    "                                       'Naxe', 'Nf1', 'Ngfr', 'Optc', 'Pde3b', 'Pgk1', 'Pik3cb',  'Pml', \n",
    "                                      'Pparg', 'Prl7d1', 'Ptn', 'Ptprm', 'Rgcc', 'Rock1', 'Rock2', 'Sars', 'Sema6a', 'Serpine1', \n",
    "                                      'Serpinf1', 'Sh2b3', 'Shc1', 'Sparc', 'Spred1', 'Spry2', 'Stab1', 'Stard13', 'Stat1', 'Sulf1', \n",
    "                                      'Synj2bp', 'Tafa5', 'Tcf4', 'Tek', 'Tgfb2', 'Thbs1', 'Thbs2', 'Tie1', 'Tnf', 'Tnmd', 'Vash1',\n",
    "                                      ] , cmap=magma, ncols=4, legend_loc='on data')"
   ]
  },
  {
   "cell_type": "code",
   "execution_count": null,
   "id": "55d2aa91-da16-4795-850d-55b5a6cea921",
   "metadata": {},
   "outputs": [],
   "source": [
    "# “blood vessel remodeling genes” (GO: 0001974)\n",
    "sc.pl.umap(adata_giordani_sub, color=['cell_type','krano_type', \n",
    "'Adra1b', 'Atg5', 'Atp7a', 'Axl', 'Bak1', 'Bax', 'Cbs', 'Chd7', 'Ednra', 'Eln', 'Epas1', 'Erg', 'Ext1', 'Fgf10', 'Fgf8', 'Foxc2', 'Hoxa3', 'Hrg', 'Igf1', 'Il18', 'Itga4', 'Jag1', 'Lif', 'Mdm2', 'Mef2c', 'Nfatc3', 'Nos2', 'Sema3c', 'Tbx1', 'Tgfb2', 'Tgfbr3', 'Vegfa', \n",
    "   ] , cmap=magma, ncols=4, legend_loc='on data')                                    \n",
    "                                      "
   ]
  },
  {
   "cell_type": "code",
   "execution_count": null,
   "id": "2628edab-0f4e-41f5-9f4c-b91ae907bca1",
   "metadata": {},
   "outputs": [],
   "source": [
    "# Markers that ander said that should turn out negative. \n",
    "sc.pl.umap(adata_giordani_sub, color=['cell_type','krano_type', 'Lif', 'Vegfa', 'Fgf2', 'Pdgfb', 'Dll4', 'Kdr', 'Angpt2'] \n",
    "                                      , cmap=magma, ncols=4, legend_loc='on data')"
   ]
  },
  {
   "cell_type": "code",
   "execution_count": null,
   "id": "2cd7a051-91c1-4ff2-8f5a-8091d7f4b259",
   "metadata": {},
   "outputs": [],
   "source": [
    "# Markers that ander said that should turn out negative. \n",
    "sc.pl.umap(adata_dellorso_sub, color=['cell_type','krano_type', 'Lif', 'Vegfa', 'Fgf2', 'Pdgfb', 'Dll4', 'Kdr', 'Angpt2'] \n",
    "                                      , cmap=magma, ncols=4, legend_loc='on data')"
   ]
  },
  {
   "cell_type": "code",
   "execution_count": null,
   "id": "a945b850-8f45-495c-9af9-88de49d7dcf5",
   "metadata": {},
   "outputs": [],
   "source": [
    "# Markers that ander said that should turn out negative. \n",
    "sc.pl.umap(adata_de_micheli_sub, color=['cell_type','krano_type', 'Lif', 'Vegfa', 'Fgf2', 'Pdgfb', 'Dll4', 'Kdr', 'Angpt2'] \n",
    "                                      , cmap=magma, ncols=4, legend_loc='on data')"
   ]
  },
  {
   "cell_type": "markdown",
   "id": "a382d47f-c745-4fb8-b257-ac75cf066667",
   "metadata": {},
   "source": [
    "#### Analysis of Cd82+ population (on all datasets)\n",
    "It is expresed on Satellite, T cells, Glial cells and **krano B**"
   ]
  },
  {
   "cell_type": "code",
   "execution_count": null,
   "id": "df316d2b-94ae-470f-958f-db12a907fe2e",
   "metadata": {},
   "outputs": [],
   "source": [
    "adata_oprescu = sc.read('data/processed/oprescu_d0.h5')\n",
    "sc.pl.umap(adata_oprescu, color=['cell_type','krano_type', 'Cd82', 'Mpz', 'Plp1', 'Mbp'], cmap=magma, ncols=3, legend_loc='on data')"
   ]
  },
  {
   "cell_type": "code",
   "execution_count": null,
   "id": "80cb3496-6d8a-4172-b5db-0f5764f6fe6a",
   "metadata": {},
   "outputs": [],
   "source": [
    "adata_oprescu_sub = sc.read('data/processed/oprescu_d0_sub.h5')\n",
    "sc.pl.umap(adata_oprescu_sub, color=['cell_type','krano_type', 'Cd82', 'Mpz', 'Plp1', 'Mbp'], cmap=magma, ncols=3, legend_loc='on data')"
   ]
  },
  {
   "cell_type": "code",
   "execution_count": null,
   "id": "4365d269-1b6c-42ca-9502-029b0597e419",
   "metadata": {},
   "outputs": [],
   "source": [
    "adata_de_micheli = sc.read('data/processed/de_micheli_mouse_d0.h5')\n",
    "sc.pl.umap(adata_de_micheli, color=['cell_type','krano_type', 'Cd82', 'Mpz', 'Plp1', 'Mbp'], cmap=magma, ncols=3, legend_loc='on data')"
   ]
  },
  {
   "cell_type": "code",
   "execution_count": null,
   "id": "0b014d3f-c805-4088-be59-b9c9f63a312c",
   "metadata": {},
   "outputs": [],
   "source": [
    "adata_de_micheli_sub = sc.read('data/processed/de_micheli_mouse_d0_sub.h5')\n",
    "sc.pl.umap(adata_de_micheli_sub, color=['cell_type','krano_type', 'Cd82', 'Mpz', 'Plp1', 'Mbp'], cmap=magma, ncols=3, legend_loc='on data')"
   ]
  },
  {
   "cell_type": "code",
   "execution_count": null,
   "id": "2db871c4-8e02-4092-b245-62a34acf4ad1",
   "metadata": {},
   "outputs": [],
   "source": [
    "adata_dellorso = sc.read('data/processed/dellorso.h5')\n",
    "sc.pl.umap(adata_dellorso, color=['cell_type','krano_type', 'Cd82', 'Mpz', 'Plp1', 'Mbp'], cmap=magma, ncols=3, legend_loc='on data')"
   ]
  },
  {
   "cell_type": "code",
   "execution_count": null,
   "id": "4593db52-123d-4b33-8a25-7f1f63b940fb",
   "metadata": {},
   "outputs": [],
   "source": [
    "sc.pl.umap(adata_dellorso_sub, color=['cell_type','krano_type', 'Cd82', 'Mpz', 'Plp1', 'Mbp'], cmap=magma, ncols=3, legend_loc='on data')"
   ]
  },
  {
   "cell_type": "code",
   "execution_count": null,
   "id": "5402e750-60ca-41ea-b410-65b48e723e77",
   "metadata": {},
   "outputs": [],
   "source": [
    "adata_giordani = sc.read('data/processed/giordani.h5')\n",
    "sc.pl.umap(adata_giordani, color=['cell_type','krano_type', 'Cd82', \n",
    "                                 'Mpz', 'Plp1', 'Mbp'], cmap=magma, ncols=3, legend_loc='on data')"
   ]
  },
  {
   "cell_type": "code",
   "execution_count": null,
   "id": "dccf2f4a-ee43-45d6-bfe6-e70b48b40f28",
   "metadata": {},
   "outputs": [],
   "source": [
    "sc.pl.umap(adata_giordani_sub, color=['cell_type','krano_type', 'Cd82', 'Mpz', 'Plp1', 'Mbp'], cmap=magma, ncols=3, legend_loc='on data')"
   ]
  },
  {
   "cell_type": "markdown",
   "id": "9e2eb78e-58d8-4f64-b394-f7b85d80f10a",
   "metadata": {},
   "source": [
    "#### Analysis of Giordani secondary Cd82+ population [they are satellite cells]"
   ]
  },
  {
   "cell_type": "code",
   "execution_count": null,
   "id": "5026c2ad-112a-4661-95c3-105032cf0c77",
   "metadata": {},
   "outputs": [],
   "source": [
    "giordani_CD82_markers = ['Cd82', 'Asb5', 'Arl4d', 'Myod1', 'Slc39a14', 'Clcf1', 'Cdh15']"
   ]
  },
  {
   "cell_type": "code",
   "execution_count": null,
   "id": "10560fce-1351-4d6e-a0db-f75c049fa401",
   "metadata": {},
   "outputs": [],
   "source": [
    "sc.pl.umap(adata_giordani, color=['cell_type','krano_type'] + giordani_CD82_markers, cmap=magma, ncols=3, legend_loc='on data')"
   ]
  },
  {
   "cell_type": "code",
   "execution_count": null,
   "id": "1469ab0e-44aa-4233-a3dc-b07ee651a16c",
   "metadata": {},
   "outputs": [],
   "source": [
    "sc.pl.umap(adata_giordani_sub, color=['cell_type','krano_type'] + giordani_CD82_markers, cmap=magma, ncols=3, legend_loc='on data')"
   ]
  },
  {
   "cell_type": "markdown",
   "id": "7df42366-0d1a-43a6-92f2-e7b91f0fa0c0",
   "metadata": {},
   "source": [
    "### Common pairs"
   ]
  },
  {
   "cell_type": "code",
   "execution_count": null,
   "id": "3175941e-1aea-4ef4-befe-639e515ac3a1",
   "metadata": {},
   "outputs": [],
   "source": [
    "# Marcadores de Starke y Scheppke\n",
    "sc.pl.umap(adata_giordani_sub, color=['cell_type','krano_type',\n",
    "                                      'Vwf', 'Selp',\n",
    "                                      'Itgav', 'Itgb3', 'Jag1', \n",
    "                                      'Flt1', # VEGFR1 \n",
    "                                      'Kdr', # VEGFR2\n",
    "                                      'Angpt2', \n",
    "                                      ], cmap=magma, ncols=4, legend_loc='on data')"
   ]
  },
  {
   "cell_type": "code",
   "execution_count": null,
   "id": "8300479d-7dd1-4fce-8f15-f4a7553c7029",
   "metadata": {},
   "outputs": [],
   "source": [
    "# Degs Vwf\n",
    "sc.pl.umap(adata_giordani_sub, color=['cell_type','krano_type',\n",
    "                                      'Selp', 'Lrg1', 'Csf3', 'Ackr1', 'Upp1', 'Spint2', 'Vcam1', 'Plvap', 'Vwf', 'Hs3st1', \n",
    "                                      'Il1r1', 'Ch25h', 'Stom', 'Sncg', 'Calcrl', 'Slco2a1', 'Sele', 'Csf2rb2', 'Chd7', 'Sema6a', 'Atp8b1', \n",
    "                                      'Olr1', 'Tll1', 'Tnfrsf11a', 'Zfp46', 'Tagln', 'Hif1a', 'Ptpn14', 'Tspan5', 'Adgrl2', 'Ptgs1', 'Traf1', 'Acer3', 'Rfk', \n",
    "                                      'Tmem51', 'Entpd1', 'Ehd3', 'Insr', 'Nt5e', 'Csf2rb', 'Lifr', 'Pdia5', 'Ralgds', 'Ehd3', 'Chp2', 'Pip4k2a', 'Hrh1' \n",
    "                                      ], cmap=magma, ncols=4, legend_loc='on data')"
   ]
  },
  {
   "cell_type": "code",
   "execution_count": null,
   "id": "a673f759-1893-4856-92ed-68734abc444e",
   "metadata": {},
   "outputs": [],
   "source": [
    "# Degs Interesantes\n",
    "sc.pl.umap(adata_dellorso_sub, color=['cell_type','krano_type',\n",
    "                                        'Cpe', 'Bcam', 'Nr2f2', 'Cp', 'Plscr1'\n",
    "                                      ], cmap=magma, ncols=4, legend_loc='on data')"
   ]
  },
  {
   "cell_type": "code",
   "execution_count": null,
   "id": "ff25ca8f-b68e-4992-897d-e337e12cede2",
   "metadata": {},
   "outputs": [],
   "source": []
  },
  {
   "cell_type": "code",
   "execution_count": null,
   "id": "ab2de59e-8a55-46c6-a691-d3cb7b59cd26",
   "metadata": {},
   "outputs": [],
   "source": []
  },
  {
   "cell_type": "code",
   "execution_count": null,
   "id": "e46bf835-6a73-454a-bfd4-f69c190b784f",
   "metadata": {},
   "outputs": [],
   "source": []
  }
 ],
 "metadata": {
  "kernelspec": {
   "display_name": "Python [conda env:alex-base] *",
   "language": "python",
   "name": "conda-env-alex-base-py"
  },
  "language_info": {
   "codemirror_mode": {
    "name": "ipython",
    "version": 3
   },
   "file_extension": ".py",
   "mimetype": "text/x-python",
   "name": "python",
   "nbconvert_exporter": "python",
   "pygments_lexer": "ipython3",
   "version": "3.8.0"
  }
 },
 "nbformat": 4,
 "nbformat_minor": 5
}
