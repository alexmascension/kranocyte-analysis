{
 "cells": [
  {
   "cell_type": "markdown",
   "metadata": {},
   "source": [
    "In this notebook we are going to find the reads in DeMicheli (mouse) 2020 D0 fastq file that map to Smim41 (6030408B16Rik), because we want to see if those reads map to any other genomic region. It is highly likely that it is the gene, considering that the results are replicated throughout the days, and the gene also appears in De Micheli 2020 paper dataset. \n",
    "\n",
    "To make sure that gene is relevant, we are going to devise some strategy.\n",
    "* Get the fastq file of the reads from day 0.\n",
    "* Grep some selected regions to those fastq files and get the reads that map to the selected regions\n",
    "* Use blast to see if the selected regions map to Smim41\n",
    "\n",
    "Lastly, we are going to create a fastq file with only those reads, and blast it with low selectivity to see if it maps to any other genomic region."
   ]
  },
  {
   "cell_type": "code",
   "execution_count": 2,
   "metadata": {},
   "outputs": [],
   "source": [
    "import scanpy as sc\n",
    "import scanpy.external as sce\n",
    "import pandas as pd\n",
    "import numpy as np\n",
    "import os\n",
    "import triku as tk\n",
    "import matplotlib.pyplot as plt\n",
    "import matplotlib as mpl\n",
    "from tqdm.notebook import tqdm\n",
    "import ray\n",
    "import subprocess"
   ]
  },
  {
   "cell_type": "code",
   "execution_count": 3,
   "metadata": {},
   "outputs": [],
   "source": [
    "seed = 10"
   ]
  },
  {
   "cell_type": "code",
   "execution_count": null,
   "metadata": {},
   "outputs": [],
   "source": [
    "os.getcwd()"
   ]
  },
  {
   "cell_type": "code",
   "execution_count": 5,
   "metadata": {},
   "outputs": [],
   "source": [
    "data_dir = os.getcwd() + '/data/'"
   ]
  },
  {
   "cell_type": "code",
   "execution_count": 6,
   "metadata": {},
   "outputs": [],
   "source": [
    "# Palettes for UMAP gene expression\n",
    "\n",
    "magma = [plt.get_cmap('magma')(i) for i in np.linspace(0,1, 80)]\n",
    "magma[0] = (0.88, 0.88, 0.88, 1)\n",
    "magma = mpl.colors.LinearSegmentedColormap.from_list(\"\", magma[:65])"
   ]
  },
  {
   "cell_type": "code",
   "execution_count": null,
   "metadata": {},
   "outputs": [],
   "source": [
    "!cd {data_dir}/demicheli_mouse && aria2c -x 16 https://sra-download.ncbi.nlm.nih.gov/traces/sra47/SRR/010615/SRR10870296"
   ]
  },
  {
   "cell_type": "code",
   "execution_count": null,
   "metadata": {},
   "outputs": [],
   "source": [
    "!fastq-dump {data_dir}/demicheli_mouse/SRR10870296 --gzip --split-files"
   ]
  },
  {
   "cell_type": "raw",
   "metadata": {},
   "source": [
    ">seq1_BEG\n",
    "CAAGGGTAGTGTGCACATCTGGGCAGCTG\n",
    ">seq2_BEG\n",
    "CACATCTGGGCAGCTGGTGGGAGCATGAA\n",
    ">seq3_BEG\n",
    "GCAGCCAAGGCTGCCTGGCTGAGCTGCTG\n",
    ">seq4_BEG\n",
    "GCTGAGCTGCTGCAACCAGTCCGGGCTGC\n",
    ">seq5_BEG\n",
    "CAGAGGGGCCACGCATGGTGCAGGCAGTC\n",
    ">seq6_BEG\n",
    "GGTGCAGGCAGTCGTGCTGGGCGTCCTGT\n",
    ">seq1_END\n",
    "CACTGTTTCCCCAAGCCTGGCTCTGTTAA\n",
    ">seq2_END\n",
    "TGTTAATTATTGTTCTATTGCGATAAAGC\n",
    ">seq3_END\n",
    "AGTGGGTAATGTGTTTGCCCATCACTATA\n",
    ">seq4_END\n",
    "ACTATATAAGGTTTTGTATACTATAATTA\n",
    ">seq5_END\n",
    "GTAAACCTTGCCCTCATCTTTGAAATAGA\n",
    ">seq6_END\n",
    "TGAAATAGAAGTGACACCATCAGTGTGAG\n",
    ">seq1_MID\n",
    "TTTCCAGCCCTTGACCCTTGGGATTCTTG\n",
    ">seq2_MID\n",
    "TGGGATTCTTGGTTTCCTTCCTCATCTCC\n",
    ">seq3_MID\n",
    "CGCTTCCCACGGCTTTGCCATTAAATAGG\n",
    ">seq4_MID\n",
    "TCTGTAATGGGAGCCAATGCCCTCTTCTG\n",
    ">seq5_MID\n",
    "GGTAGTTACGAACACTGACTGTTCTTCCA\n",
    ">seq6_MID\n",
    "GTTCTTCCAGAGGTTCTGAGTTTGATTCC"
   ]
  },
  {
   "cell_type": "markdown",
   "metadata": {},
   "source": [
    "MID SEQUENCES"
   ]
  },
  {
   "cell_type": "code",
   "execution_count": 29,
   "metadata": {},
   "outputs": [],
   "source": [
    "!cd {data_dir}/demicheli_mouse && zcat SRR10870296_3.fastq.gz | grep -B 1 --no-group-separator TTTCCAGCCCTTGACCCTTGGGATTCTTG > grep_TTTCCAGCCCTTGACCCTTGGGATTCTTG_seq1_mid.fasta"
   ]
  },
  {
   "cell_type": "raw",
   "metadata": {},
   "source": [
    "Result \n",
    "\n",
    "@SRR10870296.8970355 NB551191:229:HCNLTBGX7:1:22206:19699:11799 length=58\n",
    "GTCTGTTTCCAGCCCTTGACCCTTGGGATTCTTGGTTTCCTTCCTCATCTCCCCTCAA\n",
    "@SRR10870296.11195504 NB551191:229:HCNLTBGX7:1:23210:22071:5178 length=58\n",
    "GTTCTGAGTGTGTGGTCTGTTTCCAGCCCTTGACCCTTGGGATTCTTGGTTTCCTTCC\n",
    "@SRR10870296.14786006 NB551191:229:HCNLTBGX7:1:12112:5696:20184 length=58\n",
    "GGTCTGTTTCCAGCCCTTGACCCTTGGGATTCTTGGTTTCCTTCCTCATCTCCCCTCA\n",
    "@SRR10870296.20588235 NB551191:229:HCNLTBGX7:1:22104:10543:13020 length=58\n",
    "CTGTTTCCAGCCCTTGACCCTTGGGATTCTTGGTTTCCTTCCTCATCTCCCCTCAATT\n",
    "@SRR10870296.29311155 NB551191:229:HCNLTBGX7:1:12207:15631:17677 length=58\n",
    "CAGGAACGCAGTTCTGAGTGTGTGGTCTGTTTCCAGCCCTTGACCCTTGGGATTCTTG\n",
    "@SRR10870296.45952644 NB551191:229:HCNLTBGX7:1:12105:25273:7201 length=58\n",
    "GTGGTCTGTTTCCAGCCCTTGACCCTTGGGATTCTTGGTTTCCTTCCTCATCTCCCCT\n",
    "@SRR10870296.52960615 NB551191:229:HCNLTBGX7:1:22103:18663:16767 length=58\n",
    "CGCAGTTCTGAGTGTGTGGTCTGTTTCCAGCCCTTGACCCTTGGGATTCTTGGTTTCC\n",
    "@SRR10870296.61224369 NB551191:229:HCNLTBGX7:2:12306:18148:14851 length=58\n",
    "CAGGAACGCAGTTCTGAGTGTGTGGTCTGTTTCCAGCCCTTGACCCTTGGGATTCTTG\n",
    "@SRR10870296.74356478 NB551191:229:HCNLTBGX7:2:13109:12920:1479 length=58\n",
    "TGAGTGTGTGGTCTCTTTCCAGCCCTTGACCCTTGGGATTCTTGGTTTCCTTCCTCAT\n",
    "@SRR10870296.79893174 NB551191:229:HCNLTBGX7:2:22306:14805:16884 length=58\n",
    "GTTTCCAGCCCTTGACCCTTGGGATTCTTGGTTTCCTTCCTCATCTCCCCTCAATTTG\n",
    "@SRR10870296.88387673 NB551191:229:HCNLTBGX7:2:12309:24830:17486 length=58\n",
    "GTTTCCAGCCCTTGACCCTTGGGATTCTTGGTTTCCTTCCTCATCTCCCCTCAATTTG\n",
    "@SRR10870296.98797192 NB551191:229:HCNLTBGX7:2:23108:16638:8401 length=58\n",
    "GGTCTGTTTCCAGCCCTTGACCCTTGGGATTCTTGGTTTCCTTCCTCATCTCCCCTCA\n",
    "@SRR10870296.104607183 NB551191:229:HCNLTBGX7:2:12202:18881:15483 length=58\n",
    "GGTCTGTTTCCAGCCCTTGACCCTTGGGATTCTTGGTTTCCTTCCTCATCTCCCCTCA\n",
    "@SRR10870296.131244701 NB551191:229:HCNLTBGX7:3:12609:1826:14497 length=58\n",
    "CTGAGTGTGTGGTCTGTTTCCAGCCCTTGACCCTTGGGATTCTTGGTTTCCTTCCTCA\n",
    "@SRR10870296.132700108 NB551191:229:HCNLTBGX7:3:13511:4612:3426 length=58\n",
    "GTGTGTGGTCTGTTTCCAGCCCTTGACCCTTGGGATTCTTGGTTTCCTTCCTCATCTC\n",
    "@SRR10870296.136268960 NB551191:229:HCNLTBGX7:3:22501:19099:17269 length=58\n",
    "CTGTTTCCAGCCCTTGACCCTTGGGATTCTTGGTTTCCTTCCTCATCTCCCCTCAATT\n",
    "@SRR10870296.137544204 NB551191:229:HCNLTBGX7:3:22612:16630:10848 length=58\n",
    "GTTCTGAGTGTGTGGTCTGTTTCCAGCCCTTGACCCTTGGGATTCTTGGTTTCCTTCC\n",
    "@SRR10870296.137556801 NB551191:229:HCNLTBGX7:3:22612:22159:15276 length=58\n",
    "GGTCTGTTTCCAGCCCTTGACCCTTGGGATTCTTGGTTTCCTTCCTCATCTCCCCTCA\n",
    "@SRR10870296.138491732 NB551191:229:HCNLTBGX7:3:23504:11325:19630 length=58\n",
    "CTGTTTCCAGCCCTTGACCCTTGGGATTCTTGGTTTCCTTCCTCATCTCCCCTCAATT\n",
    "@SRR10870296.146545263 NB551191:229:HCNLTBGX7:3:13411:12461:5054 length=58\n",
    "CTGTTTCCAGCCCTTGACCCTTGGGATTCTTGGTTTCCTTCCTCATCTCCCCTCAATT\n",
    "@SRR10870296.147552908 NB551191:229:HCNLTBGX7:3:13510:6592:18920 length=58\n",
    "GTTCTGAGTGTGTGGTCTGTTTCCAGCCCTTGACCCTTGGGATTCTTGGTTTCCTTCC\n",
    "@SRR10870296.151149175 NB551191:229:HCNLTBGX7:3:21605:13253:10742 length=58\n",
    "GGTCTGTTTCCAGCCCTTGACCCTTGGGATTCTTGGTTTCCTTCCTCATCTCCCCTCA\n",
    "@SRR10870296.153438652 NB551191:229:HCNLTBGX7:3:22508:10426:12851 length=58\n",
    "AACGCAGTTCTGAGTGTGTGGTCTGTTTCCAGCCCTTGACCCTTGGGATTCTTGGTTT\n",
    "@SRR10870296.153862584 NB551191:229:HCNLTBGX7:3:22601:14726:12446 length=58\n",
    "GTTCTGAGTGTGTGGTCTGTTTCCAGCCCTTGACCCTTGGGATTCTTGGTTTCCTTCC\n",
    "@SRR10870296.154244507 NB551191:229:HCNLTBGX7:3:22606:21718:4213 length=58\n",
    "GTCTGTTTCCAGCCCTTGACCCTTGGGATTCTTGGTTTCCTTCCTCATCTCCCCTCAA\n",
    "@SRR10870296.156673493 NB551191:229:HCNLTBGX7:3:23510:2348:19901 length=58\n",
    "GGTCTGTTTCCAGCCCTTGACCCTTGGGATTCTTGGTTTCCTTCCTCCTCTCCCCTCA\n",
    "@SRR10870296.173029093 NB551191:229:HCNLTBGX7:4:11601:7723:10226 length=58\n",
    "CTGTTTCCAGCCCTTGACCCTTGGGATTCTTGGTTTCCTTCCTCATCTCCCCTCAATT\n",
    "@SRR10870296.178594207 NB551191:229:HCNLTBGX7:4:21506:3737:11968 length=58\n",
    "CTGTTTCCAGCCCTTGACCCTTGGGATTCTTGGTTTCCTTCCTCATCTCCCCTCAATT\n",
    "@SRR10870296.179041722 NB551191:229:HCNLTBGX7:4:21602:18591:13509 length=58\n",
    "GGAACGCAGTTCTGAGTGTGTGGTCTGTTTCCAGCCCTTGACCCTTGGGATTCTTGGT\n",
    "@SRR10870296.182579330 NB551191:229:HCNLTBGX7:4:23506:12924:18055 length=58\n",
    "CTGAGTGTGTGGTCTGTTTCCAGCCCTTGACCCTTGGGATTCTTGGTTTCCTTCCTCA\n",
    "@SRR10870296.202568087 NB551191:229:HCNLTBGX7:4:13404:25418:13500 length=58\n",
    "GTGGTCTGTTTCCAGCCCTTGACCCTTGGGATTCTTGGTTTCCTTCCTCATCTCCCCT\n",
    "@SRR10870296.211105884 NB551191:229:HCNLTBGX7:4:22607:13832:12156 length=58\n",
    "ACGCAGTTCTGAGTGTGTGGTCTGTTTCCAGCCCTTGACCCTTGGGATTCTTGGTTTC\n",
    "@SRR10870296.221759527 NB551191:229:HCNLTBGX7:4:21402:5813:13290 length=58\n",
    "GTGTGTGGTCTGTTTCCAGCCCTTGACCCTTGGGATTCTTGGTTTCCTTCCTCATCTC"
   ]
  },
  {
   "cell_type": "code",
   "execution_count": 30,
   "metadata": {},
   "outputs": [],
   "source": [
    "!cd {data_dir}/demicheli_mouse && zcat SRR10870296_3.fastq.gz | grep -B 1 --no-group-separator TGGGATTCTTGGTTTCCTTCCTCATCTCC  > grep_TGGGATTCTTGGTTTCCTTCCTCATCTCC_seq2_mid.fasta"
   ]
  },
  {
   "cell_type": "raw",
   "metadata": {},
   "source": [
    "Result\n",
    "\n",
    "@SRR10870296.1617788 NB551191:229:HCNLTBGX7:1:11306:3990:5554 length=58\n",
    "CCAGCCCTTGACCCTTGGGATTCTTGGTTTCCTTCCTCATCTCCCCTCAATTTGGCCT\n",
    "@SRR10870296.8970355 NB551191:229:HCNLTBGX7:1:22206:19699:11799 length=58\n",
    "GTCTGTTTCCAGCCCTTGACCCTTGGGATTCTTGGTTTCCTTCCTCATCTCCCCTCAA\n",
    "@SRR10870296.10858490 NB551191:229:HCNLTBGX7:1:23204:15747:4656 length=58\n",
    "GTTTCCAGCCCTTGCCCCTTGGGATTCTTGGTTTCCTTCCTCATCTCCCCTCAATTTG\n",
    "@SRR10870296.11304911 NB551191:229:HCNLTBGX7:1:23212:7825:4720 length=58\n",
    "TTGGGATTCTTGGTTTCCTTCCTCATCTCCCCTCAATTTGGCCTGCTTCTAGTAGATT\n",
    "@SRR10870296.12232859 NB551191:229:HCNLTBGX7:1:11104:13323:14705 length=58\n",
    "CCTTGGGATTCTTGGTTTCCTTCCTCATCTCCCCTCAATTTGGCCTGCTTCTAGTAGA\n",
    "@SRR10870296.14619122 NB551191:229:HCNLTBGX7:1:12110:12730:2338 length=58\n",
    "CTTGACCCTTGGGATTCTTGGTTTCCTTCCTCATCTCCCCTCAATTTGGCCTGCTTCT\n",
    "@SRR10870296.14786006 NB551191:229:HCNLTBGX7:1:12112:5696:20184 length=58\n",
    "GGTCTGTTTCCAGCCCTTGACCCTTGGGATTCTTGGTTTCCTTCCTCATCTCCCCTCA\n",
    "@SRR10870296.20588235 NB551191:229:HCNLTBGX7:1:22104:10543:13020 length=58\n",
    "CTGTTTCCAGCCCTTGACCCTTGGGATTCTTGGTTTCCTTCCTCATCTCCCCTCAATT\n",
    "@SRR10870296.32357455 NB551191:229:HCNLTBGX7:1:13206:15908:20040 length=58\n",
    "GACCCTTGGGATTCTTGGTTTCCTTCCTCATCTCCCCTCAATTTGGCCTGCTTCTAGT\n",
    "@SRR10870296.45952644 NB551191:229:HCNLTBGX7:1:12105:25273:7201 length=58\n",
    "GTGGTCTGTTTCCAGCCCTTGACCCTTGGGATTCTTGGTTTCCTTCCTCATCTCCCCT\n",
    "@SRR10870296.49964418 NB551191:229:HCNLTBGX7:1:13306:19304:11323 length=58\n",
    "GCCCTTGACGCTTGGGATTCTTGGTTTCCTTCCTCATCTCCCCTCAATTTGGCCTGCT\n",
    "@SRR10870296.63272483 NB551191:229:HCNLTBGX7:2:13307:5035:12679 length=58\n",
    "GCCCTTGACCCTTGGGATTCTTGGTTTCCTTCCTCATCTCCCCTCAATTTGGCCTGCT\n",
    "@SRR10870296.76514781 NB551191:229:HCNLTBGX7:2:21109:24821:17714 length=58\n",
    "CAGCCCTTGACCCTTGGGATTCTTGGTTTCCTTCCTCATCTCCCCTCAATTTGGCCTG\n",
    "@SRR10870296.79203563 NB551191:229:HCNLTBGX7:2:22207:17776:5536 length=58\n",
    "TGACCCTTGGGATTCTTGGTTTCCTTCCTCATCTCCCCTCAATTTGGCCTGCTTCTAG\n",
    "@SRR10870296.79893174 NB551191:229:HCNLTBGX7:2:22306:14805:16884 length=58\n",
    "GTTTCCAGCCCTTGACCCTTGGGATTCTTGGTTTCCTTCCTCATCTCCCCTCAATTTG\n",
    "@SRR10870296.88387673 NB551191:229:HCNLTBGX7:2:12309:24830:17486 length=58\n",
    "GTTTCCAGCCCTTGACCCTTGGGATTCTTGGTTTCCTTCCTCATCTCCCCTCAATTTG\n",
    "@SRR10870296.90198252 NB551191:229:HCNLTBGX7:2:13206:10094:15004 length=58\n",
    "CAGCCCTTGACCCTTGGGATTCTTGGTTTCCTTCCTCATCTCCCCTCAATTTGGCCTG\n",
    "@SRR10870296.91116706 NB551191:229:HCNLTBGX7:2:13305:1225:8317 length=58\n",
    "GACCCTTGGGATTCTTGGTTTCCTTCCTCATCTCCCCTCAATTTGACCTGCTTCTAGT\n",
    "@SRR10870296.91204022 NB551191:229:HCNLTBGX7:2:13306:26696:8320 length=58\n",
    "GACCCTTGGGATTCTTGGTTTCCTTCCTCATCTCCCCTCAATTTGACCTGCTTCTAGT\n",
    "@SRR10870296.98797192 NB551191:229:HCNLTBGX7:2:23108:16638:8401 length=58\n",
    "GGTCTGTTTCCAGCCCTTGACCCTTGGGATTCTTGGTTTCCTTCCTCATCTCCCCTCA\n",
    "@SRR10870296.102577511 NB551191:229:HCNLTBGX7:2:11208:11706:4915 length=58\n",
    "TGGGATTCTTGGTTTCCTTCCTCATCTCCCCTCAATTTGGCCTGCTTCTAGTAGATTT\n",
    "@SRR10870296.104607183 NB551191:229:HCNLTBGX7:2:12202:18881:15483 length=58\n",
    "GGTCTGTTTCCAGCCCTTGACCCTTGGGATTCTTGGTTTCCTTCCTCATCTCCCCTCA\n",
    "@SRR10870296.107991977 NB551191:229:HCNLTBGX7:2:13306:18904:3462 length=58\n",
    "CTTGGGATTCTTGGTTTCCTTCCTCATCTCCCCTCAATTTGGCCTGCTTCTAGTAGAT\n",
    "@SRR10870296.115549896 NB551191:229:HCNLTBGX7:2:23311:22065:5093 length=58\n",
    "CCTTGACCCTTGGGATTCTTGGTTTCCTTCCTCATCTCCCCTCAATTTGGCCTGCTTC\n",
    "@SRR10870296.136268960 NB551191:229:HCNLTBGX7:3:22501:19099:17269 length=58\n",
    "CTGTTTCCAGCCCTTGACCCTTGGGATTCTTGGTTTCCTTCCTCATCTCCCCTCAATT\n",
    "@SRR10870296.137556801 NB551191:229:HCNLTBGX7:3:22612:22159:15276 length=58\n",
    "GGTCTGTTTCCAGCCCTTGACCCTTGGGATTCTTGGTTTCCTTCCTCATCTCCCCTCA\n",
    "@SRR10870296.138491732 NB551191:229:HCNLTBGX7:3:23504:11325:19630 length=58\n",
    "CTGTTTCCAGCCCTTGACCCTTGGGATTCTTGGTTTCCTTCCTCATCTCCCCTCAATT\n",
    "@SRR10870296.142415961 NB551191:229:HCNLTBGX7:3:11610:14895:7318 length=58\n",
    "CAGCCCTTGACCCTTGGGATTCTTGGTTTCCTTCCTCATCTCCCCTCAATTTGGCCTG\n",
    "@SRR10870296.146545263 NB551191:229:HCNLTBGX7:3:13411:12461:5054 length=58\n",
    "CTGTTTCCAGCCCTTGACCCTTGGGATTCTTGGTTTCCTTCCTCATCTCCCCTCAATT\n",
    "@SRR10870296.151149175 NB551191:229:HCNLTBGX7:3:21605:13253:10742 length=58\n",
    "GGTCTGTTTCCAGCCCTTGACCCTTGGGATTCTTGGTTTCCTTCCTCATCTCCCCTCA\n",
    "@SRR10870296.154244507 NB551191:229:HCNLTBGX7:3:22606:21718:4213 length=58\n",
    "GTCTGTTTCCAGCCCTTGACCCTTGGGATTCTTGGTTTCCTTCCTCATCTCCCCTCAA\n",
    "@SRR10870296.156989290 NB551191:229:HCNLTBGX7:3:23602:7272:14224 length=58\n",
    "TGCCCCTTGGGATTCTTGGTTTCCTTCCTCATCTCCCCTCAATTTGGCCTGCTTCTAG\n",
    "@SRR10870296.157478930 NB551191:229:HCNLTBGX7:3:23608:12356:13683 length=58\n",
    "CAGCCCTTGACCCTTGGGATTCTTGGTTTCCTTCCTCATCTCCCCTCAATTTGGCCTG\n",
    "@SRR10870296.168810797 NB551191:229:HCNLTBGX7:3:22604:2566:4601 length=58\n",
    "TGGGATTCTTGGTTTCCTTCCTCATCTCCCCTCAATTTGGACTGCTTCTAGTAGATTT\n",
    "@SRR10870296.173029093 NB551191:229:HCNLTBGX7:4:11601:7723:10226 length=58\n",
    "CTGTTTCCAGCCCTTGACCCTTGGGATTCTTGGTTTCCTTCCTCATCTCCCCTCAATT\n",
    "@SRR10870296.178297782 NB551191:229:HCNLTBGX7:4:21501:5967:4522 length=58\n",
    "CTTGACCCTTGGGATTCTTGGTTTCCTTCCTCATCTCCCCTCAATTTGGCCTGCTTCT\n",
    "@SRR10870296.178594207 NB551191:229:HCNLTBGX7:4:21506:3737:11968 length=58\n",
    "CTGTTTCCAGCCCTTGACCCTTGGGATTCTTGGTTTCCTTCCTCATCTCCCCTCAATT\n",
    "@SRR10870296.202568087 NB551191:229:HCNLTBGX7:4:13404:25418:13500 length=58\n",
    "GTGGTCTGTTTCCAGCCCTTGACCCTTGGGATTCTTGGTTTCCTTCCTCATCTCCCCT\n",
    "@SRR10870296.204630074 NB551191:229:HCNLTBGX7:4:13604:5720:10089 length=58\n",
    "CTTGGGATTCTTGGTTTCCTTCCTCATCTCCCCTCAATTTGGCCTGCTTCTAGTAGAT\n",
    "@SRR10870296.204832228 NB551191:229:HCNLTBGX7:4:13606:21540:18787 length=58\n",
    "CCAGCCCTTGACCCTTGGGATTCTTGGTTTCCTTCCTCATCTCCCCTCAATTTGGCCT\n",
    "@SRR10870296.210832451 NB551191:229:HCNLTBGX7:4:22604:12101:7110 length=58\n",
    "CCTTGGGATTCTTGGTTTCCTTCCTCATCTCCCCTCAATTTGGCCTGCTTCTAGTAGA\n",
    "@SRR10870296.223520470 NB551191:229:HCNLTBGX7:4:21605:1971:3548 length=58\n",
    "CTTGGGATTCTTGGTTTCCTTCCTCATCTCCCCTCAATTTGGCCTGCTTCTAGTAGAT"
   ]
  },
  {
   "cell_type": "code",
   "execution_count": 31,
   "metadata": {},
   "outputs": [],
   "source": [
    "!cd {data_dir}/demicheli_mouse && zcat SRR10870296_3.fastq.gz | grep -B 1 --no-group-separator CGCTTCCCACGGCTTTGCCATTAAATAGG  > grep_CGCTTCCCACGGCTTTGCCATTAAATAGG_seq3_mid.fasta"
   ]
  },
  {
   "cell_type": "raw",
   "metadata": {},
   "source": [
    "Result \n",
    "\n",
    "@SRR10870296.54171515 NB551191:229:HCNLTBGX7:1:22210:8298:2955 length=58\n",
    "CAGCAACAGTTCCAGCATCGCTTCCCACGGCTTTGCCATTAAATAGGCCAGGAACGCA\n",
    "@SRR10870296.61482214 NB551191:229:HCNLTBGX7:2:12311:15664:7089 length=58\n",
    "ATCCAGCAACAGTTCCAGCATCGCTTCCCACGGCTTTGCCATTAAATAGGCCAGGAAC\n",
    "@SRR10870296.67933453 NB551191:229:HCNLTBGX7:2:23106:8286:3773 length=58\n",
    "CAGCCATCCAGCAACAGTTCCAGCATCGCTTCCCACGGCTTTGCCATTAAATAGGCCA\n",
    "@SRR10870296.81913601 NB551191:229:HCNLTBGX7:2:23305:3470:3485 length=58\n",
    "TTCCAGCATCGCTTCCCACGGCTTTGCCATTAAATAGGCCAGGAACGCAGTTCTGAGT\n",
    "@SRR10870296.84925154 NB551191:229:HCNLTBGX7:2:11306:11573:5282 length=58\n",
    "GCATCGCTTCCCACGGCTTTGCCATTAAATAGGCCAGGAACGCAGTTCTGAGTGTGTG\n",
    "@SRR10870296.96027724 NB551191:229:HCNLTBGX7:2:22112:8605:20164 length=58\n",
    "AGCATCGCTTCCCACGGCTTTGCCATTAAATAGGCCAGGAACGCAGTTCTGAGTGTGT\n",
    "@SRR10870296.107493054 NB551191:229:HCNLTBGX7:2:13210:24446:11100 length=58\n",
    "GCAACAGTTCCAGCATCGCTTCCCACGGCTTTGCCATTAAATAGGCCAGGAACGCAGT\n",
    "@SRR10870296.107814797 NB551191:229:HCNLTBGX7:2:13303:15434:9672 length=58\n",
    "GGCAACAGTTCCAGGATCGCTTCCCACGGCTTTGCCATTAAATAGGCCAGGAACGCAG\n",
    "@SRR10870296.109755071 NB551191:229:HCNLTBGX7:2:21208:22638:14324 length=58\n",
    "ATCCAGCAACAGTTCCAGCATCGCTTCCCACGGCTTTGCCATTAAATAGGCCAGGAAC\n",
    "@SRR10870296.125426485 NB551191:229:HCNLTBGX7:3:23401:10961:9700 length=58\n",
    "CAGCAACAGTTCCAGCATCGCTTCCCACGGCTTTGCCATTAAATAGGCCAGGAACGCA\n",
    "@SRR10870296.125763795 NB551191:229:HCNLTBGX7:3:23407:16448:11334 length=58\n",
    "TTCCAGCATCGCTTCCCACGGCTTTGCCATTAAATAGGCCAGGAACGCAGTTCTGAGT\n",
    "@SRR10870296.126091743 NB551191:229:HCNLTBGX7:3:23501:10279:9323 length=58\n",
    "CAACAGTTCCAGCATCGCTTCCCACGGCTTTGCCATTAAATAGGCCAGGAACGCAGTT\n",
    "@SRR10870296.148729620 NB551191:229:HCNLTBGX7:3:13612:6955:18821 length=58\n",
    "CAGCCATCCAGCAACAGTTCCAGCATCGCTTCCCACGGCTTTGCCATTAAATAGGCCA\n",
    "@SRR10870296.149052640 NB551191:229:HCNLTBGX7:3:21404:24366:15409 length=58\n",
    "ATCGCTTCCCACGGCTTTGCCATTAAATAGGCCAGGAACGCAGTTCTGAGTGTGTGGT\n",
    "@SRR10870296.163985493 NB551191:229:HCNLTBGX7:3:13512:15187:18544 length=58\n",
    "GCCATCCAGCAACAGTTCCAGCATCGCTTCCCACGGCTTTGCCATTAAATAGGCCAGA\n",
    "@SRR10870296.169454053 NB551191:229:HCNLTBGX7:3:23402:26730:10677 length=58\n",
    "GTCAGCCATCCAGCAACAGTTCCAGCATCGCTTCCCACGGCTTTGCCATTAAATAGGC\n",
    "@SRR10870296.169519428 NB551191:229:HCNLTBGX7:3:23403:1345:10676 length=58\n",
    "GTCAGCCATCCAGCAACAGTTCCAGCATCGCTTCCCACGGCTTTGCCATTAAATAGGC\n",
    "@SRR10870296.226916049 NB551191:229:HCNLTBGX7:4:23409:3916:5130 length=58\n",
    "CCAGCATCGCTTCCCACGGCTTTGCCATTAAATAGGCCAGGAACGCAGTTCTGAGTGT"
   ]
  },
  {
   "cell_type": "code",
   "execution_count": 32,
   "metadata": {},
   "outputs": [],
   "source": [
    "!cd {data_dir}/demicheli_mouse && zcat SRR10870296_3.fastq.gz | grep -B 1 --no-group-separator TCTGTAATGGGAGCCAATGCCCTCTTCTG  > grep_TCTGTAATGGGAGCCAATGCCCTCTTCTG_seq4_mid.fasta"
   ]
  },
  {
   "cell_type": "raw",
   "metadata": {},
   "source": [
    "Result\n",
    "\n",
    "@SRR10870296.2197427 NB551191:229:HCNLTBGX7:1:12104:20087:16694 length=58\n",
    "CACATGGTCGCTCACAACCATCTGTAATGGGAGCCAATGCCCTCTTCTGGTGCGTCTG\n",
    "@SRR10870296.9237138 NB551191:229:HCNLTBGX7:1:22211:2331:6143 length=58\n",
    "GCCACATGGTGGCTCACAACCATCTGTAATGGGAGCCAATGCCCTCTTCTGGTGCGTC\n",
    "@SRR10870296.116602143 NB551191:229:HCNLTBGX7:3:11506:12239:1583 length=58\n",
    "ATCTGTAATGGGAGCCAATGCCCTCTTCTGGTGTGTCTGAAGACAGCAACTATGTACT"
   ]
  },
  {
   "cell_type": "code",
   "execution_count": 33,
   "metadata": {},
   "outputs": [],
   "source": [
    "!cd {data_dir}/demicheli_mouse && zcat SRR10870296_3.fastq.gz | grep -B 1 --no-group-separator GGTAGTTACGAACACTGACTGTTCTTCCA  > grep_GGTAGTTACGAACACTGACTGTTCTTCCA_seq5_mid.fasta"
   ]
  },
  {
   "cell_type": "raw",
   "metadata": {},
   "source": [
    "Result \n",
    "\n",
    "@SRR10870296.9797378 NB551191:229:HCNLTBGX7:1:22309:15990:3549 length=58\n",
    "AGGAGCTGGAGAGGTGGCTGGGTAGTTACGAACACTGACTGTTCTTCCAGAGGTTCTG\n",
    "@SRR10870296.37485172 NB551191:229:HCNLTBGX7:1:22106:17370:2710 length=58\n",
    "GGTTTACAAGGAGCTGGAGAGGTGGCTGGGTAGTTACGAACACTGACTGTTCTTCCAG\n",
    "@SRR10870296.65898898 NB551191:229:HCNLTBGX7:2:22106:3243:1807 length=58\n",
    "GGTAGTTACGAACACTGACTGTTCTTCCAGAGGTTCTGAGTTTGATTCCTAGTAGCCA\n",
    "@SRR10870296.83411491 NB551191:229:HCNLTBGX7:2:11112:22278:16009 length=58\n",
    "AGGAGCTGGAGAGGTGGCTGGGTAGTTACGAACACTGACTGTTCTTCCAGAGGTTCTG\n",
    "@SRR10870296.88725633 NB551191:229:HCNLTBGX7:2:13101:10580:13401 length=58\n",
    "GGTTTACAAGGAGCTGGAGAGGTGGCTGGGTAGTTACGAACACTGACTGTTCTTCCAG\n",
    "@SRR10870296.90032604 NB551191:229:HCNLTBGX7:2:13204:13848:16409 length=58\n",
    "GTGGCTGGGTAGTTACGAACACTGACTGTTCTTCCAGAGGTTCTGAGTTTGATTCCTA\n",
    "@SRR10870296.138165435 NB551191:229:HCNLTBGX7:3:23411:23864:7330 length=58\n",
    "CTGGGTAGTTACGAACACTGACTGTTCTTCCAGAGGTTCTGAGTTTGATTCCTAGTAG"
   ]
  },
  {
   "cell_type": "code",
   "execution_count": 34,
   "metadata": {},
   "outputs": [],
   "source": [
    "!cd {data_dir}/demicheli_mouse && zcat SRR10870296_3.fastq.gz | grep -B 1 --no-group-separator GTTCTTCCAGAGGTTCTGAGTTTGATTCC  > grep_GTTCTTCCAGAGGTTCTGAGTTTGATTCC_seq6_mid.fasta"
   ]
  },
  {
   "cell_type": "raw",
   "metadata": {},
   "source": [
    "Result\n",
    "\n",
    "@SRR10870296.5290338 NB551191:229:HCNLTBGX7:1:13212:20382:13482 length=58\n",
    "GTTCTTCCAGAGGTTCTGAGTTTGATTCCTAGTAGCCACATGGTGGCTCACAACCATC\n",
    "@SRR10870296.28982642 NB551191:229:HCNLTBGX7:1:12204:15947:2040 length=58\n",
    "CTGTTCTTCCAGAGGTTCTGAGTTTGATTCCTAGTAGCCACATGGTGGCTCACAACCA\n",
    "@SRR10870296.65898898 NB551191:229:HCNLTBGX7:2:22106:3243:1807 length=58\n",
    "GGTAGTTACGAACACTGACTGTTCTTCCAGAGGTTCTGAGTTTGATTCCTAGTAGCCA\n",
    "@SRR10870296.90032604 NB551191:229:HCNLTBGX7:2:13204:13848:16409 length=58\n",
    "GTGGCTGGGTAGTTACGAACACTGACTGTTCTTCCAGAGGTTCTGAGTTTGATTCCTA\n",
    "@SRR10870296.106812252 NB551191:229:HCNLTBGX7:2:13112:14556:4543 length=58\n",
    "CTGTTCTTCCAGAGGTTCTGAGTTTGATTCCTAGTAGCCACATGGTGGCTAACAACCA\n",
    "@SRR10870296.124437499 NB551191:229:HCNLTBGX7:3:22506:15980:17082 length=58\n",
    "ATGGCTCAGTGCTTAAGAGCGCCAACTGTTCTTCCAGAGGTTCTGAGTTTGATTCCCA\n",
    "@SRR10870296.138165435 NB551191:229:HCNLTBGX7:3:23411:23864:7330 length=58\n",
    "CTGGGTAGTTACGAACACTGACTGTTCTTCCAGAGGTTCTGAGTTTGATTCCTAGTAG"
   ]
  },
  {
   "cell_type": "markdown",
   "metadata": {},
   "source": [
    "END SEQUENCES"
   ]
  },
  {
   "cell_type": "code",
   "execution_count": 35,
   "metadata": {},
   "outputs": [],
   "source": [
    "!cd {data_dir}/demicheli_mouse && zcat SRR10870296_3.fastq.gz | grep -B 1 --no-group-separator CACTGTTTCCCCAAGCCTGGCTCTGTTAA  > grep_CACTGTTTCCCCAAGCCTGGCTCTGTTAA_seq1_end.fasta"
   ]
  },
  {
   "cell_type": "code",
   "execution_count": 36,
   "metadata": {},
   "outputs": [],
   "source": [
    "!cd {data_dir}/demicheli_mouse && zcat SRR10870296_3.fastq.gz | grep -B 1 --no-group-separator TGTTAATTATTGTTCTATTGCGATAAAGC > grep_TGTTAATTATTGTTCTATTGCGATAAAGC_seq2_end.fasta"
   ]
  },
  {
   "cell_type": "code",
   "execution_count": 37,
   "metadata": {},
   "outputs": [],
   "source": [
    "!cd {data_dir}/demicheli_mouse && zcat SRR10870296_3.fastq.gz | grep -B 1 --no-group-separator AGTGGGTAATGTGTTTGCCCATCACTATA > grep_AGTGGGTAATGTGTTTGCCCATCACTATA_seq3_end.fasta"
   ]
  },
  {
   "cell_type": "code",
   "execution_count": 38,
   "metadata": {},
   "outputs": [],
   "source": [
    "!cd {data_dir}/demicheli_mouse && zcat SRR10870296_3.fastq.gz | grep -B 1 --no-group-separator ACTATATAAGGTTTTGTATACTATAATTA > grep_ACTATATAAGGTTTTGTATACTATAATTA_seq4_end.fasta"
   ]
  },
  {
   "cell_type": "code",
   "execution_count": 39,
   "metadata": {},
   "outputs": [],
   "source": [
    "!cd {data_dir}/demicheli_mouse && zcat SRR10870296_3.fastq.gz | grep -B 1 --no-group-separator GTAAACCTTGCCCTCATCTTTGAAATAGA > grep_GTAAACCTTGCCCTCATCTTTGAAATAGA_seq5_end.fasta"
   ]
  },
  {
   "cell_type": "code",
   "execution_count": 40,
   "metadata": {},
   "outputs": [],
   "source": [
    "!cd {data_dir}/demicheli_mouse && zcat SRR10870296_3.fastq.gz | grep -B 1 --no-group-separator TGAAATAGAAGTGACACCATCAGTGTGAG > grep_TGAAATAGAAGTGACACCATCAGTGTGAG_seq6_end.fasta"
   ]
  },
  {
   "cell_type": "markdown",
   "metadata": {},
   "source": [
    "BEGINNING SEQUENCES"
   ]
  },
  {
   "cell_type": "code",
   "execution_count": 41,
   "metadata": {},
   "outputs": [],
   "source": [
    "!cd {data_dir}/demicheli_mouse && zcat SRR10870296_3.fastq.gz | grep -B 1 --no-group-separator CAAGGGTAGTGTGCACATCTGGGCAGCTG > grep_CAAGGGTAGTGTGCACATCTGGGCAGCTG_seq1_beg.fasta"
   ]
  },
  {
   "cell_type": "code",
   "execution_count": 42,
   "metadata": {},
   "outputs": [],
   "source": [
    "!cd {data_dir}/demicheli_mouse && zcat SRR10870296_3.fastq.gz | grep -B 1 --no-group-separator CACATCTGGGCAGCTGGTGGGAGCATGAA > grep_CACATCTGGGCAGCTGGTGGGAGCATGAA_seq2_beg.fasta"
   ]
  },
  {
   "cell_type": "code",
   "execution_count": 43,
   "metadata": {},
   "outputs": [],
   "source": [
    "!cd {data_dir}/demicheli_mouse && zcat SRR10870296_3.fastq.gz | grep -B 1 --no-group-separator GCAGCCAAGGCTGCCTGGCTGAGCTGCTG > grep_GCAGCCAAGGCTGCCTGGCTGAGCTGCTG_seq3_beg.fasta"
   ]
  },
  {
   "cell_type": "code",
   "execution_count": 44,
   "metadata": {},
   "outputs": [],
   "source": [
    "!cd {data_dir}/demicheli_mouse && zcat SRR10870296_3.fastq.gz | grep -B 1 --no-group-separator GCTGAGCTGCTGCAACCAGTCCGGGCTGC > grep_GCTGAGCTGCTGCAACCAGTCCGGGCTGC_seq4_beg.fasta"
   ]
  },
  {
   "cell_type": "code",
   "execution_count": 45,
   "metadata": {},
   "outputs": [],
   "source": [
    "!cd {data_dir}/demicheli_mouse && zcat SRR10870296_3.fastq.gz | grep -B 1 --no-group-separator CAGAGGGGCCACGCATGGTGCAGGCAGTC > grep_CAGAGGGGCCACGCATGGTGCAGGCAGTC_seq5_beg.fasta"
   ]
  },
  {
   "cell_type": "code",
   "execution_count": 46,
   "metadata": {},
   "outputs": [],
   "source": [
    "!cd {data_dir}/demicheli_mouse && zcat SRR10870296_3.fastq.gz | grep -B 1 --no-group-separator GGTGCAGGCAGTCGTGCTGGGCGTCCTGT > grep_GGTGCAGGCAGTCGTGCTGGGCGTCCTGT_seq6_beg.fasta"
   ]
  },
  {
   "cell_type": "code",
   "execution_count": null,
   "metadata": {},
   "outputs": [],
   "source": []
  },
  {
   "cell_type": "code",
   "execution_count": 28,
   "metadata": {},
   "outputs": [],
   "source": [
    "!find . -type f -name 'grep_*.fasta' -exec sed -i 's/@SRR/>SRR/g' {} \\; "
   ]
  },
  {
   "cell_type": "markdown",
   "metadata": {},
   "source": [
    "After running sed and "
   ]
  },
  {
   "cell_type": "markdown",
   "metadata": {},
   "source": [
    "SPECIFIC OF Smim41-202: We have found **no reads** associated to smim41-202 isoform, so it is likely not the specific isoform. However, the unique bases are so few that we cannot be sure of it."
   ]
  },
  {
   "cell_type": "code",
   "execution_count": null,
   "metadata": {},
   "outputs": [],
   "source": [
    "GAGGCTGAGCCTGGTGCCTGTGGAGGGGATGACGACTCCTAG"
   ]
  },
  {
   "cell_type": "code",
   "execution_count": 47,
   "metadata": {},
   "outputs": [],
   "source": [
    "!cd {data_dir}/demicheli_mouse && zcat SRR10870296_3.fastq.gz | grep -B 1 --no-group-separator GAGGCTGAGCCTGGTGCCTGTGGAGGG > grep_GAGGCTGAGCCTGGTGCCTGTGGAGGG_smim202_1.fasta"
   ]
  },
  {
   "cell_type": "code",
   "execution_count": 48,
   "metadata": {},
   "outputs": [],
   "source": [
    "!cd {data_dir}/demicheli_mouse && zcat SRR10870296_3.fastq.gz | grep -B 1 --no-group-separator GCCTGGTGCCTGTGGAGGGGATGACGA > grep_GCCTGGTGCCTGTGGAGGGGATGACGA_smim202_2.fasta"
   ]
  },
  {
   "cell_type": "code",
   "execution_count": 49,
   "metadata": {},
   "outputs": [],
   "source": [
    "!cd {data_dir}/demicheli_mouse && zcat SRR10870296_3.fastq.gz | grep -B 1 --no-group-separator GCCTGTGGAGGGGATGACGACTCCTAG > grep_GCCTGTGGAGGGGATGACGACTCCTAG_smim202_3.fasta"
   ]
  },
  {
   "cell_type": "markdown",
   "metadata": {},
   "source": [
    "SPECIFIC OF Smim41-201: sequences CTCGCCTGCCGCCCACCCGCACCCTA and CCCGCACCCTATTTGTGCTTGTGGTG were matched, so it can be this isoform."
   ]
  },
  {
   "cell_type": "code",
   "execution_count": null,
   "metadata": {},
   "outputs": [],
   "source": [
    "AGGCTGAGCCTGGTGCCTGTGGAGGGGATGACGACTCCTAGGTGTCAGCTGCTCTTGAGATTCAGCCTGTTCTGTGCCACGCCATCCAGAGTTCATTTCTGTGAGGCACAGCGGAAGGTCCAACCCACAAGCTCTTATTTCCCGCACAGGTGCTGGACATCTCCCCTCGCCTGCCGCCCACCCGCACCCTATTTGTGCTTGTGGTGA"
   ]
  },
  {
   "cell_type": "code",
   "execution_count": 50,
   "metadata": {},
   "outputs": [],
   "source": [
    "!cd {data_dir}/demicheli_mouse && zcat SRR10870296_3.fastq.gz | grep -B 1 --no-group-separator GGCTGAGCCTGGTGCCTGTGGAGGGG > grep_GGCTGAGCCTGGTGCCTGTGGAGGGG_smim201_1.fasta"
   ]
  },
  {
   "cell_type": "code",
   "execution_count": 51,
   "metadata": {},
   "outputs": [],
   "source": [
    "!cd {data_dir}/demicheli_mouse && zcat SRR10870296_3.fastq.gz | grep -B 1 --no-group-separator GACGACTCCTAGGTGTCAGCTGCTCT > grep_GACGACTCCTAGGTGTCAGCTGCTCT_smim201_2.fasta"
   ]
  },
  {
   "cell_type": "code",
   "execution_count": 52,
   "metadata": {},
   "outputs": [],
   "source": [
    "!cd {data_dir}/demicheli_mouse && zcat SRR10870296_3.fastq.gz | grep -B 1 --no-group-separator GAGATTCAGCCTGTTCTGTGCCACGC > grep_GAGATTCAGCCTGTTCTGTGCCACGC_smim201_3.fasta"
   ]
  },
  {
   "cell_type": "code",
   "execution_count": 53,
   "metadata": {},
   "outputs": [],
   "source": [
    "!cd {data_dir}/demicheli_mouse && zcat SRR10870296_3.fastq.gz | grep -B 1 --no-group-separator CAGCGGAAGGTCCAACCCACAAGCTC > grep_CAGCGGAAGGTCCAACCCACAAGCTC_smim201_4.fasta"
   ]
  },
  {
   "cell_type": "code",
   "execution_count": 54,
   "metadata": {},
   "outputs": [],
   "source": [
    "!cd {data_dir}/demicheli_mouse && zcat SRR10870296_3.fastq.gz | grep -B 1 --no-group-separator CCACAAGCTCTTATTTCCCGCACAGG > grep_CCACAAGCTCTTATTTCCCGCACAGG_smim201_5.fasta"
   ]
  },
  {
   "cell_type": "code",
   "execution_count": 55,
   "metadata": {},
   "outputs": [],
   "source": [
    "!cd {data_dir}/demicheli_mouse && zcat SRR10870296_3.fastq.gz | grep -B 1 --no-group-separator CAGGTGCTGGACATCTCCCCTCGCCT > grep_CAGGTGCTGGACATCTCCCCTCGCCT_smim201_6.fasta"
   ]
  },
  {
   "cell_type": "code",
   "execution_count": 56,
   "metadata": {},
   "outputs": [],
   "source": [
    "!cd {data_dir}/demicheli_mouse && zcat SRR10870296_3.fastq.gz | grep -B 1 --no-group-separator CTCGCCTGCCGCCCACCCGCACCCTA > grep_CTCGCCTGCCGCCCACCCGCACCCTA_smim201_7.fasta"
   ]
  },
  {
   "cell_type": "raw",
   "metadata": {},
   "source": [
    "Result\n",
    "\n",
    "@SRR10870296.50700412 NB551191:229:HCNLTBGX7:1:21105:10257:14563 length=58\n",
    "GACATCTCCCCTCGCCTGCCGCCCACCCGCACCCTATTTGTGCTTGTGGTGATGGACT\n",
    "@SRR10870296.57158467 NB551191:229:HCNLTBGX7:1:23307:6211:4204 length=58\n",
    "GCTGGACATCTCCCCTCGCCTGCCGCCCACCCGCACCCTATTTGTGCTTGTGGTGATG\n",
    "@SRR10870296.120164166 NB551191:229:HCNLTBGX7:3:13412:16872:5775 length=58\n",
    "GGACATCTCCCCTCGCCTGCCGCCCACCCGCACCCTATTTGTGCTTGTGGTGATGGAC"
   ]
  },
  {
   "cell_type": "raw",
   "metadata": {},
   "source": [
    "!cd {data_dir}/demicheli_mouse && zcat SRR10870296_3.fastq.gz | grep -B 1 --no-group-separator CCCGCACCCTATTTGTGCTTGTGGTG > grep_CCCGCACCCTATTTGTGCTTGTGGTG_smim201_8.fasta"
   ]
  },
  {
   "cell_type": "raw",
   "metadata": {},
   "source": [
    "Result\n",
    "\n",
    "@SRR10870296.50700412 NB551191:229:HCNLTBGX7:1:21105:10257:14563 length=58\n",
    "GACATCTCCCCTCGCCTGCCGCCCACCCGCACCCTATTTGTGCTTGTGGTGATGGACT\n",
    "@SRR10870296.57158467 NB551191:229:HCNLTBGX7:1:23307:6211:4204 length=58\n",
    "GCTGGACATCTCCCCTCGCCTGCCGCCCACCCGCACCCTATTTGTGCTTGTGGTGATG\n",
    "@SRR10870296.81245606 NB551191:229:HCNLTBGX7:2:23205:7638:15231 length=58\n",
    "GCCGCCCACCCGCACCCTATTTGTGCTTGTGGTGATGGACTGAAGACACCGGACCGGT\n",
    "@SRR10870296.88312671 NB551191:229:HCNLTBGX7:2:12309:16416:1339 length=58\n",
    "CCCGCACCCTATTTGTGCTTGTGGTGATGGCCTGAAGACACCGGACCGGTGACTCCTC\n",
    "@SRR10870296.120164166 NB551191:229:HCNLTBGX7:3:13412:16872:5775 length=58\n",
    "GGACATCTCCCCTCGCCTGCCGCCCACCCGCACCCTATTTGTGCTTGTGGTGATGGAC\n",
    "@SRR10870296.126546449 NB551191:229:HCNLTBGX7:3:23509:8203:15131 length=58\n",
    "CGCCTGCCGCCCACCCGCACCCTATTTGTGCTTGTGGTGATGGACTGAAGACACCGGA"
   ]
  },
  {
   "cell_type": "code",
   "execution_count": 58,
   "metadata": {},
   "outputs": [],
   "source": [
    "!cd {data_dir}/demicheli_mouse && zcat SRR10870296_3.fastq.gz | grep -B 1 --no-group-separator CTGTGGAGGGGATGACGACTCCTAGG > grep_CTGTGGAGGGGATGACGACTCCTAGG_smim201_9.fasta"
   ]
  },
  {
   "cell_type": "markdown",
   "metadata": {},
   "source": [
    "# Conclusion\n",
    "\n",
    "We find that there are reads mapped to specific regions of the protein. Also, BLASTn of the matching sequences mapped to Smim41 protein integrally, indicating the existence of the protein, and its expression on this dataset.\n",
    "\n",
    "Some things to remark:\n",
    "* No reads were found mapping to \"beggining\" or \"end\" sequences. This is likely because \"beggining\" sequences belong to 5' and this kind of single-cell protocol is 3' enriched. \"end\" sequences might not appear because maybe those sequences belong to an isoform that is not expressed.\n",
    "\n",
    "* Of the isoforms 201 and 202, only reads mapping to 201 were found. However, due to the short sequence of isoform 202 (the sequence is longer, but this is the only non-overlapping part), it is likely that either reads did not map probabilistically, or they mapped with some mismatching, and they were not captured with grep.\n",
    "\n",
    "\n",
    "The real way to do the analysis would be to use STAR or any other aligner to map all the reads, and select the ones mapping to Smim41. Then BLAST those reads and see to which part of the protein they mapped to. This is a more thorough analysis, and since we were only interested in confirming the specificity of the reads, it is enough.\n"
   ]
  }
 ],
 "metadata": {
  "kernelspec": {
   "display_name": "Python [conda env:alex-base] *",
   "language": "python",
   "name": "conda-env-alex-base-py"
  },
  "language_info": {
   "codemirror_mode": {
    "name": "ipython",
    "version": 3
   },
   "file_extension": ".py",
   "mimetype": "text/x-python",
   "name": "python",
   "nbconvert_exporter": "python",
   "pygments_lexer": "ipython3",
   "version": "3.7.6"
  },
  "toc": {
   "base_numbering": 1,
   "nav_menu": {},
   "number_sections": true,
   "sideBar": true,
   "skip_h1_title": false,
   "title_cell": "Table of Contents",
   "title_sidebar": "Contents",
   "toc_cell": false,
   "toc_position": {},
   "toc_section_display": true,
   "toc_window_display": false
  },
  "varInspector": {
   "cols": {
    "lenName": 16,
    "lenType": 16,
    "lenVar": 40
   },
   "kernels_config": {
    "python": {
     "delete_cmd_postfix": "",
     "delete_cmd_prefix": "del ",
     "library": "var_list.py",
     "varRefreshCmd": "print(var_dic_list())"
    },
    "r": {
     "delete_cmd_postfix": ") ",
     "delete_cmd_prefix": "rm(",
     "library": "var_list.r",
     "varRefreshCmd": "cat(var_dic_list()) "
    }
   },
   "types_to_exclude": [
    "module",
    "function",
    "builtin_function_or_method",
    "instance",
    "_Feature"
   ],
   "window_display": false
  }
 },
 "nbformat": 4,
 "nbformat_minor": 4
}
