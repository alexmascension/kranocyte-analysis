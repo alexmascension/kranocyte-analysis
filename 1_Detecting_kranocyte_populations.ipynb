{
 "cells": [
  {
   "cell_type": "markdown",
   "id": "married-courtesy",
   "metadata": {},
   "source": [
    "# Detecting kranocyte populations in the datasets"
   ]
  },
  {
   "cell_type": "code",
   "execution_count": null,
   "id": "4cf74a68-dba7-40f8-bea3-ec23e2fdc3b5",
   "metadata": {
    "tags": []
   },
   "outputs": [],
   "source": [
    "import scanpy as sc\n",
    "import scanpy.external as sce\n",
    "import pandas as pd\n",
    "import numpy as np\n",
    "import os\n",
    "import triku as tk\n",
    "import matplotlib.pyplot as plt\n",
    "import matplotlib as mpl\n",
    "from tqdm import tqdm\n",
    "import subprocess\n",
    "from scipy.sparse import csr_matrix\n",
    "from IPython.display import display, HTML\n",
    "import bbknn\n",
    "import itertools \n",
    "\n",
    "from bokeh.io import show, output_notebook, reset_output\n",
    "\n",
    "reset_output()\n",
    "output_notebook()"
   ]
  },
  {
   "cell_type": "code",
   "execution_count": null,
   "id": "f15b5b05-2bb7-4630-8f43-bad41a33c4a4",
   "metadata": {
    "tags": []
   },
   "outputs": [],
   "source": [
    "from cellassign import assign_cats\n",
    "\n",
    "help(assign_cats)"
   ]
  },
  {
   "cell_type": "code",
   "execution_count": null,
   "id": "b99a2bb5-5089-436b-807d-56051aeca447",
   "metadata": {
    "tags": []
   },
   "outputs": [],
   "source": [
    "# Palettes for UMAP gene expression\n",
    "\n",
    "magma = [plt.get_cmap('magma')(i) for i in np.linspace(0,1, 80)]\n",
    "magma[0] = (0.88, 0.88, 0.88, 1)\n",
    "magma = mpl.colors.LinearSegmentedColormap.from_list(\"\", magma[:65])\n",
    "\n",
    "seed = 0"
   ]
  },
  {
   "cell_type": "code",
   "execution_count": null,
   "id": "c5797fe0-39d7-470f-bfcb-7c65a668c7eb",
   "metadata": {
    "tags": []
   },
   "outputs": [],
   "source": [
    "mpl.rcParams['figure.dpi'] = 450"
   ]
  },
  {
   "cell_type": "code",
   "execution_count": null,
   "id": "84542b85-edbf-4acf-94f0-51c605094bdb",
   "metadata": {
    "tags": []
   },
   "outputs": [],
   "source": [
    "A_markers = ['6030408B16Rik', 'Smim41', 'Col9a2', 'Dlk1', 'Shisa3',  'Saa1',  'Nipal1']\n",
    "A_markers_extra = ['Kcnk2',  # Not specific enough\n",
    "                   'Adamtsl2',  # Not specific enough\n",
    "                   'Cst6',  # Teno marker\n",
    "                   'Sorcs2',  # Not specific enough\n",
    "                   'Susd5',  # Not specific enough\n",
    "                   'Rgs17',  # Not specific enough\n",
    "                   'Gfra2']  # Marks immune population\n",
    "B_markers = ['Lypd2', 'Wnt6', 'Cldn1', 'Moxd1', 'Mansc4', 'Dleu7', 'Efnb3', 'Stra6', 'Sbspon', 'Ace2', 'Hcn4', 'Cldn22', 'Wnt10a', 'Ocln']  \n",
    "B_markers_extra = ['Itgb4',  # Expressed by immune\n",
    "                   'Ralgps2',  # Expressed by immune\n",
    "                   'Ctxn3',  # Myonuclei\n",
    "                   'Tenm2',  # Krano A\n",
    "                   'Sfrp5',  # Glial \n",
    "                   'Perp',  # Glial + peris\n",
    "                   'Krt19',  # APC\n",
    "                   'Gpm6a',  # Immune\n",
    "                   'Ctxn3',  # Tenocytes\n",
    "                   'Crabp2',  # Pericytes / teno\n",
    "                   'Slc6a13',  # APC\n",
    "                   'Itga7']  # Immune"
   ]
  },
  {
   "cell_type": "code",
   "execution_count": null,
   "id": "4babc72b-223a-4d89-8caf-10dcea96d6de",
   "metadata": {
    "tags": []
   },
   "outputs": [],
   "source": [
    "list_colors = ['#bcbcbc', '#900C3F', '#286e87']"
   ]
  },
  {
   "cell_type": "markdown",
   "id": "municipal-relevance",
   "metadata": {},
   "source": [
    "## Oprescu"
   ]
  },
  {
   "cell_type": "code",
   "execution_count": null,
   "id": "7f859414-61bf-4f3c-9d48-29b6002a60dc",
   "metadata": {
    "tags": []
   },
   "outputs": [],
   "source": [
    "adata_oprescu_d0 = sc.read('data/processed/oprescu_d0.h5')\n",
    "\n",
    "# These are used only for a figure\n",
    "adata_oprescu_d05 = sc.read('data/processed/oprescu_d05.h5')\n",
    "adata_oprescu_d2 = sc.read('data/processed/oprescu_d2.h5')\n",
    "adata_oprescu_d35 = sc.read('data/processed/oprescu_d35.h5')\n",
    "adata_oprescu_d5 = sc.read('data/processed/oprescu_d5.h5')\n",
    "adata_oprescu_d10 = sc.read('data/processed/oprescu_d10.h5')\n",
    "adata_oprescu_d21 = sc.read('data/processed/oprescu_d21.h5')"
   ]
  },
  {
   "cell_type": "code",
   "execution_count": null,
   "id": "8a06de53-d998-43d7-83e4-76970df3a292",
   "metadata": {
    "tags": []
   },
   "outputs": [],
   "source": [
    "adata_oprescu_d0.obs['id'] = adata_oprescu_d0.obs_names\n",
    "assign_cats(adata_oprescu_d0, column_groupby='id', dict_cats={'A': A_markers, 'B': B_markers}, min_score=0.6, \n",
    "            others_name='-', key_added='krano_type')\n",
    "adata_oprescu_d0.uns['krano_type_colors'] = list_colors"
   ]
  },
  {
   "cell_type": "code",
   "execution_count": null,
   "id": "c9295ef1-c38b-40f3-b0c7-19ab8d0fc1dc",
   "metadata": {
    "tags": []
   },
   "outputs": [],
   "source": [
    "sc.pl.umap(adata_oprescu_d0, color=['krano_type', 'cell_type'] , cmap=magma, alpha=0.6)"
   ]
  },
  {
   "cell_type": "code",
   "execution_count": null,
   "id": "1381583d-4a71-454b-bb18-a0c9396b1fe4",
   "metadata": {
    "tags": []
   },
   "outputs": [],
   "source": [
    "sc.pl.umap(adata_oprescu_d0, color=['krano_type', 'cell_type'] , cmap=magma, alpha=0.6)"
   ]
  },
  {
   "cell_type": "code",
   "execution_count": null,
   "id": "873c82a0-6d33-45b5-9289-3cea62b0b764",
   "metadata": {
    "tags": []
   },
   "outputs": [],
   "source": [
    "sc.pl.umap(adata_oprescu_d0, color=['krano_type', 'cell_type'] + [i for i in A_markers if i in adata_oprescu_d0.var_names], \n",
    "           cmap=magma, alpha=0.6)"
   ]
  },
  {
   "cell_type": "code",
   "execution_count": null,
   "id": "6f1fd44e-3a38-40ec-b297-f5047ab9c006",
   "metadata": {
    "tags": []
   },
   "outputs": [],
   "source": [
    "sc.pl.umap(adata_oprescu_d0, color=['krano_type', 'cell_type'] + [i for i in B_markers if i in adata_oprescu_d0.var_names], \n",
    "           cmap=magma, alpha=0.6)"
   ]
  },
  {
   "cell_type": "markdown",
   "id": "16fe7c74-55a8-4452-b462-70e5ed304726",
   "metadata": {},
   "source": [
    "## Subsample of populations"
   ]
  },
  {
   "cell_type": "code",
   "execution_count": null,
   "id": "0b59059e-a0ad-4563-b2e9-7d0152c8d3d3",
   "metadata": {
    "tags": []
   },
   "outputs": [],
   "source": [
    "adata_oprescu_d0_sub = adata_oprescu_d0[adata_oprescu_d0.obs['cell_type'].isin(['FAP Lum+', 'FAP Prg4+', 'Endothelial', 'Perivascular', 'Tenocyte', 'Glial cell', 'Neural cell'])]\n",
    "\n",
    "sc.pp.filter_genes(adata_oprescu_d0_sub, min_counts=1)\n",
    "\n",
    "sc.pp.pca(adata_oprescu_d0_sub, random_state=seed, n_comps=30)\n",
    "sc.pp.neighbors(adata_oprescu_d0_sub, random_state=seed, n_neighbors=int(len(adata_oprescu_d0_sub) ** 0.5 // 4), metric='cosine')\n",
    "tk.tl.triku(adata_oprescu_d0_sub, use_raw=False)\n",
    "\n",
    "sc.tl.umap(adata_oprescu_d0_sub, min_dist=0.7, random_state=seed)\n",
    "sc.tl.leiden(adata_oprescu_d0_sub, resolution=3, random_state=seed)\n",
    "\n",
    "assign_cats(adata_oprescu_d0_sub, column_groupby='id', dict_cats={'A': A_markers, 'B': B_markers}, min_score=0.7, others_name='-', key_added='krano_type')\n",
    "\n",
    "sc.pl.umap(adata_oprescu_d0_sub, color=['leiden', 'n_counts', 'cell_type', 'krano_type'], legend_loc='on data')"
   ]
  },
  {
   "cell_type": "code",
   "execution_count": null,
   "id": "945b7f81-28c4-4a61-838e-1772df3ce5fc",
   "metadata": {
    "tags": []
   },
   "outputs": [],
   "source": [
    "adata_oprescu_d0_sub.write_h5ad('data/processed/oprescu_d0_sub.h5')\n",
    "adata_oprescu_d0.write_h5ad('data/processed/oprescu_d0.h5')"
   ]
  },
  {
   "cell_type": "markdown",
   "id": "f9a59437-4ff8-4fdf-b2ac-d501440c06cf",
   "metadata": {},
   "source": [
    "## Scott"
   ]
  },
  {
   "cell_type": "code",
   "execution_count": null,
   "id": "0339a090-9841-4182-a144-93ff18e17ebb",
   "metadata": {
    "tags": []
   },
   "outputs": [],
   "source": [
    "adata_scott_d0 = sc.read('data/processed/scott_d0.h5')"
   ]
  },
  {
   "cell_type": "code",
   "execution_count": null,
   "id": "6bce3e8f-02c5-4230-9bbf-f3b82e53f76e",
   "metadata": {
    "tags": []
   },
   "outputs": [],
   "source": [
    "adata_scott_d0.obs['id'] = adata_scott_d0.obs_names\n",
    "assign_cats(adata_scott_d0, column_groupby='id', dict_cats={'A': A_markers, 'B': B_markers}, min_score=0.4, \n",
    "            others_name='-', key_added='krano_type')\n",
    "adata_scott_d0.uns['krano_type_colors'] = list_colors"
   ]
  },
  {
   "cell_type": "code",
   "execution_count": null,
   "id": "8e94cf6a-21f4-4275-9709-37296b87bee0",
   "metadata": {
    "tags": []
   },
   "outputs": [],
   "source": [
    "sc.pl.umap(adata_scott_d0, color=['krano_type', 'cell_type'] , cmap=magma, alpha=0.6)"
   ]
  },
  {
   "cell_type": "code",
   "execution_count": null,
   "id": "9b5e4c5a-e5ab-4bf5-a315-688e67e3826e",
   "metadata": {
    "tags": []
   },
   "outputs": [],
   "source": [
    "sc.pl.umap(adata_scott_d0, color=['krano_type', 'cell_type'] + [i for i in A_markers if i in adata_scott_d0.var_names], \n",
    "           cmap=magma, alpha=0.6)"
   ]
  },
  {
   "cell_type": "code",
   "execution_count": null,
   "id": "c63ac644-8b48-4a04-8bd1-ad0ed466f569",
   "metadata": {
    "tags": []
   },
   "outputs": [],
   "source": [
    "sc.pl.umap(adata_scott_d0, color=['krano_type', 'cell_type'] + [i for i in B_markers if i in adata_scott_d0.var_names], \n",
    "           cmap=magma, alpha=0.6)"
   ]
  },
  {
   "cell_type": "markdown",
   "id": "8ca27968-2f33-447e-8597-1316ae7df785",
   "metadata": {},
   "source": [
    "## Subsample of populations"
   ]
  },
  {
   "cell_type": "code",
   "execution_count": null,
   "id": "7e3c70cd-de96-4cfa-815c-d56d71d3920f",
   "metadata": {
    "tags": []
   },
   "outputs": [],
   "source": [
    "adata_scott_d0_sub = adata_scott_d0[adata_scott_d0.obs['cell_type'].isin(['FAP Lum+', 'FAP Prg4+', 'Endothelial', 'Perivascular', 'Tenocyte', 'Neural cell', 'Glial cell'])]\n",
    "\n",
    "sc.pp.filter_genes(adata_scott_d0_sub, min_counts=1)\n",
    "\n",
    "sc.pp.pca(adata_scott_d0_sub, random_state=seed, n_comps=30)\n",
    "sc.pp.neighbors(adata_scott_d0_sub, random_state=seed, n_neighbors=int(len(adata_scott_d0_sub) ** 0.5 // 4), metric='cosine')\n",
    "tk.tl.triku(adata_scott_d0_sub, use_raw=False)\n",
    "\n",
    "sc.tl.umap(adata_scott_d0_sub, min_dist=0.5, random_state=seed)\n",
    "sc.tl.leiden(adata_scott_d0_sub, resolution=3.5, random_state=seed)\n",
    "\n",
    "assign_cats(adata_scott_d0_sub, column_groupby='id', dict_cats={'A': A_markers, 'B': B_markers}, min_score=0.4, others_name='-', key_added='krano_type')\n",
    "\n",
    "sc.pl.umap(adata_scott_d0_sub, color=['leiden', 'n_counts', 'cell_type', 'krano_type'], legend_loc='on data')"
   ]
  },
  {
   "cell_type": "code",
   "execution_count": null,
   "id": "dbceb3c3-3033-4284-a2c0-61aabf468809",
   "metadata": {
    "tags": []
   },
   "outputs": [],
   "source": [
    "adata_scott_d0_sub.write_h5ad('data/processed/scott_d0_sub.h5')\n",
    "adata_scott_d0.write_h5ad('data/processed/scott_d0.h5')"
   ]
  },
  {
   "cell_type": "markdown",
   "id": "b4f82488-3016-49b0-9d2f-054420822444",
   "metadata": {},
   "source": [
    "## De Micheli mouse"
   ]
  },
  {
   "cell_type": "code",
   "execution_count": null,
   "id": "eb5fb647-3c60-4d86-9a31-853864e46023",
   "metadata": {
    "tags": []
   },
   "outputs": [],
   "source": [
    "adata_de_micheli_mouse_d0 = sc.read('data/processed/de_micheli_mouse_d0.h5')"
   ]
  },
  {
   "cell_type": "code",
   "execution_count": null,
   "id": "747165ee-f46a-4612-9311-dd3e1fd78491",
   "metadata": {
    "tags": []
   },
   "outputs": [],
   "source": [
    "adata_de_micheli_mouse_d0.obs['id'] = adata_de_micheli_mouse_d0.obs_names\n",
    "assign_cats(adata_de_micheli_mouse_d0, column_groupby='id', dict_cats={'A': A_markers, 'B': B_markers}, min_score=0.55, \n",
    "            others_name='-', key_added='krano_type')\n",
    "adata_de_micheli_mouse_d0.uns['krano_type_colors'] = list_colors"
   ]
  },
  {
   "cell_type": "code",
   "execution_count": null,
   "id": "b5679e1e-5f2a-4600-a759-7fa29c4efa73",
   "metadata": {
    "tags": []
   },
   "outputs": [],
   "source": [
    "sc.pl.umap(adata_de_micheli_mouse_d0, color=['krano_type', 'cell_type'] , cmap=magma, alpha=0.6)"
   ]
  },
  {
   "cell_type": "code",
   "execution_count": null,
   "id": "5f42c0f4-52e9-4f8c-bd5a-fae8f7719a8a",
   "metadata": {
    "tags": []
   },
   "outputs": [],
   "source": [
    "sc.pl.umap(adata_de_micheli_mouse_d0, color=['krano_type', 'cell_type'] + [i for i in A_markers if i in adata_de_micheli_mouse_d0.var_names], \n",
    "           cmap=magma, alpha=0.6)"
   ]
  },
  {
   "cell_type": "code",
   "execution_count": null,
   "id": "386679df-125e-4611-ba4a-050654f97ddc",
   "metadata": {
    "tags": []
   },
   "outputs": [],
   "source": [
    "sc.pl.umap(adata_de_micheli_mouse_d0, color=['krano_type', 'cell_type'] + [i for i in B_markers if i in adata_de_micheli_mouse_d0.var_names], \n",
    "           cmap=magma, alpha=0.6)"
   ]
  },
  {
   "cell_type": "markdown",
   "id": "cc7e5a5d-1b79-4972-9f96-4b4800b1874a",
   "metadata": {},
   "source": [
    "## Subsample of populations"
   ]
  },
  {
   "cell_type": "code",
   "execution_count": null,
   "id": "1cc20ffb-9c2d-4a46-bfb3-ce8b3ffc281e",
   "metadata": {
    "tags": []
   },
   "outputs": [],
   "source": [
    "adata_de_micheli_mouse_d0_sub = adata_de_micheli_mouse_d0[adata_de_micheli_mouse_d0.obs['cell_type'].isin(['FAP Lum+', 'FAP Prg4+', 'Endothelial', 'Perivascular', 'Tenocyte', 'Neural cell', 'Glial cell'])]\n",
    "\n",
    "sc.pp.filter_genes(adata_de_micheli_mouse_d0_sub, min_counts=1)\n",
    "\n",
    "sc.pp.pca(adata_de_micheli_mouse_d0_sub, random_state=seed)\n",
    "bbknn.bbknn(adata_de_micheli_mouse_d0_sub, metric='angular', neighbors_within_batch=3)\n",
    "tk.tl.triku(adata_de_micheli_mouse_d0_sub, use_raw=False)\n",
    "\n",
    "sc.tl.umap(adata_de_micheli_mouse_d0_sub, min_dist=0.7, random_state=seed)\n",
    "sc.tl.leiden(adata_de_micheli_mouse_d0_sub, resolution=3.5, random_state=seed)\n",
    "\n",
    "assign_cats(adata_de_micheli_mouse_d0_sub, column_groupby='id', dict_cats={'A': A_markers, 'B': B_markers}, min_score=0.5, others_name='-', key_added='krano_type')\n",
    "\n",
    "sc.pl.umap(adata_de_micheli_mouse_d0_sub, color=['leiden', 'cell_type', 'krano_type'], legend_loc='on data')"
   ]
  },
  {
   "cell_type": "code",
   "execution_count": null,
   "id": "c2d45797-3443-4625-b914-cad83000fef9",
   "metadata": {
    "tags": []
   },
   "outputs": [],
   "source": [
    "adata_de_micheli_mouse_d0_sub.write_h5ad('data/processed/de_micheli_mouse_d0_sub.h5')\n",
    "adata_de_micheli_mouse_d0.write_h5ad('data/processed/de_micheli_mouse_d0.h5')"
   ]
  },
  {
   "cell_type": "markdown",
   "id": "0f632f4c-112c-4fcc-80eb-97344ca3b04e",
   "metadata": {},
   "source": [
    "## Giordani"
   ]
  },
  {
   "cell_type": "code",
   "execution_count": null,
   "id": "ee90093a-17a7-44de-a8f1-27a32ce549c1",
   "metadata": {
    "tags": []
   },
   "outputs": [],
   "source": [
    "adata_giordani = sc.read('data/processed/giordani.h5')"
   ]
  },
  {
   "cell_type": "code",
   "execution_count": null,
   "id": "7cf1fa01-f856-459c-b39f-2977526a96cf",
   "metadata": {
    "tags": []
   },
   "outputs": [],
   "source": [
    "adata_giordani.obs['id'] = adata_giordani.obs_names\n",
    "assign_cats(adata_giordani, column_groupby='id', \n",
    "            dict_cats={'A': A_markers, 'B': B_markers}, min_score=0.35, \n",
    "            others_name='-', key_added='krano_type')\n",
    "adata_giordani.uns['krano_type_colors'] = list_colors"
   ]
  },
  {
   "cell_type": "code",
   "execution_count": null,
   "id": "d24b9e9d-4b65-42e4-851f-6933498b0feb",
   "metadata": {
    "tags": []
   },
   "outputs": [],
   "source": [
    "sc.pl.umap(adata_giordani, color=['krano_type', 'cell_type'] , cmap=magma, alpha=0.6)"
   ]
  },
  {
   "cell_type": "code",
   "execution_count": null,
   "id": "b681ad52-d403-44f0-b385-df04a69ac410",
   "metadata": {
    "tags": []
   },
   "outputs": [],
   "source": [
    "sc.pl.umap(adata_giordani, color=['krano_type', 'cell_type'] + [i for i in A_markers if i in adata_giordani.var_names], \n",
    "           cmap=magma, alpha=0.6)"
   ]
  },
  {
   "cell_type": "code",
   "execution_count": null,
   "id": "c6b3ca1c-2eb4-4a43-b35a-a188c1a0cd11",
   "metadata": {
    "tags": []
   },
   "outputs": [],
   "source": [
    "sc.pl.umap(adata_giordani, color=['krano_type', 'cell_type'] + [i for i in B_markers if i in adata_giordani.var_names], \n",
    "           cmap=magma, alpha=0.6)"
   ]
  },
  {
   "cell_type": "markdown",
   "id": "d514f33e-a3fb-463d-a949-f0eaff1425e3",
   "metadata": {},
   "source": [
    "## Subsample of populations"
   ]
  },
  {
   "cell_type": "code",
   "execution_count": null,
   "id": "6e95ad30-c6d3-4ee9-bada-4d47f780cc40",
   "metadata": {
    "tags": []
   },
   "outputs": [],
   "source": [
    "adata_giordani_sub = adata_giordani[adata_giordani.obs['cell_type'].isin(['FAP Lum+', 'FAP Prg4+', 'Endothelial', 'Perivascular', 'Tenocyte', 'Neural cell', 'Glial cell'])]\n",
    "\n",
    "sc.pp.filter_genes(adata_giordani_sub, min_counts=1)\n",
    "\n",
    "sc.pp.pca(adata_giordani_sub, random_state=seed)\n",
    "bbknn.bbknn(adata_giordani_sub, metric='angular', neighbors_within_batch=3)\n",
    "tk.tl.triku(adata_giordani_sub, use_raw=False)\n",
    "\n",
    "sc.tl.umap(adata_giordani_sub, min_dist=0.5, random_state=seed)\n",
    "sc.tl.leiden(adata_giordani_sub, resolution=3.5, random_state=seed)\n",
    "\n",
    "assign_cats(adata_giordani_sub, column_groupby='id', \n",
    "            dict_cats={'A': A_markers, 'B': B_markers}, min_score=0.35, \n",
    "            others_name='-', key_added='krano_type')\n",
    "\n",
    "sc.pl.umap(adata_giordani_sub, color=['leiden', 'cell_type', 'krano_type'], legend_loc='on data')"
   ]
  },
  {
   "cell_type": "code",
   "execution_count": null,
   "id": "86fd69c4-4bd6-4977-808a-279c837bcefd",
   "metadata": {
    "tags": []
   },
   "outputs": [],
   "source": [
    "adata_giordani_sub.write_h5ad('data/processed/giordani_sub.h5')\n",
    "adata_giordani.write_h5ad('data/processed/giordani.h5')"
   ]
  },
  {
   "cell_type": "markdown",
   "id": "ed92e728-04c0-4d09-b5d2-14cf29b9349b",
   "metadata": {},
   "source": [
    "## Proietti"
   ]
  },
  {
   "cell_type": "code",
   "execution_count": null,
   "id": "c3f52a3a-785f-4412-8bce-daa5e1dd017d",
   "metadata": {
    "tags": []
   },
   "outputs": [],
   "source": [
    "adata_proietti = sc.read('data/processed/proietti.h5')"
   ]
  },
  {
   "cell_type": "code",
   "execution_count": null,
   "id": "8ed62b42-569c-4473-b661-76ccafa0265a",
   "metadata": {
    "tags": []
   },
   "outputs": [],
   "source": [
    "adata_proietti.obs['id'] = adata_proietti.obs_names\n",
    "assign_cats(adata_proietti, column_groupby='id', dict_cats={'A': A_markers, 'B': B_markers}, min_score=0.4, \n",
    "            others_name='-', key_added='krano_type')\n",
    "adata_proietti.uns['krano_type_colors'] = list_colors"
   ]
  },
  {
   "cell_type": "code",
   "execution_count": null,
   "id": "70b04f2f-b8e9-4fe9-abf3-96848776965e",
   "metadata": {
    "tags": []
   },
   "outputs": [],
   "source": [
    "sc.pl.umap(adata_proietti, color=['krano_type', 'cell_type'] , cmap=magma, alpha=0.6)"
   ]
  },
  {
   "cell_type": "code",
   "execution_count": null,
   "id": "61bd6ef5-7ca2-491b-83bd-02736a86881d",
   "metadata": {
    "tags": []
   },
   "outputs": [],
   "source": [
    "sc.pl.umap(adata_proietti, color=['krano_type', 'cell_type'] + [i for i in A_markers if i in adata_proietti.var_names], \n",
    "           cmap=magma, alpha=0.6)"
   ]
  },
  {
   "cell_type": "code",
   "execution_count": null,
   "id": "8d7dfc58-f499-47d2-a669-21c1b14c853c",
   "metadata": {
    "tags": []
   },
   "outputs": [],
   "source": [
    "sc.pl.umap(adata_proietti, color=['krano_type', 'cell_type'] + [i for i in B_markers if i in adata_proietti.var_names], \n",
    "           cmap=magma, alpha=0.6)"
   ]
  },
  {
   "cell_type": "markdown",
   "id": "587629ba-e8fb-4b04-9447-81c697fe0e53",
   "metadata": {},
   "source": [
    "## Subsample of populations"
   ]
  },
  {
   "cell_type": "code",
   "execution_count": null,
   "id": "c05fff4b-0f31-48c0-922f-6748f61d9ab9",
   "metadata": {
    "tags": []
   },
   "outputs": [],
   "source": [
    "adata_proietti_sub = adata_proietti[adata_proietti.obs['cell_type'].isin(['FAP Lum+', 'FAP Prg4+', 'Endothelial', 'Perivascular', 'Tenocyte', 'Neural cell', 'Glial cell'])]\n",
    "\n",
    "sc.pp.filter_genes(adata_proietti_sub, min_counts=1)\n",
    "\n",
    "sc.pp.pca(adata_proietti_sub, random_state=seed)\n",
    "bbknn.bbknn(adata_proietti_sub, metric='angular', neighbors_within_batch=3, batch_key='condition')\n",
    "tk.tl.triku(adata_proietti_sub, use_raw=False)\n",
    "\n",
    "sc.tl.umap(adata_proietti_sub, min_dist=0.5, random_state=seed)\n",
    "sc.tl.leiden(adata_proietti_sub, resolution=3.5, random_state=seed)\n",
    "\n",
    "assign_cats(adata_proietti_sub, column_groupby='id', dict_cats={'A': A_markers, 'B': B_markers}, min_score=0.45, others_name='-', key_added='krano_type')\n",
    "\n",
    "sc.pl.umap(adata_proietti_sub, color=['leiden', 'cell_type', 'krano_type'], legend_loc='on data')"
   ]
  },
  {
   "cell_type": "code",
   "execution_count": null,
   "id": "8889c190-b775-4536-9506-1620fdb99bd3",
   "metadata": {
    "tags": []
   },
   "outputs": [],
   "source": [
    "adata_proietti_sub.write_h5ad('data/processed/proietti_sub.h5')\n",
    "adata_proietti.write_h5ad('data/processed/proietti.h5')"
   ]
  },
  {
   "cell_type": "markdown",
   "id": "53df842b-5550-4d7c-bc47-fced27520d36",
   "metadata": {},
   "source": [
    "## Ronzoni"
   ]
  },
  {
   "cell_type": "code",
   "execution_count": null,
   "id": "9f88fdef-805f-45fb-b041-50c1fb747735",
   "metadata": {
    "tags": []
   },
   "outputs": [],
   "source": [
    "adata_ronzoni = sc.read('data/processed/ronzoni.h5')"
   ]
  },
  {
   "cell_type": "code",
   "execution_count": null,
   "id": "4ffeb815-06a7-42d5-b92f-f92b1f1999ab",
   "metadata": {
    "tags": []
   },
   "outputs": [],
   "source": [
    "adata_ronzoni.obs['id'] = adata_ronzoni.obs_names\n",
    "assign_cats(adata_ronzoni, column_groupby='id', dict_cats={'A': A_markers, 'B': B_markers}, min_score=0.3, \n",
    "            others_name='-', key_added='krano_type')\n",
    "adata_ronzoni.uns['krano_type_colors'] = list_colors"
   ]
  },
  {
   "cell_type": "code",
   "execution_count": null,
   "id": "f084babf-c820-4b14-84b1-863beb180e39",
   "metadata": {
    "tags": []
   },
   "outputs": [],
   "source": [
    "sc.pl.umap(adata_ronzoni, color=['krano_type', 'cell_type'] , cmap=magma, alpha=0.6)"
   ]
  },
  {
   "cell_type": "code",
   "execution_count": null,
   "id": "9308dc04-f48b-43f3-8c0e-d5572df07303",
   "metadata": {
    "tags": []
   },
   "outputs": [],
   "source": [
    "sc.pl.umap(adata_ronzoni, color=['krano_type', 'cell_type'] + [i for i in A_markers if i in adata_ronzoni.var_names], \n",
    "           cmap=magma, alpha=0.6)"
   ]
  },
  {
   "cell_type": "code",
   "execution_count": null,
   "id": "bc98bce9-81d6-427c-917b-b93b9d8cc0d3",
   "metadata": {
    "tags": []
   },
   "outputs": [],
   "source": [
    "sc.pl.umap(adata_ronzoni, color=['krano_type', 'cell_type'] + [i for i in B_markers if i in adata_ronzoni.var_names], \n",
    "           cmap=magma, alpha=0.6)"
   ]
  },
  {
   "cell_type": "markdown",
   "id": "c68bbf61-f888-4413-a076-a5b8a1a712b4",
   "metadata": {},
   "source": [
    "## Subsample of populations"
   ]
  },
  {
   "cell_type": "code",
   "execution_count": null,
   "id": "9fa2b5fd-f058-4d0d-a408-26ea9a7cd60a",
   "metadata": {
    "tags": []
   },
   "outputs": [],
   "source": [
    "adata_ronzoni_sub = adata_ronzoni[adata_ronzoni.obs['cell_type'].isin(['FAP Lum+', 'FAP Prg4+', 'Endothelial', 'Perivascular', 'Tenocyte', 'Neural cell', 'Glial cell'])]\n",
    "\n",
    "sc.pp.filter_genes(adata_ronzoni_sub, min_counts=1)\n",
    "\n",
    "sc.pp.pca(adata_ronzoni_sub, random_state=seed, n_comps=30)\n",
    "sc.pp.neighbors(adata_ronzoni_sub, random_state=seed, n_neighbors=int(len(adata_ronzoni_sub) ** 0.5 // 4), metric='cosine')\n",
    "tk.tl.triku(adata_ronzoni_sub, use_raw=False)\n",
    "\n",
    "sc.tl.umap(adata_ronzoni_sub, min_dist=0.5, random_state=seed)\n",
    "sc.tl.leiden(adata_ronzoni_sub, resolution=3.5, random_state=seed)\n",
    "\n",
    "assign_cats(adata_ronzoni_sub, column_groupby='id', \n",
    "            dict_cats={'A': A_markers, 'B': B_markers}, \n",
    "            min_score=0.25, others_name='-', key_added='krano_type')\n",
    "\n",
    "sc.pl.umap(adata_ronzoni_sub, color=['leiden', 'cell_type', 'krano_type'], legend_loc='on data')"
   ]
  },
  {
   "cell_type": "code",
   "execution_count": null,
   "id": "e48ea002-4ee6-4f13-a9a1-23c10eca7817",
   "metadata": {
    "tags": []
   },
   "outputs": [],
   "source": [
    "adata_ronzoni_sub.write_h5ad('data/processed/ronzoni_sub.h5')\n",
    "adata_ronzoni.write_h5ad('data/processed/ronzoni.h5')"
   ]
  },
  {
   "cell_type": "markdown",
   "id": "e2391f6b-9920-49d7-9c5b-a606e59449ae",
   "metadata": {},
   "source": [
    "## Dell'Orso"
   ]
  },
  {
   "cell_type": "code",
   "execution_count": null,
   "id": "a5e36746-737c-4e5e-abcb-52b157163ad2",
   "metadata": {
    "tags": []
   },
   "outputs": [],
   "source": [
    "adata_dellorso = sc.read('data/processed/dellorso.h5')"
   ]
  },
  {
   "cell_type": "code",
   "execution_count": null,
   "id": "e869158d-0f4b-4a16-92f8-e6efec069efe",
   "metadata": {
    "tags": []
   },
   "outputs": [],
   "source": [
    "adata_dellorso.obs['id'] = adata_dellorso.obs_names\n",
    "assign_cats(adata_dellorso, column_groupby='id', dict_cats={'A': A_markers, 'B': B_markers}, min_score=0.4, \n",
    "            others_name='-', key_added='krano_type')\n",
    "adata_dellorso.uns['krano_type_colors'] = list_colors"
   ]
  },
  {
   "cell_type": "code",
   "execution_count": null,
   "id": "820e8529-33ce-452b-b7d8-adf2dc59db3f",
   "metadata": {
    "tags": []
   },
   "outputs": [],
   "source": [
    "sc.pl.umap(adata_dellorso, color=['krano_type', 'cell_type'] , cmap=magma, alpha=0.6)"
   ]
  },
  {
   "cell_type": "code",
   "execution_count": null,
   "id": "b4bbdf95-f91e-476c-8541-5537fbdfdd1e",
   "metadata": {
    "tags": []
   },
   "outputs": [],
   "source": [
    "sc.pl.umap(adata_dellorso, color=['krano_type', 'cell_type'] + [i for i in A_markers if i in adata_dellorso.var_names], \n",
    "           cmap=magma, alpha=0.6)"
   ]
  },
  {
   "cell_type": "code",
   "execution_count": null,
   "id": "ed3cc3f2-dbfa-454b-bfc8-1b227824c2da",
   "metadata": {
    "tags": []
   },
   "outputs": [],
   "source": [
    "sc.pl.umap(adata_dellorso, color=['krano_type', 'cell_type'] + [i for i in B_markers if i in adata_dellorso.var_names], \n",
    "           cmap=magma, alpha=0.6)"
   ]
  },
  {
   "cell_type": "markdown",
   "id": "b69355b2-3543-4a9d-bd01-07fe2eb5c878",
   "metadata": {},
   "source": [
    "## Subsample of populations"
   ]
  },
  {
   "cell_type": "code",
   "execution_count": null,
   "id": "55a5c8c2-de67-4f59-a92c-ab40f2ea2b7e",
   "metadata": {
    "tags": []
   },
   "outputs": [],
   "source": [
    "adata_dellorso_sub = adata_dellorso[adata_dellorso.obs['cell_type'].isin(['FAP Lum+', 'FAP Prg4+', 'Epcam+', 'Endothelial', 'Perivascular', 'Tenocyte', 'Neural cell', 'Glial cell'])]\n",
    "\n",
    "sc.pp.filter_genes(adata_dellorso_sub, min_counts=1)\n",
    "\n",
    "sc.pp.pca(adata_dellorso_sub, random_state=seed)\n",
    "bbknn.bbknn(adata_dellorso_sub, metric='angular', neighbors_within_batch=3)\n",
    "tk.tl.triku(adata_dellorso_sub, use_raw=False)\n",
    "\n",
    "sc.tl.umap(adata_dellorso_sub, min_dist=0.8, random_state=seed)\n",
    "sc.tl.leiden(adata_dellorso_sub, resolution=3.5, random_state=seed)\n",
    "\n",
    "assign_cats(adata_dellorso_sub, column_groupby='id', dict_cats={'A': A_markers, 'B': B_markers}, min_score=0.2, others_name='-', key_added='krano_type')\n",
    "\n",
    "sc.pl.umap(adata_dellorso_sub, color=['leiden', 'cell_type', 'krano_type'], legend_loc='on data')"
   ]
  },
  {
   "cell_type": "code",
   "execution_count": null,
   "id": "81101d9e-43f6-4b80-8c6d-59f186faa9f2",
   "metadata": {
    "tags": []
   },
   "outputs": [],
   "source": [
    "adata_dellorso_sub.write_h5ad('data/processed/dellorso_sub.h5')\n",
    "adata_dellorso.write_h5ad('data/processed/dellorso.h5')"
   ]
  },
  {
   "cell_type": "markdown",
   "id": "2be835a7-a4f6-4230-83d8-b649a999a32c",
   "metadata": {},
   "source": [
    "## Leinroth"
   ]
  },
  {
   "cell_type": "code",
   "execution_count": null,
   "id": "a5a6bd6a-c0f4-401b-863d-4e6eaf77e9d3",
   "metadata": {
    "tags": []
   },
   "outputs": [],
   "source": [
    "adata_leinroth = sc.read('data/processed/leinroth.h5')"
   ]
  },
  {
   "cell_type": "code",
   "execution_count": null,
   "id": "1f6f96a1-a25a-46f3-999d-7756eae55c31",
   "metadata": {
    "tags": []
   },
   "outputs": [],
   "source": [
    "adata_leinroth.obs['id'] = adata_leinroth.obs_names\n",
    "assign_cats(adata_leinroth, column_groupby='id', \n",
    "            dict_cats={'A': A_markers, 'B': B_markers}, min_score=0.35, \n",
    "            others_name='-', key_added='krano_type')\n",
    "adata_leinroth.uns['krano_type_colors'] = list_colors"
   ]
  },
  {
   "cell_type": "code",
   "execution_count": null,
   "id": "6eda8368-245a-4b98-aa89-7daaecfd3653",
   "metadata": {
    "tags": []
   },
   "outputs": [],
   "source": [
    "sc.pl.umap(adata_leinroth, color=['krano_type', 'cell_type'] , cmap=magma, alpha=0.6)"
   ]
  },
  {
   "cell_type": "code",
   "execution_count": null,
   "id": "d99091de-56c3-42b5-97ac-8a5f046cb3d5",
   "metadata": {
    "tags": []
   },
   "outputs": [],
   "source": [
    "sc.pl.umap(adata_leinroth, color=['krano_type', 'cell_type'] + [i for i in A_markers if i in adata_leinroth.var_names], \n",
    "           cmap=magma, alpha=0.6)"
   ]
  },
  {
   "cell_type": "code",
   "execution_count": null,
   "id": "bd0a7a01-5501-42f7-9c33-e6431a75d386",
   "metadata": {
    "tags": []
   },
   "outputs": [],
   "source": [
    "sc.pl.umap(adata_leinroth, color=['krano_type', 'cell_type'] + [i for i in B_markers if i in adata_leinroth.var_names], \n",
    "           cmap=magma, alpha=0.6)"
   ]
  },
  {
   "cell_type": "markdown",
   "id": "a9e1aadb-a514-410c-a66e-b422e79974da",
   "metadata": {},
   "source": [
    "## Subsample of populations"
   ]
  },
  {
   "cell_type": "code",
   "execution_count": null,
   "id": "1f1aeba5-d7a8-416f-8efd-805401b8ae31",
   "metadata": {
    "tags": []
   },
   "outputs": [],
   "source": [
    "adata_leinroth_sub = adata_leinroth[adata_leinroth.obs['cell_type'].isin(['FAP Lum+', 'FAP Prg4+', 'Endothelial', 'Perivascular', 'Tenocyte', 'Neural cell', 'Glial cell'])]\n",
    "\n",
    "sc.pp.filter_genes(adata_leinroth_sub, min_counts=1)\n",
    "\n",
    "sc.pp.pca(adata_leinroth_sub, random_state=seed)\n",
    "sc.pp.neighbors(adata_leinroth_sub, metric='cosine')\n",
    "tk.tl.triku(adata_leinroth_sub, use_raw=False)\n",
    "\n",
    "sc.tl.umap(adata_leinroth_sub, min_dist=0.5, random_state=seed)\n",
    "sc.tl.leiden(adata_leinroth_sub, resolution=3.5, random_state=seed)\n",
    "\n",
    "assign_cats(adata_leinroth_sub, column_groupby='id', \n",
    "            dict_cats={'A': A_markers, 'B': B_markers}, min_score=0.35, \n",
    "            others_name='-', key_added='krano_type')\n",
    "\n",
    "sc.pl.umap(adata_leinroth_sub, color=['leiden', 'cell_type', 'krano_type'], legend_loc='on data')"
   ]
  },
  {
   "cell_type": "code",
   "execution_count": null,
   "id": "788f9dda-a8bd-467a-90ee-172ac75e814a",
   "metadata": {
    "tags": []
   },
   "outputs": [],
   "source": [
    "# Check that krano A is the same population as Leinroth's clusters 8 and 9\n",
    "fig, axs = plt.subplots(1, 3, figsize=(9, 3))\n",
    "sc.pl.umap(adata_leinroth_sub, color=['krano_type'], \n",
    "           cmap=magma, alpha=0.6, use_raw=False, show=False, ax=axs[0])\n",
    "sc.pl.umap(adata_leinroth_sub, color=['Gfra1'], \n",
    "           cmap=magma, alpha=0.6, use_raw=False, show=False, ax=axs[1])\n",
    "sc.pl.umap(adata_leinroth_sub, color=['Hsd11b1'], \n",
    "           cmap=magma, alpha=0.6, use_raw=False, show=False, ax=axs[2])\n",
    "plt.tight_layout()\n",
    "plt.savefig('figures/fig_check_cluster_8.png', dpi=300)"
   ]
  },
  {
   "cell_type": "code",
   "execution_count": null,
   "id": "c2bf84b1-8162-47b2-8a0e-616f7187b452",
   "metadata": {
    "tags": []
   },
   "outputs": [],
   "source": [
    "adata_leinroth_sub.write_h5ad('data/processed/leinroth_sub.h5')\n",
    "adata_leinroth.write_h5ad('data/processed/leinroth.h5')"
   ]
  },
  {
   "cell_type": "markdown",
   "id": "buried-opposition",
   "metadata": {},
   "source": [
    "# Running datasets against markers"
   ]
  },
  {
   "cell_type": "markdown",
   "id": "minus-jersey",
   "metadata": {},
   "source": [
    "## Kumar et al 2017 PC1 and PC2"
   ]
  },
  {
   "cell_type": "code",
   "execution_count": null,
   "id": "floral-understanding",
   "metadata": {
    "tags": []
   },
   "outputs": [],
   "source": [
    "list_genes = ['krano_type'] + ['Rgs5', 'Acta2', 'Cxcl1', 'Cxcl2', 'Cxcl5', 'Il6', 'Il1b']\n",
    "\n",
    "fig, axs = plt.subplots(len(list_genes), 3, figsize=(18, 4 * len(list_genes)))\n",
    "\n",
    "for idx, gene in enumerate(list_genes):\n",
    "    try:\n",
    "        sc.pl.umap(adata_de_micheli_mouse_d0, color=gene, cmap=magma, ax=axs[idx][0], show=False, legend_loc='on data')\n",
    "        sc.pl.umap(adata_oprescu_d0, color=gene, cmap=magma, ax=axs[idx][1], show=False, legend_loc='on data')\n",
    "        sc.pl.umap(adata_scott_d0, color=gene, cmap=magma, ax=axs[idx][2], show=False, legend_loc='on data')\n",
    "    except:\n",
    "        pass"
   ]
  },
  {
   "cell_type": "markdown",
   "id": "alone-blend",
   "metadata": {},
   "source": [
    "## Kumar et al 2017 Capillary proinflammatory/capillary and contractile/arteriolar PCs"
   ]
  },
  {
   "cell_type": "code",
   "execution_count": null,
   "id": "headed-month",
   "metadata": {
    "tags": []
   },
   "outputs": [],
   "source": [
    "list_genes = ['krano_type'] + ['Cd274', 'Dlk1', 'Nt5e'] # Cd73 = Nt5e\n",
    "\n",
    "fig, axs = plt.subplots(len(list_genes), 3, figsize=(18, 4 * len(list_genes)))\n",
    "\n",
    "for idx, gene in enumerate(list_genes):\n",
    "    try:\n",
    "        sc.pl.umap(adata_de_micheli_mouse_d0, color=gene, cmap=magma, ax=axs[idx][0], show=False, legend_loc='on data')\n",
    "        sc.pl.umap(adata_oprescu_d0, color=gene, cmap=magma, ax=axs[idx][1], show=False, legend_loc='on data')\n",
    "        sc.pl.umap(adata_scott_d0, color=gene, cmap=magma, ax=axs[idx][2], show=False, legend_loc='on data')\n",
    "    except:\n",
    "        pass"
   ]
  },
  {
   "cell_type": "markdown",
   "id": "million-luxury",
   "metadata": {},
   "source": [
    "## Birbrair PCs"
   ]
  },
  {
   "cell_type": "code",
   "execution_count": null,
   "id": "visible-separate",
   "metadata": {
    "tags": []
   },
   "outputs": [],
   "source": [
    "list_genes = ['krano_type'] + ['Pdgfrb', 'Mcam', 'Cspg4', 'Nes'] # Cd146 = Mcam, Ng2 = Cspg4\n",
    "\n",
    "fig, axs = plt.subplots(len(list_genes), 3, figsize=(18, 4 * len(list_genes)))\n",
    "\n",
    "for idx, gene in enumerate(list_genes):\n",
    "    try:\n",
    "        sc.pl.umap(adata_de_micheli_mouse_d0, color=gene, cmap=magma, ax=axs[idx][0], show=False, legend_loc='on data')\n",
    "        sc.pl.umap(adata_oprescu_d0, color=gene, cmap=magma, ax=axs[idx][1], show=False, legend_loc='on data')\n",
    "        sc.pl.umap(adata_scott_d0, color=gene, cmap=magma, ax=axs[idx][2], show=False, legend_loc='on data')\n",
    "    except:\n",
    "        pass"
   ]
  },
  {
   "cell_type": "markdown",
   "id": "filled-doctrine",
   "metadata": {},
   "source": [
    "## Camps ISC\n",
    "\n",
    "* ISC1: Ly6c1, Cd55\n",
    "* ISC2: Gdf10, Meox2, F3/Cd142\n",
    "* ISC3: Thbs4, Fbln7, Sdc1"
   ]
  },
  {
   "cell_type": "code",
   "execution_count": null,
   "id": "noticed-scientist",
   "metadata": {
    "tags": []
   },
   "outputs": [],
   "source": [
    "list_genes = ['krano_type'] + ['Cd55', 'F3', 'Sdc1']\n",
    "\n",
    "fig, axs = plt.subplots(len(list_genes), 3, figsize=(18, 4 * len(list_genes)))\n",
    "\n",
    "for idx, gene in enumerate(list_genes):\n",
    "    try:\n",
    "        sc.pl.umap(adata_de_micheli_mouse_d0, color=gene, cmap=magma, ax=axs[idx][0], show=False, legend_loc='on data')\n",
    "        sc.pl.umap(adata_oprescu_d0, color=gene, cmap=magma, ax=axs[idx][1], show=False, legend_loc='on data')\n",
    "        sc.pl.umap(adata_scott_d0, color=gene, cmap=magma, ax=axs[idx][2], show=False, legend_loc='on data')\n",
    "    except:\n",
    "        pass"
   ]
  },
  {
   "cell_type": "markdown",
   "id": "acting-transcription",
   "metadata": {},
   "source": [
    "# Beautiful figs"
   ]
  },
  {
   "cell_type": "code",
   "execution_count": null,
   "id": "derived-turkey",
   "metadata": {
    "tags": []
   },
   "outputs": [],
   "source": [
    "fig_dir = 'figures/'\n",
    "if not os.path.exists(fig_dir + 'clusters/'): os.makedirs(fig_dir + 'clusters/')"
   ]
  },
  {
   "cell_type": "code",
   "execution_count": null,
   "id": "searching-thanksgiving",
   "metadata": {
    "tags": []
   },
   "outputs": [],
   "source": [
    "# MPL config\n",
    "font = {'family' : 'normal',\n",
    "        'weight' : 'light',\n",
    "        'size'   : 15}\n",
    "\n",
    "# mpl.rc('font', **font)"
   ]
  },
  {
   "cell_type": "code",
   "execution_count": null,
   "id": "listed-antigua",
   "metadata": {
    "tags": []
   },
   "outputs": [],
   "source": [
    "def makefig(list_genes, name_order=None, adata_list=[], \n",
    "           list_datasets = []):\n",
    "    n_cols = len(adata_list)\n",
    "    fig, axs = plt.subplots(len(list_genes), n_cols, figsize=(6 * n_cols, 4 * len(list_genes)))\n",
    "    \n",
    "        \n",
    "    for idx, gene in enumerate(list_genes):\n",
    "        try:\n",
    "            if len(list_genes) == 1:\n",
    "                for adata_idx, adata in enumerate(adata_list):\n",
    "                    sc.pl.umap(adata, color=gene, cmap=magma, ax=axs[adata_idx], show=False, legend_fontsize=11)\n",
    "            else:\n",
    "                for adata_idx, adata in enumerate(adata_list):\n",
    "                    sc.pl.umap(adata, color=gene, cmap=magma, ax=axs[idx][adata_idx], show=False, legend_fontsize=11)\n",
    "        except:\n",
    "            raise\n",
    "               \n",
    "    for ax_idx, ax in enumerate(axs.ravel()):\n",
    "        ax.spines['top'].set_visible(False)\n",
    "        ax.spines['right'].set_visible(False)\n",
    "        ax.spines['bottom'].set_visible(False)\n",
    "        if ax_idx % n_cols == 0:\n",
    "            ax.spines['left'].set_visible(False)\n",
    "            \n",
    "        ax.set_xlabel('')\n",
    "        \n",
    "        if ax_idx % n_cols == 0:\n",
    "            ax.set_ylabel(list_genes[ax_idx // n_cols], fontsize=20)\n",
    "        else:\n",
    "            ax.set_ylabel('')\n",
    "            \n",
    "        if ax_idx in range(len(list_datasets)):\n",
    "            ax.set_title(list_datasets[ax_idx], fontsize=20)\n",
    "        else:\n",
    "            ax.set_title('')\n",
    "            \n",
    "        # legend unification \n",
    "        if ax_idx % n_cols == 0:\n",
    "            dict_legends = {}\n",
    "        \n",
    "        try:\n",
    "            legend = ax.get_legend()\n",
    "            names, handles = [str(x._text) for x in legend.texts], legend.legendHandles  \n",
    "            for i in range(len(names)):\n",
    "                handle = handles[i]\n",
    "                handle.set_sizes([80])\n",
    "                dict_legends[names[i]] = handles[i]\n",
    "            if ax_idx % n_cols != n_cols - 1:\n",
    "                ax.get_legend().remove()\n",
    "            else:\n",
    "                if name_order is None:\n",
    "                    ax.legend(dict_legends.values(), dict_legends.keys(), bbox_to_anchor=(1.05, 0.8), frameon=False, prop={'size': 19})\n",
    "                else:\n",
    "                    ax.legend([dict_legends[i] for i in name_order if i in dict_legends.keys()], \n",
    "                              [i for i in name_order if i in dict_legends.keys()], bbox_to_anchor=(1.05, 1.01), frameon=False, prop={'size': 19})\n",
    "        except:\n",
    "            pass \n",
    "        \n",
    "    \n",
    "    plt.tight_layout()\n",
    "    plt.savefig(fig_dir + 'clusters/' + '-'.join(list_genes) + '.png', dpi=500)\n",
    "    plt.savefig(fig_dir + 'clusters/' + '-'.join(list_genes) + '.pdf')\n",
    "    \n"
   ]
  },
  {
   "cell_type": "markdown",
   "id": "d1f61063-6a10-421a-a596-718408c1f88b",
   "metadata": {},
   "source": [
    "## Fig 2I & Sup 1"
   ]
  },
  {
   "cell_type": "code",
   "execution_count": null,
   "id": "ebda2b34-44a2-4eab-a262-5d5f92a14798",
   "metadata": {
    "tags": []
   },
   "outputs": [],
   "source": [
    "name_order = ['Endothelial', 'Pericyte', 'Fibroblast', 'FAP Lum+', 'FAP Prg4+', 'Tenocyte', 'Neural cell', 'Glial cell',\n",
    "                                                          'Myonuclei', 'MuSC', 'Immune', 'APC / Proliferative ICs', \n",
    "                                                          'Monocyte', 'Neutrophil', 'Myeloid', 'B cell', 'T cell', 'A', 'B', 'C', 'Other']\n",
    "\n",
    "name_order_dict = {'Endothelial': '#950541', 'FAP Lum+': '#f46d43', 'FAP Prg4+': '#fdae61', 'Glial cell': '#3b8957',  \n",
    "                   'Neural cell': '#3898d3',  'Tenocyte': '#66c2a5'}\n",
    "\n",
    "name_order_dict = {'Endothelial': '#c05780', 'FAP Lum+': '#ff828b', 'FAP Prg4+': '#e7c582', 'Glial cell': '#0065a2',  \n",
    "                   'Neural cell': '#0065a2',  'Tenocyte': '#00b0ba'}"
   ]
  },
  {
   "cell_type": "code",
   "execution_count": null,
   "id": "unavailable-dating",
   "metadata": {
    "tags": []
   },
   "outputs": [],
   "source": [
    "adata_oprescu_d0_sub.uns['cell_type_colors'] = [name_order_dict[i] for i in adata_oprescu_d0_sub.obs['cell_type'].cat.categories]\n",
    "adata_scott_d0_sub.uns['cell_type_colors'] = [name_order_dict[i] for i in adata_scott_d0_sub.obs['cell_type'].cat.categories]\n",
    "adata_de_micheli_mouse_d0_sub.uns['cell_type_colors'] = [name_order_dict[i] for i in adata_de_micheli_mouse_d0_sub.obs['cell_type'].cat.categories]\n",
    "adata_leinroth_sub.uns['cell_type_colors'] = [name_order_dict[i] for i in adata_leinroth_sub.obs['cell_type'].cat.categories]\n",
    "\n",
    "\n",
    "# Add colors about krano\n",
    "list_kranos = ['A', 'B']\n",
    "adata_oprescu_d0_sub.obs['is_krano'] = ['kranocyte' if i in list_kranos else '-' for i in adata_oprescu_d0_sub.obs['krano_type']]\n",
    "adata_scott_d0_sub.obs['is_krano'] = ['kranocyte' if i in list_kranos else '-' for i in adata_scott_d0_sub.obs['krano_type']]\n",
    "adata_de_micheli_mouse_d0_sub.obs['is_krano'] = ['kranocyte' if i in list_kranos else '-' for i in adata_de_micheli_mouse_d0_sub.obs['krano_type']]\n",
    "adata_leinroth_sub.obs['is_krano'] = ['kranocyte' if i in list_kranos else '-' for i in adata_leinroth_sub.obs['krano_type']]\n",
    "\n",
    "\n",
    "\n",
    "adata_oprescu_d0_sub.uns['is_krano_colors'] = ['#cdcdcd', '#454545', ]\n",
    "adata_scott_d0_sub.uns['is_krano_colors'] = ['#cdcdcd', '#454545', ]\n",
    "adata_de_micheli_mouse_d0_sub.uns['is_krano_colors'] = ['#cdcdcd', '#454545', ]\n",
    "adata_leinroth_sub.uns['is_krano_colors'] = ['#cdcdcd', '#454545', ]"
   ]
  },
  {
   "cell_type": "code",
   "execution_count": null,
   "id": "db117a42-831c-4c83-834b-142e71baa4c9",
   "metadata": {
    "tags": []
   },
   "outputs": [],
   "source": [
    "makefig(['cell_type', 'is_krano'], name_order=name_order, \n",
    "        adata_list=[adata_oprescu_d0_sub, adata_de_micheli_mouse_d0_sub, adata_scott_d0_sub, adata_leinroth_sub], )"
   ]
  },
  {
   "cell_type": "code",
   "execution_count": null,
   "id": "requested-motorcycle",
   "metadata": {
    "tags": []
   },
   "outputs": [],
   "source": [
    "makefig(['cell_type', 'Pdpn', 'Cd34', 'Ngfr', 'Pdgfrb'], name_order=name_order, \n",
    "        adata_list=[adata_oprescu_d0_sub, adata_de_micheli_mouse_d0_sub, adata_scott_d0_sub, adata_leinroth_sub], )"
   ]
  },
  {
   "cell_type": "markdown",
   "id": "d5d6ace1-69cf-4f62-87e3-2fc28aecf526",
   "metadata": {},
   "source": [
    "## Fig Sup Tnc"
   ]
  },
  {
   "cell_type": "code",
   "execution_count": null,
   "id": "3f0b1b59-a15f-4010-87d8-f7a5c2b0be7c",
   "metadata": {
    "tags": []
   },
   "outputs": [],
   "source": [
    "name_order_dict = {'APC': '#9782f2', 'Endothelial': '#950541', 'FAP Lum+': '#f46d43', 'FAP Prg4+': '#fdae61', 'Immune': '#5645a0', 'Macrophage': '#2576a8', 'Monocyte': '#409aef', \n",
    "                   'Myonuclei': '#d5ee53', 'Neutrophil': '#7ce7f4', 'Pericyte': '#f4106f', 'Satellite cell': '#abdda4', 'T cell': '#c1e8e7', 'Tenocyte': '#66c2a5', }\n",
    "\n",
    "\n",
    "adata_oprescu_d0.uns['cell_type_colors'] = [name_order_dict[i] for i in adata_oprescu_d0.obs['cell_type'].cat.categories]\n",
    "adata_oprescu_d2.uns['cell_type_colors'] = [name_order_dict[i] for i in adata_oprescu_d2.obs['cell_type'].cat.categories]\n",
    "adata_oprescu_d35.uns['cell_type_colors'] = [name_order_dict[i] for i in adata_oprescu_d35.obs['cell_type'].cat.categories]\n",
    "adata_oprescu_d5.uns['cell_type_colors'] = [name_order_dict[i] for i in adata_oprescu_d5.obs['cell_type'].cat.categories]\n",
    "adata_oprescu_d10.uns['cell_type_colors'] = [name_order_dict[i] for i in adata_oprescu_d10.obs['cell_type'].cat.categories]\n",
    "adata_oprescu_d21.uns['cell_type_colors'] = [name_order_dict[i] for i in adata_oprescu_d21.obs['cell_type'].cat.categories]\n"
   ]
  },
  {
   "cell_type": "code",
   "execution_count": null,
   "id": "03e84e02-275e-49b7-a503-37a532b83ddb",
   "metadata": {
    "tags": []
   },
   "outputs": [],
   "source": [
    "makefig(['cell_type', 'Tnc'], \n",
    "            name_order=name_order, \n",
    "            adata_list=[adata_oprescu_d0, adata_oprescu_d2, adata_oprescu_d5, adata_oprescu_d10, adata_oprescu_d21], \n",
    "            list_datasets=['D0', 'D2', 'D5', 'D10', 'D21'])"
   ]
  },
  {
   "cell_type": "code",
   "execution_count": null,
   "id": "6cf90300-bc89-4cc1-b558-7d37bcce7348",
   "metadata": {
    "scrolled": true,
    "tags": []
   },
   "outputs": [],
   "source": [
    "# sc.tl.leiden(adata_oprescu_d2, resolution=1)\n",
    "# sc.pl.umap(adata_oprescu_d2, color=['leiden'])\n",
    "sc.tl.rank_genes_groups(adata_oprescu_d2, groupby='leiden', groups=['8'])\n",
    "sc.pl.rank_genes_groups_tracksplot(adata_oprescu_d2, dendrogram=False, n_genes=150, )"
   ]
  },
  {
   "cell_type": "code",
   "execution_count": null,
   "id": "b0e91751-7ed1-4457-91b8-785fd4481f40",
   "metadata": {
    "scrolled": true,
    "tags": []
   },
   "outputs": [],
   "source": [
    "sc.tl.leiden(adata_oprescu_d0, resolution=1)\n",
    "sc.pl.umap(adata_oprescu_d0, color=['leiden'])\n",
    "sc.tl.rank_genes_groups(adata_oprescu_d0, groupby='leiden', groups=['15'])\n",
    "sc.pl.rank_genes_groups_tracksplot(adata_oprescu_d0, dendrogram=False, n_genes=150, )"
   ]
  },
  {
   "cell_type": "code",
   "execution_count": null,
   "id": "265df92f-f619-44fd-9292-6ab8ed411c9b",
   "metadata": {
    "tags": []
   },
   "outputs": [],
   "source": [
    "DEGs_tnc_D0 = ['Fmod', 'Col12a1', 'Tnmd', 'Cilp2', 'Col11a1', 'Ptn', 'Scx', 'Mfap4', 'Fam101b', 'Comp', 'Ptx4', 'Mkx', 'Edil3', 'Gnai1']\n",
    "\n",
    "for gene in DEGs_tnc_D0:\n",
    "    fig, axs = plt.subplots(1, 5, figsize=(15, 2))\n",
    "    for adata_idx, adata in enumerate([adata_oprescu_d0, adata_oprescu_d2, adata_oprescu_d5, adata_oprescu_d10, adata_oprescu_d21]):\n",
    "        sc.pl.umap(adata, color=gene, cmap=magma, ax=axs[adata_idx], show=False, legend_fontsize=11, frameon=False, s=10)"
   ]
  },
  {
   "cell_type": "code",
   "execution_count": null,
   "id": "dcd23ad8-56d9-400b-adac-868004f3eb9a",
   "metadata": {
    "tags": []
   },
   "outputs": [],
   "source": [
    "DEGs_tnc_D0 = adata_oprescu_d0.uns['rank_genes_groups']['names']['15'][:350]\n",
    "DEGs_tnc_D2 = adata_oprescu_d2.uns['rank_genes_groups']['names']['8'][:350]"
   ]
  },
  {
   "cell_type": "code",
   "execution_count": null,
   "id": "17a87b8d-6177-4241-bdb3-c78cac80b3e0",
   "metadata": {
    "tags": []
   },
   "outputs": [],
   "source": [
    "for gene in ['Aebp1', 'Bgn', 'Ccdc80',  \n",
    "       'Cnn3', 'Col12a1',  'Col8a1', 'Copz2',\n",
    "       'Cthrc1', 'Dpysl3', 'Ebf1', 'Lhfp', 'Lox', \n",
    "       'Npdc1', 'P3h3', 'Postn', 'Prelp', 'Prg4', \n",
    "       'Prrx2', 'Sfrp2', 'Tnc', 'Twist1', 'Wwtr1']:\n",
    "    \n",
    "    fig, axs = plt.subplots(1, 5, figsize=(15, 2))\n",
    "    \n",
    "    for adata_idx, adata in enumerate([adata_oprescu_d0, adata_oprescu_d2, adata_oprescu_d5, adata_oprescu_d10, adata_oprescu_d21]):\n",
    "        sc.pl.umap(adata, color=gene, cmap=magma, ax=axs[adata_idx], show=False, legend_fontsize=11, frameon=False, s=10)            "
   ]
  },
  {
   "cell_type": "markdown",
   "id": "3a572065-8d13-4c26-b5cb-262241cfa793",
   "metadata": {},
   "source": [
    "## Obtaining DEGs "
   ]
  },
  {
   "cell_type": "code",
   "execution_count": null,
   "id": "b6945a79-8b87-40c1-bd02-be70855fd3ee",
   "metadata": {
    "tags": []
   },
   "outputs": [],
   "source": [
    "for dataset in [adata_oprescu_d0_sub, adata_de_micheli_mouse_d0_sub, adata_scott_d0_sub, adata_leinroth_sub]:\n",
    "    dataset.uns['log1p'] = {'base': None}"
   ]
  },
  {
   "cell_type": "code",
   "execution_count": null,
   "id": "c97677fd-401c-449a-aa08-e4f422d794f9",
   "metadata": {
    "tags": []
   },
   "outputs": [],
   "source": [
    "dataset = adata_oprescu_d0\n",
    "name = 'oprescu'\n",
    "\n",
    "for dataset, name in zip([adata_oprescu_d0_sub, adata_de_micheli_mouse_d0_sub, adata_scott_d0_sub, adata_leinroth_sub], ['Oprescu', 'De-Micheli', 'Scott', 'Leinroth']):\n",
    "    sc.tl.rank_genes_groups(dataset, groupby='krano_type', use_raw=False)\n",
    "    df = pd.DataFrame({'Genes A': dataset.uns['rank_genes_groups']['names']['A'], \n",
    "                  'pval A': dataset.uns['rank_genes_groups']['pvals_adj']['A'],\n",
    "                  'logfold A': dataset.uns['rank_genes_groups']['logfoldchanges']['A'],\n",
    "                  'Genes B': dataset.uns['rank_genes_groups']['names']['B'], \n",
    "                  'pval B': dataset.uns['rank_genes_groups']['pvals_adj']['B'],\n",
    "                  'logfold B': dataset.uns['rank_genes_groups']['logfoldchanges']['B'],}).iloc[:100]\n",
    "\n",
    "\n",
    "    df.to_csv(f'results/DEGs/{name}_DEGs.csv', index=None)"
   ]
  },
  {
   "cell_type": "markdown",
   "id": "16a7d942-32a7-4e1a-b74b-ae87719d85e8",
   "metadata": {},
   "source": [
    "#### Creating a joint table\n",
    "\n",
    "To do that, we will sum the ranks and create a new rank with that information.\n",
    "\n",
    "First, we select the genes with rank < 300, do the joining and retain the first 100."
   ]
  },
  {
   "cell_type": "code",
   "execution_count": null,
   "id": "18bbeb92-5957-47d4-8328-ff090c93eef4",
   "metadata": {
    "tags": []
   },
   "outputs": [],
   "source": [
    "def make_df_info_vals(krano_type, cut_1, cut_2, list_datasets, list_dataset_names):\n",
    "    list_names = set(list(adata_oprescu_d0_sub.uns['rank_genes_groups']['names'][krano_type][:cut_1]) + list(adata_de_micheli_mouse_d0_sub.uns['rank_genes_groups']['names'][krano_type][:cut_1]) + \\\n",
    "                 list(adata_scott_d0_sub.uns['rank_genes_groups']['names'][krano_type][:cut_1]) + list(adata_leinroth_sub.uns['rank_genes_groups']['names'][krano_type][:cut_1]))\n",
    "\n",
    "    df_info = pd.DataFrame(np.NaN, index=list_names, columns=list_dataset_names)\n",
    "\n",
    "    for dataset, name in zip(list_datasets, list_dataset_names):\n",
    "        df_dataset = pd.DataFrame({name: list(range(cut_1))}, index=list(dataset.uns['rank_genes_groups']['names'][krano_type][:cut_1]))\n",
    "        df_info.loc[df_dataset.index, name] = df_dataset.loc[df_dataset.index][name].values\n",
    "\n",
    "    df_info = df_info[df_info.isnull().sum(axis=1) < 2].iloc[:min(len(df_info), cut_2)]\n",
    "    df_info['sum'] = np.nanmean(df_info, 1)\n",
    "    df_info = df_info.sort_values(by='sum')\n",
    "\n",
    "    df_info_values = pd.DataFrame(index=df_info.index, columns=list(itertools.chain(*[(f'{i}_pval', f'{i}_logfold') for i in list_dataset_names])))\n",
    "\n",
    "    for dataset, name in zip(list_datasets, list_dataset_names):\n",
    "        df_ds_nm = pd.DataFrame({'Genes': dataset.uns['rank_genes_groups']['names'][krano_type], \n",
    "                      f'{name}_pval': dataset.uns['rank_genes_groups']['pvals_adj'][krano_type],\n",
    "                      f'{name}_logfold': dataset.uns['rank_genes_groups']['logfoldchanges'][krano_type],\n",
    "                      }).set_index('Genes')\n",
    "        df_info_values.loc[df_info_values.index, [f'{name}_pval', f'{name}_logfold']] = df_ds_nm.loc[df_info_values.index, [f'{name}_pval', f'{name}_logfold']]\n",
    "        \n",
    "    return df_info_values"
   ]
  },
  {
   "cell_type": "code",
   "execution_count": null,
   "id": "607a9ff8-2c9f-402b-834f-7193ea308d44",
   "metadata": {
    "tags": []
   },
   "outputs": [],
   "source": [
    "cut_1, cut_2 = 350, 150\n",
    "list_datasets, list_dataset_names = [adata_oprescu_d0_sub, adata_de_micheli_mouse_d0_sub, adata_scott_d0_sub, adata_leinroth_sub], ['Oprescu', 'De-Micheli', 'Scott', 'Leinroth']\n",
    "\n",
    "krano_type = 'A'\n",
    "df_info_values_A = make_df_info_vals(krano_type, cut_1, cut_2, list_datasets, list_dataset_names)\n",
    "df.to_csv(f'results/DEGs/info_DEGs_{krano_type}.csv')\n",
    "\n",
    "krano_type = 'B'\n",
    "df_info_values_B = make_df_info_vals(krano_type, cut_1, cut_2, list_datasets, list_dataset_names)\n",
    "df.to_csv(f'results/DEGs/info_DEGs_{krano_type}.csv')"
   ]
  },
  {
   "cell_type": "code",
   "execution_count": null,
   "id": "e2dbf8e2-c655-430e-bb9e-9c3026d06d2f",
   "metadata": {
    "tags": []
   },
   "outputs": [],
   "source": [
    "df_info_values_B"
   ]
  },
  {
   "cell_type": "code",
   "execution_count": null,
   "id": "29dc06c2-7f0f-40ea-950b-370bfc0d367b",
   "metadata": {
    "tags": []
   },
   "outputs": [],
   "source": [
    "df = pd.DataFrame(index=np.arange(200))\n",
    "\n",
    "for dataset, name in zip([adata_oprescu_d0_sub, adata_de_micheli_mouse_d0_sub, adata_scott_d0_sub, adata_leinroth_sub], \n",
    "                         ['Oprescu', 'De Micheli', 'Scott', 'Leinroth']):\n",
    "    cells_AB = dataset[dataset.obs['krano_type'].isin(['A', 'B'])]\n",
    "    mean_vals = cells_AB.X.mean(0).A.ravel()\n",
    "    \n",
    "    top_idx = np.argpartition(mean_vals, -200)[-200:]\n",
    "    top_idx_sorted = top_idx[np.argsort(mean_vals[top_idx])][::-1]\n",
    "    top_names = dataset.var_names[top_idx_sorted]\n",
    "    top_means = mean_vals[top_idx_sorted]\n",
    "    \n",
    "    df[f'{name} genes'] = top_names\n",
    "    df[f'{name} mean exp. (log)'] = top_means\n",
    "    \n",
    "df.to_csv(f'results/df_max_expression.csv')"
   ]
  }
 ],
 "metadata": {
  "kernelspec": {
   "display_name": "Python [conda env:alex-base] *",
   "language": "python",
   "name": "conda-env-alex-base-xpython"
  },
  "language_info": {
   "file_extension": ".py",
   "mimetype": "text/x-python",
   "name": "python",
   "version": "3.8.6"
  }
 },
 "nbformat": 4,
 "nbformat_minor": 5
}
