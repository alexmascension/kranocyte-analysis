{
 "cells": [
  {
   "cell_type": "markdown",
   "id": "married-courtesy",
   "metadata": {},
   "source": [
    "# Detecting kranocyte populations in the datasets"
   ]
  },
  {
   "cell_type": "code",
   "execution_count": null,
   "id": "4cf74a68-dba7-40f8-bea3-ec23e2fdc3b5",
   "metadata": {},
   "outputs": [],
   "source": [
    "import scanpy as sc\n",
    "import scanpy.external as sce\n",
    "import pandas as pd\n",
    "import numpy as np\n",
    "import os\n",
    "import triku as tk\n",
    "import matplotlib.pyplot as plt\n",
    "import matplotlib as mpl\n",
    "from tqdm.notebook import tqdm\n",
    "import ray\n",
    "import subprocess\n",
    "from scipy.sparse import csr_matrix\n",
    "from IPython.display import display, HTML\n",
    "\n",
    "from tqdm.notebook import tqdm\n",
    "\n",
    "from bokeh.io import show, output_notebook, reset_output\n",
    "\n",
    "reset_output()\n",
    "output_notebook()"
   ]
  },
  {
   "cell_type": "code",
   "execution_count": null,
   "id": "f15b5b05-2bb7-4630-8f43-bad41a33c4a4",
   "metadata": {},
   "outputs": [],
   "source": [
    "from cellassign import assign_cats\n",
    "\n",
    "help(assign_cats)"
   ]
  },
  {
   "cell_type": "code",
   "execution_count": null,
   "id": "b99a2bb5-5089-436b-807d-56051aeca447",
   "metadata": {},
   "outputs": [],
   "source": [
    "# Palettes for UMAP gene expression\n",
    "\n",
    "magma = [plt.get_cmap('magma')(i) for i in np.linspace(0,1, 80)]\n",
    "magma[0] = (0.88, 0.88, 0.88, 1)\n",
    "magma = mpl.colors.LinearSegmentedColormap.from_list(\"\", magma[:65])\n",
    "\n",
    "seed = 0"
   ]
  },
  {
   "cell_type": "code",
   "execution_count": null,
   "id": "c5797fe0-39d7-470f-bfcb-7c65a668c7eb",
   "metadata": {},
   "outputs": [],
   "source": [
    "mpl.rcParams['figure.dpi'] = 150"
   ]
  },
  {
   "cell_type": "code",
   "execution_count": null,
   "id": "84542b85-edbf-4acf-94f0-51c605094bdb",
   "metadata": {},
   "outputs": [],
   "source": [
    "A_markers = ['6030408B16Rik', 'Smim41', 'Col9a2', 'Dlk1', 'Shisa3',  'Saa1',  'Nipal1']\n",
    "A_markers_extra = ['Kcnk2',  # Not specific enough\n",
    "                   'Adamtsl2',  # Not specific enough\n",
    "                   'Cst6',  # Teno marker\n",
    "                   'Sorcs2',  # Not specific enough\n",
    "                   'Susd5',  # Not specific enough\n",
    "                   'Rgs17',  # Not specific enough\n",
    "                   'Gfra2']  # Marks immune population\n",
    "B_markers = ['Lypd2', 'Wnt6', 'Cldn1', 'Moxd1', 'Mansc4', 'Dleu7', 'Efnb3', 'Stra6', 'Sbspon', 'Ace2', 'Hcn4', 'Cldn22', 'Wnt10a', 'Ocln']  \n",
    "B_markers_extra = ['Itgb4',  # Expressed by immune\n",
    "                   'Ralgps2',  # Expressed by immune\n",
    "                   'Ctxn3',  # Myonuclei\n",
    "                   'Tenm2',  # Krano A\n",
    "                   'Sfrp5',  # Glial \n",
    "                   'Perp',  # Glial + peris\n",
    "                   'Krt19',  # APC\n",
    "                   'Gpm6a',  # Immune\n",
    "                   'Ctxn3',  # Tenocytes\n",
    "                   'Crabp2',  # Pericytes / teno\n",
    "                   'Slc6a13',  # APC\n",
    "                   'Itga7']  # Immune"
   ]
  },
  {
   "cell_type": "code",
   "execution_count": null,
   "id": "4babc72b-223a-4d89-8caf-10dcea96d6de",
   "metadata": {},
   "outputs": [],
   "source": [
    "list_colors = ['#bcbcbc', '#900C3F', '#286e87']"
   ]
  },
  {
   "cell_type": "markdown",
   "id": "municipal-relevance",
   "metadata": {},
   "source": [
    "## Oprescu"
   ]
  },
  {
   "cell_type": "code",
   "execution_count": null,
   "id": "7f859414-61bf-4f3c-9d48-29b6002a60dc",
   "metadata": {},
   "outputs": [],
   "source": [
    "adata_oprescu_d0 = sc.read('data/processed/oprescu_d0.h5')"
   ]
  },
  {
   "cell_type": "code",
   "execution_count": null,
   "id": "8a06de53-d998-43d7-83e4-76970df3a292",
   "metadata": {},
   "outputs": [],
   "source": [
    "adata_oprescu_d0.obs['id'] = adata_oprescu_d0.obs_names\n",
    "assign_cats(adata_oprescu_d0, column_groupby='id', dict_cats={'A': A_markers, 'B': B_markers}, min_score=0.6, \n",
    "            others_name='-', key_added='krano_type')\n",
    "adata_oprescu_d0.uns['krano_type_colors'] = list_colors"
   ]
  },
  {
   "cell_type": "code",
   "execution_count": null,
   "id": "c9295ef1-c38b-40f3-b0c7-19ab8d0fc1dc",
   "metadata": {},
   "outputs": [],
   "source": [
    "sc.pl.umap(adata_oprescu_d0, color=['krano_type', 'cell_type'] , cmap=magma, alpha=0.6)"
   ]
  },
  {
   "cell_type": "code",
   "execution_count": null,
   "id": "1381583d-4a71-454b-bb18-a0c9396b1fe4",
   "metadata": {},
   "outputs": [],
   "source": [
    "sc.pl.umap(adata_oprescu_d0, color=['krano_type', 'cell_type', 'Mpzl2'] , cmap=magma, alpha=0.6)"
   ]
  },
  {
   "cell_type": "code",
   "execution_count": null,
   "id": "873c82a0-6d33-45b5-9289-3cea62b0b764",
   "metadata": {},
   "outputs": [],
   "source": [
    "sc.pl.umap(adata_oprescu_d0, color=['krano_type', 'cell_type'] + [i for i in A_markers if i in adata_oprescu_d0.var_names], \n",
    "           cmap=magma, alpha=0.6)"
   ]
  },
  {
   "cell_type": "code",
   "execution_count": null,
   "id": "6f1fd44e-3a38-40ec-b297-f5047ab9c006",
   "metadata": {},
   "outputs": [],
   "source": [
    "sc.pl.umap(adata_oprescu_d0, color=['krano_type', 'cell_type'] + [i for i in B_markers if i in adata_oprescu_d0.var_names], \n",
    "           cmap=magma, alpha=0.6)"
   ]
  },
  {
   "cell_type": "markdown",
   "id": "16fe7c74-55a8-4452-b462-70e5ed304726",
   "metadata": {},
   "source": [
    "## Subsample of populations"
   ]
  },
  {
   "cell_type": "code",
   "execution_count": null,
   "id": "0b59059e-a0ad-4563-b2e9-7d0152c8d3d3",
   "metadata": {},
   "outputs": [],
   "source": [
    "adata_oprescu_d0_sub = adata_oprescu_d0[adata_oprescu_d0.obs['cell_type'].isin(['Lum+ FAP', 'Prg4+ FAP', 'Endothelial', 'Perivascular', 'Tenocyte', 'Glial cell', 'Neural cell'])]\n",
    "\n",
    "sc.pp.filter_genes(adata_oprescu_d0_sub, min_counts=1)\n",
    "\n",
    "sc.pp.pca(adata_oprescu_d0_sub, random_state=seed, n_comps=30)\n",
    "sc.pp.neighbors(adata_oprescu_d0_sub, random_state=seed, n_neighbors=int(len(adata_oprescu_d0_sub) ** 0.5 // 4), metric='cosine')\n",
    "tk.tl.triku(adata_oprescu_d0_sub)\n",
    "\n",
    "sc.tl.umap(adata_oprescu_d0_sub, min_dist=0.7, random_state=seed)\n",
    "sc.tl.leiden(adata_oprescu_d0_sub, resolution=3, random_state=seed)\n",
    "\n",
    "assign_cats(adata_oprescu_d0_sub, column_groupby='id', dict_cats={'A': A_markers, 'B': B_markers}, min_score=0.7, others_name='-', key_added='krano_type')\n",
    "\n",
    "sc.pl.umap(adata_oprescu_d0_sub, color=['leiden', 'n_counts', 'cell_type', 'krano_type'], legend_loc='on data')"
   ]
  },
  {
   "cell_type": "code",
   "execution_count": null,
   "id": "945b7f81-28c4-4a61-838e-1772df3ce5fc",
   "metadata": {},
   "outputs": [],
   "source": [
    "adata_oprescu_d0_sub.write_h5ad('data/processed/oprescu_d0_sub.h5')\n",
    "adata_oprescu_d0.write_h5ad('data/processed/oprescu_d0.h5')"
   ]
  },
  {
   "cell_type": "markdown",
   "id": "f9a59437-4ff8-4fdf-b2ac-d501440c06cf",
   "metadata": {},
   "source": [
    "## Scott"
   ]
  },
  {
   "cell_type": "code",
   "execution_count": null,
   "id": "0339a090-9841-4182-a144-93ff18e17ebb",
   "metadata": {},
   "outputs": [],
   "source": [
    "adata_scott_d0 = sc.read('data/processed/scott_d0.h5')"
   ]
  },
  {
   "cell_type": "code",
   "execution_count": null,
   "id": "6bce3e8f-02c5-4230-9bbf-f3b82e53f76e",
   "metadata": {},
   "outputs": [],
   "source": [
    "adata_scott_d0.obs['id'] = adata_scott_d0.obs_names\n",
    "assign_cats(adata_scott_d0, column_groupby='id', dict_cats={'A': A_markers, 'B': B_markers}, min_score=0.4, \n",
    "            others_name='-', key_added='krano_type')\n",
    "adata_scott_d0.uns['krano_type_colors'] = list_colors"
   ]
  },
  {
   "cell_type": "code",
   "execution_count": null,
   "id": "8e94cf6a-21f4-4275-9709-37296b87bee0",
   "metadata": {},
   "outputs": [],
   "source": [
    "sc.pl.umap(adata_scott_d0, color=['krano_type', 'cell_type'] , cmap=magma, alpha=0.6)"
   ]
  },
  {
   "cell_type": "code",
   "execution_count": null,
   "id": "9b5e4c5a-e5ab-4bf5-a315-688e67e3826e",
   "metadata": {},
   "outputs": [],
   "source": [
    "sc.pl.umap(adata_scott_d0, color=['krano_type', 'cell_type'] + [i for i in A_markers if i in adata_scott_d0.var_names], \n",
    "           cmap=magma, alpha=0.6)"
   ]
  },
  {
   "cell_type": "code",
   "execution_count": null,
   "id": "c63ac644-8b48-4a04-8bd1-ad0ed466f569",
   "metadata": {},
   "outputs": [],
   "source": [
    "sc.pl.umap(adata_scott_d0, color=['krano_type', 'cell_type'] + [i for i in B_markers if i in adata_scott_d0.var_names], \n",
    "           cmap=magma, alpha=0.6)"
   ]
  },
  {
   "cell_type": "markdown",
   "id": "8ca27968-2f33-447e-8597-1316ae7df785",
   "metadata": {},
   "source": [
    "## Subsample of populations"
   ]
  },
  {
   "cell_type": "code",
   "execution_count": null,
   "id": "7e3c70cd-de96-4cfa-815c-d56d71d3920f",
   "metadata": {},
   "outputs": [],
   "source": [
    "adata_scott_d0_sub = adata_scott_d0[adata_scott_d0.obs['cell_type'].isin(['Lum+ FAP', 'Prg4+ FAP', 'Endothelial', 'Perivascular', 'Tenocyte', 'Neural cell', 'Glial cell'])]\n",
    "\n",
    "sc.pp.filter_genes(adata_scott_d0_sub, min_counts=1)\n",
    "\n",
    "sc.pp.pca(adata_scott_d0_sub, random_state=seed, n_comps=30)\n",
    "sc.pp.neighbors(adata_scott_d0_sub, random_state=seed, n_neighbors=int(len(adata_scott_d0_sub) ** 0.5 // 4), metric='cosine')\n",
    "tk.tl.triku(adata_scott_d0_sub)\n",
    "\n",
    "sc.tl.umap(adata_scott_d0_sub, min_dist=0.5, random_state=seed)\n",
    "sc.tl.leiden(adata_scott_d0_sub, resolution=3.5, random_state=seed)\n",
    "\n",
    "assign_cats(adata_scott_d0_sub, column_groupby='id', dict_cats={'A': A_markers, 'B': B_markers}, min_score=0.4, others_name='-', key_added='krano_type')\n",
    "\n",
    "sc.pl.umap(adata_scott_d0_sub, color=['leiden', 'n_counts', 'cell_type', 'krano_type'], legend_loc='on data')"
   ]
  },
  {
   "cell_type": "code",
   "execution_count": null,
   "id": "dbceb3c3-3033-4284-a2c0-61aabf468809",
   "metadata": {},
   "outputs": [],
   "source": [
    "adata_scott_d0_sub.write_h5ad('data/processed/scott_d0_sub.h5')\n",
    "adata_scott_d0.write_h5ad('data/processed/scott_d0.h5')"
   ]
  },
  {
   "cell_type": "markdown",
   "id": "b4f82488-3016-49b0-9d2f-054420822444",
   "metadata": {},
   "source": [
    "## De Micheli mouse"
   ]
  },
  {
   "cell_type": "code",
   "execution_count": null,
   "id": "eb5fb647-3c60-4d86-9a31-853864e46023",
   "metadata": {},
   "outputs": [],
   "source": [
    "adata_de_micheli_mouse_d0 = sc.read('data/processed/de_micheli_mouse_d0.h5')"
   ]
  },
  {
   "cell_type": "code",
   "execution_count": null,
   "id": "747165ee-f46a-4612-9311-dd3e1fd78491",
   "metadata": {},
   "outputs": [],
   "source": [
    "adata_de_micheli_mouse_d0.obs['id'] = adata_de_micheli_mouse_d0.obs_names\n",
    "assign_cats(adata_de_micheli_mouse_d0, column_groupby='id', dict_cats={'A': A_markers, 'B': B_markers}, min_score=0.55, \n",
    "            others_name='-', key_added='krano_type')\n",
    "adata_de_micheli_mouse_d0.uns['krano_type_colors'] = list_colors"
   ]
  },
  {
   "cell_type": "code",
   "execution_count": null,
   "id": "b5679e1e-5f2a-4600-a759-7fa29c4efa73",
   "metadata": {},
   "outputs": [],
   "source": [
    "sc.pl.umap(adata_de_micheli_mouse_d0, color=['krano_type', 'cell_type'] , cmap=magma, alpha=0.6)"
   ]
  },
  {
   "cell_type": "code",
   "execution_count": null,
   "id": "5f42c0f4-52e9-4f8c-bd5a-fae8f7719a8a",
   "metadata": {},
   "outputs": [],
   "source": [
    "sc.pl.umap(adata_de_micheli_mouse_d0, color=['krano_type', 'cell_type'] + [i for i in A_markers if i in adata_de_micheli_mouse_d0.var_names], \n",
    "           cmap=magma, alpha=0.6)"
   ]
  },
  {
   "cell_type": "code",
   "execution_count": null,
   "id": "386679df-125e-4611-ba4a-050654f97ddc",
   "metadata": {},
   "outputs": [],
   "source": [
    "sc.pl.umap(adata_de_micheli_mouse_d0, color=['krano_type', 'cell_type'] + [i for i in B_markers if i in adata_de_micheli_mouse_d0.var_names], \n",
    "           cmap=magma, alpha=0.6)"
   ]
  },
  {
   "cell_type": "markdown",
   "id": "cc7e5a5d-1b79-4972-9f96-4b4800b1874a",
   "metadata": {},
   "source": [
    "## Subsample of populations"
   ]
  },
  {
   "cell_type": "code",
   "execution_count": null,
   "id": "1cc20ffb-9c2d-4a46-bfb3-ce8b3ffc281e",
   "metadata": {},
   "outputs": [],
   "source": [
    "adata_de_micheli_mouse_d0_sub = adata_de_micheli_mouse_d0[adata_de_micheli_mouse_d0.obs['cell_type'].isin(['Lum+ FAP', 'Prg4+ FAP', 'Endothelial', 'Perivascular', 'Tenocyte', 'Neural cell', 'Glial cell'])]\n",
    "\n",
    "sc.pp.filter_genes(adata_de_micheli_mouse_d0_sub, min_counts=1)\n",
    "\n",
    "sc.pp.pca(adata_de_micheli_mouse_d0_sub, random_state=seed, n_comps=30)\n",
    "sce.pp.bbknn(adata_de_micheli_mouse_d0_sub, metric='angular', neighbors_within_batch=3)\n",
    "tk.tl.triku(adata_de_micheli_mouse_d0_sub)\n",
    "\n",
    "sc.tl.umap(adata_de_micheli_mouse_d0_sub, min_dist=0.7, random_state=seed)\n",
    "sc.tl.leiden(adata_de_micheli_mouse_d0_sub, resolution=3.5, random_state=seed)\n",
    "\n",
    "assign_cats(adata_de_micheli_mouse_d0_sub, column_groupby='id', dict_cats={'A': A_markers, 'B': B_markers}, min_score=0.5, others_name='-', key_added='krano_type')\n",
    "\n",
    "sc.pl.umap(adata_de_micheli_mouse_d0_sub, color=['leiden', 'cell_type', 'krano_type'], legend_loc='on data')"
   ]
  },
  {
   "cell_type": "code",
   "execution_count": null,
   "id": "c2d45797-3443-4625-b914-cad83000fef9",
   "metadata": {},
   "outputs": [],
   "source": [
    "adata_de_micheli_mouse_d0_sub.write_h5ad('data/processed/de_micheli_mouse_d0_sub.h5')\n",
    "adata_de_micheli_mouse_d0.write_h5ad('data/processed/de_micheli_mouse_d0.h5')"
   ]
  },
  {
   "cell_type": "markdown",
   "id": "0f632f4c-112c-4fcc-80eb-97344ca3b04e",
   "metadata": {},
   "source": [
    "## Giordani"
   ]
  },
  {
   "cell_type": "code",
   "execution_count": null,
   "id": "ee90093a-17a7-44de-a8f1-27a32ce549c1",
   "metadata": {},
   "outputs": [],
   "source": [
    "adata_giordani = sc.read('data/processed/giordani.h5')"
   ]
  },
  {
   "cell_type": "code",
   "execution_count": null,
   "id": "7cf1fa01-f856-459c-b39f-2977526a96cf",
   "metadata": {},
   "outputs": [],
   "source": [
    "adata_giordani.obs['id'] = adata_giordani.obs_names\n",
    "assign_cats(adata_giordani, column_groupby='id', \n",
    "            dict_cats={'A': A_markers, 'B': B_markers}, min_score=0.35, \n",
    "            others_name='-', key_added='krano_type')\n",
    "adata_giordani.uns['krano_type_colors'] = list_colors"
   ]
  },
  {
   "cell_type": "code",
   "execution_count": null,
   "id": "d24b9e9d-4b65-42e4-851f-6933498b0feb",
   "metadata": {},
   "outputs": [],
   "source": [
    "sc.pl.umap(adata_giordani, color=['krano_type', 'cell_type'] , cmap=magma, alpha=0.6)"
   ]
  },
  {
   "cell_type": "code",
   "execution_count": null,
   "id": "b681ad52-d403-44f0-b385-df04a69ac410",
   "metadata": {},
   "outputs": [],
   "source": [
    "sc.pl.umap(adata_giordani, color=['krano_type', 'cell_type'] + [i for i in A_markers if i in adata_giordani.var_names], \n",
    "           cmap=magma, alpha=0.6)"
   ]
  },
  {
   "cell_type": "code",
   "execution_count": null,
   "id": "c6b3ca1c-2eb4-4a43-b35a-a188c1a0cd11",
   "metadata": {},
   "outputs": [],
   "source": [
    "sc.pl.umap(adata_giordani, color=['krano_type', 'cell_type'] + [i for i in B_markers if i in adata_giordani.var_names], \n",
    "           cmap=magma, alpha=0.6)"
   ]
  },
  {
   "cell_type": "markdown",
   "id": "d514f33e-a3fb-463d-a949-f0eaff1425e3",
   "metadata": {},
   "source": [
    "## Subsample of populations"
   ]
  },
  {
   "cell_type": "code",
   "execution_count": null,
   "id": "6e95ad30-c6d3-4ee9-bada-4d47f780cc40",
   "metadata": {},
   "outputs": [],
   "source": [
    "adata_giordani_sub = adata_giordani[adata_giordani.obs['cell_type'].isin(['Lum+ FAP', 'Prg4+ FAP', 'Endothelial', 'Perivascular', 'Tenocyte', 'Neural cell', 'Glial cell'])]\n",
    "\n",
    "sc.pp.filter_genes(adata_giordani_sub, min_counts=1)\n",
    "\n",
    "sc.pp.pca(adata_giordani_sub, random_state=seed, n_comps=30)\n",
    "sce.pp.bbknn(adata_giordani_sub, metric='angular', neighbors_within_batch=3)\n",
    "tk.tl.triku(adata_giordani_sub)\n",
    "\n",
    "sc.tl.umap(adata_giordani_sub, min_dist=0.5, random_state=seed)\n",
    "sc.tl.leiden(adata_giordani_sub, resolution=3.5, random_state=seed)\n",
    "\n",
    "assign_cats(adata_giordani_sub, column_groupby='id', \n",
    "            dict_cats={'A': A_markers, 'B': B_markers}, min_score=0.35, \n",
    "            others_name='-', key_added='krano_type')\n",
    "\n",
    "sc.pl.umap(adata_giordani_sub, color=['leiden', 'cell_type', 'krano_type'], legend_loc='on data')"
   ]
  },
  {
   "cell_type": "code",
   "execution_count": null,
   "id": "86fd69c4-4bd6-4977-808a-279c837bcefd",
   "metadata": {},
   "outputs": [],
   "source": [
    "adata_giordani_sub.write_h5ad('data/processed/giordani_sub.h5')\n",
    "adata_giordani.write_h5ad('data/processed/giordani.h5')"
   ]
  },
  {
   "cell_type": "markdown",
   "id": "ed92e728-04c0-4d09-b5d2-14cf29b9349b",
   "metadata": {},
   "source": [
    "## Proietti"
   ]
  },
  {
   "cell_type": "code",
   "execution_count": null,
   "id": "c3f52a3a-785f-4412-8bce-daa5e1dd017d",
   "metadata": {},
   "outputs": [],
   "source": [
    "adata_proietti = sc.read('data/processed/proietti.h5')"
   ]
  },
  {
   "cell_type": "code",
   "execution_count": null,
   "id": "8ed62b42-569c-4473-b661-76ccafa0265a",
   "metadata": {},
   "outputs": [],
   "source": [
    "adata_proietti.obs['id'] = adata_proietti.obs_names\n",
    "assign_cats(adata_proietti, column_groupby='id', dict_cats={'A': A_markers, 'B': B_markers}, min_score=0.4, \n",
    "            others_name='-', key_added='krano_type')\n",
    "adata_proietti.uns['krano_type_colors'] = list_colors"
   ]
  },
  {
   "cell_type": "code",
   "execution_count": null,
   "id": "70b04f2f-b8e9-4fe9-abf3-96848776965e",
   "metadata": {},
   "outputs": [],
   "source": [
    "sc.pl.umap(adata_proietti, color=['krano_type', 'cell_type'] , cmap=magma, alpha=0.6)"
   ]
  },
  {
   "cell_type": "code",
   "execution_count": null,
   "id": "61bd6ef5-7ca2-491b-83bd-02736a86881d",
   "metadata": {},
   "outputs": [],
   "source": [
    "sc.pl.umap(adata_proietti, color=['krano_type', 'cell_type'] + [i for i in A_markers if i in adata_proietti.var_names], \n",
    "           cmap=magma, alpha=0.6)"
   ]
  },
  {
   "cell_type": "code",
   "execution_count": null,
   "id": "8d7dfc58-f499-47d2-a669-21c1b14c853c",
   "metadata": {},
   "outputs": [],
   "source": [
    "sc.pl.umap(adata_proietti, color=['krano_type', 'cell_type'] + [i for i in B_markers if i in adata_proietti.var_names], \n",
    "           cmap=magma, alpha=0.6)"
   ]
  },
  {
   "cell_type": "markdown",
   "id": "587629ba-e8fb-4b04-9447-81c697fe0e53",
   "metadata": {},
   "source": [
    "## Subsample of populations"
   ]
  },
  {
   "cell_type": "code",
   "execution_count": null,
   "id": "c05fff4b-0f31-48c0-922f-6748f61d9ab9",
   "metadata": {},
   "outputs": [],
   "source": [
    "adata_proietti_sub = adata_proietti[adata_proietti.obs['cell_type'].isin(['Lum+ FAP', 'Prg4+ FAP', 'Endothelial', 'Perivascular', 'Tenocyte', 'Neural cell', 'Glial cell'])]\n",
    "\n",
    "sc.pp.filter_genes(adata_proietti_sub, min_counts=1)\n",
    "\n",
    "sc.pp.pca(adata_proietti_sub, random_state=seed, n_comps=30)\n",
    "sce.pp.bbknn(adata_proietti_sub, metric='angular', neighbors_within_batch=3, batch_key='condition')\n",
    "tk.tl.triku(adata_proietti_sub)\n",
    "\n",
    "sc.tl.umap(adata_proietti_sub, min_dist=0.5, random_state=seed)\n",
    "sc.tl.leiden(adata_proietti_sub, resolution=3.5, random_state=seed)\n",
    "\n",
    "assign_cats(adata_proietti_sub, column_groupby='id', dict_cats={'A': A_markers, 'B': B_markers}, min_score=0.45, others_name='-', key_added='krano_type')\n",
    "\n",
    "sc.pl.umap(adata_proietti_sub, color=['leiden', 'cell_type', 'krano_type'], legend_loc='on data')"
   ]
  },
  {
   "cell_type": "code",
   "execution_count": null,
   "id": "8889c190-b775-4536-9506-1620fdb99bd3",
   "metadata": {},
   "outputs": [],
   "source": [
    "adata_proietti_sub.write_h5ad('data/processed/proietti_sub.h5')\n",
    "adata_proietti.write_h5ad('data/processed/proietti.h5')"
   ]
  },
  {
   "cell_type": "markdown",
   "id": "53df842b-5550-4d7c-bc47-fced27520d36",
   "metadata": {},
   "source": [
    "## Ronzoni"
   ]
  },
  {
   "cell_type": "code",
   "execution_count": null,
   "id": "9f88fdef-805f-45fb-b041-50c1fb747735",
   "metadata": {},
   "outputs": [],
   "source": [
    "adata_ronzoni = sc.read('data/processed/ronzoni.h5')"
   ]
  },
  {
   "cell_type": "code",
   "execution_count": null,
   "id": "4ffeb815-06a7-42d5-b92f-f92b1f1999ab",
   "metadata": {},
   "outputs": [],
   "source": [
    "adata_ronzoni.obs['id'] = adata_ronzoni.obs_names\n",
    "assign_cats(adata_ronzoni, column_groupby='id', dict_cats={'A': A_markers, 'B': B_markers}, min_score=0.3, \n",
    "            others_name='-', key_added='krano_type')\n",
    "adata_ronzoni.uns['krano_type_colors'] = list_colors"
   ]
  },
  {
   "cell_type": "code",
   "execution_count": null,
   "id": "f084babf-c820-4b14-84b1-863beb180e39",
   "metadata": {},
   "outputs": [],
   "source": [
    "sc.pl.umap(adata_ronzoni, color=['krano_type', 'cell_type'] , cmap=magma, alpha=0.6)"
   ]
  },
  {
   "cell_type": "code",
   "execution_count": null,
   "id": "9308dc04-f48b-43f3-8c0e-d5572df07303",
   "metadata": {},
   "outputs": [],
   "source": [
    "sc.pl.umap(adata_ronzoni, color=['krano_type', 'cell_type'] + [i for i in A_markers if i in adata_ronzoni.var_names], \n",
    "           cmap=magma, alpha=0.6)"
   ]
  },
  {
   "cell_type": "code",
   "execution_count": null,
   "id": "bc98bce9-81d6-427c-917b-b93b9d8cc0d3",
   "metadata": {},
   "outputs": [],
   "source": [
    "sc.pl.umap(adata_ronzoni, color=['krano_type', 'cell_type'] + [i for i in B_markers if i in adata_ronzoni.var_names], \n",
    "           cmap=magma, alpha=0.6)"
   ]
  },
  {
   "cell_type": "markdown",
   "id": "c68bbf61-f888-4413-a076-a5b8a1a712b4",
   "metadata": {},
   "source": [
    "## Subsample of populations"
   ]
  },
  {
   "cell_type": "code",
   "execution_count": null,
   "id": "9fa2b5fd-f058-4d0d-a408-26ea9a7cd60a",
   "metadata": {},
   "outputs": [],
   "source": [
    "adata_ronzoni_sub = adata_ronzoni[adata_ronzoni.obs['cell_type'].isin(['Lum+ FAP', 'Prg4+ FAP', 'Endothelial', 'Perivascular', 'Tenocyte', 'Neural cell', 'Glial cell'])]\n",
    "\n",
    "sc.pp.filter_genes(adata_ronzoni_sub, min_counts=1)\n",
    "\n",
    "sc.pp.pca(adata_ronzoni_sub, random_state=seed, n_comps=30)\n",
    "sc.pp.neighbors(adata_ronzoni_sub, random_state=seed, n_neighbors=int(len(adata_ronzoni_sub) ** 0.5 // 4), metric='cosine')\n",
    "tk.tl.triku(adata_ronzoni_sub)\n",
    "\n",
    "sc.tl.umap(adata_ronzoni_sub, min_dist=0.5, random_state=seed)\n",
    "sc.tl.leiden(adata_ronzoni_sub, resolution=3.5, random_state=seed)\n",
    "\n",
    "assign_cats(adata_ronzoni_sub, column_groupby='id', \n",
    "            dict_cats={'A': A_markers, 'B': B_markers}, \n",
    "            min_score=0.25, others_name='-', key_added='krano_type')\n",
    "\n",
    "sc.pl.umap(adata_ronzoni_sub, color=['leiden', 'cell_type', 'krano_type'], legend_loc='on data')"
   ]
  },
  {
   "cell_type": "code",
   "execution_count": null,
   "id": "e48ea002-4ee6-4f13-a9a1-23c10eca7817",
   "metadata": {},
   "outputs": [],
   "source": [
    "adata_ronzoni_sub.write_h5ad('data/processed/ronzoni_sub.h5')\n",
    "adata_ronzoni.write_h5ad('data/processed/ronzoni.h5')"
   ]
  },
  {
   "cell_type": "markdown",
   "id": "e2391f6b-9920-49d7-9c5b-a606e59449ae",
   "metadata": {},
   "source": [
    "## Dell'Orso"
   ]
  },
  {
   "cell_type": "code",
   "execution_count": null,
   "id": "a5e36746-737c-4e5e-abcb-52b157163ad2",
   "metadata": {},
   "outputs": [],
   "source": [
    "adata_dellorso = sc.read('data/processed/dellorso.h5')"
   ]
  },
  {
   "cell_type": "code",
   "execution_count": null,
   "id": "e869158d-0f4b-4a16-92f8-e6efec069efe",
   "metadata": {},
   "outputs": [],
   "source": [
    "adata_dellorso.obs['id'] = adata_dellorso.obs_names\n",
    "assign_cats(adata_dellorso, column_groupby='id', dict_cats={'A': A_markers, 'B': B_markers}, min_score=0.4, \n",
    "            others_name='-', key_added='krano_type')\n",
    "adata_dellorso.uns['krano_type_colors'] = list_colors"
   ]
  },
  {
   "cell_type": "code",
   "execution_count": null,
   "id": "820e8529-33ce-452b-b7d8-adf2dc59db3f",
   "metadata": {},
   "outputs": [],
   "source": [
    "sc.pl.umap(adata_dellorso, color=['krano_type', 'cell_type'] , cmap=magma, alpha=0.6)"
   ]
  },
  {
   "cell_type": "code",
   "execution_count": null,
   "id": "b4bbdf95-f91e-476c-8541-5537fbdfdd1e",
   "metadata": {},
   "outputs": [],
   "source": [
    "sc.pl.umap(adata_dellorso, color=['krano_type', 'cell_type'] + [i for i in A_markers if i in adata_dellorso.var_names], \n",
    "           cmap=magma, alpha=0.6)"
   ]
  },
  {
   "cell_type": "code",
   "execution_count": null,
   "id": "ed3cc3f2-dbfa-454b-bfc8-1b227824c2da",
   "metadata": {},
   "outputs": [],
   "source": [
    "sc.pl.umap(adata_dellorso, color=['krano_type', 'cell_type'] + [i for i in B_markers if i in adata_dellorso.var_names], \n",
    "           cmap=magma, alpha=0.6)"
   ]
  },
  {
   "cell_type": "markdown",
   "id": "b69355b2-3543-4a9d-bd01-07fe2eb5c878",
   "metadata": {},
   "source": [
    "## Subsample of populations"
   ]
  },
  {
   "cell_type": "code",
   "execution_count": null,
   "id": "55a5c8c2-de67-4f59-a92c-ab40f2ea2b7e",
   "metadata": {},
   "outputs": [],
   "source": [
    "adata_dellorso_sub = adata_dellorso[adata_dellorso.obs['cell_type'].isin(['Lum+ FAP', 'Prg4+ FAP', 'Epcam+', 'Endothelial', 'Perivascular', 'Tenocyte', 'Neural cell', 'Glial cell'])]\n",
    "\n",
    "sc.pp.filter_genes(adata_dellorso_sub, min_counts=1)\n",
    "\n",
    "sc.pp.pca(adata_dellorso_sub, random_state=seed, n_comps=30)\n",
    "sce.pp.bbknn(adata_dellorso_sub, metric='angular', neighbors_within_batch=3)\n",
    "tk.tl.triku(adata_dellorso_sub)\n",
    "\n",
    "sc.tl.umap(adata_dellorso_sub, min_dist=0.8, random_state=seed)\n",
    "sc.tl.leiden(adata_dellorso_sub, resolution=3.5, random_state=seed)\n",
    "\n",
    "assign_cats(adata_dellorso_sub, column_groupby='id', dict_cats={'A': A_markers, 'B': B_markers}, min_score=0.2, others_name='-', key_added='krano_type')\n",
    "\n",
    "sc.pl.umap(adata_dellorso_sub, color=['leiden', 'cell_type', 'krano_type'], legend_loc='on data')"
   ]
  },
  {
   "cell_type": "code",
   "execution_count": null,
   "id": "81101d9e-43f6-4b80-8c6d-59f186faa9f2",
   "metadata": {},
   "outputs": [],
   "source": [
    "adata_dellorso_sub.write_h5ad('data/processed/dellorso_sub.h5')\n",
    "adata_dellorso.write_h5ad('data/processed/dellorso.h5')"
   ]
  },
  {
   "cell_type": "markdown",
   "id": "c5143e63-2988-45a9-9fce-90ef270fa1d5",
   "metadata": {},
   "source": [
    "# Analysis of *interesting* kranocyte populations"
   ]
  },
  {
   "cell_type": "markdown",
   "id": "c6c17542-7bb5-4e35-b9ba-57217cdfeabc",
   "metadata": {},
   "source": [
    "## Analysis of Krano A population in Giordani et al.\n",
    "It is common to see two separate kranocyte populations in general datasets (De Micheli, Giordani and Dell'Orso, for instance), but when the populations of interest are separated they merge into one population, or two similar ones. However, in Giordani we see that these two populations still remain separated. We see that one of them is Nipal1$^+$, and the other one is Saa1$^+$. We are going to see their differences to see if these patterns replicate in other papers."
   ]
  },
  {
   "cell_type": "markdown",
   "id": "ce8965d2-e374-42f0-908a-ffa26a0ba0b3",
   "metadata": {},
   "source": [
    "**This part is not reproducible. Set the clusters to match the populations by hand.**"
   ]
  },
  {
   "cell_type": "markdown",
   "id": "37dd8bae-93d6-4a33-9c4d-c9f5c0a265ab",
   "metadata": {},
   "source": [
    "### Giordani"
   ]
  },
  {
   "cell_type": "code",
   "execution_count": null,
   "id": "79ab696f-8414-4ca5-a273-20fc6cd55df9",
   "metadata": {},
   "outputs": [],
   "source": [
    "sc.pl.umap(adata_giordani_sub, color=['krano_type', 'leiden', 'cell_type'] + [i for i in A_markers if i in adata_giordani.var_names], \n",
    "           cmap=magma, alpha=0.6, ncols=3, legend_loc='on data')"
   ]
  },
  {
   "cell_type": "code",
   "execution_count": null,
   "id": "0bb34686-2ddf-4f60-912e-6eebf465dbb9",
   "metadata": {},
   "outputs": [],
   "source": [
    "cells_A_1 = adata_giordani_sub[(adata_giordani_sub.obs['krano_type'] == 'A') & (adata_giordani_sub.obs['leiden'].isin(['19', '27']))].obs_names\n",
    "cells_A_2 = adata_giordani_sub[(adata_giordani_sub.obs['krano_type'] == 'A') & (adata_giordani_sub.obs['leiden'].isin(['40']))].obs_names\n",
    "\n",
    "df = pd.Series('-', index=adata_giordani_sub.obs_names)\n",
    "df.loc[cells_A_1] = 'A1'\n",
    "df.loc[cells_A_2]  ='A2'\n",
    "\n",
    "adata_giordani_sub.obs['kranos_A'] = df"
   ]
  },
  {
   "cell_type": "code",
   "execution_count": null,
   "id": "1365a581-cf2b-4041-ae64-e788b6c6e783",
   "metadata": {},
   "outputs": [],
   "source": [
    "sc.tl.rank_genes_groups(adata_giordani_sub, groupby='kranos_A', groups=['A1'], reference='A2')\n",
    "A1_genes_giordani = list(adata_giordani_sub.uns['rank_genes_groups']['names']['A1'][:150]) \n",
    "A2_genes_giordani = list(adata_giordani_sub.uns['rank_genes_groups']['names']['A1'][-150:][::-1]) "
   ]
  },
  {
   "cell_type": "markdown",
   "id": "d3a8e9e6-89ac-4ba9-878f-08166be290bb",
   "metadata": {},
   "source": [
    "### Dell'Orso"
   ]
  },
  {
   "cell_type": "code",
   "execution_count": null,
   "id": "260a0f3b-26fa-4c4a-a42d-07194bc11b78",
   "metadata": {},
   "outputs": [],
   "source": [
    "sc.pl.umap(adata_dellorso, color=['krano_type', 'leiden', 'cell_type'] + [i for i in A_markers if i in adata_dellorso_sub.var_names], \n",
    "           cmap=magma, alpha=0.6, ncols=3, legend_loc='on data')"
   ]
  },
  {
   "cell_type": "code",
   "execution_count": null,
   "id": "30b8df6f-a143-4df8-a980-739dbea9ae6c",
   "metadata": {},
   "outputs": [],
   "source": [
    "cells_A_1 = adata_dellorso[(adata_dellorso.obs['krano_type'] == 'A') & (adata_dellorso.obs['leiden'].isin(['1', '13', '8']))].obs_names\n",
    "cells_A_2 = adata_dellorso[(adata_dellorso.obs['krano_type'] == 'A') & (adata_dellorso.obs['leiden'].isin(['20']))].obs_names\n",
    "\n",
    "df = pd.Series('-', index=adata_dellorso.obs_names)\n",
    "df.loc[cells_A_1] = 'A1'\n",
    "df.loc[cells_A_2]  ='A2'\n",
    "\n",
    "adata_dellorso.obs['kranos_A'] = df"
   ]
  },
  {
   "cell_type": "code",
   "execution_count": null,
   "id": "0d1c17eb-05c5-4876-8955-44145a9caeef",
   "metadata": {},
   "outputs": [],
   "source": [
    "sc.tl.rank_genes_groups(adata_dellorso, groupby='kranos_A', groups=['A1'], reference='A2')\n",
    "A1_genes_dellorso = list(adata_dellorso.uns['rank_genes_groups']['names']['A1'][:150]) \n",
    "A2_genes_dellorso = list(adata_dellorso.uns['rank_genes_groups']['names']['A1'][-150:][::-1]) "
   ]
  },
  {
   "cell_type": "markdown",
   "id": "f1d5993d-448a-483a-8088-09c46fd43051",
   "metadata": {},
   "source": [
    "### Merge  and selection of genes\n",
    "We will now select the A1 and A2 genes based on some criteria:\n",
    "* The gene is clearly expressed in the cell type\n",
    "* The gene is somewhat *specific* of kranocyte. If the gene is clearly overexpressed, we don't need to apply that criterion."
   ]
  },
  {
   "cell_type": "code",
   "execution_count": null,
   "id": "d7a9b4d6-83cf-47ce-a508-f737e72304f4",
   "metadata": {},
   "outputs": [],
   "source": [
    "A1_genes_both = list(np.intersect1d(A1_genes_dellorso, A1_genes_giordani))\n",
    "A2_genes_both = list(np.intersect1d(A2_genes_dellorso, A2_genes_giordani))"
   ]
  },
  {
   "cell_type": "code",
   "execution_count": null,
   "id": "c6e73e39-7958-42a9-9949-8bf46db7e2de",
   "metadata": {},
   "outputs": [],
   "source": [
    "sc.pl.umap(adata_de_micheli_mouse_d0, color=['krano_type', 'cell_type'] + ['Ngf', 'Ngfr'], cmap=magma, alpha=0.6, ncols=3, legend_loc='on data')"
   ]
  },
  {
   "cell_type": "code",
   "execution_count": null,
   "id": "18a99607-b38b-4b96-8d2d-0b1029a480f2",
   "metadata": {},
   "outputs": [],
   "source": [
    "sc.pl.umap(adata_dellorso, color=['krano_type', 'cell_type'] + A1_genes_both, cmap=magma, alpha=0.6, ncols=3, legend_loc='on data')"
   ]
  },
  {
   "cell_type": "code",
   "execution_count": null,
   "id": "0eaa1698-a21c-4b9a-bde4-1192dfe4ce18",
   "metadata": {},
   "outputs": [],
   "source": [
    "sc.pl.umap(adata_dellorso, color=['krano_type', 'cell_type'] + A2_genes_both, cmap=magma, alpha=0.6, ncols=3, legend_loc='on data')"
   ]
  },
  {
   "cell_type": "code",
   "execution_count": null,
   "id": "a5283ce0-320a-4fed-ba3e-d59ef1ded3cc",
   "metadata": {},
   "outputs": [],
   "source": [
    "sc.pl.umap(adata_giordani_sub, color=['krano_type', 'cell_type'] + A2_genes_both, cmap=magma, alpha=0.6, ncols=3, legend_loc='on data')"
   ]
  },
  {
   "cell_type": "markdown",
   "id": "bfdf34c8-b849-416a-8c21-08a4943a474d",
   "metadata": {},
   "source": [
    "## De Micheli A krano differences are due to stress"
   ]
  },
  {
   "cell_type": "code",
   "execution_count": null,
   "id": "18e2d61f-f3f3-47aa-9215-37c942da36f2",
   "metadata": {},
   "outputs": [],
   "source": [
    "sc.pl.umap(adata_de_micheli_mouse_d0, color=['krano_type', 'leiden', 'cell_type'] + [i for i in A_markers if i in adata_dellorso_sub.var_names], \n",
    "           cmap=magma, alpha=0.6, ncols=3, legend_loc='on data')"
   ]
  },
  {
   "cell_type": "code",
   "execution_count": null,
   "id": "a29c34b4-ea8b-4342-b17c-d536e847d439",
   "metadata": {},
   "outputs": [],
   "source": [
    "cells_A_1 = adata_de_micheli_mouse_d0[(adata_de_micheli_mouse_d0.obs['krano_type'] == 'A') & (adata_de_micheli_mouse_d0.obs['leiden'].isin(['29']))].obs_names\n",
    "cells_A_2 = adata_de_micheli_mouse_d0[(adata_de_micheli_mouse_d0.obs['krano_type'] == 'A') & (adata_de_micheli_mouse_d0.obs['leiden'].isin(['28']))].obs_names\n",
    "\n",
    "df = pd.Series('-', index=adata_de_micheli_mouse_d0.obs_names)\n",
    "df.loc[cells_A_1] = 'A1'\n",
    "df.loc[cells_A_2]  ='A2'\n",
    "\n",
    "adata_de_micheli_mouse_d0.obs['kranos_A'] = df"
   ]
  },
  {
   "cell_type": "code",
   "execution_count": null,
   "id": "6d28169e-0ffc-49d7-a6c3-1230332a9e48",
   "metadata": {},
   "outputs": [],
   "source": [
    "sc.tl.rank_genes_groups(adata_de_micheli_mouse_d0, groupby='kranos_A', groups=['A1'], reference='A2')\n",
    "A1_genes_demicheli = list(adata_de_micheli_mouse_d0.uns['rank_genes_groups']['names']['A1'][:35]) \n",
    "A2_genes_demicheli = list(adata_de_micheli_mouse_d0.uns['rank_genes_groups']['names']['A1'][-35:][::-1]) "
   ]
  },
  {
   "cell_type": "code",
   "execution_count": null,
   "id": "494e532e-c17f-4e64-b265-cfcd343ad2ba",
   "metadata": {},
   "outputs": [],
   "source": [
    "sc.pl.umap(adata_de_micheli_mouse_d0, color=['krano_type', 'leiden', 'cell_type'] +\n",
    "           list(A1_genes_demicheli), \n",
    "           cmap=magma, alpha=0.6, ncols=3, legend_loc='on data')"
   ]
  },
  {
   "cell_type": "code",
   "execution_count": null,
   "id": "883650f3-da1b-4003-916c-a8a61e7ead77",
   "metadata": {},
   "outputs": [],
   "source": [
    "sc.pl.umap(adata_de_micheli_mouse_d0, color=['krano_type', 'leiden', 'cell_type'] +\n",
    "           list(A2_genes_demicheli), \n",
    "           cmap=magma, alpha=0.6, ncols=3, legend_loc='on data')"
   ]
  },
  {
   "cell_type": "markdown",
   "id": "buried-opposition",
   "metadata": {},
   "source": [
    "# Running datasets against markers"
   ]
  },
  {
   "cell_type": "markdown",
   "id": "minus-jersey",
   "metadata": {},
   "source": [
    "## Kumar et al 2017 PC1 and PC2"
   ]
  },
  {
   "cell_type": "code",
   "execution_count": null,
   "id": "floral-understanding",
   "metadata": {},
   "outputs": [],
   "source": [
    "list_genes = ['Krano_type'] + ['Rgs5', 'Acta2', 'Cxcl1', 'Cxcl2', 'Cxcl5', 'Il6', 'Il1b']\n",
    "\n",
    "fig, axs = plt.subplots(len(list_genes), 3, figsize=(18, 4 * len(list_genes)))\n",
    "\n",
    "for idx, gene in enumerate(list_genes):\n",
    "    try:\n",
    "        sc.pl.umap(adata_de_micheli_mouse_d0, color=gene, cmap=magma, ax=axs[idx][0], show=False, legend_loc='on data')\n",
    "        sc.pl.umap(adata_oprescu_d0, color=gene, cmap=magma, ax=axs[idx][1], show=False, legend_loc='on data')\n",
    "        sc.pl.umap(adata_scott_d0, color=gene, cmap=magma, ax=axs[idx][2], show=False, legend_loc='on data')\n",
    "    except:\n",
    "        pass"
   ]
  },
  {
   "cell_type": "markdown",
   "id": "alone-blend",
   "metadata": {},
   "source": [
    "## Kumar et al 2017 Capillary proinflammatory/capillary and contractile/arteriolar PCs"
   ]
  },
  {
   "cell_type": "code",
   "execution_count": null,
   "id": "headed-month",
   "metadata": {},
   "outputs": [],
   "source": [
    "list_genes = ['Krano_type'] + ['Cd274', 'Dlk1', 'Nt5e'] # Cd73 = Nt5e\n",
    "\n",
    "fig, axs = plt.subplots(len(list_genes), 3, figsize=(18, 4 * len(list_genes)))\n",
    "\n",
    "for idx, gene in enumerate(list_genes):\n",
    "    try:\n",
    "        sc.pl.umap(adata_de_micheli_mouse_d0, color=gene, cmap=magma, ax=axs[idx][0], show=False, legend_loc='on data')\n",
    "        sc.pl.umap(adata_oprescu_d0, color=gene, cmap=magma, ax=axs[idx][1], show=False, legend_loc='on data')\n",
    "        sc.pl.umap(adata_scott_d0, color=gene, cmap=magma, ax=axs[idx][2], show=False, legend_loc='on data')\n",
    "    except:\n",
    "        pass"
   ]
  },
  {
   "cell_type": "markdown",
   "id": "million-luxury",
   "metadata": {},
   "source": [
    "## Birbrair PCs"
   ]
  },
  {
   "cell_type": "code",
   "execution_count": null,
   "id": "visible-separate",
   "metadata": {},
   "outputs": [],
   "source": [
    "list_genes = ['Krano_type'] + ['Pdgfrb', 'Mcam', 'Cspg4', 'Nes'] # Cd146 = Mcam, Ng2 = Cspg4\n",
    "\n",
    "fig, axs = plt.subplots(len(list_genes), 3, figsize=(18, 4 * len(list_genes)))\n",
    "\n",
    "for idx, gene in enumerate(list_genes):\n",
    "    try:\n",
    "        sc.pl.umap(adata_de_micheli_mouse_d0, color=gene, cmap=magma, ax=axs[idx][0], show=False, legend_loc='on data')\n",
    "        sc.pl.umap(adata_oprescu_d0, color=gene, cmap=magma, ax=axs[idx][1], show=False, legend_loc='on data')\n",
    "        sc.pl.umap(adata_scott_d0, color=gene, cmap=magma, ax=axs[idx][2], show=False, legend_loc='on data')\n",
    "    except:\n",
    "        pass"
   ]
  },
  {
   "cell_type": "markdown",
   "id": "filled-doctrine",
   "metadata": {},
   "source": [
    "## Camps ISC\n",
    "\n",
    "* ISC1: Ly6c1, Cd55\n",
    "* ISC2: Gdf10, Meox2, F3/Cd142\n",
    "* ISC3: Thbs4, Fbln7, Sdc1"
   ]
  },
  {
   "cell_type": "code",
   "execution_count": null,
   "id": "noticed-scientist",
   "metadata": {},
   "outputs": [],
   "source": [
    "list_genes = ['Krano_type'] + ['Cd55', 'F3', 'Sdc1']\n",
    "\n",
    "fig, axs = plt.subplots(len(list_genes), 3, figsize=(18, 4 * len(list_genes)))\n",
    "\n",
    "for idx, gene in enumerate(list_genes):\n",
    "    try:\n",
    "        sc.pl.umap(adata_de_micheli_mouse_d0, color=gene, cmap=magma, ax=axs[idx][0], show=False, legend_loc='on data')\n",
    "        sc.pl.umap(adata_oprescu_d0, color=gene, cmap=magma, ax=axs[idx][1], show=False, legend_loc='on data')\n",
    "        sc.pl.umap(adata_scott_d0, color=gene, cmap=magma, ax=axs[idx][2], show=False, legend_loc='on data')\n",
    "    except:\n",
    "        pass"
   ]
  },
  {
   "cell_type": "markdown",
   "id": "acting-transcription",
   "metadata": {},
   "source": [
    "# Beautiful figs"
   ]
  },
  {
   "cell_type": "code",
   "execution_count": null,
   "id": "derived-turkey",
   "metadata": {},
   "outputs": [],
   "source": [
    "if not os.path.exists(fig_dir + 'clusters/'): os.makedirs(fig_dir + 'clusters/')"
   ]
  },
  {
   "cell_type": "code",
   "execution_count": null,
   "id": "searching-thanksgiving",
   "metadata": {},
   "outputs": [],
   "source": [
    "# MPL config\n",
    "font = {'family' : 'normal',\n",
    "        'weight' : 'light',\n",
    "        'size'   : 15}\n",
    "\n",
    "mpl.rc('font', **font)"
   ]
  },
  {
   "cell_type": "code",
   "execution_count": null,
   "id": "listed-antigua",
   "metadata": {},
   "outputs": [],
   "source": [
    "def makefig(list_genes, name_order=None, adata_list=[adata_oprescu_d0, adata_scott_d0, adata_de_micheli_mouse_d0, adata_giordani], \n",
    "           list_datasets = ['Oprescu', 'Scott', 'De Micheli', 'Giordani']):\n",
    "    n_cols = len(adata_list)\n",
    "    fig, axs = plt.subplots(len(list_genes), n_cols, figsize=(6 * n_cols, 4 * len(list_genes)))\n",
    "    \n",
    "        \n",
    "    for idx, gene in enumerate(list_genes):\n",
    "        try:\n",
    "            for adata_idx, adata in enumerate(adata_list):\n",
    "                sc.pl.umap(adata, color=gene, cmap=magma, ax=axs[idx][adata_idx], show=False, legend_fontsize=11)\n",
    "        except:\n",
    "            raise\n",
    "               \n",
    "    for ax_idx, ax in enumerate(axs.ravel()):\n",
    "        ax.spines['top'].set_visible(False)\n",
    "        ax.spines['right'].set_visible(False)\n",
    "        ax.spines['bottom'].set_visible(False)\n",
    "        if ax_idx % n_cols == 0:\n",
    "            ax.spines['left'].set_visible(False)\n",
    "            \n",
    "        ax.set_xlabel('')\n",
    "        \n",
    "        if ax_idx % n_cols == 0:\n",
    "            ax.set_ylabel(list_genes[ax_idx // n_cols])\n",
    "        else:\n",
    "            ax.set_ylabel('')\n",
    "            \n",
    "        if ax_idx in range(len(list_datasets)):\n",
    "            ax.set_title(list_datasets[ax_idx])\n",
    "        else:\n",
    "            ax.set_title('')\n",
    "            \n",
    "        # legend unification \n",
    "        if ax_idx % n_cols == 0:\n",
    "            dict_legends = {}\n",
    "        \n",
    "        try:\n",
    "            legend = ax.get_legend()\n",
    "            names, handles = [str(x._text) for x in legend.texts], legend.legendHandles  \n",
    "            for i in range(len(names)):\n",
    "                dict_legends[names[i]] = handles[i]\n",
    "            if ax_idx % n_cols != n_cols - 1:\n",
    "                ax.get_legend().remove()\n",
    "            else:\n",
    "                if name_order is None:\n",
    "                    ax.legend(dict_legends.values(), dict_legends.keys(), bbox_to_anchor=(1.05, 1), frameon=False, prop={'size': 11})\n",
    "                else:\n",
    "                    ax.legend([dict_legends[i] for i in name_order if i in dict_legends.keys()], \n",
    "                              [i for i in name_order if i in dict_legends.keys()], bbox_to_anchor=(1.05, 1), frameon=False, prop={'size': 11})\n",
    "        except:\n",
    "            pass \n",
    "        \n",
    "    \n",
    "    plt.tight_layout()\n",
    "    plt.savefig(fig_dir + 'clusters/' + '-'.join(list_genes) + '.png', dpi=500)\n",
    "    plt.savefig(fig_dir + 'clusters/' + '-'.join(list_genes) + '.pdf')\n",
    "    \n"
   ]
  },
  {
   "cell_type": "code",
   "execution_count": null,
   "id": "unavailable-dating",
   "metadata": {},
   "outputs": [],
   "source": [
    "name_order = ['Endothelial', 'Pericyte', 'Fibroblast', 'FAP', 'Tenocyte', 'Neural cell',\n",
    "                                                          'Myonuclei', 'MuSC', 'Immune', 'APC / Proliferative ICs', \n",
    "                                                          'Monocyte', 'Neutrophil', 'Myeloid', 'B cell', 'T cell', 'A', 'B', 'C', 'Other']"
   ]
  },
  {
   "cell_type": "code",
   "execution_count": null,
   "id": "confident-evolution",
   "metadata": {},
   "outputs": [],
   "source": [
    "makefig(['cell_type', 'Krano_type'], name_order=name_order)"
   ]
  },
  {
   "cell_type": "code",
   "execution_count": null,
   "id": "requested-motorcycle",
   "metadata": {},
   "outputs": [],
   "source": [
    "# Cluster 7\n",
    "makefig(['cell_type', 'Krano_type', 'Cxcl14', 'G0s2', 'Adamtsl2', 'Saa1', 'Thrsp'], name_order=name_order)"
   ]
  },
  {
   "cell_type": "code",
   "execution_count": null,
   "id": "reverse-bowling",
   "metadata": {},
   "outputs": [],
   "source": [
    "makefig(['Krano_type', 'Cd34', 'S100b'], name_order=name_order)\n",
    "makefig(['Krano_type', 'Pdgfrb', 'Sox10'], name_order=name_order)\n",
    "makefig(['Krano_type', 'Ngfr', 'Cspg4'], name_order=name_order)\n",
    "makefig(['Krano_type', 'Col9a2', 'Shisa3'], name_order=name_order)"
   ]
  },
  {
   "cell_type": "code",
   "execution_count": null,
   "id": "level-medicare",
   "metadata": {},
   "outputs": [],
   "source": [
    "makefig(['Krano_type', '6030408B16Rik', 'Col18a1'], name_order=name_order)\n",
    "makefig(['Krano_type', 'Col9a2', 'Cldn1'], name_order=name_order)\n",
    "makefig(['Krano_type', 'Dlk1', 'Fetub'], name_order=name_order)\n",
    "makefig(['Krano_type', 'Gpld1', 'Grin2b'], name_order=name_order)\n",
    "makefig(['Krano_type', 'Kcnb2', 'Lypd2'], name_order=name_order)\n",
    "makefig(['Krano_type', 'Mansc4', 'Nipal1'], name_order=name_order)\n",
    "makefig(['Krano_type', 'Saa1', 'Shisa3'], name_order=name_order)\n",
    "makefig(['Krano_type', 'Tenm2', 'Trpm6'], name_order=name_order)"
   ]
  },
  {
   "cell_type": "code",
   "execution_count": null,
   "id": "preceding-moscow",
   "metadata": {},
   "outputs": [],
   "source": [
    "makefig(['Tnc', 'Tnmd', 'Nipal1', 'Dlk1'], name_order=name_order, \n",
    "        adata_list=[adata_oprescu_d0, adata_oprescu_d2, adata_oprescu_d35, adata_oprescu_d5, adata_oprescu_d10, adata_oprescu_d21], \n",
    "        list_datasets=['D0', 'D2', 'D3.5', 'D5', 'D10', 'D21'])"
   ]
  }
 ],
 "metadata": {
  "kernelspec": {
   "display_name": "Python [conda env:alex-base] *",
   "language": "python",
   "name": "conda-env-alex-base-py"
  },
  "language_info": {
   "codemirror_mode": {
    "name": "ipython",
    "version": 3
   },
   "file_extension": ".py",
   "mimetype": "text/x-python",
   "name": "python",
   "nbconvert_exporter": "python",
   "pygments_lexer": "ipython3",
   "version": "3.8.0"
  }
 },
 "nbformat": 4,
 "nbformat_minor": 5
}
