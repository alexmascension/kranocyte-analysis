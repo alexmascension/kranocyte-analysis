{
 "cells": [
  {
   "cell_type": "code",
   "execution_count": null,
   "id": "tracked-cartridge",
   "metadata": {},
   "outputs": [],
   "source": [
    "import scanpy as sc\n",
    "import scanpy.external as sce\n",
    "import pandas as pd\n",
    "import numpy as np\n",
    "import os\n",
    "import triku as tk\n",
    "import matplotlib.pyplot as plt\n",
    "import matplotlib as mpl\n",
    "from tqdm.notebook import tqdm\n",
    "import ray\n",
    "import subprocess\n",
    "from scipy.sparse import csr_matrix\n",
    "from IPython.display import display, HTML\n",
    "\n",
    "from tqdm.notebook import tqdm\n",
    "\n",
    "from bokeh.io import show, output_notebook, reset_output\n",
    "\n",
    "reset_output()\n",
    "output_notebook()"
   ]
  },
  {
   "cell_type": "code",
   "execution_count": null,
   "id": "5fe3d0db-510b-4a4b-b5a3-cda0371474a6",
   "metadata": {},
   "outputs": [],
   "source": [
    "from cellassign import assign_cats"
   ]
  },
  {
   "cell_type": "code",
   "execution_count": null,
   "id": "yellow-fishing",
   "metadata": {},
   "outputs": [],
   "source": [
    "data_dir = 'data/'\n",
    "fig_dir = 'figures/'"
   ]
  },
  {
   "cell_type": "code",
   "execution_count": null,
   "id": "statutory-founder",
   "metadata": {},
   "outputs": [],
   "source": [
    "# Palettes for UMAP gene expression\n",
    "\n",
    "magma = [plt.get_cmap('magma')(i) for i in np.linspace(0,1, 80)]\n",
    "magma[0] = (0.88, 0.88, 0.88, 1)\n",
    "magma = mpl.colors.LinearSegmentedColormap.from_list(\"\", magma[:65])\n",
    "\n",
    "seed = 0"
   ]
  },
  {
   "cell_type": "code",
   "execution_count": null,
   "id": "8c2d0ef6-93a2-4dc0-88b3-57da52c538a0",
   "metadata": {},
   "outputs": [],
   "source": [
    "dict_cats_general = {'Lum+ FAP': ['Apod', 'Lum', 'Ly6a', 'Pdgfra', 'Mfap5', 'Dcn'], \n",
    "                     'Prg4+ FAP': ['Prg4', 'Fbn1', 'Ly6a', 'Pdgfra', 'Mfap5', 'Dcn'], \n",
    "                     'Endothelial': ['Pecam1', 'Kdr', 'Fabp4', 'Cav1', 'Cdh5', 'Tek'], \n",
    "                     'Pericyte': ['Rgs5', 'Notch3', 'Myl9', 'Ndufa4l2', 'Itga7', 'Myh11', 'Pln', 'Abcc9'], \n",
    "                     'Satellite cell': ['Pax7', 'Myod1', 'Chodl', 'Vcam1', 'Sdc4', 'Myf5',], \n",
    "                     'Myonuclei': ['Tnnc2', 'Myh4', 'Acta1', 'Ckm', 'Tpm2', 'Eno3', 'Slc25a4'], \n",
    "                     'Tenocyte': ['Scx', 'Tnmd', 'Mkx', 'Col12a1', 'Col1a1', 'Tnc', 'Fmod', 'Comp'], \n",
    "                     'Neural cell': ['Mpz', 'Ptn', 'S100b'], \n",
    "                     'Glial cell': ['Plp1', 'Kcna1', 'S100b', 'Mbp', 'Mpz',],\n",
    "                     'Guide cell': ['Ncam2'],\n",
    "                     'Immune': ['H2-Aa', 'Cd74'], \n",
    "                     'APC': ['H2-Eb1', 'H2-Ab1'],\n",
    "                     'APC / Proliferative ICs': ['Mki67', 'Top2a'], \n",
    "                     'B cell': ['Cd19', 'Cd22', 'Ms4a1', 'Ptprc'], \n",
    "                     'T cell': ['Cd3d', 'Cd3e', 'Cd3g', 'Cd8a', 'Cd4', 'Ptprc', 'Cd28'], \n",
    "                     'Monocyte': ['Csf1r', 'Adgre1'], \n",
    "                     'Macrophage': ['Itgam', 'Csf1r', 'Adgre1', 'Itgb1', 'Cd68'],\n",
    "                     'Myeloid': ['Clec12a', 'Acp5'], \n",
    "                     'Neutrophil': ['S100a8', 'S100a9', 'Itgam', 'Cd14', ], \n",
    "                     'Epcam+': ['Epcam']}"
   ]
  },
  {
   "cell_type": "markdown",
   "id": "alien-recognition",
   "metadata": {},
   "source": [
    "# Oprescu 2020"
   ]
  },
  {
   "cell_type": "code",
   "execution_count": null,
   "id": "dependent-classics",
   "metadata": {},
   "outputs": [],
   "source": [
    "oprescu_dir = data_dir + '/oprescu'"
   ]
  },
  {
   "cell_type": "code",
   "execution_count": null,
   "id": "handmade-headset",
   "metadata": {},
   "outputs": [],
   "source": [
    "link = 'https://ftp.ncbi.nlm.nih.gov/geo/series/GSE138nnn/GSE138826/suppl/GSE138826%5Fexpression%5Fmatrix%2Etxt%2Egz'"
   ]
  },
  {
   "cell_type": "code",
   "execution_count": null,
   "id": "korean-freeze",
   "metadata": {},
   "outputs": [],
   "source": [
    "!aria2c -x 16 {link} -d {oprescu_dir}"
   ]
  },
  {
   "cell_type": "code",
   "execution_count": null,
   "id": "baking-software",
   "metadata": {},
   "outputs": [],
   "source": [
    "adata_oprescu = sc.read_text(oprescu_dir+'/GSE138826_expression_matrix.txt.gz').transpose()\n",
    "adata_oprescu.write_loom(oprescu_dir+'/adata_oprescu.loom')"
   ]
  },
  {
   "cell_type": "code",
   "execution_count": null,
   "id": "measured-entry",
   "metadata": {},
   "outputs": [],
   "source": [
    "adata_oprescu = sc.read_loom(oprescu_dir+'/adata_oprescu.loom')"
   ]
  },
  {
   "cell_type": "code",
   "execution_count": null,
   "id": "increased-pride",
   "metadata": {},
   "outputs": [],
   "source": [
    "adata_oprescu.obs['batch'] = [i.split('_')[0] for i in adata_oprescu.obs_names]"
   ]
  },
  {
   "cell_type": "code",
   "execution_count": null,
   "id": "dietary-parade",
   "metadata": {},
   "outputs": [],
   "source": [
    "# Basic QC filtering\n",
    "adata_oprescu.var['mt'] = adata_oprescu.var_names.str.startswith('mt-')  # annotate the group of mitochondrial genes as 'mt'\n",
    "sc.pp.calculate_qc_metrics(adata_oprescu, qc_vars=['mt'], percent_top=None, inplace=True)"
   ]
  },
  {
   "cell_type": "code",
   "execution_count": null,
   "id": "vocational-trouble",
   "metadata": {},
   "outputs": [],
   "source": [
    "sc.pl.violin(adata_oprescu, ['n_genes_by_counts', 'total_counts', 'pct_counts_mt'],\n",
    "             jitter=0.4, multi_panel=True)\n",
    "\n",
    "sc.pl.scatter(adata_oprescu, x='total_counts', y='pct_counts_mt')\n",
    "sc.pl.scatter(adata_oprescu, x='total_counts', y='n_genes_by_counts', color='batch')"
   ]
  },
  {
   "cell_type": "code",
   "execution_count": null,
   "id": "broad-league",
   "metadata": {},
   "outputs": [],
   "source": [
    "sc.pp.filter_cells(adata_oprescu, min_genes=150)"
   ]
  },
  {
   "cell_type": "code",
   "execution_count": null,
   "id": "juvenile-vietnamese",
   "metadata": {},
   "outputs": [],
   "source": [
    "adata_oprescu.X = np.asarray(adata_oprescu.X.todense())"
   ]
  },
  {
   "cell_type": "code",
   "execution_count": null,
   "id": "fifteen-tennessee",
   "metadata": {},
   "outputs": [],
   "source": [
    "adata_oprescu_d0 = adata_oprescu[adata_oprescu.obs['batch'] == 'Noninjured'].copy()\n",
    "adata_oprescu_d05 = adata_oprescu[adata_oprescu.obs['batch'] == 'X0.5.DPI'].copy()\n",
    "adata_oprescu_d2 = adata_oprescu[adata_oprescu.obs['batch'] == 'X2.DPI'].copy()\n",
    "adata_oprescu_d35 = adata_oprescu[adata_oprescu.obs['batch'] == 'X3.5.DPI'].copy()\n",
    "adata_oprescu_d5 = adata_oprescu[adata_oprescu.obs['batch'] == 'X5.DPI'].copy()\n",
    "adata_oprescu_d10 = adata_oprescu[adata_oprescu.obs['batch'] == 'X10.DPI'].copy()\n",
    "adata_oprescu_d21 = adata_oprescu[adata_oprescu.obs['batch'] == 'X21.DPI'].copy()"
   ]
  },
  {
   "cell_type": "code",
   "execution_count": null,
   "id": "interracial-baking",
   "metadata": {},
   "outputs": [],
   "source": [
    "adata_oprescu_d0.X = np.array(adata_oprescu_d0.X).copy()\n",
    "adata_oprescu_d05.X = np.array(adata_oprescu_d05.X).copy()\n",
    "adata_oprescu_d2.X = np.array(adata_oprescu_d2.X).copy()\n",
    "adata_oprescu_d35.X = np.array(adata_oprescu_d35.X).copy()\n",
    "adata_oprescu_d5.X = np.array(adata_oprescu_d5.X).copy()\n",
    "adata_oprescu_d10.X = np.array(adata_oprescu_d10.X).copy()\n",
    "adata_oprescu_d21.X = np.array(adata_oprescu_d21.X).copy()"
   ]
  },
  {
   "cell_type": "code",
   "execution_count": null,
   "id": "lyric-shift",
   "metadata": {},
   "outputs": [],
   "source": [
    "set(adata_oprescu.obs['batch'].values)"
   ]
  },
  {
   "cell_type": "code",
   "execution_count": null,
   "id": "functioning-honolulu",
   "metadata": {},
   "outputs": [],
   "source": [
    "sc.pp.filter_genes(adata_oprescu, min_counts=1)\n",
    "sc.pp.normalize_per_cell(adata_oprescu)\n",
    "sc.pp.log1p(adata_oprescu)"
   ]
  },
  {
   "cell_type": "code",
   "execution_count": null,
   "id": "chief-chemistry",
   "metadata": {},
   "outputs": [],
   "source": [
    "sc.pp.pca(adata_oprescu, random_state=seed, n_comps=30)\n",
    "tk.tl.triku(adata_oprescu, n_procs=1, random_state=seed)\n",
    "sc.pp.neighbors(adata_oprescu, random_state=seed, n_neighbors=len(adata_oprescu) ** 0.5 // 2, metric='cosine')"
   ]
  },
  {
   "cell_type": "code",
   "execution_count": null,
   "id": "moral-piano",
   "metadata": {},
   "outputs": [],
   "source": [
    "sc.tl.umap(adata_oprescu, min_dist=0.1, random_state=seed)\n",
    "sc.tl.leiden(adata_oprescu, resolution=1, random_state=seed)\n",
    "sc.pl.umap(adata_oprescu, color=['leiden', 'batch', 'n_counts'], legend_loc='on data')"
   ]
  },
  {
   "cell_type": "markdown",
   "id": "above-hampton",
   "metadata": {},
   "source": [
    "## Oprescu Day 0"
   ]
  },
  {
   "cell_type": "code",
   "execution_count": null,
   "id": "specific-skating",
   "metadata": {},
   "outputs": [],
   "source": [
    "sc.pp.filter_genes(adata_oprescu_d0, min_counts=1)\n",
    "sc.pp.normalize_per_cell(adata_oprescu_d0)\n",
    "sc.pp.log1p(adata_oprescu_d0)"
   ]
  },
  {
   "cell_type": "code",
   "execution_count": null,
   "id": "fewer-delta",
   "metadata": {},
   "outputs": [],
   "source": [
    "sc.pp.pca(adata_oprescu_d0, random_state=seed, n_comps=30)\n",
    "sc.pp.neighbors(adata_oprescu_d0, random_state=seed, n_neighbors=int(len(adata_oprescu_d0) ** 0.5 // 5), metric='cosine')\n",
    "tk.tl.triku(adata_oprescu_d0, n_procs=1, random_state=seed, use_adata_knn=True)"
   ]
  },
  {
   "cell_type": "code",
   "execution_count": null,
   "id": "super-valley",
   "metadata": {},
   "outputs": [],
   "source": [
    "sc.tl.umap(adata_oprescu_d0, min_dist=0.25, random_state=seed)\n",
    "sc.tl.leiden(adata_oprescu_d0, resolution=3, random_state=seed)\n",
    "sc.pl.umap(adata_oprescu_d0, color=['leiden', 'n_counts'], legend_loc='on data')"
   ]
  },
  {
   "cell_type": "markdown",
   "id": "humanitarian-alexander",
   "metadata": {},
   "source": [
    "### Subpopulation characterization (based on paper markers)"
   ]
  },
  {
   "cell_type": "code",
   "execution_count": null,
   "id": "85e03fb8-040d-465c-b524-b8a57dd59568",
   "metadata": {},
   "outputs": [],
   "source": [
    "assign_cats(adata_oprescu_d0, dict_cats_general, column_groupby='leiden', quantile_gene_sel=0.7, do_return=False, intermediate_states=False, diff=0.05, \n",
    "                key_added='cell_type', min_score=0.5, others_name='unassigned')"
   ]
  },
  {
   "cell_type": "code",
   "execution_count": null,
   "id": "dd0751e0-19a2-4235-86eb-6458bae413a2",
   "metadata": {},
   "outputs": [],
   "source": [
    "sc.pl.umap(adata_oprescu_d0, color=['cell_type'] + ['Col9a2', 'Wnt6', 'Wnt10a'], ncols=3, cmap=magma)"
   ]
  },
  {
   "cell_type": "code",
   "execution_count": null,
   "id": "bfe43f45-db72-4372-8ffd-70521b2f7a90",
   "metadata": {},
   "outputs": [],
   "source": [
    "for cat in dict_cats_general.keys():\n",
    "    print(cat)\n",
    "    sc.pl.umap(adata_oprescu_d0, color=['cell_type'] + dict_cats_general[cat], ncols=3, cmap=magma)"
   ]
  },
  {
   "cell_type": "markdown",
   "id": "hawaiian-geneva",
   "metadata": {},
   "source": [
    "The analysis of populations is quite poor. FAP/Fibro and Myonuclei populations have to be further characterized. We will get DEGs of some of the populations to see if we can further narrow down each of the populations. We will also apply, for the fibroblasts, the Axis/Cluster genes previously obtained to map them to previous populations."
   ]
  },
  {
   "cell_type": "code",
   "execution_count": null,
   "id": "jewish-silence",
   "metadata": {},
   "outputs": [],
   "source": [
    "# Schwann + Endo + Peri Markers\n",
    "sc.pl.umap(adata_oprescu_d0, color=['leiden', 'Sox10', 'S100b', 'Mpz', 'Ptn', 'Scx', 'Rgs5', 'Myl9', 'Vwf', 'Pecam1'], \n",
    "           legend_loc='on data', ncols=3, cmap=magma)"
   ]
  },
  {
   "cell_type": "code",
   "execution_count": null,
   "id": "7abe3049-e14f-43ca-9082-1167077b2493",
   "metadata": {},
   "outputs": [],
   "source": [
    "sc.pl.umap(adata_oprescu_d0, color=['cell_type'], legend_loc='on data', ncols=3, cmap=magma)"
   ]
  },
  {
   "cell_type": "code",
   "execution_count": null,
   "id": "ba2574b6-ae94-4ddd-a3f6-630b28c943d7",
   "metadata": {},
   "outputs": [],
   "source": [
    "sc.pl.umap(adata_oprescu_d0, color=['leiden', 'Wnt6', 'Wnt10a'], \n",
    "           legend_loc='on data', ncols=3, cmap=magma)"
   ]
  },
  {
   "cell_type": "markdown",
   "id": "5c872d78-e1aa-41ca-8939-b2243cfa9ba5",
   "metadata": {},
   "source": [
    "### Adata saving"
   ]
  },
  {
   "cell_type": "code",
   "execution_count": null,
   "id": "362618e7-d2ad-4653-aae6-bbd43d5bb0c2",
   "metadata": {},
   "outputs": [],
   "source": [
    "adata_oprescu_d0.obs['dataset'] = 'Oprescu D0'\n",
    "adata_oprescu_d0.write_h5ad('data/processed/oprescu_d0.h5')"
   ]
  },
  {
   "cell_type": "markdown",
   "id": "material-village",
   "metadata": {},
   "source": [
    "# Scott 2019"
   ]
  },
  {
   "cell_type": "code",
   "execution_count": null,
   "id": "front-onion",
   "metadata": {},
   "outputs": [],
   "source": [
    "!wget https://ftp.ncbi.nlm.nih.gov/geo/samples/GSM2976nnn/GSM2976778/suppl/GSM2976778%5Fqsnt%5Fbarcodes%2Etsv%2Egz -P {data_dir}/scott\n",
    "!wget https://ftp.ncbi.nlm.nih.gov/geo/samples/GSM2976nnn/GSM2976778/suppl/GSM2976778%5Fqsnt%5Fgenes%2Etsv%2Egz -P {data_dir}/scott\n",
    "!wget https://ftp.ncbi.nlm.nih.gov/geo/samples/GSM2976nnn/GSM2976778/suppl/GSM2976778%5Fqsnt%5Fmatrix%2Emtx%2Egz -P {data_dir}/scott"
   ]
  },
  {
   "cell_type": "code",
   "execution_count": null,
   "id": "composed-solomon",
   "metadata": {},
   "outputs": [],
   "source": [
    "adata_scott_d0 = sc.read_mtx(data_dir+'scott/GSM2976778_qsnt_matrix.mtx.gz').transpose()\n",
    "barcodes = pd.read_csv(data_dir+'scott/GSM2976778_qsnt_barcodes.tsv.gz', sep='\\t', header=None)[0].values\n",
    "features = pd.read_csv(data_dir+'scott/GSM2976778_qsnt_genes.tsv.gz', sep='\\t', header=None)[1].values\n",
    "\n",
    "adata_scott_d0.var_names = features\n",
    "adata_scott_d0.obs_names = barcodes"
   ]
  },
  {
   "cell_type": "code",
   "execution_count": null,
   "id": "racial-webster",
   "metadata": {},
   "outputs": [],
   "source": [
    "adata_scott_d0.var_names_make_unique()"
   ]
  },
  {
   "cell_type": "code",
   "execution_count": null,
   "id": "signed-material",
   "metadata": {
    "scrolled": true
   },
   "outputs": [],
   "source": [
    "!wget https://ftp.ncbi.nlm.nih.gov/geo/samples/GSM2976nnn/GSM2976779/suppl/GSM2976779%5Fd1%5Fbarcodes%2Etsv%2Egz -P {data_dir}/scott\n",
    "!wget https://ftp.ncbi.nlm.nih.gov/geo/samples/GSM2976nnn/GSM2976779/suppl/GSM2976779%5Fd1%5Fgenes%2Etsv%2Egz -P {data_dir}/scott\n",
    "!wget https://ftp.ncbi.nlm.nih.gov/geo/samples/GSM2976nnn/GSM2976779/suppl/GSM2976779%5Fd1%5Fmatrix%2Emtx%2Egz -P {data_dir}/scott"
   ]
  },
  {
   "cell_type": "code",
   "execution_count": null,
   "id": "conventional-humidity",
   "metadata": {},
   "outputs": [],
   "source": [
    "adata_scott_d1 = sc.read_mtx(data_dir+'scott/GSM2976779_d1_matrix.mtx.gz').transpose()\n",
    "barcodes = pd.read_csv(data_dir+'scott/GSM2976779_d1_barcodes.tsv.gz', sep='\\t', header=None)[0].values\n",
    "features = pd.read_csv(data_dir+'scott/GSM2976779_d1_genes.tsv.gz', sep='\\t', header=None)[1].values\n",
    "\n",
    "adata_scott_d1.var_names = features\n",
    "adata_scott_d1.obs_names = barcodes"
   ]
  },
  {
   "cell_type": "code",
   "execution_count": null,
   "id": "downtown-northwest",
   "metadata": {
    "scrolled": true
   },
   "outputs": [],
   "source": [
    "!wget https://ftp.ncbi.nlm.nih.gov/geo/samples/GSM2976nnn/GSM2976780/suppl/GSM2976780%5Fd2%5Fbarcodes%2Etsv%2Egz -P {data_dir}/scott\n",
    "!wget https://ftp.ncbi.nlm.nih.gov/geo/samples/GSM2976nnn/GSM2976780/suppl/GSM2976780%5Fd2%5Fgenes%2Etsv%2Egz -P {data_dir}/scott\n",
    "!wget https://ftp.ncbi.nlm.nih.gov/geo/samples/GSM2976nnn/GSM2976780/suppl/GSM2976780%5Fd2%5Fmatrix%2Emtx%2Egz -P {data_dir}/scott"
   ]
  },
  {
   "cell_type": "code",
   "execution_count": null,
   "id": "packed-cleanup",
   "metadata": {},
   "outputs": [],
   "source": [
    "adata_scott_d2 = sc.read_mtx(data_dir+'scott/GSM2976780_d2_matrix.mtx.gz').transpose()\n",
    "barcodes = pd.read_csv(data_dir+'scott/GSM2976780_d2_barcodes.tsv.gz', sep='\\t', header=None)[0].values\n",
    "features = pd.read_csv(data_dir+'scott/GSM2976780_d2_genes.tsv.gz', sep='\\t', header=None)[1].values\n",
    "\n",
    "adata_scott_d2.var_names = features\n",
    "adata_scott_d2.obs_names = barcodes"
   ]
  },
  {
   "cell_type": "code",
   "execution_count": null,
   "id": "killing-creator",
   "metadata": {
    "scrolled": true
   },
   "outputs": [],
   "source": [
    "!wget https://ftp.ncbi.nlm.nih.gov/geo/samples/GSM2976nnn/GSM2976781/suppl/GSM2976781%5Fd4%5Fbarcodes%2Etsv%2Egz -P {data_dir}/scott\n",
    "!wget https://ftp.ncbi.nlm.nih.gov/geo/samples/GSM2976nnn/GSM2976781/suppl/GSM2976781%5Fd4%5Fgenes%2Etsv%2Egz -P {data_dir}/scott\n",
    "!wget https://ftp.ncbi.nlm.nih.gov/geo/samples/GSM2976nnn/GSM2976781/suppl/GSM2976781%5Fd4%5Fmatrix%2Emtx%2Egz -P {data_dir}/scott"
   ]
  },
  {
   "cell_type": "code",
   "execution_count": null,
   "id": "republican-novel",
   "metadata": {},
   "outputs": [],
   "source": [
    "adata_scott_d4 = sc.read_mtx(data_dir+'scott/GSM2976781_d4_matrix.mtx.gz').transpose()\n",
    "barcodes = pd.read_csv(data_dir+'scott/GSM2976781_d4_barcodes.tsv.gz', sep='\\t', header=None)[0].values\n",
    "features = pd.read_csv(data_dir+'scott/GSM2976781_d4_genes.tsv.gz', sep='\\t', header=None)[1].values\n",
    "\n",
    "adata_scott_d4.var_names = features\n",
    "adata_scott_d4.obs_names = barcodes"
   ]
  },
  {
   "cell_type": "code",
   "execution_count": null,
   "id": "sunset-notion",
   "metadata": {
    "scrolled": true
   },
   "outputs": [],
   "source": [
    "!wget https://ftp.ncbi.nlm.nih.gov/geo/samples/GSM2976nnn/GSM2976782/suppl/GSM2976782%5Fd14%5Fbarcodes%2Etsv%2Egz -P {data_dir}/scott\n",
    "!wget https://ftp.ncbi.nlm.nih.gov/geo/samples/GSM2976nnn/GSM2976782/suppl/GSM2976782%5Fd14%5Fgenes%2Etsv%2Egz -P {data_dir}/scott\n",
    "!wget https://ftp.ncbi.nlm.nih.gov/geo/samples/GSM2976nnn/GSM2976782/suppl/GSM2976782%5Fd14%5Fmatrix%2Emtx%2Egz -P {data_dir}/scott"
   ]
  },
  {
   "cell_type": "code",
   "execution_count": null,
   "id": "settled-discussion",
   "metadata": {},
   "outputs": [],
   "source": [
    "adata_scott_d14 = sc.read_mtx(data_dir+'scott/GSM2976782_d14_matrix.mtx.gz').transpose()\n",
    "barcodes = pd.read_csv(data_dir+'scott/GSM2976782_d14_barcodes.tsv.gz', sep='\\t', header=None)[0].values\n",
    "features = pd.read_csv(data_dir+'scott/GSM2976782_d14_genes.tsv.gz', sep='\\t', header=None)[1].values\n",
    "\n",
    "adata_scott_d14.var_names = features\n",
    "adata_scott_d14.obs_names = barcodes"
   ]
  },
  {
   "cell_type": "markdown",
   "id": "standard-bahrain",
   "metadata": {},
   "source": [
    "## Adata Scott D0"
   ]
  },
  {
   "cell_type": "code",
   "execution_count": null,
   "id": "musical-strike",
   "metadata": {},
   "outputs": [],
   "source": [
    "adata_scott_d0.X = np.asarray(adata_scott_d0.X.todense())"
   ]
  },
  {
   "cell_type": "code",
   "execution_count": null,
   "id": "sized-steps",
   "metadata": {},
   "outputs": [],
   "source": [
    "# Basic QC filtering\n",
    "adata_scott_d0.var['mt'] = adata_scott_d0.var_names.str.startswith('mt-')  # annotate the group of mitochondrial genes as 'mt'\n",
    "sc.pp.calculate_qc_metrics(adata_scott_d0, qc_vars=['mt'], percent_top=None, inplace=True)"
   ]
  },
  {
   "cell_type": "code",
   "execution_count": null,
   "id": "ethical-apple",
   "metadata": {},
   "outputs": [],
   "source": [
    "sc.pl.violin(adata_scott_d0, ['n_genes_by_counts', 'total_counts', 'pct_counts_mt'],\n",
    "             jitter=0.4, multi_panel=True)\n",
    "\n",
    "sc.pl.scatter(adata_scott_d0, x='total_counts', y='pct_counts_mt')\n"
   ]
  },
  {
   "cell_type": "code",
   "execution_count": null,
   "id": "filled-confusion",
   "metadata": {},
   "outputs": [],
   "source": [
    "adata_scott_d0 = adata_scott_d0[adata_scott_d0.obs.n_genes_by_counts < 2500, :]\n",
    "adata_scott_d0 = adata_scott_d0[adata_scott_d0.obs.pct_counts_mt < 10, :]"
   ]
  },
  {
   "cell_type": "code",
   "execution_count": null,
   "id": "polar-works",
   "metadata": {},
   "outputs": [],
   "source": [
    "sc.pp.filter_cells(adata_scott_d0, min_genes=250)"
   ]
  },
  {
   "cell_type": "code",
   "execution_count": null,
   "id": "double-infection",
   "metadata": {},
   "outputs": [],
   "source": [
    "sc.pp.filter_genes(adata_scott_d0, min_counts=1)\n",
    "sc.pp.normalize_per_cell(adata_scott_d0)\n",
    "sc.pp.log1p(adata_scott_d0)"
   ]
  },
  {
   "cell_type": "code",
   "execution_count": null,
   "id": "welcome-schema",
   "metadata": {},
   "outputs": [],
   "source": [
    "tk.tl.triku(adata_scott_d0, n_procs=1, random_state=seed)\n",
    "sc.pp.pca(adata_scott_d0, random_state=seed, n_comps=30)\n",
    "sc.pp.neighbors(adata_scott_d0, random_state=seed, n_neighbors=int(len(adata_scott_d0) ** 0.5 // 4), metric='cosine')"
   ]
  },
  {
   "cell_type": "code",
   "execution_count": null,
   "id": "negative-piece",
   "metadata": {},
   "outputs": [],
   "source": [
    "sc.tl.umap(adata_scott_d0, min_dist=0.7, random_state=seed)\n",
    "sc.tl.leiden(adata_scott_d0, resolution=3, random_state=seed)\n",
    "sc.pl.umap(adata_scott_d0, color=['leiden', 'n_counts'], legend_loc='on data')"
   ]
  },
  {
   "cell_type": "markdown",
   "id": "cross-commons",
   "metadata": {},
   "source": [
    "### Subpopulation characterization"
   ]
  },
  {
   "cell_type": "code",
   "execution_count": null,
   "id": "20bc5445-79d4-4c00-a67e-b8383d98ac51",
   "metadata": {},
   "outputs": [],
   "source": [
    "assign_cats(adata_scott_d0, dict_cats_general, column_groupby='leiden', quantile_gene_sel=0.7, do_return=False, intermediate_states=False, diff=0.05, \n",
    "                key_added='cell_type', min_score=0.4, others_name='unassigned')"
   ]
  },
  {
   "cell_type": "code",
   "execution_count": null,
   "id": "8532dc43-7392-4553-b56d-a89404e04411",
   "metadata": {},
   "outputs": [],
   "source": [
    "for cat in dict_cats_general.keys():\n",
    "    print(cat)\n",
    "    sc.pl.umap(adata_scott_d0, color=['cell_type'] + dict_cats_general[cat], ncols=3, cmap=magma)"
   ]
  },
  {
   "cell_type": "code",
   "execution_count": null,
   "id": "aa978487-de8c-4c2c-bbce-99be9a562a46",
   "metadata": {},
   "outputs": [],
   "source": [
    "sc.pl.umap(adata_scott_d0, color=['leiden'] + ['Bricd5', 'Col9a2', 'Dlk1', 'Grin2b', 'Mpzl2', 'Saa1', 'Shisa3', 'Tenm2'], legend_loc='on data', cmap=magma, ncols=3)"
   ]
  },
  {
   "cell_type": "code",
   "execution_count": null,
   "id": "front-fancy",
   "metadata": {},
   "outputs": [],
   "source": [
    "sc.pl.umap(adata_scott_d0, color=['Nipal1', 'Trpm6', 'S100b', 'Gpld1', 'Plxdc1', 'Gfra2',\n",
    "                                  'Cd38', 'Cd300lg'], legend_loc='on data', cmap=magma, ncols=3)"
   ]
  },
  {
   "cell_type": "markdown",
   "id": "0c47aa80-6562-4019-8bae-7f558881ba33",
   "metadata": {},
   "source": [
    "### Adata saving"
   ]
  },
  {
   "cell_type": "code",
   "execution_count": null,
   "id": "a1167f71-fc94-45ec-9907-1d459e1103c1",
   "metadata": {},
   "outputs": [],
   "source": [
    "adata_scott_d0.obs['dataset'] = 'Scott D0'\n",
    "adata_scott_d0.write_h5ad('data/processed/scott_d0.h5')"
   ]
  },
  {
   "cell_type": "markdown",
   "id": "ancient-oregon",
   "metadata": {},
   "source": [
    "# De Micheli et al 2020 (mouse)"
   ]
  },
  {
   "cell_type": "markdown",
   "id": "senior-ontario",
   "metadata": {},
   "source": [
    "## Adata download and preprocessing"
   ]
  },
  {
   "cell_type": "code",
   "execution_count": null,
   "id": "speaking-defensive",
   "metadata": {},
   "outputs": [],
   "source": [
    "!wget https://ftp.ncbi.nlm.nih.gov/geo/series/GSE143nnn/GSE143437/suppl/GSE143437%5FDeMicheli%5FMuSCatlas%5Frawdata%2Etxt%2Egz -P {data_dir}/demicheli_mouse\n",
    "!wget https://ftp.ncbi.nlm.nih.gov/geo/series/GSE143nnn/GSE143437/suppl/GSE143437%5FDeMicheli%5FMuSCatlas%5Fmetadata%2Etxt%2Egz -P {data_dir}/demicheli_mouse"
   ]
  },
  {
   "cell_type": "code",
   "execution_count": null,
   "id": "freelance-proceeding",
   "metadata": {},
   "outputs": [],
   "source": [
    "adata_de_micheli_mouse = sc.read_text(data_dir+'demicheli_mouse/GSE143437_DeMicheli_MuSCatlas_rawdata.txt.gz').transpose()\n",
    "adata_de_micheli_mouse.obs['batch'] = ['_'.join(i.split('_')[:2]) for i in adata_de_micheli_mouse.obs_names]\n",
    "adata_de_micheli_mouse.obs_names = [i.split('_')[-1] for i in adata_de_micheli_mouse.obs_names]\n",
    "adata_de_micheli_mouse.obs_names_make_unique()"
   ]
  },
  {
   "cell_type": "code",
   "execution_count": null,
   "id": "registered-premises",
   "metadata": {},
   "outputs": [],
   "source": [
    "adata_de_micheli_mouse.write_loom(data_dir+'demicheli_mouse/adata_demicheli_mouse.loom')"
   ]
  },
  {
   "cell_type": "code",
   "execution_count": null,
   "id": "important-darkness",
   "metadata": {},
   "outputs": [],
   "source": [
    "adata_de_micheli_mouse = sc.read_loom(data_dir+'demicheli_mouse/adata_demicheli_mouse.loom')"
   ]
  },
  {
   "cell_type": "code",
   "execution_count": null,
   "id": "tropical-surface",
   "metadata": {},
   "outputs": [],
   "source": [
    "# We'll remove some RPSs and RPLs\n",
    "not_RPS = [i for i in adata_de_micheli_mouse.var_names if not (('Rps' in i) | ('Rpl' in i))]"
   ]
  },
  {
   "cell_type": "code",
   "execution_count": null,
   "id": "least-indianapolis",
   "metadata": {},
   "outputs": [],
   "source": [
    "adata_de_micheli_mouse = adata_de_micheli_mouse[:, not_RPS]"
   ]
  },
  {
   "cell_type": "code",
   "execution_count": null,
   "id": "standard-sugar",
   "metadata": {},
   "outputs": [],
   "source": [
    "# Basic QC filtering\n",
    "adata_de_micheli_mouse.var['mt'] = adata_de_micheli_mouse.var_names.str.startswith('mt-')  # annotate the group of mitochondrial genes as 'mt'\n",
    "sc.pp.calculate_qc_metrics(adata_de_micheli_mouse, qc_vars=['mt'], percent_top=None, inplace=True)"
   ]
  },
  {
   "cell_type": "code",
   "execution_count": null,
   "id": "standard-craps",
   "metadata": {},
   "outputs": [],
   "source": [
    "sc.pl.violin(adata_de_micheli_mouse, ['n_genes_by_counts', 'total_counts', 'pct_counts_mt'],\n",
    "             jitter=0.4, multi_panel=True)\n",
    "\n",
    "sc.pl.scatter(adata_de_micheli_mouse, x='n_genes_by_counts', y='pct_counts_mt')\n",
    "sc.pl.scatter(adata_de_micheli_mouse, x='total_counts', y='n_genes_by_counts')"
   ]
  },
  {
   "cell_type": "code",
   "execution_count": null,
   "id": "greater-lobby",
   "metadata": {},
   "outputs": [],
   "source": [
    "adata_de_micheli_mouse = adata_de_micheli_mouse[adata_de_micheli_mouse.obs.n_genes_by_counts < 6000, :]\n",
    "adata_de_micheli_mouse = adata_de_micheli_mouse[adata_de_micheli_mouse.obs.total_counts < 30000, :]\n",
    "adata_de_micheli_mouse = adata_de_micheli_mouse[adata_de_micheli_mouse.obs.pct_counts_mt < 10, :]"
   ]
  },
  {
   "cell_type": "code",
   "execution_count": null,
   "id": "attempted-factor",
   "metadata": {},
   "outputs": [],
   "source": [
    "sc.pl.violin(adata_de_micheli_mouse, ['n_genes_by_counts', 'total_counts', 'pct_counts_mt'],\n",
    "             jitter=0.4, multi_panel=True)\n",
    "\n",
    "sc.pl.scatter(adata_de_micheli_mouse, x='n_genes_by_counts', y='pct_counts_mt')\n",
    "sc.pl.scatter(adata_de_micheli_mouse, x='total_counts', y='n_genes_by_counts')"
   ]
  },
  {
   "cell_type": "code",
   "execution_count": null,
   "id": "clinical-yorkshire",
   "metadata": {},
   "outputs": [],
   "source": [
    "sc.pp.filter_genes(adata_de_micheli_mouse, min_counts=1)"
   ]
  },
  {
   "cell_type": "code",
   "execution_count": null,
   "id": "eight-disney",
   "metadata": {},
   "outputs": [],
   "source": [
    "adata_de_micheli_mouse.X = np.array(adata_de_micheli_mouse.X.todense())"
   ]
  },
  {
   "cell_type": "code",
   "execution_count": null,
   "id": "mobile-furniture",
   "metadata": {},
   "outputs": [],
   "source": [
    "set(adata_de_micheli_mouse.obs.batch)"
   ]
  },
  {
   "cell_type": "code",
   "execution_count": null,
   "id": "active-traveler",
   "metadata": {},
   "outputs": [],
   "source": [
    "adata_de_micheli_mouse_d0 = adata_de_micheli_mouse[adata_de_micheli_mouse.obs['batch'].isin(['D0_A', 'D0_B', 'D0_Cv3'])].copy()\n",
    "adata_de_micheli_mouse_d2 = adata_de_micheli_mouse[adata_de_micheli_mouse.obs['batch'].isin(['D2_C', 'D2_D'])].copy()\n",
    "adata_de_micheli_mouse_d5 = adata_de_micheli_mouse[adata_de_micheli_mouse.obs['batch'].isin(['D5_A', 'D5_B', 'D5_C'])].copy()\n",
    "adata_de_micheli_mouse_d7 = adata_de_micheli_mouse[adata_de_micheli_mouse.obs['batch'].isin(['D7_C', 'D7_D'])].copy()"
   ]
  },
  {
   "cell_type": "code",
   "execution_count": null,
   "id": "assisted-yesterday",
   "metadata": {},
   "outputs": [],
   "source": [
    "for adata in [adata_de_micheli_mouse_d0, adata_de_micheli_mouse_d2, \n",
    "              adata_de_micheli_mouse_d5, adata_de_micheli_mouse_d7]:\n",
    "\n",
    "    sc.pp.filter_genes(adata, min_counts=1)\n",
    "    sc.pp.normalize_total(adata)\n",
    "    sc.pp.log1p(adata)"
   ]
  },
  {
   "cell_type": "code",
   "execution_count": null,
   "id": "subject-terror",
   "metadata": {},
   "outputs": [],
   "source": [
    "for adata in [adata_de_micheli_mouse_d0, adata_de_micheli_mouse_d2, \n",
    "              adata_de_micheli_mouse_d5, adata_de_micheli_mouse_d7]:\n",
    "    \n",
    "    sc.pp.pca(adata, random_state=seed, n_comps=30)\n",
    "    sce.pp.bbknn(adata, metric='angular')\n",
    "    tk.tl.triku(adata, n_procs=1, random_state=seed)"
   ]
  },
  {
   "cell_type": "code",
   "execution_count": null,
   "id": "floating-spirituality",
   "metadata": {},
   "outputs": [],
   "source": [
    "for adata in [adata_de_micheli_mouse_d0, adata_de_micheli_mouse_d2, \n",
    "              adata_de_micheli_mouse_d5, adata_de_micheli_mouse_d7]:\n",
    "\n",
    "    sc.tl.umap(adata, min_dist=0.4,  random_state=seed)\n",
    "    sc.tl.leiden(adata, resolution=2.5, random_state=seed)\n",
    "    sc.pl.umap(adata, color=['leiden', 'batch', 'total_counts'], legend_loc='on data', ncols=2)"
   ]
  },
  {
   "cell_type": "markdown",
   "id": "needed-pride",
   "metadata": {},
   "source": [
    "## Population characterization"
   ]
  },
  {
   "cell_type": "code",
   "execution_count": null,
   "id": "strategic-addiction",
   "metadata": {},
   "outputs": [],
   "source": [
    "sc.tl.rank_genes_groups(adata_de_micheli_mouse_d0, groupby='leiden', method='wilcoxon')"
   ]
  },
  {
   "cell_type": "code",
   "execution_count": null,
   "id": "military-model",
   "metadata": {
    "scrolled": true,
    "tags": []
   },
   "outputs": [],
   "source": [
    "sc.pl.rank_genes_groups_tracksplot(adata_de_micheli_mouse_d0, dendrogram=False, n_genes=30)"
   ]
  },
  {
   "cell_type": "code",
   "execution_count": null,
   "id": "30d52311-1de8-4989-9b0a-3595381a8c1a",
   "metadata": {},
   "outputs": [],
   "source": [
    "assign_cats(adata_de_micheli_mouse_d0, dict_cats_general, column_groupby='leiden', quantile_gene_sel=0.7, do_return=False, intermediate_states=False, diff=0.05, \n",
    "                key_added='cell_type', min_score=0.4, others_name='unassigned')"
   ]
  },
  {
   "cell_type": "code",
   "execution_count": null,
   "id": "9c788864-2fe9-4193-8bc0-b573a337a7d2",
   "metadata": {},
   "outputs": [],
   "source": [
    "for cat in dict_cats_general.keys():\n",
    "    print(cat)\n",
    "    sc.pl.umap(adata_de_micheli_mouse_d0, color=['cell_type'] + dict_cats_general[cat], ncols=3, cmap=magma)"
   ]
  },
  {
   "cell_type": "markdown",
   "id": "ace0278e-b2c7-440e-b31a-eb86477bb753",
   "metadata": {},
   "source": [
    "### Adata saving"
   ]
  },
  {
   "cell_type": "code",
   "execution_count": null,
   "id": "8a2c4749-d40e-4ce1-8b30-9f59f77ba5a5",
   "metadata": {},
   "outputs": [],
   "source": [
    "adata_de_micheli_mouse_d0.obs['dataset'] = 'De Micheli mouse D0'\n",
    "adata_de_micheli_mouse_d0.write_h5ad('data/processed/de_micheli_mouse_d0.h5')"
   ]
  },
  {
   "cell_type": "markdown",
   "id": "offensive-anaheim",
   "metadata": {},
   "source": [
    "# De Micheli et al 2020 (human)\n",
    "\n",
    "This is a human dataset, consisting of 10 patients. To remove batch effects, we will directly run kallisto in all samples at once, and then run the analysis on them."
   ]
  },
  {
   "cell_type": "code",
   "execution_count": null,
   "id": "referenced-union",
   "metadata": {},
   "outputs": [],
   "source": [
    "de_micheli_dir = os.getcwd() + '/data/demicheli'\n",
    "os.makedirs(de_micheli_dir, exist_ok=True)"
   ]
  },
  {
   "cell_type": "code",
   "execution_count": null,
   "id": "romance-explanation",
   "metadata": {},
   "outputs": [],
   "source": [
    "SRA_list = \"\"\"\n",
    "SRR10897760\n",
    "SRR10897761\n",
    "SRR10897762\n",
    "SRR10897763\n",
    "SRR10897764\n",
    "SRR10897765\n",
    "SRR10897766\n",
    "SRR10897767\n",
    "SRR10897768\n",
    "SRR10897769\n",
    "\"\"\"\n",
    "\n",
    "with open(de_micheli_dir + '/accession.txt', 'w') as f:\n",
    "    f.write(SRA_list)\n",
    "    \n",
    "df = pd.DataFrame({'name': ['de_micheli'], 'technology': ['10xv3'], 'targetnumcells': [5000]})\n",
    "\n",
    "df.to_csv(de_micheli_dir + '/metadata.tab', sep='\\t', index=None)"
   ]
  },
  {
   "cell_type": "code",
   "execution_count": null,
   "id": "controversial-grill",
   "metadata": {},
   "outputs": [],
   "source": [
    "!fastq-dump SRR10897768 --split-files --gzip  # This is just one. Run from 60 to 69"
   ]
  },
  {
   "cell_type": "code",
   "execution_count": null,
   "id": "selected-secondary",
   "metadata": {},
   "outputs": [],
   "source": [
    "from time import sleep"
   ]
  },
  {
   "cell_type": "code",
   "execution_count": null,
   "id": "enabling-explanation",
   "metadata": {},
   "outputs": [],
   "source": [
    "sleep(3600 * 4)\n",
    "for SRA_idx, SRA in enumerate(SRA_list.split('\\n')[1:-1]):\n",
    "    os.rename(de_micheli_dir + f'/{SRA}_2.fastq.gz', \n",
    "              de_micheli_dir + f'/de_micheli_L00{SRA_idx+1}_R1_001.fastq.gz')\n",
    "    os.rename(de_micheli_dir + f'/{SRA}_3.fastq.gz', \n",
    "              de_micheli_dir + f'/de_micheli_L00{SRA_idx+1}_R2_001.fastq.gz')"
   ]
  },
  {
   "cell_type": "code",
   "execution_count": null,
   "id": "acknowledged-portrait",
   "metadata": {},
   "outputs": [],
   "source": [
    "!loompy fromfq {de_micheli_dir}/de_micheli.loom de_micheli /media/seth/SETH_DATA/SETH_Alex/Programs/human_GRCh38_gencode.v31.600 {de_micheli_dir}/metadata.tab \\\n",
    "{de_micheli_dir}/de_micheli_L001_R1_001.fastq.gz {de_micheli_dir}/de_micheli_L001_R2_001.fastq.gz \\\n",
    "{de_micheli_dir}/de_micheli_L002_R1_001.fastq.gz {de_micheli_dir}/de_micheli_L002_R2_001.fastq.gz \\\n",
    "{de_micheli_dir}/de_micheli_L003_R1_001.fastq.gz {de_micheli_dir}/de_micheli_L003_R2_001.fastq.gz \\\n",
    "{de_micheli_dir}/de_micheli_L004_R1_001.fastq.gz {de_micheli_dir}/de_micheli_L004_R2_001.fastq.gz \\\n",
    "{de_micheli_dir}/de_micheli_L005_R1_001.fastq.gz {de_micheli_dir}/de_micheli_L005_R2_001.fastq.gz \\\n",
    "{de_micheli_dir}/de_micheli_L006_R1_001.fastq.gz {de_micheli_dir}/de_micheli_L006_R2_001.fastq.gz \\\n",
    "{de_micheli_dir}/de_micheli_L007_R1_001.fastq.gz {de_micheli_dir}/de_micheli_L007_R2_001.fastq.gz \\\n",
    "{de_micheli_dir}/de_micheli_L008_R1_001.fastq.gz {de_micheli_dir}/de_micheli_L008_R2_001.fastq.gz \\\n",
    "{de_micheli_dir}/de_micheli_L009_R1_001.fastq.gz {de_micheli_dir}/de_micheli_L009_R2_001.fastq.gz \\\n",
    "{de_micheli_dir}/de_micheli_L0010_R1_001.fastq.gz {de_micheli_dir}/de_micheli_L0010_R2_001.fastq.gz "
   ]
  },
  {
   "cell_type": "markdown",
   "id": "appreciated-gentleman",
   "metadata": {},
   "source": [
    "We will also load the matrix file because it contains the batches, and it will be useful for us to \n",
    "label some of the batches and map them later on. This will help us remove possible small spurious clusters."
   ]
  },
  {
   "cell_type": "code",
   "execution_count": null,
   "id": "serial-chart",
   "metadata": {},
   "outputs": [],
   "source": [
    "link = 'https://ftp.ncbi.nlm.nih.gov/geo/series/GSE143nnn/GSE143704/suppl/GSE143704%5FDeMicheli%5FHumanMuscleAtlas%5Frawdata%2Etxt%2Egz'"
   ]
  },
  {
   "cell_type": "code",
   "execution_count": null,
   "id": "obvious-seafood",
   "metadata": {},
   "outputs": [],
   "source": [
    "!wget {link} -P {data_dir}/demicheli"
   ]
  },
  {
   "cell_type": "markdown",
   "id": "enormous-moment",
   "metadata": {},
   "source": [
    "## Adata load and preprocessing"
   ]
  },
  {
   "cell_type": "code",
   "execution_count": null,
   "id": "worst-bandwidth",
   "metadata": {},
   "outputs": [],
   "source": [
    "adata_de_micheli_batch = sc.read_text(data_dir+'/demicheli/GSE143704_DeMicheli_HumanMuscleAtlas_rawdata.txt.gz').transpose()"
   ]
  },
  {
   "cell_type": "code",
   "execution_count": null,
   "id": "beginning-bachelor",
   "metadata": {},
   "outputs": [],
   "source": [
    "adata_de_micheli_batch.obs['batch'] = [i.split('_')[1] for i in adata_de_micheli_batch.obs_names]\n",
    "adata_de_micheli_batch.var_names_make_unique()"
   ]
  },
  {
   "cell_type": "code",
   "execution_count": null,
   "id": "c8dae16d-5321-4dcc-948d-8624e7d06c79",
   "metadata": {},
   "outputs": [],
   "source": [
    "adata_de_micheli_batch.write_loom(de_micheli_dir+'/de_micheli_human.loom')"
   ]
  },
  {
   "cell_type": "code",
   "execution_count": null,
   "id": "alike-input",
   "metadata": {},
   "outputs": [],
   "source": [
    "adata_de_micheli_human = sc.read_loom(de_micheli_dir + '/de_micheli_human.loom')\n"
   ]
  },
  {
   "cell_type": "code",
   "execution_count": null,
   "id": "least-return",
   "metadata": {},
   "outputs": [],
   "source": [
    "# Basic QC filtering\n",
    "adata_de_micheli_human.var['mt'] = adata_de_micheli_human.var_names.str.startswith('MT-')  # annotate the group of mitochondrial genes as 'mt'\n",
    "sc.pp.calculate_qc_metrics(adata_de_micheli_human, qc_vars=['mt'], percent_top=None, inplace=True)"
   ]
  },
  {
   "cell_type": "code",
   "execution_count": null,
   "id": "loaded-silver",
   "metadata": {},
   "outputs": [],
   "source": [
    "sc.pl.violin(adata_de_micheli_human, ['n_genes_by_counts', 'total_counts', 'pct_counts_mt'],\n",
    "             jitter=0.4, multi_panel=True)\n",
    "\n",
    "sc.pl.scatter(adata_de_micheli_human, x='n_genes_by_counts', y='pct_counts_mt')\n",
    "sc.pl.scatter(adata_de_micheli_human, x='total_counts', y='n_genes_by_counts')"
   ]
  },
  {
   "cell_type": "code",
   "execution_count": null,
   "id": "dynamic-horizon",
   "metadata": {},
   "outputs": [],
   "source": [
    "adata_de_micheli_human = adata_de_micheli_human[adata_de_micheli_human.obs.n_genes_by_counts < 3500, :]\n",
    "adata_de_micheli_human = adata_de_micheli_human[adata_de_micheli_human.obs.total_counts < 15000, :]\n",
    "adata_de_micheli_human = adata_de_micheli_human[adata_de_micheli_human.obs.pct_counts_mt < 80, :]\n",
    "adata_de_micheli_human = adata_de_micheli_human[~ ((adata_de_micheli_human.obs.pct_counts_mt < 10) & \n",
    "                                       (adata_de_micheli_human.obs.pct_counts_mt < 400)), :]"
   ]
  },
  {
   "cell_type": "code",
   "execution_count": null,
   "id": "distinguished-possible",
   "metadata": {},
   "outputs": [],
   "source": [
    "sc.pl.violin(adata_de_micheli_human, ['n_genes_by_counts', 'total_counts', 'pct_counts_mt'],\n",
    "             jitter=0.4, multi_panel=True)\n",
    "\n",
    "sc.pl.scatter(adata_de_micheli_human, x='n_genes_by_counts', y='pct_counts_mt')\n",
    "sc.pl.scatter(adata_de_micheli_human, x='total_counts', y='n_genes_by_counts')"
   ]
  },
  {
   "cell_type": "code",
   "execution_count": null,
   "id": "exciting-shell",
   "metadata": {},
   "outputs": [],
   "source": [
    "sc.pp.filter_genes(adata_de_micheli_human, min_counts=1)\n",
    "sc.pp.normalize_total(adata_de_micheli_human)\n",
    "sc.pp.log1p(adata_de_micheli_human)"
   ]
  },
  {
   "cell_type": "code",
   "execution_count": null,
   "id": "declared-depth",
   "metadata": {},
   "outputs": [],
   "source": [
    "sc.pp.pca(adata_de_micheli_human, random_state=seed, n_comps=30)\n",
    "sce.pp.bbknn(adata_de_micheli_human, neighbors_within_batch=3)\n",
    "tk.tl.triku(adata_de_micheli_human, n_procs=1, random_state=seed)"
   ]
  },
  {
   "cell_type": "code",
   "execution_count": null,
   "id": "ecological-nursery",
   "metadata": {},
   "outputs": [],
   "source": [
    "sc.tl.umap(adata_de_micheli_human, min_dist=0.3, random_state=seed)\n",
    "sc.tl.leiden(adata_de_micheli_human, resolution=2, random_state=seed)\n",
    "sc.pl.umap(adata_de_micheli_human, color=['leiden', 'batch', 'total_counts'], legend_loc='on data', ncols=1)"
   ]
  },
  {
   "cell_type": "code",
   "execution_count": null,
   "id": "administrative-coalition",
   "metadata": {},
   "outputs": [],
   "source": [
    "sc.pl.umap(adata_de_micheli_human, color=['SHISA3', 'NIPAL1', 'SAA1', 'COL9A2', 'S100B', 'GFRA2', 'CD300LG'], \n",
    "           legend_loc='on data', ncols=2, cmap=magma)"
   ]
  },
  {
   "cell_type": "code",
   "execution_count": null,
   "id": "862db39e-86c2-4dc6-921a-a2999946ac9c",
   "metadata": {},
   "outputs": [],
   "source": [
    "# ESTO HAY QUE PONERLE UPPER\n",
    "assign_cats(adata_de_micheli_human, dict_cats_general, column_groupby='leiden', quantile_gene_sel=0.7, do_return=False, intermediate_states=False, diff=0.05, \n",
    "                key_added='cell_type', min_score=0.4, others_name='unassigned')"
   ]
  },
  {
   "cell_type": "code",
   "execution_count": null,
   "id": "6d68b4d2-3913-445b-a6e2-cfb3ae78df5b",
   "metadata": {},
   "outputs": [],
   "source": [
    "for cat in dict_cats_general.keys():\n",
    "    print(cat)\n",
    "    sc.pl.umap(adata_de_micheli_human, color=['cell_type'] + dict_cats_general[cat], ncols=3, cmap=magma)"
   ]
  },
  {
   "cell_type": "markdown",
   "id": "dc4b474c-e94c-4fb2-9414-067b9c755952",
   "metadata": {},
   "source": [
    "### Adata saving"
   ]
  },
  {
   "cell_type": "code",
   "execution_count": null,
   "id": "c6802217-99f0-41a9-be69-1c18e26b5fda",
   "metadata": {},
   "outputs": [],
   "source": [
    "adata_de_micheli_human.obs['dataset'] = 'De Micheli human'\n",
    "adata_de_micheli_human.write_h5ad('data/processed/de_micheli_human.h5')"
   ]
  },
  {
   "cell_type": "markdown",
   "id": "structural-audit",
   "metadata": {},
   "source": [
    "# Giordani 2020"
   ]
  },
  {
   "cell_type": "markdown",
   "id": "treated-reservoir",
   "metadata": {},
   "source": [
    "## Adata download and preprocessing"
   ]
  },
  {
   "cell_type": "code",
   "execution_count": null,
   "id": "cognitive-supervisor",
   "metadata": {},
   "outputs": [],
   "source": [
    "giordani_dir = os.getcwd() + '/data/giordani'\n",
    "os.makedirs(giordani_dir, exist_ok=True)"
   ]
  },
  {
   "cell_type": "code",
   "execution_count": null,
   "id": "meaningful-ethnic",
   "metadata": {},
   "outputs": [],
   "source": [
    "SRA_list = \"\"\"\n",
    "SRR8352705\n",
    "SRR8352706\n",
    "\"\"\"\n",
    "\n",
    "with open(giordani_dir + '/accession.txt', 'w') as f:\n",
    "    f.write(SRA_list)\n",
    "\n",
    "df = pd.DataFrame({'name': ['bamtofastq'], 'technology': ['10xv2'], 'targetnumcells': [5000]})\n",
    "\n",
    "df.to_csv(giordani_dir + '/metadata.tab', sep='\\t', index=None)"
   ]
  },
  {
   "cell_type": "code",
   "execution_count": null,
   "id": "pleased-blond",
   "metadata": {},
   "outputs": [],
   "source": [
    "!cd {giordani_dir} && aria2c -x 16 https://sra-pub-src-1.s3.amazonaws.com/SRR8352706/20180917_uninjured_wt_possorted_genome_bam.bam.1"
   ]
  },
  {
   "cell_type": "code",
   "execution_count": null,
   "id": "sapphire-myanmar",
   "metadata": {},
   "outputs": [],
   "source": [
    "!cd {giordani_dir} && aria2c -x 16 https://sra-pub-src-1.s3.amazonaws.com/SRR8352705/20171018_uninjured_wt_possorted_genome_bam.bam.1"
   ]
  },
  {
   "cell_type": "code",
   "execution_count": null,
   "id": "optional-compiler",
   "metadata": {},
   "outputs": [],
   "source": [
    "program_dir = '/media/seth/SETH_DATA/SETH_Alex/Programs/'"
   ]
  },
  {
   "cell_type": "code",
   "execution_count": null,
   "id": "breeding-return",
   "metadata": {},
   "outputs": [],
   "source": [
    "!cd {program_dir} && bamtofastq-1.3.2 {giordani_dir}/20171018_uninjured_wt_possorted_genome_bam.bam.1 {giordani_dir}"
   ]
  },
  {
   "cell_type": "code",
   "execution_count": null,
   "id": "unique-renaissance",
   "metadata": {},
   "outputs": [],
   "source": [
    "!cd {program_dir} && bamtofastq-1.3.2 {giordani_dir}/20180917_uninjured_wt_possorted_genome_bam.bam.1.1 {giordani_dir}"
   ]
  },
  {
   "cell_type": "code",
   "execution_count": null,
   "id": "alert-insert",
   "metadata": {},
   "outputs": [],
   "source": [
    "bamdata_str_20171018 = ''\n",
    "for ROOT, DIR, FILES in os.walk(giordani_dir + f'/bam_20171018'):\n",
    "    for R1_file in FILES:\n",
    "        if \"_R1_\" in R1_file:\n",
    "            R2_file = R1_file.replace('_R1_', '_R2_')\n",
    "            bamdata_str_20171018 += f\"{ROOT}/{R1_file} {ROOT}/{R2_file} \"\n",
    "\n",
    "bamdata_str_20180917 = ''\n",
    "for ROOT, DIR, FILES in os.walk(giordani_dir + f'/bam_20180917'):\n",
    "    for R1_file in FILES:\n",
    "        if \"_R1_\" in R1_file:\n",
    "            R2_file = R1_file.replace('_R1_', '_R2_')\n",
    "            bamdata_str_20180917 += f\"{ROOT}/{R1_file} {ROOT}/{R2_file} \"\n"
   ]
  },
  {
   "cell_type": "code",
   "execution_count": null,
   "id": "casual-tucson",
   "metadata": {},
   "outputs": [],
   "source": [
    "!loompy fromfq {giordani_dir}/giordani_20171018.loom bamtofastq /media/seth/SETH_DATA/SETH_Alex/Programs/mouse_GRCm38_gencode.v31 {giordani_dir}/metadata.tab {bamdata_str_20171018}"
   ]
  },
  {
   "cell_type": "code",
   "execution_count": null,
   "id": "manual-johnson",
   "metadata": {},
   "outputs": [],
   "source": [
    "!loompy fromfq {giordani_dir}/giordani_20180917.loom bamtofastq /media/seth/SETH_DATA/SETH_Alex/Programs/mouse_GRCm38_gencode.v31 {giordani_dir}/metadata.tab {bamdata_str_20180917}"
   ]
  },
  {
   "cell_type": "code",
   "execution_count": null,
   "id": "working-calgary",
   "metadata": {},
   "outputs": [],
   "source": [
    "adata_giordani_20180917 = sc.read_loom(data_dir+'/giordani/giordani_20180917.loom')\n",
    "adata_giordani_20180917.var_names_make_unique()\n",
    "adata_giordani_20171018 = sc.read_loom(data_dir+'/giordani/giordani_20171018.loom')\n",
    "adata_giordani_20171018.var_names_make_unique()"
   ]
  },
  {
   "cell_type": "code",
   "execution_count": null,
   "id": "afraid-timber",
   "metadata": {},
   "outputs": [],
   "source": [
    "adata_giordani = sc.AnnData.concatenate(adata_giordani_20180917, adata_giordani_20171018)"
   ]
  },
  {
   "cell_type": "code",
   "execution_count": null,
   "id": "respiratory-freedom",
   "metadata": {},
   "outputs": [],
   "source": [
    "# Basic QC filtering\n",
    "adata_giordani.var['mt'] = adata_giordani.var_names.str.startswith('mt-')  # annotate the group of mitochondrial genes as 'mt'\n",
    "sc.pp.calculate_qc_metrics(adata_giordani, qc_vars=['mt'], percent_top=None, inplace=True)"
   ]
  },
  {
   "cell_type": "code",
   "execution_count": null,
   "id": "governing-rocket",
   "metadata": {},
   "outputs": [],
   "source": [
    "len(np.sum(adata_giordani.X.todense(), 1).ravel().tolist()[0])"
   ]
  },
  {
   "cell_type": "code",
   "execution_count": null,
   "id": "powerful-buffalo",
   "metadata": {},
   "outputs": [],
   "source": [
    "h = plt.hist(np.sum(adata_giordani.X.todense(), 1).ravel().tolist()[0], bins=100)"
   ]
  },
  {
   "cell_type": "code",
   "execution_count": null,
   "id": "individual-census",
   "metadata": {},
   "outputs": [],
   "source": [
    "sc.pl.violin(adata_giordani, ['n_genes_by_counts', 'total_counts', 'pct_counts_mt'],\n",
    "             jitter=0.4, multi_panel=True)\n",
    "\n",
    "sc.pl.scatter(adata_giordani, x='total_counts', y='pct_counts_mt')\n",
    "sc.pl.scatter(adata_giordani, x='total_counts', y='n_genes_by_counts', color='batch')"
   ]
  },
  {
   "cell_type": "code",
   "execution_count": null,
   "id": "natural-richardson",
   "metadata": {},
   "outputs": [],
   "source": [
    "sc.pp.filter_cells(adata_giordani, min_genes=250)\n",
    "sc.pp.filter_genes(adata_giordani, min_cells=1)\n",
    "adata_giordani = adata_giordani[adata_giordani.obs['pct_counts_mt'] < 20]"
   ]
  },
  {
   "cell_type": "code",
   "execution_count": null,
   "id": "direct-appreciation",
   "metadata": {},
   "outputs": [],
   "source": [
    "sc.pp.filter_genes(adata_giordani, min_cells=1)\n",
    "sc.pp.normalize_per_cell(adata_giordani)\n",
    "sc.pp.log1p(adata_giordani)"
   ]
  },
  {
   "cell_type": "code",
   "execution_count": null,
   "id": "meaning-drill",
   "metadata": {},
   "outputs": [],
   "source": [
    "sc.pp.pca(adata_giordani, random_state=seed, n_comps=30)\n",
    "sce.pp.bbknn(adata_giordani)\n",
    "tk.tl.triku(adata_giordani, n_procs=1, random_state=seed, use_adata_knn=True)"
   ]
  },
  {
   "cell_type": "code",
   "execution_count": null,
   "id": "graduate-content",
   "metadata": {},
   "outputs": [],
   "source": [
    "sc.tl.umap(adata_giordani, min_dist=0.3, random_state=seed)\n",
    "sc.tl.leiden(adata_giordani, resolution=1.3, random_state=seed)\n",
    "sc.pl.umap(adata_giordani, color=['leiden', 'batch', 'n_genes_by_counts'], legend_loc='on data')"
   ]
  },
  {
   "cell_type": "markdown",
   "id": "amateur-fifth",
   "metadata": {},
   "source": [
    "## Population characterization"
   ]
  },
  {
   "cell_type": "code",
   "execution_count": null,
   "id": "b1d5efc8-0995-4503-b74d-41e711e8f3f4",
   "metadata": {},
   "outputs": [],
   "source": [
    "assign_cats(adata_giordani, dict_cats_general, column_groupby='leiden', quantile_gene_sel=0.7, do_return=False, intermediate_states=False, diff=0.05, \n",
    "                key_added='cell_type', min_score=0.3, others_name='unassigned')"
   ]
  },
  {
   "cell_type": "code",
   "execution_count": null,
   "id": "6eb88156-c8c9-4f3e-8f14-90462980e31f",
   "metadata": {},
   "outputs": [],
   "source": [
    "for cat in dict_cats_general.keys():\n",
    "    print(cat)\n",
    "    sc.pl.umap(adata_giordani, color=['cell_type'] + dict_cats_general[cat], ncols=3, cmap=magma)"
   ]
  },
  {
   "cell_type": "code",
   "execution_count": null,
   "id": "8f3e4a9f-6ae3-4fdc-a2ed-a8ea9ec467fa",
   "metadata": {},
   "outputs": [],
   "source": [
    "sc.pl.umap(adata_giordani, color=['cell_type'] + ['Saa1', 'Shisa3', 'Col9a2'], ncols=3, cmap=magma)"
   ]
  },
  {
   "cell_type": "markdown",
   "id": "2f75c5e6-c93f-47bf-9d25-8bc155aec511",
   "metadata": {},
   "source": [
    "### Adata saving"
   ]
  },
  {
   "cell_type": "code",
   "execution_count": null,
   "id": "e28ebc31-2e0b-4521-a461-8f1cfe3f4128",
   "metadata": {},
   "outputs": [],
   "source": [
    "adata_giordani.obs['dataset'] = 'Giordani'\n",
    "adata_giordani.write_h5ad('data/processed/giordani.h5')"
   ]
  },
  {
   "cell_type": "markdown",
   "id": "cathedral-medication",
   "metadata": {},
   "source": [
    "# Proietti 2021"
   ]
  },
  {
   "cell_type": "markdown",
   "id": "handy-shell",
   "metadata": {},
   "source": [
    "## Adata download and preprocessing"
   ]
  },
  {
   "cell_type": "code",
   "execution_count": null,
   "id": "pointed-dressing",
   "metadata": {},
   "outputs": [],
   "source": [
    "proietti_dir = os.getcwd() + '/data/proietti_2021'\n",
    "os.makedirs(proietti_dir, exist_ok=True)\n",
    "\n",
    "mouse_gencode_dir = '/media/seth/SETH_DATA/SETH_Alex/Programs/mouse_GRCm38_gencode.v31'"
   ]
  },
  {
   "cell_type": "code",
   "execution_count": null,
   "id": "cultural-ceremony",
   "metadata": {},
   "outputs": [],
   "source": [
    "SRA_list_ITGA_muscle_PRJNA626530_DEN = ['SRR11574458', 'SRR11574462', 'SRR11574463', 'SRR11574464']\n",
    "SRA_list_ITGA_muscle_PRJNA626530_CTRL = ['SRR11574459', 'SRR11574460', 'SRR11574461', 'SRR11574465']"
   ]
  },
  {
   "cell_type": "code",
   "execution_count": null,
   "id": "mature-eating",
   "metadata": {},
   "outputs": [],
   "source": [
    "df = pd.DataFrame({'name': ['PRJNA626530_DEN', 'PRJNA626530_CTRL'], \n",
    "                   'technology': ['10xv3'] * 2, \n",
    "                   'targetnumcells': [6000] * 2})\n",
    "\n",
    "df.to_csv(proietti_dir + '/metadata.tab', sep='\\t', index=None)"
   ]
  },
  {
   "cell_type": "code",
   "execution_count": null,
   "id": "unlikely-berry",
   "metadata": {},
   "outputs": [],
   "source": [
    "for idx, name in enumerate(SRA_list_ITGA_muscle_PRJNA626530_DEN):\n",
    "    os.system(f'cd {proietti_dir} && parallel-fastq-dump -s {name} -t {16} --split-files -O . --tmpdir tmp --gzip')\n",
    "    os.system(f'cd {proietti_dir} && mv {name}_1.fastq.gz PRJNA626530_DEN_L00{idx+1}_R1_001.fastq.gz')\n",
    "    os.system(f'cd {proietti_dir} && mv {name}_2.fastq.gz PRJNA626530_DEN_L00{idx+1}_R2_001.fastq.gz')\n",
    "\n",
    "for idx, name in enumerate(SRA_list_ITGA_muscle_PRJNA626530_CTRL):\n",
    "    os.system(f'cd {proietti_dir} && parallel-fastq-dump -s {name} -t {16} --split-files -O . --tmpdir tmp --gzip')\n",
    "    os.system(f'cd {proietti_dir} && mv {name}_1.fastq.gz PRJNA626530_CTRL_L00{idx+1}_R1_001.fastq.gz')\n",
    "    os.system(f'cd {proietti_dir} && mv {name}_2.fastq.gz PRJNA626530_CTRL_L00{idx+1}_R2_001.fastq.gz')"
   ]
  },
  {
   "cell_type": "code",
   "execution_count": null,
   "id": "moral-vehicle",
   "metadata": {},
   "outputs": [],
   "source": [
    "print(f'''cd {proietti_dir} && loompy fromfq PRJNA626530_DEN.loom PRJNA626530_DEN {mouse_gencode_dir} metadata.tab \n",
    "      PRJNA626530_DEN_L001_R1_001.fastq.gz PRJNA626530_DEN_L001_R2_001.fastq.gz \n",
    "      PRJNA626530_DEN_L002_R1_001.fastq.gz PRJNA626530_DEN_L002_R2_001.fastq.gz \n",
    "      PRJNA626530_DEN_L003_R1_001.fastq.gz PRJNA626530_DEN_L003_R2_001.fastq.gz \n",
    "      PRJNA626530_DEN_L004_R1_001.fastq.gz PRJNA626530_DEN_L004_R2_001.fastq.gz''')"
   ]
  },
  {
   "cell_type": "code",
   "execution_count": null,
   "id": "lined-cowboy",
   "metadata": {},
   "outputs": [],
   "source": [
    "os.system(f'''cd {proietti_dir} && loompy fromfq PRJNA626530_DEN.loom PRJNA626530_DEN {mouse_gencode_dir} metadata.tab \n",
    "      PRJNA626530_DEN_L001_R1_001.fastq.gz PRJNA626530_DEN_L001_R2_001.fastq.gz \n",
    "      PRJNA626530_DEN_L002_R1_001.fastq.gz PRJNA626530_DEN_L002_R2_001.fastq.gz \n",
    "      PRJNA626530_DEN_L003_R1_001.fastq.gz PRJNA626530_DEN_L003_R2_001.fastq.gz \n",
    "      PRJNA626530_DEN_L004_R1_001.fastq.gz PRJNA626530_DEN_L004_R2_001.fastq.gz''')"
   ]
  },
  {
   "cell_type": "code",
   "execution_count": null,
   "id": "behind-analysis",
   "metadata": {},
   "outputs": [],
   "source": [
    "print(f'''cd {proietti_dir} && loompy fromfq PRJNA626530_CTRL.loom PRJNA626530_CTRL {mouse_gencode_dir} metadata.tab \n",
    "      PRJNA626530_CTRL_L001_R1_001.fastq.gz PRJNA626530_CTRL_L001_R2_001.fastq.gz \n",
    "      PRJNA626530_CTRL_L002_R1_001.fastq.gz PRJNA626530_CTRL_L002_R2_001.fastq.gz \n",
    "      PRJNA626530_CTRL_L003_R1_001.fastq.gz PRJNA626530_CTRL_L003_R2_001.fastq.gz \n",
    "      PRJNA626530_CTRL_L004_R1_001.fastq.gz PRJNA626530_CTRL_L004_R2_001.fastq.gz''')"
   ]
  },
  {
   "cell_type": "code",
   "execution_count": null,
   "id": "increased-bristol",
   "metadata": {},
   "outputs": [],
   "source": [
    "os.system(f'''cd {proietti_dir} && loompy fromfq PRJNA626530_CTRL.loom PRJNA626530_CTRL {mouse_gencode_dir} metadata.tab \n",
    "      PRJNA626530_CTRL_L001_R1_001.fastq.gz PRJNA626530_CTRL_L001_R2_001.fastq.gz \n",
    "      PRJNA626530_CTRL_L002_R1_001.fastq.gz PRJNA626530_CTRL_L002_R2_001.fastq.gz \n",
    "      PRJNA626530_CTRL_L003_R1_001.fastq.gz PRJNA626530_CTRL_L003_R2_001.fastq.gz \n",
    "      PRJNA626530_CTRL_L004_R1_001.fastq.gz PRJNA626530_CTRL_L004_R2_001.fastq.gz''')"
   ]
  },
  {
   "cell_type": "markdown",
   "id": "informational-rolling",
   "metadata": {},
   "source": [
    "## Preprocess dataset"
   ]
  },
  {
   "cell_type": "code",
   "execution_count": null,
   "id": "endangered-photography",
   "metadata": {},
   "outputs": [],
   "source": [
    "adata_proietti_DEN = sc.read(data_dir+'/proietti_2021/PRJNA626530_DEN.loom')\n",
    "adata_proietti_DEN.var_names_make_unique()\n",
    "\n",
    "adata_proietti_CTRL = sc.read(data_dir+'/proietti_2021/PRJNA626530_CTRL.loom')\n",
    "adata_proietti_CTRL.var_names_make_unique()\n",
    "\n",
    "adata_proietti = sc.AnnData.concatenate(adata_proietti_DEN, adata_proietti_CTRL, batch_key='condition', batch_categories=['DEN', 'CTRL'])"
   ]
  },
  {
   "cell_type": "code",
   "execution_count": null,
   "id": "improving-dictionary",
   "metadata": {},
   "outputs": [],
   "source": [
    "# Basic QC filtering\n",
    "adata_proietti.var['mt'] = adata_proietti.var_names.str.startswith('mt-')  # annotate the group of mitochondrial genes as 'mt'\n",
    "sc.pp.calculate_qc_metrics(adata_proietti, qc_vars=['mt'], percent_top=None, inplace=True)"
   ]
  },
  {
   "cell_type": "code",
   "execution_count": null,
   "id": "conscious-plumbing",
   "metadata": {},
   "outputs": [],
   "source": [
    "sc.pl.violin(adata_proietti, ['n_genes_by_counts', 'total_counts', 'pct_counts_mt'],\n",
    "             jitter=0.4, multi_panel=True)\n",
    "\n",
    "sc.pl.scatter(adata_proietti, x='total_counts', y='pct_counts_mt')"
   ]
  },
  {
   "cell_type": "code",
   "execution_count": null,
   "id": "superior-jones",
   "metadata": {},
   "outputs": [],
   "source": [
    "adata_proietti = adata_proietti[adata_proietti.obs['pct_counts_mt'] < 25]\n",
    "adata_proietti = adata_proietti[adata_proietti.obs['n_genes_by_counts'] < 3000]"
   ]
  },
  {
   "cell_type": "code",
   "execution_count": null,
   "id": "thrown-metadata",
   "metadata": {},
   "outputs": [],
   "source": [
    "sc.pp.filter_cells(adata_proietti, min_genes=250)\n",
    "sc.pp.filter_genes(adata_proietti, min_cells=5)"
   ]
  },
  {
   "cell_type": "code",
   "execution_count": null,
   "id": "indie-progress",
   "metadata": {},
   "outputs": [],
   "source": [
    "sc.pp.normalize_per_cell(adata_proietti)\n",
    "sc.pp.log1p(adata_proietti)"
   ]
  },
  {
   "cell_type": "code",
   "execution_count": null,
   "id": "first-mistress",
   "metadata": {},
   "outputs": [],
   "source": [
    "sc.pp.pca(adata_proietti, random_state=seed, n_comps=30)\n",
    "sce.pp.bbknn(adata_proietti, metric='angular', neighbors_within_batch=3, batch_key='condition')\n",
    "tk.tl.triku(adata_proietti, n_procs=1, random_state=seed, use_adata_knn=True)"
   ]
  },
  {
   "cell_type": "code",
   "execution_count": null,
   "id": "isolated-islam",
   "metadata": {},
   "outputs": [],
   "source": [
    "sc.tl.umap(adata_proietti, min_dist=0.3, random_state=seed)\n",
    "sc.tl.leiden(adata_proietti, resolution=1.5, random_state=seed)\n",
    "sc.pl.umap(adata_proietti, color=['leiden', 'n_counts', 'condition', 'pct_counts_mt'], legend_loc='on data', cmap=magma, ncols=2)"
   ]
  },
  {
   "cell_type": "code",
   "execution_count": null,
   "id": "3b678b5b-6367-43bd-91b6-1e009953f2da",
   "metadata": {},
   "outputs": [],
   "source": [
    "assign_cats(adata_proietti, dict_cats_general, column_groupby='leiden', quantile_gene_sel=0.7, do_return=False, \n",
    "            intermediate_states=False, diff=0.05, \n",
    "                key_added='cell_type', min_score=0.35,  others_name='unassigned')"
   ]
  },
  {
   "cell_type": "code",
   "execution_count": null,
   "id": "9500b1c9-2402-4366-82aa-b06bb88af4a7",
   "metadata": {},
   "outputs": [],
   "source": [
    "for cat in dict_cats_general.keys():\n",
    "    print(cat)\n",
    "    sc.pl.umap(adata_proietti, color=['cell_type'] + dict_cats_general[cat], ncols=3, cmap=magma)"
   ]
  },
  {
   "cell_type": "markdown",
   "id": "324ff9b1-43c8-49c0-bf2a-275e05153c0c",
   "metadata": {},
   "source": [
    "### Adata saving"
   ]
  },
  {
   "cell_type": "code",
   "execution_count": null,
   "id": "fcd86ac6-9ae4-45e7-8ba0-125818e2c82e",
   "metadata": {},
   "outputs": [],
   "source": [
    "adata_proietti.obs['dataset'] = 'Proietti'\n",
    "adata_proietti.write_h5ad('data/processed/proietti.h5')"
   ]
  },
  {
   "cell_type": "markdown",
   "id": "9945f7cf-975a-49f8-ad41-558061c67b6a",
   "metadata": {},
   "source": [
    "# Ronzoni 2021"
   ]
  },
  {
   "cell_type": "markdown",
   "id": "ba34a68d-6c49-4ad6-a10f-2b1b1b0e1f20",
   "metadata": {},
   "source": [
    "## Adata download and preprocessing"
   ]
  },
  {
   "cell_type": "code",
   "execution_count": null,
   "id": "5b1632da-57d1-4f81-96c1-e78a1854e111",
   "metadata": {},
   "outputs": [],
   "source": [
    "ronzoni_dir = os.getcwd() + '/data/ronzoni'\n",
    "os.makedirs(ronzoni_dir, exist_ok=True)"
   ]
  },
  {
   "cell_type": "code",
   "execution_count": null,
   "id": "afc29d74-6c4f-4817-9abe-2722f703dd30",
   "metadata": {},
   "outputs": [],
   "source": [
    "!aria2c -x 16 -d {ronzoni_dir} https://ftp.ncbi.nlm.nih.gov/geo/samples/GSM4447nnn/GSM4447776/suppl/GSM4447776%5Fraw%5Fcounts%2Ecsv%2Egz\n",
    "!aria2c -x 16 -d {ronzoni_dir} https://ftp.ncbi.nlm.nih.gov/geo/samples/GSM4447nnn/GSM4447776/suppl/GSM4447776%5Fmetadata%2Ecsv%2Egz"
   ]
  },
  {
   "cell_type": "markdown",
   "id": "e7a6b184-211b-4e34-8fb7-04b2d665ba29",
   "metadata": {},
   "source": [
    "## Preprocess dataset"
   ]
  },
  {
   "cell_type": "code",
   "execution_count": null,
   "id": "b33780d8-fd3e-4163-81c5-f19cda8a6c5c",
   "metadata": {},
   "outputs": [],
   "source": [
    "gene2symbol = pd.read_csv('data/mouse_gene_to_symbol.txt', sep='\\t')\n",
    "dictgene2symbol = dict(zip(gene2symbol['Gene stable ID'].values, gene2symbol['Gene name'].values))"
   ]
  },
  {
   "cell_type": "code",
   "execution_count": null,
   "id": "283a47a5-2c43-4b46-8b4c-d73d28fddaaa",
   "metadata": {},
   "outputs": [],
   "source": [
    "adata_ronzoni = sc.read(ronzoni_dir+'/GSM4447776_raw_counts.csv.gz').transpose()\n",
    "\n",
    "list_names = []\n",
    "for gene in adata_ronzoni.var_names:\n",
    "    try:\n",
    "        list_names.append(dictgene2symbol[gene])\n",
    "    except:\n",
    "        list_names.append(gene)\n",
    "\n",
    "adata_ronzoni.var_names = list_names\n",
    "adata_ronzoni.var_names_make_unique()"
   ]
  },
  {
   "cell_type": "code",
   "execution_count": null,
   "id": "81e919d7-7422-4b05-abd7-58450407f8e5",
   "metadata": {},
   "outputs": [],
   "source": [
    "# Basic QC filtering\n",
    "adata_ronzoni.var['mt'] = adata_ronzoni.var_names.str.startswith('mt-')  # annotate the group of mitochondrial genes as 'mt'\n",
    "sc.pp.calculate_qc_metrics(adata_ronzoni, qc_vars=['mt'], percent_top=None, inplace=True)"
   ]
  },
  {
   "cell_type": "code",
   "execution_count": null,
   "id": "872c3883-c954-4aa9-8529-fe74f83a6dbc",
   "metadata": {},
   "outputs": [],
   "source": [
    "sc.pl.violin(adata_ronzoni, ['n_genes_by_counts', 'total_counts', 'pct_counts_mt'],\n",
    "             jitter=0.4, multi_panel=True)\n",
    "\n",
    "sc.pl.scatter(adata_ronzoni, x='total_counts', y='pct_counts_mt')"
   ]
  },
  {
   "cell_type": "code",
   "execution_count": null,
   "id": "a16e4f06-07b1-4e81-ab91-c64a2be5f084",
   "metadata": {},
   "outputs": [],
   "source": [
    "adata_ronzoni = adata_ronzoni[adata_ronzoni.obs['pct_counts_mt'] < 12]\n",
    "adata_ronzoni = adata_ronzoni[adata_ronzoni.obs['n_genes_by_counts'] < 6000]"
   ]
  },
  {
   "cell_type": "code",
   "execution_count": null,
   "id": "98b3d509-5bcf-41b2-8ff4-9517390dfa45",
   "metadata": {},
   "outputs": [],
   "source": [
    "sc.pp.filter_cells(adata_ronzoni, min_genes=250)\n",
    "sc.pp.filter_genes(adata_ronzoni, min_cells=5)"
   ]
  },
  {
   "cell_type": "code",
   "execution_count": null,
   "id": "dfe744db-c8ee-4a19-9438-deccb20890fe",
   "metadata": {},
   "outputs": [],
   "source": [
    "sc.pp.normalize_per_cell(adata_ronzoni)\n",
    "sc.pp.log1p(adata_ronzoni, base=10)"
   ]
  },
  {
   "cell_type": "code",
   "execution_count": null,
   "id": "f010023c-b6bb-4ff1-95ac-503a8b27be43",
   "metadata": {},
   "outputs": [],
   "source": [
    "sc.pp.pca(adata_ronzoni, random_state=seed, n_comps=30)\n",
    "tk.tl.triku(adata_ronzoni, n_procs=1, random_state=seed, use_adata_knn=True)\n",
    "sc.pp.neighbors(adata_ronzoni, random_state=seed)"
   ]
  },
  {
   "cell_type": "code",
   "execution_count": null,
   "id": "d3571753-442f-404b-89f7-d1381ae10017",
   "metadata": {},
   "outputs": [],
   "source": [
    "sc.tl.umap(adata_ronzoni, min_dist=0.7, random_state=seed)\n",
    "sc.tl.leiden(adata_ronzoni, resolution=0.5, random_state=seed)\n",
    "sc.pl.umap(adata_ronzoni, color=['leiden', 'n_counts'], legend_loc='on data', cmap=magma, ncols=2)"
   ]
  },
  {
   "cell_type": "code",
   "execution_count": null,
   "id": "ce86a2ad-3874-4111-9ae4-15b61aeb6ea4",
   "metadata": {},
   "outputs": [],
   "source": [
    "assign_cats(adata_ronzoni, dict_cats_general, column_groupby='leiden', quantile_gene_sel=0.7, do_return=False, intermediate_states=False, diff=0.05, \n",
    "                key_added='cell_type', min_score=0.5,  others_name='unassigned')"
   ]
  },
  {
   "cell_type": "code",
   "execution_count": null,
   "id": "e254f4f0-39b7-420a-b1af-ecabafcde8ff",
   "metadata": {},
   "outputs": [],
   "source": [
    "sc.pl.umap(adata_ronzoni, color=['cell_type'] +  ['Rgs5', 'Ndufa4l2', 'Pax7', 'Ncam2'], ncols=3, cmap=magma)"
   ]
  },
  {
   "cell_type": "code",
   "execution_count": null,
   "id": "8373fe39-c3c1-488b-be23-0125436662a0",
   "metadata": {},
   "outputs": [],
   "source": [
    "for cat in dict_cats_general.keys():\n",
    "    print(cat)\n",
    "    sc.pl.umap(adata_ronzoni, color=['cell_type'] + dict_cats_general[cat], ncols=3, cmap=magma)"
   ]
  },
  {
   "cell_type": "markdown",
   "id": "af54e502-bc2a-44b3-8790-2da66fe84a66",
   "metadata": {},
   "source": [
    "### Adata saving"
   ]
  },
  {
   "cell_type": "code",
   "execution_count": null,
   "id": "eda93128-198d-4add-be27-6cf51fb21015",
   "metadata": {},
   "outputs": [],
   "source": [
    "adata_ronzoni.obs['dataset'] = 'Ronzoni'\n",
    "adata_ronzoni.write_h5ad('data/processed/ronzoni.h5')"
   ]
  },
  {
   "cell_type": "markdown",
   "id": "f0b5accc-57c2-4d54-9703-b96c25f91ba2",
   "metadata": {},
   "source": [
    "# Dell'Orso 2019"
   ]
  },
  {
   "cell_type": "markdown",
   "id": "397e5605-c0a9-4bb3-b39c-264e85bc6798",
   "metadata": {},
   "source": [
    "## Adata download and preprocessing"
   ]
  },
  {
   "cell_type": "code",
   "execution_count": null,
   "id": "d9bd144a-3a5f-4447-9bfe-8baff64b106a",
   "metadata": {},
   "outputs": [],
   "source": [
    "dellorso_dir = os.getcwd() + '/data/dellorso'\n",
    "os.makedirs(dellorso_dir, exist_ok=True)"
   ]
  },
  {
   "cell_type": "code",
   "execution_count": null,
   "id": "a4cff03d-47a4-4bff-bfcd-aceccc8d7289",
   "metadata": {},
   "outputs": [],
   "source": [
    "!aria2c -x 16 -d {dellorso_dir} https://ftp.ncbi.nlm.nih.gov/geo/samples/GSM3614nnn/GSM3614992/suppl/GSM3614992%5Ftotal%5Fmuscle%5Fwt%5Frep1%5Fbarcodes%2Etsv%2Egz\n",
    "!aria2c -x 16 -d {dellorso_dir} https://ftp.ncbi.nlm.nih.gov/geo/samples/GSM3614nnn/GSM3614992/suppl/GSM3614992%5Ftotal%5Fmuscle%5Fwt%5Frep1%5Fgenes%2Etsv%2Egz\n",
    "!aria2c -x 16 -d {dellorso_dir} https://ftp.ncbi.nlm.nih.gov/geo/samples/GSM3614nnn/GSM3614992/suppl/GSM3614992%5Ftotal%5Fmuscle%5Fwt%5Frep1%5Fmatrix%2Emtx%2Egz\n",
    "\n",
    "!aria2c -x 16 -d {dellorso_dir} https://ftp.ncbi.nlm.nih.gov/geo/samples/GSM3614nnn/GSM3614993/suppl/GSM3614993%5Ftotal%5Fmuscle%5Fwt%5Frep2%5Fbarcodes%2Etsv%2Egz\n",
    "!aria2c -x 16 -d {dellorso_dir} https://ftp.ncbi.nlm.nih.gov/geo/samples/GSM3614nnn/GSM3614993/suppl/GSM3614993%5Ftotal%5Fmuscle%5Fwt%5Frep2%5Fgenes%2Etsv%2Egz\n",
    "!aria2c -x 16 -d {dellorso_dir} https://ftp.ncbi.nlm.nih.gov/geo/samples/GSM3614nnn/GSM3614993/suppl/GSM3614993%5Ftotal%5Fmuscle%5Fwt%5Frep2%5Fmatrix%2Emtx%2Egz"
   ]
  },
  {
   "cell_type": "markdown",
   "id": "4310ce99-6b79-44dc-9b99-84af2fac9863",
   "metadata": {},
   "source": [
    "## Preprocess dataset"
   ]
  },
  {
   "cell_type": "code",
   "execution_count": null,
   "id": "1183570b-4e08-4773-9477-f21456f9c88c",
   "metadata": {},
   "outputs": [],
   "source": [
    "gene2symbol = pd.read_csv('data/mouse_gene_to_symbol.txt', sep='\\t')\n",
    "dictgene2symbol = dict(zip(gene2symbol['Gene stable ID'].values, gene2symbol['Gene name'].values))"
   ]
  },
  {
   "cell_type": "code",
   "execution_count": null,
   "id": "b9ad2cf2-4372-4633-afa4-8284a410f13c",
   "metadata": {},
   "outputs": [],
   "source": [
    "adata_dellorso_1 = sc.read(dellorso_dir+'/GSM3614992_total_muscle_wt_rep1_matrix.mtx.gz').transpose()\n",
    "adata_dellorso_1.obs_names = pd.read_csv(dellorso_dir+'/GSM3614992_total_muscle_wt_rep1_barcodes.tsv.gz', header=None)[0].values\n",
    "adata_dellorso_1.var_names = pd.read_csv(dellorso_dir+'/GSM3614992_total_muscle_wt_rep1_genes.tsv.gz', header=None, sep='\\t')[1].values\n",
    "adata_dellorso_1.var_names_make_unique()\n",
    "\n",
    "adata_dellorso_2 = sc.read(dellorso_dir+'/GSM3614993_total_muscle_wt_rep2_matrix.mtx.gz').transpose()\n",
    "adata_dellorso_2.obs_names = pd.read_csv(dellorso_dir+'/GSM3614993_total_muscle_wt_rep2_barcodes.tsv.gz', header=None)[0].values\n",
    "adata_dellorso_2.var_names = pd.read_csv(dellorso_dir+'/GSM3614993_total_muscle_wt_rep2_genes.tsv.gz', header=None, sep='\\t')[1].values\n",
    "adata_dellorso_2.var_names_make_unique()"
   ]
  },
  {
   "cell_type": "code",
   "execution_count": null,
   "id": "70330b39-2dcc-4ec1-8825-3745f586af15",
   "metadata": {},
   "outputs": [],
   "source": [
    "adata_dellorso = sc.AnnData.concatenate(adata_dellorso_1, adata_dellorso_2)"
   ]
  },
  {
   "cell_type": "code",
   "execution_count": null,
   "id": "2f885749-297b-40d0-967b-598d7d525015",
   "metadata": {},
   "outputs": [],
   "source": [
    "# Basic QC filtering\n",
    "adata_dellorso.var['mt'] = adata_dellorso.var_names.str.startswith('mt-')  # annotate the group of mitochondrial genes as 'mt'\n",
    "sc.pp.calculate_qc_metrics(adata_dellorso, qc_vars=['mt'], percent_top=None, inplace=True)"
   ]
  },
  {
   "cell_type": "code",
   "execution_count": null,
   "id": "6bef931b-da74-48f0-88e2-a22a80c77994",
   "metadata": {},
   "outputs": [],
   "source": [
    "sc.pl.violin(adata_dellorso, ['n_genes_by_counts', 'total_counts', 'pct_counts_mt'],\n",
    "             jitter=0.4, multi_panel=True)\n",
    "\n",
    "sc.pl.scatter(adata_dellorso, x='total_counts', y='pct_counts_mt')"
   ]
  },
  {
   "cell_type": "code",
   "execution_count": null,
   "id": "0a6ee949-d2ff-4da9-8b57-84e34befe7e0",
   "metadata": {},
   "outputs": [],
   "source": [
    "adata_dellorso = adata_dellorso[adata_dellorso.obs['pct_counts_mt'] < 2.5]\n",
    "adata_dellorso = adata_dellorso[adata_dellorso.obs['n_genes_by_counts'] < 3000]\n",
    "adata_dellorso = adata_dellorso[adata_dellorso.obs['n_genes_by_counts'] > 500]"
   ]
  },
  {
   "cell_type": "code",
   "execution_count": null,
   "id": "22325b67-a8e4-49ab-a2f8-e394a4ec42cb",
   "metadata": {},
   "outputs": [],
   "source": [
    "sc.pp.filter_cells(adata_dellorso, min_genes=250)\n",
    "sc.pp.filter_genes(adata_dellorso, min_cells=5)"
   ]
  },
  {
   "cell_type": "code",
   "execution_count": null,
   "id": "d5e22b38-242a-4eb0-af81-adfd975f87fc",
   "metadata": {},
   "outputs": [],
   "source": [
    "sc.pp.normalize_per_cell(adata_dellorso)\n",
    "sc.pp.log1p(adata_dellorso)"
   ]
  },
  {
   "cell_type": "code",
   "execution_count": null,
   "id": "7e15cce0-d510-492f-9c8a-ad7b59d94107",
   "metadata": {},
   "outputs": [],
   "source": [
    "sc.pp.pca(adata_dellorso, random_state=seed, n_comps=30)\n",
    "sce.pp.bbknn(adata_dellorso, neighbors_within_batch=3)\n",
    "tk.tl.triku(adata_dellorso, n_procs=1, random_state=seed, use_adata_knn=True)"
   ]
  },
  {
   "cell_type": "code",
   "execution_count": null,
   "id": "1427dc28-8968-4688-b99b-110980791ce6",
   "metadata": {},
   "outputs": [],
   "source": [
    "sc.tl.umap(adata_dellorso, min_dist=0.7, random_state=seed)\n",
    "sc.tl.leiden(adata_dellorso, resolution=0.8, random_state=seed)\n",
    "sc.pl.umap(adata_dellorso, color=['leiden', 'batch', 'total_counts'], legend_loc='on data', cmap=magma, ncols=2)"
   ]
  },
  {
   "cell_type": "code",
   "execution_count": null,
   "id": "aa12c088-5b9a-40a7-af2b-802d3f9f63c2",
   "metadata": {},
   "outputs": [],
   "source": [
    "assign_cats(adata_dellorso, dict_cats_general, column_groupby='leiden', quantile_gene_sel=0.7, do_return=False, intermediate_states=False, diff=0.05, \n",
    "                key_added='cell_type', min_score=0.5,  others_name='unassigned')"
   ]
  },
  {
   "cell_type": "code",
   "execution_count": null,
   "id": "6ec26429-a875-4fb4-89c3-98df7fc58db3",
   "metadata": {},
   "outputs": [],
   "source": [
    "sc.pl.umap(adata_dellorso, color=['cell_type'] + ['Mpz', 'S100b'], ncols=3, cmap=magma)"
   ]
  },
  {
   "cell_type": "code",
   "execution_count": null,
   "id": "495b26ac-f217-4ca1-9569-15602987289e",
   "metadata": {},
   "outputs": [],
   "source": [
    "for cat in dict_cats_general.keys():\n",
    "    print(cat)\n",
    "    sc.pl.umap(adata_dellorso, color=['cell_type'] + dict_cats_general[cat], ncols=3, cmap=magma)"
   ]
  },
  {
   "cell_type": "markdown",
   "id": "6cb5983a-afe3-446e-8e4d-d630d0bbb1a7",
   "metadata": {},
   "source": [
    "### Adata saving"
   ]
  },
  {
   "cell_type": "code",
   "execution_count": null,
   "id": "de2fd336-14e3-4c70-8ae3-2db4df06910f",
   "metadata": {},
   "outputs": [],
   "source": [
    "adata_dellorso.obs['dataset'] = \"Dell'Orso\"\n",
    "adata_dellorso.write_h5ad('data/processed/dellorso.h5')"
   ]
  },
  {
   "cell_type": "code",
   "execution_count": null,
   "id": "bbd6e62b-cb40-4f48-b4bb-f608398b351d",
   "metadata": {},
   "outputs": [],
   "source": []
  }
 ],
 "metadata": {
  "kernelspec": {
   "display_name": "Python [conda env:alex-base] *",
   "language": "python",
   "name": "conda-env-alex-base-py"
  },
  "language_info": {
   "codemirror_mode": {
    "name": "ipython",
    "version": 3
   },
   "file_extension": ".py",
   "mimetype": "text/x-python",
   "name": "python",
   "nbconvert_exporter": "python",
   "pygments_lexer": "ipython3",
   "version": "3.8.0"
  }
 },
 "nbformat": 4,
 "nbformat_minor": 5
}
